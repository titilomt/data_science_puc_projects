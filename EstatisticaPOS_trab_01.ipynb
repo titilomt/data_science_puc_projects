{
  "nbformat": 4,
  "nbformat_minor": 0,
  "metadata": {
    "colab": {
      "name": "EstatisticaPOS_trab_01.ipynb",
      "provenance": [],
      "collapsed_sections": [
        "IrU-m4_EvGEY",
        "MahlRKW6vT7w"
      ],
      "toc_visible": true,
      "authorship_tag": "ABX9TyNyD3bRmtKL1MgqbIulPoSP",
      "include_colab_link": true
    },
    "kernelspec": {
      "name": "python3",
      "display_name": "Python 3"
    }
  },
  "cells": [
    {
      "cell_type": "markdown",
      "metadata": {
        "id": "view-in-github",
        "colab_type": "text"
      },
      "source": [
        "<a href=\"https://colab.research.google.com/github/titilomt/data_science_puc_projects/blob/master/EstatisticaPOS_trab_01.ipynb\" target=\"_parent\"><img src=\"https://colab.research.google.com/assets/colab-badge.svg\" alt=\"Open In Colab\"/></a>"
      ]
    },
    {
      "cell_type": "markdown",
      "metadata": {
        "id": "kTj6wQ9fWSo1",
        "colab_type": "text"
      },
      "source": [
        "# PÓS-GRADUAÇÃO EM CIÊNCIAS DE DADOS E BIG DATA ESTATISTICA GERAL\n",
        "\n",
        "## Considerações \n",
        "\n",
        "***Todos os csv estão disponíveis no github na pasta csv*** \n",
        "\n",
        "Link para os csv: https://github.com/titilomt/data_science_puc_projects/tree/master/csv\n",
        "\n",
        "## Trabalho 01 - Estatistica descritiva\n",
        "\n",
        "### Exercicio 01 - Fabrica de azulejos\n",
        "\n",
        "#### Situação Problema\n",
        "Uma fábrica de azulejos recentemente começou a receber reclamações de seus clientes. A maioria das\n",
        "reclamações era relativa aos seguintes problemas:\n",
        "- Os azulejos, ao serem manuseados, quebravam-se facilmente\n",
        "- O assentamento dos azulejos não produzia um resultado uniforme em relação ao nível da parede.\n",
        "\n",
        "#### Hipóteses\n",
        "\n",
        "Em vista dessa situação, o gerente de vendas da indústria decidiu formar um grupo de trabalho para estudar estes\n",
        "problemas. Na primeira fase do estudo, o grupo de trabalho concluiu que a produção de azulejos com espessura não\n",
        "adequada poderia ser a causa dos problemas relatados pelos clientes. Esta conclusão resultou do conhecimento dos\n",
        "seguintes fatos:\n",
        "- Azulejos com espessura muito fina quebram-se facilmente.\n",
        "- A falta de uniformidade na espessura dos azulejos provoca dificuldades durante o seu assentamento.\n",
        "\n",
        "#### Premissas\n",
        "\n",
        "Sabe-se que os limites de especificação para a espessura dos azulejos são 5,0 +- 1.5mm, ou seja, a\n",
        "espessura dos azulejos deve variar entre 3.5 a 6.5 mm, sendo o valor nominal de especificação igual a 5.0 mm.\n",
        "\n"
      ]
    },
    {
      "cell_type": "markdown",
      "metadata": {
        "id": "n3cUHhDnYCNh",
        "colab_type": "text"
      },
      "source": [
        "### Análise\n",
        "\n",
        "Para avaliar se estavam ocorrendo problemas com a espessura dos azulejos produzidos, o grupo decidiu\n",
        "retirar uma amostra aleatória dos azulejos fabricados pela empresa, medir a espessura destes azulejos e\n",
        "comparar os resultados obtidos com as especificações. Como a indústria empregava duas turmas de trabalho\n",
        "(turmas A e B) e poderia haver diferença na qualidade dos azulejos produzidos por cada turma, foi utilizada\n",
        "uma estratificação, sendo então retirada uma amostra de 80 azulejos produzidos pela turma A e 80\n",
        "fabricados pela turma B. Os dados com as medidas de espessura (em mm) de 160 azulejos produzidos pela fábrica\n",
        "separados por turma de trabalho coletados estão apresentados no arquivo **Azulejo.csv**"
      ]
    },
    {
      "cell_type": "code",
      "metadata": {
        "id": "vg41rfVmaFCy",
        "colab_type": "code",
        "colab": {}
      },
      "source": [
        "# \n",
        "# Importações nescessárias para este Trabalho\n",
        "# \n",
        "import pandas as pd\n",
        "import matplotlib.pyplot as plt\n",
        "\n",
        "import seaborn as sns\n",
        "\n",
        "import json"
      ],
      "execution_count": 5,
      "outputs": []
    },
    {
      "cell_type": "code",
      "metadata": {
        "id": "JYQYHE6_bkLd",
        "colab_type": "code",
        "colab": {
          "base_uri": "https://localhost:8080/",
          "height": 357
        },
        "outputId": "bb687aeb-fa88-442e-e7fa-16eafd569156"
      },
      "source": [
        "# Inicializando DataFrame\n",
        "\n",
        "df_azulejo = pd.read_csv('/tmp/Azulejo.csv', sep=';')\n",
        "\n",
        "# Transformando str para float\n",
        "\n",
        "df_azulejo['Espessura'] = df_azulejo.Espessura.str.replace(',', '.').astype(float)\n",
        "\n",
        "# Descrevendo dados da tabela de Azulejos\n",
        "# Informações sobre a table\n",
        "df_azulejo.info()\n",
        "\n",
        "# Descrição das variáveis Mapeadas\n",
        " \n",
        "print(\"\"\"\n",
        "\n",
        "Variáveis mapeadas: \n",
        "-----------------------------------\n",
        "|    Espessura    |    Turma      |\n",
        "-----------------------------------\n",
        "|    Quantitativa |   Qualitativa |\n",
        "|      Discreta   |     nominal   |\n",
        "-----------------------------------\n",
        "\n",
        "\"\"\")"
      ],
      "execution_count": null,
      "outputs": [
        {
          "output_type": "stream",
          "text": [
            "<class 'pandas.core.frame.DataFrame'>\n",
            "RangeIndex: 160 entries, 0 to 159\n",
            "Data columns (total 2 columns):\n",
            " #   Column     Non-Null Count  Dtype  \n",
            "---  ------     --------------  -----  \n",
            " 0   Espessura  160 non-null    float64\n",
            " 1   Turma      160 non-null    object \n",
            "dtypes: float64(1), object(1)\n",
            "memory usage: 2.6+ KB\n",
            "\n",
            "\n",
            "Variáveis mapeadas: \n",
            "-----------------------------------\n",
            "|    Espessura    |    Turma      |\n",
            "-----------------------------------\n",
            "|    Quantitativa |   Qualitativa |\n",
            "|      Discreta   |     nominal   |\n",
            "-----------------------------------\n",
            "\n",
            "\n"
          ],
          "name": "stdout"
        }
      ]
    },
    {
      "cell_type": "code",
      "metadata": {
        "id": "F6IwAyiXmYKI",
        "colab_type": "code",
        "colab": {
          "base_uri": "https://localhost:8080/",
          "height": 466
        },
        "outputId": "0ae0d8fe-8783-4f95-86c0-f1bed26d80b5"
      },
      "source": [
        "#\n",
        "# VARIAVEIS QUALITATIVAS NOMINAIS\n",
        "# Explorando Dados Categoricos Nominais\n",
        "\n",
        "type_counts = df_azulejo['Turma'].value_counts() # Conta valores de acordo com Turmas\n",
        "\n",
        "df_turmas_type = pd.DataFrame({'turma_type': type_counts}, index=['A', 'B'])\n",
        "\n",
        "df_turmas_type.plot.pie(y='turma_type', figsize=(10,8), autopct='%1.1f%%')\n",
        "\n",
        "plt.show()"
      ],
      "execution_count": null,
      "outputs": [
        {
          "output_type": "display_data",
          "data": {
            "image/png": "[encoded data removed]",
            "text/plain": [
              "<Figure size 720x576 with 1 Axes>"
            ]
          },
          "metadata": {
            "tags": []
          }
        }
      ]
    },
    {
      "cell_type": "code",
      "metadata": {
        "id": "Gu61qE7paH4t",
        "colab_type": "code",
        "colab": {
          "base_uri": "https://localhost:8080/",
          "height": 502
        },
        "outputId": "c63acf2d-c046-4fc4-e627-9718952dc6d5"
      },
      "source": [
        "# Boxplot grafico para distribuição numerica de Turmas A x B\n",
        "%matplotlib inline\n",
        "\n",
        "sns.set(style=\"whitegrid\")\n",
        "plt.figure(figsize=(10,8))\n",
        "ax = sns.boxplot(x='Turma', y='Espessura', data=df_azulejo, orient=\"v\")"
      ],
      "execution_count": null,
      "outputs": [
        {
          "output_type": "display_data",
          "data": {
            "image/png": "[encoded data removed]",
            "text/plain": [
              "<Figure size 720x576 with 1 Axes>"
            ]
          },
          "metadata": {
            "tags": []
          }
        }
      ]
    },
    {
      "cell_type": "code",
      "metadata": {
        "id": "NWeCbYY9mx7l",
        "colab_type": "code",
        "colab": {
          "base_uri": "https://localhost:8080/",
          "height": 502
        },
        "outputId": "9206592c-03c8-4131-d120-c7f04e17e6c6"
      },
      "source": [
        "# Grafico de Barras contagem de Azulejos produzidos por Turmas A x B\n",
        "\n",
        "sns.set(style='darkgrid')\n",
        "plt.figure(figsize=(10,8))\n",
        "ax = sns.countplot(x='Turma', data=df_azulejo)\n",
        "ax.set(ylabel='Quantidade')\n",
        "plt.show()"
      ],
      "execution_count": null,
      "outputs": [
        {
          "output_type": "display_data",
          "data": {
            "image/png": "[encoded data removed]",
            "text/plain": [
              "<Figure size 720x576 with 1 Axes>"
            ]
          },
          "metadata": {
            "tags": []
          }
        }
      ]
    },
    {
      "cell_type": "code",
      "metadata": {
        "id": "IocNGXbVmhvI",
        "colab_type": "code",
        "colab": {
          "base_uri": "https://localhost:8080/",
          "height": 153
        },
        "outputId": "ac687c99-4f03-49bf-e12e-ff0690cf0f23"
      },
      "source": [
        "# ------------------------------------------------------------------------------\n",
        "# VARIAVEIS QUANTITATIVAS DISCRETAS\n",
        "# Descrição de variáveis numericas \n",
        "\n",
        "print('Descrição de variações numericas: \\n', df_azulejo['Espessura'].agg(['min', 'max', 'mean', 'std', 'median']).round(decimals=2), sep='\\n')\n"
      ],
      "execution_count": null,
      "outputs": [
        {
          "output_type": "stream",
          "text": [
            "Descrição de variações numericas: \n",
            "\n",
            "min       2.30\n",
            "max       7.00\n",
            "mean      4.87\n",
            "std       1.23\n",
            "median    5.30\n",
            "Name: Espessura, dtype: float64\n"
          ],
          "name": "stdout"
        }
      ]
    },
    {
      "cell_type": "code",
      "metadata": {
        "id": "-ukMgPqLgxYu",
        "colab_type": "code",
        "colab": {
          "base_uri": "https://localhost:8080/",
          "height": 339
        },
        "outputId": "d1f03998-de78-45c1-d222-db77a7fa275d"
      },
      "source": [
        "# Histograma geral de Tabela de Azulejos\n",
        "\n",
        "filter_data = df_azulejo.dropna(subset=['Espessura']) # Removendo valores nulos de Serie Espessura\n",
        "plt.figure(figsize=(10,5)) # configurando Tamanho do gráfico\n",
        "ax = sns.distplot(filter_data['Espessura'], kde=False, bins=11) # plotando grafico de Histrograma\n",
        "ax.set_xlim(2, 7.5)\n",
        "plt.show()"
      ],
      "execution_count": null,
      "outputs": [
        {
          "output_type": "display_data",
          "data": {
            "image/png": "[encoded data removed]",
            "text/plain": [
              "<Figure size 720x360 with 1 Axes>"
            ]
          },
          "metadata": {
            "tags": []
          }
        }
      ]
    },
    {
      "cell_type": "code",
      "metadata": {
        "id": "AjkLwtjphV_Q",
        "colab_type": "code",
        "colab": {
          "base_uri": "https://localhost:8080/",
          "height": 333
        },
        "outputId": "135ee266-e5cb-49b3-d1e7-0487782da46a"
      },
      "source": [
        "# Composição do Gráfico Histograma variáveis numericas Para turmas A e B separadamente\n",
        "\n",
        "df_azulejo.hist(figsize=(10,5), bins=12, range=(2, 7.5), column='Espessura', by='Turma')\n",
        "plt.show()"
      ],
      "execution_count": null,
      "outputs": [
        {
          "output_type": "display_data",
          "data": {
            "image/png": "[encoded data removed]",
            "text/plain": [
              "<Figure size 720x360 with 2 Axes>"
            ]
          },
          "metadata": {
            "tags": []
          }
        }
      ]
    },
    {
      "cell_type": "markdown",
      "metadata": {
        "id": "UjJoMiPZ7PdV",
        "colab_type": "text"
      },
      "source": [
        "### Perguntas a serem respondidas:\n",
        "\n",
        "a) Você considera que a *“espessura não adequada dos azulejos”* pode ser considerada como uma causa influente dos problemas detectados? Justifique sua resposta.\n",
        "\n",
        "b) Qual é a forma da distribuição das medidas de espessura dos azulejos produzidos pela fábrica?\n",
        "\n",
        "c) As proporções de itens produzidos fora da especificação estão relacionadas com as hipóteses da situação problema? Justifique.\n",
        "\n",
        "### Respostas: \n",
        "\n",
        "a) Sim. Como diz a premissa os azulejos, para que tenham uma garantia de qualidade, devem estar dentro do limite especificado para a espessura dos azulejos.\n",
        "\n",
        "b) Apessar de o gráfico mostrar que tem uma tendencia media muito forte, a forma da distribuição dos azulejos é Assimétrico à esquerda.\n",
        "\n",
        "c) Sim, pois como apresentado pelo gráfico de histograma, temos uma frequencia alta de azulejos produzidos fora da especificação, apesar de a grande maioria estar presente no intervalo de 3.5 a 6.5 mm."
      ]
    },
    {
      "cell_type": "code",
      "metadata": {
        "id": "AkbPEWq5kroS",
        "colab_type": "code",
        "colab": {
          "base_uri": "https://localhost:8080/",
          "height": 289
        },
        "outputId": "a23c0242-6221-458b-86be-3c82733f84e3"
      },
      "source": [
        "# \n",
        "# Examinando variáveis Espessura de Turmas A e B separadamente do todo\n",
        "# \n",
        "\n",
        "df_turma_A = pd.DataFrame({'Espessura': df_azulejo.query(\"Turma == 'A'\")['Espessura'].tolist()}, columns=['Espessura'])\n",
        "df_turma_B = pd.DataFrame({'Espessura': df_azulejo.query(\"Turma == 'B'\")['Espessura'].tolist()}, columns=['Espessura'])\n",
        "\n",
        "print('\\nDescrição de variações numericas Turma A:', df_turma_A['Espessura'].agg(['min', 'max', 'mean', 'std', 'median']).round(decimals=2), sep='\\n')\n",
        "print('\\nDescrição de variações numericas Turma B:', df_turma_B['Espessura'].agg(['min', 'max', 'mean', 'std', 'median']).round(decimals=2), sep='\\n')\n",
        "\n"
      ],
      "execution_count": null,
      "outputs": [
        {
          "output_type": "stream",
          "text": [
            "\n",
            "Descrição de variações numericas Turma A:\n",
            "min       2.30\n",
            "max       5.90\n",
            "mean      3.86\n",
            "std       0.87\n",
            "median    3.80\n",
            "Name: Espessura, dtype: float64\n",
            "\n",
            "Descrição de variações numericas Turma B:\n",
            "min       4.90\n",
            "max       7.00\n",
            "mean      5.87\n",
            "std       0.48\n",
            "median    5.80\n",
            "Name: Espessura, dtype: float64\n"
          ],
          "name": "stdout"
        }
      ]
    },
    {
      "cell_type": "code",
      "metadata": {
        "id": "PUni21jPAq9j",
        "colab_type": "code",
        "colab": {
          "base_uri": "https://localhost:8080/",
          "height": 170
        },
        "outputId": "2cf07f1a-52ca-45ad-b1b3-0177da167803"
      },
      "source": [
        "#\n",
        "# Dicionario de possibilidades \n",
        "# \n",
        "likelihood = {}\n",
        "\n",
        "# seleção de eventos para calcular probabilidade\n",
        "\n",
        "selecao_a_fora_spec = (df_turma_A['Espessura'] < 3.5) | (df_turma_A['Espessura'] > 6.5)\n",
        "selecao_b_fora_spec = (df_turma_B['Espessura'] < 3.5) | (df_turma_B['Espessura'] > 6.5)\n",
        "selecao_a_acima_spec = (df_turma_A['Espessura'] > 6.5)\n",
        "selecao_b_acima_spec = (df_turma_B['Espessura'] > 6.5)\n",
        "selecao_a_abaixo_spec = (df_turma_A['Espessura'] < 3.5)\n",
        "selecao_b_abaixo_spec = (df_turma_B['Espessura'] < 3.5)\n",
        "\n",
        "# Calculo de probabilidade \n",
        "prob_fora_espc_A = len(df_turma_A[\"Espessura\"][selecao_a_fora_spec])/len(df_turma_A[\"Espessura\"])\n",
        "prob_fora_espc_B = len(df_turma_B[\"Espessura\"][selecao_b_fora_spec])/len(df_turma_B[\"Espessura\"])\n",
        "prob_acima_espc_A = len(df_turma_A[\"Espessura\"][selecao_a_acima_spec])/len(df_turma_A[\"Espessura\"])\n",
        "prob_acima_espc_B = len(df_turma_B[\"Espessura\"][selecao_b_acima_spec])/len(df_turma_B[\"Espessura\"])\n",
        "prob_abaixo_espc_A = len(df_turma_A[\"Espessura\"][selecao_a_abaixo_spec])/len(df_turma_A[\"Espessura\"])\n",
        "prob_abaixo_espc_B = len(df_turma_B[\"Espessura\"][selecao_b_abaixo_spec])/len(df_turma_B[\"Espessura\"])\n",
        "\n",
        "# Mapeando as probabilidades \n",
        "likelihood['prob_fora_espc_A'] = prob_fora_espc_A\n",
        "likelihood['prob_fora_espc_B'] = prob_fora_espc_B\n",
        "likelihood['prob_acima_espc_A'] = prob_acima_espc_A\n",
        "likelihood['prob_acima_espc_B'] = prob_acima_espc_B\n",
        "likelihood['prob_abaixo_espc_A'] = prob_abaixo_espc_A\n",
        "likelihood['prob_abaixo_espc_B'] = prob_abaixo_espc_B\n",
        "\n",
        "print(\"Probabilidades: \", json.dumps(likelihood, indent=2), sep='\\n')\n"
      ],
      "execution_count": null,
      "outputs": [
        {
          "output_type": "stream",
          "text": [
            "Probabilidades: \n",
            "{\n",
            "  \"prob_fora_espc_A\": 0.325,\n",
            "  \"prob_fora_espc_B\": 0.0875,\n",
            "  \"prob_acima_espc_A\": 0.0,\n",
            "  \"prob_acima_espc_B\": 0.0875,\n",
            "  \"prob_abaixo_espc_A\": 0.325,\n",
            "  \"prob_abaixo_espc_B\": 0.0\n",
            "}\n"
          ],
          "name": "stdout"
        }
      ]
    },
    {
      "cell_type": "markdown",
      "metadata": {
        "id": "IrU-m4_EvGEY",
        "colab_type": "text"
      },
      "source": [
        "### Com base nos histogramas, nas medidas descritivas e proporções, responda:\n",
        "\n",
        "d) Você considera que as duas turmas trabalham do mesmo modo ou existe diferença entre a qualidade\n",
        "dos azulejos produzidos pelas duas turmas? Justifique sua resposta.\n",
        "\n",
        "e) Compare a espessura dos azulejos produzidos pelas duas turmas levando em consideração as medidas de tendência central calculadas, o desvio padrão e o coeficiente de variação.\n",
        "\n",
        "f) Compare a espessura dos azulejos produzidos pelas duas turmas levando em consideração a proporção de produção de azulejos fora de especificação produzidos por cada turma.\n",
        "\n",
        "g) O problema de quebra dos azulejos parece ser comum aos azulejos produzidos por ambas as turmas de\n",
        "trabalho da empresa ou parece estar associado a uma turma específica? Por quê?\n",
        "\n",
        "h) O problema de falta de uniformidade no assentamento dos azulejos parece ser comum aos azulejos fabricados por ambas as turmas de trabalho da empresa ou parece estar associado a uma turma específica? Por quê?"
      ]
    },
    {
      "cell_type": "markdown",
      "metadata": {
        "id": "MahlRKW6vT7w",
        "colab_type": "text"
      },
      "source": [
        "### Respostas \n",
        "\n",
        "d) De acordo com o gráfico histograma de A e de B, podemos notar que tem uma diferença de qualidade onde A tem um formato Assimétrico a direita e B tem um formato contrário, Assimétrico a esquerda.\n",
        "\n",
        "e) Os azulejos produzidos pela turma A são muito mais finos que o da turma B notado pelo gráfico histograma. \n",
        "\n",
        "f) Podemos notar que a turma A tem uma maior presença fora do intervalo da especificação de 3.5mm até 6.5mm, onde o calculo de probabilidade de estar abaixo ou fora do especificado é maior que o da turma B, contudo a turma A não produziu nenhum item acima do intervalo especificado.\n",
        "\n",
        "g) A probabilidade de o problema estar relacionada a turma A é maior em comparação com a turma B, pois de acordo com o calculo da probabilidade em ambas as turmas, a Turma A tem uma chance de 32.5% de estar abaixo das especificação enquanto a Turma B 0%, e por estar abaixo, os azulejos produzidos terão menor resistência.\n",
        "\n",
        "h) A falta de uniformidade é comum a ambas as Turmas, porém a Turma A tem uma chance maior que produzir, não só um azulejo mais fraco como também fora do intervalo da especificação. "
      ]
    },
    {
      "cell_type": "markdown",
      "metadata": {
        "id": "MG4mSuL43cBx",
        "colab_type": "text"
      },
      "source": [
        "## Exercício 2\n",
        "\n",
        "### CRIANDO SUA ANÁLISE DE DADOS \n",
        "\n",
        "Para está segunda parte, analisaremos uma base de dados da plataforma Kaggle (https://www.kaggle.com/mrpantherson/metal-by-nation)\n",
        "\n",
        "Base **metal_band.csv** de bandas de metal pelo mundo.\n",
        "\n",
        "#### Situação de analise: \n",
        "\n",
        "Analisando a base de dados csv contendo as bandas de Metal pelo mundo vamos observar as variáveis de split e formed.\n",
        "\n",
        "#### Principal variável a ser analisada\n",
        "\n",
        "- formed (formação)\n",
        "\n",
        "#### Problema que quero resolver\n",
        "\n",
        "As bandas de metal no estilo Heavy Metal estão desaparecendo?\n",
        "\n",
        "#### HIPÓTESES\n",
        "\n",
        "Em grandes shows de Rock pelo mundo, sempre vemos as mesmas grandes bandas das decadas de 70, 80, 90 e raramente 2000 para cima, um fator que deve ser analisado é a data de sua formação.\n",
        "- Analisando a formação das bandas pelos anos, podemos chegar a uma possível resposta.\n",
        "- Analisando a preferência de estilos das novas bandas formadas pode ser que houve uma menor adesão ao Heavy Metal\n",
        "\n",
        "#### Analises\n",
        "\n",
        "Neste estudo vamos cruzar os dados de formação com os anos até a última data do csv **2017**.\n"
      ]
    },
    {
      "cell_type": "code",
      "metadata": {
        "id": "WPmX0wI3ErOk",
        "colab_type": "code",
        "colab": {
          "base_uri": "https://localhost:8080/",
          "height": 408
        },
        "outputId": "a5a4b784-47f1-48d4-8ea1-00ab6dbda8d9"
      },
      "source": [
        "# \n",
        "# Lendo base csv de bandas\n",
        "# \n",
        "\n",
        "df_metal = pd.read_csv('/tmp/metal_bands_2017.csv', encoding='latin-1')\n",
        "\n",
        "df_metal.info()\n",
        "\n",
        "print(\n",
        "\"\"\"\n",
        "Variáveis mapeadas: \n",
        "---------------------------------------------------\n",
        "|     formed     |     origin     |     split     |\n",
        "---------------------------------------------------\n",
        "|  Quantitativa  |   Qualitativa  | Quantitativa  |\n",
        "|    Discreta    |     Nominal    |   Discreta    |\n",
        "---------------------------------------------------\n",
        "\"\"\"\n",
        ")\n",
        "\n",
        "# limpando dados de tabela\n",
        "\n",
        "dataset = df_metal.iloc[:, 1:7]\n",
        "\n",
        "dataset.shape\n",
        "\n",
        "dataset.band_name.duplicated().sum()\n",
        "\n",
        "dataset.loc[dataset.band_name.duplicated(keep='first'), :]\n",
        "\n",
        "dataset[\"origin\"].fillna(\"unknown\", inplace=True)\n"
      ],
      "execution_count": 7,
      "outputs": [
        {
          "output_type": "stream",
          "text": [
            "<class 'pandas.core.frame.DataFrame'>\n",
            "RangeIndex: 5000 entries, 0 to 4999\n",
            "Data columns (total 7 columns):\n",
            " #   Column      Non-Null Count  Dtype \n",
            "---  ------      --------------  ----- \n",
            " 0   Unnamed: 0  5000 non-null   int64 \n",
            " 1   band_name   5000 non-null   object\n",
            " 2   fans        5000 non-null   int64 \n",
            " 3   formed      5000 non-null   object\n",
            " 4   origin      4992 non-null   object\n",
            " 5   split       5000 non-null   object\n",
            " 6   style       5000 non-null   object\n",
            "dtypes: int64(2), object(5)\n",
            "memory usage: 273.6+ KB\n",
            "\n",
            "Variáveis mapeadas: \n",
            "---------------------------------------------------\n",
            "|     formed     |     origin     |     split     |\n",
            "---------------------------------------------------\n",
            "|  Quantitativa  |   Qualitativa  | Quantitativa  |\n",
            "|    Discreta    |     Nominal    |   Discreta    |\n",
            "---------------------------------------------------\n",
            "\n"
          ],
          "name": "stdout"
        }
      ]
    },
    {
      "cell_type": "code",
      "metadata": {
        "id": "JpihvpzNQR2u",
        "colab_type": "code",
        "colab": {
          "base_uri": "https://localhost:8080/",
          "height": 34
        },
        "outputId": "c3489a71-518b-41a6-d565-d6c7ff3153a5"
      },
      "source": [
        "clean_data = dataset.drop_duplicates(keep='first')\n",
        "clean_data.shape"
      ],
      "execution_count": 8,
      "outputs": [
        {
          "output_type": "execute_result",
          "data": {
            "text/plain": [
              "(4950, 6)"
            ]
          },
          "metadata": {
            "tags": []
          },
          "execution_count": 8
        }
      ]
    },
    {
      "cell_type": "code",
      "metadata": {
        "id": "wZHPA5W5Qmiq",
        "colab_type": "code",
        "colab": {
          "base_uri": "https://localhost:8080/",
          "height": 238
        },
        "outputId": "3e59b82e-d23a-406d-e76e-c742e604347b"
      },
      "source": [
        "clean_data.info()"
      ],
      "execution_count": 9,
      "outputs": [
        {
          "output_type": "stream",
          "text": [
            "<class 'pandas.core.frame.DataFrame'>\n",
            "Int64Index: 4950 entries, 0 to 4999\n",
            "Data columns (total 6 columns):\n",
            " #   Column     Non-Null Count  Dtype \n",
            "---  ------     --------------  ----- \n",
            " 0   band_name  4950 non-null   object\n",
            " 1   fans       4950 non-null   int64 \n",
            " 2   formed     4950 non-null   object\n",
            " 3   origin     4950 non-null   object\n",
            " 4   split      4950 non-null   object\n",
            " 5   style      4950 non-null   object\n",
            "dtypes: int64(1), object(5)\n",
            "memory usage: 270.7+ KB\n"
          ],
          "name": "stdout"
        }
      ]
    },
    {
      "cell_type": "code",
      "metadata": {
        "id": "1XK4VAjdQqYI",
        "colab_type": "code",
        "colab": {}
      },
      "source": [
        "# Manipulando stilos de metal \n",
        "styles = clean_data[\"style\"].str.split(\",\", expand=True)\n",
        "clean_data['main_style'] = styles[0]\n",
        "clean_data['style_2'] = styles[1]\n",
        "clean_data['style_3'] = styles[2]\n",
        "clean_data['style_4'] = styles[3]\n",
        "clean_data['style_5'] = styles[4]\n",
        "clean_data['style_6'] = styles[5]\n",
        "clean_data.drop(\"style\", axis=1, inplace=True)"
      ],
      "execution_count": null,
      "outputs": []
    },
    {
      "cell_type": "code",
      "metadata": {
        "id": "sPTOz1DvWgpd",
        "colab_type": "code",
        "colab": {
          "base_uri": "https://localhost:8080/",
          "height": 272
        },
        "outputId": "607a43ec-fe10-49c5-dc89-5c75b19192f7"
      },
      "source": [
        "clean_data.head()"
      ],
      "execution_count": 11,
      "outputs": [
        {
          "output_type": "execute_result",
          "data": {
            "text/html": [
              "<div>\n",
              "<style scoped>\n",
              "    .dataframe tbody tr th:only-of-type {\n",
              "        vertical-align: middle;\n",
              "    }\n",
              "\n",
              "    .dataframe tbody tr th {\n",
              "        vertical-align: top;\n",
              "    }\n",
              "\n",
              "    .dataframe thead th {\n",
              "        text-align: right;\n",
              "    }\n",
              "</style>\n",
              "<table border=\"1\" class=\"dataframe\">\n",
              "  <thead>\n",
              "    <tr style=\"text-align: right;\">\n",
              "      <th></th>\n",
              "      <th>band_name</th>\n",
              "      <th>fans</th>\n",
              "      <th>formed</th>\n",
              "      <th>origin</th>\n",
              "      <th>split</th>\n",
              "      <th>main_style</th>\n",
              "      <th>style_2</th>\n",
              "      <th>style_3</th>\n",
              "      <th>style_4</th>\n",
              "      <th>style_5</th>\n",
              "      <th>style_6</th>\n",
              "    </tr>\n",
              "  </thead>\n",
              "  <tbody>\n",
              "    <tr>\n",
              "      <th>0</th>\n",
              "      <td>Iron Maiden</td>\n",
              "      <td>4195</td>\n",
              "      <td>1975</td>\n",
              "      <td>United Kingdom</td>\n",
              "      <td>-</td>\n",
              "      <td>New wave of british heavy</td>\n",
              "      <td>Heavy</td>\n",
              "      <td>None</td>\n",
              "      <td>None</td>\n",
              "      <td>None</td>\n",
              "      <td>None</td>\n",
              "    </tr>\n",
              "    <tr>\n",
              "      <th>1</th>\n",
              "      <td>Opeth</td>\n",
              "      <td>4147</td>\n",
              "      <td>1990</td>\n",
              "      <td>Sweden</td>\n",
              "      <td>1990</td>\n",
              "      <td>Extreme progressive</td>\n",
              "      <td>Progressive rock</td>\n",
              "      <td>Progressive</td>\n",
              "      <td>None</td>\n",
              "      <td>None</td>\n",
              "      <td>None</td>\n",
              "    </tr>\n",
              "    <tr>\n",
              "      <th>2</th>\n",
              "      <td>Metallica</td>\n",
              "      <td>3712</td>\n",
              "      <td>1981</td>\n",
              "      <td>USA</td>\n",
              "      <td>-</td>\n",
              "      <td>Heavy</td>\n",
              "      <td>Bay area thrash</td>\n",
              "      <td>None</td>\n",
              "      <td>None</td>\n",
              "      <td>None</td>\n",
              "      <td>None</td>\n",
              "    </tr>\n",
              "    <tr>\n",
              "      <th>3</th>\n",
              "      <td>Megadeth</td>\n",
              "      <td>3105</td>\n",
              "      <td>1983</td>\n",
              "      <td>USA</td>\n",
              "      <td>1983</td>\n",
              "      <td>Thrash</td>\n",
              "      <td>Heavy</td>\n",
              "      <td>Hard rock</td>\n",
              "      <td>None</td>\n",
              "      <td>None</td>\n",
              "      <td>None</td>\n",
              "    </tr>\n",
              "    <tr>\n",
              "      <th>4</th>\n",
              "      <td>Amon Amarth</td>\n",
              "      <td>3054</td>\n",
              "      <td>1988</td>\n",
              "      <td>Sweden</td>\n",
              "      <td>-</td>\n",
              "      <td>Melodic death</td>\n",
              "      <td>None</td>\n",
              "      <td>None</td>\n",
              "      <td>None</td>\n",
              "      <td>None</td>\n",
              "      <td>None</td>\n",
              "    </tr>\n",
              "  </tbody>\n",
              "</table>\n",
              "</div>"
            ],
            "text/plain": [
              "     band_name  fans formed  ... style_4 style_5 style_6\n",
              "0  Iron Maiden  4195   1975  ...    None    None    None\n",
              "1        Opeth  4147   1990  ...    None    None    None\n",
              "2    Metallica  3712   1981  ...    None    None    None\n",
              "3     Megadeth  3105   1983  ...    None    None    None\n",
              "4  Amon Amarth  3054   1988  ...    None    None    None\n",
              "\n",
              "[5 rows x 11 columns]"
            ]
          },
          "metadata": {
            "tags": []
          },
          "execution_count": 11
        }
      ]
    },
    {
      "cell_type": "code",
      "metadata": {
        "id": "Q3CAh14gXDz6",
        "colab_type": "code",
        "colab": {
          "base_uri": "https://localhost:8080/",
          "height": 200
        },
        "outputId": "4f7a9b22-adc4-4c8a-8f4e-2adf1a6e7657"
      },
      "source": [
        "# Analisando Variaveis descritivas qualitativas - Gráfico de barras\n",
        "\n",
        "plt.subplots(figsize=(25,5))\n",
        "origin_total = clean_data[\"origin\"].value_counts()\n",
        "sns.barplot(x=origin_total[:20].keys(), y=origin_total[:20].values)\n",
        "plt.show()"
      ],
      "execution_count": 10,
      "outputs": [
        {
          "output_type": "display_data",
          "data": {
            "image/png": "[encoded data removed]",
            "text/plain": [
              "<Figure size 1800x360 with 1 Axes>"
            ]
          },
          "metadata": {
            "tags": [],
            "needs_background": "light"
          }
        }
      ]
    },
    {
      "cell_type": "code",
      "metadata": {
        "id": "oj_Wi-ZDXqFR",
        "colab_type": "code",
        "colab": {
          "base_uri": "https://localhost:8080/",
          "height": 171
        },
        "outputId": "a9de3607-2d6f-4f94-a433-744bef839da1"
      },
      "source": [
        "# Bandas de Metal por estilo principal\n",
        "\n",
        "style_count = clean_data[\"main_style\"].value_counts()\n",
        "plt.subplots(figsize=(30,5))\n",
        "sns.barplot(x=style_count[:20].keys(), y=style_count[:20].values)\n",
        "plt.show()"
      ],
      "execution_count": 11,
      "outputs": [
        {
          "output_type": "display_data",
          "data": {
            "image/png": "[encoded data removed]",
            "text/plain": [
              "<Figure size 2160x360 with 1 Axes>"
            ]
          },
          "metadata": {
            "tags": [],
            "needs_background": "light"
          }
        }
      ]
    },
    {
      "cell_type": "code",
      "metadata": {
        "id": "iubhamZGaNOU",
        "colab_type": "code",
        "colab": {
          "base_uri": "https://localhost:8080/",
          "height": 204
        },
        "outputId": "6a055036-9768-4571-d89b-30860f7262e2"
      },
      "source": [
        "#\n",
        "# Analise de variaveis quantitativas slip e formed\n",
        "# \n",
        "split_count = clean_data[\"split\"].value_counts(ascending=False)\n",
        "formed_count = clean_data[\"formed\"].value_counts(ascending=False)\n",
        "\n",
        "# Gerando DataFrame para a analise dos dados \n",
        "#\n",
        "data_ = {'split': split_count, 'formed': formed_count}\n",
        "pd_split_formed = pd.DataFrame(data=data_)\n",
        "pd_split_formed.head()"
      ],
      "execution_count": 12,
      "outputs": [
        {
          "output_type": "execute_result",
          "data": {
            "text/html": [
              "<div>\n",
              "<style scoped>\n",
              "    .dataframe tbody tr th:only-of-type {\n",
              "        vertical-align: middle;\n",
              "    }\n",
              "\n",
              "    .dataframe tbody tr th {\n",
              "        vertical-align: top;\n",
              "    }\n",
              "\n",
              "    .dataframe thead th {\n",
              "        text-align: right;\n",
              "    }\n",
              "</style>\n",
              "<table border=\"1\" class=\"dataframe\">\n",
              "  <thead>\n",
              "    <tr style=\"text-align: right;\">\n",
              "      <th></th>\n",
              "      <th>split</th>\n",
              "      <th>formed</th>\n",
              "    </tr>\n",
              "  </thead>\n",
              "  <tbody>\n",
              "    <tr>\n",
              "      <th>-</th>\n",
              "      <td>2193.0</td>\n",
              "      <td>4</td>\n",
              "    </tr>\n",
              "    <tr>\n",
              "      <th>1964</th>\n",
              "      <td>NaN</td>\n",
              "      <td>1</td>\n",
              "    </tr>\n",
              "    <tr>\n",
              "      <th>1965</th>\n",
              "      <td>1.0</td>\n",
              "      <td>1</td>\n",
              "    </tr>\n",
              "    <tr>\n",
              "      <th>1967</th>\n",
              "      <td>2.0</td>\n",
              "      <td>3</td>\n",
              "    </tr>\n",
              "    <tr>\n",
              "      <th>1968</th>\n",
              "      <td>4.0</td>\n",
              "      <td>6</td>\n",
              "    </tr>\n",
              "  </tbody>\n",
              "</table>\n",
              "</div>"
            ],
            "text/plain": [
              "       split  formed\n",
              "-     2193.0       4\n",
              "1964     NaN       1\n",
              "1965     1.0       1\n",
              "1967     2.0       3\n",
              "1968     4.0       6"
            ]
          },
          "metadata": {
            "tags": []
          },
          "execution_count": 12
        }
      ]
    },
    {
      "cell_type": "code",
      "metadata": {
        "id": "ON4VpWyzbhTP",
        "colab_type": "code",
        "colab": {
          "base_uri": "https://localhost:8080/",
          "height": 289
        },
        "outputId": "449ae563-02d2-403c-bc53-ef498b7940fe"
      },
      "source": [
        "# Calculo das medias e medianas e desvio padrão\n",
        "\n",
        "print('Descrição de variações numericas Split: \\n', pd_split_formed['split'].agg(['min', 'max', 'mean', 'std', 'median']).round(decimals=2), sep='\\n')\n",
        "print('Descrição de variações numericas Formed: \\n', pd_split_formed['formed'].agg(['min', 'max', 'mean', 'std', 'median']).round(decimals=2), sep='\\n')\n"
      ],
      "execution_count": 13,
      "outputs": [
        {
          "output_type": "stream",
          "text": [
            "Descrição de variações numericas Split: \n",
            "\n",
            "min          1.00\n",
            "max       2193.00\n",
            "mean        99.00\n",
            "std        305.82\n",
            "median      44.50\n",
            "Name: split, dtype: float64\n",
            "Descrição de variações numericas Formed: \n",
            "\n",
            "min         1.00\n",
            "max       270.00\n",
            "mean       93.40\n",
            "std        85.52\n",
            "median     61.00\n",
            "Name: formed, dtype: float64\n"
          ],
          "name": "stdout"
        }
      ]
    },
    {
      "cell_type": "code",
      "metadata": {
        "id": "m0GXArfmb7aR",
        "colab_type": "code",
        "colab": {
          "base_uri": "https://localhost:8080/",
          "height": 655
        },
        "outputId": "cf054bb1-fd9b-4474-9b47-73db6d7ebbc8"
      },
      "source": [
        "# Histograma das tabelas de split e formed\n",
        "\n",
        "pd_split_formed.hist(figsize=(15,5), bins=25, column='split')\n",
        "pd_split_formed.hist(figsize=(15,5), bins=20, column='formed')\n",
        "plt.show()"
      ],
      "execution_count": 14,
      "outputs": [
        {
          "output_type": "display_data",
          "data": {
            "image/png": "[encoded data removed]",
            "text/plain": [
              "<Figure size 1080x360 with 1 Axes>"
            ]
          },
          "metadata": {
            "tags": [],
            "needs_background": "light"
          }
        },
        {
          "output_type": "display_data",
          "data": {
            "image/png": "[encoded data removed]",
            "text/plain": [
              "<Figure size 1080x360 with 1 Axes>"
            ]
          },
          "metadata": {
            "tags": [],
            "needs_background": "light"
          }
        }
      ]
    },
    {
      "cell_type": "markdown",
      "metadata": {
        "id": "8pVTVXGDfibF",
        "colab_type": "text"
      },
      "source": [
        "#### Histograma das Bandas\n",
        "Temos aqui tanto o histograma de bandas formadas, quanto o de bandas desfeitas, um formato de Assimétria igual, ambos são assimétricos a direita. Também devemos observar que as bandas formadas tem uma maior granularidade de dados dispostos no gráfico."
      ]
    },
    {
      "cell_type": "code",
      "metadata": {
        "id": "JtM8LFshc_3Q",
        "colab_type": "code",
        "colab": {
          "base_uri": "https://localhost:8080/",
          "height": 314
        },
        "outputId": "9d1d2a88-cf28-4ddf-f7e6-87bae721504d"
      },
      "source": [
        "#\n",
        "# Gráfico de comparação de bandas formadas x bandas desfeitas\n",
        "#\n",
        "fig = plt.figure(figsize=(30,10))\n",
        "ax1 = fig.add_axes([0, 0, 1, 1])\n",
        "ax2 = fig.add_axes([0.05, 0.65, 0.5, 0.3])\n",
        "ax1.plot(pd_split_formed[\"formed\"], color='teal')\n",
        "ax2.plot(pd_split_formed[\"split\"], color='green')\n",
        "ax2.set_title(\"Split Bands\", fontsize=18)\n",
        "plt.show()"
      ],
      "execution_count": 15,
      "outputs": [
        {
          "output_type": "display_data",
          "data": {
            "image/png": "[encoded data removed]",
            "text/plain": [
              "<Figure size 2160x720 with 2 Axes>"
            ]
          },
          "metadata": {
            "tags": [],
            "needs_background": "light"
          }
        }
      ]
    },
    {
      "cell_type": "markdown",
      "metadata": {
        "id": "Bgem5PIOeU4u",
        "colab_type": "text"
      },
      "source": [
        "Como podemos observar no gráfico acima, a curva de bandas criadas, a partir de 2007, começa a cair, o que nos leva a concluir que as formações de bandas de Metal estão em decadência.  "
      ]
    },
    {
      "cell_type": "code",
      "metadata": {
        "id": "OrNE6d3lfclQ",
        "colab_type": "code",
        "colab": {
          "base_uri": "https://localhost:8080/",
          "height": 1000
        },
        "outputId": "b85a603c-0312-4f13-a3d5-c682b40737b5"
      },
      "source": [
        "#\n",
        "# Dicionario de possibilidades: \n",
        "# Qual a probabilidade de todos os estilo principal serem formados após os anos 2000 ?\n",
        "# \n",
        "\n",
        "col_main_style_list = clean_data['main_style'].tolist()\n",
        "\n",
        "likelihood_bands = {}\n",
        "for ms in col_main_style_list: \n",
        "\n",
        "    # seleção de eventos para calcular probabilidade\n",
        "    selecao_heavy = (clean_data.formed >= '2000') & (clean_data.main_style == ms)\n",
        "\n",
        "    # Mapeando as probabilidades \n",
        "    likelihood_bands['Probabilidade do estilo {}'.format(ms)] = round(len(clean_data[\"formed\"][selecao_heavy])/len(clean_data[\"formed\"]), 3)\n",
        "\n",
        "sort_likelihood = sorted(likelihood_bands.items(), key=lambda x: x[1], reverse=True)\n",
        "\n",
        "print(\"Probabilidades: \", '\\n'.join(str(v) for v in sort_likelihood), sep='\\n')\n",
        "\n"
      ],
      "execution_count": 18,
      "outputs": [
        {
          "output_type": "stream",
          "text": [
            "Probabilidades: \n",
            "('Probabilidade do estilo Black', 0.076)\n",
            "('Probabilidade do estilo Death', 0.045)\n",
            "('Probabilidade do estilo Heavy', 0.034)\n",
            "('Probabilidade do estilo Progressive', 0.034)\n",
            "('Probabilidade do estilo Doom', 0.031)\n",
            "('Probabilidade do estilo Melodic death', 0.028)\n",
            "('Probabilidade do estilo Power', 0.02)\n",
            "('Probabilidade do estilo Atmospheric black', 0.019)\n",
            "('Probabilidade do estilo Thrash', 0.017)\n",
            "('Probabilidade do estilo Brutal death', 0.012)\n",
            "('Probabilidade do estilo Grindcore', 0.012)\n",
            "('Probabilidade do estilo Gothic', 0.011)\n",
            "('Probabilidade do estilo Symphonic', 0.01)\n",
            "('Probabilidade do estilo Death doom', 0.01)\n",
            "('Probabilidade do estilo Folk', 0.01)\n",
            "('Probabilidade do estilo Technical death', 0.009)\n",
            "('Probabilidade do estilo Sludge', 0.009)\n",
            "('Probabilidade do estilo Funeral doom', 0.009)\n",
            "('Probabilidade do estilo Progressive death', 0.008)\n",
            "('Probabilidade do estilo Symphonic power', 0.008)\n",
            "('Probabilidade do estilo Depressive black', 0.008)\n",
            "('Probabilidade do estilo Metalcore', 0.007)\n",
            "('Probabilidade do estilo Melodic black', 0.007)\n",
            "('Probabilidade do estilo Post-metal', 0.007)\n",
            "('Probabilidade do estilo Alternative', 0.006)\n",
            "('Probabilidade do estilo Symphonic black', 0.005)\n",
            "('Probabilidade do estilo Hard rock', 0.005)\n",
            "('Probabilidade do estilo Extreme progressive', 0.004)\n",
            "('Probabilidade do estilo Industrial', 0.004)\n",
            "('Probabilidade do estilo Progressive power', 0.004)\n",
            "('Probabilidade do estilo Avantgarde', 0.004)\n",
            "('Probabilidade do estilo Deathcore', 0.004)\n",
            "('Probabilidade do estilo Stoner', 0.004)\n",
            "('Probabilidade do estilo Blackened death', 0.004)\n",
            "('Probabilidade do estilo Pagan black', 0.004)\n",
            "('Probabilidade do estilo Gothenburg', 0.003)\n",
            "('Probabilidade do estilo Viking folk', 0.003)\n",
            "('Probabilidade do estilo Gothic doom', 0.003)\n",
            "('Probabilidade do estilo Symphonic gothic', 0.003)\n",
            "('Probabilidade do estilo Drone doom', 0.003)\n",
            "('Probabilidade do estilo Progressive black', 0.003)\n",
            "('Probabilidade do estilo Atmospheric doom', 0.003)\n",
            "('Probabilidade do estilo Experimental black', 0.003)\n",
            "('Probabilidade do estilo Extreme power', 0.002)\n",
            "('Probabilidade do estilo Blackened doom', 0.002)\n",
            "('Probabilidade do estilo Groove thrash', 0.002)\n",
            "('Probabilidade do estilo Progressive rock', 0.002)\n",
            "('Probabilidade do estilo Avantgarde black', 0.002)\n",
            "('Probabilidade do estilo Hardcore', 0.002)\n",
            "('Probabilidade do estilo Pagan folk', 0.002)\n",
            "('Probabilidade do estilo Atmospheric sludge', 0.002)\n",
            "('Probabilidade do estilo Us power', 0.002)\n",
            "('Probabilidade do estilo Deathgrind', 0.002)\n",
            "('Probabilidade do estilo Progressive math', 0.002)\n",
            "('Probabilidade do estilo Psychedelic doom', 0.002)\n",
            "('Probabilidade do estilo Symphonic progressive', 0.002)\n",
            "('Probabilidade do estilo Ambient black', 0.002)\n",
            "('Probabilidade do estilo Melodic power', 0.002)\n",
            "('Probabilidade do estilo Blackened sludge', 0.002)\n",
            "('Probabilidade do estilo Speed', 0.001)\n",
            "('Probabilidade do estilo Viking black', 0.001)\n",
            "('Probabilidade do estilo Technical thrash', 0.001)\n",
            "('Probabilidade do estilo Atmospheric death', 0.001)\n",
            "('Probabilidade do estilo Nu', 0.001)\n",
            "('Probabilidade do estilo Symphonic death', 0.001)\n",
            "('Probabilidade do estilo Epic doom', 0.001)\n",
            "('Probabilidade do estilo Melodic metalcore', 0.001)\n",
            "('Probabilidade do estilo Progressive metalcore', 0.001)\n",
            "('Probabilidade do estilo Blackened thrash', 0.001)\n",
            "('Probabilidade do estilo Groove metal', 0.001)\n",
            "('Probabilidade do estilo Suomi', 0.001)\n",
            "('Probabilidade do estilo Crossover thrash', 0.001)\n",
            "('Probabilidade do estilo Math', 0.001)\n",
            "('Probabilidade do estilo Progressive deathcore', 0.001)\n",
            "('Probabilidade do estilo Blackened heavy', 0.001)\n",
            "('Probabilidade do estilo Psychedelic black', 0.001)\n",
            "('Probabilidade do estilo Industrial death', 0.001)\n",
            "('Probabilidade do estilo Glam', 0.001)\n",
            "('Probabilidade do estilo Symphonic folk', 0.001)\n",
            "('Probabilidade do estilo Melodic thrash', 0.001)\n",
            "('Probabilidade do estilo Blackened folk', 0.001)\n",
            "('Probabilidade do estilo Melodic progressive', 0.001)\n",
            "('Probabilidade do estilo Progressive thrash', 0.001)\n",
            "('Probabilidade do estilo Extreme symphonic', 0.001)\n",
            "('Probabilidade do estilo Industrial black', 0.001)\n",
            "('Probabilidade do estilo Experimental progressive', 0.001)\n",
            "('Probabilidade do estilo Electronic symphonic', 0.001)\n",
            "('Probabilidade do estilo Ambient', 0.001)\n",
            "('Probabilidade do estilo Melodic heavy', 0.001)\n",
            "('Probabilidade do estilo Progressive doom', 0.001)\n",
            "('Probabilidade do estilo Psychedelic rock', 0.001)\n",
            "(\"Probabilidade do estilo Death '\", 0.001)\n",
            "('Probabilidade do estilo Psychedelic stoner', 0.001)\n",
            "('Probabilidade do estilo Stoner rock', 0.001)\n",
            "('Probabilidade do estilo Progressive sludge', 0.001)\n",
            "('Probabilidade do estilo New wave of british heavy', 0.0)\n",
            "('Probabilidade do estilo Extreme folk', 0.0)\n",
            "('Probabilidade do estilo Teutonic thrash', 0.0)\n",
            "('Probabilidade do estilo Bay area thrash', 0.0)\n",
            "('Probabilidade do estilo Celtic folk', 0.0)\n",
            "('Probabilidade do estilo Progressive stoner', 0.0)\n",
            "('Probabilidade do estilo Extreme gothic', 0.0)\n",
            "('Probabilidade do estilo Progressive hard rock', 0.0)\n",
            "('Probabilidade do estilo Industrial progressive', 0.0)\n",
            "('Probabilidade do estilo Progressive folk', 0.0)\n",
            "('Probabilidade do estilo Symphonic heavy', 0.0)\n",
            "('Probabilidade do estilo Grunge ', 0.0)\n",
            "('Probabilidade do estilo Experimental death', 0.0)\n",
            "('Probabilidade do estilo First wave of black', 0.0)\n",
            "('Probabilidade do estilo Progressive heavy', 0.0)\n",
            "('Probabilidade do estilo Industrial rock', 0.0)\n",
            "('Probabilidade do estilo Neoclassical power', 0.0)\n",
            "('Probabilidade do estilo Atmospheric symphonic', 0.0)\n",
            "('Probabilidade do estilo Alternative thrash', 0.0)\n",
            "('Probabilidade do estilo Gothic industrial', 0.0)\n",
            "('Probabilidade do estilo Extreme avantgarde', 0.0)\n",
            "('Probabilidade do estilo Blackened hardcore', 0.0)\n",
            "('Probabilidade do estilo Glam rock', 0.0)\n",
            "('Probabilidade do estilo Atmospheric rock', 0.0)\n",
            "('Probabilidade do estilo Symphonic doom', 0.0)\n",
            "('Probabilidade do estilo Industrial gothic', 0.0)\n",
            "('Probabilidade do estilo Melodic doom', 0.0)\n",
            "('Probabilidade do estilo Modern thrash', 0.0)\n",
            "('Probabilidade do estilo Technical metalcore', 0.0)\n",
            "('Probabilidade do estilo Noise rock', 0.0)\n",
            "('Probabilidade do estilo Instrumental post-metal', 0.0)\n",
            "('Probabilidade do estilo Medieval folk', 0.0)\n",
            "('Probabilidade do estilo Blackened progressive', 0.0)\n",
            "('Probabilidade do estilo E', 0.0)\n",
            "('Probabilidade do estilo Folk rock', 0.0)\n",
            "('Probabilidade do estilo Jazz', 0.0)\n",
            "('Probabilidade do estilo Drone', 0.0)\n",
            "('Probabilidade do estilo Symphonic math', 0.0)\n",
            "('Probabilidade do estilo Gothic rock', 0.0)\n",
            "('Probabilidade do estilo Groove heavy', 0.0)\n",
            "('Probabilidade do estilo Pagan thrash', 0.0)\n",
            "('Probabilidade do estilo J rock', 0.0)\n",
            "('Probabilidade do estilo Neoclassical heavy', 0.0)\n",
            "('Probabilidade do estilo J-', 0.0)\n",
            "('Probabilidade do estilo Melodic hard rock', 0.0)\n",
            "('Probabilidade do estilo Technical deathcore', 0.0)\n",
            "('Probabilidade do estilo Industrial thrash', 0.0)\n",
            "('Probabilidade do estilo Instrumental power', 0.0)\n",
            "('Probabilidade do estilo Djent', 0.0)\n",
            "('Probabilidade do estilo Industrial heavy', 0.0)\n",
            "('Probabilidade do estilo Industrial grindcore', 0.0)\n",
            "('Probabilidade do estilo Modern gothenburg', 0.0)\n",
            "('Probabilidade do estilo Grunge rock', 0.0)\n",
            "('Probabilidade do estilo Celtic doom', 0.0)\n",
            "('Probabilidade do estilo Atmospheric gothic', 0.0)\n",
            "('Probabilidade do estilo Technical progressive', 0.0)\n",
            "('Probabilidade do estilo Dark', 0.0)\n",
            "('Probabilidade do estilo Crust', 0.0)\n",
            "('Probabilidade do estilo Melodic deathcore', 0.0)\n",
            "('Probabilidade do estilo Extreme sludge', 0.0)\n",
            "('Probabilidade do estilo Blues rock', 0.0)\n",
            "('Probabilidade do estilo Symphonic deathcore', 0.0)\n",
            "('Probabilidade do estilo Goregrind', 0.0)\n",
            "('Probabilidade do estilo Shoegaze ', 0.0)\n",
            "('Probabilidade do estilo Experimental gothic', 0.0)\n",
            "('Probabilidade do estilo Blackened gothic', 0.0)\n",
            "('Probabilidade do estilo Alternative rock', 0.0)\n",
            "('Probabilidade do estilo Cyber grindcore', 0.0)\n",
            "('Probabilidade do estilo Blackened deathcore', 0.0)\n",
            "('Probabilidade do estilo Gothic black', 0.0)\n",
            "('Probabilidade do estilo Progressive gothic', 0.0)\n",
            "('Probabilidade do estilo Avantgarde metalcore', 0.0)\n",
            "('Probabilidade do estilo Celtic black', 0.0)\n",
            "('Probabilidade do estilo Post-', 0.0)\n",
            "('Probabilidade do estilo Aggrotech', 0.0)\n",
            "('Probabilidade do estilo Industrial doom', 0.0)\n",
            "('Probabilidade do estilo Extreme industrial', 0.0)\n",
            "('Probabilidade do estilo Neofolk ', 0.0)\n",
            "('Probabilidade do estilo Brutal deathcore', 0.0)\n",
            "('Probabilidade do estilo Experimental grindcore', 0.0)\n",
            "('Probabilidade do estilo Electronic industrial', 0.0)\n",
            "('Probabilidade do estilo Death rock', 0.0)\n",
            "('Probabilidade do estilo Gothic folk', 0.0)\n",
            "('Probabilidade do estilo Atmospheric progressive', 0.0)\n",
            "('Probabilidade do estilo Nu thrash', 0.0)\n",
            "('Probabilidade do estilo Experimental industrial', 0.0)\n",
            "('Probabilidade do estilo Crust punk', 0.0)\n",
            "('Probabilidade do estilo Djent ', 0.0)\n",
            "('Probabilidade do estilo New', 0.0)\n",
            "('Probabilidade do estilo Technical grindcore', 0.0)\n",
            "('Probabilidade do estilo Us heavy', 0.0)\n",
            "('Probabilidade do estilo Psychedelic sludge', 0.0)\n",
            "('Probabilidade do estilo Post-rock', 0.0)\n",
            "('Probabilidade do estilo Industrial folk', 0.0)\n",
            "('Probabilidade do estilo Depressive heavy', 0.0)\n",
            "('Probabilidade do estilo Progressiveinstrumental', 0.0)\n",
            "('Probabilidade do estilo Progressive symphonic', 0.0)\n",
            "('Probabilidade do estilo Experimental folk', 0.0)\n",
            "('Probabilidade do estilo Ambient ', 0.0)\n",
            "('Probabilidade do estilo Punk rock', 0.0)\n",
            "('Probabilidade do estilo Atmospheric blackinstrumental', 0.0)\n",
            "('Probabilidade do estilo Blackened grindcore', 0.0)\n",
            "('Probabilidade do estilo Shoegaze', 0.0)\n",
            "('Probabilidade do estilo Avantgarde doom', 0.0)\n",
            "('Probabilidade do estilo Atmospheric folk', 0.0)\n",
            "('Probabilidade do estilo Psychedelic hard rock', 0.0)\n",
            "('Probabilidade do estilo Groove metal ', 0.0)\n",
            "('Probabilidade do estilo Atmospheric', 0.0)\n",
            "('Probabilidade do estilo Experimental rock', 0.0)\n",
            "('Probabilidade do estilo Psychedelic death', 0.0)\n",
            "('Probabilidade do estilo Neoclassical symphonic', 0.0)\n",
            "('Probabilidade do estilo Noise', 0.0)\n",
            "('Probabilidade do estilo Avantgarde death', 0.0)\n"
          ],
          "name": "stdout"
        }
      ]
    },
    {
      "cell_type": "markdown",
      "metadata": {
        "id": "iYIATnBpM9Hm",
        "colab_type": "text"
      },
      "source": [
        "### Conclusões\n",
        "\n",
        "Após aplicarmos todas as probabilidades das bandas criadas após o ano de 2000, temos uma taxa muito baixa de criação onde:\n",
        "'Probabilidade do estilo Black', 7%   |\n",
        "'Probabilidade do estilo Death', 4,5% |\n",
        "'Probabilidade do estilo Heavy', 3,4% |\n",
        "\n",
        "Sendo estes os estilos de metal com maior chance de formação de 2000 - 2017.\n"
      ]
    }
  ]
}