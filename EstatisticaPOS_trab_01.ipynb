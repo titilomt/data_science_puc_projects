{
  "nbformat": 4,
  "nbformat_minor": 0,
  "metadata": {
    "colab": {
      "name": "EstatisticaPOS_trab_01.ipynb",
      "provenance": [],
      "collapsed_sections": [],
      "toc_visible": true,
      "authorship_tag": "ABX9TyPr4qPt/KvYZIj86tkeGtgb",
      "include_colab_link": true
    },
    "kernelspec": {
      "name": "python3",
      "display_name": "Python 3"
    }
  },
  "cells": [
    {
      "cell_type": "markdown",
      "metadata": {
        "id": "view-in-github",
        "colab_type": "text"
      },
      "source": [
        "<a href=\"https://colab.research.google.com/github/titilomt/data_science_puc_projects/blob/master/EstatisticaPOS_trab_01.ipynb\" target=\"_parent\"><img src=\"https://colab.research.google.com/assets/colab-badge.svg\" alt=\"Open In Colab\"/></a>"
      ]
    },
    {
      "cell_type": "markdown",
      "metadata": {
        "id": "kTj6wQ9fWSo1",
        "colab_type": "text"
      },
      "source": [
        "# PÓS-GRADUAÇÃO EM CIÊNCIAS DE DADOS E BIG DATA ESTATISTICA GERAL\n",
        "\n",
        "## Trabalho 01 - Estatistica descritiva\n",
        "\n",
        "### Exercicio 01 - Fabrica de azulejos\n",
        "\n",
        "#### Situação Problema\n",
        "Uma fábrica de azulejos recentemente começou a receber reclamações de seus clientes. A maioria das\n",
        "reclamações era relativa aos seguintes problemas:\n",
        "- Os azulejos, ao serem manuseados, quebravam-se facilmente\n",
        "- O assentamento dos azulejos não produzia um resultado uniforme em relação ao nível da parede.\n",
        "\n",
        "#### Hipóteses\n",
        "\n",
        "Em vista dessa situação, o gerente de vendas da indústria decidiu formar um grupo de trabalho para estudar estes\n",
        "problemas. Na primeira fase do estudo, o grupo de trabalho concluiu que a produção de azulejos com espessura não\n",
        "adequada poderia ser a causa dos problemas relatados pelos clientes. Esta conclusão resultou do conhecimento dos\n",
        "seguintes fatos:\n",
        "- Azulejos com espessura muito fina quebram-se facilmente.\n",
        "- A falta de uniformidade na espessura dos azulejos provoca dificuldades durante o seu assentamento.\n",
        "\n",
        "#### Premissas\n",
        "\n",
        "Sabe-se que os limites de especificação para a espessura dos azulejos são 5,0 +- 1.5mm, ou seja, a\n",
        "espessura dos azulejos deve variar entre 3.5 a 6.5 mm, sendo o valor nominal de especificação igual a 5.0 mm.\n",
        "\n"
      ]
    },
    {
      "cell_type": "markdown",
      "metadata": {
        "id": "n3cUHhDnYCNh",
        "colab_type": "text"
      },
      "source": [
        "### Análise\n",
        "\n",
        "Para avaliar se estavam ocorrendo problemas com a espessura dos azulejos produzidos, o grupo decidiu\n",
        "retirar uma amostra aleatória dos azulejos fabricados pela empresa, medir a espessura destes azulejos e\n",
        "comparar os resultados obtidos com as especificações. Como a indústria empregava duas turmas de trabalho\n",
        "(turmas A e B) e poderia haver diferença na qualidade dos azulejos produzidos por cada turma, foi utilizada\n",
        "uma estratificação, sendo então retirada uma amostra de 80 azulejos produzidos pela turma A e 80\n",
        "fabricados pela turma B. Os dados com as medidas de espessura (em mm) de 160 azulejos produzidos pela fábrica\n",
        "separados por turma de trabalho coletados estão apresentados no arquivo **Azulejo.csv**"
      ]
    },
    {
      "cell_type": "code",
      "metadata": {
        "id": "vg41rfVmaFCy",
        "colab_type": "code",
        "colab": {}
      },
      "source": [
        "import pandas as pd\n",
        "import matplotlib.pyplot as plt\n",
        "\n",
        "import seaborn as sns\n",
        "\n",
        "import json\n",
        "\n",
        "# Inicializando DataFrame\n",
        "\n",
        "df_azulejo = pd.read_csv('/tmp/Azulejo.csv', sep=';')\n",
        "\n",
        "# Transformando str para float\n",
        "\n",
        "df_azulejo['Espessura'] = df_azulejo.Espessura.str.replace(',', '.').astype(float)\n"
      ],
      "execution_count": 177,
      "outputs": []
    },
    {
      "cell_type": "code",
      "metadata": {
        "id": "JYQYHE6_bkLd",
        "colab_type": "code",
        "colab": {
          "base_uri": "https://localhost:8080/",
          "height": 357
        },
        "outputId": "c50727b5-5290-49fe-8a07-da5194efd1e6"
      },
      "source": [
        "# Descrevendo dados da tabela de Azulejos\n",
        "# Informações sobre a table\n",
        "df_azulejo.info()\n",
        "\n",
        "# Descrição das variáveis Mapeadas\n",
        " \n",
        "print(\"\"\"\n",
        "\n",
        "Variáveis mapeadas: \n",
        "-----------------------------------\n",
        "|    Espessura    |    Turma      |\n",
        "-----------------------------------\n",
        "|    Quantitativa |   Qualitativa |\n",
        "|      Discreta   |     nominal   |\n",
        "-----------------------------------\n",
        "\n",
        "\"\"\")"
      ],
      "execution_count": null,
      "outputs": [
        {
          "output_type": "stream",
          "text": [
            "<class 'pandas.core.frame.DataFrame'>\n",
            "RangeIndex: 160 entries, 0 to 159\n",
            "Data columns (total 2 columns):\n",
            " #   Column     Non-Null Count  Dtype  \n",
            "---  ------     --------------  -----  \n",
            " 0   Espessura  160 non-null    float64\n",
            " 1   Turma      160 non-null    object \n",
            "dtypes: float64(1), object(1)\n",
            "memory usage: 2.6+ KB\n",
            "\n",
            "\n",
            "Variáveis mapeadas: \n",
            "-----------------------------------\n",
            "|    Espessura    |    Turma      |\n",
            "-----------------------------------\n",
            "|    Quantitativa |   Qualitativa |\n",
            "|      Discreta   |     nominal   |\n",
            "-----------------------------------\n",
            "\n",
            "\n"
          ],
          "name": "stdout"
        }
      ]
    },
    {
      "cell_type": "code",
      "metadata": {
        "id": "F6IwAyiXmYKI",
        "colab_type": "code",
        "colab": {
          "base_uri": "https://localhost:8080/",
          "height": 466
        },
        "outputId": "c4817e70-e593-4ff6-e01b-6a0de58a8049"
      },
      "source": [
        "#\n",
        "# VARIAVEIS QUALITATIVAS NOMINAIS\n",
        "# Explorando Dados Categoricos Nominais\n",
        "\n",
        "type_counts = df_azulejo['Turma'].value_counts() # Conta valores de acordo com Turmas\n",
        "\n",
        "df_turmas_type = pd.DataFrame({'turma_type': type_counts}, index=['A', 'B'])\n",
        "\n",
        "df_turmas_type.plot.pie(y='turma_type', figsize=(10,8), autopct='%1.1f%%')\n",
        "\n",
        "plt.show()"
      ],
      "execution_count": null,
      "outputs": [
        {
          "output_type": "display_data",
          "data": {
            "image/png": "[encoded data removed]",
            "text/plain": [
              "<Figure size 720x576 with 1 Axes>"
            ]
          },
          "metadata": {
            "tags": []
          }
        }
      ]
    },
    {
      "cell_type": "code",
      "metadata": {
        "id": "Gu61qE7paH4t",
        "colab_type": "code",
        "colab": {
          "base_uri": "https://localhost:8080/",
          "height": 502
        },
        "outputId": "febe5a7b-2f66-41b3-c874-7bc6255cded4"
      },
      "source": [
        "# Boxplot grafico para distribuição numerica de Turmas A x B\n",
        "%matplotlib inline\n",
        "\n",
        "sns.set(style=\"whitegrid\")\n",
        "plt.figure(figsize=(10,8))\n",
        "ax = sns.boxplot(x='Turma', y='Espessura', data=df_azulejo, orient=\"v\")"
      ],
      "execution_count": null,
      "outputs": [
        {
          "output_type": "display_data",
          "data": {
            "image/png": "[encoded data removed]",
            "text/plain": [
              "<Figure size 720x576 with 1 Axes>"
            ]
          },
          "metadata": {
            "tags": []
          }
        }
      ]
    },
    {
      "cell_type": "code",
      "metadata": {
        "id": "NWeCbYY9mx7l",
        "colab_type": "code",
        "colab": {
          "base_uri": "https://localhost:8080/",
          "height": 502
        },
        "outputId": "d2779915-5ea3-4720-af1d-8c89777c9317"
      },
      "source": [
        "# Grafico de Barras contagem de Azulejos produzidos por Turmas A x B\n",
        "\n",
        "sns.set(style='darkgrid')\n",
        "plt.figure(figsize=(10,8))\n",
        "ax = sns.countplot(x='Turma', data=df_azulejo)\n",
        "ax.set(ylabel='Quantidade')\n",
        "plt.show()"
      ],
      "execution_count": null,
      "outputs": [
        {
          "output_type": "display_data",
          "data": {
            "image/png": "[encoded data removed]",
            "text/plain": [
              "<Figure size 720x576 with 1 Axes>"
            ]
          },
          "metadata": {
            "tags": []
          }
        }
      ]
    },
    {
      "cell_type": "code",
      "metadata": {
        "id": "IocNGXbVmhvI",
        "colab_type": "code",
        "colab": {
          "base_uri": "https://localhost:8080/",
          "height": 153
        },
        "outputId": "4786898a-5135-4a91-c792-175609d24ab6"
      },
      "source": [
        "# ------------------------------------------------------------------------------\n",
        "# VARIAVEIS QUANTITATIVAS DISCRETAS\n",
        "# Descrição de variáveis numericas \n",
        "\n",
        "print('Descrição de variações numericas: \\n', df_azulejo['Espessura'].agg(['min', 'max', 'mean', 'std', 'median']).round(decimals=2), sep='\\n')\n"
      ],
      "execution_count": null,
      "outputs": [
        {
          "output_type": "stream",
          "text": [
            "Descrição de variações numericas: \n",
            "\n",
            "min       2.30\n",
            "max       7.00\n",
            "mean      4.87\n",
            "std       1.23\n",
            "median    5.30\n",
            "Name: Espessura, dtype: float64\n"
          ],
          "name": "stdout"
        }
      ]
    },
    {
      "cell_type": "code",
      "metadata": {
        "id": "-ukMgPqLgxYu",
        "colab_type": "code",
        "colab": {
          "base_uri": "https://localhost:8080/",
          "height": 339
        },
        "outputId": "4f984e63-1a31-4086-de98-3d5c7cc383a3"
      },
      "source": [
        "# Histograma geral de Tabela de Azulejos\n",
        "\n",
        "filter_data = df_azulejo.dropna(subset=['Espessura']) # Removendo valores nulos de Serie Espessura\n",
        "plt.figure(figsize=(10,5)) # configurando Tamanho do gráfico\n",
        "ax = sns.distplot(filter_data['Espessura'], kde=False, bins=11) # plotando grafico de Histrograma\n",
        "ax.set_xlim(2, 7.5)\n",
        "plt.show()"
      ],
      "execution_count": null,
      "outputs": [
        {
          "output_type": "display_data",
          "data": {
            "image/png": "[encoded data removed]",
            "text/plain": [
              "<Figure size 720x360 with 1 Axes>"
            ]
          },
          "metadata": {
            "tags": []
          }
        }
      ]
    },
    {
      "cell_type": "code",
      "metadata": {
        "id": "AjkLwtjphV_Q",
        "colab_type": "code",
        "colab": {
          "base_uri": "https://localhost:8080/",
          "height": 333
        },
        "outputId": "7cf65709-e043-49c4-95d5-63e4338466bd"
      },
      "source": [
        "# Composição do Gráfico Histograma variáveis numericas Para turmas A e B separadamente\n",
        "\n",
        "df_azulejo.hist(figsize=(10,5), bins=12, range=(2, 7.5), column='Espessura', by='Turma')\n",
        "plt.show()"
      ],
      "execution_count": null,
      "outputs": [
        {
          "output_type": "display_data",
          "data": {
            "image/png": "[encoded data removed]",
            "text/plain": [
              "<Figure size 720x360 with 2 Axes>"
            ]
          },
          "metadata": {
            "tags": []
          }
        }
      ]
    },
    {
      "cell_type": "markdown",
      "metadata": {
        "id": "UjJoMiPZ7PdV",
        "colab_type": "text"
      },
      "source": [
        "### Perguntas a serem respondidas:\n",
        "\n",
        "a) Você considera que a *“espessura não adequada dos azulejos”* pode ser considerada como uma causa influente dos problemas detectados? Justifique sua resposta.\n",
        "\n",
        "b) Qual é a forma da distribuição das medidas de espessura dos azulejos produzidos pela fábrica?\n",
        "\n",
        "c) As proporções de itens produzidos fora da especificação estão relacionadas com as hipóteses da situação problema? Justifique.\n",
        "\n",
        "### Respostas: \n",
        "\n",
        "a) Sim. Como diz a premissa os azulejos, para que tenham uma garantia de qualidade, devem estar dentro do limite especificado para a espessura dos azulejos.\n",
        "\n",
        "b) Apessar de o gráfico mostrar que tem uma tendencia media muito forte, a forma da distribuição dos azulejos é Assimétrico à esquerda.\n",
        "\n",
        "c) Sim, pois como apresentado pelo gráfico de histograma, temos uma frequencia alta de azulejos produzidos fora da especificação, apesar de a grande maioria estar presente no intervalo de 3.5 a 6.5 mm."
      ]
    },
    {
      "cell_type": "code",
      "metadata": {
        "id": "AkbPEWq5kroS",
        "colab_type": "code",
        "colab": {
          "base_uri": "https://localhost:8080/",
          "height": 289
        },
        "outputId": "c5e5b957-1f56-40a2-ccd9-8b174917c076"
      },
      "source": [
        "# \n",
        "# Examinando variáveis Espessura de Turmas A e B separadamente do todo\n",
        "# \n",
        "\n",
        "df_turma_A = pd.DataFrame({'Espessura': df_azulejo.query(\"Turma == 'A'\")['Espessura'].tolist()}, columns=['Espessura'])\n",
        "df_turma_B = pd.DataFrame({'Espessura': df_azulejo.query(\"Turma == 'B'\")['Espessura'].tolist()}, columns=['Espessura'])\n",
        "\n",
        "print('\\nDescrição de variações numericas Turma A:', df_turma_A['Espessura'].agg(['min', 'max', 'mean', 'std', 'median']).round(decimals=2), sep='\\n')\n",
        "print('\\nDescrição de variações numericas Turma B:', df_turma_B['Espessura'].agg(['min', 'max', 'mean', 'std', 'median']).round(decimals=2), sep='\\n')\n",
        "\n"
      ],
      "execution_count": 162,
      "outputs": [
        {
          "output_type": "stream",
          "text": [
            "\n",
            "Descrição de variações numericas Turma A:\n",
            "min       2.30\n",
            "max       5.90\n",
            "mean      3.86\n",
            "std       0.87\n",
            "median    3.80\n",
            "Name: Espessura, dtype: float64\n",
            "\n",
            "Descrição de variações numericas Turma B:\n",
            "min       4.90\n",
            "max       7.00\n",
            "mean      5.87\n",
            "std       0.48\n",
            "median    5.80\n",
            "Name: Espessura, dtype: float64\n"
          ],
          "name": "stdout"
        }
      ]
    },
    {
      "cell_type": "code",
      "metadata": {
        "id": "PUni21jPAq9j",
        "colab_type": "code",
        "colab": {
          "base_uri": "https://localhost:8080/",
          "height": 170
        },
        "outputId": "11fb5198-29b8-48ea-ccb9-f24598889c2b"
      },
      "source": [
        "#\n",
        "# Dicionario de possibilidades \n",
        "# \n",
        "likelihood = {}\n",
        "\n",
        "# seleção de eventos para calcular probabilidade\n",
        "\n",
        "selecao_a_fora_spec = (df_turma_A['Espessura'] < 3.5) | (df_turma_A['Espessura'] > 6.5)\n",
        "selecao_b_fora_spec = (df_turma_B['Espessura'] < 3.5) | (df_turma_B['Espessura'] > 6.5)\n",
        "selecao_a_acima_spec = (df_turma_A['Espessura'] > 6.5)\n",
        "selecao_b_acima_spec = (df_turma_B['Espessura'] > 6.5)\n",
        "selecao_a_abaixo_spec = (df_turma_A['Espessura'] < 3.5)\n",
        "selecao_b_abaixo_spec = (df_turma_B['Espessura'] < 3.5)\n",
        "\n",
        "# Calculo de probabilidade \n",
        "prob_fora_espc_A = len(df_turma_A[\"Espessura\"][selecao_a_fora_spec])/len(df_turma_A[\"Espessura\"])\n",
        "prob_fora_espc_B = len(df_turma_B[\"Espessura\"][selecao_b_fora_spec])/len(df_turma_B[\"Espessura\"])\n",
        "prob_acima_espc_A = len(df_turma_A[\"Espessura\"][selecao_a_acima_spec])/len(df_turma_A[\"Espessura\"])\n",
        "prob_acima_espc_B = len(df_turma_B[\"Espessura\"][selecao_b_acima_spec])/len(df_turma_B[\"Espessura\"])\n",
        "prob_abaixo_espc_A = len(df_turma_A[\"Espessura\"][selecao_a_abaixo_spec])/len(df_turma_A[\"Espessura\"])\n",
        "prob_abaixo_espc_B = len(df_turma_B[\"Espessura\"][selecao_b_abaixo_spec])/len(df_turma_B[\"Espessura\"])\n",
        "\n",
        "# Mapeando as probabilidades \n",
        "likelihood['prob_fora_espc_A'] = prob_fora_espc_A\n",
        "likelihood['prob_fora_espc_B'] = prob_fora_espc_B\n",
        "likelihood['prob_acima_espc_A'] = prob_acima_espc_A\n",
        "likelihood['prob_acima_espc_B'] = prob_acima_espc_B\n",
        "likelihood['prob_abaixo_espc_A'] = prob_abaixo_espc_A\n",
        "likelihood['prob_abaixo_espc_B'] = prob_abaixo_espc_B\n",
        "\n",
        "print(\"Probabilidades: \", json.dumps(likelihood, indent=2), sep='\\n')\n"
      ],
      "execution_count": 181,
      "outputs": [
        {
          "output_type": "stream",
          "text": [
            "Probabilidades: \n",
            "{\n",
            "  \"prob_fora_espc_A\": 0.325,\n",
            "  \"prob_fora_espc_B\": 0.0875,\n",
            "  \"prob_acima_espc_A\": 0.0,\n",
            "  \"prob_acima_espc_B\": 0.0875,\n",
            "  \"prob_abaixo_espc_A\": 0.325,\n",
            "  \"prob_abaixo_espc_B\": 0.0\n",
            "}\n"
          ],
          "name": "stdout"
        }
      ]
    },
    {
      "cell_type": "markdown",
      "metadata": {
        "id": "IrU-m4_EvGEY",
        "colab_type": "text"
      },
      "source": [
        "### Com base nos histogramas, nas medidas descritivas e proporções, responda:\n",
        "\n",
        "d) Você considera que as duas turmas trabalham do mesmo modo ou existe diferença entre a qualidade\n",
        "dos azulejos produzidos pelas duas turmas? Justifique sua resposta.\n",
        "\n",
        "e) Compare a espessura dos azulejos produzidos pelas duas turmas levando em consideração as medidas de tendência central calculadas, o desvio padrão e o coeficiente de variação.\n",
        "\n",
        "f) Compare a espessura dos azulejos produzidos pelas duas turmas levando em consideração a proporção de produção de azulejos fora de especificação produzidos por cada turma.\n",
        "\n",
        "g) O problema de quebra dos azulejos parece ser comum aos azulejos produzidos por ambas as turmas de\n",
        "trabalho da empresa ou parece estar associado a uma turma específica? Por quê?\n",
        "\n",
        "h) O problema de falta de uniformidade no assentamento dos azulejos parece ser comum aos azulejos fabricados por ambas as turmas de trabalho da empresa ou parece estar associado a uma turma específica? Por quê?"
      ]
    },
    {
      "cell_type": "markdown",
      "metadata": {
        "id": "MahlRKW6vT7w",
        "colab_type": "text"
      },
      "source": [
        "### Respostas \n",
        "\n",
        "d) De acordo com o gráfico histograma de A e de B, podemos notar que tem uma diferença de qualidade onde A tem um formato Assimétrico a direita e B tem um formato contrário, Assimétrico a esquerda.\n",
        "\n",
        "e) Os azulejos produzidos pela turma A são muito mais finos que o da turma B notado pelo gráfico histograma. \n",
        "\n",
        "f) Podemos notar que a turma A tem uma maior presença fora do intervalo da especificação de 3.5mm até 6.5mm, onde o calculo de probabilidade de estar abaixo ou fora do especificado é maior que o da turma B, contudo a turma A não produziu nenhum item acima do intervalo especificado.\n",
        "\n",
        "g) A probabilidade de o problema estar relacionada a turma A é maior em comparação com a turma B, pois de acordo com o calculo da probabilidade em ambas as turmas, a Turma A tem uma chance de 32.5% de estar abaixo das especificação enquanto a Turma B 0%, e por estar abaixo, os azulejos produzidos terão menor resistência.\n",
        "\n",
        "h) A falta de uniformidade é comum a ambas as Turmas, porém a Turma A tem uma chance maior que produzir, não só um azulejo mais fraco como também fora do intervalo da especificação. "
      ]
    },
    {
      "cell_type": "markdown",
      "metadata": {
        "id": "MG4mSuL43cBx",
        "colab_type": "text"
      },
      "source": [
        "## Exercício 2\n",
        "\n",
        "### CRIANDO SUA ANÁLISE DE DADOS \n",
        "\n",
        "Para está segunda parte, analisaremos uma base de dados da plataforma Kaggle"
      ]
    }
  ]
}