{
  "nbformat": 4,
  "nbformat_minor": 0,
  "metadata": {
    "colab": {
      "name": "Untitled1.ipynb",
      "provenance": [],
      "toc_visible": true,
      "authorship_tag": "ABX9TyPEWzbZ49zE0nh7qILvNzyN",
      "include_colab_link": true
    },
    "kernelspec": {
      "name": "python3",
      "display_name": "Python 3"
    }
  },
  "cells": [
    {
      "cell_type": "markdown",
      "metadata": {
        "id": "view-in-github",
        "colab_type": "text"
      },
      "source": [
        "<a href=\"https://colab.research.google.com/github/titilomt/data_science_puc_projects/blob/master/EstatisticaPOS_trab_01.ipynb\" target=\"_parent\"><img src=\"https://colab.research.google.com/assets/colab-badge.svg\" alt=\"Open In Colab\"/></a>"
      ]
    },
    {
      "cell_type": "markdown",
      "metadata": {
        "id": "kTj6wQ9fWSo1",
        "colab_type": "text"
      },
      "source": [
        "# PÓS-GRADUAÇÃO EM CIÊNCIAS DE DADOS E BIG DATA ESTATISTICA GERAL\n",
        "\n",
        "## Trabalho 01 - Estatistica descritiva\n",
        "\n",
        "### Exercicio 01 - Fabrica de azulejos\n",
        "\n",
        "#### Situação Problema\n",
        "Uma fábrica de azulejos recentemente começou a receber reclamações de seus clientes. A maioria das\n",
        "reclamações era relativa aos seguintes problemas:\n",
        "- Os azulejos, ao serem manuseados, quebravam-se facilmente\n",
        "- O assentamento dos azulejos não produzia um resultado uniforme em relação ao nível da parede.\n",
        "\n",
        "#### Hipóteses\n",
        "\n",
        "Em vista dessa situação, o gerente de vendas da indústria decidiu formar um grupo de trabalho para estudar estes\n",
        "problemas. Na primeira fase do estudo, o grupo de trabalho concluiu que a produção de azulejos com espessura não\n",
        "adequada poderia ser a causa dos problemas relatados pelos clientes. Esta conclusão resultou do conhecimento dos\n",
        "seguintes fatos:\n",
        "- Azulejos com espessura muito fina quebram-se facilmente.\n",
        "- A falta de uniformidade na espessura dos azulejos provoca dificuldades durante o seu assentamento.\n",
        "\n",
        "#### Premissas\n",
        "\n",
        "Sabe-se que os limites de especificação para a espessura dos azulejos são 5,0 +- 1.5mm, ou seja, a\n",
        "espessura dos azulejos deve variar entre 3.5 a 6.5 mm, sendo o valor nominal de especificação igual a 5.0 mm.\n",
        "\n"
      ]
    },
    {
      "cell_type": "markdown",
      "metadata": {
        "id": "n3cUHhDnYCNh",
        "colab_type": "text"
      },
      "source": [
        "### Análise\n",
        "\n",
        "Para avaliar se estavam ocorrendo problemas com a espessura dos azulejos produzidos, o grupo decidiu\n",
        "retirar uma amostra aleatória dos azulejos fabricados pela empresa, medir a espessura destes azulejos e\n",
        "comparar os resultados obtidos com as especificações. Como a indústria empregava duas turmas de trabalho\n",
        "(turmas A e B) e poderia haver diferença na qualidade dos azulejos produzidos por cada turma, foi utilizada\n",
        "uma estratificação, sendo então retirada uma amostra de 80 azulejos produzidos pela turma A e 80\n",
        "fabricados pela turma B. Os dados com as medidas de espessura (em mm) de 160 azulejos produzidos pela fábrica\n",
        "separados por turma de trabalho coletados estão apresentados no arquivo **Azulejo.csv**"
      ]
    },
    {
      "cell_type": "code",
      "metadata": {
        "id": "vg41rfVmaFCy",
        "colab_type": "code",
        "colab": {}
      },
      "source": [
        ""
      ],
      "execution_count": null,
      "outputs": []
    }
  ]
}