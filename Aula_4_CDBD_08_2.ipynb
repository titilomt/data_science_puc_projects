{
  "nbformat": 4,
  "nbformat_minor": 0,
  "metadata": {
    "kernelspec": {
      "display_name": "Python 3",
      "language": "python",
      "name": "python3"
    },
    "language_info": {
      "codemirror_mode": {
        "name": "ipython",
        "version": 3
      },
      "file_extension": ".py",
      "mimetype": "text/x-python",
      "name": "python",
      "nbconvert_exporter": "python",
      "pygments_lexer": "ipython3",
      "version": "3.7.4"
    },
    "colab": {
      "name": "Aula 4 - CDBD 08_2.ipynb",
      "provenance": [],
      "collapsed_sections": [],
      "toc_visible": true,
      "include_colab_link": true
    }
  },
  "cells": [
    {
      "cell_type": "markdown",
      "metadata": {
        "id": "view-in-github",
        "colab_type": "text"
      },
      "source": [
        "<a href=\"https://colab.research.google.com/github/titilomt/data_science_puc_projects/blob/master/Aula_4_CDBD_08_2.ipynb\" target=\"_parent\"><img src=\"https://colab.research.google.com/assets/colab-badge.svg\" alt=\"Open In Colab\"/></a>"
      ]
    },
    {
      "cell_type": "code",
      "metadata": {
        "id": "QFrKIJMwE_Yx",
        "outputId": "b1fc85e3-f78b-4cd7-edca-942ac1321709",
        "colab": {
          "base_uri": "https://localhost:8080/",
          "height": 1000
        }
      },
      "source": [
        "!python -m spacy download pt\n",
        "!python -m spacy download en\n",
        "!pip install spacy\n",
        "!pip install beautifulsoup4"
      ],
      "execution_count": 5,
      "outputs": [
        {
          "output_type": "stream",
          "text": [
            "Collecting pt_core_news_sm==2.2.5\n",
            "\u001b[?25l  Downloading https://github.com/explosion/spacy-models/releases/download/pt_core_news_sm-2.2.5/pt_core_news_sm-2.2.5.tar.gz (21.2MB)\n",
            "\u001b[K     |████████████████████████████████| 21.2MB 1.2MB/s \n",
            "\u001b[?25hRequirement already satisfied: spacy>=2.2.2 in /usr/local/lib/python3.6/dist-packages (from pt_core_news_sm==2.2.5) (2.2.4)\n",
            "Requirement already satisfied: preshed<3.1.0,>=3.0.2 in /usr/local/lib/python3.6/dist-packages (from spacy>=2.2.2->pt_core_news_sm==2.2.5) (3.0.2)\n",
            "Requirement already satisfied: tqdm<5.0.0,>=4.38.0 in /usr/local/lib/python3.6/dist-packages (from spacy>=2.2.2->pt_core_news_sm==2.2.5) (4.41.1)\n",
            "Requirement already satisfied: catalogue<1.1.0,>=0.0.7 in /usr/local/lib/python3.6/dist-packages (from spacy>=2.2.2->pt_core_news_sm==2.2.5) (1.0.0)\n",
            "Requirement already satisfied: setuptools in /usr/local/lib/python3.6/dist-packages (from spacy>=2.2.2->pt_core_news_sm==2.2.5) (50.3.0)\n",
            "Requirement already satisfied: cymem<2.1.0,>=2.0.2 in /usr/local/lib/python3.6/dist-packages (from spacy>=2.2.2->pt_core_news_sm==2.2.5) (2.0.3)\n",
            "Requirement already satisfied: wasabi<1.1.0,>=0.4.0 in /usr/local/lib/python3.6/dist-packages (from spacy>=2.2.2->pt_core_news_sm==2.2.5) (0.8.0)\n",
            "Requirement already satisfied: srsly<1.1.0,>=1.0.2 in /usr/local/lib/python3.6/dist-packages (from spacy>=2.2.2->pt_core_news_sm==2.2.5) (1.0.2)\n",
            "Requirement already satisfied: numpy>=1.15.0 in /usr/local/lib/python3.6/dist-packages (from spacy>=2.2.2->pt_core_news_sm==2.2.5) (1.18.5)\n",
            "Requirement already satisfied: blis<0.5.0,>=0.4.0 in /usr/local/lib/python3.6/dist-packages (from spacy>=2.2.2->pt_core_news_sm==2.2.5) (0.4.1)\n",
            "Requirement already satisfied: thinc==7.4.0 in /usr/local/lib/python3.6/dist-packages (from spacy>=2.2.2->pt_core_news_sm==2.2.5) (7.4.0)\n",
            "Requirement already satisfied: murmurhash<1.1.0,>=0.28.0 in /usr/local/lib/python3.6/dist-packages (from spacy>=2.2.2->pt_core_news_sm==2.2.5) (1.0.2)\n",
            "Requirement already satisfied: plac<1.2.0,>=0.9.6 in /usr/local/lib/python3.6/dist-packages (from spacy>=2.2.2->pt_core_news_sm==2.2.5) (1.1.3)\n",
            "Requirement already satisfied: requests<3.0.0,>=2.13.0 in /usr/local/lib/python3.6/dist-packages (from spacy>=2.2.2->pt_core_news_sm==2.2.5) (2.23.0)\n",
            "Requirement already satisfied: importlib-metadata>=0.20; python_version < \"3.8\" in /usr/local/lib/python3.6/dist-packages (from catalogue<1.1.0,>=0.0.7->spacy>=2.2.2->pt_core_news_sm==2.2.5) (2.0.0)\n",
            "Requirement already satisfied: urllib3!=1.25.0,!=1.25.1,<1.26,>=1.21.1 in /usr/local/lib/python3.6/dist-packages (from requests<3.0.0,>=2.13.0->spacy>=2.2.2->pt_core_news_sm==2.2.5) (1.24.3)\n",
            "Requirement already satisfied: idna<3,>=2.5 in /usr/local/lib/python3.6/dist-packages (from requests<3.0.0,>=2.13.0->spacy>=2.2.2->pt_core_news_sm==2.2.5) (2.10)\n",
            "Requirement already satisfied: chardet<4,>=3.0.2 in /usr/local/lib/python3.6/dist-packages (from requests<3.0.0,>=2.13.0->spacy>=2.2.2->pt_core_news_sm==2.2.5) (3.0.4)\n",
            "Requirement already satisfied: certifi>=2017.4.17 in /usr/local/lib/python3.6/dist-packages (from requests<3.0.0,>=2.13.0->spacy>=2.2.2->pt_core_news_sm==2.2.5) (2020.6.20)\n",
            "Requirement already satisfied: zipp>=0.5 in /usr/local/lib/python3.6/dist-packages (from importlib-metadata>=0.20; python_version < \"3.8\"->catalogue<1.1.0,>=0.0.7->spacy>=2.2.2->pt_core_news_sm==2.2.5) (3.2.0)\n",
            "Building wheels for collected packages: pt-core-news-sm\n",
            "  Building wheel for pt-core-news-sm (setup.py) ... \u001b[?25l\u001b[?25hdone\n",
            "  Created wheel for pt-core-news-sm: filename=pt_core_news_sm-2.2.5-cp36-none-any.whl size=21186282 sha256=26cbdc3fc356d5c6bfe9e9e2a90123bd33e47af64997c45f3e385db3c3cbf2db\n",
            "  Stored in directory: /tmp/pip-ephem-wheel-cache-7pg04pop/wheels/ea/94/74/ec9be8418e9231b471be5dc7e1b45dd670019a376a6b5bc1c0\n",
            "Successfully built pt-core-news-sm\n",
            "Installing collected packages: pt-core-news-sm\n",
            "Successfully installed pt-core-news-sm-2.2.5\n",
            "\u001b[38;5;2m✔ Download and installation successful\u001b[0m\n",
            "You can now load the model via spacy.load('pt_core_news_sm')\n",
            "\u001b[38;5;2m✔ Linking successful\u001b[0m\n",
            "/usr/local/lib/python3.6/dist-packages/pt_core_news_sm -->\n",
            "/usr/local/lib/python3.6/dist-packages/spacy/data/pt\n",
            "You can now load the model via spacy.load('pt')\n",
            "Requirement already satisfied: en_core_web_sm==2.2.5 from https://github.com/explosion/spacy-models/releases/download/en_core_web_sm-2.2.5/en_core_web_sm-2.2.5.tar.gz#egg=en_core_web_sm==2.2.5 in /usr/local/lib/python3.6/dist-packages (2.2.5)\n",
            "Requirement already satisfied: spacy>=2.2.2 in /usr/local/lib/python3.6/dist-packages (from en_core_web_sm==2.2.5) (2.2.4)\n",
            "Requirement already satisfied: preshed<3.1.0,>=3.0.2 in /usr/local/lib/python3.6/dist-packages (from spacy>=2.2.2->en_core_web_sm==2.2.5) (3.0.2)\n",
            "Requirement already satisfied: thinc==7.4.0 in /usr/local/lib/python3.6/dist-packages (from spacy>=2.2.2->en_core_web_sm==2.2.5) (7.4.0)\n",
            "Requirement already satisfied: murmurhash<1.1.0,>=0.28.0 in /usr/local/lib/python3.6/dist-packages (from spacy>=2.2.2->en_core_web_sm==2.2.5) (1.0.2)\n",
            "Requirement already satisfied: setuptools in /usr/local/lib/python3.6/dist-packages (from spacy>=2.2.2->en_core_web_sm==2.2.5) (50.3.0)\n",
            "Requirement already satisfied: cymem<2.1.0,>=2.0.2 in /usr/local/lib/python3.6/dist-packages (from spacy>=2.2.2->en_core_web_sm==2.2.5) (2.0.3)\n",
            "Requirement already satisfied: catalogue<1.1.0,>=0.0.7 in /usr/local/lib/python3.6/dist-packages (from spacy>=2.2.2->en_core_web_sm==2.2.5) (1.0.0)\n",
            "Requirement already satisfied: srsly<1.1.0,>=1.0.2 in /usr/local/lib/python3.6/dist-packages (from spacy>=2.2.2->en_core_web_sm==2.2.5) (1.0.2)\n",
            "Requirement already satisfied: blis<0.5.0,>=0.4.0 in /usr/local/lib/python3.6/dist-packages (from spacy>=2.2.2->en_core_web_sm==2.2.5) (0.4.1)\n",
            "Requirement already satisfied: numpy>=1.15.0 in /usr/local/lib/python3.6/dist-packages (from spacy>=2.2.2->en_core_web_sm==2.2.5) (1.18.5)\n",
            "Requirement already satisfied: wasabi<1.1.0,>=0.4.0 in /usr/local/lib/python3.6/dist-packages (from spacy>=2.2.2->en_core_web_sm==2.2.5) (0.8.0)\n",
            "Requirement already satisfied: plac<1.2.0,>=0.9.6 in /usr/local/lib/python3.6/dist-packages (from spacy>=2.2.2->en_core_web_sm==2.2.5) (1.1.3)\n",
            "Requirement already satisfied: tqdm<5.0.0,>=4.38.0 in /usr/local/lib/python3.6/dist-packages (from spacy>=2.2.2->en_core_web_sm==2.2.5) (4.41.1)\n",
            "Requirement already satisfied: requests<3.0.0,>=2.13.0 in /usr/local/lib/python3.6/dist-packages (from spacy>=2.2.2->en_core_web_sm==2.2.5) (2.23.0)\n",
            "Requirement already satisfied: importlib-metadata>=0.20; python_version < \"3.8\" in /usr/local/lib/python3.6/dist-packages (from catalogue<1.1.0,>=0.0.7->spacy>=2.2.2->en_core_web_sm==2.2.5) (2.0.0)\n",
            "Requirement already satisfied: idna<3,>=2.5 in /usr/local/lib/python3.6/dist-packages (from requests<3.0.0,>=2.13.0->spacy>=2.2.2->en_core_web_sm==2.2.5) (2.10)\n",
            "Requirement already satisfied: chardet<4,>=3.0.2 in /usr/local/lib/python3.6/dist-packages (from requests<3.0.0,>=2.13.0->spacy>=2.2.2->en_core_web_sm==2.2.5) (3.0.4)\n",
            "Requirement already satisfied: certifi>=2017.4.17 in /usr/local/lib/python3.6/dist-packages (from requests<3.0.0,>=2.13.0->spacy>=2.2.2->en_core_web_sm==2.2.5) (2020.6.20)\n",
            "Requirement already satisfied: urllib3!=1.25.0,!=1.25.1,<1.26,>=1.21.1 in /usr/local/lib/python3.6/dist-packages (from requests<3.0.0,>=2.13.0->spacy>=2.2.2->en_core_web_sm==2.2.5) (1.24.3)\n",
            "Requirement already satisfied: zipp>=0.5 in /usr/local/lib/python3.6/dist-packages (from importlib-metadata>=0.20; python_version < \"3.8\"->catalogue<1.1.0,>=0.0.7->spacy>=2.2.2->en_core_web_sm==2.2.5) (3.2.0)\n",
            "\u001b[38;5;2m✔ Download and installation successful\u001b[0m\n",
            "You can now load the model via spacy.load('en_core_web_sm')\n",
            "\u001b[38;5;2m✔ Linking successful\u001b[0m\n",
            "/usr/local/lib/python3.6/dist-packages/en_core_web_sm -->\n",
            "/usr/local/lib/python3.6/dist-packages/spacy/data/en\n",
            "You can now load the model via spacy.load('en')\n",
            "Requirement already satisfied: spacy in /usr/local/lib/python3.6/dist-packages (2.2.4)\n",
            "Requirement already satisfied: blis<0.5.0,>=0.4.0 in /usr/local/lib/python3.6/dist-packages (from spacy) (0.4.1)\n",
            "Requirement already satisfied: plac<1.2.0,>=0.9.6 in /usr/local/lib/python3.6/dist-packages (from spacy) (1.1.3)\n",
            "Requirement already satisfied: numpy>=1.15.0 in /usr/local/lib/python3.6/dist-packages (from spacy) (1.18.5)\n",
            "Requirement already satisfied: wasabi<1.1.0,>=0.4.0 in /usr/local/lib/python3.6/dist-packages (from spacy) (0.8.0)\n",
            "Requirement already satisfied: catalogue<1.1.0,>=0.0.7 in /usr/local/lib/python3.6/dist-packages (from spacy) (1.0.0)\n",
            "Requirement already satisfied: tqdm<5.0.0,>=4.38.0 in /usr/local/lib/python3.6/dist-packages (from spacy) (4.41.1)\n",
            "Requirement already satisfied: cymem<2.1.0,>=2.0.2 in /usr/local/lib/python3.6/dist-packages (from spacy) (2.0.3)\n",
            "Requirement already satisfied: thinc==7.4.0 in /usr/local/lib/python3.6/dist-packages (from spacy) (7.4.0)\n",
            "Requirement already satisfied: preshed<3.1.0,>=3.0.2 in /usr/local/lib/python3.6/dist-packages (from spacy) (3.0.2)\n",
            "Requirement already satisfied: setuptools in /usr/local/lib/python3.6/dist-packages (from spacy) (50.3.0)\n",
            "Requirement already satisfied: murmurhash<1.1.0,>=0.28.0 in /usr/local/lib/python3.6/dist-packages (from spacy) (1.0.2)\n",
            "Requirement already satisfied: srsly<1.1.0,>=1.0.2 in /usr/local/lib/python3.6/dist-packages (from spacy) (1.0.2)\n",
            "Requirement already satisfied: requests<3.0.0,>=2.13.0 in /usr/local/lib/python3.6/dist-packages (from spacy) (2.23.0)\n",
            "Requirement already satisfied: importlib-metadata>=0.20; python_version < \"3.8\" in /usr/local/lib/python3.6/dist-packages (from catalogue<1.1.0,>=0.0.7->spacy) (2.0.0)\n",
            "Requirement already satisfied: idna<3,>=2.5 in /usr/local/lib/python3.6/dist-packages (from requests<3.0.0,>=2.13.0->spacy) (2.10)\n",
            "Requirement already satisfied: chardet<4,>=3.0.2 in /usr/local/lib/python3.6/dist-packages (from requests<3.0.0,>=2.13.0->spacy) (3.0.4)\n",
            "Requirement already satisfied: certifi>=2017.4.17 in /usr/local/lib/python3.6/dist-packages (from requests<3.0.0,>=2.13.0->spacy) (2020.6.20)\n",
            "Requirement already satisfied: urllib3!=1.25.0,!=1.25.1,<1.26,>=1.21.1 in /usr/local/lib/python3.6/dist-packages (from requests<3.0.0,>=2.13.0->spacy) (1.24.3)\n",
            "Requirement already satisfied: zipp>=0.5 in /usr/local/lib/python3.6/dist-packages (from importlib-metadata>=0.20; python_version < \"3.8\"->catalogue<1.1.0,>=0.0.7->spacy) (3.2.0)\n",
            "Requirement already satisfied: beautifulsoup4 in /usr/local/lib/python3.6/dist-packages (4.6.3)\n"
          ],
          "name": "stdout"
        }
      ]
    },
    {
      "cell_type": "code",
      "metadata": {
        "id": "srgJOcF_E_Y4"
      },
      "source": [
        "import nltk\n",
        "import spacy\n",
        "from spacy import displacy \n",
        "import tqdm\n",
        "import operator\n",
        "import requests\n",
        "from bs4 import BeautifulSoup\n",
        "import re\n",
        "import pt_core_news_sm\n",
        "import en_core_web_sm\n",
        "from collections import Counter\n",
        "import random\n",
        "import operator\n",
        "import matplotlib.pyplot as plt"
      ],
      "execution_count": 6,
      "outputs": []
    },
    {
      "cell_type": "markdown",
      "metadata": {
        "id": "4xX0c3nBE_ZA"
      },
      "source": [
        "# Pos tagging"
      ]
    },
    {
      "cell_type": "markdown",
      "metadata": {
        "id": "B7qiO_RUE_ZB"
      },
      "source": [
        "## Abordagem Manual\n",
        "\n",
        "Em empresas, quando queremos construir/usar um POS Tagging, estamos buscando uma ferramenta para trabalhar em algum cenário específico e direcionado ao negócio. Por exemplo, recuperar todos os verbos de um texto, para analisar de forma geral as ações que um cliente conecta com a marca no Twitter. Nesse sentido, podemos usar duas abordagens:\n",
        "\n",
        "    1 - Construir um modelo próprio que resolva esse cenário\n",
        "    2 - Usar modelos que já existem e, se necessário, treiná-los para melhor performance no nosso cenário\n",
        "\n",
        "Para esse exercício, vamos simular esse cenário de recuperar verbos de um texto. Apesar da abordagem 2 parecer mais interessante, vamos tentar construir nosso próprio modelo e aprender um pouco sobre a complexidade do problema.\n",
        "\n",
        "Inicialmente, vamos reduzir bem nosso escopo, focando em\n",
        "\n",
        "    - REGEX com NamedGoups\n",
        "    - Verbos simples, como estudar\n",
        "    \n",
        "Use o método abaixo para verificar quais grupos foram identificados pela expressão regular:\n",
        "\n",
        "```python\n",
        "def print_found_groups(pattern, phrase):\n",
        "    regex = re.compile(pattern)\n",
        "    for m in regex.finditer(phrase):\n",
        "        print({k:v for(k,v) in m.groupdict().items() if v is not None})\n",
        "```\n",
        "\n",
        "Mais informações de regex: https://docs.python.org/pt-br/3.8/howto/regex.html"
      ]
    },
    {
      "cell_type": "code",
      "metadata": {
        "id": "44VqvRf5E_ZC"
      },
      "source": [
        "def print_found_groups(pattern, phrase):\n",
        "    regex = re.compile(pattern)\n",
        "    for m in regex.finditer(phrase):\n",
        "        print({k:v for(k,v) in m.groupdict().items() if v is not None})"
      ],
      "execution_count": null,
      "outputs": []
    },
    {
      "cell_type": "code",
      "metadata": {
        "id": "_Zal3TCIE_ZH"
      },
      "source": [
        "phrase1 = \"eu estudo, você estuda, nós estudamos e vc sabe como é... estudos em todo lugar \""
      ],
      "execution_count": null,
      "outputs": []
    },
    {
      "cell_type": "code",
      "metadata": {
        "id": "g3pukzn_E_ZL"
      },
      "source": [
        "estudar_pattern_try1 = r'(?P<VERB_ESTUDAR>\\bestud\\w?\\b)'"
      ],
      "execution_count": null,
      "outputs": []
    },
    {
      "cell_type": "code",
      "metadata": {
        "id": "57k1JsbtE_ZQ",
        "outputId": "59efb0c2-3320-4be4-84e3-bee8e04fc658",
        "colab": {
          "base_uri": "https://localhost:8080/",
          "height": 54
        }
      },
      "source": [
        "print_found_groups(estudar_pattern_try1, phrase1)"
      ],
      "execution_count": null,
      "outputs": [
        {
          "output_type": "stream",
          "text": [
            "{'VERB_ESTUDAR': 'estudo'}\n",
            "{'VERB_ESTUDAR': 'estuda'}\n"
          ],
          "name": "stdout"
        }
      ]
    },
    {
      "cell_type": "markdown",
      "metadata": {
        "id": "VLGxoUwgE_ZU"
      },
      "source": [
        "<b> Atividade </b>\n",
        "\n",
        "1) Modifique o padrão da regex para conseguir reconhecer todas as conjugações do verbo estudar na 'phrase1'"
      ]
    },
    {
      "cell_type": "code",
      "metadata": {
        "id": "2AQwSVOzNPXa"
      },
      "source": [
        "estudar_pattern_try1 = r'(?P<VERB_ESTUDAR>\\bestud\\w*\\b)'"
      ],
      "execution_count": null,
      "outputs": []
    },
    {
      "cell_type": "code",
      "metadata": {
        "id": "FILTzhABNPQv",
        "outputId": "b446ed72-2ee3-48f7-815b-a9dfdd5e4fcb",
        "colab": {
          "base_uri": "https://localhost:8080/",
          "height": 90
        }
      },
      "source": [
        "print_found_groups(estudar_pattern_try1, phrase1)"
      ],
      "execution_count": null,
      "outputs": [
        {
          "output_type": "stream",
          "text": [
            "{'VERB_ESTUDAR': 'estudo'}\n",
            "{'VERB_ESTUDAR': 'estuda'}\n",
            "{'VERB_ESTUDAR': 'estudamos'}\n",
            "{'VERB_ESTUDAR': 'estudos'}\n"
          ],
          "name": "stdout"
        }
      ]
    },
    {
      "cell_type": "code",
      "metadata": {
        "id": "wbgwnI_UL_40"
      },
      "source": [
        ""
      ],
      "execution_count": null,
      "outputs": []
    },
    {
      "cell_type": "markdown",
      "metadata": {
        "id": "uG-4wO3yE_Za"
      },
      "source": [
        "<b> Atividade </b>\n",
        "\n",
        "2) A solução da atividade 1 trouxe todos verbos? Todas as palavras eram verbos? "
      ]
    },
    {
      "cell_type": "markdown",
      "metadata": {
        "id": "4oRTAE44L9Fj"
      },
      "source": [
        "Sim, trouxe as conjugações do verbo estudar que existiam dentro da frase.\n",
        "Porém teve uma palavra que não é verbo mas é um radical de estudar \"estudos\"."
      ]
    },
    {
      "cell_type": "markdown",
      "metadata": {
        "id": "9iw96PaGE_Zf"
      },
      "source": [
        "<b> Atividade </b>\n",
        "\n",
        "3) Modifique o padrão da regex para identificar todos os verbos da frase abaixo. \n",
        "\n",
        "```python\n",
        "phrase2 = \"O principal uso que fazemos do canvas é ver e entregar exercícios, além de acessar os materiais postados pelos professores. É importante realizar o acesso todos os dias.\"\n",
        "```\n",
        "\n",
        "Observe que 'acessar' e 'acesso', apesar de serem palavras semelhantes, despenham papéis diferentes. O 'acesso' é um caso claro de polissemia. Observe as duas frases abaixo que isto ficará mais claro:\n",
        "\n",
        "    - Meu acesso funcionou -> Aqui é substantivo\n",
        "    - Eu acesso a aula -> Aqui é verbo\n",
        "\n",
        "Utilize o método abaixo para retornar os grupos de acordo com a expressão regular construída:\n",
        "```python\n",
        "def get_found_groups(pattern, phrase):\n",
        "    regex = re.compile(pattern)\n",
        "    return {v:k for m in regex.finditer(phrase) for(k,v) in m.groupdict().items() if v is not None }\n",
        "```"
      ]
    },
    {
      "cell_type": "code",
      "metadata": {
        "id": "6R9e3wF8E_Zg"
      },
      "source": [
        "phrase2 = \"O principal uso que fazemos do canvas é ver e entregar exercícios, além de acessar os materiais postados pelos professores. É importante realizar o acesso todos os dias.\""
      ],
      "execution_count": null,
      "outputs": []
    },
    {
      "cell_type": "code",
      "metadata": {
        "id": "XZsOr7vHNwve",
        "outputId": "09b64b80-3852-4549-d28b-85758baf02c0",
        "colab": {
          "base_uri": "https://localhost:8080/",
          "height": 54
        }
      },
      "source": [
        "phrase2"
      ],
      "execution_count": null,
      "outputs": [
        {
          "output_type": "execute_result",
          "data": {
            "application/vnd.google.colaboratory.intrinsic+json": {
              "type": "string"
            },
            "text/plain": [
              "'O principal uso que fazemos do canvas é ver e entregar exercícios, além de acessar os materiais postados pelos professores. É importante realizar o acesso todos os dias.'"
            ]
          },
          "metadata": {
            "tags": []
          },
          "execution_count": 13
        }
      ]
    },
    {
      "cell_type": "code",
      "metadata": {
        "id": "c6U-gQ6DE_Zk"
      },
      "source": [
        "def get_found_groups(pattern, phrase):\n",
        "    regex = re.compile(pattern)\n",
        "    return {v:k for m in regex.finditer(phrase) for(k,v) in m.groupdict().items() if v is not None }"
      ],
      "execution_count": null,
      "outputs": []
    },
    {
      "cell_type": "code",
      "metadata": {
        "id": "HFn6ly9fFzgJ"
      },
      "source": [
        "verbs_list = [\"uso\", \"faz\\w{0,4}\",\"ver\",\"é\",\"entregar\",\"acess\\w{1,2}\",\"realizar\"]"
      ],
      "execution_count": null,
      "outputs": []
    },
    {
      "cell_type": "code",
      "metadata": {
        "id": "2q0Oaj3EFzdX"
      },
      "source": [
        "verbs_pattern = r'(?P<VERBOS>'+\"|\".join(verbs_list)+\")\""
      ],
      "execution_count": null,
      "outputs": []
    },
    {
      "cell_type": "code",
      "metadata": {
        "id": "cFFTPdZyP1To",
        "outputId": "8ad30e70-f89b-43d9-941d-3b081feac712",
        "colab": {
          "base_uri": "https://localhost:8080/",
          "height": 36
        }
      },
      "source": [
        "verbs_pattern"
      ],
      "execution_count": null,
      "outputs": [
        {
          "output_type": "execute_result",
          "data": {
            "application/vnd.google.colaboratory.intrinsic+json": {
              "type": "string"
            },
            "text/plain": [
              "'(?P<VERBOS>uso|faz\\\\w{0,4}|ver|é|entregar|acess\\\\w{1,2}|realizar)'"
            ]
          },
          "metadata": {
            "tags": []
          },
          "execution_count": 16
        }
      ]
    },
    {
      "cell_type": "code",
      "metadata": {
        "id": "p9rOO0HuP8tJ",
        "outputId": "836d6f07-3600-4ebf-96fe-de0847500c52",
        "colab": {
          "base_uri": "https://localhost:8080/",
          "height": 164
        }
      },
      "source": [
        "get_found_groups(verbs_pattern, phrase2)"
      ],
      "execution_count": null,
      "outputs": [
        {
          "output_type": "execute_result",
          "data": {
            "text/plain": [
              "{'acessar': 'VERBOS',\n",
              " 'acesso': 'VERBOS',\n",
              " 'entregar': 'VERBOS',\n",
              " 'fazemos': 'VERBOS',\n",
              " 'realizar': 'VERBOS',\n",
              " 'uso': 'VERBOS',\n",
              " 'ver': 'VERBOS',\n",
              " 'é': 'VERBOS'}"
            ]
          },
          "metadata": {
            "tags": []
          },
          "execution_count": 17
        }
      ]
    },
    {
      "cell_type": "code",
      "metadata": {
        "id": "xwTPSaTrE_Zp"
      },
      "source": [
        "verbs_group = get_found_groups(verbs_pattern, phrase2)"
      ],
      "execution_count": null,
      "outputs": []
    },
    {
      "cell_type": "code",
      "metadata": {
        "id": "UDbe3OsqQXaU",
        "outputId": "78a2cff2-def4-48fe-84ee-111f9eef7b50",
        "colab": {
          "base_uri": "https://localhost:8080/",
          "height": 164
        }
      },
      "source": [
        "verbs_group"
      ],
      "execution_count": null,
      "outputs": [
        {
          "output_type": "execute_result",
          "data": {
            "text/plain": [
              "{'acessar': 'VERBOS',\n",
              " 'acesso': 'VERBOS',\n",
              " 'entregar': 'VERBOS',\n",
              " 'fazemos': 'VERBOS',\n",
              " 'realizar': 'VERBOS',\n",
              " 'uso': 'VERBOS',\n",
              " 'ver': 'VERBOS',\n",
              " 'é': 'VERBOS'}"
            ]
          },
          "metadata": {
            "tags": []
          },
          "execution_count": 19
        }
      ]
    },
    {
      "cell_type": "markdown",
      "metadata": {
        "id": "d1eG9d9mE_Zx"
      },
      "source": [
        "<b> Atividade </b>\n",
        "\n",
        "4) Modifique o padrão da regex para identificar todos os substantivos da frase abaixo. \n",
        "\n",
        "```python\n",
        "phrase2 = \"O principal uso que fazemos do canvas é ver e entregar exercícios, além de acessar os materiais postados pelos professores. É importante realizar o acesso todos os dias.\"\n",
        "```\n",
        "\n",
        "Utilize o método abaixo para retornar os grupos de acordo com a expressão regular construída:\n",
        "```python\n",
        "def get_found_groups(pattern, phrase):\n",
        "    regex = re.compile(pattern)\n",
        "    return {v:k for m in regex.finditer(phrase) for(k,v) in m.groupdict().items() if v is not None }\n",
        "```"
      ]
    },
    {
      "cell_type": "code",
      "metadata": {
        "id": "6_98okQ7E_Zx"
      },
      "source": [
        "subs_list = [\"canvas\", \"exercício\\w{0,1}\",\"materia\\w{0,2}\",\"professores\",\"acesso\", \"dias\"]"
      ],
      "execution_count": null,
      "outputs": []
    },
    {
      "cell_type": "code",
      "metadata": {
        "id": "INrN7tAIF-Zo"
      },
      "source": [
        "subs_pattern = r'(?P<SUBS>'+\"|\".join(subs_list)+\")\""
      ],
      "execution_count": null,
      "outputs": []
    },
    {
      "cell_type": "code",
      "metadata": {
        "id": "z2QC70S2F-VY",
        "outputId": "e082c42e-fa30-49c3-d800-6decc87101ec",
        "colab": {
          "base_uri": "https://localhost:8080/",
          "height": 127
        }
      },
      "source": [
        "get_found_groups(subs_pattern, phrase2)"
      ],
      "execution_count": null,
      "outputs": [
        {
          "output_type": "execute_result",
          "data": {
            "text/plain": [
              "{'acesso': 'SUBS',\n",
              " 'canvas': 'SUBS',\n",
              " 'dias': 'SUBS',\n",
              " 'exercícios': 'SUBS',\n",
              " 'materiais': 'SUBS',\n",
              " 'professores': 'SUBS'}"
            ]
          },
          "metadata": {
            "tags": []
          },
          "execution_count": 22
        }
      ]
    },
    {
      "cell_type": "code",
      "metadata": {
        "id": "DCsPvkqFF-Pb"
      },
      "source": [
        ""
      ],
      "execution_count": null,
      "outputs": []
    },
    {
      "cell_type": "code",
      "metadata": {
        "id": "1M20s2XPE_Z1"
      },
      "source": [
        ""
      ],
      "execution_count": null,
      "outputs": []
    },
    {
      "cell_type": "markdown",
      "metadata": {
        "id": "s9ZpeTTFE_Z6"
      },
      "source": [
        "<b> Atividade </b>\n",
        "\n",
        "5) Essa abordagem de construção da regex para taggear as palavras é uma tarefa simples? Qual o valor/aplicação você consegue enxergar para ela?"
      ]
    },
    {
      "cell_type": "markdown",
      "metadata": {
        "id": "Uin2-FHTRPaz"
      },
      "source": [
        "Este tipo de abordagem requer alguns passos complicados e não é garantia de que o retorno vai ter um nível de assertividade. \n",
        "Por isso pode-se classificar como complexa.\n",
        "\n",
        "Se for preciso realizar um treinamento de grupos específicos, a regex será uma escolha mais ideal.  "
      ]
    },
    {
      "cell_type": "markdown",
      "metadata": {
        "id": "YL57ryVDE_Z_"
      },
      "source": [
        "<b> Atividade </b>\n",
        "\n",
        "6) Nas atividades 3 e 4 você retornou todos os substantivos e verbos da phrase2. Agora marque-os na frase.  O retorno esperado da frase é: \n",
        "\n",
        "``O principal uso_VERB que fazemos_VERB do canvas é ver_VERB e entregar_VERB exercícios, além de acessar_VERB os materiais postados pelos professores. É importante realizar_VERB o acesso_SUBS|VERB todos os dias.``\n",
        "\n",
        "Observe que a palavra acesso tem duas tags = SUBS e VERB."
      ]
    },
    {
      "cell_type": "code",
      "metadata": {
        "id": "xeA1agHOE_aA",
        "outputId": "f91666c9-c212-4525-ca45-fae02d530af5",
        "colab": {
          "base_uri": "https://localhost:8080/",
          "height": 68
        }
      },
      "source": [
        "import nltk\n",
        "nltk.download('punkt')"
      ],
      "execution_count": 7,
      "outputs": [
        {
          "output_type": "stream",
          "text": [
            "[nltk_data] Downloading package punkt to /root/nltk_data...\n",
            "[nltk_data]   Unzipping tokenizers/punkt.zip.\n"
          ],
          "name": "stdout"
        },
        {
          "output_type": "execute_result",
          "data": {
            "text/plain": [
              "True"
            ]
          },
          "metadata": {
            "tags": []
          },
          "execution_count": 7
        }
      ]
    },
    {
      "cell_type": "code",
      "metadata": {
        "id": "nJ9luu36E_aE"
      },
      "source": [
        "tokens_nltk = nltk.word_tokenize(phrase2)"
      ],
      "execution_count": null,
      "outputs": []
    },
    {
      "cell_type": "code",
      "metadata": {
        "id": "MFTd3Z6mGIEb",
        "outputId": "26743e18-1d7c-4f31-9b54-d573c2ee5daa",
        "colab": {
          "base_uri": "https://localhost:8080/",
          "height": 586
        }
      },
      "source": [
        "tokens_nltk"
      ],
      "execution_count": null,
      "outputs": [
        {
          "output_type": "execute_result",
          "data": {
            "text/plain": [
              "['O',\n",
              " 'principal',\n",
              " 'uso',\n",
              " 'que',\n",
              " 'fazemos',\n",
              " 'do',\n",
              " 'canvas',\n",
              " 'é',\n",
              " 'ver',\n",
              " 'e',\n",
              " 'entregar',\n",
              " 'exercícios',\n",
              " ',',\n",
              " 'além',\n",
              " 'de',\n",
              " 'acessar',\n",
              " 'os',\n",
              " 'materiais',\n",
              " 'postados',\n",
              " 'pelos',\n",
              " 'professores',\n",
              " '.',\n",
              " 'É',\n",
              " 'importante',\n",
              " 'realizar',\n",
              " 'o',\n",
              " 'acesso',\n",
              " 'todos',\n",
              " 'os',\n",
              " 'dias',\n",
              " '.']"
            ]
          },
          "metadata": {
            "tags": []
          },
          "execution_count": 25
        }
      ]
    },
    {
      "cell_type": "code",
      "metadata": {
        "id": "1W520eKRGICY"
      },
      "source": [
        "subs_group = get_found_groups(subs_pattern, phrase2)"
      ],
      "execution_count": null,
      "outputs": []
    },
    {
      "cell_type": "code",
      "metadata": {
        "id": "XWzZaw7CGH8Y",
        "outputId": "97b23cc1-8c37-4b0a-91a1-e1a36368faf3",
        "colab": {
          "base_uri": "https://localhost:8080/",
          "height": 55
        }
      },
      "source": [
        "phrase2_tag = phrase2\n",
        "for word in tokens_nltk:\n",
        "    if word in subs_group and  word in verbs_group:\n",
        "        phrase2_tag = re.sub(word, word + \"_SUBS|VERB\", phrase2_tag)\n",
        "    elif word in subs_group:\n",
        "            phrase2_tag = re.sub(word, word + \"_SUBS\", phrase2_tag)\n",
        "    elif word in verbs_group:\n",
        "        phrase2_tag = re.sub(word, word + \"_VERB\",phrase2_tag)\n",
        "    \n",
        "print(phrase2_tag)"
      ],
      "execution_count": null,
      "outputs": [
        {
          "output_type": "stream",
          "text": [
            "O principal uso_VERB que fazemos_VERB do canvas_SUBS é_VERB ver_VERB e entregar_VERB exercícios_SUBS, alé_VERBm de acessar_VERB os materiais_SUBS postados pelos professores_SUBS. É importante realizar_VERB o acesso_SUBS|VERB todos os dias_SUBS.\n"
          ],
          "name": "stdout"
        }
      ]
    },
    {
      "cell_type": "markdown",
      "metadata": {
        "id": "PZT_N2z4E_aJ"
      },
      "source": [
        "## Mac_Morpho com NLTK"
      ]
    },
    {
      "cell_type": "code",
      "metadata": {
        "id": "fvQXSBarE_aJ",
        "outputId": "f119e7d1-c5f9-418b-bab0-464ecd6574d6",
        "colab": {
          "base_uri": "https://localhost:8080/",
          "height": 129
        }
      },
      "source": [
        "nltk.download('mac_morpho')\n",
        "print(\"WORDS \", nltk.corpus.mac_morpho.tagged_words())\n",
        "print(\"______________\")\n",
        "print(\"SENTS \",nltk.corpus.mac_morpho.tagged_sents())"
      ],
      "execution_count": null,
      "outputs": [
        {
          "output_type": "stream",
          "text": [
            "[nltk_data] Downloading package mac_morpho to /root/nltk_data...\n",
            "[nltk_data]   Unzipping corpora/mac_morpho.zip.\n",
            "WORDS  [('Jersei', 'N'), ('atinge', 'V'), ('média', 'N'), ...]\n",
            "______________\n",
            "SENTS  [[('Jersei', 'N'), ('atinge', 'V'), ('média', 'N'), ('de', 'PREP'), ('Cr$', 'CUR'), ('1,4', 'NUM'), ('milhão', 'N'), ('em', 'PREP|+'), ('a', 'ART'), ('venda', 'N'), ('de', 'PREP|+'), ('a', 'ART'), ('Pinhal', 'NPROP'), ('em', 'PREP'), ('São', 'NPROP'), ('Paulo', 'NPROP')], [('Programe', 'V'), ('sua', 'PROADJ'), ('viagem', 'N'), ('a', 'PREP|+'), ('a', 'ART'), ('Exposição', 'NPROP'), ('Nacional', 'NPROP'), ('do', 'NPROP'), ('Zebu', 'NPROP'), (',', ','), ('que', 'PRO-KS-REL'), ('começa', 'V'), ('dia', 'N'), ('25', 'N|AP')], ...]\n"
          ],
          "name": "stdout"
        }
      ]
    },
    {
      "cell_type": "code",
      "metadata": {
        "id": "5UgJQWATE_aN"
      },
      "source": [
        "words_tagged = nltk.corpus.mac_morpho.tagged_words()"
      ],
      "execution_count": null,
      "outputs": []
    },
    {
      "cell_type": "code",
      "metadata": {
        "id": "ZA44-eONTDfH"
      },
      "source": [
        "words_tagged2 = nltk.corpus.mac_morpho.tagged_sents()"
      ],
      "execution_count": null,
      "outputs": []
    },
    {
      "cell_type": "code",
      "metadata": {
        "id": "-ObmOcshTIPa",
        "outputId": "0e555a44-6016-40b4-d778-a30626543e15",
        "colab": {
          "base_uri": "https://localhost:8080/",
          "height": 55
        }
      },
      "source": [
        "words_tagged2"
      ],
      "execution_count": null,
      "outputs": [
        {
          "output_type": "execute_result",
          "data": {
            "text/plain": [
              "[[('Jersei', 'N'), ('atinge', 'V'), ('média', 'N'), ('de', 'PREP'), ('Cr$', 'CUR'), ('1,4', 'NUM'), ('milhão', 'N'), ('em', 'PREP|+'), ('a', 'ART'), ('venda', 'N'), ('de', 'PREP|+'), ('a', 'ART'), ('Pinhal', 'NPROP'), ('em', 'PREP'), ('São', 'NPROP'), ('Paulo', 'NPROP')], [('Programe', 'V'), ('sua', 'PROADJ'), ('viagem', 'N'), ('a', 'PREP|+'), ('a', 'ART'), ('Exposição', 'NPROP'), ('Nacional', 'NPROP'), ('do', 'NPROP'), ('Zebu', 'NPROP'), (',', ','), ('que', 'PRO-KS-REL'), ('começa', 'V'), ('dia', 'N'), ('25', 'N|AP')], ...]"
            ]
          },
          "metadata": {
            "tags": []
          },
          "execution_count": 32
        }
      ]
    },
    {
      "cell_type": "code",
      "metadata": {
        "id": "zjbm9s8RGcdS",
        "outputId": "bf66e248-6498-4d29-8517-8360c1077e00",
        "colab": {
          "base_uri": "https://localhost:8080/",
          "height": 35
        }
      },
      "source": [
        "words_tagged"
      ],
      "execution_count": null,
      "outputs": [
        {
          "output_type": "execute_result",
          "data": {
            "text/plain": [
              "[('Jersei', 'N'), ('atinge', 'V'), ('média', 'N'), ...]"
            ]
          },
          "metadata": {
            "tags": []
          },
          "execution_count": 36
        }
      ]
    },
    {
      "cell_type": "code",
      "metadata": {
        "id": "Fy7zM2J0S3f-",
        "outputId": "820a0fcb-aa66-4903-f3bd-4afd13c7d925",
        "colab": {
          "base_uri": "https://localhost:8080/",
          "height": 35
        }
      },
      "source": [
        "len(words_tagged)"
      ],
      "execution_count": null,
      "outputs": [
        {
          "output_type": "execute_result",
          "data": {
            "text/plain": [
              "1170095"
            ]
          },
          "metadata": {
            "tags": []
          },
          "execution_count": 37
        }
      ]
    },
    {
      "cell_type": "code",
      "metadata": {
        "id": "aWBKwcmPGeMw"
      },
      "source": [
        ""
      ],
      "execution_count": null,
      "outputs": []
    },
    {
      "cell_type": "markdown",
      "metadata": {
        "id": "HsX2TEENE_aQ"
      },
      "source": [
        "<b> Atividade </b>\n",
        "\n",
        "7) Gere a quantidade de itens de cada tag no mac_morpho"
      ]
    },
    {
      "cell_type": "code",
      "metadata": {
        "id": "XClZNCt3E_aQ"
      },
      "source": [
        "itens = [tag for palavra, tag in words_tagged]"
      ],
      "execution_count": null,
      "outputs": []
    },
    {
      "cell_type": "code",
      "metadata": {
        "id": "iO6gsfA1Gs68"
      },
      "source": [
        "tags = Counter(itens)"
      ],
      "execution_count": null,
      "outputs": []
    },
    {
      "cell_type": "code",
      "metadata": {
        "id": "_t_kcKloE_aT",
        "outputId": "2a25afb0-c9a9-4e95-f111-7d866ae7e21c",
        "colab": {
          "base_uri": "https://localhost:8080/",
          "height": 55
        }
      },
      "source": [
        "tags.items()"
      ],
      "execution_count": null,
      "outputs": [
        {
          "output_type": "execute_result",
          "data": {
            "text/plain": [
              "dict_items([('N', 236462), ('V', 98056), ('PREP', 104364), ('CUR', 2706), ('NUM', 18110), ('PREP|+', 78274), ('ART', 151891), ('NPROP', 114318), ('PROADJ', 20919), (',', 68494), ('PRO-KS-REL', 11347), ('N|AP', 4350), ('ADJ', 53372), ('KC', 28262), ('VAUX', 17832), ('(', 7713), (')', 7741), ('KS', 14320), ('\"', 21069), ('PCP', 23092), ('ADV', 30653), ('PROPESS', 14718), ('V|+', 2373), ('PDEN', 6786), ('PROSUB', 8598), ('-', 3117), (':', 6736), ('PRO-KS', 2150), ('VAUX|+', 99), ('ADV-KS-REL', 898), ('$', 60), ('N|HOR', 913), (';', 1376), ('ART|+', 7), ('[', 23), ('ADJ|EST', 174), ('N|EST', 2807), ('N|TEL', 866), ('N|DAT', 285), ('KC|[', 143), ('KC|]', 133), ('?', 1510), ('!', 919), ('ADV|[', 18), ('ADV|]', 13), ('ADV-KS', 392), ('ADV|+', 8), ('NUM|TEL', 2), ('.', 82), ('IN', 415), (\"'\", 510), ('/', 95), ('PREP|[', 20), ('PREP|]', 9), ('NPROP|+', 35), ('PREP|', 2), ('NPRO', 3), ('ADV|EST', 9), ('...', 84), ('N|DAD', 255), ('=', 14), ('VAUX|!', 1), ('ADV|HOR', 9), ('ADJ|+', 11), ('ART|EST', 4), ('PREP|+]', 7), ('PROP', 7), ('V|EST', 5), ('PREP|EST', 3), ('KC|EST', 2), ('PROADJ|+', 2), ('KS|[', 5), ('KS|]', 4), ('IN|EST', 1), ('PROPESS|EST', 2), ('PDEN|EST', 2), ('((', 10), ('))', 10), ('`', 3), ('PROPESS|+', 2), ('KC|+', 2), ('V|!', 1)])"
            ]
          },
          "metadata": {
            "tags": []
          },
          "execution_count": 47
        }
      ]
    },
    {
      "cell_type": "code",
      "metadata": {
        "id": "LafgLekxGqd9"
      },
      "source": [
        "tags = sorted(tags.items(), key=operator.itemgetter(1), reverse=True)"
      ],
      "execution_count": null,
      "outputs": []
    },
    {
      "cell_type": "code",
      "metadata": {
        "id": "W_y-qCPlGqcC",
        "outputId": "8c86fd5f-6bcb-479b-9635-8e5c20d57a89",
        "colab": {
          "base_uri": "https://localhost:8080/",
          "height": 283
        }
      },
      "source": [
        "plt.bar(dict(tags[:5]).keys(), dict(tags[:5]).values())"
      ],
      "execution_count": null,
      "outputs": [
        {
          "output_type": "execute_result",
          "data": {
            "text/plain": [
              "<BarContainer object of 5 artists>"
            ]
          },
          "metadata": {
            "tags": []
          },
          "execution_count": 49
        },
        {
          "output_type": "display_data",
          "data": {
            "image/png": "[encoded data removed]",
            "text/plain": [
              "<Figure size 432x288 with 1 Axes>"
            ]
          },
          "metadata": {
            "tags": [],
            "needs_background": "light"
          }
        }
      ]
    },
    {
      "cell_type": "code",
      "metadata": {
        "id": "obl1n4vTGqYf",
        "outputId": "b05d94f2-8d3a-4416-9bed-898712a1d572",
        "colab": {
          "base_uri": "https://localhost:8080/",
          "height": 284
        }
      },
      "source": [
        "plt.bar(dict(tags[-5:]).keys(), dict(tags[-5:]).values())"
      ],
      "execution_count": null,
      "outputs": [
        {
          "output_type": "execute_result",
          "data": {
            "text/plain": [
              "<BarContainer object of 5 artists>"
            ]
          },
          "metadata": {
            "tags": []
          },
          "execution_count": 50
        },
        {
          "output_type": "display_data",
          "data": {
            "image/png": "[encoded data removed]",
            "text/plain": [
              "<Figure size 432x288 with 1 Axes>"
            ]
          },
          "metadata": {
            "tags": [],
            "needs_background": "light"
          }
        }
      ]
    },
    {
      "cell_type": "code",
      "metadata": {
        "id": "cKYiDMElGqUJ"
      },
      "source": [
        ""
      ],
      "execution_count": null,
      "outputs": []
    },
    {
      "cell_type": "markdown",
      "metadata": {
        "id": "9XFQU0cdE_aY"
      },
      "source": [
        "8) Quais são as tags mais com maior frequência? E quais com menor? Esse resultado faz sentido?"
      ]
    },
    {
      "cell_type": "markdown",
      "metadata": {
        "id": "n8hjFT6uGLuC"
      },
      "source": [
        "Maior frequencia: Substantivos (N), Artigos (ART), Nomes Próprios (NPROP), Preposições (PREP) e Verbos (V).\n",
        "\n",
        "Em relação aos de menores frequencias, temos os pronomes pessoais (PROPESS), Conjução Coordenativa (KC), Verbos Auxiliare (VAUX), interjeição (IN), Verbos (V).\n",
        "\n",
        "Por fim os dados encontrados, a relação obtida faz sentido, pois são as classificações mais utilizadas em construções de frase, resultando assim em uma maior coerência ao considerarmos a frase toda. \n",
        "\n",
        "---\n",
        "\n"
      ]
    },
    {
      "cell_type": "markdown",
      "metadata": {
        "id": "JT2wA46DE_ac"
      },
      "source": [
        "## POS Tagging com Spacy - Desambiguando frases\n",
        "\n",
        "Uma das aplicações do pos tagging é auxiliar na desambiguação de palavras. Uma mesma palavra pode desempenhar funções semântias diferentes, dependendo do contexto.\n",
        "\n",
        "<b> Atividade </b>\n",
        "\n",
        "9) Considere as frases abaixo:\n",
        "\n",
        "9.1) frases grupo1:\n",
        "```python\n",
        "frase0=\"Ele foi andar\"\n",
        "frase1=\"O andar estava triste\"\n",
        "```\n",
        "\n",
        "9.2) frase grupo2:\n",
        "```python\n",
        "frase2=\"Essa cola cola papel\"\n",
        "```\n",
        "9.3) frases grupo3:\n",
        "```python\n",
        "frase3=\"Hora de fazer imposto de renda\"\n",
        "frase4=\"Aquilo foi imposto pelo chefe\"\n",
        "```\n",
        "\n",
        "9.4) frases grupo4:\n",
        "```python\n",
        "frase5=\"Hora de fazer imposto de renda\"\n",
        "frase6=\"Aquilo foi imposto pelo chefe\"\n",
        "```\n",
        "\n",
        "9.5) frases grupo5:\n",
        "```python\n",
        "frase7=\"Todo dia eu caminho\"\n",
        "frase8=\"Esse é o caminho mais fácil\"\n",
        "```\n",
        "\n",
        "Utilizando o modelo ``pt_core_news_sm`` da biblioteca spacy faça as seguinte análises. Para cada token:\n",
        "\n",
        "- a) imprima a função sintática (pos-tagging) em texto\n",
        "- b) relação de dependência sintática em texto\n",
        "- c) gera uma imagem das relações acims utilizando o método abaixo:\n",
        "- d) análise a palavra em comum, descreva a diferença sintática encontrada e responda se é gramaticamente correta\n",
        "\n",
        "```python\n",
        "#Para imprimir detalhes\n",
        "displacy.render(doc, style='dep',jupyter=True)\n",
        "\n",
        "```\n",
        "\n",
        "Dica: https://spacy.io/api/annotation"
      ]
    },
    {
      "cell_type": "code",
      "metadata": {
        "id": "2Ahv15TkE_ad"
      },
      "source": [
        "import pt_core_news_sm\n",
        "import en_core_web_sm"
      ],
      "execution_count": null,
      "outputs": []
    },
    {
      "cell_type": "code",
      "metadata": {
        "id": "1NHiqqT9G6fY"
      },
      "source": [
        "import pandas as pd\n",
        "def data_return_ab (text) :\n",
        "    lista = []\n",
        "    for i in range(len(text)):\n",
        "        lista.append([text[i], text[i].pos_, text[i].dep_])\n",
        "    return lista"
      ],
      "execution_count": null,
      "outputs": []
    },
    {
      "cell_type": "markdown",
      "metadata": {
        "id": "fynfQ8BTE_ag"
      },
      "source": [
        "<b> Atividade </b>\n",
        "\n",
        "9.1 Frases Grupo 1"
      ]
    },
    {
      "cell_type": "code",
      "metadata": {
        "id": "t1HXoDVpE_ah"
      },
      "source": [
        "txt0=\"Ele foi andar\"\n",
        "txt1=\"O andar estava triste\""
      ],
      "execution_count": null,
      "outputs": []
    },
    {
      "cell_type": "code",
      "metadata": {
        "id": "bL1lPXA0E_an"
      },
      "source": [
        "nlp = pt_core_news_sm.load()"
      ],
      "execution_count": null,
      "outputs": []
    },
    {
      "cell_type": "code",
      "metadata": {
        "id": "LyMNzt_uG-d3"
      },
      "source": [
        "txt0_nlp = nlp(txt0)\n",
        "txt1_nlp = nlp(txt1)"
      ],
      "execution_count": null,
      "outputs": []
    },
    {
      "cell_type": "code",
      "metadata": {
        "id": "MS3VfbvVG-NA",
        "outputId": "8b3432d6-c500-4e75-b51a-e14449c9ef07",
        "colab": {
          "base_uri": "https://localhost:8080/",
          "height": 72
        }
      },
      "source": [
        "data_return_ab(txt0_nlp)"
      ],
      "execution_count": null,
      "outputs": [
        {
          "output_type": "execute_result",
          "data": {
            "text/plain": [
              "[[Ele, 'PRON', 'nsubj:pass'],\n",
              " [foi, 'AUX', 'aux:pass'],\n",
              " [andar, 'VERB', 'ROOT']]"
            ]
          },
          "metadata": {
            "tags": []
          },
          "execution_count": 56
        }
      ]
    },
    {
      "cell_type": "code",
      "metadata": {
        "id": "FXstmSrOG-Kl",
        "outputId": "4c61c461-e052-4533-f46a-ea10713eeb3c",
        "colab": {
          "base_uri": "https://localhost:8080/",
          "height": 90
        }
      },
      "source": [
        "data_return_ab(txt1_nlp)"
      ],
      "execution_count": null,
      "outputs": [
        {
          "output_type": "execute_result",
          "data": {
            "text/plain": [
              "[[O, 'DET', 'det'],\n",
              " [andar, 'NOUN', 'nsubj'],\n",
              " [estava, 'VERB', 'cop'],\n",
              " [triste, 'ADJ', 'ROOT']]"
            ]
          },
          "metadata": {
            "tags": []
          },
          "execution_count": 57
        }
      ]
    },
    {
      "cell_type": "code",
      "metadata": {
        "id": "524uXMUFG-Gf",
        "outputId": "dd0e1c04-6bcb-4b4e-ea6b-8f7209860595",
        "colab": {
          "base_uri": "https://localhost:8080/",
          "height": 333
        }
      },
      "source": [
        "#imprimir detalhes\n",
        "displacy.render(txt0_nlp, style='dep',jupyter=True)"
      ],
      "execution_count": null,
      "outputs": [
        {
          "output_type": "display_data",
          "data": {
            "text/html": [
              "<span class=\"tex2jax_ignore\"><svg xmlns=\"http://www.w3.org/2000/svg\" xmlns:xlink=\"http://www.w3.org/1999/xlink\" xml:lang=\"pt\" id=\"dfc6062cc55a45b7959f13fde1bb1f0b-0\" class=\"displacy\" width=\"575\" height=\"312.0\" direction=\"ltr\" style=\"max-width: none; height: 312.0px; color: #000000; background: #ffffff; font-family: Arial; direction: ltr\">\n",
              "<text class=\"displacy-token\" fill=\"currentColor\" text-anchor=\"middle\" y=\"222.0\">\n",
              "    <tspan class=\"displacy-word\" fill=\"currentColor\" x=\"50\">Ele</tspan>\n",
              "    <tspan class=\"displacy-tag\" dy=\"2em\" fill=\"currentColor\" x=\"50\">PRON</tspan>\n",
              "</text>\n",
              "\n",
              "<text class=\"displacy-token\" fill=\"currentColor\" text-anchor=\"middle\" y=\"222.0\">\n",
              "    <tspan class=\"displacy-word\" fill=\"currentColor\" x=\"225\">foi</tspan>\n",
              "    <tspan class=\"displacy-tag\" dy=\"2em\" fill=\"currentColor\" x=\"225\">AUX</tspan>\n",
              "</text>\n",
              "\n",
              "<text class=\"displacy-token\" fill=\"currentColor\" text-anchor=\"middle\" y=\"222.0\">\n",
              "    <tspan class=\"displacy-word\" fill=\"currentColor\" x=\"400\">andar</tspan>\n",
              "    <tspan class=\"displacy-tag\" dy=\"2em\" fill=\"currentColor\" x=\"400\">VERB</tspan>\n",
              "</text>\n",
              "\n",
              "<g class=\"displacy-arrow\">\n",
              "    <path class=\"displacy-arc\" id=\"arrow-dfc6062cc55a45b7959f13fde1bb1f0b-0-0\" stroke-width=\"2px\" d=\"M70,177.0 C70,2.0 400.0,2.0 400.0,177.0\" fill=\"none\" stroke=\"currentColor\"/>\n",
              "    <text dy=\"1.25em\" style=\"font-size: 0.8em; letter-spacing: 1px\">\n",
              "        <textPath xlink:href=\"#arrow-dfc6062cc55a45b7959f13fde1bb1f0b-0-0\" class=\"displacy-label\" startOffset=\"50%\" side=\"left\" fill=\"currentColor\" text-anchor=\"middle\">nsubj:pass</textPath>\n",
              "    </text>\n",
              "    <path class=\"displacy-arrowhead\" d=\"M70,179.0 L62,167.0 78,167.0\" fill=\"currentColor\"/>\n",
              "</g>\n",
              "\n",
              "<g class=\"displacy-arrow\">\n",
              "    <path class=\"displacy-arc\" id=\"arrow-dfc6062cc55a45b7959f13fde1bb1f0b-0-1\" stroke-width=\"2px\" d=\"M245,177.0 C245,89.5 395.0,89.5 395.0,177.0\" fill=\"none\" stroke=\"currentColor\"/>\n",
              "    <text dy=\"1.25em\" style=\"font-size: 0.8em; letter-spacing: 1px\">\n",
              "        <textPath xlink:href=\"#arrow-dfc6062cc55a45b7959f13fde1bb1f0b-0-1\" class=\"displacy-label\" startOffset=\"50%\" side=\"left\" fill=\"currentColor\" text-anchor=\"middle\">aux:pass</textPath>\n",
              "    </text>\n",
              "    <path class=\"displacy-arrowhead\" d=\"M245,179.0 L237,167.0 253,167.0\" fill=\"currentColor\"/>\n",
              "</g>\n",
              "</svg></span>"
            ],
            "text/plain": [
              "<IPython.core.display.HTML object>"
            ]
          },
          "metadata": {
            "tags": []
          }
        }
      ]
    },
    {
      "cell_type": "code",
      "metadata": {
        "id": "y0uQp6iAHLgw",
        "outputId": "aec45d7c-bb41-4786-ad85-fdce5936319b",
        "colab": {
          "base_uri": "https://localhost:8080/",
          "height": 333
        }
      },
      "source": [
        "#imprimir detalhes\n",
        "displacy.render(txt1_nlp, style='dep',jupyter=True)"
      ],
      "execution_count": null,
      "outputs": [
        {
          "output_type": "display_data",
          "data": {
            "text/html": [
              "<span class=\"tex2jax_ignore\"><svg xmlns=\"http://www.w3.org/2000/svg\" xmlns:xlink=\"http://www.w3.org/1999/xlink\" xml:lang=\"pt\" id=\"34f5a4567965448cb145b207632a43c0-0\" class=\"displacy\" width=\"750\" height=\"312.0\" direction=\"ltr\" style=\"max-width: none; height: 312.0px; color: #000000; background: #ffffff; font-family: Arial; direction: ltr\">\n",
              "<text class=\"displacy-token\" fill=\"currentColor\" text-anchor=\"middle\" y=\"222.0\">\n",
              "    <tspan class=\"displacy-word\" fill=\"currentColor\" x=\"50\">O</tspan>\n",
              "    <tspan class=\"displacy-tag\" dy=\"2em\" fill=\"currentColor\" x=\"50\">DET</tspan>\n",
              "</text>\n",
              "\n",
              "<text class=\"displacy-token\" fill=\"currentColor\" text-anchor=\"middle\" y=\"222.0\">\n",
              "    <tspan class=\"displacy-word\" fill=\"currentColor\" x=\"225\">andar</tspan>\n",
              "    <tspan class=\"displacy-tag\" dy=\"2em\" fill=\"currentColor\" x=\"225\">NOUN</tspan>\n",
              "</text>\n",
              "\n",
              "<text class=\"displacy-token\" fill=\"currentColor\" text-anchor=\"middle\" y=\"222.0\">\n",
              "    <tspan class=\"displacy-word\" fill=\"currentColor\" x=\"400\">estava</tspan>\n",
              "    <tspan class=\"displacy-tag\" dy=\"2em\" fill=\"currentColor\" x=\"400\">VERB</tspan>\n",
              "</text>\n",
              "\n",
              "<text class=\"displacy-token\" fill=\"currentColor\" text-anchor=\"middle\" y=\"222.0\">\n",
              "    <tspan class=\"displacy-word\" fill=\"currentColor\" x=\"575\">triste</tspan>\n",
              "    <tspan class=\"displacy-tag\" dy=\"2em\" fill=\"currentColor\" x=\"575\">ADJ</tspan>\n",
              "</text>\n",
              "\n",
              "<g class=\"displacy-arrow\">\n",
              "    <path class=\"displacy-arc\" id=\"arrow-34f5a4567965448cb145b207632a43c0-0-0\" stroke-width=\"2px\" d=\"M70,177.0 C70,89.5 220.0,89.5 220.0,177.0\" fill=\"none\" stroke=\"currentColor\"/>\n",
              "    <text dy=\"1.25em\" style=\"font-size: 0.8em; letter-spacing: 1px\">\n",
              "        <textPath xlink:href=\"#arrow-34f5a4567965448cb145b207632a43c0-0-0\" class=\"displacy-label\" startOffset=\"50%\" side=\"left\" fill=\"currentColor\" text-anchor=\"middle\">det</textPath>\n",
              "    </text>\n",
              "    <path class=\"displacy-arrowhead\" d=\"M70,179.0 L62,167.0 78,167.0\" fill=\"currentColor\"/>\n",
              "</g>\n",
              "\n",
              "<g class=\"displacy-arrow\">\n",
              "    <path class=\"displacy-arc\" id=\"arrow-34f5a4567965448cb145b207632a43c0-0-1\" stroke-width=\"2px\" d=\"M245,177.0 C245,2.0 575.0,2.0 575.0,177.0\" fill=\"none\" stroke=\"currentColor\"/>\n",
              "    <text dy=\"1.25em\" style=\"font-size: 0.8em; letter-spacing: 1px\">\n",
              "        <textPath xlink:href=\"#arrow-34f5a4567965448cb145b207632a43c0-0-1\" class=\"displacy-label\" startOffset=\"50%\" side=\"left\" fill=\"currentColor\" text-anchor=\"middle\">nsubj</textPath>\n",
              "    </text>\n",
              "    <path class=\"displacy-arrowhead\" d=\"M245,179.0 L237,167.0 253,167.0\" fill=\"currentColor\"/>\n",
              "</g>\n",
              "\n",
              "<g class=\"displacy-arrow\">\n",
              "    <path class=\"displacy-arc\" id=\"arrow-34f5a4567965448cb145b207632a43c0-0-2\" stroke-width=\"2px\" d=\"M420,177.0 C420,89.5 570.0,89.5 570.0,177.0\" fill=\"none\" stroke=\"currentColor\"/>\n",
              "    <text dy=\"1.25em\" style=\"font-size: 0.8em; letter-spacing: 1px\">\n",
              "        <textPath xlink:href=\"#arrow-34f5a4567965448cb145b207632a43c0-0-2\" class=\"displacy-label\" startOffset=\"50%\" side=\"left\" fill=\"currentColor\" text-anchor=\"middle\">cop</textPath>\n",
              "    </text>\n",
              "    <path class=\"displacy-arrowhead\" d=\"M420,179.0 L412,167.0 428,167.0\" fill=\"currentColor\"/>\n",
              "</g>\n",
              "</svg></span>"
            ],
            "text/plain": [
              "<IPython.core.display.HTML object>"
            ]
          },
          "metadata": {
            "tags": []
          }
        }
      ]
    },
    {
      "cell_type": "code",
      "metadata": {
        "id": "60X8aQWBHLdO"
      },
      "source": [
        ""
      ],
      "execution_count": null,
      "outputs": []
    },
    {
      "cell_type": "code",
      "metadata": {
        "id": "yqc6UjAWHLa9"
      },
      "source": [
        ""
      ],
      "execution_count": null,
      "outputs": []
    },
    {
      "cell_type": "markdown",
      "metadata": {
        "id": "tjWa6G1uE_aq"
      },
      "source": [
        "<b> d) Disucussão Grupo 1: </b>"
      ]
    },
    {
      "cell_type": "markdown",
      "metadata": {
        "id": "F3k76LKKISBp"
      },
      "source": [
        "Ambas descrições estão corretas, pois a embora \"andar\" seja um verbo, no sentido da frase faz referência a um lugar \"o andar\", se considerado o \"txt1\". Já no \"txt0\", a classificação está correta, \"andar\" sendo um verbo. "
      ]
    },
    {
      "cell_type": "markdown",
      "metadata": {
        "id": "U71xhqKCE_ar"
      },
      "source": [
        "<b> Atividade </b>\n",
        "\n",
        "9.2. Frase Grupo 2"
      ]
    },
    {
      "cell_type": "code",
      "metadata": {
        "id": "I41C69WiE_as"
      },
      "source": [
        "txt2=\"Essa cola cola papel\""
      ],
      "execution_count": null,
      "outputs": []
    },
    {
      "cell_type": "code",
      "metadata": {
        "id": "S1HK3GrXE_av"
      },
      "source": [
        "txt2_nlp = nlp(txt2)"
      ],
      "execution_count": null,
      "outputs": []
    },
    {
      "cell_type": "code",
      "metadata": {
        "id": "UXlpFy1hHVUL",
        "outputId": "1a7d8408-512c-42b1-be5f-74f5db984ce0",
        "colab": {
          "base_uri": "https://localhost:8080/",
          "height": 90
        }
      },
      "source": [
        "data_return_ab(txt2_nlp)"
      ],
      "execution_count": null,
      "outputs": [
        {
          "output_type": "execute_result",
          "data": {
            "text/plain": [
              "[[Essa, 'DET', 'det'],\n",
              " [cola, 'NOUN', 'ROOT'],\n",
              " [cola, 'ADJ', 'flat:name'],\n",
              " [papel, 'PROPN', 'flat:name']]"
            ]
          },
          "metadata": {
            "tags": []
          },
          "execution_count": 63
        }
      ]
    },
    {
      "cell_type": "code",
      "metadata": {
        "id": "NC56ORBTHVSe",
        "outputId": "a2cd55d8-8a68-4cd6-fa77-fbb6b6b8ca1d",
        "colab": {
          "base_uri": "https://localhost:8080/",
          "height": 333
        }
      },
      "source": [
        "#imprimir detalhes\n",
        "displacy.render(txt2_nlp, style='dep',jupyter=True)"
      ],
      "execution_count": null,
      "outputs": [
        {
          "output_type": "display_data",
          "data": {
            "text/html": [
              "<span class=\"tex2jax_ignore\"><svg xmlns=\"http://www.w3.org/2000/svg\" xmlns:xlink=\"http://www.w3.org/1999/xlink\" xml:lang=\"pt\" id=\"e5ad293cf6d8450f9e0ecbde1e11cc49-0\" class=\"displacy\" width=\"750\" height=\"312.0\" direction=\"ltr\" style=\"max-width: none; height: 312.0px; color: #000000; background: #ffffff; font-family: Arial; direction: ltr\">\n",
              "<text class=\"displacy-token\" fill=\"currentColor\" text-anchor=\"middle\" y=\"222.0\">\n",
              "    <tspan class=\"displacy-word\" fill=\"currentColor\" x=\"50\">Essa</tspan>\n",
              "    <tspan class=\"displacy-tag\" dy=\"2em\" fill=\"currentColor\" x=\"50\">DET</tspan>\n",
              "</text>\n",
              "\n",
              "<text class=\"displacy-token\" fill=\"currentColor\" text-anchor=\"middle\" y=\"222.0\">\n",
              "    <tspan class=\"displacy-word\" fill=\"currentColor\" x=\"225\">cola</tspan>\n",
              "    <tspan class=\"displacy-tag\" dy=\"2em\" fill=\"currentColor\" x=\"225\">NOUN</tspan>\n",
              "</text>\n",
              "\n",
              "<text class=\"displacy-token\" fill=\"currentColor\" text-anchor=\"middle\" y=\"222.0\">\n",
              "    <tspan class=\"displacy-word\" fill=\"currentColor\" x=\"400\">cola</tspan>\n",
              "    <tspan class=\"displacy-tag\" dy=\"2em\" fill=\"currentColor\" x=\"400\">ADJ</tspan>\n",
              "</text>\n",
              "\n",
              "<text class=\"displacy-token\" fill=\"currentColor\" text-anchor=\"middle\" y=\"222.0\">\n",
              "    <tspan class=\"displacy-word\" fill=\"currentColor\" x=\"575\">papel</tspan>\n",
              "    <tspan class=\"displacy-tag\" dy=\"2em\" fill=\"currentColor\" x=\"575\">PROPN</tspan>\n",
              "</text>\n",
              "\n",
              "<g class=\"displacy-arrow\">\n",
              "    <path class=\"displacy-arc\" id=\"arrow-e5ad293cf6d8450f9e0ecbde1e11cc49-0-0\" stroke-width=\"2px\" d=\"M70,177.0 C70,89.5 220.0,89.5 220.0,177.0\" fill=\"none\" stroke=\"currentColor\"/>\n",
              "    <text dy=\"1.25em\" style=\"font-size: 0.8em; letter-spacing: 1px\">\n",
              "        <textPath xlink:href=\"#arrow-e5ad293cf6d8450f9e0ecbde1e11cc49-0-0\" class=\"displacy-label\" startOffset=\"50%\" side=\"left\" fill=\"currentColor\" text-anchor=\"middle\">det</textPath>\n",
              "    </text>\n",
              "    <path class=\"displacy-arrowhead\" d=\"M70,179.0 L62,167.0 78,167.0\" fill=\"currentColor\"/>\n",
              "</g>\n",
              "\n",
              "<g class=\"displacy-arrow\">\n",
              "    <path class=\"displacy-arc\" id=\"arrow-e5ad293cf6d8450f9e0ecbde1e11cc49-0-1\" stroke-width=\"2px\" d=\"M245,177.0 C245,89.5 395.0,89.5 395.0,177.0\" fill=\"none\" stroke=\"currentColor\"/>\n",
              "    <text dy=\"1.25em\" style=\"font-size: 0.8em; letter-spacing: 1px\">\n",
              "        <textPath xlink:href=\"#arrow-e5ad293cf6d8450f9e0ecbde1e11cc49-0-1\" class=\"displacy-label\" startOffset=\"50%\" side=\"left\" fill=\"currentColor\" text-anchor=\"middle\">flat:name</textPath>\n",
              "    </text>\n",
              "    <path class=\"displacy-arrowhead\" d=\"M395.0,179.0 L403.0,167.0 387.0,167.0\" fill=\"currentColor\"/>\n",
              "</g>\n",
              "\n",
              "<g class=\"displacy-arrow\">\n",
              "    <path class=\"displacy-arc\" id=\"arrow-e5ad293cf6d8450f9e0ecbde1e11cc49-0-2\" stroke-width=\"2px\" d=\"M245,177.0 C245,2.0 575.0,2.0 575.0,177.0\" fill=\"none\" stroke=\"currentColor\"/>\n",
              "    <text dy=\"1.25em\" style=\"font-size: 0.8em; letter-spacing: 1px\">\n",
              "        <textPath xlink:href=\"#arrow-e5ad293cf6d8450f9e0ecbde1e11cc49-0-2\" class=\"displacy-label\" startOffset=\"50%\" side=\"left\" fill=\"currentColor\" text-anchor=\"middle\">flat:name</textPath>\n",
              "    </text>\n",
              "    <path class=\"displacy-arrowhead\" d=\"M575.0,179.0 L583.0,167.0 567.0,167.0\" fill=\"currentColor\"/>\n",
              "</g>\n",
              "</svg></span>"
            ],
            "text/plain": [
              "<IPython.core.display.HTML object>"
            ]
          },
          "metadata": {
            "tags": []
          }
        }
      ]
    },
    {
      "cell_type": "code",
      "metadata": {
        "id": "FqeYa_WVHVOg"
      },
      "source": [
        ""
      ],
      "execution_count": null,
      "outputs": []
    },
    {
      "cell_type": "markdown",
      "metadata": {
        "id": "BejM_3ohE_ay"
      },
      "source": [
        "<b> d) Disucussão Grupo 2: </b>"
      ]
    },
    {
      "cell_type": "markdown",
      "metadata": {
        "id": "w89H5kENInZw"
      },
      "source": [
        "Acredito que as classificações a aplicação ficaram correta, pois primeiramente temos \"cola\" como um substantivo. Já na segunda classificação, a mesma palavra \"cola\" retorna um adjetivo, sendo que esse segundo é um modificador do substantivo, acrescentando uma qualidade ao mesmo. Finalmente, o que me chama a atenção é a palavra \"Papel\" ter sido classificado com um nome próprio, incorretamente no meu ponto de vista, pode ser que o algoritmo considerou uma palavra com letra maiúscula sendo um nome próprio e não um substantivo ou qualquer outro significado para se iniciar uma frase. "
      ]
    },
    {
      "cell_type": "markdown",
      "metadata": {
        "id": "kn4VeTQKE_az"
      },
      "source": [
        "<b> Atividade </b>\n",
        "\n",
        "9.3. Frases Grupo 3"
      ]
    },
    {
      "cell_type": "code",
      "metadata": {
        "id": "GjQxo190E_a0"
      },
      "source": [
        "txt3=\"Segundo o que me disseram, ele estava triste\"\n",
        "txt4=\"No segundo dia de trabalho ela gastou menos\""
      ],
      "execution_count": null,
      "outputs": []
    },
    {
      "cell_type": "code",
      "metadata": {
        "id": "FAL2V_BQE_a4",
        "outputId": "a061e1f4-5a97-4674-f9b5-f90c647a645a",
        "colab": {
          "base_uri": "https://localhost:8080/",
          "height": 182
        }
      },
      "source": [
        "txt3_nlp = nlp(txt3)\n",
        "data_return_ab(txt3_nlp)"
      ],
      "execution_count": null,
      "outputs": [
        {
          "output_type": "execute_result",
          "data": {
            "text/plain": [
              "[[Segundo, 'ADP', 'case'],\n",
              " [o, 'PRON', 'obl'],\n",
              " [que, 'PRON', 'nsubj'],\n",
              " [me, 'PRON', 'iobj'],\n",
              " [disseram, 'VERB', 'acl:relcl'],\n",
              " [,, 'PUNCT', 'punct'],\n",
              " [ele, 'PRON', 'nsubj'],\n",
              " [estava, 'VERB', 'cop'],\n",
              " [triste, 'ADJ', 'ROOT']]"
            ]
          },
          "metadata": {
            "tags": []
          },
          "execution_count": 67
        }
      ]
    },
    {
      "cell_type": "code",
      "metadata": {
        "id": "M7792G6CHart",
        "outputId": "045b564a-d264-4a24-8833-78500258d62e",
        "colab": {
          "base_uri": "https://localhost:8080/",
          "height": 164
        }
      },
      "source": [
        "txt4_nlp = nlp(txt4)\n",
        "data_return_ab(txt4_nlp)"
      ],
      "execution_count": null,
      "outputs": [
        {
          "output_type": "execute_result",
          "data": {
            "text/plain": [
              "[[No, 'ADP', 'case'],\n",
              " [segundo, 'ADJ', 'amod'],\n",
              " [dia, 'NOUN', 'obl'],\n",
              " [de, 'ADP', 'case'],\n",
              " [trabalho, 'NOUN', 'nmod'],\n",
              " [ela, 'PRON', 'nsubj'],\n",
              " [gastou, 'VERB', 'ROOT'],\n",
              " [menos, 'ADV', 'advmod']]"
            ]
          },
          "metadata": {
            "tags": []
          },
          "execution_count": 68
        }
      ]
    },
    {
      "cell_type": "code",
      "metadata": {
        "id": "ZBUc3H7_Hap1",
        "outputId": "5412becd-2656-448e-f0ce-f2747e6541d4",
        "colab": {
          "base_uri": "https://localhost:8080/",
          "height": 528
        }
      },
      "source": [
        "displacy.render(txt3_nlp, style='dep',jupyter=True)"
      ],
      "execution_count": null,
      "outputs": [
        {
          "output_type": "display_data",
          "data": {
            "text/html": [
              "<span class=\"tex2jax_ignore\"><svg xmlns=\"http://www.w3.org/2000/svg\" xmlns:xlink=\"http://www.w3.org/1999/xlink\" xml:lang=\"pt\" id=\"88054af42eb841848db0818a35d80a2c-0\" class=\"displacy\" width=\"1450\" height=\"487.0\" direction=\"ltr\" style=\"max-width: none; height: 487.0px; color: #000000; background: #ffffff; font-family: Arial; direction: ltr\">\n",
              "<text class=\"displacy-token\" fill=\"currentColor\" text-anchor=\"middle\" y=\"397.0\">\n",
              "    <tspan class=\"displacy-word\" fill=\"currentColor\" x=\"50\">Segundo</tspan>\n",
              "    <tspan class=\"displacy-tag\" dy=\"2em\" fill=\"currentColor\" x=\"50\">ADP</tspan>\n",
              "</text>\n",
              "\n",
              "<text class=\"displacy-token\" fill=\"currentColor\" text-anchor=\"middle\" y=\"397.0\">\n",
              "    <tspan class=\"displacy-word\" fill=\"currentColor\" x=\"225\">o</tspan>\n",
              "    <tspan class=\"displacy-tag\" dy=\"2em\" fill=\"currentColor\" x=\"225\">PRON</tspan>\n",
              "</text>\n",
              "\n",
              "<text class=\"displacy-token\" fill=\"currentColor\" text-anchor=\"middle\" y=\"397.0\">\n",
              "    <tspan class=\"displacy-word\" fill=\"currentColor\" x=\"400\">que</tspan>\n",
              "    <tspan class=\"displacy-tag\" dy=\"2em\" fill=\"currentColor\" x=\"400\">PRON</tspan>\n",
              "</text>\n",
              "\n",
              "<text class=\"displacy-token\" fill=\"currentColor\" text-anchor=\"middle\" y=\"397.0\">\n",
              "    <tspan class=\"displacy-word\" fill=\"currentColor\" x=\"575\">me</tspan>\n",
              "    <tspan class=\"displacy-tag\" dy=\"2em\" fill=\"currentColor\" x=\"575\">PRON</tspan>\n",
              "</text>\n",
              "\n",
              "<text class=\"displacy-token\" fill=\"currentColor\" text-anchor=\"middle\" y=\"397.0\">\n",
              "    <tspan class=\"displacy-word\" fill=\"currentColor\" x=\"750\">disseram,</tspan>\n",
              "    <tspan class=\"displacy-tag\" dy=\"2em\" fill=\"currentColor\" x=\"750\">VERB</tspan>\n",
              "</text>\n",
              "\n",
              "<text class=\"displacy-token\" fill=\"currentColor\" text-anchor=\"middle\" y=\"397.0\">\n",
              "    <tspan class=\"displacy-word\" fill=\"currentColor\" x=\"925\">ele</tspan>\n",
              "    <tspan class=\"displacy-tag\" dy=\"2em\" fill=\"currentColor\" x=\"925\">PRON</tspan>\n",
              "</text>\n",
              "\n",
              "<text class=\"displacy-token\" fill=\"currentColor\" text-anchor=\"middle\" y=\"397.0\">\n",
              "    <tspan class=\"displacy-word\" fill=\"currentColor\" x=\"1100\">estava</tspan>\n",
              "    <tspan class=\"displacy-tag\" dy=\"2em\" fill=\"currentColor\" x=\"1100\">VERB</tspan>\n",
              "</text>\n",
              "\n",
              "<text class=\"displacy-token\" fill=\"currentColor\" text-anchor=\"middle\" y=\"397.0\">\n",
              "    <tspan class=\"displacy-word\" fill=\"currentColor\" x=\"1275\">triste</tspan>\n",
              "    <tspan class=\"displacy-tag\" dy=\"2em\" fill=\"currentColor\" x=\"1275\">ADJ</tspan>\n",
              "</text>\n",
              "\n",
              "<g class=\"displacy-arrow\">\n",
              "    <path class=\"displacy-arc\" id=\"arrow-88054af42eb841848db0818a35d80a2c-0-0\" stroke-width=\"2px\" d=\"M70,352.0 C70,264.5 210.0,264.5 210.0,352.0\" fill=\"none\" stroke=\"currentColor\"/>\n",
              "    <text dy=\"1.25em\" style=\"font-size: 0.8em; letter-spacing: 1px\">\n",
              "        <textPath xlink:href=\"#arrow-88054af42eb841848db0818a35d80a2c-0-0\" class=\"displacy-label\" startOffset=\"50%\" side=\"left\" fill=\"currentColor\" text-anchor=\"middle\">case</textPath>\n",
              "    </text>\n",
              "    <path class=\"displacy-arrowhead\" d=\"M70,354.0 L62,342.0 78,342.0\" fill=\"currentColor\"/>\n",
              "</g>\n",
              "\n",
              "<g class=\"displacy-arrow\">\n",
              "    <path class=\"displacy-arc\" id=\"arrow-88054af42eb841848db0818a35d80a2c-0-1\" stroke-width=\"2px\" d=\"M245,352.0 C245,2.0 1275.0,2.0 1275.0,352.0\" fill=\"none\" stroke=\"currentColor\"/>\n",
              "    <text dy=\"1.25em\" style=\"font-size: 0.8em; letter-spacing: 1px\">\n",
              "        <textPath xlink:href=\"#arrow-88054af42eb841848db0818a35d80a2c-0-1\" class=\"displacy-label\" startOffset=\"50%\" side=\"left\" fill=\"currentColor\" text-anchor=\"middle\">obl</textPath>\n",
              "    </text>\n",
              "    <path class=\"displacy-arrowhead\" d=\"M245,354.0 L237,342.0 253,342.0\" fill=\"currentColor\"/>\n",
              "</g>\n",
              "\n",
              "<g class=\"displacy-arrow\">\n",
              "    <path class=\"displacy-arc\" id=\"arrow-88054af42eb841848db0818a35d80a2c-0-2\" stroke-width=\"2px\" d=\"M420,352.0 C420,177.0 740.0,177.0 740.0,352.0\" fill=\"none\" stroke=\"currentColor\"/>\n",
              "    <text dy=\"1.25em\" style=\"font-size: 0.8em; letter-spacing: 1px\">\n",
              "        <textPath xlink:href=\"#arrow-88054af42eb841848db0818a35d80a2c-0-2\" class=\"displacy-label\" startOffset=\"50%\" side=\"left\" fill=\"currentColor\" text-anchor=\"middle\">nsubj</textPath>\n",
              "    </text>\n",
              "    <path class=\"displacy-arrowhead\" d=\"M420,354.0 L412,342.0 428,342.0\" fill=\"currentColor\"/>\n",
              "</g>\n",
              "\n",
              "<g class=\"displacy-arrow\">\n",
              "    <path class=\"displacy-arc\" id=\"arrow-88054af42eb841848db0818a35d80a2c-0-3\" stroke-width=\"2px\" d=\"M595,352.0 C595,264.5 735.0,264.5 735.0,352.0\" fill=\"none\" stroke=\"currentColor\"/>\n",
              "    <text dy=\"1.25em\" style=\"font-size: 0.8em; letter-spacing: 1px\">\n",
              "        <textPath xlink:href=\"#arrow-88054af42eb841848db0818a35d80a2c-0-3\" class=\"displacy-label\" startOffset=\"50%\" side=\"left\" fill=\"currentColor\" text-anchor=\"middle\">iobj</textPath>\n",
              "    </text>\n",
              "    <path class=\"displacy-arrowhead\" d=\"M595,354.0 L587,342.0 603,342.0\" fill=\"currentColor\"/>\n",
              "</g>\n",
              "\n",
              "<g class=\"displacy-arrow\">\n",
              "    <path class=\"displacy-arc\" id=\"arrow-88054af42eb841848db0818a35d80a2c-0-4\" stroke-width=\"2px\" d=\"M245,352.0 C245,89.5 745.0,89.5 745.0,352.0\" fill=\"none\" stroke=\"currentColor\"/>\n",
              "    <text dy=\"1.25em\" style=\"font-size: 0.8em; letter-spacing: 1px\">\n",
              "        <textPath xlink:href=\"#arrow-88054af42eb841848db0818a35d80a2c-0-4\" class=\"displacy-label\" startOffset=\"50%\" side=\"left\" fill=\"currentColor\" text-anchor=\"middle\">acl:relcl</textPath>\n",
              "    </text>\n",
              "    <path class=\"displacy-arrowhead\" d=\"M745.0,354.0 L753.0,342.0 737.0,342.0\" fill=\"currentColor\"/>\n",
              "</g>\n",
              "\n",
              "<g class=\"displacy-arrow\">\n",
              "    <path class=\"displacy-arc\" id=\"arrow-88054af42eb841848db0818a35d80a2c-0-5\" stroke-width=\"2px\" d=\"M945,352.0 C945,177.0 1265.0,177.0 1265.0,352.0\" fill=\"none\" stroke=\"currentColor\"/>\n",
              "    <text dy=\"1.25em\" style=\"font-size: 0.8em; letter-spacing: 1px\">\n",
              "        <textPath xlink:href=\"#arrow-88054af42eb841848db0818a35d80a2c-0-5\" class=\"displacy-label\" startOffset=\"50%\" side=\"left\" fill=\"currentColor\" text-anchor=\"middle\">nsubj</textPath>\n",
              "    </text>\n",
              "    <path class=\"displacy-arrowhead\" d=\"M945,354.0 L937,342.0 953,342.0\" fill=\"currentColor\"/>\n",
              "</g>\n",
              "\n",
              "<g class=\"displacy-arrow\">\n",
              "    <path class=\"displacy-arc\" id=\"arrow-88054af42eb841848db0818a35d80a2c-0-6\" stroke-width=\"2px\" d=\"M1120,352.0 C1120,264.5 1260.0,264.5 1260.0,352.0\" fill=\"none\" stroke=\"currentColor\"/>\n",
              "    <text dy=\"1.25em\" style=\"font-size: 0.8em; letter-spacing: 1px\">\n",
              "        <textPath xlink:href=\"#arrow-88054af42eb841848db0818a35d80a2c-0-6\" class=\"displacy-label\" startOffset=\"50%\" side=\"left\" fill=\"currentColor\" text-anchor=\"middle\">cop</textPath>\n",
              "    </text>\n",
              "    <path class=\"displacy-arrowhead\" d=\"M1120,354.0 L1112,342.0 1128,342.0\" fill=\"currentColor\"/>\n",
              "</g>\n",
              "</svg></span>"
            ],
            "text/plain": [
              "<IPython.core.display.HTML object>"
            ]
          },
          "metadata": {
            "tags": []
          }
        }
      ]
    },
    {
      "cell_type": "code",
      "metadata": {
        "id": "1DulFL24HakU",
        "outputId": "c7e66bd3-993f-4330-978b-ddb64a78d6be",
        "colab": {
          "base_uri": "https://localhost:8080/",
          "height": 440
        }
      },
      "source": [
        "displacy.render(txt4_nlp, style='dep',jupyter=True)"
      ],
      "execution_count": null,
      "outputs": [
        {
          "output_type": "display_data",
          "data": {
            "text/html": [
              "<span class=\"tex2jax_ignore\"><svg xmlns=\"http://www.w3.org/2000/svg\" xmlns:xlink=\"http://www.w3.org/1999/xlink\" xml:lang=\"pt\" id=\"ce10ba078d3b4ba3895c438fb6fd1a49-0\" class=\"displacy\" width=\"1450\" height=\"399.5\" direction=\"ltr\" style=\"max-width: none; height: 399.5px; color: #000000; background: #ffffff; font-family: Arial; direction: ltr\">\n",
              "<text class=\"displacy-token\" fill=\"currentColor\" text-anchor=\"middle\" y=\"309.5\">\n",
              "    <tspan class=\"displacy-word\" fill=\"currentColor\" x=\"50\">No</tspan>\n",
              "    <tspan class=\"displacy-tag\" dy=\"2em\" fill=\"currentColor\" x=\"50\">ADP</tspan>\n",
              "</text>\n",
              "\n",
              "<text class=\"displacy-token\" fill=\"currentColor\" text-anchor=\"middle\" y=\"309.5\">\n",
              "    <tspan class=\"displacy-word\" fill=\"currentColor\" x=\"225\">segundo</tspan>\n",
              "    <tspan class=\"displacy-tag\" dy=\"2em\" fill=\"currentColor\" x=\"225\">ADJ</tspan>\n",
              "</text>\n",
              "\n",
              "<text class=\"displacy-token\" fill=\"currentColor\" text-anchor=\"middle\" y=\"309.5\">\n",
              "    <tspan class=\"displacy-word\" fill=\"currentColor\" x=\"400\">dia</tspan>\n",
              "    <tspan class=\"displacy-tag\" dy=\"2em\" fill=\"currentColor\" x=\"400\">NOUN</tspan>\n",
              "</text>\n",
              "\n",
              "<text class=\"displacy-token\" fill=\"currentColor\" text-anchor=\"middle\" y=\"309.5\">\n",
              "    <tspan class=\"displacy-word\" fill=\"currentColor\" x=\"575\">de</tspan>\n",
              "    <tspan class=\"displacy-tag\" dy=\"2em\" fill=\"currentColor\" x=\"575\">ADP</tspan>\n",
              "</text>\n",
              "\n",
              "<text class=\"displacy-token\" fill=\"currentColor\" text-anchor=\"middle\" y=\"309.5\">\n",
              "    <tspan class=\"displacy-word\" fill=\"currentColor\" x=\"750\">trabalho</tspan>\n",
              "    <tspan class=\"displacy-tag\" dy=\"2em\" fill=\"currentColor\" x=\"750\">NOUN</tspan>\n",
              "</text>\n",
              "\n",
              "<text class=\"displacy-token\" fill=\"currentColor\" text-anchor=\"middle\" y=\"309.5\">\n",
              "    <tspan class=\"displacy-word\" fill=\"currentColor\" x=\"925\">ela</tspan>\n",
              "    <tspan class=\"displacy-tag\" dy=\"2em\" fill=\"currentColor\" x=\"925\">PRON</tspan>\n",
              "</text>\n",
              "\n",
              "<text class=\"displacy-token\" fill=\"currentColor\" text-anchor=\"middle\" y=\"309.5\">\n",
              "    <tspan class=\"displacy-word\" fill=\"currentColor\" x=\"1100\">gastou</tspan>\n",
              "    <tspan class=\"displacy-tag\" dy=\"2em\" fill=\"currentColor\" x=\"1100\">VERB</tspan>\n",
              "</text>\n",
              "\n",
              "<text class=\"displacy-token\" fill=\"currentColor\" text-anchor=\"middle\" y=\"309.5\">\n",
              "    <tspan class=\"displacy-word\" fill=\"currentColor\" x=\"1275\">menos</tspan>\n",
              "    <tspan class=\"displacy-tag\" dy=\"2em\" fill=\"currentColor\" x=\"1275\">ADV</tspan>\n",
              "</text>\n",
              "\n",
              "<g class=\"displacy-arrow\">\n",
              "    <path class=\"displacy-arc\" id=\"arrow-ce10ba078d3b4ba3895c438fb6fd1a49-0-0\" stroke-width=\"2px\" d=\"M70,264.5 C70,89.5 395.0,89.5 395.0,264.5\" fill=\"none\" stroke=\"currentColor\"/>\n",
              "    <text dy=\"1.25em\" style=\"font-size: 0.8em; letter-spacing: 1px\">\n",
              "        <textPath xlink:href=\"#arrow-ce10ba078d3b4ba3895c438fb6fd1a49-0-0\" class=\"displacy-label\" startOffset=\"50%\" side=\"left\" fill=\"currentColor\" text-anchor=\"middle\">case</textPath>\n",
              "    </text>\n",
              "    <path class=\"displacy-arrowhead\" d=\"M70,266.5 L62,254.5 78,254.5\" fill=\"currentColor\"/>\n",
              "</g>\n",
              "\n",
              "<g class=\"displacy-arrow\">\n",
              "    <path class=\"displacy-arc\" id=\"arrow-ce10ba078d3b4ba3895c438fb6fd1a49-0-1\" stroke-width=\"2px\" d=\"M245,264.5 C245,177.0 390.0,177.0 390.0,264.5\" fill=\"none\" stroke=\"currentColor\"/>\n",
              "    <text dy=\"1.25em\" style=\"font-size: 0.8em; letter-spacing: 1px\">\n",
              "        <textPath xlink:href=\"#arrow-ce10ba078d3b4ba3895c438fb6fd1a49-0-1\" class=\"displacy-label\" startOffset=\"50%\" side=\"left\" fill=\"currentColor\" text-anchor=\"middle\">amod</textPath>\n",
              "    </text>\n",
              "    <path class=\"displacy-arrowhead\" d=\"M245,266.5 L237,254.5 253,254.5\" fill=\"currentColor\"/>\n",
              "</g>\n",
              "\n",
              "<g class=\"displacy-arrow\">\n",
              "    <path class=\"displacy-arc\" id=\"arrow-ce10ba078d3b4ba3895c438fb6fd1a49-0-2\" stroke-width=\"2px\" d=\"M420,264.5 C420,2.0 1100.0,2.0 1100.0,264.5\" fill=\"none\" stroke=\"currentColor\"/>\n",
              "    <text dy=\"1.25em\" style=\"font-size: 0.8em; letter-spacing: 1px\">\n",
              "        <textPath xlink:href=\"#arrow-ce10ba078d3b4ba3895c438fb6fd1a49-0-2\" class=\"displacy-label\" startOffset=\"50%\" side=\"left\" fill=\"currentColor\" text-anchor=\"middle\">obl</textPath>\n",
              "    </text>\n",
              "    <path class=\"displacy-arrowhead\" d=\"M420,266.5 L412,254.5 428,254.5\" fill=\"currentColor\"/>\n",
              "</g>\n",
              "\n",
              "<g class=\"displacy-arrow\">\n",
              "    <path class=\"displacy-arc\" id=\"arrow-ce10ba078d3b4ba3895c438fb6fd1a49-0-3\" stroke-width=\"2px\" d=\"M595,264.5 C595,177.0 740.0,177.0 740.0,264.5\" fill=\"none\" stroke=\"currentColor\"/>\n",
              "    <text dy=\"1.25em\" style=\"font-size: 0.8em; letter-spacing: 1px\">\n",
              "        <textPath xlink:href=\"#arrow-ce10ba078d3b4ba3895c438fb6fd1a49-0-3\" class=\"displacy-label\" startOffset=\"50%\" side=\"left\" fill=\"currentColor\" text-anchor=\"middle\">case</textPath>\n",
              "    </text>\n",
              "    <path class=\"displacy-arrowhead\" d=\"M595,266.5 L587,254.5 603,254.5\" fill=\"currentColor\"/>\n",
              "</g>\n",
              "\n",
              "<g class=\"displacy-arrow\">\n",
              "    <path class=\"displacy-arc\" id=\"arrow-ce10ba078d3b4ba3895c438fb6fd1a49-0-4\" stroke-width=\"2px\" d=\"M420,264.5 C420,89.5 745.0,89.5 745.0,264.5\" fill=\"none\" stroke=\"currentColor\"/>\n",
              "    <text dy=\"1.25em\" style=\"font-size: 0.8em; letter-spacing: 1px\">\n",
              "        <textPath xlink:href=\"#arrow-ce10ba078d3b4ba3895c438fb6fd1a49-0-4\" class=\"displacy-label\" startOffset=\"50%\" side=\"left\" fill=\"currentColor\" text-anchor=\"middle\">nmod</textPath>\n",
              "    </text>\n",
              "    <path class=\"displacy-arrowhead\" d=\"M745.0,266.5 L753.0,254.5 737.0,254.5\" fill=\"currentColor\"/>\n",
              "</g>\n",
              "\n",
              "<g class=\"displacy-arrow\">\n",
              "    <path class=\"displacy-arc\" id=\"arrow-ce10ba078d3b4ba3895c438fb6fd1a49-0-5\" stroke-width=\"2px\" d=\"M945,264.5 C945,177.0 1090.0,177.0 1090.0,264.5\" fill=\"none\" stroke=\"currentColor\"/>\n",
              "    <text dy=\"1.25em\" style=\"font-size: 0.8em; letter-spacing: 1px\">\n",
              "        <textPath xlink:href=\"#arrow-ce10ba078d3b4ba3895c438fb6fd1a49-0-5\" class=\"displacy-label\" startOffset=\"50%\" side=\"left\" fill=\"currentColor\" text-anchor=\"middle\">nsubj</textPath>\n",
              "    </text>\n",
              "    <path class=\"displacy-arrowhead\" d=\"M945,266.5 L937,254.5 953,254.5\" fill=\"currentColor\"/>\n",
              "</g>\n",
              "\n",
              "<g class=\"displacy-arrow\">\n",
              "    <path class=\"displacy-arc\" id=\"arrow-ce10ba078d3b4ba3895c438fb6fd1a49-0-6\" stroke-width=\"2px\" d=\"M1120,264.5 C1120,177.0 1265.0,177.0 1265.0,264.5\" fill=\"none\" stroke=\"currentColor\"/>\n",
              "    <text dy=\"1.25em\" style=\"font-size: 0.8em; letter-spacing: 1px\">\n",
              "        <textPath xlink:href=\"#arrow-ce10ba078d3b4ba3895c438fb6fd1a49-0-6\" class=\"displacy-label\" startOffset=\"50%\" side=\"left\" fill=\"currentColor\" text-anchor=\"middle\">advmod</textPath>\n",
              "    </text>\n",
              "    <path class=\"displacy-arrowhead\" d=\"M1265.0,266.5 L1273.0,254.5 1257.0,254.5\" fill=\"currentColor\"/>\n",
              "</g>\n",
              "</svg></span>"
            ],
            "text/plain": [
              "<IPython.core.display.HTML object>"
            ]
          },
          "metadata": {
            "tags": []
          }
        }
      ]
    },
    {
      "cell_type": "code",
      "metadata": {
        "id": "sb5ByCJkHafh"
      },
      "source": [
        ""
      ],
      "execution_count": null,
      "outputs": []
    },
    {
      "cell_type": "markdown",
      "metadata": {
        "id": "aJoXV-vLE_a_"
      },
      "source": [
        "<b> d) Disucussão Grupo 3: </b>"
      ]
    },
    {
      "cell_type": "markdown",
      "metadata": {
        "id": "VlBhLsYFHkUO"
      },
      "source": [
        "1) \"Segundo o que me disseram\" -> Adposição\n",
        "2) \"No segundo dia\" -> Adjetivo"
      ]
    },
    {
      "cell_type": "code",
      "metadata": {
        "id": "scaCA1PwHjmT"
      },
      "source": [
        ""
      ],
      "execution_count": null,
      "outputs": []
    },
    {
      "cell_type": "markdown",
      "metadata": {
        "id": "SSUBYhzaE_bA"
      },
      "source": [
        "<b> Atividade </b>\n",
        "\n",
        "9.4. Frases Grupo 4"
      ]
    },
    {
      "cell_type": "code",
      "metadata": {
        "id": "1-1Ikv-GE_bB"
      },
      "source": [
        "txt5=\"Hora de fazer imposto de renda\"\n",
        "txt6=\"Aquilo foi imposto pelo chefe\""
      ],
      "execution_count": null,
      "outputs": []
    },
    {
      "cell_type": "code",
      "metadata": {
        "id": "5W7oiz8HE_bE",
        "outputId": "d04c59fc-d99a-4478-a26e-628090414b2c",
        "colab": {
          "base_uri": "https://localhost:8080/",
          "height": 127
        }
      },
      "source": [
        "txt5_nlp = nlp(txt5)\n",
        "data_return_ab(txt5_nlp)"
      ],
      "execution_count": null,
      "outputs": [
        {
          "output_type": "execute_result",
          "data": {
            "text/plain": [
              "[[Hora, 'NOUN', 'ROOT'],\n",
              " [de, 'ADP', 'mark'],\n",
              " [fazer, 'VERB', 'acl'],\n",
              " [imposto, 'NOUN', 'obj'],\n",
              " [de, 'ADP', 'case'],\n",
              " [renda, 'NOUN', 'nmod']]"
            ]
          },
          "metadata": {
            "tags": []
          },
          "execution_count": 72
        }
      ]
    },
    {
      "cell_type": "code",
      "metadata": {
        "id": "yKCNxx2qHnCJ",
        "outputId": "1398567b-ef51-459b-ed92-39a933bfd876",
        "colab": {
          "base_uri": "https://localhost:8080/",
          "height": 109
        }
      },
      "source": [
        "txt6_nlp = nlp(txt6)\n",
        "data_return_ab(txt6_nlp)"
      ],
      "execution_count": null,
      "outputs": [
        {
          "output_type": "execute_result",
          "data": {
            "text/plain": [
              "[[Aquilo, 'PRON', 'nsubj:pass'],\n",
              " [foi, 'AUX', 'aux:pass'],\n",
              " [imposto, 'VERB', 'ROOT'],\n",
              " [pelo, 'ADP', 'case'],\n",
              " [chefe, 'NOUN', 'obl']]"
            ]
          },
          "metadata": {
            "tags": []
          },
          "execution_count": 73
        }
      ]
    },
    {
      "cell_type": "code",
      "metadata": {
        "id": "4nXzLKHcHm_b",
        "outputId": "3ef21c75-69bd-4c30-a689-baf110560254",
        "colab": {
          "base_uri": "https://localhost:8080/",
          "height": 648
        }
      },
      "source": [
        "displacy.render(txt5_nlp, style='dep',jupyter=True)\n",
        "displacy.render(txt6_nlp, style='dep',jupyter=True)"
      ],
      "execution_count": null,
      "outputs": [
        {
          "output_type": "display_data",
          "data": {
            "text/html": [
              "<span class=\"tex2jax_ignore\"><svg xmlns=\"http://www.w3.org/2000/svg\" xmlns:xlink=\"http://www.w3.org/1999/xlink\" xml:lang=\"pt\" id=\"bbe8a86b92e84a778a38df28b8dca285-0\" class=\"displacy\" width=\"1100\" height=\"312.0\" direction=\"ltr\" style=\"max-width: none; height: 312.0px; color: #000000; background: #ffffff; font-family: Arial; direction: ltr\">\n",
              "<text class=\"displacy-token\" fill=\"currentColor\" text-anchor=\"middle\" y=\"222.0\">\n",
              "    <tspan class=\"displacy-word\" fill=\"currentColor\" x=\"50\">Hora</tspan>\n",
              "    <tspan class=\"displacy-tag\" dy=\"2em\" fill=\"currentColor\" x=\"50\">NOUN</tspan>\n",
              "</text>\n",
              "\n",
              "<text class=\"displacy-token\" fill=\"currentColor\" text-anchor=\"middle\" y=\"222.0\">\n",
              "    <tspan class=\"displacy-word\" fill=\"currentColor\" x=\"225\">de</tspan>\n",
              "    <tspan class=\"displacy-tag\" dy=\"2em\" fill=\"currentColor\" x=\"225\">ADP</tspan>\n",
              "</text>\n",
              "\n",
              "<text class=\"displacy-token\" fill=\"currentColor\" text-anchor=\"middle\" y=\"222.0\">\n",
              "    <tspan class=\"displacy-word\" fill=\"currentColor\" x=\"400\">fazer</tspan>\n",
              "    <tspan class=\"displacy-tag\" dy=\"2em\" fill=\"currentColor\" x=\"400\">VERB</tspan>\n",
              "</text>\n",
              "\n",
              "<text class=\"displacy-token\" fill=\"currentColor\" text-anchor=\"middle\" y=\"222.0\">\n",
              "    <tspan class=\"displacy-word\" fill=\"currentColor\" x=\"575\">imposto</tspan>\n",
              "    <tspan class=\"displacy-tag\" dy=\"2em\" fill=\"currentColor\" x=\"575\">NOUN</tspan>\n",
              "</text>\n",
              "\n",
              "<text class=\"displacy-token\" fill=\"currentColor\" text-anchor=\"middle\" y=\"222.0\">\n",
              "    <tspan class=\"displacy-word\" fill=\"currentColor\" x=\"750\">de</tspan>\n",
              "    <tspan class=\"displacy-tag\" dy=\"2em\" fill=\"currentColor\" x=\"750\">ADP</tspan>\n",
              "</text>\n",
              "\n",
              "<text class=\"displacy-token\" fill=\"currentColor\" text-anchor=\"middle\" y=\"222.0\">\n",
              "    <tspan class=\"displacy-word\" fill=\"currentColor\" x=\"925\">renda</tspan>\n",
              "    <tspan class=\"displacy-tag\" dy=\"2em\" fill=\"currentColor\" x=\"925\">NOUN</tspan>\n",
              "</text>\n",
              "\n",
              "<g class=\"displacy-arrow\">\n",
              "    <path class=\"displacy-arc\" id=\"arrow-bbe8a86b92e84a778a38df28b8dca285-0-0\" stroke-width=\"2px\" d=\"M245,177.0 C245,89.5 395.0,89.5 395.0,177.0\" fill=\"none\" stroke=\"currentColor\"/>\n",
              "    <text dy=\"1.25em\" style=\"font-size: 0.8em; letter-spacing: 1px\">\n",
              "        <textPath xlink:href=\"#arrow-bbe8a86b92e84a778a38df28b8dca285-0-0\" class=\"displacy-label\" startOffset=\"50%\" side=\"left\" fill=\"currentColor\" text-anchor=\"middle\">mark</textPath>\n",
              "    </text>\n",
              "    <path class=\"displacy-arrowhead\" d=\"M245,179.0 L237,167.0 253,167.0\" fill=\"currentColor\"/>\n",
              "</g>\n",
              "\n",
              "<g class=\"displacy-arrow\">\n",
              "    <path class=\"displacy-arc\" id=\"arrow-bbe8a86b92e84a778a38df28b8dca285-0-1\" stroke-width=\"2px\" d=\"M70,177.0 C70,2.0 400.0,2.0 400.0,177.0\" fill=\"none\" stroke=\"currentColor\"/>\n",
              "    <text dy=\"1.25em\" style=\"font-size: 0.8em; letter-spacing: 1px\">\n",
              "        <textPath xlink:href=\"#arrow-bbe8a86b92e84a778a38df28b8dca285-0-1\" class=\"displacy-label\" startOffset=\"50%\" side=\"left\" fill=\"currentColor\" text-anchor=\"middle\">acl</textPath>\n",
              "    </text>\n",
              "    <path class=\"displacy-arrowhead\" d=\"M400.0,179.0 L408.0,167.0 392.0,167.0\" fill=\"currentColor\"/>\n",
              "</g>\n",
              "\n",
              "<g class=\"displacy-arrow\">\n",
              "    <path class=\"displacy-arc\" id=\"arrow-bbe8a86b92e84a778a38df28b8dca285-0-2\" stroke-width=\"2px\" d=\"M420,177.0 C420,89.5 570.0,89.5 570.0,177.0\" fill=\"none\" stroke=\"currentColor\"/>\n",
              "    <text dy=\"1.25em\" style=\"font-size: 0.8em; letter-spacing: 1px\">\n",
              "        <textPath xlink:href=\"#arrow-bbe8a86b92e84a778a38df28b8dca285-0-2\" class=\"displacy-label\" startOffset=\"50%\" side=\"left\" fill=\"currentColor\" text-anchor=\"middle\">obj</textPath>\n",
              "    </text>\n",
              "    <path class=\"displacy-arrowhead\" d=\"M570.0,179.0 L578.0,167.0 562.0,167.0\" fill=\"currentColor\"/>\n",
              "</g>\n",
              "\n",
              "<g class=\"displacy-arrow\">\n",
              "    <path class=\"displacy-arc\" id=\"arrow-bbe8a86b92e84a778a38df28b8dca285-0-3\" stroke-width=\"2px\" d=\"M770,177.0 C770,89.5 920.0,89.5 920.0,177.0\" fill=\"none\" stroke=\"currentColor\"/>\n",
              "    <text dy=\"1.25em\" style=\"font-size: 0.8em; letter-spacing: 1px\">\n",
              "        <textPath xlink:href=\"#arrow-bbe8a86b92e84a778a38df28b8dca285-0-3\" class=\"displacy-label\" startOffset=\"50%\" side=\"left\" fill=\"currentColor\" text-anchor=\"middle\">case</textPath>\n",
              "    </text>\n",
              "    <path class=\"displacy-arrowhead\" d=\"M770,179.0 L762,167.0 778,167.0\" fill=\"currentColor\"/>\n",
              "</g>\n",
              "\n",
              "<g class=\"displacy-arrow\">\n",
              "    <path class=\"displacy-arc\" id=\"arrow-bbe8a86b92e84a778a38df28b8dca285-0-4\" stroke-width=\"2px\" d=\"M595,177.0 C595,2.0 925.0,2.0 925.0,177.0\" fill=\"none\" stroke=\"currentColor\"/>\n",
              "    <text dy=\"1.25em\" style=\"font-size: 0.8em; letter-spacing: 1px\">\n",
              "        <textPath xlink:href=\"#arrow-bbe8a86b92e84a778a38df28b8dca285-0-4\" class=\"displacy-label\" startOffset=\"50%\" side=\"left\" fill=\"currentColor\" text-anchor=\"middle\">nmod</textPath>\n",
              "    </text>\n",
              "    <path class=\"displacy-arrowhead\" d=\"M925.0,179.0 L933.0,167.0 917.0,167.0\" fill=\"currentColor\"/>\n",
              "</g>\n",
              "</svg></span>"
            ],
            "text/plain": [
              "<IPython.core.display.HTML object>"
            ]
          },
          "metadata": {
            "tags": []
          }
        },
        {
          "output_type": "display_data",
          "data": {
            "text/html": [
              "<span class=\"tex2jax_ignore\"><svg xmlns=\"http://www.w3.org/2000/svg\" xmlns:xlink=\"http://www.w3.org/1999/xlink\" xml:lang=\"pt\" id=\"aac98be1be5544f2833001d41d4fe688-0\" class=\"displacy\" width=\"925\" height=\"312.0\" direction=\"ltr\" style=\"max-width: none; height: 312.0px; color: #000000; background: #ffffff; font-family: Arial; direction: ltr\">\n",
              "<text class=\"displacy-token\" fill=\"currentColor\" text-anchor=\"middle\" y=\"222.0\">\n",
              "    <tspan class=\"displacy-word\" fill=\"currentColor\" x=\"50\">Aquilo</tspan>\n",
              "    <tspan class=\"displacy-tag\" dy=\"2em\" fill=\"currentColor\" x=\"50\">PRON</tspan>\n",
              "</text>\n",
              "\n",
              "<text class=\"displacy-token\" fill=\"currentColor\" text-anchor=\"middle\" y=\"222.0\">\n",
              "    <tspan class=\"displacy-word\" fill=\"currentColor\" x=\"225\">foi</tspan>\n",
              "    <tspan class=\"displacy-tag\" dy=\"2em\" fill=\"currentColor\" x=\"225\">AUX</tspan>\n",
              "</text>\n",
              "\n",
              "<text class=\"displacy-token\" fill=\"currentColor\" text-anchor=\"middle\" y=\"222.0\">\n",
              "    <tspan class=\"displacy-word\" fill=\"currentColor\" x=\"400\">imposto</tspan>\n",
              "    <tspan class=\"displacy-tag\" dy=\"2em\" fill=\"currentColor\" x=\"400\">VERB</tspan>\n",
              "</text>\n",
              "\n",
              "<text class=\"displacy-token\" fill=\"currentColor\" text-anchor=\"middle\" y=\"222.0\">\n",
              "    <tspan class=\"displacy-word\" fill=\"currentColor\" x=\"575\">pelo</tspan>\n",
              "    <tspan class=\"displacy-tag\" dy=\"2em\" fill=\"currentColor\" x=\"575\">ADP</tspan>\n",
              "</text>\n",
              "\n",
              "<text class=\"displacy-token\" fill=\"currentColor\" text-anchor=\"middle\" y=\"222.0\">\n",
              "    <tspan class=\"displacy-word\" fill=\"currentColor\" x=\"750\">chefe</tspan>\n",
              "    <tspan class=\"displacy-tag\" dy=\"2em\" fill=\"currentColor\" x=\"750\">NOUN</tspan>\n",
              "</text>\n",
              "\n",
              "<g class=\"displacy-arrow\">\n",
              "    <path class=\"displacy-arc\" id=\"arrow-aac98be1be5544f2833001d41d4fe688-0-0\" stroke-width=\"2px\" d=\"M70,177.0 C70,2.0 400.0,2.0 400.0,177.0\" fill=\"none\" stroke=\"currentColor\"/>\n",
              "    <text dy=\"1.25em\" style=\"font-size: 0.8em; letter-spacing: 1px\">\n",
              "        <textPath xlink:href=\"#arrow-aac98be1be5544f2833001d41d4fe688-0-0\" class=\"displacy-label\" startOffset=\"50%\" side=\"left\" fill=\"currentColor\" text-anchor=\"middle\">nsubj:pass</textPath>\n",
              "    </text>\n",
              "    <path class=\"displacy-arrowhead\" d=\"M70,179.0 L62,167.0 78,167.0\" fill=\"currentColor\"/>\n",
              "</g>\n",
              "\n",
              "<g class=\"displacy-arrow\">\n",
              "    <path class=\"displacy-arc\" id=\"arrow-aac98be1be5544f2833001d41d4fe688-0-1\" stroke-width=\"2px\" d=\"M245,177.0 C245,89.5 395.0,89.5 395.0,177.0\" fill=\"none\" stroke=\"currentColor\"/>\n",
              "    <text dy=\"1.25em\" style=\"font-size: 0.8em; letter-spacing: 1px\">\n",
              "        <textPath xlink:href=\"#arrow-aac98be1be5544f2833001d41d4fe688-0-1\" class=\"displacy-label\" startOffset=\"50%\" side=\"left\" fill=\"currentColor\" text-anchor=\"middle\">aux:pass</textPath>\n",
              "    </text>\n",
              "    <path class=\"displacy-arrowhead\" d=\"M245,179.0 L237,167.0 253,167.0\" fill=\"currentColor\"/>\n",
              "</g>\n",
              "\n",
              "<g class=\"displacy-arrow\">\n",
              "    <path class=\"displacy-arc\" id=\"arrow-aac98be1be5544f2833001d41d4fe688-0-2\" stroke-width=\"2px\" d=\"M595,177.0 C595,89.5 745.0,89.5 745.0,177.0\" fill=\"none\" stroke=\"currentColor\"/>\n",
              "    <text dy=\"1.25em\" style=\"font-size: 0.8em; letter-spacing: 1px\">\n",
              "        <textPath xlink:href=\"#arrow-aac98be1be5544f2833001d41d4fe688-0-2\" class=\"displacy-label\" startOffset=\"50%\" side=\"left\" fill=\"currentColor\" text-anchor=\"middle\">case</textPath>\n",
              "    </text>\n",
              "    <path class=\"displacy-arrowhead\" d=\"M595,179.0 L587,167.0 603,167.0\" fill=\"currentColor\"/>\n",
              "</g>\n",
              "\n",
              "<g class=\"displacy-arrow\">\n",
              "    <path class=\"displacy-arc\" id=\"arrow-aac98be1be5544f2833001d41d4fe688-0-3\" stroke-width=\"2px\" d=\"M420,177.0 C420,2.0 750.0,2.0 750.0,177.0\" fill=\"none\" stroke=\"currentColor\"/>\n",
              "    <text dy=\"1.25em\" style=\"font-size: 0.8em; letter-spacing: 1px\">\n",
              "        <textPath xlink:href=\"#arrow-aac98be1be5544f2833001d41d4fe688-0-3\" class=\"displacy-label\" startOffset=\"50%\" side=\"left\" fill=\"currentColor\" text-anchor=\"middle\">obl</textPath>\n",
              "    </text>\n",
              "    <path class=\"displacy-arrowhead\" d=\"M750.0,179.0 L758.0,167.0 742.0,167.0\" fill=\"currentColor\"/>\n",
              "</g>\n",
              "</svg></span>"
            ],
            "text/plain": [
              "<IPython.core.display.HTML object>"
            ]
          },
          "metadata": {
            "tags": []
          }
        }
      ]
    },
    {
      "cell_type": "code",
      "metadata": {
        "id": "jiw_Vt4RHm74"
      },
      "source": [
        ""
      ],
      "execution_count": null,
      "outputs": []
    },
    {
      "cell_type": "code",
      "metadata": {
        "id": "b_9CW5pHHm3S"
      },
      "source": [
        ""
      ],
      "execution_count": null,
      "outputs": []
    },
    {
      "cell_type": "markdown",
      "metadata": {
        "id": "-7kMIbTCE_bI"
      },
      "source": [
        "<b> d) Disucussão Grupo 4: </b>"
      ]
    },
    {
      "cell_type": "markdown",
      "metadata": {
        "id": "QbbBCHGoHzNP"
      },
      "source": [
        "Podemos observar que a palavra \"imposto\" aparece corretamente em ambas as frases. No primeiro momento é tratada como um substantivo e na outra frase verbo. "
      ]
    },
    {
      "cell_type": "markdown",
      "metadata": {
        "id": "CLrHpae9E_bJ"
      },
      "source": [
        "<b> Atividade </b>\n",
        "\n",
        "9.5. Frases Grupo 5"
      ]
    },
    {
      "cell_type": "code",
      "metadata": {
        "id": "twKc9JVAE_bK"
      },
      "source": [
        "txt7=\"Todo dia eu caminho\"\n",
        "txt8=\"Esse é o caminho mais fácil\""
      ],
      "execution_count": null,
      "outputs": []
    },
    {
      "cell_type": "code",
      "metadata": {
        "id": "_wz6uub2E_bO",
        "outputId": "8b08a6f3-6092-4c83-a261-8a2c99cb493b",
        "colab": {
          "base_uri": "https://localhost:8080/",
          "height": 90
        }
      },
      "source": [
        "txt7_nlp = nlp(txt7)\n",
        "data_return_ab(txt7_nlp)"
      ],
      "execution_count": null,
      "outputs": [
        {
          "output_type": "execute_result",
          "data": {
            "text/plain": [
              "[[Todo, 'DET', 'det'],\n",
              " [dia, 'NOUN', 'obl'],\n",
              " [eu, 'PRON', 'nsubj'],\n",
              " [caminho, 'VERB', 'ROOT']]"
            ]
          },
          "metadata": {
            "tags": []
          },
          "execution_count": 76
        }
      ]
    },
    {
      "cell_type": "code",
      "metadata": {
        "id": "qjh6Ot8nH16c",
        "outputId": "8c304f5f-0127-49a8-c101-baf3acc6c1f8",
        "colab": {
          "base_uri": "https://localhost:8080/",
          "height": 127
        }
      },
      "source": [
        "txt8_nlp = nlp(txt8)\n",
        "data_return_ab(txt8_nlp)"
      ],
      "execution_count": null,
      "outputs": [
        {
          "output_type": "execute_result",
          "data": {
            "text/plain": [
              "[[Esse, 'PRON', 'nsubj'],\n",
              " [é, 'VERB', 'cop'],\n",
              " [o, 'DET', 'det'],\n",
              " [caminho, 'NOUN', 'ROOT'],\n",
              " [mais, 'ADV', 'advmod'],\n",
              " [fácil, 'ADJ', 'amod']]"
            ]
          },
          "metadata": {
            "tags": []
          },
          "execution_count": 77
        }
      ]
    },
    {
      "cell_type": "code",
      "metadata": {
        "id": "1Kel6VcIH14H",
        "outputId": "b55f1457-1ef4-45ce-ef3d-f6ca74cdb570",
        "colab": {
          "base_uri": "https://localhost:8080/",
          "height": 736
        }
      },
      "source": [
        "displacy.render(txt7_nlp, style='dep',jupyter=True)\n",
        "displacy.render(txt8_nlp, style='dep',jupyter=True)"
      ],
      "execution_count": null,
      "outputs": [
        {
          "output_type": "display_data",
          "data": {
            "text/html": [
              "<span class=\"tex2jax_ignore\"><svg xmlns=\"http://www.w3.org/2000/svg\" xmlns:xlink=\"http://www.w3.org/1999/xlink\" xml:lang=\"pt\" id=\"98d4ebc14e484fd2b980a30a45666185-0\" class=\"displacy\" width=\"750\" height=\"312.0\" direction=\"ltr\" style=\"max-width: none; height: 312.0px; color: #000000; background: #ffffff; font-family: Arial; direction: ltr\">\n",
              "<text class=\"displacy-token\" fill=\"currentColor\" text-anchor=\"middle\" y=\"222.0\">\n",
              "    <tspan class=\"displacy-word\" fill=\"currentColor\" x=\"50\">Todo</tspan>\n",
              "    <tspan class=\"displacy-tag\" dy=\"2em\" fill=\"currentColor\" x=\"50\">DET</tspan>\n",
              "</text>\n",
              "\n",
              "<text class=\"displacy-token\" fill=\"currentColor\" text-anchor=\"middle\" y=\"222.0\">\n",
              "    <tspan class=\"displacy-word\" fill=\"currentColor\" x=\"225\">dia</tspan>\n",
              "    <tspan class=\"displacy-tag\" dy=\"2em\" fill=\"currentColor\" x=\"225\">NOUN</tspan>\n",
              "</text>\n",
              "\n",
              "<text class=\"displacy-token\" fill=\"currentColor\" text-anchor=\"middle\" y=\"222.0\">\n",
              "    <tspan class=\"displacy-word\" fill=\"currentColor\" x=\"400\">eu</tspan>\n",
              "    <tspan class=\"displacy-tag\" dy=\"2em\" fill=\"currentColor\" x=\"400\">PRON</tspan>\n",
              "</text>\n",
              "\n",
              "<text class=\"displacy-token\" fill=\"currentColor\" text-anchor=\"middle\" y=\"222.0\">\n",
              "    <tspan class=\"displacy-word\" fill=\"currentColor\" x=\"575\">caminho</tspan>\n",
              "    <tspan class=\"displacy-tag\" dy=\"2em\" fill=\"currentColor\" x=\"575\">VERB</tspan>\n",
              "</text>\n",
              "\n",
              "<g class=\"displacy-arrow\">\n",
              "    <path class=\"displacy-arc\" id=\"arrow-98d4ebc14e484fd2b980a30a45666185-0-0\" stroke-width=\"2px\" d=\"M70,177.0 C70,89.5 220.0,89.5 220.0,177.0\" fill=\"none\" stroke=\"currentColor\"/>\n",
              "    <text dy=\"1.25em\" style=\"font-size: 0.8em; letter-spacing: 1px\">\n",
              "        <textPath xlink:href=\"#arrow-98d4ebc14e484fd2b980a30a45666185-0-0\" class=\"displacy-label\" startOffset=\"50%\" side=\"left\" fill=\"currentColor\" text-anchor=\"middle\">det</textPath>\n",
              "    </text>\n",
              "    <path class=\"displacy-arrowhead\" d=\"M70,179.0 L62,167.0 78,167.0\" fill=\"currentColor\"/>\n",
              "</g>\n",
              "\n",
              "<g class=\"displacy-arrow\">\n",
              "    <path class=\"displacy-arc\" id=\"arrow-98d4ebc14e484fd2b980a30a45666185-0-1\" stroke-width=\"2px\" d=\"M245,177.0 C245,2.0 575.0,2.0 575.0,177.0\" fill=\"none\" stroke=\"currentColor\"/>\n",
              "    <text dy=\"1.25em\" style=\"font-size: 0.8em; letter-spacing: 1px\">\n",
              "        <textPath xlink:href=\"#arrow-98d4ebc14e484fd2b980a30a45666185-0-1\" class=\"displacy-label\" startOffset=\"50%\" side=\"left\" fill=\"currentColor\" text-anchor=\"middle\">obl</textPath>\n",
              "    </text>\n",
              "    <path class=\"displacy-arrowhead\" d=\"M245,179.0 L237,167.0 253,167.0\" fill=\"currentColor\"/>\n",
              "</g>\n",
              "\n",
              "<g class=\"displacy-arrow\">\n",
              "    <path class=\"displacy-arc\" id=\"arrow-98d4ebc14e484fd2b980a30a45666185-0-2\" stroke-width=\"2px\" d=\"M420,177.0 C420,89.5 570.0,89.5 570.0,177.0\" fill=\"none\" stroke=\"currentColor\"/>\n",
              "    <text dy=\"1.25em\" style=\"font-size: 0.8em; letter-spacing: 1px\">\n",
              "        <textPath xlink:href=\"#arrow-98d4ebc14e484fd2b980a30a45666185-0-2\" class=\"displacy-label\" startOffset=\"50%\" side=\"left\" fill=\"currentColor\" text-anchor=\"middle\">nsubj</textPath>\n",
              "    </text>\n",
              "    <path class=\"displacy-arrowhead\" d=\"M420,179.0 L412,167.0 428,167.0\" fill=\"currentColor\"/>\n",
              "</g>\n",
              "</svg></span>"
            ],
            "text/plain": [
              "<IPython.core.display.HTML object>"
            ]
          },
          "metadata": {
            "tags": []
          }
        },
        {
          "output_type": "display_data",
          "data": {
            "text/html": [
              "<span class=\"tex2jax_ignore\"><svg xmlns=\"http://www.w3.org/2000/svg\" xmlns:xlink=\"http://www.w3.org/1999/xlink\" xml:lang=\"pt\" id=\"7449f7ca0b8744b4805978de3c764437-0\" class=\"displacy\" width=\"1100\" height=\"399.5\" direction=\"ltr\" style=\"max-width: none; height: 399.5px; color: #000000; background: #ffffff; font-family: Arial; direction: ltr\">\n",
              "<text class=\"displacy-token\" fill=\"currentColor\" text-anchor=\"middle\" y=\"309.5\">\n",
              "    <tspan class=\"displacy-word\" fill=\"currentColor\" x=\"50\">Esse</tspan>\n",
              "    <tspan class=\"displacy-tag\" dy=\"2em\" fill=\"currentColor\" x=\"50\">PRON</tspan>\n",
              "</text>\n",
              "\n",
              "<text class=\"displacy-token\" fill=\"currentColor\" text-anchor=\"middle\" y=\"309.5\">\n",
              "    <tspan class=\"displacy-word\" fill=\"currentColor\" x=\"225\">é</tspan>\n",
              "    <tspan class=\"displacy-tag\" dy=\"2em\" fill=\"currentColor\" x=\"225\">VERB</tspan>\n",
              "</text>\n",
              "\n",
              "<text class=\"displacy-token\" fill=\"currentColor\" text-anchor=\"middle\" y=\"309.5\">\n",
              "    <tspan class=\"displacy-word\" fill=\"currentColor\" x=\"400\">o</tspan>\n",
              "    <tspan class=\"displacy-tag\" dy=\"2em\" fill=\"currentColor\" x=\"400\">DET</tspan>\n",
              "</text>\n",
              "\n",
              "<text class=\"displacy-token\" fill=\"currentColor\" text-anchor=\"middle\" y=\"309.5\">\n",
              "    <tspan class=\"displacy-word\" fill=\"currentColor\" x=\"575\">caminho</tspan>\n",
              "    <tspan class=\"displacy-tag\" dy=\"2em\" fill=\"currentColor\" x=\"575\">NOUN</tspan>\n",
              "</text>\n",
              "\n",
              "<text class=\"displacy-token\" fill=\"currentColor\" text-anchor=\"middle\" y=\"309.5\">\n",
              "    <tspan class=\"displacy-word\" fill=\"currentColor\" x=\"750\">mais</tspan>\n",
              "    <tspan class=\"displacy-tag\" dy=\"2em\" fill=\"currentColor\" x=\"750\">ADV</tspan>\n",
              "</text>\n",
              "\n",
              "<text class=\"displacy-token\" fill=\"currentColor\" text-anchor=\"middle\" y=\"309.5\">\n",
              "    <tspan class=\"displacy-word\" fill=\"currentColor\" x=\"925\">fácil</tspan>\n",
              "    <tspan class=\"displacy-tag\" dy=\"2em\" fill=\"currentColor\" x=\"925\">ADJ</tspan>\n",
              "</text>\n",
              "\n",
              "<g class=\"displacy-arrow\">\n",
              "    <path class=\"displacy-arc\" id=\"arrow-7449f7ca0b8744b4805978de3c764437-0-0\" stroke-width=\"2px\" d=\"M70,264.5 C70,2.0 575.0,2.0 575.0,264.5\" fill=\"none\" stroke=\"currentColor\"/>\n",
              "    <text dy=\"1.25em\" style=\"font-size: 0.8em; letter-spacing: 1px\">\n",
              "        <textPath xlink:href=\"#arrow-7449f7ca0b8744b4805978de3c764437-0-0\" class=\"displacy-label\" startOffset=\"50%\" side=\"left\" fill=\"currentColor\" text-anchor=\"middle\">nsubj</textPath>\n",
              "    </text>\n",
              "    <path class=\"displacy-arrowhead\" d=\"M70,266.5 L62,254.5 78,254.5\" fill=\"currentColor\"/>\n",
              "</g>\n",
              "\n",
              "<g class=\"displacy-arrow\">\n",
              "    <path class=\"displacy-arc\" id=\"arrow-7449f7ca0b8744b4805978de3c764437-0-1\" stroke-width=\"2px\" d=\"M245,264.5 C245,89.5 570.0,89.5 570.0,264.5\" fill=\"none\" stroke=\"currentColor\"/>\n",
              "    <text dy=\"1.25em\" style=\"font-size: 0.8em; letter-spacing: 1px\">\n",
              "        <textPath xlink:href=\"#arrow-7449f7ca0b8744b4805978de3c764437-0-1\" class=\"displacy-label\" startOffset=\"50%\" side=\"left\" fill=\"currentColor\" text-anchor=\"middle\">cop</textPath>\n",
              "    </text>\n",
              "    <path class=\"displacy-arrowhead\" d=\"M245,266.5 L237,254.5 253,254.5\" fill=\"currentColor\"/>\n",
              "</g>\n",
              "\n",
              "<g class=\"displacy-arrow\">\n",
              "    <path class=\"displacy-arc\" id=\"arrow-7449f7ca0b8744b4805978de3c764437-0-2\" stroke-width=\"2px\" d=\"M420,264.5 C420,177.0 565.0,177.0 565.0,264.5\" fill=\"none\" stroke=\"currentColor\"/>\n",
              "    <text dy=\"1.25em\" style=\"font-size: 0.8em; letter-spacing: 1px\">\n",
              "        <textPath xlink:href=\"#arrow-7449f7ca0b8744b4805978de3c764437-0-2\" class=\"displacy-label\" startOffset=\"50%\" side=\"left\" fill=\"currentColor\" text-anchor=\"middle\">det</textPath>\n",
              "    </text>\n",
              "    <path class=\"displacy-arrowhead\" d=\"M420,266.5 L412,254.5 428,254.5\" fill=\"currentColor\"/>\n",
              "</g>\n",
              "\n",
              "<g class=\"displacy-arrow\">\n",
              "    <path class=\"displacy-arc\" id=\"arrow-7449f7ca0b8744b4805978de3c764437-0-3\" stroke-width=\"2px\" d=\"M770,264.5 C770,177.0 915.0,177.0 915.0,264.5\" fill=\"none\" stroke=\"currentColor\"/>\n",
              "    <text dy=\"1.25em\" style=\"font-size: 0.8em; letter-spacing: 1px\">\n",
              "        <textPath xlink:href=\"#arrow-7449f7ca0b8744b4805978de3c764437-0-3\" class=\"displacy-label\" startOffset=\"50%\" side=\"left\" fill=\"currentColor\" text-anchor=\"middle\">advmod</textPath>\n",
              "    </text>\n",
              "    <path class=\"displacy-arrowhead\" d=\"M770,266.5 L762,254.5 778,254.5\" fill=\"currentColor\"/>\n",
              "</g>\n",
              "\n",
              "<g class=\"displacy-arrow\">\n",
              "    <path class=\"displacy-arc\" id=\"arrow-7449f7ca0b8744b4805978de3c764437-0-4\" stroke-width=\"2px\" d=\"M595,264.5 C595,89.5 920.0,89.5 920.0,264.5\" fill=\"none\" stroke=\"currentColor\"/>\n",
              "    <text dy=\"1.25em\" style=\"font-size: 0.8em; letter-spacing: 1px\">\n",
              "        <textPath xlink:href=\"#arrow-7449f7ca0b8744b4805978de3c764437-0-4\" class=\"displacy-label\" startOffset=\"50%\" side=\"left\" fill=\"currentColor\" text-anchor=\"middle\">amod</textPath>\n",
              "    </text>\n",
              "    <path class=\"displacy-arrowhead\" d=\"M920.0,266.5 L928.0,254.5 912.0,254.5\" fill=\"currentColor\"/>\n",
              "</g>\n",
              "</svg></span>"
            ],
            "text/plain": [
              "<IPython.core.display.HTML object>"
            ]
          },
          "metadata": {
            "tags": []
          }
        }
      ]
    },
    {
      "cell_type": "code",
      "metadata": {
        "id": "9Mln3OFxH12G"
      },
      "source": [
        ""
      ],
      "execution_count": null,
      "outputs": []
    },
    {
      "cell_type": "code",
      "metadata": {
        "id": "1M0m2Kk4H1y-"
      },
      "source": [
        ""
      ],
      "execution_count": null,
      "outputs": []
    },
    {
      "cell_type": "markdown",
      "metadata": {
        "id": "AcSP3dy6E_bT"
      },
      "source": [
        "<b> d) Disucussão Grupo 5: </b>"
      ]
    },
    {
      "cell_type": "markdown",
      "metadata": {
        "id": "53fRmjs7H8KR"
      },
      "source": [
        "A palavra \"caminho\" aparece corretamente nas duas frases: \n",
        "1) \"Todo dia eu caminho\" -> Verbo \n",
        "2) \"Esse é o caminho mais fácil\" -> Substantivo"
      ]
    },
    {
      "cell_type": "markdown",
      "metadata": {
        "id": "SWCxjMuDE_bU"
      },
      "source": [
        "<b> Esse modelo do spacy para português, em 79,94 de acurácia no pos-tagging</b>\n",
        "\n",
        "<b> Atividade </b>\n",
        "\n",
        "10) Sabendo que o modelo que estamos utulizando possui acurácia de 79,94 no pos-tagging, encontre um exemplo que ele falhe."
      ]
    },
    {
      "cell_type": "code",
      "metadata": {
        "id": "p9PILL21aW-2",
        "outputId": "083b65b1-91e1-4751-f150-a7abce8b4e3a",
        "colab": {
          "base_uri": "https://localhost:8080/",
          "height": 1000
        }
      },
      "source": [
        "!pip freeze"
      ],
      "execution_count": 4,
      "outputs": [
        {
          "output_type": "stream",
          "text": [
            "absl-py==0.10.0\n",
            "alabaster==0.7.12\n",
            "albumentations==0.1.12\n",
            "altair==4.1.0\n",
            "argon2-cffi==20.1.0\n",
            "asgiref==3.2.10\n",
            "astor==0.8.1\n",
            "astropy==4.0.1.post1\n",
            "astunparse==1.6.3\n",
            "async-generator==1.10\n",
            "atari-py==0.2.6\n",
            "atomicwrites==1.4.0\n",
            "attrs==20.2.0\n",
            "audioread==2.1.8\n",
            "autograd==1.3\n",
            "Babel==2.8.0\n",
            "backcall==0.2.0\n",
            "beautifulsoup4==4.6.3\n",
            "bleach==3.2.1\n",
            "blis==0.4.1\n",
            "bokeh==2.1.1\n",
            "Bottleneck==1.3.2\n",
            "branca==0.4.1\n",
            "bs4==0.0.1\n",
            "CacheControl==0.12.6\n",
            "cachetools==4.1.1\n",
            "catalogue==1.0.0\n",
            "certifi==2020.6.20\n",
            "cffi==1.14.3\n",
            "chainer==7.4.0\n",
            "chardet==3.0.4\n",
            "click==7.1.2\n",
            "cloudpickle==1.3.0\n",
            "cmake==3.12.0\n",
            "cmdstanpy==0.9.5\n",
            "colorlover==0.3.0\n",
            "community==1.0.0b1\n",
            "contextlib2==0.5.5\n",
            "convertdate==2.2.2\n",
            "coverage==3.7.1\n",
            "coveralls==0.5\n",
            "crcmod==1.7\n",
            "cufflinks==0.17.3\n",
            "cvxopt==1.2.5\n",
            "cvxpy==1.0.31\n",
            "cycler==0.10.0\n",
            "cymem==2.0.3\n",
            "Cython==0.29.21\n",
            "daft==0.0.4\n",
            "dask==2.12.0\n",
            "dataclasses==0.7\n",
            "datascience==0.10.6\n",
            "debugpy==1.0.0rc2\n",
            "decorator==4.4.2\n",
            "defusedxml==0.6.0\n",
            "descartes==1.1.0\n",
            "dill==0.3.2\n",
            "distributed==1.25.3\n",
            "Django==3.1.1\n",
            "dlib==19.18.0\n",
            "dm-tree==0.1.5\n",
            "docopt==0.6.2\n",
            "docutils==0.16\n",
            "dopamine-rl==1.0.5\n",
            "earthengine-api==0.1.236\n",
            "easydict==1.9\n",
            "ecos==2.0.7.post1\n",
            "editdistance==0.5.3\n",
            "en-core-web-sm==2.2.5\n",
            "entrypoints==0.3\n",
            "ephem==3.7.7.1\n",
            "et-xmlfile==1.0.1\n",
            "fa2==0.3.5\n",
            "fancyimpute==0.4.3\n",
            "fastai==1.0.61\n",
            "fastdtw==0.3.4\n",
            "fastprogress==1.0.0\n",
            "fastrlock==0.5\n",
            "fbprophet==0.7.1\n",
            "feather-format==0.4.1\n",
            "filelock==3.0.12\n",
            "firebase-admin==4.4.0\n",
            "fix-yahoo-finance==0.0.22\n",
            "Flask==1.1.2\n",
            "folium==0.8.3\n",
            "future==0.16.0\n",
            "gast==0.3.3\n",
            "GDAL==2.2.2\n",
            "gdown==3.6.4\n",
            "gensim==3.6.0\n",
            "geographiclib==1.50\n",
            "geopy==1.17.0\n",
            "gin-config==0.3.0\n",
            "glob2==0.7\n",
            "google==2.0.3\n",
            "google-api-core==1.16.0\n",
            "google-api-python-client==1.7.12\n",
            "google-auth==1.17.2\n",
            "google-auth-httplib2==0.0.4\n",
            "google-auth-oauthlib==0.4.1\n",
            "google-cloud-bigquery==1.21.0\n",
            "google-cloud-core==1.0.3\n",
            "google-cloud-datastore==1.8.0\n",
            "google-cloud-firestore==1.7.0\n",
            "google-cloud-language==1.2.0\n",
            "google-cloud-storage==1.18.1\n",
            "google-cloud-translate==1.5.0\n",
            "google-colab==1.0.0\n",
            "google-pasta==0.2.0\n",
            "google-resumable-media==0.4.1\n",
            "googleapis-common-protos==1.52.0\n",
            "googledrivedownloader==0.4\n",
            "graphviz==0.10.1\n",
            "grpcio==1.32.0\n",
            "gspread==3.0.1\n",
            "gspread-dataframe==3.0.8\n",
            "gym==0.17.2\n",
            "h5py==2.10.0\n",
            "HeapDict==1.0.1\n",
            "holidays==0.10.3\n",
            "holoviews==1.13.4\n",
            "html5lib==1.0.1\n",
            "httpimport==0.5.18\n",
            "httplib2==0.17.4\n",
            "httplib2shim==0.0.3\n",
            "humanize==0.5.1\n",
            "hyperopt==0.1.2\n",
            "ideep4py==2.0.0.post3\n",
            "idna==2.10\n",
            "image==1.5.32\n",
            "imageio==2.4.1\n",
            "imagesize==1.2.0\n",
            "imbalanced-learn==0.4.3\n",
            "imblearn==0.0\n",
            "imgaug==0.2.9\n",
            "importlib-metadata==2.0.0\n",
            "imutils==0.5.3\n",
            "inflect==2.1.0\n",
            "iniconfig==1.0.1\n",
            "intel-openmp==2020.0.133\n",
            "intervaltree==2.1.0\n",
            "ipykernel==4.10.1\n",
            "ipython==5.5.0\n",
            "ipython-genutils==0.2.0\n",
            "ipython-sql==0.3.9\n",
            "ipywidgets==7.5.1\n",
            "itsdangerous==1.1.0\n",
            "jax==0.2.0\n",
            "jaxlib==0.1.55\n",
            "jdcal==1.4.1\n",
            "jedi==0.17.2\n",
            "jieba==0.42.1\n",
            "Jinja2==2.11.2\n",
            "joblib==0.16.0\n",
            "jpeg4py==0.1.4\n",
            "jsonschema==2.6.0\n",
            "jupyter==1.0.0\n",
            "jupyter-client==5.3.5\n",
            "jupyter-console==5.2.0\n",
            "jupyter-core==4.6.3\n",
            "jupyterlab-pygments==0.1.2\n",
            "kaggle==1.5.8\n",
            "kapre==0.1.3.1\n",
            "Keras==2.4.3\n",
            "Keras-Preprocessing==1.1.2\n",
            "keras-vis==0.4.1\n",
            "kiwisolver==1.2.0\n",
            "knnimpute==0.1.0\n",
            "korean-lunar-calendar==0.2.1\n",
            "librosa==0.6.3\n",
            "lightgbm==2.2.3\n",
            "llvmlite==0.31.0\n",
            "lmdb==0.99\n",
            "lucid==0.3.8\n",
            "LunarCalendar==0.0.9\n",
            "lxml==4.2.6\n",
            "Markdown==3.2.2\n",
            "MarkupSafe==1.1.1\n",
            "matplotlib==3.2.2\n",
            "matplotlib-venn==0.11.5\n",
            "missingno==0.4.2\n",
            "mistune==0.8.4\n",
            "mizani==0.6.0\n",
            "mkl==2019.0\n",
            "mlxtend==0.14.0\n",
            "more-itertools==8.5.0\n",
            "moviepy==0.2.3.5\n",
            "mpmath==1.1.0\n",
            "msgpack==1.0.0\n",
            "multiprocess==0.70.10\n",
            "multitasking==0.0.9\n",
            "murmurhash==1.0.2\n",
            "music21==5.5.0\n",
            "natsort==5.5.0\n",
            "nbclient==0.5.0\n",
            "nbconvert==5.6.1\n",
            "nbformat==5.0.7\n",
            "nest-asyncio==1.4.1\n",
            "networkx==2.5\n",
            "nibabel==3.0.2\n",
            "nltk==3.2.5\n",
            "notebook==5.3.1\n",
            "np-utils==0.5.12.1\n",
            "numba==0.48.0\n",
            "numexpr==2.7.1\n",
            "numpy==1.18.5\n",
            "nvidia-ml-py3==7.352.0\n",
            "oauth2client==4.1.3\n",
            "oauthlib==3.1.0\n",
            "okgrade==0.4.3\n",
            "opencv-contrib-python==4.1.2.30\n",
            "opencv-python==4.1.2.30\n",
            "openpyxl==2.5.9\n",
            "opt-einsum==3.3.0\n",
            "osqp==0.6.1\n",
            "packaging==20.4\n",
            "palettable==3.3.0\n",
            "pandas==1.1.2\n",
            "pandas-datareader==0.9.0\n",
            "pandas-gbq==0.13.2\n",
            "pandas-profiling==1.4.1\n",
            "pandocfilters==1.4.2\n",
            "panel==0.9.7\n",
            "param==1.9.3\n",
            "parso==0.7.1\n",
            "pathlib==1.0.1\n",
            "patsy==0.5.1\n",
            "pexpect==4.8.0\n",
            "pickleshare==0.7.5\n",
            "Pillow==7.0.0\n",
            "pip-tools==4.5.1\n",
            "plac==1.1.3\n",
            "plotly==4.4.1\n",
            "plotnine==0.6.0\n",
            "pluggy==0.7.1\n",
            "portpicker==1.3.1\n",
            "prefetch-generator==1.0.1\n",
            "preshed==3.0.2\n",
            "prettytable==0.7.2\n",
            "progressbar2==3.38.0\n",
            "prometheus-client==0.8.0\n",
            "promise==2.3\n",
            "prompt-toolkit==1.0.18\n",
            "protobuf==3.12.4\n",
            "psutil==5.4.8\n",
            "psycopg2==2.7.6.1\n",
            "ptyprocess==0.6.0\n",
            "py==1.9.0\n",
            "pyarrow==0.14.1\n",
            "pyasn1==0.4.8\n",
            "pyasn1-modules==0.2.8\n",
            "pycocotools==2.0.2\n",
            "pycparser==2.20\n",
            "pyct==0.4.8\n",
            "pydata-google-auth==1.1.0\n",
            "pydot==1.3.0\n",
            "pydot-ng==2.0.0\n",
            "pydotplus==2.0.2\n",
            "PyDrive==1.3.1\n",
            "pyemd==0.5.1\n",
            "pyglet==1.5.0\n",
            "Pygments==2.6.1\n",
            "pygobject==3.26.1\n",
            "pymc3==3.7\n",
            "PyMeeus==0.3.7\n",
            "pymongo==3.11.0\n",
            "pymystem3==0.2.0\n",
            "PyOpenGL==3.1.5\n",
            "pyparsing==2.4.7\n",
            "pyrsistent==0.17.3\n",
            "pysndfile==1.3.8\n",
            "PySocks==1.7.1\n",
            "pystan==2.19.1.1\n",
            "pytest==3.6.4\n",
            "python-apt==1.6.5+ubuntu0.3\n",
            "python-chess==0.23.11\n",
            "python-dateutil==2.8.1\n",
            "python-louvain==0.14\n",
            "python-slugify==4.0.1\n",
            "python-utils==2.4.0\n",
            "pytz==2018.9\n",
            "pyviz-comms==0.7.6\n",
            "PyWavelets==1.1.1\n",
            "PyYAML==3.13\n",
            "pyzmq==19.0.2\n",
            "qtconsole==4.7.7\n",
            "QtPy==1.9.0\n",
            "regex==2019.12.20\n",
            "requests==2.23.0\n",
            "requests-oauthlib==1.3.0\n",
            "resampy==0.2.2\n",
            "retrying==1.3.3\n",
            "rpy2==3.2.7\n",
            "rsa==4.6\n",
            "scikit-image==0.16.2\n",
            "scikit-learn==0.22.2.post1\n",
            "scipy==1.4.1\n",
            "screen-resolution-extra==0.0.0\n",
            "scs==2.1.2\n",
            "seaborn==0.11.0\n",
            "Send2Trash==1.5.0\n",
            "setuptools-git==1.2\n",
            "Shapely==1.7.1\n",
            "simplegeneric==0.8.1\n",
            "six==1.15.0\n",
            "sklearn==0.0\n",
            "sklearn-pandas==1.8.0\n",
            "slugify==0.0.1\n",
            "smart-open==2.2.0\n",
            "snowballstemmer==2.0.0\n",
            "sortedcontainers==2.2.2\n",
            "spacy==2.2.4\n",
            "Sphinx==1.8.5\n",
            "sphinxcontrib-serializinghtml==1.1.4\n",
            "sphinxcontrib-websupport==1.2.4\n",
            "SQLAlchemy==1.3.19\n",
            "sqlparse==0.3.1\n",
            "srsly==1.0.2\n",
            "statsmodels==0.10.2\n",
            "sympy==1.1.1\n",
            "tables==3.4.4\n",
            "tabulate==0.8.7\n",
            "tblib==1.7.0\n",
            "tensorboard==2.3.0\n",
            "tensorboard-plugin-wit==1.7.0\n",
            "tensorboardcolab==0.0.22\n",
            "tensorflow==2.3.0\n",
            "tensorflow-addons==0.8.3\n",
            "tensorflow-datasets==2.1.0\n",
            "tensorflow-estimator==2.3.0\n",
            "tensorflow-gcs-config==2.3.0\n",
            "tensorflow-hub==0.9.0\n",
            "tensorflow-metadata==0.24.0\n",
            "tensorflow-privacy==0.2.2\n",
            "tensorflow-probability==0.11.0\n",
            "termcolor==1.1.0\n",
            "terminado==0.9.1\n",
            "testpath==0.4.4\n",
            "text-unidecode==1.3\n",
            "textblob==0.15.3\n",
            "textgenrnn==1.4.1\n",
            "Theano==1.0.5\n",
            "thinc==7.4.0\n",
            "tifffile==2020.9.3\n",
            "toml==0.10.1\n",
            "toolz==0.11.1\n",
            "torch==1.6.0+cu101\n",
            "torchsummary==1.5.1\n",
            "torchtext==0.3.1\n",
            "torchvision==0.7.0+cu101\n",
            "tornado==5.1.1\n",
            "tqdm==4.41.1\n",
            "traitlets==4.3.3\n",
            "tweepy==3.6.0\n",
            "typeguard==2.7.1\n",
            "typing-extensions==3.7.4.3\n",
            "tzlocal==1.5.1\n",
            "umap-learn==0.4.6\n",
            "uritemplate==3.0.1\n",
            "urllib3==1.24.3\n",
            "vega-datasets==0.8.0\n",
            "wasabi==0.8.0\n",
            "wcwidth==0.2.5\n",
            "webencodings==0.5.1\n",
            "Werkzeug==1.0.1\n",
            "widgetsnbextension==3.5.1\n",
            "wordcloud==1.5.0\n",
            "wrapt==1.12.1\n",
            "xarray==0.15.1\n",
            "xgboost==0.90\n",
            "xkit==0.0.0\n",
            "xlrd==1.1.0\n",
            "xlwt==1.3.0\n",
            "yellowbrick==0.9.1\n",
            "zict==2.0.0\n",
            "zipp==3.2.0\n"
          ],
          "name": "stdout"
        }
      ]
    },
    {
      "cell_type": "code",
      "metadata": {
        "id": "iVEZFNSPE_bV"
      },
      "source": [
        "texto = \"Não é que minhas frases são confusas, eu sou confuso e torno-as\""
      ],
      "execution_count": null,
      "outputs": []
    },
    {
      "cell_type": "code",
      "metadata": {
        "id": "HRYDMmL9E_bY",
        "outputId": "1b2be067-2e94-4405-91ee-80a31a1083f6",
        "colab": {
          "base_uri": "https://localhost:8080/",
          "height": 256
        }
      },
      "source": [
        "texto_nlp = nlp(texto)\n",
        "data_return_ab(texto_nlp)"
      ],
      "execution_count": null,
      "outputs": [
        {
          "output_type": "execute_result",
          "data": {
            "text/plain": [
              "[[Não, 'ADV', 'advmod'],\n",
              " [é, 'VERB', 'case'],\n",
              " [que, 'NOUN', 'obl'],\n",
              " [minhas, 'DET', 'det'],\n",
              " [frases, 'NOUN', 'nsubj'],\n",
              " [são, 'VERB', 'cop'],\n",
              " [confusas, 'ADJ', 'ROOT'],\n",
              " [,, 'PUNCT', 'punct'],\n",
              " [eu, 'PRON', 'nsubj'],\n",
              " [sou, 'AUX', 'cop'],\n",
              " [confuso, 'ADJ', 'parataxis'],\n",
              " [e, 'CCONJ', 'cc'],\n",
              " [torno-as, 'PROPN', 'conj']]"
            ]
          },
          "metadata": {
            "tags": []
          },
          "execution_count": 81
        }
      ]
    },
    {
      "cell_type": "markdown",
      "metadata": {
        "id": "wnBfFFqxP3sg"
      },
      "source": [
        "Acredito que a classificação na relação onde possui o \"Não\" ter sido classificado com um Adjetivo ficou incorreto, pois a a palavra é na verdade um substantivo masculino que expressa negação. "
      ]
    },
    {
      "cell_type": "markdown",
      "metadata": {
        "id": "OM-_I65lE_bd"
      },
      "source": [
        "# Named Entity Recognition"
      ]
    },
    {
      "cell_type": "markdown",
      "metadata": {
        "id": "7DCsgEwhE_bd"
      },
      "source": [
        "## Recomendação de sites"
      ]
    },
    {
      "cell_type": "markdown",
      "metadata": {
        "id": "MCJtetA3E_be"
      },
      "source": [
        "<b> Atividade </b>\n",
        "\n",
        "11) Capture o texto de cada notícia abaixo:\n",
        "\n",
        "- 0 -> https://g1.globo.com/sp/sao-paulo/noticia/2020/03/03/cai-para-130-numero-de-casos-suspeitos-de-coronavirus-no-estado-de-sao-paulo.ghtml\n",
        "- 1 -> https://g1.globo.com/sp/sao-paulo/noticia/2020/03/04/ministerio-da-saude-confirma-terceiro-paciente-com-coronavirus-em-sp-um-quarto-caso-aguarda-contraprova.ghtml\n",
        "- 2 -> https://g1.globo.com/bemestar/coronavirus/noticia/2020/03/04/ultimas-noticias-de-coronavirus-de-4-de-marco.ghtml\n",
        "- 3 -> https://g1.globo.com/economia/noticia/2020/03/04/projetos-reduzem-em-r-96-bilhoes-emendas-parlamentares-no-orcamento-2020-diz-governo.ghtml\n",
        "- 4 -> https://g1.globo.com/politica/noticia/2020/03/04/documento-liga-assessor-de-eduardo-bolsonaro-a-conta-em-rede-social-para-ataques-pessoais.ghtml\n",
        "- 5 -> https://g1.globo.com/rj/rio-de-janeiro/noticia/2020/03/04/flavio-bolsonaro-entra-com-recurso-para-tentar-paralisar-investigacao-sobre-suspeita-de-rachadinha.ghtml\n",
        "- 6 -> https://g1.globo.com/economia/noticia/2020/03/04/pib-do-brasil-cresce-11percent-em-2019.ghtml\n",
        "- 7 -> https://g1.globo.com/economia/noticia/2020/03/04/tudo-dentro-do-previsto-diz-paulo-guedes-sobre-resultado-do-pib.ghtml\n",
        "- 8 -> https://g1.globo.com/sp/santos-regiao/noticia/2020/03/04/sobe-numero-de-mortos-apos-temporal-na-baixada-santista.ghtml\n",
        "- 9 -> https://g1.globo.com/sp/sao-paulo/noticia/2020/03/04/ministerio-da-saude-confirma-terceiro-paciente-com-coronavirus-em-sp-um-quarto-caso-aguarda-contraprova.ghtml\n",
        "\n",
        "Para isto utilize o código abaixo:\n",
        "```python\n",
        "def match_class(target):                                                        \n",
        "    def do_match(tag):                                                          \n",
        "        classes = tag.get('class', [])                                          \n",
        "        return all(c in classes for c in target)                                \n",
        "    return do_match \n",
        "\n",
        "def get_text_url(url):\n",
        "    res = requests.get(url)\n",
        "    html = res.text\n",
        "    soup = BeautifulSoup(html, 'html5lib')\n",
        "    #remove marcações de scripts e style\n",
        "    texto = soup.find_all(match_class([\"content-text__container\"]))\n",
        "    all_text = \"\"\n",
        "    for t in texto:\n",
        "        all_text += t.get_text()\n",
        "    return all_text\n",
        "```"
      ]
    },
    {
      "cell_type": "code",
      "metadata": {
        "id": "a2-5OrvTWNj1"
      },
      "source": [
        "def match_class(target):                                                        \n",
        "    def do_match(tag):                                                          \n",
        "        classes = tag.get('class', [])                                          \n",
        "        return all(c in classes for c in target)                                \n",
        "    return do_match \n",
        "\n",
        "def get_text_url(url):\n",
        "    res = requests.get(url)\n",
        "    html = res.text\n",
        "    soup = BeautifulSoup(html, 'html5lib')\n",
        "    #remove marcações de scripts e style\n",
        "    texto = soup.find_all(match_class([\"content-text__container\"]))\n",
        "    all_text = \"\"\n",
        "    for t in texto:\n",
        "        all_text += t.get_text()\n",
        "    return all_text"
      ],
      "execution_count": 1,
      "outputs": []
    },
    {
      "cell_type": "code",
      "metadata": {
        "id": "4d3iRrzEE_bf"
      },
      "source": [
        "noticias = {}\n",
        "noticias[0] = 'https://g1.globo.com/sp/sao-paulo/noticia/2020/03/03/cai-para-130-numero-de-casos-suspeitos-de-coronavirus-no-estado-de-sao-paulo.ghtml'\n",
        "noticias[1] = 'https://g1.globo.com/sp/sao-paulo/noticia/2020/03/04/ministerio-da-saude-confirma-terceiro-paciente-com-coronavirus-em-sp-um-quarto-caso-aguarda-contraprova.ghtml'\n",
        "noticias[2] = 'https://g1.globo.com/bemestar/coronavirus/noticia/2020/03/04/ultimas-noticias-de-coronavirus-de-4-de-marco.ghtml'\n",
        "noticias[3] = 'https://g1.globo.com/economia/noticia/2020/03/04/projetos-reduzem-em-r-96-bilhoes-emendas-parlamentares-no-orcamento-2020-diz-governo.ghtml'\n",
        "noticias[4] = 'https://g1.globo.com/politica/noticia/2020/03/04/documento-liga-assessor-de-eduardo-bolsonaro-a-conta-em-rede-social-para-ataques-pessoais.ghtml'\n",
        "noticias[5] = 'https://g1.globo.com/rj/rio-de-janeiro/noticia/2020/03/04/flavio-bolsonaro-entra-com-recurso-para-tentar-paralisar-investigacao-sobre-suspeita-de-rachadinha.ghtml'\n",
        "noticias[6] = 'https://g1.globo.com/economia/noticia/2020/03/04/pib-do-brasil-cresce-11percent-em-2019.ghtml'\n",
        "noticias[7] = 'https://g1.globo.com/economia/noticia/2020/03/04/tudo-dentro-do-previsto-diz-paulo-guedes-sobre-resultado-do-pib.ghtml'\n",
        "noticias[8] = 'https://g1.globo.com/sp/santos-regiao/noticia/2020/03/04/sobe-numero-de-mortos-apos-temporal-na-baixada-santista.ghtml'\n",
        "noticias[9] = 'https://g1.globo.com/sp/sao-paulo/noticia/2020/03/04/ministerio-da-saude-confirma-terceiro-paciente-com-coronavirus-em-sp-um-quarto-caso-aguarda-contraprova.ghtml'"
      ],
      "execution_count": 2,
      "outputs": []
    },
    {
      "cell_type": "code",
      "metadata": {
        "id": "Wj0QBGVVE_bl"
      },
      "source": [
        "texto_noticia = {i:get_text_url(noticias[i]) for i in noticias.keys()}"
      ],
      "execution_count": 8,
      "outputs": []
    },
    {
      "cell_type": "code",
      "metadata": {
        "id": "lwaFdPiGJpjN",
        "outputId": "ee79c216-2924-49e0-ab1f-51b745b71957",
        "colab": {
          "base_uri": "https://localhost:8080/",
          "height": 207
        }
      },
      "source": [
        "texto_noticia"
      ],
      "execution_count": 9,
      "outputs": [
        {
          "output_type": "execute_result",
          "data": {
            "text/plain": [
              "{0: ' A Secretaria Estadual de Saúde de São Paulo divulgou nesta terça-feira (3) que caiu o número de pacientes com suspeita de coronavírus no estado. Enquanto na segunda-feira (2) eram 163 casos suspeitos, nesta terça são 130.  Foram descartados, ao todo, 104 casos no estado, destes, 56 foram nas últimas 24 horas. Entretanto, segundo informou a pasta, entre segunda (2) e terça (3), 23 novos surgiram.  Permanecem confirmados apenas 2 casos da doença no país, ambos no estado de São Paulo. Os pacientes estão em quarentena domiciliar. Ambos estiveram em viagem na Itália.  \"Os dois confirmados estão evoluindo bem clinicamente, mas ainda têm alguns sintomas que fazem com que eles continuem em isolamento domiciliar\", salientou Paulo Menezes, coordenador do comitê de operações emergenciais (COE) da Secretaria Estadual de Saúde.  O número de pessoas que tiveram contato com o segundo caso confirmado não foi divulgado pela secretaria. No primeiro caso confirmado, eram 34 pessoas, entre passageiros do voo e familiares do paciente.  “Existem contactantes [do segundo caso], eles estão sendo monitorados, mas a gente não está divulgando mais números de contactantes por conta da privacidade das pessoas”, disse Paulo Menezes, coordenador do comitê de operações emergenciais (COE) do estado.  O secretário estadual de saúde destaca ainda que o segundo paciente confirmado foi cauteloso assim que percebeu os primeiros sintomas. “Ele foi muito cuidadoso colocou máscara antes do voo e foi pro hospital”, disse o secretário José Henrique Germann.  Participaram do evento também o coordenador do Centro de Contingenciamento de Emergências para o coronavírus do estado, o médico David Uip, o secretário estadual de saúde, José Henrique Germann, e Helena Sato, coordenadora do Centro de Vigilância Epidemiológica (CVE) estadual.  Segundo Uip, o laboratório Adolfo Lutz, onde os testes são realizados, irá \"qualificar outros laboratórios\" para realizar o exame.  \"De ontem pra hoje, nós descartamos 56 daqueles 163. Já tiveram seus exames negativos. E tivemos a inclusão de notificações de 23 novas pessoas. Então somamos 130 casos suspeitos. São todos viajantes. Os casos suspeitos que tínhamos de contactantes dos casos confirmados já foram descartados\", disse Menezes.  Segundo a metodologia da Secretaria Estadual de Saúde, para um caso ser considerado suspeito é necessário que o paciente tenha apresentado, além dos sintomas, histórico de viagem ou contato com caso suspeito.  No sábado (29), a Secretaria Estadual de Saúde e o Ministério da Saúde confirmaram o segundo caso de coronavírus no estado. Trata-se de um homem de 32 anos que reside em São Paulo e que chegou de Milão, na Itália, na quinta-feira (27).  Mesmo com a segunda confirmação, não há mudança da situação nacional, pois não existem evidências de circulação sustentada do vírus em território brasileiro.  A tendência é que, a partir dos próximos dias, o padrão de identificação dos casos suspeitos mude. Segundo Menezes, \"daqui a alguns dias nós vamos trabalhar por gravidade e não por procedência pra fazer a identificação dos casos suspeitos\".  \"Eu concordo com o ministério da Saúde: eu acho que estamos em um momento de pandemia há dias. Meu sentimento pessoal é de que estamos em um momento pandêmico\", salientou Uip.  A Organização Mundial de Saúde (OMS) é que define os critérios e se a doença é caracterizada ou não como pandemia.  O governo estadual lançou uma cartilha de orientação e prevenção do coronavírus em cinco idiomas - português, inglês, espanhol, italiano e chinês - na versão impressa e eletrônica. O estado irá liberar R$ 30 milhões em recursos para as ações de prevenção e informação.  Após a confirmação de um caso, o governo estadual anunciou a criação de um centro de contingência para monitorar casos de coronavírus no estado. A função do centro de contingência é coordenar ações contra a propagação do Covid-19. O grupo é presidido pelo infectologista David Uip e conta com profissionais do Instituto Butantan e médicos das redes pública e privada, sob a supervisão do Secretário de Estado da Saúde, José Henrique Germann.  Nesta quinta-feira (27), o governo federal anunciou que vai antecipar para 23 de março a Campanha Nacional de Vacinação contra a gripe – anteriormente, a abertura estava prevista para a segunda quinzena de abril.  A vacina contra a gripe não protege contra o novo coronavírus, mas, sim, contra tipos de influenza (família à qual pertence o H1N1, por exemplo). E justamente por isso pode ajudar profissionais de saúde a diagnosticar – por eliminação – eventuais casos de Covid-19.  Quem for viajar aos locais com circulação do vírus deve evitar contato com pessoas doentes, animais (vivos ou mortos), e a circulação em mercados de animais e seus produtos. ',\n",
              " 1: ' O Ministério da Saúde, em conjunto com as secretarias estadual e municipal de São Paulo, confirmou nesta quarta-feira (4) o terceiro caso de coronavírus no Brasil. O homem é natural da Colômbia, tem 46 anos, é administrador de empresas, mora em São Paulo, e viajou para a Itália, Áustria, Alemanha e Espanha.  Ele desembarcou no Brasil no dia 1º de março, procurou atendimento médico com sintomas de tosse, coriza e desconforto na garganta e teve a confirmação para COVID-19 nesta quarta-feira (4) no Hospital Albert Einstein, na Zona Sul de São Paulo.  (O G1 informou, com base em informações do coordenador do Centro de Contingência de São Paulo, David Uip, que o terceiro paciente confirmado é uma criança que viajou para a Itália. Na verdade, trata-se de um homem que viajou para países da Europa. A informação foi corrigida às 17h45).   Os dois primeiros casos também foram confirmados no Einstein. Todos os três pacientes estão bem, em isolamento domiciliar, e tiveram histórico de viagem para a Europa. Em nota, o ministério e as pastas afirmam que o caso é importado, ou seja, veio de fora do Brasil.  O Ministério da Saúde também acompanha outro caso em São Paulo: é o de uma paciente de 13 anos que viajou ao exterior, com passagem por Portugal e Itália. A adolescente teve uma lesão durante a viagem e, ao voltar, procurou atendimento médico no Hospital Beneficência Portuguesa, na capital paulista.  Mesmo sem apresentar sintomas, os médicos coletaram amostras para teste para coronavírus executado em um laboratório privado. O exame deu positivo e agora a contraprova será feita pelo Instituto Adolfo Lutz.  De acordo com Uip, o terceiro paciente confirmado não tem relação com os dois primeiros casos. \"A priori nenhum [se tem relação com os outros dois casos], são casos diferentes. Não está acontecendo nada de inesperado, nós vamos ter novos casos. A maioria dos casos vão ser assintomáticos, ou pouco sintomáticos, como toda doença viral, especialmente vírus que fazem a síndrome respiratória, então, é dentro do esperado e há certeza que nós estamos preparados para isso\", disse.  O último balanço divulgado pela Secretaria Estadual de Saúde aponta 135 casos suspeitos da doença no estado de São Paulo, outros 131 foram descartados por meio de análise laboratorial.  Mesmo com a segunda confirmação, não houve mudança da situação nacional, pois não existem evidências de circulação sustentada do vírus em território brasileiro.  Segundo a metodologia da Secretaria Estadual de Saúde, para um caso ser considerado suspeito é necessário que o paciente tenha apresentado, além dos sintomas, histórico de viagem ou contato com caso suspeito.  No último sábado (29), a Secretaria de Saúde do Estado de São Paulo e o Ministério da Saúde confirmaram  o segundo caso de coronavírus no estado. Trata-se de um homem de 32 anos que reside em São Paulo e que chegou de Milão, na Itália, na quinta-feira (27).  O primeiro caso foi confirmado na quarta-feira (26). Trata-se de um homem que também reside em São Paulo e possui 61 anos. Ele retornou de Turim, no norte da Itália, na sexta-feira (21).  Paulo Menezes, coordenador do comitê de operações emergenciais (COE) da Secretaria Estadual de Saúde afirmou na terça-feira (3) que os pacientes continuam em quarentena domiciliar.  \"Os dois confirmados estão evoluindo bem clinicamente, mas ainda têm alguns sintomas que fazem com que eles continuem em isolamento domiciliar\", disse em coletiva de imprensa.  O número de pessoas que tiveram contato com o segundo caso confirmado não foi divulgado pela secretaria. No primeiro caso confirmado, eram 34 pessoas, entre passageiros do voo e familiares do paciente.  “Existem contactantes [do segundo caso], eles estão sendo monitorados, mas a gente não está divulgando mais números de contactantes por conta da privacidade das pessoas”, disse Menezes.  Segundo Uip, o Centro de Contingência contra a doença criado no estado, o laboratório Adolfo Lutz, onde os testes são realizados, irá \"qualificar outros laboratórios\" para realizar o exame de confirmação.  A tendência é que, a partir dos próximos dias, o padrão de identificação dos casos suspeitos mude. Segundo Menezes, \"daqui a alguns dias nós vamos trabalhar por gravidade e não por procedência pra fazer a identificação dos casos suspeitos\".  \"Eu concordo com o ministério da Saúde: eu acho que estamos em um momento de pandemia há dias. Meu sentimento pessoal é de que estamos em um momento pandêmico\", salientou Uip.  A Organização Mundial de Saúde (OMS) é que define os critérios e se a doença é caracterizada ou não como pandemia.  O governo estadual lançou uma cartilha de orientação e prevenção do coronavírus em cinco idiomas - português, inglês, espanhol, italiano e chinês - na versão impressa e eletrônica. O governador João Doria (PSDB) afirmou que irá liberar R$ 30 milhões em recursos para as ações de prevenção e informação.  Nesta quinta-feira (27), o governo federal anunciou que vai antecipar para 23 de março a Campanha Nacional de Vacinação contra a gripe – anteriormente, a abertura estava prevista para a segunda quinzena de abril.  A vacina contra a gripe não protege contra o novo coronavírus, mas, sim, contra tipos de influenza (família à qual pertence o H1N1, por exemplo). E justamente por isso pode ajudar profissionais de saúde a diagnosticar – por eliminação – eventuais casos de Covid-19.  Quem for viajar aos locais com circulação do vírus deve evitar contato com pessoas doentes, animais (vivos ou mortos), e a circulação em mercados de animais e seus produtos. ',\n",
              " 2: ' O aumento dos casos de coronavírus na Itália e a suspensão das peregrinações a Meca, cidade na Arábia Saudita considerada sagrada para os muçulmanos, são destaques desta quarta-feira (4). Na Itália, após mais de 3 mil casos e 107 mortes, as autoridades decidiram suspender as aulas até 15 de março e proibir a entrada do público em eventos esportivos.  Outro fato relevante desta quarta é que o número de mortos fora da China já é maior do que dentro do país onde surgiu a epidemia (veja vídeo abaixo). Durante o dia, a Itália passou o Irã em número de casos confirmados e de mortes e é o país onde o coronavírus mais fez vítimas, (depois da China), com 3.089 pessoas infectadas e 107 mortos. O Irã chegou a 2.922 casos e 92 mortes.  Destaques desta quarta (4): ',\n",
              " 3: ' Os projetos de lei orçamentária enviados pelo governo ao Congresso Nacional nesta terça-feira (3) reduzem, em R$ 9,6 bilhões, o total disponível para emendas parlamentares no Orçamento 2020. Os números foram divulgados nesta quarta (4) pelo Ministério da Economia.  Com as mudanças, as emendas totais dos deputados e senadores passariam de R$ 46,2 bilhões, incluindo a reserva de contingência para as desonerações da MP Verde e Amarela, para R$ 36,6 bilhões – uma redução de 20,7%.  O ajuste foi feito nas chamadas \"emendas de relator\", incluídas no orçamento pelo relator do texto após sugestões de deputados e senadores. Elas passariam de R$ 30,1 bilhões (incluindo desonerações do Programa Verde e Amarelo, no valor de R$ 1,5 bilhão) para R$ 20,5 bilhões, uma queda de 31,8%.  O secretário-especial de Fazenda do Ministério da Economia, Waldery Rodrigues, disse que esses projetos de lei trazem uma reorganização do processo orçamentário do orçamento impositivo.  Com as propostas, as emendas parlamentares no Orçamento de 2020 ficam assim:  O secretário-especial-adjunto de Fazenda do Ministério da Economia, Esteves Colnago, explicou que a área econômica busca, com essas propostas, manter os gastos discricionários (não obrigatórios) no mesmo patamar do ano passado, de R$ 94,5 bilhões. A cifra inclui R$ 1,5 bilhão em reserva de contingência, para imprevistos ou calamidades.  \"É uma referencia natural buscar um nível de discricionariedade [liberdade para alocar recursos] que fosse equivalente ao ano anterior. Mesmo em nova situação, em um novo ambiente, entendemos que temos segurança, dado o que aconteceu no ano passado, de transcorrermos esse ano sem dificuldades\", explicou.  Segundo ele, o orçamento impositivo original, com um patamar elevado de emendas impositivas, gera uma \"insegurança grande na execução\" das despesas. \"Como é que eu pago restos a pagar de anos anteriores, se o orçamento deste ano é todo impositivo\", questionou Colnago.  O secretário-adjunto do Tesouro Nacional, Otavio Ladeira, diz que os projetos enviados ao Legislativo permitirão que os ministérios definam como vão usar os recursos previstos: quitando restos a pagar de anos anteriores, ou executando os projetos de 2020.  A mudança diminui, segundo ele, a possibilidade de \"empoçamento\" dos recursos, ou seja, que valores autorizados não sejam gastos efetivamente. No ano passado, de acordo com o Tesouro, isso aconteceu com R$ 17,4 bilhões do orçamento.  Esse dinheiro ficou represado e, com isso, ajudou a diminuir o déficit primário nas contas do governo. Apesar de ajudar a fechar as planilhas, ele representa investimentos que poderiam ter acontecido, mas foram cancelados ou adiados por falta de programação.  \"Os dispositivos dos projetos de lei permitem, aos ministérios, demonstrar que não precisarão de recursos financeiros, destinando a outros [ministérios] para evitar o empoçamento. Também permitem a criação de uma reserva ao longo do ano, que terá de ser zerada ao final. Para atender a um ou outro ministério que precise\", disse Ladeira a jornalistas.  Para entrar em vigor, os projetos terão de ser analisados pelo Congresso Nacional em sessão conjunta. O presidente do Congresso, senador Davi Alcolumbre (DEM-AP), chegou a anunciar inicialmente que isso poderia acontecer nesta terça (3).  Na noite de terça, ele assumiu o microfone do plenário para anunciar uma mudança nos planos. Com isso, deputados e senadores mantiveram os vetos de Bolsonaro a regras do orçamento impositivo nesta quarta (4), mas a análise dos novos projetos foi adiada para a próxima semana. ',\n",
              " 4: ' Documento encaminhado à Comissão Parlamentar Mista de Inquérito (CPMI) das Fake News mostra que um assessor do deputado Eduardo Bolsonaro (PSL-SP) usou um computador da Câmara dos Deputados para criar uma página usada em ataques pessoais contra adversários políticos.  O documento foi enviado pela rede social Facebook à CPMI após um pedido de quebra de sigilo de contas no Instagram – as duas redes são controladas pela mesma empresa. O teor foi divulgado nesta quarta-feira (4) pelo site UOL.  Segundo a reportagem, \"a quebra de sigilo liga o gabinete de Eduardo Bolsonaro à conta de ataques virtuais\". O Jornal Nacional também teve acesso ao documento.  A conta na rede social, chamada \"Bolsofeios\", foi registrada a partir de um IP dentro da Câmara. O IP é um número único, usado para identificar cada computador conectado a uma rede.  O e-mail utilizado no cadastro da página é utilizado por Eduardo Guimarães, secretário parlamentar de Eduardo Bolsonaro. Notas fiscais apresentadas à Câmara por Eduardo Bolsonaro em janeiro mostram que Guimarães usou esse mesmo e-mail como endereço de contato.  O Jornal Nacional também confirmou que o número de celular usado para registrar a página é o mesmo utilizado por Eduardo Guimarães.  Questionado nesta quarta, após a divulgação das informações, o deputado Eduardo Bolsonaro respondeu com ironia, e sem interromper a caminhada pela Câmara.  \"Estou pensando o que eu vou fazer, estou pensando o que fazer. Olha, mas... qual infração foi cometida? Mandar esse pessoal catar coquinho. Eu vou dar um aumento para o meu funcionário se isso aí for verdade\", disse.  Em dezembro de 2019, a deputada Joice Hasselmann (PSL-SP), correligionária de Eduardo Bolsonaro, falou à CPMI das Fake News. Ela acusou os filhos do presidente Jair Bolsonaro de comandarem uma rede de ataques virtuais, chamada por ela de \"gabinete do ódio\".  Segundo Joice, o grupo usava essa rede para espalhar mensagens falsas contra desafetos da família Bolsonaro. Ela já tinha feito denúncia semelhante em entrevista ao G1, em outubro do ano passado.  \"E aí, para se ter uma ideia, o \\'Bolsofeios\\' é do assessor do Eduardo, o Dudu Guimarães\", declarou Joice à CPMI, antecipando a relação confirmada pelo documento enviado à comissão.  O sigilo da conta foi quebrado a pedido do deputado Túlio Gadelha (PDT-PE), com base nos depoimentos à CPMI das Fake News. Nesta quarta, o parlamentar disse que a comissão vai analisar o conteúdo dos papéis para avaliar as próximas medidas.  \"O próximo passo agora é a gente analisar o conteúdo, pedir a quebra de sigilo telefônico, a quebra de sigilo telemático dos e-mails do deputado Eduardo Bolsonaro e do \\'gabinete do ódio\\', das pessoas que disseminavam essas informações, para analisar esse conteúdo\", diz.  Segundo ele, a depender da análise, Eduardo Bolsonaro pode ser acionado no Conselho de Ética da Câmara dos Deputados.  A CPMI se reúne novamente na próxima semana. Deputados de oposição a Bolsonaro planejam novos pedidos de quebra de sigilo para detalhar a ação do \"gabinete do ódio\".  A ideia, segundo os parlamentares, é conseguir mais informações sobre o conteúdo das mensagens do email usado por Eduardo Guimarães, entre outros detalhes. ',\n",
              " 5: ' O senador Flávio Bolsonaro (sem partido) entrou com um habeas corpus no Tribunal de Justiça do Rio para tentar, mais uma vez, paralisar as investigações sobre suspeita de \"rachadinha\" no gabinete dele quando era deputado estadual.  A defesa do parlamentar alega que os fatos são relativos ao tempo em que ele estava na Assembleia Legislativa do Rio (Alerj) e, por isso, deveriam ser analisados em segunda instância.  A suspeita envolve os crimes de peculato, organização criminosa e lavagem de dinheiro. O Ministério Público afirma que ele é o chefe de uma organização criminosa que atuou no gabinete da Alerj.  A estimativa é que cerca de R$ 2,3 milhões tenham sido movimentados em um esquema de \"rachadinha\", no qual funcionários do então deputado devolviam parte do salário que recebiam na Alerj.  O dinheiro, segundo a investigação, era lavado com aplicação em uma loja de chocolates no Rio da qual o senador é sócio e em imóveis.  Flávio Bolsonaro nega todas as acusações, diz ser vítima de perseguição e critica o vazamento das informações do processo, que corre em segredo de Justiça. ',\n",
              " 6: ' O Produto Interno Bruto (PIB) brasileiro cresceu 1,1% em 2019, segundo divulgou nesta quarta-feira (4) o Instituto Brasileiro de Geografia e Estatística (IBGE). Foi o desempenho mais fraco em 3 anos, com o resultado afetado principalmente pela perda de ritmo do consumo das famílias e dos investimentos privados. Em valores correntes, o PIB do ano passado totalizou R$ 7,3 trilhões em 2019.  Foi a 3ª alta anual consecutiva após 2 anos de retração, mas a recuperação lenta ainda mantém a economia do país abaixo do patamar pré-recessão.  Já o PIB per capita (por habitante) teve alta de apenas 0,3% em termos reais em 2019, alcançando R$ 34.533 em 2019.  Segundo ela, em valores correntes, o PIB brasileiro ainda segue 3,1% abaixo do pico (ponto mais alto da economia brasileira), registrado no primeiro trimestre de 2014. \"Por outro lado, estamos a 5,4% do vale, o ponto mais baixo que foi alcançado no 4º trimestre de 2016\", explicou.  Em 2017 e 2018 o crescimento foi de 1,3% em ambos os anos, após retrações de 3,5% em 2015 e de 3,3% em 2016. Veja gráfico abaixo:  Apesar de mais um ano de crescimento decepcionante, o resultado veio dentro do esperado pelo mercado que, após resultados fracos da atividade econômica em novembro e dezembro, passou a projetar mais um ano de taxa bem próxima de 1%. No começo de 2019, a estimativa era de um avanço de mais de 2% no ano. A estimativa do Ministério da Economia era de uma alta de 1,12%.  O PIB é a soma de todos os bens e serviços produzidos no país e serve para medir a evolução da economia.  Veja os principais destaques do PIB em 2019:  O crescimento da economia em 2019 foi mais uma vez sustentado pelo consumo das famílias, mas o ritmo de recuperação do consumo desacelerou 1,8%, após avanços de 2% em 2017 e 2,1% em 2018. Foi o resultado mais fraco desde 2016, diante da baixa confiança e do mercado de trabalho ainda frágil.  \"O crescimento do PIB continua ancorado no consumo das famílias\", enfatizou a pesquisadora, destacando que trata-se do componente com maior peso no cálculo do PIB, representando 65% de toda a atividade econômica.  O consumo das famílias em 2019 foi beneficiado, entre outros fatores, pela melhora da ocupação no mercado de trabalho, pela redução da taxa básica de juros e pela liberação de recursos extras do FGTS.  Segundo a pesquisadora, a contribuição da demanda interna no resultado do PIB de 20198 foi de 1,7%, sendo 1,2 ponto percentual (p.p). do consumo das famílias, 0,6 p.p. de investimento e estoque e -0,1% do consumo do governo. Já a demanda externa contribuiu negativamente com 0,5%.  Os investimentos tiveram uma desaceleração mais forte, registrando uma alta de 2,2% no ano passado, após um salto de 3,9% em 2018 e queda de 2,6% em 2017. Já a despesa de consumo do governo caiu 0,4%, em meio ao rombo das contas públicas e dificuldades orçamentárias.  A taxa de investimento em 2019 foi de 15,4% do PIB, acima do observado em 2018 (15,2%), mas ainda bem abaixo do patamar acima de 21% registrado em 2013. Já a taxa de poupança caiu para 12,2%, ante 12,4% em 2018.  No setor de serviços, as atividades que registraram maior avanço no ano foram: informação e comunicação (4,1%) – maior taxa de crescimento entre todos os componentes do PIB –, atividades imobiliárias (2,3%) e comércio (1,8%).  Na agropecuária, o crescimento foi puxado pelo cultivo de milho (23,6%), algodão (39,8%), laranja (5,6%) e feijão (2,2%).  Pela ótica da produção, tanto os serviços como a agropecuária tiveram um crescimento menor em 2019, enquanto que a indústria manteve o resultado de 0,5%, com destaque para construção civil que cresceu 1,6% – (1ª alta após 5 anos consecutivos de quedas).  Apesar do crescimento, o setor se encontra 30% abaixo do pico, que foi alcançado no primeiro trimestre de 2014. E no 4º trimestre houve retração de 2,5%, ante o 3º trimestre. O IBGE destacou também que a alta em 2019 foi puxado pela atividade imobiliária, e não pelo setor de infraestrutura.  Já a indústria extrativa teve queda de 1,1% em 2019, enquanto que a de transformação registraram avanço de apenas 0,1%.  No setor externo, as exportações de bens e serviços caíram 2,5% – a 1ª queda em 5 anos –, enquanto as importações de bens e serviços avançaram 1,1%.  A necessidade de financiamento da economia brasileira cresceu de R$ 168 bilhões em 2018 para R$ 212,2 bilhões em 2019. \"O principal fator para esse crescimento foi a transformação do superávit de R$ 26,3 bilhões do saldo externo de bens e serviços no ano de 2018 para o déficit de menos R$ 24,1 bilhões em 2019\", destacou Rebeca.  No 4º trimestre, o PIB cresceu 0,5% na comparação com o trimestre anterior, o que representa uma desaceleração frente ao avanço de 0,6% registrado no 3º trimestre. Na comparação com o 4º trimestre de 2018, houve alta de 1,7%, o 12º resultado positivo consecutivo.  A indústria e os serviços apresentaram variação positiva de 0,2% e 0,6%, respectivamente, na comparação com o 3º trimestre, enquanto a agropecuária caiu 0,4%.  Do lado da demanda, o consumo das famílias desacelerou para um avanço de 0,5% (ante 0,7% no 3º trimestre), enquanto que os investimentos caíram 3,3%, interrompendo 2 trimestres seguidos de altas. Já a despesa do governo cresceu 0,4% em relação ao trimestre imediatamente anterior.  No setor externo, as exportações cresceram 2,6%, enquanto as importações caíram 3,2%.  Após um início de ano de maior otimismo sobre as perspectivas para a economia brasileira, preocupações em torno dos impactos do coronavírus na economia global e incertezas sobre o ritmo de aprovação de reformas no Congresso têm derrubado as projeções para o PIB do Brasil em 2020.  Embora não faça projeções, o IBGE considera que a economia brasileira será afetada negativamente pelo coronavírus. \"Quando a gente divulgar o primeiro trimestre do ano provavelmente a gente vai ver o impacto do coronavírus sobre a economia\", disse a gerente das Contas Nacionais, Rebeca Palis. \"Vai ser um impacto no todo, provavelmente vai afetar o comercio exterior e, também, a produção nacional\", acrescentou ao ser questionada sobre quais setores devem ser impactados.  O mercado brasileiro reduziu para 2,17% a previsão a alta do PIB neste ano, segundo a última pesquisa Focus do Banco Central, mas diversos bancos e consultorias já estimam um crescimento abaixo de 2% e mais cortes na taxa básica de juros.  Até o final de janeiro deste ano, o ministro da Economia, Paulo Guedes, se dizia confiante em uma taxa de crescimento de 2,5% em 2020. Nesta quarta, em comunicado, o ministério da Economia afirmou que o coronavírus tornou o crescimento este ano \\'desafiador\\', ao reduzir a expectativas de crescimento mundial e \"adicionar incertezas\" sobre a evolução do comércio internacional.  A estimativa atual do governo para o crescimento da economia em 2020 segue em 2,4%, mas o secretário de Política Econômica do Ministério da Economia, Adolfo Sachsida, já adiantou que, até o início da próxima semana, a projeção oficial deverá ser revisada.  Entre os principais fatores que impediram um ritmo de recuperação mais forte da economia em 2019, estão:  Do lado dos fatores positivos para a economia e para a confiança dos investidores no ano passado, destaque para a aprovação da reforma da Previdência, com previsão de economia de R$ 855 bilhões em 10 anos, e a queda da taxa básica de juros para mínimas históricas, que reduziu o custo de empréstimos e permitiu um avanço do crédito bancário.  Para tentar aquecer a economia, o governo Bolsonaro também anunciou, no ano passado, a liberação de saques das contas inativas, e ativas, do Fundo de Garantia do Tempo de Serviço (FGTS), injetando mais de R$ 27 bilhões na economia. ',\n",
              " 7: ' O ministro da Economia, Paulo Guedes, afirmou nesta quarta-feira (4) que o resultado do Produto Interno Bruto (PIB) de 2019 ficou \"dentro do previsto\".  Mais cedo, nesta quarta, o Instituto Brasileiro de Geografia e Estatística (IBGE) informou que o PIB cresceu 1,1% em 2019, registrando a menor alta em três anos (veja detalhes no vídeo acima).  O PIB é a soma de todos os bens e serviços produzidos no país e serve para medir a evolução da economia.  \"À medida que as reformas vão acontecendo, e elas vão ser implementadas, o Brasil vai reacelerando. Então, está tudo dentro do previsto. Eu nem entendi essa comoção toda: \\'Ah, 1,1%\\'. O que que eles esperavam? Era 1% que nós tínhamos dito que ia crescer no primeiro ano. No segundo ano, a gente acha que é acima de 2%, prosseguindo com as reformas\", declarou o ministro.  Depois o presidente Jair Bolsonaro também foi questionado sobre o tema. Disse que, apesar da crise do coronavírus, a expectativa é que em 2020 o PIB melhore. Questionado sobre como o governo avalia ter previsto o dobro de crescimento, o presidente respondeu:  \"A expectativa, é o que eu sempre falo: \\'Bota a expectativa mais baixa possível\\', para evitar justamente esse tipo de pergunta.\"  O resultado já era esperado pelos analistas do mercado financeiro, que passaram a projetar mais um ano de taxa próxima de 1%. No começo de 2019, a estimativa era de alta de mais de 2% no ano.  De acordo com os dados do IBGE, o consumo das famílias cresceu pelo terceiro ano seguido em 2019 e ajudou a sustentar, mais uma vez, a expansão do PIB. As compras, porém, perderam fôlego diante da baixa confiança das pessoas no mercado de trabalho.  Também nesta quarta, logo após participar de um evento com o presidente Jair Bolsonaro, no Palácio do Planalto, Paulo Guedes reafirmou que a estimativa é que a economia brasileira cresça 2% em 2020.  Segundo o ministro, o PIB dos últimos trimestres de 2019, na comparação com o mesmo período de 2018, indica que a economia está \"reacelerando\". Para Guedes, se o governo conseguir aprovar outras reformas no Congresso, será possível atingir o percentual de 2%.  \"Se você pegar o quarto trimestre do ano passado, sobre o quarto trimestre de 2018, 1,70%, estava quase chegando em 2%. A economia brasileira está claramente reacelerando. Se nós mantivermos as reformas, ela vai crescer os 2%, um pouco até acima dos 2% que nós estamos esperando. Esperávamos 1%, veio 1,1%. Se as reformas continuam nós achamos que vamos passar de 2%\", disse o ministro.  \"Eu não diria que houve surpresa nenhuma. Eu até estou surpreso com a surpresa que vocês estão tendo\", acrescentou.  Questionado sobre o impacto do surto de coronavírus na China, principal parceria comercial do Brasil, Guedes admitiu eventuais prejuízos, mas ressaltou que o Brasil tem dinâmica própria de crescimento, que poderá ser acelerada com as reformas.  \"O Brasil tem sua própria dinâmica de crescimento. Se nós fizermos as nossas reformas, nós vamos reacelerar o nosso crescimento econômico independentemente do coronavírus. Vai atrapalhar um pouco, mas nós temos potência suficiente para superar esse efeito\", completou.  Também nesta quarta, o secretário-especial de Fazenda do Ministério da Economia, Waldery Rodrigues, afirmou que o resultado do PIB no ano passado veio em linha com o esperado.  \"A dinâmica do ano passado, separada por semestres, mostra um segundo mais forte e dinâmico do que o primeiro. Porque aprovamos a maior reforma paramétrica da reforma da previdência no Brasil. Veja a dificuldade de outros países. E medidas como o FGTS, que antecipamos a devolução de R$ 43 bilhões\", declarou.  Para este ano, o secretário afirmou que é importante manter a agenda de reformas, com a votação da PEC dos fundos públicos, além das PECs da emergência fiscal, do pacto federativo, e mudanças no regime de recuperação fiscal dos estados. Também defendeu a aprovação das reformas administrativa e tributária. ',\n",
              " 8: ' Subiu para 25 o número de mortos após deslizamentos provocados pelo temporal que atingiu a região da Baixada Santista, no litoral de São Paulo. A forte chuva começou na noite de segunda-feira (2) e se seguiu até a madrugada de terça-feira (3). Dentre os mortos, estão dois bombeiros que trabalhavam nas buscas em Guarujá. De acordo com o Corpo de Bombeiros, ainda há 24 pessoas desaparecidas, e as buscas foram retomadas na manhã desta quarta-feira (4) em Santos, São Vicente e Guarujá.  Veja onde ocorreram as mortes:  A tempestade causou alagamentos em vias públicas, afetou serviços (transporte, educação, fornecimento de água, energia elétrica e telefonia) e fez rodovias serem bloqueadas.  Em um período de 24h, de acordo com dados do Centro Nacional de Monitoramento e Alertas de Desastres Naturais (Cemaden), choveu 320 mm em Guarujá, valor muito acima da média de 263 mm prevista para março. Em Santos, choveu 239 mm, perto da média de 257 mm. Já em São Vicente foram registrados 207 mm de chuva, abaixo da média de 257 mm prevista para o mês todo.  De acordo com a Defesa Civil do Estado de São Paulo, há previsão de chuva fraca em pontos isolados da Baixada Santista nesta quarta-feira, que deve elevar ainda mais os acumulados de chuva na região. Por conta do fato de o solo ter ficado completamente encharcado, o risco de deslizamentos continuou elevado.  De acordo com a Defesa Civil do Estado, até o começo da manhã desta quarta-feira, havia 155 desabrigados em Guarujá, seis em São Vicente e 37 em Santos.Também há 11 desalojados em São Vicente. Em Peruíbe, 65 pessoas deixaram temporariamente suas casas e foram recebidas no Centro Comunitário do Caraminguava.  As cidades da Baixada Santista estão recebendo doações para as famílias que foram prejudicadas pelo forte temporal. há uma necessidade maior de doações de colchões, travesseiros e roupa de cama para as vítimas do temporal. Também são necessários itens como roupas de banho, alimentos em geral, água e produtos de higiene pessoal.  Há postos de coleta em Santos, São Vicente, Cubatão e Guarujá. Confira os postos aqui.  O governador do Estado de São Paulo, João Doria (PSDB), foi até Santos nesta terça-feira após o temporal e anunciou que o programa aluguel social será disponibilizado para as pessoas desalojadas após o temporal que atingiu a região da Baixada Santista.  O Governo de São Paulo já disponibilizou 15,6 toneladas em materiais de ajuda humanitária para o atendimento às vítimas das chuvas que caíram na Baixada Santista desde a última segunda-feira (2). Com apoio das prefeituras e entidades assistenciais, o Governo do Estado está providenciando a remessa de colchões, cobertores, cestas básicas, água sanitária e água potável aos municípios afetados.  De acordo com a Defesa Civil do Estado de São Paulo, em 24h choveu mais de 100 mm em todas as nove cidades da Baixada Santista. Foram 300 mm no Guarujá, 222 milímetros em Santos e 187 mm em São Vicente. Segundo o Instituto Nacional de Meteorologia (Inmet), o normal esperado para o mês de março no Guarujá são 277 mm - ou seja, já choveu mais que o esperado para o mês na cidade.  O temporal começou na noite de segunda e se estendeu durante toda a madrugada e manhã de terça-feira. Moradores registraram alagamentos e ruas ficaram intransitáveis em toda a Baixada Santista. Passageiros de um ônibus mostraram o rápido aumento do nível da água no interior do veículo. Diversas linhas de ônibus e itinerários foram comprometidos pelo temporal.  Houve quedas de barreira nas rodovias Anchieta, Cônego Domênico Rangoni, Rio-Santos e Guarujá-Bertioga, que fazem a ligação de cidades da Baixada Santista com outras regiões do Estado de São Paulo. A via Anchieta e a rodovia Guarujá-Bertioga estavam totalmente interditadas até a última atualização desta reportagem.  A ausência de variações de temperatura no Oceano Atlântico e o aquecimento global explicam as fortes chuvas que atingiram a região sudeste do Brasil no mês de fevereiro, segundo especialistas consultados pelo G1.  Já o começo de março as chuvas também seguem castigando a região. Quatro pessoas morreram no Rio de Janeiro e uma no Espírito Santo nesta segunda-feira (2). ',\n",
              " 9: ' O Ministério da Saúde, em conjunto com as secretarias estadual e municipal de São Paulo, confirmou nesta quarta-feira (4) o terceiro caso de coronavírus no Brasil. O homem é natural da Colômbia, tem 46 anos, é administrador de empresas, mora em São Paulo, e viajou para a Itália, Áustria, Alemanha e Espanha.  Ele desembarcou no Brasil no dia 1º de março, procurou atendimento médico com sintomas de tosse, coriza e desconforto na garganta e teve a confirmação para COVID-19 nesta quarta-feira (4) no Hospital Albert Einstein, na Zona Sul de São Paulo.  (O G1 informou, com base em informações do coordenador do Centro de Contingência de São Paulo, David Uip, que o terceiro paciente confirmado é uma criança que viajou para a Itália. Na verdade, trata-se de um homem que viajou para países da Europa. A informação foi corrigida às 17h45).   Os dois primeiros casos também foram confirmados no Einstein. Todos os três pacientes estão bem, em isolamento domiciliar, e tiveram histórico de viagem para a Europa. Em nota, o ministério e as pastas afirmam que o caso é importado, ou seja, veio de fora do Brasil.  O Ministério da Saúde também acompanha outro caso em São Paulo: é o de uma paciente de 13 anos que viajou ao exterior, com passagem por Portugal e Itália. A adolescente teve uma lesão durante a viagem e, ao voltar, procurou atendimento médico no Hospital Beneficência Portuguesa, na capital paulista.  Mesmo sem apresentar sintomas, os médicos coletaram amostras para teste para coronavírus executado em um laboratório privado. O exame deu positivo e agora a contraprova será feita pelo Instituto Adolfo Lutz.  De acordo com Uip, o terceiro paciente confirmado não tem relação com os dois primeiros casos. \"A priori nenhum [se tem relação com os outros dois casos], são casos diferentes. Não está acontecendo nada de inesperado, nós vamos ter novos casos. A maioria dos casos vão ser assintomáticos, ou pouco sintomáticos, como toda doença viral, especialmente vírus que fazem a síndrome respiratória, então, é dentro do esperado e há certeza que nós estamos preparados para isso\", disse.  O último balanço divulgado pela Secretaria Estadual de Saúde aponta 135 casos suspeitos da doença no estado de São Paulo, outros 131 foram descartados por meio de análise laboratorial.  Mesmo com a segunda confirmação, não houve mudança da situação nacional, pois não existem evidências de circulação sustentada do vírus em território brasileiro.  Segundo a metodologia da Secretaria Estadual de Saúde, para um caso ser considerado suspeito é necessário que o paciente tenha apresentado, além dos sintomas, histórico de viagem ou contato com caso suspeito.  No último sábado (29), a Secretaria de Saúde do Estado de São Paulo e o Ministério da Saúde confirmaram  o segundo caso de coronavírus no estado. Trata-se de um homem de 32 anos que reside em São Paulo e que chegou de Milão, na Itália, na quinta-feira (27).  O primeiro caso foi confirmado na quarta-feira (26). Trata-se de um homem que também reside em São Paulo e possui 61 anos. Ele retornou de Turim, no norte da Itália, na sexta-feira (21).  Paulo Menezes, coordenador do comitê de operações emergenciais (COE) da Secretaria Estadual de Saúde afirmou na terça-feira (3) que os pacientes continuam em quarentena domiciliar.  \"Os dois confirmados estão evoluindo bem clinicamente, mas ainda têm alguns sintomas que fazem com que eles continuem em isolamento domiciliar\", disse em coletiva de imprensa.  O número de pessoas que tiveram contato com o segundo caso confirmado não foi divulgado pela secretaria. No primeiro caso confirmado, eram 34 pessoas, entre passageiros do voo e familiares do paciente.  “Existem contactantes [do segundo caso], eles estão sendo monitorados, mas a gente não está divulgando mais números de contactantes por conta da privacidade das pessoas”, disse Menezes.  Segundo Uip, o Centro de Contingência contra a doença criado no estado, o laboratório Adolfo Lutz, onde os testes são realizados, irá \"qualificar outros laboratórios\" para realizar o exame de confirmação.  A tendência é que, a partir dos próximos dias, o padrão de identificação dos casos suspeitos mude. Segundo Menezes, \"daqui a alguns dias nós vamos trabalhar por gravidade e não por procedência pra fazer a identificação dos casos suspeitos\".  \"Eu concordo com o ministério da Saúde: eu acho que estamos em um momento de pandemia há dias. Meu sentimento pessoal é de que estamos em um momento pandêmico\", salientou Uip.  A Organização Mundial de Saúde (OMS) é que define os critérios e se a doença é caracterizada ou não como pandemia.  O governo estadual lançou uma cartilha de orientação e prevenção do coronavírus em cinco idiomas - português, inglês, espanhol, italiano e chinês - na versão impressa e eletrônica. O governador João Doria (PSDB) afirmou que irá liberar R$ 30 milhões em recursos para as ações de prevenção e informação.  Nesta quinta-feira (27), o governo federal anunciou que vai antecipar para 23 de março a Campanha Nacional de Vacinação contra a gripe – anteriormente, a abertura estava prevista para a segunda quinzena de abril.  A vacina contra a gripe não protege contra o novo coronavírus, mas, sim, contra tipos de influenza (família à qual pertence o H1N1, por exemplo). E justamente por isso pode ajudar profissionais de saúde a diagnosticar – por eliminação – eventuais casos de Covid-19.  Quem for viajar aos locais com circulação do vírus deve evitar contato com pessoas doentes, animais (vivos ou mortos), e a circulação em mercados de animais e seus produtos. '}"
            ]
          },
          "metadata": {
            "tags": []
          },
          "execution_count": 9
        }
      ]
    },
    {
      "cell_type": "markdown",
      "metadata": {
        "id": "uZjMxCRYE_bp"
      },
      "source": [
        "<b> Atividade </b>\n",
        "\n",
        "12) Capture as entidades de cada uma das notícias utilizando o modelo ``pt_core_news_sm`` do spacy.\n",
        "\n",
        "<i> Dica: ents retorna as entidades de um texto </i>"
      ]
    },
    {
      "cell_type": "code",
      "metadata": {
        "id": "arDDHNYXJ-p0"
      },
      "source": [
        "txt_nlp = nlp(texto_noticia[0])"
      ],
      "execution_count": null,
      "outputs": []
    },
    {
      "cell_type": "code",
      "metadata": {
        "id": "qud_kQkbJ-nw"
      },
      "source": [
        "entidades = {i:set(list(map(str, (nlp(texto_noticia[i]).ents)))) for i in noticias.keys()}"
      ],
      "execution_count": null,
      "outputs": []
    },
    {
      "cell_type": "code",
      "metadata": {
        "id": "So3pHIU6J-hf",
        "outputId": "43e972ff-e162-46bb-dbf9-610a77819cb9",
        "colab": {
          "base_uri": "https://localhost:8080/",
          "height": 1000
        }
      },
      "source": [
        "entidades"
      ],
      "execution_count": null,
      "outputs": [
        {
          "output_type": "execute_result",
          "data": {
            "text/plain": [
              "{0: {'A Secretaria Estadual de Saúde de São Paulo',\n",
              "  'Adolfo Lutz',\n",
              "  'COE',\n",
              "  'CVE',\n",
              "  'Campanha Nacional de Vacinação',\n",
              "  'Centro de Contingenciamento de Emergências',\n",
              "  'Centro de Vigilância Epidemiológica',\n",
              "  'David Uip',\n",
              "  'Helena Sato',\n",
              "  'Instituto Butantan',\n",
              "  'Itália',\n",
              "  'José Henrique Germann',\n",
              "  'Menezes',\n",
              "  'Milão',\n",
              "  'Ministério da Saúde',\n",
              "  'OMS',\n",
              "  'Organização Mundial de Saúde',\n",
              "  'Paulo Menezes',\n",
              "  'R$',\n",
              "  'Saúde',\n",
              "  'Secretaria Estadual de Saúde',\n",
              "  'Secretário de Estado da Saúde',\n",
              "  'São Paulo',\n",
              "  'Uip',\n",
              "  'estado de São Paulo'},\n",
              " 1: {'Adolfo Lutz',\n",
              "  'Alemanha',\n",
              "  'Brasil',\n",
              "  'COE',\n",
              "  'Campanha Nacional de Vacinação',\n",
              "  'Centro de Contingência',\n",
              "  'Centro de Contingência de São Paulo',\n",
              "  'Colômbia',\n",
              "  'David Uip',\n",
              "  'Einstein',\n",
              "  'Espanha',\n",
              "  'Europa',\n",
              "  'G1',\n",
              "  'Hospital Albert Einstein',\n",
              "  'Hospital Beneficência Portuguesa',\n",
              "  'Instituto Adolfo Lutz',\n",
              "  'Itália',\n",
              "  'João Doria',\n",
              "  'Menezes',\n",
              "  'Milão',\n",
              "  'Ministério da Saúde',\n",
              "  'OMS',\n",
              "  'Organização Mundial de Saúde',\n",
              "  'PSDB',\n",
              "  'Paulo Menezes',\n",
              "  'Portugal',\n",
              "  'R$',\n",
              "  'Saúde',\n",
              "  'Secretaria Estadual de Saúde',\n",
              "  'Secretaria de Saúde do Estado de São Paulo',\n",
              "  'São Paulo',\n",
              "  'Turim',\n",
              "  'Uip',\n",
              "  'Zona Sul de São Paulo',\n",
              "  'estado de São Paulo',\n",
              "  'Áustria'},\n",
              " 2: {'Arábia Saudita', 'China', 'Irã', 'Itália', 'Meca'},\n",
              " 3: {'Amarela',\n",
              "  'Amarelo',\n",
              "  'Bolsonaro',\n",
              "  'Colnago',\n",
              "  'Congresso',\n",
              "  'Congresso Nacional',\n",
              "  'DEM-AP',\n",
              "  'Davi Alcolumbre',\n",
              "  'Esteves Colnago',\n",
              "  'Fazenda do Ministério da Economia',\n",
              "  'Ladeira',\n",
              "  'Legislativo',\n",
              "  'MP Verde',\n",
              "  'Ministério da Economia',\n",
              "  'Orçamento 2020',\n",
              "  'Orçamento de 2020',\n",
              "  'Otavio Ladeira',\n",
              "  'Programa Verde',\n",
              "  'R$',\n",
              "  'Tesouro',\n",
              "  'Tesouro Nacional',\n",
              "  'Waldery Rodrigues'},\n",
              " 4: {'Bolsofeios',\n",
              "  'Bolsonaro',\n",
              "  'CPMI',\n",
              "  'Comissão Parlamentar Mista de Inquérito',\n",
              "  'Conselho de Ética da Câmara dos Deputados',\n",
              "  'Câmara',\n",
              "  'Câmara dos Deputados',\n",
              "  'Dudu Guimarães',\n",
              "  'Eduardo',\n",
              "  'Eduardo Bolsonaro',\n",
              "  'Eduardo Guimarães',\n",
              "  'Facebook',\n",
              "  'Fake News',\n",
              "  'G1',\n",
              "  'Guimarães',\n",
              "  'IP',\n",
              "  'Instagram',\n",
              "  'Jair Bolsonaro',\n",
              "  'Joice',\n",
              "  'Joice Hasselmann',\n",
              "  'Jornal Nacional',\n",
              "  'PDT-PE',\n",
              "  'PSL-SP',\n",
              "  'Túlio Gadelha',\n",
              "  'UOL'},\n",
              " 5: {'Alerj',\n",
              "  'Assembleia Legislativa do Rio',\n",
              "  'Flávio Bolsonaro',\n",
              "  'Ministério Público',\n",
              "  'R$',\n",
              "  'Rio',\n",
              "  'Tribunal de Justiça do Rio'},\n",
              " 6: {'Adolfo Sachsida',\n",
              "  'Banco Central',\n",
              "  'Bolsonaro',\n",
              "  'Brasil',\n",
              "  'Congresso',\n",
              "  'Contas Nacionais',\n",
              "  'FGTS',\n",
              "  'Focus',\n",
              "  'Fundo de Garantia do Tempo de Serviço',\n",
              "  'IBGE',\n",
              "  'Instituto Brasileiro de Geografia e Estatística',\n",
              "  'Ministério da Economia',\n",
              "  'O Produto Interno Bruto',\n",
              "  'Paulo Guedes',\n",
              "  'Política Econômica do Ministério da Economia',\n",
              "  'Previdência',\n",
              "  'R$',\n",
              "  'Rebeca',\n",
              "  'Rebeca Palis',\n",
              "  'ministro da Economia'},\n",
              " 7: {'Bota',\n",
              "  'Brasil',\n",
              "  'China',\n",
              "  'Congresso',\n",
              "  'FGTS',\n",
              "  'Fazenda do Ministério da Economia',\n",
              "  'Guedes',\n",
              "  'IBGE',\n",
              "  'Instituto Brasileiro de Geografia e Estatística',\n",
              "  'Jair Bolsonaro',\n",
              "  'PEC',\n",
              "  'PECs',\n",
              "  'Palácio do Planalto',\n",
              "  'Paulo Guedes',\n",
              "  'Produto Interno Bruto',\n",
              "  'Questionado',\n",
              "  'R$',\n",
              "  'Waldery Rodrigues'},\n",
              " 8: {'Alertas de Desastres Naturais',\n",
              "  'Anchieta',\n",
              "  'Baixada Santista',\n",
              "  'Brasil',\n",
              "  'Cemaden',\n",
              "  'Centro Comunitário do Caraminguava',\n",
              "  'Centro Nacional de Monitoramento',\n",
              "  'Corpo de Bombeiros',\n",
              "  'Cubatão',\n",
              "  'Cônego Domênico Rangoni',\n",
              "  'Defesa Civil do Estado',\n",
              "  'Defesa Civil do Estado de São Paulo',\n",
              "  'Espírito Santo',\n",
              "  'Estado de São Paulo',\n",
              "  'G1',\n",
              "  'Governo de São Paulo',\n",
              "  'Governo do Estado',\n",
              "  'Guarujá',\n",
              "  'Guarujá-Bertioga',\n",
              "  'Inmet',\n",
              "  'Instituto Nacional de Meteorologia',\n",
              "  'João Doria',\n",
              "  'Moradores',\n",
              "  'Oceano Atlântico',\n",
              "  'PSDB',\n",
              "  'Peruíbe',\n",
              "  'Rio de Janeiro',\n",
              "  'Rio-Santos',\n",
              "  'Santos',\n",
              "  'São Paulo',\n",
              "  'São Vicente',\n",
              "  'Veja',\n",
              "  'rodovia Guarujá-Bertioga',\n",
              "  'via Anchieta'},\n",
              " 9: {'Adolfo Lutz',\n",
              "  'Alemanha',\n",
              "  'Brasil',\n",
              "  'COE',\n",
              "  'Campanha Nacional de Vacinação',\n",
              "  'Centro de Contingência',\n",
              "  'Centro de Contingência de São Paulo',\n",
              "  'Colômbia',\n",
              "  'David Uip',\n",
              "  'Einstein',\n",
              "  'Espanha',\n",
              "  'Europa',\n",
              "  'G1',\n",
              "  'Hospital Albert Einstein',\n",
              "  'Hospital Beneficência Portuguesa',\n",
              "  'Instituto Adolfo Lutz',\n",
              "  'Itália',\n",
              "  'João Doria',\n",
              "  'Menezes',\n",
              "  'Milão',\n",
              "  'Ministério da Saúde',\n",
              "  'OMS',\n",
              "  'Organização Mundial de Saúde',\n",
              "  'PSDB',\n",
              "  'Paulo Menezes',\n",
              "  'Portugal',\n",
              "  'R$',\n",
              "  'Saúde',\n",
              "  'Secretaria Estadual de Saúde',\n",
              "  'Secretaria de Saúde do Estado de São Paulo',\n",
              "  'São Paulo',\n",
              "  'Turim',\n",
              "  'Uip',\n",
              "  'Zona Sul de São Paulo',\n",
              "  'estado de São Paulo',\n",
              "  'Áustria'}}"
            ]
          },
          "metadata": {
            "tags": []
          },
          "execution_count": 87
        }
      ]
    },
    {
      "cell_type": "markdown",
      "metadata": {
        "id": "nCwf0QiNE_bu"
      },
      "source": [
        "<b> Atividade </b>\n",
        "\n",
        "13) Quais são as 5 entidades que mais apareceram nas notíciais? Critique esse resultado, ele faz sentido?"
      ]
    },
    {
      "cell_type": "code",
      "metadata": {
        "id": "cpR3mDURE_bw"
      },
      "source": [
        "lista_entidades = []"
      ],
      "execution_count": null,
      "outputs": []
    },
    {
      "cell_type": "code",
      "metadata": {
        "id": "cv6dacfKKEOX"
      },
      "source": [
        "for i in entidades.keys():\n",
        "        lista_entidades.extend(entidades[i])"
      ],
      "execution_count": null,
      "outputs": []
    },
    {
      "cell_type": "code",
      "metadata": {
        "id": "dl5Yb5EsKF7k",
        "outputId": "c97313dc-b0a8-48f6-8c85-3f24dff65ac4",
        "colab": {
          "base_uri": "https://localhost:8080/",
          "height": 1000
        }
      },
      "source": [
        "Counter(lista_entidades)"
      ],
      "execution_count": null,
      "outputs": [
        {
          "output_type": "execute_result",
          "data": {
            "text/plain": [
              "Counter({'A Secretaria Estadual de Saúde de São Paulo': 1,\n",
              "         'Adolfo Lutz': 3,\n",
              "         'Adolfo Sachsida': 1,\n",
              "         'Alemanha': 2,\n",
              "         'Alerj': 1,\n",
              "         'Alertas de Desastres Naturais': 1,\n",
              "         'Amarela': 1,\n",
              "         'Amarelo': 1,\n",
              "         'Anchieta': 1,\n",
              "         'Arábia Saudita': 1,\n",
              "         'Assembleia Legislativa do Rio': 1,\n",
              "         'Baixada Santista': 1,\n",
              "         'Banco Central': 1,\n",
              "         'Bolsofeios': 1,\n",
              "         'Bolsonaro': 3,\n",
              "         'Bota': 1,\n",
              "         'Brasil': 5,\n",
              "         'COE': 3,\n",
              "         'CPMI': 1,\n",
              "         'CVE': 1,\n",
              "         'Campanha Nacional de Vacinação': 3,\n",
              "         'Cemaden': 1,\n",
              "         'Centro Comunitário do Caraminguava': 1,\n",
              "         'Centro Nacional de Monitoramento': 1,\n",
              "         'Centro de Contingenciamento de Emergências': 1,\n",
              "         'Centro de Contingência': 2,\n",
              "         'Centro de Contingência de São Paulo': 2,\n",
              "         'Centro de Vigilância Epidemiológica': 1,\n",
              "         'China': 2,\n",
              "         'Colnago': 1,\n",
              "         'Colômbia': 2,\n",
              "         'Comissão Parlamentar Mista de Inquérito': 1,\n",
              "         'Congresso': 3,\n",
              "         'Congresso Nacional': 1,\n",
              "         'Conselho de Ética da Câmara dos Deputados': 1,\n",
              "         'Contas Nacionais': 1,\n",
              "         'Corpo de Bombeiros': 1,\n",
              "         'Cubatão': 1,\n",
              "         'Câmara': 1,\n",
              "         'Câmara dos Deputados': 1,\n",
              "         'Cônego Domênico Rangoni': 1,\n",
              "         'DEM-AP': 1,\n",
              "         'Davi Alcolumbre': 1,\n",
              "         'David Uip': 3,\n",
              "         'Defesa Civil do Estado': 1,\n",
              "         'Defesa Civil do Estado de São Paulo': 1,\n",
              "         'Dudu Guimarães': 1,\n",
              "         'Eduardo': 1,\n",
              "         'Eduardo Bolsonaro': 1,\n",
              "         'Eduardo Guimarães': 1,\n",
              "         'Einstein': 2,\n",
              "         'Espanha': 2,\n",
              "         'Espírito Santo': 1,\n",
              "         'Estado de São Paulo': 1,\n",
              "         'Esteves Colnago': 1,\n",
              "         'Europa': 2,\n",
              "         'FGTS': 2,\n",
              "         'Facebook': 1,\n",
              "         'Fake News': 1,\n",
              "         'Fazenda do Ministério da Economia': 2,\n",
              "         'Flávio Bolsonaro': 1,\n",
              "         'Focus': 1,\n",
              "         'Fundo de Garantia do Tempo de Serviço': 1,\n",
              "         'G1': 4,\n",
              "         'Governo de São Paulo': 1,\n",
              "         'Governo do Estado': 1,\n",
              "         'Guarujá': 1,\n",
              "         'Guarujá-Bertioga': 1,\n",
              "         'Guedes': 1,\n",
              "         'Guimarães': 1,\n",
              "         'Helena Sato': 1,\n",
              "         'Hospital Albert Einstein': 2,\n",
              "         'Hospital Beneficência Portuguesa': 2,\n",
              "         'IBGE': 2,\n",
              "         'IP': 1,\n",
              "         'Inmet': 1,\n",
              "         'Instagram': 1,\n",
              "         'Instituto Adolfo Lutz': 2,\n",
              "         'Instituto Brasileiro de Geografia e Estatística': 2,\n",
              "         'Instituto Butantan': 1,\n",
              "         'Instituto Nacional de Meteorologia': 1,\n",
              "         'Irã': 1,\n",
              "         'Itália': 4,\n",
              "         'Jair Bolsonaro': 2,\n",
              "         'Joice': 1,\n",
              "         'Joice Hasselmann': 1,\n",
              "         'Jornal Nacional': 1,\n",
              "         'José Henrique Germann': 1,\n",
              "         'João Doria': 3,\n",
              "         'Ladeira': 1,\n",
              "         'Legislativo': 1,\n",
              "         'MP Verde': 1,\n",
              "         'Meca': 1,\n",
              "         'Menezes': 3,\n",
              "         'Milão': 3,\n",
              "         'Ministério Público': 1,\n",
              "         'Ministério da Economia': 2,\n",
              "         'Ministério da Saúde': 3,\n",
              "         'Moradores': 1,\n",
              "         'O Produto Interno Bruto': 1,\n",
              "         'OMS': 3,\n",
              "         'Oceano Atlântico': 1,\n",
              "         'Organização Mundial de Saúde': 3,\n",
              "         'Orçamento 2020': 1,\n",
              "         'Orçamento de 2020': 1,\n",
              "         'Otavio Ladeira': 1,\n",
              "         'PDT-PE': 1,\n",
              "         'PEC': 1,\n",
              "         'PECs': 1,\n",
              "         'PSDB': 3,\n",
              "         'PSL-SP': 1,\n",
              "         'Palácio do Planalto': 1,\n",
              "         'Paulo Guedes': 2,\n",
              "         'Paulo Menezes': 3,\n",
              "         'Peruíbe': 1,\n",
              "         'Política Econômica do Ministério da Economia': 1,\n",
              "         'Portugal': 2,\n",
              "         'Previdência': 1,\n",
              "         'Produto Interno Bruto': 1,\n",
              "         'Programa Verde': 1,\n",
              "         'Questionado': 1,\n",
              "         'R$': 7,\n",
              "         'Rebeca': 1,\n",
              "         'Rebeca Palis': 1,\n",
              "         'Rio': 1,\n",
              "         'Rio de Janeiro': 1,\n",
              "         'Rio-Santos': 1,\n",
              "         'Santos': 1,\n",
              "         'Saúde': 3,\n",
              "         'Secretaria Estadual de Saúde': 3,\n",
              "         'Secretaria de Saúde do Estado de São Paulo': 2,\n",
              "         'Secretário de Estado da Saúde': 1,\n",
              "         'São Paulo': 4,\n",
              "         'São Vicente': 1,\n",
              "         'Tesouro': 1,\n",
              "         'Tesouro Nacional': 1,\n",
              "         'Tribunal de Justiça do Rio': 1,\n",
              "         'Turim': 2,\n",
              "         'Túlio Gadelha': 1,\n",
              "         'UOL': 1,\n",
              "         'Uip': 3,\n",
              "         'Veja': 1,\n",
              "         'Waldery Rodrigues': 2,\n",
              "         'Zona Sul de São Paulo': 2,\n",
              "         'estado de São Paulo': 3,\n",
              "         'ministro da Economia': 1,\n",
              "         'rodovia Guarujá-Bertioga': 1,\n",
              "         'via Anchieta': 1,\n",
              "         'Áustria': 2})"
            ]
          },
          "metadata": {
            "tags": []
          },
          "execution_count": 90
        }
      ]
    },
    {
      "cell_type": "code",
      "metadata": {
        "id": "Ajuq3krEKF5G",
        "outputId": "370fa139-7c97-4337-9a68-c706170178b3",
        "colab": {
          "base_uri": "https://localhost:8080/",
          "height": 35
        }
      },
      "source": [
        "sorted(Counter(lista_entidades).items(), key=operator.itemgetter(1), reverse=True)[:5]"
      ],
      "execution_count": null,
      "outputs": [
        {
          "output_type": "execute_result",
          "data": {
            "text/plain": [
              "[('R$', 7), ('Brasil', 5), ('Itália', 4), ('São Paulo', 4), ('G1', 4)]"
            ]
          },
          "metadata": {
            "tags": []
          },
          "execution_count": 91
        }
      ]
    },
    {
      "cell_type": "markdown",
      "metadata": {
        "id": "yy894vjAKMw5"
      },
      "source": [
        "As 5 entidades mais recorrentes fazem sentido por causa das várias reportagens sobre o COVID. Nesta época, a situação do coronavirus na Itália estava alarmante, e a maioria das noticias são retiradas do G1 de São Paulo."
      ]
    },
    {
      "cell_type": "markdown",
      "metadata": {
        "id": "4BAsLzS0E_b2"
      },
      "source": [
        "<b> Atividade </b>\n",
        "\n",
        "14) Para a notítica 0, imprima quais foram os tipos das entidades encontradas e plote um gráfico com esses dados.\n",
        "Faça uma análise desse resultado\n",
        "\n",
        "<i> Dica: label_ retorna o nome da entidade </i>"
      ]
    },
    {
      "cell_type": "code",
      "metadata": {
        "id": "qGQ1Zx-DE_b3"
      },
      "source": [
        "tipos_ent = (Counter([entidade.label_ for entidade in nlp(texto_noticia[0]).ents]))"
      ],
      "execution_count": null,
      "outputs": []
    },
    {
      "cell_type": "code",
      "metadata": {
        "id": "VHHy5prYKQlL",
        "outputId": "8cbd08c7-98e2-4b2c-da33-86e3cbef77da",
        "colab": {
          "base_uri": "https://localhost:8080/",
          "height": 35
        }
      },
      "source": [
        "tipos_ent"
      ],
      "execution_count": null,
      "outputs": [
        {
          "output_type": "execute_result",
          "data": {
            "text/plain": [
              "Counter({'LOC': 10, 'MISC': 4, 'ORG': 8, 'PER': 13})"
            ]
          },
          "metadata": {
            "tags": []
          },
          "execution_count": 93
        }
      ]
    },
    {
      "cell_type": "code",
      "metadata": {
        "id": "GZJHUwQuKQiJ",
        "outputId": "f918dcbe-e918-46a3-96dc-aab3ffff1c3b",
        "colab": {
          "base_uri": "https://localhost:8080/",
          "height": 283
        }
      },
      "source": [
        "plt.bar(dict(tipos_ent).keys(), dict(tipos_ent).values())"
      ],
      "execution_count": null,
      "outputs": [
        {
          "output_type": "execute_result",
          "data": {
            "text/plain": [
              "<BarContainer object of 4 artists>"
            ]
          },
          "metadata": {
            "tags": []
          },
          "execution_count": 94
        },
        {
          "output_type": "display_data",
          "data": {
            "image/png": "[encoded data removed]",
            "text/plain": [
              "<Figure size 432x288 with 1 Axes>"
            ]
          },
          "metadata": {
            "tags": [],
            "needs_background": "light"
          }
        }
      ]
    },
    {
      "cell_type": "markdown",
      "metadata": {
        "id": "Re8jI68GT4dO"
      },
      "source": [
        "As matérias que buscamos são relacionadas ao COVID-19, identifiquemos portanto, mais entidades relacionadas a pessoas que foram vítimas desta epidemia, pessoas que estão na linha de frente ou mesmo as pessoas relacionadas a governos, orgãos internacionais e etc.. \n",
        "\n",
        "Podemos identificar um grande número de localidades, por se tratar de uma pandemia, mostrando as situações de cidades e países. \n",
        "\n",
        "Por fim, demonstra também um grande número de organizações destacadas, locais de estudos estatísticos e probabilísticos, hospitais ou pontos de apoio de médicos e enfermeiros e organizações em busca de uma vacina para conter o poder deste virus que tem muita resiliencia. "
      ]
    },
    {
      "cell_type": "code",
      "metadata": {
        "id": "gdNoHXkjKQgE"
      },
      "source": [
        ""
      ],
      "execution_count": null,
      "outputs": []
    },
    {
      "cell_type": "markdown",
      "metadata": {
        "id": "R-BVhj_3E_b8"
      },
      "source": [
        "<b> Atividade </b>\n",
        "\n",
        "15) Plote um gráfico com esses dados com todos os tipos das entidades de todas as notícias. Compare este resultado com o resultado da notícia 0."
      ]
    },
    {
      "cell_type": "code",
      "metadata": {
        "id": "hI9qnPOOE_b8"
      },
      "source": [
        "tipos_ent = (Counter([entidade.label_ for entidade in nlp(texto_noticia[i]).ents]))"
      ],
      "execution_count": null,
      "outputs": []
    },
    {
      "cell_type": "code",
      "metadata": {
        "id": "gz8Q3J4pU9Rh",
        "outputId": "53434172-1559-4208-8961-0bc4a09c5e9a",
        "colab": {
          "base_uri": "https://localhost:8080/",
          "height": 35
        }
      },
      "source": [
        "todas_ent"
      ],
      "execution_count": null,
      "outputs": [
        {
          "output_type": "execute_result",
          "data": {
            "text/plain": [
              "Counter()"
            ]
          },
          "metadata": {
            "tags": []
          },
          "execution_count": 129
        }
      ]
    },
    {
      "cell_type": "code",
      "metadata": {
        "id": "epwi9-9uE_cC",
        "outputId": "8aa989d2-6baa-488c-8337-b35d6ec9528d",
        "colab": {
          "base_uri": "https://localhost:8080/",
          "height": 283
        }
      },
      "source": [
        "plt.bar(dict(tipos_ent).keys(), dict(tipos_ent).values())"
      ],
      "execution_count": null,
      "outputs": [
        {
          "output_type": "execute_result",
          "data": {
            "text/plain": [
              "<BarContainer object of 4 artists>"
            ]
          },
          "metadata": {
            "tags": []
          },
          "execution_count": 131
        },
        {
          "output_type": "display_data",
          "data": {
            "image/png": "[encoded data removed]",
            "text/plain": [
              "<Figure size 432x288 with 1 Axes>"
            ]
          },
          "metadata": {
            "tags": [],
            "needs_background": "light"
          }
        }
      ]
    },
    {
      "cell_type": "markdown",
      "metadata": {
        "id": "sihfLkJWfUxY"
      },
      "source": [
        "Verificando as noticias, indetificamos uma incidência muito superior na localidade, uma vez que as informações retornadas podem ou não estar relacionadas apenas a um contexto especificado."
      ]
    },
    {
      "cell_type": "markdown",
      "metadata": {
        "id": "xmReLMKJE_cF"
      },
      "source": [
        "<b> Atividade </b>\n",
        "\n",
        "16) Imprima a notícia 0, colorindo as entidades encontradas, para isto utilize o método abaixo:\n",
        "\n",
        "```python\n",
        "displacy.render(doc, jupyter=True, style='ent')\n",
        "```\n",
        "\n",
        "<i> Dica: entidades que existem no spacy https://spacy.io/api/annotation#section-named-entities \n",
        "\n",
        "Caso tenha dúvida sobre alguma marcalçao use:</i>\n",
        "\n",
        "```python\n",
        "spacy.explain(\"MISC\")\n",
        "```"
      ]
    },
    {
      "cell_type": "code",
      "metadata": {
        "id": "9CgPMNVWE_cG",
        "outputId": "dde08b81-3544-4785-c01e-b60a2b3d33ed",
        "colab": {
          "base_uri": "https://localhost:8080/",
          "height": 997
        }
      },
      "source": [
        "displacy.render(nlp(texto_noticia[0]), jupyter=True, style='ent')"
      ],
      "execution_count": null,
      "outputs": [
        {
          "output_type": "display_data",
          "data": {
            "text/html": [
              "<span class=\"tex2jax_ignore\"><div class=\"entities\" style=\"line-height: 2.5; direction: ltr\"> \n",
              "<mark class=\"entity\" style=\"background: #ddd; padding: 0.45em 0.6em; margin: 0 0.25em; line-height: 1; border-radius: 0.35em;\">\n",
              "    A Secretaria Estadual de Saúde de São Paulo\n",
              "    <span style=\"font-size: 0.8em; font-weight: bold; line-height: 1; border-radius: 0.35em; text-transform: uppercase; vertical-align: middle; margin-left: 0.5rem\">MISC</span>\n",
              "</mark>\n",
              " divulgou nesta terça-feira (3) que caiu o número de pacientes com suspeita de coronavírus no estado. Enquanto na segunda-feira (2) eram 163 casos suspeitos, nesta terça são 130.  Foram descartados, ao todo, 104 casos no estado, destes, 56 foram nas últimas 24 horas. Entretanto, segundo informou a pasta, entre segunda (2) e terça (3), 23 novos surgiram.  Permanecem confirmados apenas 2 casos da doença no país, ambos no \n",
              "<mark class=\"entity\" style=\"background: #ff9561; padding: 0.45em 0.6em; margin: 0 0.25em; line-height: 1; border-radius: 0.35em;\">\n",
              "    estado de São Paulo\n",
              "    <span style=\"font-size: 0.8em; font-weight: bold; line-height: 1; border-radius: 0.35em; text-transform: uppercase; vertical-align: middle; margin-left: 0.5rem\">LOC</span>\n",
              "</mark>\n",
              ". Os pacientes estão em quarentena domiciliar. Ambos estiveram em viagem na \n",
              "<mark class=\"entity\" style=\"background: #ff9561; padding: 0.45em 0.6em; margin: 0 0.25em; line-height: 1; border-radius: 0.35em;\">\n",
              "    Itália\n",
              "    <span style=\"font-size: 0.8em; font-weight: bold; line-height: 1; border-radius: 0.35em; text-transform: uppercase; vertical-align: middle; margin-left: 0.5rem\">LOC</span>\n",
              "</mark>\n",
              ".  &quot;Os dois confirmados estão evoluindo bem clinicamente, mas ainda têm alguns sintomas que fazem com que eles continuem em isolamento domiciliar&quot;, salientou \n",
              "<mark class=\"entity\" style=\"background: #ddd; padding: 0.45em 0.6em; margin: 0 0.25em; line-height: 1; border-radius: 0.35em;\">\n",
              "    Paulo Menezes\n",
              "    <span style=\"font-size: 0.8em; font-weight: bold; line-height: 1; border-radius: 0.35em; text-transform: uppercase; vertical-align: middle; margin-left: 0.5rem\">PER</span>\n",
              "</mark>\n",
              ", coordenador do comitê de operações emergenciais (\n",
              "<mark class=\"entity\" style=\"background: #7aecec; padding: 0.45em 0.6em; margin: 0 0.25em; line-height: 1; border-radius: 0.35em;\">\n",
              "    COE\n",
              "    <span style=\"font-size: 0.8em; font-weight: bold; line-height: 1; border-radius: 0.35em; text-transform: uppercase; vertical-align: middle; margin-left: 0.5rem\">ORG</span>\n",
              "</mark>\n",
              ") da \n",
              "<mark class=\"entity\" style=\"background: #7aecec; padding: 0.45em 0.6em; margin: 0 0.25em; line-height: 1; border-radius: 0.35em;\">\n",
              "    Secretaria Estadual de Saúde\n",
              "    <span style=\"font-size: 0.8em; font-weight: bold; line-height: 1; border-radius: 0.35em; text-transform: uppercase; vertical-align: middle; margin-left: 0.5rem\">ORG</span>\n",
              "</mark>\n",
              ".  O número de pessoas que tiveram contato com o segundo caso confirmado não foi divulgado pela secretaria. No primeiro caso confirmado, eram 34 pessoas, entre passageiros do voo e familiares do paciente.  “Existem contactantes [do segundo caso], eles estão sendo monitorados, mas a gente não está divulgando mais números de contactantes por conta da privacidade das pessoas”, disse \n",
              "<mark class=\"entity\" style=\"background: #ddd; padding: 0.45em 0.6em; margin: 0 0.25em; line-height: 1; border-radius: 0.35em;\">\n",
              "    Paulo Menezes\n",
              "    <span style=\"font-size: 0.8em; font-weight: bold; line-height: 1; border-radius: 0.35em; text-transform: uppercase; vertical-align: middle; margin-left: 0.5rem\">PER</span>\n",
              "</mark>\n",
              ", coordenador do comitê de operações emergenciais (\n",
              "<mark class=\"entity\" style=\"background: #7aecec; padding: 0.45em 0.6em; margin: 0 0.25em; line-height: 1; border-radius: 0.35em;\">\n",
              "    COE\n",
              "    <span style=\"font-size: 0.8em; font-weight: bold; line-height: 1; border-radius: 0.35em; text-transform: uppercase; vertical-align: middle; margin-left: 0.5rem\">ORG</span>\n",
              "</mark>\n",
              ") do estado.  O secretário estadual de saúde destaca ainda que o segundo paciente confirmado foi cauteloso assim que percebeu os primeiros sintomas. “Ele foi muito cuidadoso colocou máscara antes do voo e foi pro hospital”, disse o secretário \n",
              "<mark class=\"entity\" style=\"background: #ddd; padding: 0.45em 0.6em; margin: 0 0.25em; line-height: 1; border-radius: 0.35em;\">\n",
              "    José Henrique Germann\n",
              "    <span style=\"font-size: 0.8em; font-weight: bold; line-height: 1; border-radius: 0.35em; text-transform: uppercase; vertical-align: middle; margin-left: 0.5rem\">PER</span>\n",
              "</mark>\n",
              ".  Participaram do evento também o coordenador do \n",
              "<mark class=\"entity\" style=\"background: #ff9561; padding: 0.45em 0.6em; margin: 0 0.25em; line-height: 1; border-radius: 0.35em;\">\n",
              "    Centro de Contingenciamento de Emergências\n",
              "    <span style=\"font-size: 0.8em; font-weight: bold; line-height: 1; border-radius: 0.35em; text-transform: uppercase; vertical-align: middle; margin-left: 0.5rem\">LOC</span>\n",
              "</mark>\n",
              " para o coronavírus do estado, o médico \n",
              "<mark class=\"entity\" style=\"background: #ddd; padding: 0.45em 0.6em; margin: 0 0.25em; line-height: 1; border-radius: 0.35em;\">\n",
              "    David Uip\n",
              "    <span style=\"font-size: 0.8em; font-weight: bold; line-height: 1; border-radius: 0.35em; text-transform: uppercase; vertical-align: middle; margin-left: 0.5rem\">PER</span>\n",
              "</mark>\n",
              ", o secretário estadual de saúde, \n",
              "<mark class=\"entity\" style=\"background: #ddd; padding: 0.45em 0.6em; margin: 0 0.25em; line-height: 1; border-radius: 0.35em;\">\n",
              "    José Henrique Germann\n",
              "    <span style=\"font-size: 0.8em; font-weight: bold; line-height: 1; border-radius: 0.35em; text-transform: uppercase; vertical-align: middle; margin-left: 0.5rem\">PER</span>\n",
              "</mark>\n",
              ", e \n",
              "<mark class=\"entity\" style=\"background: #ddd; padding: 0.45em 0.6em; margin: 0 0.25em; line-height: 1; border-radius: 0.35em;\">\n",
              "    Helena Sato\n",
              "    <span style=\"font-size: 0.8em; font-weight: bold; line-height: 1; border-radius: 0.35em; text-transform: uppercase; vertical-align: middle; margin-left: 0.5rem\">PER</span>\n",
              "</mark>\n",
              ", coordenadora do \n",
              "<mark class=\"entity\" style=\"background: #7aecec; padding: 0.45em 0.6em; margin: 0 0.25em; line-height: 1; border-radius: 0.35em;\">\n",
              "    Centro de Vigilância Epidemiológica\n",
              "    <span style=\"font-size: 0.8em; font-weight: bold; line-height: 1; border-radius: 0.35em; text-transform: uppercase; vertical-align: middle; margin-left: 0.5rem\">ORG</span>\n",
              "</mark>\n",
              " (\n",
              "<mark class=\"entity\" style=\"background: #ddd; padding: 0.45em 0.6em; margin: 0 0.25em; line-height: 1; border-radius: 0.35em;\">\n",
              "    CVE\n",
              "    <span style=\"font-size: 0.8em; font-weight: bold; line-height: 1; border-radius: 0.35em; text-transform: uppercase; vertical-align: middle; margin-left: 0.5rem\">MISC</span>\n",
              "</mark>\n",
              ") estadual.  Segundo \n",
              "<mark class=\"entity\" style=\"background: #ddd; padding: 0.45em 0.6em; margin: 0 0.25em; line-height: 1; border-radius: 0.35em;\">\n",
              "    Uip\n",
              "    <span style=\"font-size: 0.8em; font-weight: bold; line-height: 1; border-radius: 0.35em; text-transform: uppercase; vertical-align: middle; margin-left: 0.5rem\">PER</span>\n",
              "</mark>\n",
              ", o laboratório \n",
              "<mark class=\"entity\" style=\"background: #ddd; padding: 0.45em 0.6em; margin: 0 0.25em; line-height: 1; border-radius: 0.35em;\">\n",
              "    Adolfo Lutz\n",
              "    <span style=\"font-size: 0.8em; font-weight: bold; line-height: 1; border-radius: 0.35em; text-transform: uppercase; vertical-align: middle; margin-left: 0.5rem\">PER</span>\n",
              "</mark>\n",
              ", onde os testes são realizados, irá &quot;qualificar outros laboratórios&quot; para realizar o exame.  &quot;De ontem pra hoje, nós descartamos 56 daqueles 163. Já tiveram seus exames negativos. E tivemos a inclusão de notificações de 23 novas pessoas. Então somamos 130 casos suspeitos. São todos viajantes. Os casos suspeitos que tínhamos de contactantes dos casos confirmados já foram descartados&quot;, disse \n",
              "<mark class=\"entity\" style=\"background: #ddd; padding: 0.45em 0.6em; margin: 0 0.25em; line-height: 1; border-radius: 0.35em;\">\n",
              "    Menezes\n",
              "    <span style=\"font-size: 0.8em; font-weight: bold; line-height: 1; border-radius: 0.35em; text-transform: uppercase; vertical-align: middle; margin-left: 0.5rem\">PER</span>\n",
              "</mark>\n",
              ".  Segundo a metodologia da \n",
              "<mark class=\"entity\" style=\"background: #ddd; padding: 0.45em 0.6em; margin: 0 0.25em; line-height: 1; border-radius: 0.35em;\">\n",
              "    Secretaria Estadual de Saúde\n",
              "    <span style=\"font-size: 0.8em; font-weight: bold; line-height: 1; border-radius: 0.35em; text-transform: uppercase; vertical-align: middle; margin-left: 0.5rem\">MISC</span>\n",
              "</mark>\n",
              ", para um caso ser considerado suspeito é necessário que o paciente tenha apresentado, além dos sintomas, histórico de viagem ou contato com caso suspeito.  No sábado (29), a \n",
              "<mark class=\"entity\" style=\"background: #ddd; padding: 0.45em 0.6em; margin: 0 0.25em; line-height: 1; border-radius: 0.35em;\">\n",
              "    Secretaria Estadual de Saúde\n",
              "    <span style=\"font-size: 0.8em; font-weight: bold; line-height: 1; border-radius: 0.35em; text-transform: uppercase; vertical-align: middle; margin-left: 0.5rem\">MISC</span>\n",
              "</mark>\n",
              " e o \n",
              "<mark class=\"entity\" style=\"background: #ff9561; padding: 0.45em 0.6em; margin: 0 0.25em; line-height: 1; border-radius: 0.35em;\">\n",
              "    Ministério da Saúde\n",
              "    <span style=\"font-size: 0.8em; font-weight: bold; line-height: 1; border-radius: 0.35em; text-transform: uppercase; vertical-align: middle; margin-left: 0.5rem\">LOC</span>\n",
              "</mark>\n",
              " confirmaram o segundo caso de coronavírus no estado. Trata-se de um homem de 32 anos que reside em \n",
              "<mark class=\"entity\" style=\"background: #ff9561; padding: 0.45em 0.6em; margin: 0 0.25em; line-height: 1; border-radius: 0.35em;\">\n",
              "    São Paulo\n",
              "    <span style=\"font-size: 0.8em; font-weight: bold; line-height: 1; border-radius: 0.35em; text-transform: uppercase; vertical-align: middle; margin-left: 0.5rem\">LOC</span>\n",
              "</mark>\n",
              " e que chegou de \n",
              "<mark class=\"entity\" style=\"background: #ff9561; padding: 0.45em 0.6em; margin: 0 0.25em; line-height: 1; border-radius: 0.35em;\">\n",
              "    Milão\n",
              "    <span style=\"font-size: 0.8em; font-weight: bold; line-height: 1; border-radius: 0.35em; text-transform: uppercase; vertical-align: middle; margin-left: 0.5rem\">LOC</span>\n",
              "</mark>\n",
              ", na \n",
              "<mark class=\"entity\" style=\"background: #ff9561; padding: 0.45em 0.6em; margin: 0 0.25em; line-height: 1; border-radius: 0.35em;\">\n",
              "    Itália\n",
              "    <span style=\"font-size: 0.8em; font-weight: bold; line-height: 1; border-radius: 0.35em; text-transform: uppercase; vertical-align: middle; margin-left: 0.5rem\">LOC</span>\n",
              "</mark>\n",
              ", na quinta-feira (27).  Mesmo com a segunda confirmação, não há mudança da situação nacional, pois não existem evidências de circulação sustentada do vírus em território brasileiro.  A tendência é que, a partir dos próximos dias, o padrão de identificação dos casos suspeitos mude. Segundo \n",
              "<mark class=\"entity\" style=\"background: #ddd; padding: 0.45em 0.6em; margin: 0 0.25em; line-height: 1; border-radius: 0.35em;\">\n",
              "    Menezes\n",
              "    <span style=\"font-size: 0.8em; font-weight: bold; line-height: 1; border-radius: 0.35em; text-transform: uppercase; vertical-align: middle; margin-left: 0.5rem\">PER</span>\n",
              "</mark>\n",
              ", &quot;daqui a alguns dias nós vamos trabalhar por gravidade e não por procedência pra fazer a identificação dos casos suspeitos&quot;.  &quot;Eu concordo com o ministério da \n",
              "<mark class=\"entity\" style=\"background: #ff9561; padding: 0.45em 0.6em; margin: 0 0.25em; line-height: 1; border-radius: 0.35em;\">\n",
              "    Saúde\n",
              "    <span style=\"font-size: 0.8em; font-weight: bold; line-height: 1; border-radius: 0.35em; text-transform: uppercase; vertical-align: middle; margin-left: 0.5rem\">LOC</span>\n",
              "</mark>\n",
              ": eu acho que estamos em um momento de pandemia há dias. Meu sentimento pessoal é de que estamos em um momento pandêmico&quot;, salientou \n",
              "<mark class=\"entity\" style=\"background: #ff9561; padding: 0.45em 0.6em; margin: 0 0.25em; line-height: 1; border-radius: 0.35em;\">\n",
              "    Uip\n",
              "    <span style=\"font-size: 0.8em; font-weight: bold; line-height: 1; border-radius: 0.35em; text-transform: uppercase; vertical-align: middle; margin-left: 0.5rem\">LOC</span>\n",
              "</mark>\n",
              ".  A \n",
              "<mark class=\"entity\" style=\"background: #7aecec; padding: 0.45em 0.6em; margin: 0 0.25em; line-height: 1; border-radius: 0.35em;\">\n",
              "    Organização Mundial de Saúde\n",
              "    <span style=\"font-size: 0.8em; font-weight: bold; line-height: 1; border-radius: 0.35em; text-transform: uppercase; vertical-align: middle; margin-left: 0.5rem\">ORG</span>\n",
              "</mark>\n",
              " (\n",
              "<mark class=\"entity\" style=\"background: #7aecec; padding: 0.45em 0.6em; margin: 0 0.25em; line-height: 1; border-radius: 0.35em;\">\n",
              "    OMS\n",
              "    <span style=\"font-size: 0.8em; font-weight: bold; line-height: 1; border-radius: 0.35em; text-transform: uppercase; vertical-align: middle; margin-left: 0.5rem\">ORG</span>\n",
              "</mark>\n",
              ") é que define os critérios e se a doença é caracterizada ou não como pandemia.  O governo estadual lançou uma cartilha de orientação e prevenção do coronavírus em cinco idiomas - português, inglês, espanhol, italiano e chinês - na versão impressa e eletrônica. O estado irá liberar \n",
              "<mark class=\"entity\" style=\"background: #ddd; padding: 0.45em 0.6em; margin: 0 0.25em; line-height: 1; border-radius: 0.35em;\">\n",
              "    R$\n",
              "    <span style=\"font-size: 0.8em; font-weight: bold; line-height: 1; border-radius: 0.35em; text-transform: uppercase; vertical-align: middle; margin-left: 0.5rem\">PER</span>\n",
              "</mark>\n",
              " 30 milhões em recursos para as ações de prevenção e informação.  Após a confirmação de um caso, o governo estadual anunciou a criação de um centro de contingência para monitorar casos de coronavírus no estado. A função do centro de contingência é coordenar ações contra a propagação do Covid-19. O grupo é presidido pelo infectologista \n",
              "<mark class=\"entity\" style=\"background: #ddd; padding: 0.45em 0.6em; margin: 0 0.25em; line-height: 1; border-radius: 0.35em;\">\n",
              "    David Uip\n",
              "    <span style=\"font-size: 0.8em; font-weight: bold; line-height: 1; border-radius: 0.35em; text-transform: uppercase; vertical-align: middle; margin-left: 0.5rem\">PER</span>\n",
              "</mark>\n",
              " e conta com profissionais do \n",
              "<mark class=\"entity\" style=\"background: #ff9561; padding: 0.45em 0.6em; margin: 0 0.25em; line-height: 1; border-radius: 0.35em;\">\n",
              "    Instituto Butantan\n",
              "    <span style=\"font-size: 0.8em; font-weight: bold; line-height: 1; border-radius: 0.35em; text-transform: uppercase; vertical-align: middle; margin-left: 0.5rem\">LOC</span>\n",
              "</mark>\n",
              " e médicos das redes pública e privada, sob a supervisão do \n",
              "<mark class=\"entity\" style=\"background: #7aecec; padding: 0.45em 0.6em; margin: 0 0.25em; line-height: 1; border-radius: 0.35em;\">\n",
              "    Secretário de Estado da Saúde\n",
              "    <span style=\"font-size: 0.8em; font-weight: bold; line-height: 1; border-radius: 0.35em; text-transform: uppercase; vertical-align: middle; margin-left: 0.5rem\">ORG</span>\n",
              "</mark>\n",
              ", \n",
              "<mark class=\"entity\" style=\"background: #ddd; padding: 0.45em 0.6em; margin: 0 0.25em; line-height: 1; border-radius: 0.35em;\">\n",
              "    José Henrique Germann\n",
              "    <span style=\"font-size: 0.8em; font-weight: bold; line-height: 1; border-radius: 0.35em; text-transform: uppercase; vertical-align: middle; margin-left: 0.5rem\">PER</span>\n",
              "</mark>\n",
              ".  Nesta quinta-feira (27), o governo federal anunciou que vai antecipar para 23 de março a \n",
              "<mark class=\"entity\" style=\"background: #7aecec; padding: 0.45em 0.6em; margin: 0 0.25em; line-height: 1; border-radius: 0.35em;\">\n",
              "    Campanha Nacional de Vacinação\n",
              "    <span style=\"font-size: 0.8em; font-weight: bold; line-height: 1; border-radius: 0.35em; text-transform: uppercase; vertical-align: middle; margin-left: 0.5rem\">ORG</span>\n",
              "</mark>\n",
              " contra a gripe – anteriormente, a abertura estava prevista para a segunda quinzena de abril.  A vacina contra a gripe não protege contra o novo coronavírus, mas, sim, contra tipos de influenza (família à qual pertence o H1N1, por exemplo). E justamente por isso pode ajudar profissionais de saúde a diagnosticar – por eliminação – eventuais casos de Covid-19.  Quem for viajar aos locais com circulação do vírus deve evitar contato com pessoas doentes, animais (vivos ou mortos), e a circulação em mercados de animais e seus produtos. </div></span>"
            ],
            "text/plain": [
              "<IPython.core.display.HTML object>"
            ]
          },
          "metadata": {
            "tags": []
          }
        }
      ]
    },
    {
      "cell_type": "code",
      "metadata": {
        "id": "tz8dJ8EBE_cJ"
      },
      "source": [
        ""
      ],
      "execution_count": null,
      "outputs": []
    },
    {
      "cell_type": "markdown",
      "metadata": {
        "id": "TWevegwzE_cL"
      },
      "source": [
        "<b> Atividade </b>\n",
        "\n",
        "17) Seja o documento 0 sua referência. Calcule a similaridade das entidades do documento 0 com todos outros 9. Para calcular a similaridade utilize o método jacard (implementado na aula 3). "
      ]
    },
    {
      "cell_type": "code",
      "metadata": {
        "id": "ZdcJPSpLE_cM"
      },
      "source": [
        "def jaccard_similarity(list1, list2):\n",
        "    s1 = set(list1)\n",
        "    s2 = set(list2)\n",
        "    return len(s1.intersection(s2)) /len(s1.union(s2))"
      ],
      "execution_count": null,
      "outputs": []
    },
    {
      "cell_type": "code",
      "metadata": {
        "id": "uj3sDljME_cR",
        "outputId": "5fcb519c-2f6f-462b-faac-02101370e6c4",
        "colab": {
          "base_uri": "https://localhost:8080/",
          "height": 201
        }
      },
      "source": [
        "for i in range(len(entidades)):\n",
        "    print(i,':' , jaccard_similarity(entidades[0],entidades[i]))"
      ],
      "execution_count": null,
      "outputs": [
        {
          "output_type": "stream",
          "text": [
            "0 : 1.0\n",
            "1 : 0.38636363636363635\n",
            "2 : 0.034482758620689655\n",
            "3 : 0.021739130434782608\n",
            "4 : 0.0\n",
            "5 : 0.03225806451612903\n",
            "6 : 0.022727272727272728\n",
            "7 : 0.023809523809523808\n",
            "8 : 0.017241379310344827\n",
            "9 : 0.38636363636363635\n"
          ],
          "name": "stdout"
        }
      ]
    },
    {
      "cell_type": "markdown",
      "metadata": {
        "id": "k_ETxdiVE_cU"
      },
      "source": [
        "<b> Atividade </b>\n",
        "\n",
        "18) Com os cálculos da questão anterior, responda: quais foram os três documentos com maior similaridade? Eles posssuem conteúdos semelhantes? E qual o documento com menor similaridade? Este documento faz sentido?"
      ]
    },
    {
      "cell_type": "markdown",
      "metadata": {
        "id": "iI2dBUA2KdUN"
      },
      "source": [
        "Os documentos com maior similaridade foram o 1 e 9. \n",
        "\n",
        "Os documentos 1 e 9 são iguais, por isso tem o mesmo valor. \n",
        "\n",
        "Todos estes 3 documentos fazem referencia a um mesmo assunto. Os demais documentos não apresentaram nenhuma similaridade, tratam de assuntos diferentes do documento 0."
      ]
    },
    {
      "cell_type": "code",
      "metadata": {
        "id": "7p6e8A2SE_cV"
      },
      "source": [
        ""
      ],
      "execution_count": null,
      "outputs": []
    },
    {
      "cell_type": "code",
      "metadata": {
        "id": "RnH5mhhXE_ce"
      },
      "source": [
        ""
      ],
      "execution_count": null,
      "outputs": []
    },
    {
      "cell_type": "markdown",
      "metadata": {
        "id": "At6CyFbSE_ch"
      },
      "source": [
        "## Retreino NER\n",
        "\n",
        "Aqui nós iremos ilustrar como treinar um modelo NER no spacy"
      ]
    },
    {
      "cell_type": "code",
      "metadata": {
        "id": "1S_Rcwp1XjDs"
      },
      "source": [
        "nlp = pt_core_news_sm.load()"
      ],
      "execution_count": null,
      "outputs": []
    },
    {
      "cell_type": "code",
      "metadata": {
        "id": "FFl2EfdmE_ch"
      },
      "source": [
        "# Da ruim no Colab - nlp = spacy.load(\"pt_core_news_sm\")"
      ],
      "execution_count": null,
      "outputs": []
    },
    {
      "cell_type": "code",
      "metadata": {
        "id": "rKWG44ZHE_cl"
      },
      "source": [
        "texto = \"João nasceu em Paris em 01/01/2000\""
      ],
      "execution_count": null,
      "outputs": []
    },
    {
      "cell_type": "code",
      "metadata": {
        "id": "fyqBbBK2E_cn"
      },
      "source": [
        "texto_nlp = nlp(texto)"
      ],
      "execution_count": null,
      "outputs": []
    },
    {
      "cell_type": "code",
      "metadata": {
        "id": "J86O5tC2E_cq",
        "outputId": "8f9960a9-4aed-436a-ea8e-c1434f343248",
        "colab": {
          "base_uri": "https://localhost:8080/",
          "height": 52
        }
      },
      "source": [
        "displacy.render(texto_nlp, style='ent',jupyter=True)"
      ],
      "execution_count": null,
      "outputs": [
        {
          "output_type": "display_data",
          "data": {
            "text/html": [
              "<span class=\"tex2jax_ignore\"><div class=\"entities\" style=\"line-height: 2.5; direction: ltr\">\n",
              "<mark class=\"entity\" style=\"background: #ddd; padding: 0.45em 0.6em; margin: 0 0.25em; line-height: 1; border-radius: 0.35em;\">\n",
              "    João\n",
              "    <span style=\"font-size: 0.8em; font-weight: bold; line-height: 1; border-radius: 0.35em; text-transform: uppercase; vertical-align: middle; margin-left: 0.5rem\">PER</span>\n",
              "</mark>\n",
              " nasceu em \n",
              "<mark class=\"entity\" style=\"background: #ff9561; padding: 0.45em 0.6em; margin: 0 0.25em; line-height: 1; border-radius: 0.35em;\">\n",
              "    Paris\n",
              "    <span style=\"font-size: 0.8em; font-weight: bold; line-height: 1; border-radius: 0.35em; text-transform: uppercase; vertical-align: middle; margin-left: 0.5rem\">LOC</span>\n",
              "</mark>\n",
              " em 01/01/2000</div></span>"
            ],
            "text/plain": [
              "<IPython.core.display.HTML object>"
            ]
          },
          "metadata": {
            "tags": []
          }
        }
      ]
    },
    {
      "cell_type": "markdown",
      "metadata": {
        "id": "v73Glcd-E_ct"
      },
      "source": [
        "Observe que o modelo identifica <b> João </b> como pessoa e <b> Paris </b> como localidade.\n",
        "\n",
        "Apesar do modelo ter identificado essas duas entidades ele naõ identificou a <b> data </b>.\n",
        "\n",
        "Assim, aqui iremos mostrar como retreinar o modelo para capturar também a data.\n"
      ]
    },
    {
      "cell_type": "code",
      "metadata": {
        "id": "P7PcfwCvE_cv"
      },
      "source": [
        "#dados de treino. Note que para cada frase, a posição de uma determinada entidade.\n",
        "train_data = [\n",
        "(\"Em 04/12/1992 nasceu Joana\", {'entities':[(3, 13, \"DATE\"), (21,26, \"PER\")]}),\n",
        "(\"Data de início: 10/01/2018\", {'entities':[(16, 26, \"DATE\")]}),\n",
        "(\"Maria se mudou para Paris\", {'entities':[(20,26, \"LOC\")]}),\n",
        "(\"Paris cidade das luzes\", {'entities':[(0,5, \"LOC\")]}),    \n",
        "(\"Maria nasceu em Contagem no dia 07/05/2018\", {'entities':[(0,5,\"PER\"),(16,24,\"LOC\"),(32,42, \"DATE\")]})\n",
        "]"
      ],
      "execution_count": null,
      "outputs": []
    },
    {
      "cell_type": "markdown",
      "metadata": {
        "id": "oCF4zOHYE_cy"
      },
      "source": [
        "### Retreino\n",
        "\n",
        "- explosion/spaCy/master/examples/training/train_ner.py -> O spcay disponibiliza esse código para treinamentos.\n",
        "- Mais informações? https://spacy.io/usage/training"
      ]
    },
    {
      "cell_type": "code",
      "metadata": {
        "id": "49SQ4pMGE_cz"
      },
      "source": [
        "def train_spacy(data, iterations):\n",
        "    TRAIN_DATA = data\n",
        "    nlp = spacy.blank('pt')  # create blank Language class\n",
        "    # create the built-in pipeline components and add them to the pipeline\n",
        "    # nlp.create_pipe works for built-ins that are registered with spaCy\n",
        "    if 'ner' not in nlp.pipe_names:\n",
        "        ner = nlp.create_pipe('ner')\n",
        "        nlp.add_pipe(ner, last=True)\n",
        "       \n",
        "\n",
        "    # add labels\n",
        "    for _, annotations in TRAIN_DATA:\n",
        "         for ent in annotations.get('entities'):\n",
        "            ner.add_label(ent[2])\n",
        "\n",
        "    # get names of other pipes to disable them during training\n",
        "    other_pipes = [pipe for pipe in nlp.pipe_names if pipe != 'ner']\n",
        "    with nlp.disable_pipes(*other_pipes):  # only train NER\n",
        "        optimizer = nlp.begin_training()\n",
        "        for itn in range(iterations):\n",
        "            random.shuffle(TRAIN_DATA)\n",
        "            losses = {}\n",
        "            for text, annotations in TRAIN_DATA:\n",
        "                nlp.update(\n",
        "                    [text],  # batch of texts\n",
        "                    [annotations],  # batch of annotations\n",
        "                    drop=0.2,  # dropout - make it harder to memorise data\n",
        "                    sgd=optimizer,  # callable to update weights\n",
        "                    losses=losses)           \n",
        "    return nlp"
      ],
      "execution_count": null,
      "outputs": []
    },
    {
      "cell_type": "code",
      "metadata": {
        "id": "s5nsnx5oE_c2"
      },
      "source": [
        "modelo_novo = train_spacy(train_data, 30)"
      ],
      "execution_count": null,
      "outputs": []
    },
    {
      "cell_type": "code",
      "metadata": {
        "id": "bFxNgYl6E_c4"
      },
      "source": [
        "modelo_novo.to_disk(\"modelo_novo_NER\")"
      ],
      "execution_count": null,
      "outputs": []
    },
    {
      "cell_type": "markdown",
      "metadata": {
        "id": "57SndPG4E_c7"
      },
      "source": [
        "<b> Atividade </b>\n",
        "\n",
        "19) O ``modelo_novo`` já foi criado. Aplique o texto em que demonstramos que a data não foi identificada e depois imprima utilizando o ``displacy``.\n",
        "O problema foi resolvido? E se mudarmos o formato da data, ele reconhce? Quais outras entidades o modelo não consegue reconhecer? "
      ]
    },
    {
      "cell_type": "code",
      "metadata": {
        "id": "aGl6dMmYE_c7"
      },
      "source": [
        "nlp_texto_novo = modelo_novo(texto)"
      ],
      "execution_count": null,
      "outputs": []
    },
    {
      "cell_type": "code",
      "metadata": {
        "id": "U57H4z3WE_c9",
        "outputId": "66090eb8-21f3-494c-fbb0-4acac49ef7d3",
        "colab": {
          "base_uri": "https://localhost:8080/",
          "height": 52
        }
      },
      "source": [
        "displacy.render(nlp_texto_novo, style='ent',jupyter=True)"
      ],
      "execution_count": null,
      "outputs": [
        {
          "output_type": "display_data",
          "data": {
            "text/html": [
              "<span class=\"tex2jax_ignore\"><div class=\"entities\" style=\"line-height: 2.5; direction: ltr\">\n",
              "<mark class=\"entity\" style=\"background: #ddd; padding: 0.45em 0.6em; margin: 0 0.25em; line-height: 1; border-radius: 0.35em;\">\n",
              "    João\n",
              "    <span style=\"font-size: 0.8em; font-weight: bold; line-height: 1; border-radius: 0.35em; text-transform: uppercase; vertical-align: middle; margin-left: 0.5rem\">PER</span>\n",
              "</mark>\n",
              " nasceu em \n",
              "<mark class=\"entity\" style=\"background: #ff9561; padding: 0.45em 0.6em; margin: 0 0.25em; line-height: 1; border-radius: 0.35em;\">\n",
              "    Paris\n",
              "    <span style=\"font-size: 0.8em; font-weight: bold; line-height: 1; border-radius: 0.35em; text-transform: uppercase; vertical-align: middle; margin-left: 0.5rem\">LOC</span>\n",
              "</mark>\n",
              " em \n",
              "<mark class=\"entity\" style=\"background: #bfe1d9; padding: 0.45em 0.6em; margin: 0 0.25em; line-height: 1; border-radius: 0.35em;\">\n",
              "    01/01/2000\n",
              "    <span style=\"font-size: 0.8em; font-weight: bold; line-height: 1; border-radius: 0.35em; text-transform: uppercase; vertical-align: middle; margin-left: 0.5rem\">DATE</span>\n",
              "</mark>\n",
              "</div></span>"
            ],
            "text/plain": [
              "<IPython.core.display.HTML object>"
            ]
          },
          "metadata": {
            "tags": []
          }
        }
      ]
    },
    {
      "cell_type": "code",
      "metadata": {
        "id": "lGNoqPTcKpHw",
        "outputId": "60ad9c24-bb76-4151-c27f-2b48855f7877",
        "colab": {
          "base_uri": "https://localhost:8080/",
          "height": 52
        }
      },
      "source": [
        "texto = \"João nasceu em Paris em 01/31/2000\"\n",
        "nlp_texto_novo = modelo_novo(texto)\n",
        "displacy.render(nlp_texto_novo, style='ent',jupyter=True)"
      ],
      "execution_count": null,
      "outputs": [
        {
          "output_type": "display_data",
          "data": {
            "text/html": [
              "<span class=\"tex2jax_ignore\"><div class=\"entities\" style=\"line-height: 2.5; direction: ltr\">\n",
              "<mark class=\"entity\" style=\"background: #ddd; padding: 0.45em 0.6em; margin: 0 0.25em; line-height: 1; border-radius: 0.35em;\">\n",
              "    João\n",
              "    <span style=\"font-size: 0.8em; font-weight: bold; line-height: 1; border-radius: 0.35em; text-transform: uppercase; vertical-align: middle; margin-left: 0.5rem\">PER</span>\n",
              "</mark>\n",
              " nasceu em \n",
              "<mark class=\"entity\" style=\"background: #ff9561; padding: 0.45em 0.6em; margin: 0 0.25em; line-height: 1; border-radius: 0.35em;\">\n",
              "    Paris\n",
              "    <span style=\"font-size: 0.8em; font-weight: bold; line-height: 1; border-radius: 0.35em; text-transform: uppercase; vertical-align: middle; margin-left: 0.5rem\">LOC</span>\n",
              "</mark>\n",
              " em \n",
              "<mark class=\"entity\" style=\"background: #bfe1d9; padding: 0.45em 0.6em; margin: 0 0.25em; line-height: 1; border-radius: 0.35em;\">\n",
              "    01/31/2000\n",
              "    <span style=\"font-size: 0.8em; font-weight: bold; line-height: 1; border-radius: 0.35em; text-transform: uppercase; vertical-align: middle; margin-left: 0.5rem\">DATE</span>\n",
              "</mark>\n",
              "</div></span>"
            ],
            "text/plain": [
              "<IPython.core.display.HTML object>"
            ]
          },
          "metadata": {
            "tags": []
          }
        }
      ]
    },
    {
      "cell_type": "code",
      "metadata": {
        "id": "uwtKse6-KpFq",
        "outputId": "a3ef317d-98c6-44bd-c0ca-1c695934aa10",
        "colab": {
          "base_uri": "https://localhost:8080/",
          "height": 52
        }
      },
      "source": [
        "texto = \"João nasceu em Paris em 01-12-2000\"\n",
        "nlp_texto_novo = modelo_novo(texto)\n",
        "displacy.render(nlp_texto_novo, style='ent',jupyter=True)"
      ],
      "execution_count": null,
      "outputs": [
        {
          "output_type": "display_data",
          "data": {
            "text/html": [
              "<span class=\"tex2jax_ignore\"><div class=\"entities\" style=\"line-height: 2.5; direction: ltr\">\n",
              "<mark class=\"entity\" style=\"background: #ddd; padding: 0.45em 0.6em; margin: 0 0.25em; line-height: 1; border-radius: 0.35em;\">\n",
              "    João\n",
              "    <span style=\"font-size: 0.8em; font-weight: bold; line-height: 1; border-radius: 0.35em; text-transform: uppercase; vertical-align: middle; margin-left: 0.5rem\">PER</span>\n",
              "</mark>\n",
              " nasceu em \n",
              "<mark class=\"entity\" style=\"background: #ff9561; padding: 0.45em 0.6em; margin: 0 0.25em; line-height: 1; border-radius: 0.35em;\">\n",
              "    Paris\n",
              "    <span style=\"font-size: 0.8em; font-weight: bold; line-height: 1; border-radius: 0.35em; text-transform: uppercase; vertical-align: middle; margin-left: 0.5rem\">LOC</span>\n",
              "</mark>\n",
              " em \n",
              "<mark class=\"entity\" style=\"background: #bfe1d9; padding: 0.45em 0.6em; margin: 0 0.25em; line-height: 1; border-radius: 0.35em;\">\n",
              "    01-12-2000\n",
              "    <span style=\"font-size: 0.8em; font-weight: bold; line-height: 1; border-radius: 0.35em; text-transform: uppercase; vertical-align: middle; margin-left: 0.5rem\">DATE</span>\n",
              "</mark>\n",
              "</div></span>"
            ],
            "text/plain": [
              "<IPython.core.display.HTML object>"
            ]
          },
          "metadata": {
            "tags": []
          }
        }
      ]
    },
    {
      "cell_type": "code",
      "metadata": {
        "id": "1cLhmoDwKpDu",
        "outputId": "98727c1a-a971-4d6b-f083-16b306be646a",
        "colab": {
          "base_uri": "https://localhost:8080/",
          "height": 52
        }
      },
      "source": [
        "texto = \"João nasceu em Paris em 2011-15-12\"\n",
        "nlp_texto_novo = modelo_novo(texto)\n",
        "displacy.render(nlp_texto_novo, style='ent',jupyter=True)"
      ],
      "execution_count": null,
      "outputs": [
        {
          "output_type": "display_data",
          "data": {
            "text/html": [
              "<span class=\"tex2jax_ignore\"><div class=\"entities\" style=\"line-height: 2.5; direction: ltr\">\n",
              "<mark class=\"entity\" style=\"background: #ddd; padding: 0.45em 0.6em; margin: 0 0.25em; line-height: 1; border-radius: 0.35em;\">\n",
              "    João\n",
              "    <span style=\"font-size: 0.8em; font-weight: bold; line-height: 1; border-radius: 0.35em; text-transform: uppercase; vertical-align: middle; margin-left: 0.5rem\">PER</span>\n",
              "</mark>\n",
              " nasceu em \n",
              "<mark class=\"entity\" style=\"background: #ff9561; padding: 0.45em 0.6em; margin: 0 0.25em; line-height: 1; border-radius: 0.35em;\">\n",
              "    Paris\n",
              "    <span style=\"font-size: 0.8em; font-weight: bold; line-height: 1; border-radius: 0.35em; text-transform: uppercase; vertical-align: middle; margin-left: 0.5rem\">LOC</span>\n",
              "</mark>\n",
              " em \n",
              "<mark class=\"entity\" style=\"background: #bfe1d9; padding: 0.45em 0.6em; margin: 0 0.25em; line-height: 1; border-radius: 0.35em;\">\n",
              "    2011-15-12\n",
              "    <span style=\"font-size: 0.8em; font-weight: bold; line-height: 1; border-radius: 0.35em; text-transform: uppercase; vertical-align: middle; margin-left: 0.5rem\">DATE</span>\n",
              "</mark>\n",
              "</div></span>"
            ],
            "text/plain": [
              "<IPython.core.display.HTML object>"
            ]
          },
          "metadata": {
            "tags": []
          }
        }
      ]
    },
    {
      "cell_type": "code",
      "metadata": {
        "id": "z2JhHL4NKpBL",
        "outputId": "d2f02d02-f221-4f92-c99e-a5ebcd4489a3",
        "colab": {
          "base_uri": "https://localhost:8080/",
          "height": 52
        }
      },
      "source": [
        "texto = \"João nasceu em Paris em 2011-15-12\"\n",
        "nlp_texto_novo = modelo_novo(texto)\n",
        "displacy.render(nlp_texto_novo, style='ent',jupyter=True)"
      ],
      "execution_count": null,
      "outputs": [
        {
          "output_type": "display_data",
          "data": {
            "text/html": [
              "<span class=\"tex2jax_ignore\"><div class=\"entities\" style=\"line-height: 2.5; direction: ltr\">\n",
              "<mark class=\"entity\" style=\"background: #ddd; padding: 0.45em 0.6em; margin: 0 0.25em; line-height: 1; border-radius: 0.35em;\">\n",
              "    João\n",
              "    <span style=\"font-size: 0.8em; font-weight: bold; line-height: 1; border-radius: 0.35em; text-transform: uppercase; vertical-align: middle; margin-left: 0.5rem\">PER</span>\n",
              "</mark>\n",
              " nasceu em \n",
              "<mark class=\"entity\" style=\"background: #ff9561; padding: 0.45em 0.6em; margin: 0 0.25em; line-height: 1; border-radius: 0.35em;\">\n",
              "    Paris\n",
              "    <span style=\"font-size: 0.8em; font-weight: bold; line-height: 1; border-radius: 0.35em; text-transform: uppercase; vertical-align: middle; margin-left: 0.5rem\">LOC</span>\n",
              "</mark>\n",
              " em \n",
              "<mark class=\"entity\" style=\"background: #bfe1d9; padding: 0.45em 0.6em; margin: 0 0.25em; line-height: 1; border-radius: 0.35em;\">\n",
              "    2011-15-12\n",
              "    <span style=\"font-size: 0.8em; font-weight: bold; line-height: 1; border-radius: 0.35em; text-transform: uppercase; vertical-align: middle; margin-left: 0.5rem\">DATE</span>\n",
              "</mark>\n",
              "</div></span>"
            ],
            "text/plain": [
              "<IPython.core.display.HTML object>"
            ]
          },
          "metadata": {
            "tags": []
          }
        }
      ]
    },
    {
      "cell_type": "markdown",
      "metadata": {
        "id": "aB1nXC1NgH_K"
      },
      "source": [
        "Sim, o problema de selecionar a data foi solucionado. Apesar de colocarmos diferentes formatos de datas, ainda podemos classificalas com sucesso. Para esta amostra, o modelo conseguiu com sucesso classificar todas as entidade, vale lembrar que, por meio deste modelo não deu destaque para palavras de ação do tipo verbo, não a considerando uma entidade válida. "
      ]
    },
    {
      "cell_type": "code",
      "metadata": {
        "id": "K2LyrzzyKo9Z"
      },
      "source": [
        ""
      ],
      "execution_count": null,
      "outputs": []
    }
  ]
}