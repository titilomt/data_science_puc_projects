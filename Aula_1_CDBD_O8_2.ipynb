{
  "nbformat": 4,
  "nbformat_minor": 0,
  "metadata": {
    "kernelspec": {
      "display_name": "nlp-class",
      "language": "python",
      "name": "nlp-class"
    },
    "language_info": {
      "codemirror_mode": {
        "name": "ipython",
        "version": 3
      },
      "file_extension": ".py",
      "mimetype": "text/x-python",
      "name": "python",
      "nbconvert_exporter": "python",
      "pygments_lexer": "ipython3",
      "version": "3.6.5"
    },
    "colab": {
      "name": "Aula 1 - CDBD O8_2.ipynb",
      "provenance": [],
      "collapsed_sections": [
        "7c_d3n-ZE2S4",
        "CpfoYKAaE2TM",
        "2NTIYrv2E2Tb",
        "1Q5VxGluE2Tq",
        "wlWiVFncE2Tu",
        "Wv23KoPjE2Vr",
        "IrmQXE3jE2Vt",
        "lQzdlozyE2V3",
        "T7qnHatKE2WA",
        "ArjkfjHhE2WG",
        "1Raq0rzmE2WQ",
        "tlvmmIF8E2Wb",
        "hoWeL_G-E2We",
        "587tz9g-E2Wr",
        "6JSXgTlKE2Wx",
        "y8uiiVyKE2W2",
        "E2uwnIZOE2W7",
        "rv5WvPOdE2XR",
        "LlBxPaX5E2XT",
        "BOTrcV8QE2XU"
      ],
      "include_colab_link": true
    }
  },
  "cells": [
    {
      "cell_type": "markdown",
      "metadata": {
        "id": "view-in-github",
        "colab_type": "text"
      },
      "source": [
        "<a href=\"https://colab.research.google.com/github/titilomt/data_science_puc_projects/blob/master/Aula_1_CDBD_O8_2.ipynb\" target=\"_parent\"><img src=\"https://colab.research.google.com/assets/colab-badge.svg\" alt=\"Open In Colab\"/></a>"
      ]
    },
    {
      "cell_type": "code",
      "metadata": {
        "id": "q5gScmrSE2SB",
        "colab_type": "code",
        "colab": {
          "base_uri": "https://localhost:8080/",
          "height": 1000
        },
        "outputId": "dca197c7-4bd3-4e6f-ba0e-ab943d5d749b"
      },
      "source": [
        "!pip install unidecode\n",
        "!pip install wikipedia\n",
        "!pip install spacy\n",
        "!python -m spacy download en\n",
        "!python -m spacy download pt"
      ],
      "execution_count": 3,
      "outputs": [
        {
          "output_type": "stream",
          "text": [
            "Collecting unidecode\n",
            "\u001b[?25l  Downloading https://files.pythonhosted.org/packages/d0/42/d9edfed04228bacea2d824904cae367ee9efd05e6cce7ceaaedd0b0ad964/Unidecode-1.1.1-py2.py3-none-any.whl (238kB)\n",
            "\r\u001b[K     |█▍                              | 10kB 18.7MB/s eta 0:00:01\r\u001b[K     |██▊                             | 20kB 1.7MB/s eta 0:00:01\r\u001b[K     |████▏                           | 30kB 1.9MB/s eta 0:00:01\r\u001b[K     |█████▌                          | 40kB 2.2MB/s eta 0:00:01\r\u001b[K     |██████▉                         | 51kB 2.0MB/s eta 0:00:01\r\u001b[K     |████████▎                       | 61kB 2.3MB/s eta 0:00:01\r\u001b[K     |█████████▋                      | 71kB 2.5MB/s eta 0:00:01\r\u001b[K     |███████████                     | 81kB 2.6MB/s eta 0:00:01\r\u001b[K     |████████████▍                   | 92kB 2.6MB/s eta 0:00:01\r\u001b[K     |█████████████▊                  | 102kB 2.7MB/s eta 0:00:01\r\u001b[K     |███████████████▏                | 112kB 2.7MB/s eta 0:00:01\r\u001b[K     |████████████████▌               | 122kB 2.7MB/s eta 0:00:01\r\u001b[K     |█████████████████▉              | 133kB 2.7MB/s eta 0:00:01\r\u001b[K     |███████████████████▎            | 143kB 2.7MB/s eta 0:00:01\r\u001b[K     |████████████████████▋           | 153kB 2.7MB/s eta 0:00:01\r\u001b[K     |██████████████████████          | 163kB 2.7MB/s eta 0:00:01\r\u001b[K     |███████████████████████▍        | 174kB 2.7MB/s eta 0:00:01\r\u001b[K     |████████████████████████▊       | 184kB 2.7MB/s eta 0:00:01\r\u001b[K     |██████████████████████████▏     | 194kB 2.7MB/s eta 0:00:01\r\u001b[K     |███████████████████████████▌    | 204kB 2.7MB/s eta 0:00:01\r\u001b[K     |████████████████████████████▉   | 215kB 2.7MB/s eta 0:00:01\r\u001b[K     |██████████████████████████████▎ | 225kB 2.7MB/s eta 0:00:01\r\u001b[K     |███████████████████████████████▋| 235kB 2.7MB/s eta 0:00:01\r\u001b[K     |████████████████████████████████| 245kB 2.7MB/s \n",
            "\u001b[?25hInstalling collected packages: unidecode\n",
            "Successfully installed unidecode-1.1.1\n",
            "Collecting wikipedia\n",
            "  Downloading https://files.pythonhosted.org/packages/67/35/25e68fbc99e672127cc6fbb14b8ec1ba3dfef035bf1e4c90f78f24a80b7d/wikipedia-1.4.0.tar.gz\n",
            "Requirement already satisfied: beautifulsoup4 in /usr/local/lib/python3.6/dist-packages (from wikipedia) (4.6.3)\n",
            "Requirement already satisfied: requests<3.0.0,>=2.0.0 in /usr/local/lib/python3.6/dist-packages (from wikipedia) (2.23.0)\n",
            "Requirement already satisfied: certifi>=2017.4.17 in /usr/local/lib/python3.6/dist-packages (from requests<3.0.0,>=2.0.0->wikipedia) (2020.6.20)\n",
            "Requirement already satisfied: chardet<4,>=3.0.2 in /usr/local/lib/python3.6/dist-packages (from requests<3.0.0,>=2.0.0->wikipedia) (3.0.4)\n",
            "Requirement already satisfied: idna<3,>=2.5 in /usr/local/lib/python3.6/dist-packages (from requests<3.0.0,>=2.0.0->wikipedia) (2.10)\n",
            "Requirement already satisfied: urllib3!=1.25.0,!=1.25.1,<1.26,>=1.21.1 in /usr/local/lib/python3.6/dist-packages (from requests<3.0.0,>=2.0.0->wikipedia) (1.24.3)\n",
            "Building wheels for collected packages: wikipedia\n",
            "  Building wheel for wikipedia (setup.py) ... \u001b[?25l\u001b[?25hdone\n",
            "  Created wheel for wikipedia: filename=wikipedia-1.4.0-cp36-none-any.whl size=11686 sha256=5c33cff73d721a5e653f99baa7d1dfb5f0e59dcce548748f0f07a578631b2c28\n",
            "  Stored in directory: /root/.cache/pip/wheels/87/2a/18/4e471fd96d12114d16fe4a446d00c3b38fb9efcb744bd31f4a\n",
            "Successfully built wikipedia\n",
            "Installing collected packages: wikipedia\n",
            "Successfully installed wikipedia-1.4.0\n",
            "Requirement already satisfied: spacy in /usr/local/lib/python3.6/dist-packages (2.2.4)\n",
            "Requirement already satisfied: blis<0.5.0,>=0.4.0 in /usr/local/lib/python3.6/dist-packages (from spacy) (0.4.1)\n",
            "Requirement already satisfied: catalogue<1.1.0,>=0.0.7 in /usr/local/lib/python3.6/dist-packages (from spacy) (1.0.0)\n",
            "Requirement already satisfied: numpy>=1.15.0 in /usr/local/lib/python3.6/dist-packages (from spacy) (1.18.5)\n",
            "Requirement already satisfied: thinc==7.4.0 in /usr/local/lib/python3.6/dist-packages (from spacy) (7.4.0)\n",
            "Requirement already satisfied: murmurhash<1.1.0,>=0.28.0 in /usr/local/lib/python3.6/dist-packages (from spacy) (1.0.2)\n",
            "Requirement already satisfied: requests<3.0.0,>=2.13.0 in /usr/local/lib/python3.6/dist-packages (from spacy) (2.23.0)\n",
            "Requirement already satisfied: wasabi<1.1.0,>=0.4.0 in /usr/local/lib/python3.6/dist-packages (from spacy) (0.8.0)\n",
            "Requirement already satisfied: preshed<3.1.0,>=3.0.2 in /usr/local/lib/python3.6/dist-packages (from spacy) (3.0.2)\n",
            "Requirement already satisfied: srsly<1.1.0,>=1.0.2 in /usr/local/lib/python3.6/dist-packages (from spacy) (1.0.2)\n",
            "Requirement already satisfied: cymem<2.1.0,>=2.0.2 in /usr/local/lib/python3.6/dist-packages (from spacy) (2.0.3)\n",
            "Requirement already satisfied: plac<1.2.0,>=0.9.6 in /usr/local/lib/python3.6/dist-packages (from spacy) (1.1.3)\n",
            "Requirement already satisfied: setuptools in /usr/local/lib/python3.6/dist-packages (from spacy) (50.3.0)\n",
            "Requirement already satisfied: tqdm<5.0.0,>=4.38.0 in /usr/local/lib/python3.6/dist-packages (from spacy) (4.41.1)\n",
            "Requirement already satisfied: importlib-metadata>=0.20; python_version < \"3.8\" in /usr/local/lib/python3.6/dist-packages (from catalogue<1.1.0,>=0.0.7->spacy) (1.7.0)\n",
            "Requirement already satisfied: chardet<4,>=3.0.2 in /usr/local/lib/python3.6/dist-packages (from requests<3.0.0,>=2.13.0->spacy) (3.0.4)\n",
            "Requirement already satisfied: idna<3,>=2.5 in /usr/local/lib/python3.6/dist-packages (from requests<3.0.0,>=2.13.0->spacy) (2.10)\n",
            "Requirement already satisfied: certifi>=2017.4.17 in /usr/local/lib/python3.6/dist-packages (from requests<3.0.0,>=2.13.0->spacy) (2020.6.20)\n",
            "Requirement already satisfied: urllib3!=1.25.0,!=1.25.1,<1.26,>=1.21.1 in /usr/local/lib/python3.6/dist-packages (from requests<3.0.0,>=2.13.0->spacy) (1.24.3)\n",
            "Requirement already satisfied: zipp>=0.5 in /usr/local/lib/python3.6/dist-packages (from importlib-metadata>=0.20; python_version < \"3.8\"->catalogue<1.1.0,>=0.0.7->spacy) (3.1.0)\n",
            "Requirement already satisfied: en_core_web_sm==2.2.5 from https://github.com/explosion/spacy-models/releases/download/en_core_web_sm-2.2.5/en_core_web_sm-2.2.5.tar.gz#egg=en_core_web_sm==2.2.5 in /usr/local/lib/python3.6/dist-packages (2.2.5)\n",
            "Requirement already satisfied: spacy>=2.2.2 in /usr/local/lib/python3.6/dist-packages (from en_core_web_sm==2.2.5) (2.2.4)\n",
            "Requirement already satisfied: cymem<2.1.0,>=2.0.2 in /usr/local/lib/python3.6/dist-packages (from spacy>=2.2.2->en_core_web_sm==2.2.5) (2.0.3)\n",
            "Requirement already satisfied: requests<3.0.0,>=2.13.0 in /usr/local/lib/python3.6/dist-packages (from spacy>=2.2.2->en_core_web_sm==2.2.5) (2.23.0)\n",
            "Requirement already satisfied: plac<1.2.0,>=0.9.6 in /usr/local/lib/python3.6/dist-packages (from spacy>=2.2.2->en_core_web_sm==2.2.5) (1.1.3)\n",
            "Requirement already satisfied: srsly<1.1.0,>=1.0.2 in /usr/local/lib/python3.6/dist-packages (from spacy>=2.2.2->en_core_web_sm==2.2.5) (1.0.2)\n",
            "Requirement already satisfied: setuptools in /usr/local/lib/python3.6/dist-packages (from spacy>=2.2.2->en_core_web_sm==2.2.5) (50.3.0)\n",
            "Requirement already satisfied: numpy>=1.15.0 in /usr/local/lib/python3.6/dist-packages (from spacy>=2.2.2->en_core_web_sm==2.2.5) (1.18.5)\n",
            "Requirement already satisfied: catalogue<1.1.0,>=0.0.7 in /usr/local/lib/python3.6/dist-packages (from spacy>=2.2.2->en_core_web_sm==2.2.5) (1.0.0)\n",
            "Requirement already satisfied: tqdm<5.0.0,>=4.38.0 in /usr/local/lib/python3.6/dist-packages (from spacy>=2.2.2->en_core_web_sm==2.2.5) (4.41.1)\n",
            "Requirement already satisfied: thinc==7.4.0 in /usr/local/lib/python3.6/dist-packages (from spacy>=2.2.2->en_core_web_sm==2.2.5) (7.4.0)\n",
            "Requirement already satisfied: wasabi<1.1.0,>=0.4.0 in /usr/local/lib/python3.6/dist-packages (from spacy>=2.2.2->en_core_web_sm==2.2.5) (0.8.0)\n",
            "Requirement already satisfied: murmurhash<1.1.0,>=0.28.0 in /usr/local/lib/python3.6/dist-packages (from spacy>=2.2.2->en_core_web_sm==2.2.5) (1.0.2)\n",
            "Requirement already satisfied: blis<0.5.0,>=0.4.0 in /usr/local/lib/python3.6/dist-packages (from spacy>=2.2.2->en_core_web_sm==2.2.5) (0.4.1)\n",
            "Requirement already satisfied: preshed<3.1.0,>=3.0.2 in /usr/local/lib/python3.6/dist-packages (from spacy>=2.2.2->en_core_web_sm==2.2.5) (3.0.2)\n",
            "Requirement already satisfied: certifi>=2017.4.17 in /usr/local/lib/python3.6/dist-packages (from requests<3.0.0,>=2.13.0->spacy>=2.2.2->en_core_web_sm==2.2.5) (2020.6.20)\n",
            "Requirement already satisfied: chardet<4,>=3.0.2 in /usr/local/lib/python3.6/dist-packages (from requests<3.0.0,>=2.13.0->spacy>=2.2.2->en_core_web_sm==2.2.5) (3.0.4)\n",
            "Requirement already satisfied: urllib3!=1.25.0,!=1.25.1,<1.26,>=1.21.1 in /usr/local/lib/python3.6/dist-packages (from requests<3.0.0,>=2.13.0->spacy>=2.2.2->en_core_web_sm==2.2.5) (1.24.3)\n",
            "Requirement already satisfied: idna<3,>=2.5 in /usr/local/lib/python3.6/dist-packages (from requests<3.0.0,>=2.13.0->spacy>=2.2.2->en_core_web_sm==2.2.5) (2.10)\n",
            "Requirement already satisfied: importlib-metadata>=0.20; python_version < \"3.8\" in /usr/local/lib/python3.6/dist-packages (from catalogue<1.1.0,>=0.0.7->spacy>=2.2.2->en_core_web_sm==2.2.5) (1.7.0)\n",
            "Requirement already satisfied: zipp>=0.5 in /usr/local/lib/python3.6/dist-packages (from importlib-metadata>=0.20; python_version < \"3.8\"->catalogue<1.1.0,>=0.0.7->spacy>=2.2.2->en_core_web_sm==2.2.5) (3.1.0)\n",
            "\u001b[38;5;2m✔ Download and installation successful\u001b[0m\n",
            "You can now load the model via spacy.load('en_core_web_sm')\n",
            "\u001b[38;5;2m✔ Linking successful\u001b[0m\n",
            "/usr/local/lib/python3.6/dist-packages/en_core_web_sm -->\n",
            "/usr/local/lib/python3.6/dist-packages/spacy/data/en\n",
            "You can now load the model via spacy.load('en')\n",
            "Collecting pt_core_news_sm==2.2.5\n",
            "\u001b[?25l  Downloading https://github.com/explosion/spacy-models/releases/download/pt_core_news_sm-2.2.5/pt_core_news_sm-2.2.5.tar.gz (21.2MB)\n",
            "\u001b[K     |████████████████████████████████| 21.2MB 105.6MB/s \n",
            "\u001b[?25hRequirement already satisfied: spacy>=2.2.2 in /usr/local/lib/python3.6/dist-packages (from pt_core_news_sm==2.2.5) (2.2.4)\n",
            "Requirement already satisfied: blis<0.5.0,>=0.4.0 in /usr/local/lib/python3.6/dist-packages (from spacy>=2.2.2->pt_core_news_sm==2.2.5) (0.4.1)\n",
            "Requirement already satisfied: preshed<3.1.0,>=3.0.2 in /usr/local/lib/python3.6/dist-packages (from spacy>=2.2.2->pt_core_news_sm==2.2.5) (3.0.2)\n",
            "Requirement already satisfied: requests<3.0.0,>=2.13.0 in /usr/local/lib/python3.6/dist-packages (from spacy>=2.2.2->pt_core_news_sm==2.2.5) (2.23.0)\n",
            "Requirement already satisfied: srsly<1.1.0,>=1.0.2 in /usr/local/lib/python3.6/dist-packages (from spacy>=2.2.2->pt_core_news_sm==2.2.5) (1.0.2)\n",
            "Requirement already satisfied: tqdm<5.0.0,>=4.38.0 in /usr/local/lib/python3.6/dist-packages (from spacy>=2.2.2->pt_core_news_sm==2.2.5) (4.41.1)\n",
            "Requirement already satisfied: plac<1.2.0,>=0.9.6 in /usr/local/lib/python3.6/dist-packages (from spacy>=2.2.2->pt_core_news_sm==2.2.5) (1.1.3)\n",
            "Requirement already satisfied: wasabi<1.1.0,>=0.4.0 in /usr/local/lib/python3.6/dist-packages (from spacy>=2.2.2->pt_core_news_sm==2.2.5) (0.8.0)\n",
            "Requirement already satisfied: catalogue<1.1.0,>=0.0.7 in /usr/local/lib/python3.6/dist-packages (from spacy>=2.2.2->pt_core_news_sm==2.2.5) (1.0.0)\n",
            "Requirement already satisfied: cymem<2.1.0,>=2.0.2 in /usr/local/lib/python3.6/dist-packages (from spacy>=2.2.2->pt_core_news_sm==2.2.5) (2.0.3)\n",
            "Requirement already satisfied: murmurhash<1.1.0,>=0.28.0 in /usr/local/lib/python3.6/dist-packages (from spacy>=2.2.2->pt_core_news_sm==2.2.5) (1.0.2)\n",
            "Requirement already satisfied: setuptools in /usr/local/lib/python3.6/dist-packages (from spacy>=2.2.2->pt_core_news_sm==2.2.5) (50.3.0)\n",
            "Requirement already satisfied: numpy>=1.15.0 in /usr/local/lib/python3.6/dist-packages (from spacy>=2.2.2->pt_core_news_sm==2.2.5) (1.18.5)\n",
            "Requirement already satisfied: thinc==7.4.0 in /usr/local/lib/python3.6/dist-packages (from spacy>=2.2.2->pt_core_news_sm==2.2.5) (7.4.0)\n",
            "Requirement already satisfied: certifi>=2017.4.17 in /usr/local/lib/python3.6/dist-packages (from requests<3.0.0,>=2.13.0->spacy>=2.2.2->pt_core_news_sm==2.2.5) (2020.6.20)\n",
            "Requirement already satisfied: idna<3,>=2.5 in /usr/local/lib/python3.6/dist-packages (from requests<3.0.0,>=2.13.0->spacy>=2.2.2->pt_core_news_sm==2.2.5) (2.10)\n",
            "Requirement already satisfied: chardet<4,>=3.0.2 in /usr/local/lib/python3.6/dist-packages (from requests<3.0.0,>=2.13.0->spacy>=2.2.2->pt_core_news_sm==2.2.5) (3.0.4)\n",
            "Requirement already satisfied: urllib3!=1.25.0,!=1.25.1,<1.26,>=1.21.1 in /usr/local/lib/python3.6/dist-packages (from requests<3.0.0,>=2.13.0->spacy>=2.2.2->pt_core_news_sm==2.2.5) (1.24.3)\n",
            "Requirement already satisfied: importlib-metadata>=0.20; python_version < \"3.8\" in /usr/local/lib/python3.6/dist-packages (from catalogue<1.1.0,>=0.0.7->spacy>=2.2.2->pt_core_news_sm==2.2.5) (1.7.0)\n",
            "Requirement already satisfied: zipp>=0.5 in /usr/local/lib/python3.6/dist-packages (from importlib-metadata>=0.20; python_version < \"3.8\"->catalogue<1.1.0,>=0.0.7->spacy>=2.2.2->pt_core_news_sm==2.2.5) (3.1.0)\n",
            "Building wheels for collected packages: pt-core-news-sm\n",
            "  Building wheel for pt-core-news-sm (setup.py) ... \u001b[?25l\u001b[?25hdone\n",
            "  Created wheel for pt-core-news-sm: filename=pt_core_news_sm-2.2.5-cp36-none-any.whl size=21186282 sha256=0a8535a6dac4fa08b6043431b29e6b2c2a917a2692ccdf8ede260946a384bdc3\n",
            "  Stored in directory: /tmp/pip-ephem-wheel-cache-_9euh4xp/wheels/ea/94/74/ec9be8418e9231b471be5dc7e1b45dd670019a376a6b5bc1c0\n",
            "Successfully built pt-core-news-sm\n",
            "Installing collected packages: pt-core-news-sm\n",
            "Successfully installed pt-core-news-sm-2.2.5\n",
            "\u001b[38;5;2m✔ Download and installation successful\u001b[0m\n",
            "You can now load the model via spacy.load('pt_core_news_sm')\n",
            "\u001b[38;5;2m✔ Linking successful\u001b[0m\n",
            "/usr/local/lib/python3.6/dist-packages/pt_core_news_sm -->\n",
            "/usr/local/lib/python3.6/dist-packages/spacy/data/pt\n",
            "You can now load the model via spacy.load('pt')\n"
          ],
          "name": "stdout"
        }
      ]
    },
    {
      "cell_type": "markdown",
      "metadata": {
        "id": "lt-GgQqeE2SH",
        "colab_type": "text"
      },
      "source": [
        "# Expressões Regulares\n",
        "\n",
        "- O Pacote que permite utilizar ER é <b>re</b>\n",
        "- Existem vários métodos para utilizar expressões regulares em python., alguns deles para <b>buscar</b> padrões são:\n",
        "\n",
        "|   Método   |                                      Descrição                                     |\n",
        "|:----------:|:----------------------------------------------------------------------------------:|\n",
        "| match()    | Determina se a RE combina com o início da string.                                  |\n",
        "| search()   | Varre toda a string, procurando qualquer local onde esta RE tem correspondência.   |\n",
        "| findall()  | Encontra todas as substrings onde a RE corresponde, e as retorna como uma lista.   |\n",
        "| finditer() | Encontra todas as substrings onde a RE corresponde, e as retorna como um iterador. |\n",
        "\n",
        "- Métodos para modificar strings:\n",
        "\n",
        "| Método  | Descrição                                                                                            |\n",
        "|---------|------------------------------------------------------------------------------------------------------|\n",
        "| split() | Divide a string em uma lista, dividindo-a onde quer que haja correspondência com a RE                |\n",
        "| sub()   | Encontra todas as substrings que correspondem com a RE e faz a substituição por uma string diferente |\n",
        "| subn()  |  É o mesmo que o método sub(), mas retorna a nova string e o número de substituições                 |\n",
        "\n",
        "\n",
        "Link: https://docs.python.org/pt-br/3.8/howto/regex.html\n",
        "\n",
        "Agora vamos exemplificar cada um desses métodos:"
      ]
    },
    {
      "cell_type": "code",
      "metadata": {
        "id": "-RuY3ajmE2SH",
        "colab_type": "code",
        "colab": {}
      },
      "source": [
        "import re\n",
        "import datetime"
      ],
      "execution_count": 4,
      "outputs": []
    },
    {
      "cell_type": "code",
      "metadata": {
        "id": "u06mxHTsE2SM",
        "colab_type": "code",
        "colab": {}
      },
      "source": [
        "texto = \"Vamos encontrar Padrões nesta string!! \\nAgora é a nossa primeira prática de NLP!! Vamos aprender a procurar padrões!! \\nBelo Horizonte, \"+ str(datetime.datetime.now().date())+\".\""
      ],
      "execution_count": null,
      "outputs": []
    },
    {
      "cell_type": "code",
      "metadata": {
        "id": "Ba2kbQcBE2SR",
        "colab_type": "code",
        "colab": {
          "base_uri": "https://localhost:8080/",
          "height": 68
        },
        "outputId": "d1200609-6a94-4496-b698-00b613d32fac"
      },
      "source": [
        "print(texto)"
      ],
      "execution_count": null,
      "outputs": [
        {
          "output_type": "stream",
          "text": [
            "Vamos encontrar Padrões nesta string!! \n",
            "Agora é a nossa primeira prática de NLP!! Vamos aprender a procurar padrões!! \n",
            "Belo Horizonte, 2020-09-22.\n"
          ],
          "name": "stdout"
        }
      ]
    },
    {
      "cell_type": "markdown",
      "metadata": {
        "id": "ssoK3Vd_E2SV",
        "colab_type": "text"
      },
      "source": [
        "## Match\n",
        "Determina se a RE combina com o início da string"
      ]
    },
    {
      "cell_type": "code",
      "metadata": {
        "id": "ByKonDoCE2SW",
        "colab_type": "code",
        "colab": {}
      },
      "source": [
        "re.match(\"Vamos\", texto)"
      ],
      "execution_count": null,
      "outputs": []
    },
    {
      "cell_type": "code",
      "metadata": {
        "id": "nTRtigOPE2Sa",
        "colab_type": "code",
        "colab": {}
      },
      "source": [
        "re.match(\"nesta\", texto)"
      ],
      "execution_count": null,
      "outputs": []
    },
    {
      "cell_type": "markdown",
      "metadata": {
        "id": "kWgXERIqE2Se",
        "colab_type": "text"
      },
      "source": [
        "é case sensitive"
      ]
    },
    {
      "cell_type": "code",
      "metadata": {
        "id": "U6nAhURVE2Sf",
        "colab_type": "code",
        "colab": {}
      },
      "source": [
        "re.match(r\"vamos\", texto)"
      ],
      "execution_count": null,
      "outputs": []
    },
    {
      "cell_type": "markdown",
      "metadata": {
        "id": "b-vfSwKdE2Sj",
        "colab_type": "text"
      },
      "source": [
        "## Search\n",
        "Varre toda a string, procurando qualquer local onde esta RE tem correspondência"
      ]
    },
    {
      "cell_type": "code",
      "metadata": {
        "id": "CGwwWNFlE2Sk",
        "colab_type": "code",
        "colab": {}
      },
      "source": [
        "re.search(\"Vamos\", texto)"
      ],
      "execution_count": null,
      "outputs": []
    },
    {
      "cell_type": "code",
      "metadata": {
        "id": "GpfXeIsXE2Sn",
        "colab_type": "code",
        "colab": {}
      },
      "source": [
        "re.search(\"encontrar\", texto)"
      ],
      "execution_count": null,
      "outputs": []
    },
    {
      "cell_type": "markdown",
      "metadata": {
        "id": "NW85D7HYE2Sr",
        "colab_type": "text"
      },
      "source": [
        "o default é case-sensitive"
      ]
    },
    {
      "cell_type": "code",
      "metadata": {
        "id": "Mcm5_FhyE2Ss",
        "colab_type": "code",
        "colab": {
          "base_uri": "https://localhost:8080/",
          "height": 34
        },
        "outputId": "15e67a95-0c69-4aa6-be2c-c0e180f6beeb"
      },
      "source": [
        "re.search(\"padrões\", texto)"
      ],
      "execution_count": null,
      "outputs": [
        {
          "output_type": "execute_result",
          "data": {
            "text/plain": [
              "<_sre.SRE_Match object; span=(108, 115), match='padrões'>"
            ]
          },
          "metadata": {
            "tags": []
          },
          "execution_count": 5
        }
      ]
    },
    {
      "cell_type": "code",
      "metadata": {
        "id": "tlzw89bWE2Sv",
        "colab_type": "code",
        "colab": {
          "base_uri": "https://localhost:8080/",
          "height": 34
        },
        "outputId": "72efb3ff-aa82-4076-bc09-4b6c25862752"
      },
      "source": [
        "re.search(\"Padrões\", texto)"
      ],
      "execution_count": null,
      "outputs": [
        {
          "output_type": "execute_result",
          "data": {
            "text/plain": [
              "<_sre.SRE_Match object; span=(16, 23), match='Padrões'>"
            ]
          },
          "metadata": {
            "tags": []
          },
          "execution_count": 6
        }
      ]
    },
    {
      "cell_type": "markdown",
      "metadata": {
        "id": "TcwH5pX1E2S0",
        "colab_type": "text"
      },
      "source": [
        "podemos ignorar case-sensitive"
      ]
    },
    {
      "cell_type": "code",
      "metadata": {
        "id": "J3Ol_N-xE2S1",
        "colab_type": "code",
        "colab": {
          "base_uri": "https://localhost:8080/",
          "height": 34
        },
        "outputId": "6ea40d21-8c9c-4a69-9958-007ba272e28a"
      },
      "source": [
        "re.search(\"padrões\", texto, re.IGNORECASE)"
      ],
      "execution_count": null,
      "outputs": [
        {
          "output_type": "execute_result",
          "data": {
            "text/plain": [
              "<_sre.SRE_Match object; span=(16, 23), match='Padrões'>"
            ]
          },
          "metadata": {
            "tags": []
          },
          "execution_count": 7
        }
      ]
    },
    {
      "cell_type": "markdown",
      "metadata": {
        "id": "7c_d3n-ZE2S4",
        "colab_type": "text"
      },
      "source": [
        "## Findall\n",
        "Encontra todas as substrings onde a RE corresponde, e as retorna como uma lista"
      ]
    },
    {
      "cell_type": "code",
      "metadata": {
        "id": "5RL7Pn6sE2S5",
        "colab_type": "code",
        "colab": {}
      },
      "source": [
        "re.findall(\"Vamos\", texto)"
      ],
      "execution_count": null,
      "outputs": []
    },
    {
      "cell_type": "code",
      "metadata": {
        "id": "RwkAevIaE2S9",
        "colab_type": "code",
        "colab": {}
      },
      "source": [
        "re.findall(\"padrões\", texto)"
      ],
      "execution_count": null,
      "outputs": []
    },
    {
      "cell_type": "markdown",
      "metadata": {
        "id": "0-jU3fAQE2TA",
        "colab_type": "text"
      },
      "source": [
        "re.I é igal re.IGNORECASE"
      ]
    },
    {
      "cell_type": "code",
      "metadata": {
        "id": "kwcBrGrxE2TB",
        "colab_type": "code",
        "colab": {}
      },
      "source": [
        "re.findall(\"padrões\", texto, re.I)"
      ],
      "execution_count": null,
      "outputs": []
    },
    {
      "cell_type": "code",
      "metadata": {
        "id": "UxS4PHcpE2TF",
        "colab_type": "code",
        "colab": {}
      },
      "source": [
        "#quando uso o + o padrão é 1 ou mais. Assim todas string que tem a no meio de outras letras  são retornadas\n",
        "re.findall(r'\\w+a\\w+', texto)"
      ],
      "execution_count": null,
      "outputs": []
    },
    {
      "cell_type": "code",
      "metadata": {
        "id": "uy1DWTFCE2TJ",
        "colab_type": "code",
        "colab": {}
      },
      "source": [
        "#quando uso o * o padrão é 0 ou mais. Assim todas string que tem a no meio, ou no início ou no fim são retornadas\n",
        "re.findall(r'\\w*a\\w*', texto)"
      ],
      "execution_count": null,
      "outputs": []
    },
    {
      "cell_type": "markdown",
      "metadata": {
        "id": "CpfoYKAaE2TM",
        "colab_type": "text"
      },
      "source": [
        "## Finditer\n",
        "Encontra todas as substrings onde a RE corresponde, e as retorna como um iterador."
      ]
    },
    {
      "cell_type": "code",
      "metadata": {
        "id": "Npmyb-XsE2TN",
        "colab_type": "code",
        "colab": {}
      },
      "source": [
        "re.finditer(\"Vamos\", texto)"
      ],
      "execution_count": null,
      "outputs": []
    },
    {
      "cell_type": "code",
      "metadata": {
        "id": "8BzmQAsvE2TQ",
        "colab_type": "code",
        "colab": {}
      },
      "source": [
        "res = re.finditer(\"Vamos\", texto)\n",
        "[r for r in res]"
      ],
      "execution_count": null,
      "outputs": []
    },
    {
      "cell_type": "code",
      "metadata": {
        "id": "Ul95OtbkE2TT",
        "colab_type": "code",
        "colab": {}
      },
      "source": [
        "re.finditer(\"padrões\", texto)"
      ],
      "execution_count": null,
      "outputs": []
    },
    {
      "cell_type": "code",
      "metadata": {
        "id": "_MWvOPBNE2TX",
        "colab_type": "code",
        "colab": {}
      },
      "source": [
        "re.finditer(\"padrões\", texto, re.I)"
      ],
      "execution_count": null,
      "outputs": []
    },
    {
      "cell_type": "markdown",
      "metadata": {
        "id": "2NTIYrv2E2Tb",
        "colab_type": "text"
      },
      "source": [
        "## Split"
      ]
    },
    {
      "cell_type": "code",
      "metadata": {
        "id": "zs7VXjcKE2Tc",
        "colab_type": "code",
        "colab": {}
      },
      "source": [
        "re.split('\\n',texto)"
      ],
      "execution_count": null,
      "outputs": []
    },
    {
      "cell_type": "code",
      "metadata": {
        "id": "7moeTtMWE2Tf",
        "colab_type": "code",
        "colab": {}
      },
      "source": [
        "texto.split(\"\\s+\")"
      ],
      "execution_count": null,
      "outputs": []
    },
    {
      "cell_type": "code",
      "metadata": {
        "id": "wjv2o5TSE2Tl",
        "colab_type": "code",
        "colab": {}
      },
      "source": [
        "(re.split(r'\\s+',texto))"
      ],
      "execution_count": null,
      "outputs": []
    },
    {
      "cell_type": "markdown",
      "metadata": {
        "id": "1Q5VxGluE2Tq",
        "colab_type": "text"
      },
      "source": [
        "## Sub"
      ]
    },
    {
      "cell_type": "code",
      "metadata": {
        "id": "UfQcny0cE2Tq",
        "colab_type": "code",
        "colab": {}
      },
      "source": [
        "re.sub('\\w+a\\w+', 'a-word', texto)"
      ],
      "execution_count": null,
      "outputs": []
    },
    {
      "cell_type": "markdown",
      "metadata": {
        "id": "wlWiVFncE2Tu",
        "colab_type": "text"
      },
      "source": [
        "## Subn"
      ]
    },
    {
      "cell_type": "code",
      "metadata": {
        "id": "X2955Lc9E2Tu",
        "colab_type": "code",
        "colab": {}
      },
      "source": [
        "re.subn('\\w+a\\w+', 'a-word', texto)"
      ],
      "execution_count": null,
      "outputs": []
    },
    {
      "cell_type": "markdown",
      "metadata": {
        "id": "0nQT6mCwE2T4",
        "colab_type": "text"
      },
      "source": [
        "# Exercícios"
      ]
    },
    {
      "cell_type": "markdown",
      "metadata": {
        "id": "t4o97T52E2T5",
        "colab_type": "text"
      },
      "source": [
        "1. Escreva uma expressão regular para verificar se uma string contém apenas um determinado conjunto de caracteres (neste caso, a-z, A-Z e 0-9)."
      ]
    },
    {
      "cell_type": "code",
      "metadata": {
        "id": "djXPdCENE2T5",
        "colab_type": "code",
        "colab": {}
      },
      "source": [
        "string1 = \"ABCDEFabcdef123450\"\n",
        "string2 = \"*&%@#!}{\""
      ],
      "execution_count": 5,
      "outputs": []
    },
    {
      "cell_type": "code",
      "metadata": {
        "id": "RREg_VDTE2T9",
        "colab_type": "code",
        "colab": {
          "base_uri": "https://localhost:8080/",
          "height": 51
        },
        "outputId": "d367fb7a-d39a-4ab8-9db7-3a2a81d1eba7"
      },
      "source": [
        "\"\"\"\n",
        "Para este exercício a RegExp usada foi o \\w que contempla todos os caracteres \n",
        "e digitos [A-Z][a-z][0-9] porém inclui o '_' underscore\n",
        "\"\"\"\n",
        "\n",
        "for s in [string1, string2]: \n",
        "    print(re.match(r'^\\w+', s)) "
      ],
      "execution_count": 6,
      "outputs": [
        {
          "output_type": "stream",
          "text": [
            "<_sre.SRE_Match object; span=(0, 18), match='ABCDEFabcdef123450'>\n",
            "None\n"
          ],
          "name": "stdout"
        }
      ]
    },
    {
      "cell_type": "markdown",
      "metadata": {
        "id": "GpQZWR75E2UB",
        "colab_type": "text"
      },
      "source": [
        "2. Escreva uma expressão regular que corresponda a uma sequência que tenha um a seguido por zero ou mais b's."
      ]
    },
    {
      "cell_type": "code",
      "metadata": {
        "id": "clu3aaOQE2UB",
        "colab_type": "code",
        "colab": {}
      },
      "source": [
        "string1 = \"abc\"\n",
        "string2 = \"aacb\"\n",
        "string3 = \"abbc\"\n",
        "string4 = \"bb\""
      ],
      "execution_count": 7,
      "outputs": []
    },
    {
      "cell_type": "code",
      "metadata": {
        "id": "qDkahkQpE2UE",
        "colab_type": "code",
        "colab": {
          "base_uri": "https://localhost:8080/",
          "height": 85
        },
        "outputId": "34b1830b-0fcb-40a6-da1c-8048f3744aa3"
      },
      "source": [
        "\"\"\"\n",
        "Ao usar uma busca de match na string devemos, para este exercicio, \n",
        "colocar o termo de constante repetição 'AB' e sua condição, \n",
        "podendo ter [0, n] b's representado pela RegExp (*) após o termo 'b' \n",
        "\"\"\"\n",
        "\n",
        "for s in [string1, string2, string3, string4]: \n",
        "    print(re.match(r'ab*', s))"
      ],
      "execution_count": null,
      "outputs": [
        {
          "output_type": "stream",
          "text": [
            "<_sre.SRE_Match object; span=(0, 2), match='ab'>\n",
            "<_sre.SRE_Match object; span=(0, 1), match='a'>\n",
            "<_sre.SRE_Match object; span=(0, 3), match='abb'>\n",
            "None\n"
          ],
          "name": "stdout"
        }
      ]
    },
    {
      "cell_type": "markdown",
      "metadata": {
        "id": "GCEwqVNEE2UJ",
        "colab_type": "text"
      },
      "source": [
        "3. Escreva um expressão regular que corresponda a uma sequência que tenha um a seguido por um ou mais b's."
      ]
    },
    {
      "cell_type": "code",
      "metadata": {
        "id": "wLIBnksTE2UK",
        "colab_type": "code",
        "colab": {}
      },
      "source": [
        "string1 = \"abc\"\n",
        "string2 = \"aacb\"\n",
        "string3 = \"abbc\"\n",
        "string4 = \"bb\""
      ],
      "execution_count": null,
      "outputs": []
    },
    {
      "cell_type": "code",
      "metadata": {
        "id": "lmzRqypfE2UO",
        "colab_type": "code",
        "colab": {
          "base_uri": "https://localhost:8080/",
          "height": 85
        },
        "outputId": "63a65647-3869-4dc1-e4d9-129730adcd50"
      },
      "source": [
        "\"\"\"\n",
        "Neste exercicio é necessário que exista 1 'b' para ser valido a RegExp \n",
        "então usamos o operador (+) para indicar [1, n] b's seguidos de A\n",
        "\"\"\"\n",
        "for s in [string1, string2, string3, string4]: \n",
        "    print(re.match(r'ab+', s))"
      ],
      "execution_count": null,
      "outputs": [
        {
          "output_type": "stream",
          "text": [
            "<_sre.SRE_Match object; span=(0, 2), match='ab'>\n",
            "None\n",
            "<_sre.SRE_Match object; span=(0, 3), match='abb'>\n",
            "None\n"
          ],
          "name": "stdout"
        }
      ]
    },
    {
      "cell_type": "markdown",
      "metadata": {
        "id": "dNE6awcvE2US",
        "colab_type": "text"
      },
      "source": [
        "4. Escreva uma expressão regular para converter uma data do formato aaaa-mm-dd para o formato dd-mm-aaaa."
      ]
    },
    {
      "cell_type": "code",
      "metadata": {
        "id": "w3-uuyaNE2US",
        "colab_type": "code",
        "colab": {}
      },
      "source": [
        "data1 = \"2026-01-02\"\n",
        "data2 = \"26-01-02\""
      ],
      "execution_count": null,
      "outputs": []
    },
    {
      "cell_type": "code",
      "metadata": {
        "id": "nj6O5YplE2UW",
        "colab_type": "code",
        "colab": {
          "base_uri": "https://localhost:8080/",
          "height": 51
        },
        "outputId": "daf8cfcf-f336-480a-cd55-257831d58dab"
      },
      "source": [
        "\"\"\"\n",
        "Este exercicio nos pede para converter uma data do \n",
        "tipo \"YY(YY)-MM-DD\" para \"DD-MM-YY(YY)\" para que possamos executar esta operação\n",
        "os seguintes grupos foram criados (\\d{2,4})\\1, (\\d{1,2})\\2, (\\d{1,2})\\3.\n",
        "Em cada grupo queremos buscar um \\d RegExp (para digito), que está entre \n",
        "um intervalo de [n, m] números ex: (\\d{2,4}) -> indicamos o grupo desta RegExp \n",
        "como \\{numero do grupo} para que \n",
        "ao executar o SUB (comando python RegExp) controlamos onde cada grupo deve ser recolocado. \n",
        "\"\"\"\n",
        "for s in [data1, data2]:\n",
        "    regex = r\"(\\d{2,4})\\1-(\\d{1,2})\\2-(\\d{1,2})\\3\"\n",
        "    subst = \"\\3-\\2-\\1\"\n",
        "    result = re.sub(regex, subst, s, 0)\n",
        "    print(result)"
      ],
      "execution_count": null,
      "outputs": [
        {
          "output_type": "stream",
          "text": [
            "2026-01-02\n",
            "26-01-02\n"
          ],
          "name": "stdout"
        }
      ]
    },
    {
      "cell_type": "markdown",
      "metadata": {
        "id": "B-ipfjt3E2Ub",
        "colab_type": "text"
      },
      "source": [
        "5. Escreva uma expressão para remover o excesso de espaço"
      ]
    },
    {
      "cell_type": "code",
      "metadata": {
        "id": "qS0_qEuME2Uc",
        "colab_type": "code",
        "colab": {}
      },
      "source": [
        "string = \"Exercídios     Expressão    Regular\""
      ],
      "execution_count": null,
      "outputs": []
    },
    {
      "cell_type": "code",
      "metadata": {
        "id": "IjfvI0gWE2Uf",
        "colab_type": "code",
        "colab": {
          "base_uri": "https://localhost:8080/",
          "height": 34
        },
        "outputId": "b3af1c94-c1e3-4a05-c27a-4f370a63be64"
      },
      "source": [
        "# USANDO O COMANDO SUB PODEMOS EXECUTAR A RegExp \\s para localizar \n",
        "# um espaço na string e então usar o operador (+) pois queremos 1 ou mais espaços\n",
        "# por final substituimos por caracter vázio e limpamos nossa String\n",
        "result = re.sub(r'\\s+', '', string) \n",
        "print(result)"
      ],
      "execution_count": null,
      "outputs": [
        {
          "output_type": "stream",
          "text": [
            "ExercídiosExpressãoRegular\n"
          ],
          "name": "stdout"
        }
      ]
    },
    {
      "cell_type": "markdown",
      "metadata": {
        "id": "d0Hmo0vgE2Uj",
        "colab_type": "text"
      },
      "source": [
        "6. Escreva uma expressão para dividir uma string em letras maiúsculas"
      ]
    },
    {
      "cell_type": "code",
      "metadata": {
        "id": "ODUJ9cftE2Uk",
        "colab_type": "code",
        "colab": {}
      },
      "source": [
        "string = \"ExercídiosExpressãoRegularAA\""
      ],
      "execution_count": null,
      "outputs": []
    },
    {
      "cell_type": "code",
      "metadata": {
        "id": "tMJUMezGE2Up",
        "colab_type": "code",
        "colab": {
          "base_uri": "https://localhost:8080/",
          "height": 34
        },
        "outputId": "8fab020f-9639-4464-99e1-fab6e1b073fc"
      },
      "source": [
        "# Para retornar todas as ocorrencias de Somente os caracteres maiusculos usamos o\n",
        "# metodo FINDALL com o padrão RegExp: [A-Z] -> localizados de letras maiusculas e o\n",
        "# operados (+) pois queremos 1 ou mais letras maiusculas\n",
        "result = re.findall(r'[A-Z]+', string)\n",
        "print(result)"
      ],
      "execution_count": null,
      "outputs": [
        {
          "output_type": "stream",
          "text": [
            "['E', 'E', 'R', 'AA']\n"
          ],
          "name": "stdout"
        }
      ]
    },
    {
      "cell_type": "markdown",
      "metadata": {
        "id": "vhDy3v6dE2Us",
        "colab_type": "text"
      },
      "source": [
        "7. Escreva uma expressão regular para remover a área de parênteses em uma string\n",
        "\n",
        "\n",
        "- Amostra de Entrada: \n",
        "> * [\"example (.br)\", \"w3resource\", \"github (.com)\", \"stackoverflow (.com)\"] </br>\n",
        "* Saída Esperada: \n",
        "> * example\n",
        "> * w3resource\n",
        "> * github\n",
        "> * stackoverflow"
      ]
    },
    {
      "cell_type": "code",
      "metadata": {
        "id": "FPYMid0HE2Ut",
        "colab_type": "code",
        "colab": {}
      },
      "source": [
        "strings = [\"example (.br)\", \"w3resource\", \"github (.com)\", \"stackoverflow (.??)\"]"
      ],
      "execution_count": null,
      "outputs": []
    },
    {
      "cell_type": "code",
      "metadata": {
        "id": "qAcZMsWyE2Uz",
        "colab_type": "code",
        "colab": {
          "base_uri": "https://localhost:8080/",
          "height": 85
        },
        "outputId": "bb7c393c-b326-4eea-9139-4a7cb0c3d607"
      },
      "source": [
        "# Neste exercicio queremos encontrar apenas o texto da string que tem um certo padrão\n",
        "# como podemos ver, queremos encontrar a palavra até seu primeiro espaço usando \n",
        "# a RegExp ([^\\s]+) vai nos retornar um array de palavras sem os espaços \n",
        "# e como queremos apenas a primeira parte da string usamos a [0] posição 0 da lista gerada\n",
        "for s in strings: \n",
        "    print(re.findall(r'([^\\s]+)', s)[0])"
      ],
      "execution_count": null,
      "outputs": [
        {
          "output_type": "stream",
          "text": [
            "example\n",
            "w3resource\n",
            "github\n",
            "stackoverflow\n"
          ],
          "name": "stdout"
        }
      ]
    },
    {
      "cell_type": "markdown",
      "metadata": {
        "id": "806dfF6gE2U4",
        "colab_type": "text"
      },
      "source": [
        "8. Escreva um programa para quebrar um texto em sentenças"
      ]
    },
    {
      "cell_type": "code",
      "metadata": {
        "id": "gJrjbSJZE2U5",
        "colab_type": "code",
        "colab": {}
      },
      "source": [
        "string = \"Vamos encontrar Padrões nesta string!! Agora é a nossa primeira prática de NLP!! Vamos aprender a procurar padrões!! Belo Horizonte 2020.\""
      ],
      "execution_count": null,
      "outputs": []
    },
    {
      "cell_type": "code",
      "metadata": {
        "id": "gURnxE_hE2U_",
        "colab_type": "code",
        "colab": {
          "base_uri": "https://localhost:8080/",
          "height": 54
        },
        "outputId": "4d7eb0f4-eebc-41cc-b123-db3db2b5c841"
      },
      "source": [
        "\"\"\"\n",
        "Para este exercicio tivemos que achar o caractere que significa um fim de sentença\n",
        "então usamos a seguinte RegExp para encontrar seu padrão ' (?) ' -> isto representa \n",
        "nosso fim de sentença onde '(?)' pode ser qualquer pontuação\n",
        "usamos então \\. para capturar o ponto final, \\? para capturar um ponto de interrogação\n",
        "e o ! para termos nosso ponto de exclamação, ao encontrar este padrão de \n",
        "pontuação espaço ele quebra a linha ou espaço pontuação.\n",
        "\"\"\"\n",
        "print(re.split(r' *[\\.\\?!] *', string))"
      ],
      "execution_count": null,
      "outputs": [
        {
          "output_type": "stream",
          "text": [
            "['Vamos encontrar Padrões nesta string', '', 'Agora é a nossa primeira prática de NLP', '', 'Vamos aprender a procurar padrões', '', 'Belo Horizonte 2020', '']\n"
          ],
          "name": "stdout"
        }
      ]
    },
    {
      "cell_type": "markdown",
      "metadata": {
        "id": "zCmVDDmaE2VC",
        "colab_type": "text"
      },
      "source": [
        "9. Escreva um código para remover os zeros iniciais do IP 216.08.094.196"
      ]
    },
    {
      "cell_type": "code",
      "metadata": {
        "id": "FFWwhn1gE2VD",
        "colab_type": "code",
        "colab": {}
      },
      "source": [
        "ip = \"216.08.094.196\""
      ],
      "execution_count": null,
      "outputs": []
    },
    {
      "cell_type": "code",
      "metadata": {
        "id": "RfZkpPi8E2VG",
        "colab_type": "code",
        "colab": {
          "base_uri": "https://localhost:8080/",
          "height": 34
        },
        "outputId": "6445d44a-89ff-45f1-cb54-6aa10facbf8e"
      },
      "source": [
        "# Para resolucao deste exercicio devemos usar a RegExp \n",
        "# para eliminar os 0 a esquerda de um IP ou uma lista de IPs\n",
        "# usamos o padrão \\b da RegExp para encontrar o caracter '0' no começo \n",
        "# ou no fim da string, então usamos o + pois queremos de 1 a n zeros a esquerda\n",
        "# por fim usamos o \\B para dizer que não queremos olhar ao final da string \n",
        "# apenas no inicio e então substituimos por caracter vazio \n",
        "#\n",
        "print(re.sub(r'\\b0+\\B', '', ip))"
      ],
      "execution_count": null,
      "outputs": [
        {
          "output_type": "stream",
          "text": [
            "216.8.94.196\n"
          ],
          "name": "stdout"
        }
      ]
    },
    {
      "cell_type": "markdown",
      "metadata": {
        "id": "MjxxTNmyE2VI",
        "colab_type": "text"
      },
      "source": [
        "10. Recupere todos os \"Twitter\" do arquivo http://humanstxt.org/humans.txt\n",
        "\n",
        "Exemplo de como recuperar o texto dete arquivo web:\n",
        "\n",
        "```python\n",
        "import requests\n",
        "response = requests.get('http://humanstxt.org/humans.txt')\n",
        "print(response.text)\n",
        "```\n",
        "\n",
        "Imprima a quantidade de twitters e todos twitters encontrados."
      ]
    },
    {
      "cell_type": "code",
      "metadata": {
        "id": "6uYm4GRRE2VJ",
        "colab_type": "code",
        "colab": {
          "base_uri": "https://localhost:8080/",
          "height": 54
        },
        "outputId": "9d64a958-6b23-4548-96b1-cf8d350a80da"
      },
      "source": [
        "import requests\n",
        "response = requests.get('http://humanstxt.org/humans.txt')\n",
        "twitters = response.text\n",
        "## Ao fazer uma busca em um texto grande, devemos localizar primeiro seu padrão\n",
        "# o padrão do twitter, neste caso. é o @{palavra} então a seguinte RegExp consegue\n",
        "# nos ajudar, lembrando que uma RegExp para ser clean Code deve responder a pergunta\n",
        "# e não ser expecífica de mais, pois compromete qualquer evolução futura\n",
        "# (?<=^|(?<=[^a-zA-Z0-9-_\\.]))@([A-Za-z]+[A-Za-z0-9-_]+) -> dividindo em duas partes\n",
        "# a primeira exclui qualquer caracter que não seja um espaço antes de um '@' \n",
        "# e a segunda pega qualquer caracter depois do @ para construir nosso findAll\n",
        "# \n",
        "resp = re.findall(r'(?<=^|(?<=[^a-zA-Z0-9-_\\.]))@([A-Za-z]+[A-Za-z0-9-_]+)', twitters)\n",
        "print(len(resp), resp) # tamanho e twitters"
      ],
      "execution_count": null,
      "outputs": [
        {
          "output_type": "stream",
          "text": [
            "15 ['juanjobernabeu', 'maria_ux', 'oneeyedman', 'abelcabans', 'abelsutilo', 'prosciuttos', 'evaac', 'martuishere', 'alexey_bass', 'voldmar', 'rowdyrabouw', 'ichderfisch', 'krsiakdaniel', 'martuishere', 'htmlboy']\n"
          ],
          "name": "stdout"
        }
      ]
    },
    {
      "cell_type": "markdown",
      "metadata": {
        "id": "6sYrkoReE2VL",
        "colab_type": "text"
      },
      "source": [
        "# Técnicas de Pré-processamento"
      ]
    },
    {
      "cell_type": "code",
      "metadata": {
        "id": "bXbwa_tqE2VM",
        "colab_type": "code",
        "colab": {
          "base_uri": "https://localhost:8080/",
          "height": 289
        },
        "outputId": "2ab9eee2-97c3-4e81-e2b5-ecc7e655b1b2"
      },
      "source": [
        "import nltk\n",
        "import wikipedia\n",
        "import re\n",
        "import spacy\n",
        "from nltk.probability import FreqDist\n",
        "import pt_core_news_sm\n",
        "import en_core_web_sm\n",
        "nltk.download()"
      ],
      "execution_count": null,
      "outputs": [
        {
          "output_type": "stream",
          "text": [
            "NLTK Downloader\n",
            "---------------------------------------------------------------------------\n",
            "    d) Download   l) List    u) Update   c) Config   h) Help   q) Quit\n",
            "---------------------------------------------------------------------------\n",
            "Downloader> d\n",
            "\n",
            "Download which package (l=list; x=cancel)?\n",
            "  Identifier> rslp\n",
            "    Downloading package rslp to /root/nltk_data...\n",
            "      Unzipping stemmers/rslp.zip.\n",
            "\n",
            "---------------------------------------------------------------------------\n",
            "    d) Download   l) List    u) Update   c) Config   h) Help   q) Quit\n",
            "---------------------------------------------------------------------------\n",
            "Downloader> q\n"
          ],
          "name": "stdout"
        },
        {
          "output_type": "execute_result",
          "data": {
            "text/plain": [
              "True"
            ]
          },
          "metadata": {
            "tags": []
          },
          "execution_count": 190
        }
      ]
    },
    {
      "cell_type": "markdown",
      "metadata": {
        "id": "I9cCsfqcE2VP",
        "colab_type": "text"
      },
      "source": [
        "## Definindo o corpus\n",
        "\n",
        "Primeiramente, definimos o corpus que iremos trabalhar."
      ]
    },
    {
      "cell_type": "code",
      "metadata": {
        "id": "7EK3o5NME2VQ",
        "colab_type": "code",
        "colab": {}
      },
      "source": [
        "# Caso o pacote wikipedia não funcione:\n",
        "## Entre no link e faça downaload do arquivo https://drive.google.com/open?id=15R1jcugeM5SoGSPIPyG_6X6F3oMlxSBt\n",
        "## Depois leia com o comando abaixo\n",
        "#file = open(\"pln_wikipedia.txt\", 'r')\n",
        "#file_wiki = file.readlines()\n",
        "#file.close()\n",
        "#corpus = '\\n'.join(file_wiki)"
      ],
      "execution_count": null,
      "outputs": []
    },
    {
      "cell_type": "code",
      "metadata": {
        "id": "tm1Ar8uGE2VW",
        "colab_type": "code",
        "colab": {}
      },
      "source": [
        "wikipedia.set_lang(\"pt\")"
      ],
      "execution_count": null,
      "outputs": []
    },
    {
      "cell_type": "code",
      "metadata": {
        "id": "5d-E-QsJE2VZ",
        "colab_type": "code",
        "colab": {}
      },
      "source": [
        "pln = wikipedia.page(\"PLN\")"
      ],
      "execution_count": null,
      "outputs": []
    },
    {
      "cell_type": "code",
      "metadata": {
        "id": "rGXLthsFE2Vg",
        "colab_type": "code",
        "colab": {}
      },
      "source": [
        "corpus = pln.content"
      ],
      "execution_count": null,
      "outputs": []
    },
    {
      "cell_type": "code",
      "metadata": {
        "id": "vfjF9QFbE2Vj",
        "colab_type": "code",
        "colab": {
          "base_uri": "https://localhost:8080/",
          "height": 34
        },
        "outputId": "b5149fc1-a111-413b-82dc-b1344bee4d7a"
      },
      "source": [
        "print(\"O texto que estamos utilizando é da URL\",pln.url)"
      ],
      "execution_count": null,
      "outputs": [
        {
          "output_type": "stream",
          "text": [
            "O texto que estamos utilizando é da URL https://pt.wikipedia.org/wiki/Processamento_de_linguagem_natural\n"
          ],
          "name": "stdout"
        }
      ]
    },
    {
      "cell_type": "code",
      "metadata": {
        "id": "SdzdUIqAE2Vo",
        "colab_type": "code",
        "colab": {
          "base_uri": "https://localhost:8080/",
          "height": 1000
        },
        "outputId": "a7e66e60-f5e0-4c76-e433-3c112a3a0bce"
      },
      "source": [
        "print(pln.content)"
      ],
      "execution_count": null,
      "outputs": [
        {
          "output_type": "stream",
          "text": [
            "Processamento de língua natural (PLN) é uma subárea da ciência da computação, inteligência artificial e da linguística que estuda os problemas da geração e compreensão automática de línguas humanas naturais. Sistemas de geração de língua natural convertem informação de bancos de dados de computadores em linguagem compreensível ao ser humano e sistemas de compreensão de língua natural convertem ocorrências de linguagem humana em representações mais formais, mais facilmente manipuláveis por programas de computador. Alguns desafios do PLN são compreensão de língua natural, fazer com que computadores extraiam sentido de linguagem humana ou natural e geração de língua natural.\n",
            "\n",
            "\n",
            "== História ==\n",
            "A história do PLN começou na década de 1950, quando Alan Turing publicou o artigo \"Computing Machinery and Intelligence\", que propunha o que agora é chamado de teste de Turing como critério de inteligência.\n",
            "Em 1954, a experiência de Georgetown envolveu a tradução automática de mais de sessenta frases russas para o inglês. Os autores afirmaram que dentro de três ou cinco anos a tradução automática seria um problema resolvido. No entanto, os avanços reais foram muito mais lentos do que o previsto e, após o relatório ALPAC em 1966, que constatou que a pesquisa de dez anos não conseguiu satisfazer as expectativas, o financiamento para este estudo em tradução automática foi reduzido drasticamente. Poucas pesquisas em tradução automática foram conduzidas até o final dos anos 80, quando os primeiros sistemas estatísticos de tradução foram desenvolvidos.\n",
            "Alguns sistemas de PLN bem sucedidos desenvolvidos nos anos 60 foram SHRDLU, um sistema de língua natural que trabalhava em \"blocks worlds\" com vocabulário restrito e ELIZA, uma simulação de um psicoterapeuta escrita por Joseph Weizenbaum entre 1964 e 1966. Usando pouca informação sobre o pensamento ou a emoção humana, ELIZA criava, em alguns casos, interações surpreendentemente humanas. Quando o \"paciente\" excedia a base de conhecimento do programa, ELIZA fornecia uma resposta genérica, por exemplo, respondendo a \"Minha cabeça dói\" com \"Por que você diz que sua cabeça dói?\".\n",
            "Durante a década de 1970, muitos programadores começaram a escrever \"ontologias conceituais\", que estruturaram a informação do mundo real em dados compreensíveis por computadores. Exemplos são MARGIE (SCHANK, 1975), SAM (CULLINGFORD, 1978), PAM (WILENSKY, 1978), TaleSpin (MEEHAN, 1976), QUALM (LEHNERT, 1977), Politics (CARBONELL, 1979) e Plot Units (LEHNERT, 1981 ). Neste período, muitos chatterbots foram escritos, como PARRY, Racter e Jabberwacky.\n",
            "Até a década de 1980, a maioria dos sistemas de PLN se baseava em conjuntos complexos de regras manuscritas. A partir do final dos anos 1980, no entanto, houve uma revolução no PLN com a introdução de algoritmos de aprendizagem automática (aprendizado de máquina) para o processamento de linguagem. Isto foi devido tanto ao aumento constante do poder computacional (ver Lei de Moore) quanto à diminuição gradual da dominância das teorias da linguística chomskyanas (como a gramática gerativa), cujos fundamentos teóricos desestimularam o tipo de corpus linguístico que está subjacente à abordagem da aprendizagem automática ao processamento da linguagem.\n",
            "Alguns dos algoritmos de aprendizado de máquinas mais antigos, como as árvores de decisão, produziam sistemas de regras rígidas então semelhantes às regras existentes na escritas à mão. No entanto, a marcação de partes da fala (part-of-speech tagging) introduziu o uso de modelos ocultos de Markov para o PLN e, cada vez mais, a pesquisa se concentrava em modelos estatísticos, que tomam decisões suaves e probabilísticas baseadas na atribuição de pesos reais aos recursos que compõem dados de entrada. Os modelos de linguagem de cache, sobre os quais muitos sistemas de reconhecimento de fala agora dependem, são exemplos de tais modelos estatísticos. Esses modelos são geralmente mais robustos quando dados informações desconhecidas, especialmente entrada que contém erros (como é muito comum para dados do mundo real) e produzem resultados mais confiáveis quando integrados em sistemas maiores que compreendem múltiplas tarefas.\n",
            "Muitos dos sucessos iniciais notáveis ocorreram no campo da tradução automática, devido especialmente ao trabalho de pesquisa da IBM, que desenvolveu modelos estatísticos mais elaborados. Estes sistemas foram capazes de tirar proveito de corpora textuais multilíngues existentes  produzidos pelo Parlamento do Canadá e a União Europeia como resultado de leis que exigem a tradução de todos os processos governamentais em todas as línguas oficiais dos países. No entanto, a maioria dos sistemas dependia de corpora desenvolvido especificamente para tarefas implementadas por esses sistemas, o que era (e muitas vezes continua sendo) uma grande limitação no sucesso dos mesmo. Como resultado, uma grande quantidade de pesquisa passou de quantidades de dados limitadas a métodos de aprendizagem mais eficazes.\n",
            "Pesquisas recentes têm se concentrado cada vez mais em algoritmos de aprendizagem semi-supervisionados e sem supervisão. Esses algoritmos são capazes de aprender com dados que não foram anotados manualmente com as respostas desejadas ou usando uma combinação de dados anotados e não anotados. Geralmente, esta tarefa é muito mais trabalhosa do que a aprendizagem supervisionada e normalmente produz resultados menos precisos para uma quantidade específica de dados de entrada. No entanto, há uma enorme quantidade de dados não anotados disponíveis (incluindo, entre outras coisas, todo o conteúdo da World Wide Web), que muitas vezes pode compensar os resultados inferiores.\n",
            "\n",
            "\n",
            "== Usando a aprendizagem automática (aprendizado de máquina) ==\n",
            "Os algoritmos modernos de PLN baseiam-se na aprendizagem mecânica, especialmente na aprendizagem de máquinas estatísticas. O paradigma da aprendizagem mecânica é diferente do da maioria das tentativas anteriores de processamento da linguagem. Anteriormente, implementações de tarefas de processamento de linguagem envolviam a codificação direta de grandes conjuntos de regras. O paradigma da aprendizagem automática (ou aprendizagem automática) induz a aprendizagem automática de regras através de análises de corpora de exemplos típicos do mundo real ao invés de usar algoritmos gerais de aprendizagem (muitas vezes, embora nem sempre, baseados em inferência estatística). Um corpus (plural \"corpora\") é um conjunto de documentos (ou frases individuais) que foram anotados à mão com os valores corretos a serem aprendidos.\n",
            "Muitas classes diferentes de algoritmos de aprendizado de máquina foram aplicadas a tarefas de PLN. Esses algoritmos tomam como entrada um grande conjunto de \"recursos\" que são gerados a partir de dados de entrada.\n",
            "Alguns dos algoritmos mais usados, como árvores de decisão, produziam sistemas de regras rígidas semelhantes aos sistemas de regras manuscritas mais comuns. No entanto, cada vez mais, a pesquisa tem se concentrado em modelos estatísticos, que tomam decisões flexíveis e probabilísticas baseadas em agregar pesos reais a cada característica de entrada. Tais modelos têm a vantagem de poder expressar a certeza relativa de muitas respostas possíveis diferentes em vez de apenas uma, produzindo resultados mais confiáveis quando esse modelo é incluído como um componente de um sistema maior.\n",
            "Os sistemas baseados em algoritmos de aprendizagem mecânica têm muitas vantagens em relação às regras produzidas manualmente:\n",
            "\n",
            "Os procedimentos de aprendizagem usados durante a aprendizagem da máquina focam-se automaticamente nos casos mais comuns, ao passo que quando se escrevem regras à mão, não é óbvio em que sentido o esforço deve ser dirigido.\n",
            "Os procedimentos de aprendizagem automática podem fazer uso de algoritmos de inferência estatística para produzir modelos que são robustos a entradas não familiares (por exemplo, contendo palavras ou estruturas que não foram vistas antes) e a entradas errôneas (por exemplo, com palavras ou palavras incorretamente omitidas). Geralmente, lidar com essas entradas de forma com regras manuscritas ou sistemas de regras manuscritas que tomam decisões suaves é extremamente trabalhoso, propenso a erros e demorado.\n",
            "Sistemas baseados em aprender automaticamente as regras podem ser mais precisos simplesmente fornecendo mais dados de entrada. No entanto, os sistemas baseados em regras escritas à mão só podem ser tornados mais precisos aumentando a complexidade das regras, o que é uma tarefa muito mais difícil. Em particular, há um limite para a complexidade de sistemas baseados em regras artesanais, para além dos quais os sistemas se tornam cada vez mais incontroláveis. No entanto, a criação de mais dados para entrada em sistemas de aprendizado de máquina requer simplesmente um aumento correspondente no número de horas trabalhadas por humanos, geralmente sem aumentos significativos na complexidade do processo de anotação.O subcampo de PLN dedicado a abordagens de aprendizagem é conhecido como aprendizagem de língua natural (NLL) e sua conferência, a CoNLL, e orgão central, o SIGNLL, são patrocinados pela ACL, reconhecendo também as suas ligações com linguística computacional e aquisição de linguagem. Quando o objetivo da pesquisa de aprendizagem de linguagem computacional é entender mais sobre aquisição de linguagem humana, ou psicolinguística, a NLL sobrepõe-se no campo relacionado de psicolinguística computacional.\n",
            "\n",
            "\n",
            "== Aplicações principais ==\n",
            "A listagem a seguir traz alguns dos trabalhos mais pesquisadas em PLN. Note que alguns deles têm aplicações no mundo real, enquanto outras servem mais frequentemente como tarefas secundárias que são usadas para auxiliar na resolução de tarefas maiores. O que distingue essas tarefas de outras tarefas potenciais e reais de PLN não é apenas o volume de pesquisa dedicado a elas, mas o fato de que para cada uma há tipicamente uma definição de problema bem especificada, uma métrica padrão para avaliar a tarefa, corpora padrão em que a tarefa pode ser avaliada e as competições dedicadas à tarefa específica.\n",
            "Sumarização automática\n",
            "\n",
            "Produz um resumo legível de uma parte do texto. Muitas vezes usado para fornecer resumos de texto de um tipo conhecido, como artigos na seção financeira de um jornal.Resolução de correferência\n",
            "\n",
            "Dada uma frase ou um pedaço maior de texto, determina quais palavras (\"menções\") se referem aos mesmos objetos (\"entidades\"). A resolução da anáfora é um exemplo específico dessa tarefa e está especificamente preocupada em combinar os pronomes com os substantivos ou nomes aos quais eles se referem. A tarefa mais geral da resolução de correferência também inclui a identificação dos chamados \"relacionamentos de ponte\" envolvendo expressões de referência. Por exemplo, numa frase como \"Ele entrou na casa de João pela porta da frente\", \"a porta da frente\" é uma expressão de referência e a relação da ponte a ser identificada é o fato de que a porta a ser referida é a porta da frente de John's (ao invés de alguma outra estrutura que também pode ser referida).Análise do Discurso\n",
            "\n",
            "Esta rubrica inclui uma série de tarefas relacionadas. Uma tarefa é identificar a estrutura discursiva do texto conectado, isto é, a natureza das relações discursivas entre sentenças (por exemplo, elaboração, explicação, contraste). Outra possível tarefa é reconhecer e classificar os atos de fala em um pedaço de texto (por exemplo, pergunta sim-não, pergunta de conteúdo, frase, afirmação, etc).Maquina de tradução\n",
            "\n",
            "Traduzir automaticamente texto de uma linguagem humana para outra. Este é uma das tarefas mais difíceis e faz parte de um tipo de problemas conhecidos como \"AI-complete\", ou seja, exigindo todos os diferentes tipos de conhecimento que os humanos possuem (gramática, semântica, fatos sobre o mundo real, etc) para resolvê-lo adequadamente.Segmentação morfológica\n",
            "\n",
            "Separa palavras em morfemas individuais e identifica classes de morfemas. A dificuldade desta tarefa depende muito da complexidade da morfologia (isto é, da estrutura das palavras) da linguagem que está sendo considerada. O inglês possui uma morfologia bastante simples, especialmente a morfologia flexional, e portanto é possível ignorar esta tarefa inteiramente e simplesmente modelar todas as formas possíveis de uma palavra (por exemplo, \"open, opens, opened, opening\") como palavras separadas. Em línguas como o turco ou o Meitei, uma língua indiana fortemente aglutinada, no entanto, tal abordagem não é possível, uma vez que cada entrada do dicionário tem milhares de formas de palavras possíveis.Reconhecimento de entidade nomeada (NER)\n",
            "\n",
            "Dado um fluxo de texto, determina quais são itens no mapa de texto para nomes próprios, como pessoas ou locais e qual é o tipo de cada nome (por exemplo, pessoa, local, organização). Embora a capitalização possa ajudar a reconhecer entidades nomeadas em idiomas como o inglês, essas informações podem não ajudar a determinar o tipo de entidade nomeada e, em alguns casos, sãos imprecisas ou insuficientes. Por exemplo, a primeira palavra de uma frase também é capitalizada e as entidades nomeadas muitas vezes abrangem várias palavras, com apenas algumas delas são capitalizadas. Além disso, muitas outras linguagens em scripts não-ocidentais (por exemplo, chinês ou árabe) não têm nenhuma capitalização e mesmo as línguas com maiúsculas podem não distinguir nomes. Por exemplo, o alemão capitaliza todos os substantivos, independentemente de se referirem a nomes, e o francês e o espanhol não capitalizam nomes que servem como adjetivos.Geração de língua natural\n",
            "\n",
            "Converte informações de bancos de dados de computador ou intenções semânticas em linguagem humana legível.Compreensão da língua natural\n",
            "\n",
            "Converte pedaços de texto em representações mais formais, como estruturas de lógica de primeira ordem, que são mais fáceis de manipular pelos programas de computador. A compreensão da língua natural envolve a identificação da semântica pretendida a partir da múltipla semântica possível que pode ser derivada de uma expressão de língua natural que geralmente toma a forma de notação organizada de conceitos de linguagens naturais. Entretanto, introdução e criação de linguagem metamodelo e ontologia são eficientes soluções empíricas. Uma formalização explícita da semântica de línguas naturais sem confusões com suposições implícitas como closed-world assumption (CWA) versus open-world assumption ou subjetiva Sim / Não versus objetivo Verdadeiro / Falso é esperada para a construção de uma base de formalização semântica.Reconhecimento óptico de caracteres (OCR)\n",
            "\n",
            "Dada uma imagem que representa o texto impresso, determina o texto correspondente.Marcação de classe gramatical\n",
            "\n",
            "Dada uma sentença, determina a classe gramatical de cada palavra. Muitas palavras, especialmente as comuns, podem servir como múltiplas partes do discurso. Em inglês, por exemplo, \"book\" pode ser um substantivo (\"the book on the table\") ou verbo (\"book a flight\"); \"Set\" pode ser um substantivo, verbo ou adjetivo; E \"out\" pode ser qualquer um de pelo menos cinco diferentes partes da fala. Algumas línguas têm mais ambiguidade do que outras. As línguas com pouca morfologia flexional, como o inglês, são particularmente propensas a tal ambiguidade. O chinês é propenso a tal ambiguidade porque é uma língua tonal durante a verbalização. Tal inflexão não é facilmente transmitida através das entidades empregadas dentro da ortografia para transmitir o significado pretendido.Análise sintática (Parsing)\n",
            "\n",
            "Determina a árvore de análise (análise gramatical) de uma frase. A gramática para as linguagens naturais é ambígua e frases típicas têm múltiplas análises possíveis. Na verdade, surpreendentemente, para uma frase típica pode haver milhares de análises em potencial (a maioria dos quais parecerá completamente absurda para um ser humano).Respostas a perguntas\n",
            "\n",
            "Dada uma questão de linguagem humana, determina sua resposta. As perguntas típicas têm uma resposta correta específica (como \"Qual é o capital do Canadá?\"), mas às vezes perguntas abertas também são consideradas (como \"Qual é o significado da vida?\"). Trabalhos recentes têm analisado questões ainda mais complexas.Extração de relacionamento\n",
            "\n",
            "Identifica as relações entre entidades nomeadas (por exemplo, quem é casado com quem) com base em textos.Quebra de frases (sentence boundary disambiguation)\n",
            "\n",
            "Encontra os limites da frase em um pedaço de texto. Os limites de frases são normalmente marcadas por pontos ou outros sinais de pontuação, mas esses mesmos caracteres podem servir outros propósitos.Análise de subjetividade (sentiment analysis ou opinion mining)\n",
            "\n",
            "Extrai informações subjetivas geralmente de um conjunto de documentos, muitas vezes usando revisões online para determinar a \"polaridade\" sobre objetos específicos. É especialmente útil para identificar tendências da opinião pública nas mídias sociais, para fins de marketing.Reconhecimento de fala\n",
            "\n",
            "Dado um clipe de som de uma pessoa ou pessoas falando, determina a representação textual do discurso. É o oposto da síntese de fala e é uma das áreas mais difíceis, conhecida como \"AI-complete\". Na fala natural quase não há pausas entre palavras sucessivas, por isso a segmentação de fala é uma subtarefa necessária de reconhecimento de fala. Nota-se também que, na maioria das linguagens faladas, os sons que representam letras sucessivas se misturam entre si em um processo denominado coarticulação, de modo que a conversão do sinal analógico em caracteres discretos pode ser um processo muito difícil de ser realizado.Segmentação de fala\n",
            "\n",
            "Dado um clipe de som de uma pessoa ou pessoas falando, separa-o em palavras. Uma subaplicação de reconhecimento de fala e normalmente agrupada com ele.Análise morfológica e reconhecimento de tópicos\n",
            "\n",
            "Dado um pedaço de texto, separa-o em segmentos cada um dos quais é dedicado a um tópico e identifica o tópico do segmento.Análise morfológica e segmentação de palavras\n",
            "\n",
            "Separa um pedaço de texto contínuo em palavras separadas. Para uma língua como o inglês, isso é bastante trivial, uma vez que as palavras são normalmente separadas por espaços. No entanto, algumas línguas escritas como chinês, japonês e tailandês não marcam limites de palavras de tal forma, e nessas línguas segmentação de texto é uma tarefa significativa que requer conhecimento do vocabulário e morfologia das palavras na língua.Desambiguação\n",
            "\n",
            "Muitas palavras têm mais de um significado, assim temos que selecionar o significado que faz mais sentido no contexto. Para este problema, em geral é dada uma lista de palavras e sentidos de palavras associadas de um dicionário ou recurso online, como o WordNet.\n",
            "Em alguns casos, conjuntos de tarefas relacionadas são agrupados em subcampos de PLN que são frequentemente considerados separadamente da PLN como um todo, como os exemplos à seguir:Recuperação de informação (IR)\n",
            "\n",
            "Trata-se de armazenar, pesquisar e recuperar informações. É um campo separado dentro da ciência da computação (mais perto de bancos de dados), mas a IR se baseia em alguns métodos PLN (por exemplo, stemming). Algumas pesquisas e aplicações atuais procuram preencher a lacuna entre IR e PLN.Extração de informação (IE)\n",
            "\n",
            "Trata-se, em geral, da extração de informação semântica a partir do texto. Abrange tarefas como reconhecimento de entidade mencionada, resolução de correferência e de relacionamento de extração, etc.\n",
            "Processamento de voz  Abrange reconhecimento de fala, síntese de fala e tarefas relacionadas.\n",
            "Outras tarefas incluem:\n",
            "Identificação na língua materna\n",
            "Stemização\n",
            "Simplificação do texto\n",
            "Síntese de fala\n",
            "Revisão de texto\n",
            "Pesquisa em língua natural\n",
            "Expansão da consulta\n",
            "Pontuação de ensaio automatizado\n",
            "Truecasing\n",
            "\n",
            "\n",
            "== Estatística ==\n",
            "Artigo principal: Gramática estocástica\n",
            "O processamento estatístico em língua natural utiliza métodos estocásticos, probabilísticos e estatísticos para resolver algumas das dificuldades discutidas acima, especialmente aquelas que surgem porque frases mais longas são muito ambíguas quando processadas com gramáticas realistas, produzindo milhares ou milhões de análises possíveis. Métodos de desambiguação envolvem muitas vezes o uso de corpora e modelos de Markov. O projeto ESPRIT P26 (1984-1988), liderado pelo CSELT, explorou o problema do reconhecimento de fala comparando abordagem baseada em conhecimento e estatística: o resultado escolhido foi um modelo completamente estatístico. Um dos primeiros modelos de compreensão estatística da língua natural foi introduzido em 1991 por Roberto Pieraccini, Esther Levin e Chin-Hui Lee, da Bell Laboratories]. O PLN compreende todas as abordagens quantitativas para processamento automatizado de linguagem, incluindo modelagem probabilística, teoria da informação e álgebra linear. A tecnologia para o PLN estatístico vem principalmente da aprendizagem automática e da mineração de dados, que são campos de inteligência artificial que envolvem o aprendizado a partir de dados.\n",
            "\n",
            "\n",
            "== Avaliação ==\n",
            "O objetivo da avaliação do PLN é uma medida de uma ou mais qualidades de um algoritmo ou de um sistema a fim de determinar se o algoritmo atende às metas dos projetistas ou o sistema de atendimento às necessidades de seus usuários. Investigação na avaliação PLN  tem ganhado atenção, porque a definição de critérios de avaliação é uma forma de especificar precisamente problemas do PLN. Uma métrica de avaliação de PLN em um sistema algorítmico permite a integração da compreensão de linguagem e geração de linguagem. Um conjunto preciso de critérios de avaliação, que pode ser aplicado principalmente a avaliações métricas, podendo permitir que várias equipes comparem suas soluções para um determinado problema do PLN.\n",
            "\n",
            "\n",
            "== Cronologia da avaliação ==\n",
            "Em 1983, iniciou-se o Projecto Esprit P26, que avaliou as Tecnologias da Fala (incluindo tópicos gerais como Sintaxe e Semântica) comparando as abordagens baseadas em regras com as estatísticas.\n",
            "Em 1987, a primeira campanha de avaliação de textos escritos parece ser uma campanha dedicada à compreensão da mensagem (Pallet, 1998).\n",
            "O projeto Parseval / GEIG comparou gramáticas de frase-estrutura (Black 1991).\n",
            "Houve uma série de campanhas no projeto Tipster sobre tarefas como resumo, tradução e pesquisa (Hirschman 1998).\n",
            "Em 1994, na Alemanha, o Morpholympics comparou marcadores morfológicos alemães.\n",
            "As campanhas de Senseval & Romanseval foram realizadas com os objetivos de desambiguação semântica.\n",
            "Em 1996, a campanha Sparkle comparou os analisadores sintáticos em quatro idiomas diferentes (inglês, francês, alemão e italiano).\n",
            "Na França, o projeto Grace comparou um conjunto de 21 marcadores para o francês em 1997 (Adda 1999).\n",
            "Em 2004, durante o projeto Technolangue / Easy, foram comparados 13 analisadores para o francês.\n",
            "A avaliação em larga escala dos analisadores de dependência foi realizada no contexto das tarefas compartilhadas do CoNLL em 2006 e 2007.\n",
            "Na França, no âmbito do projecto ANR-Passage (final de 2007), foram comparados 10 analisadores para o francês.\n",
            "Em Itália, a campanha EVALITA foi realizada em 2007, 2009, 2011 e 2014 para comparar várias ferramentas de PLN e de voz para o site italiano - EVALITA.\n",
            "\n",
            "\n",
            "== Diferentes tipos de avaliação ==\n",
            "Avaliação intrínseca vs. extrínseca\n",
            "A avaliação intrínseca considera um sistema PNL isolado e caracteriza seu desempenho em relação a um resultado padrão-excelência, conforme definido pelos avaliadores. A avaliação extrínseca, também chamada de avaliação em uso, considera o sistema PLN em um cenário mais complexo como um sistema embutido ou uma função precisa para um usuário humano. O desempenho extrínseco do sistema é então caracterizado em termos de utilidade em relação à tarefa global do sistema estranho ou do utilizador humano. Por exemplo, considere um analisador sintático que é baseado na saída de alguma parte do tagger de fala (POS). Uma avaliação intrínseca executaria o marcador POS em dados estruturados e compararia a saída do sistema do marcador POS com a saída padrão ouro. Uma avaliação extrínseca executaria o analisador com algum outro marcador POS e, em seguida, com o marcador POS novo e compara a precisão de análise.\n",
            "Caixa preta vs. Avaliação da caixa de vidro\n",
            "A avaliação em caixa preta requer que alguém execute um sistema PLN em um conjunto de dados de amostra e para medir uma série de parâmetros relacionados com a qualidade do processo, como velocidade, confiabilidade, consumo de recursos e, principalmente, a qualidade do resultado, como a precisão da anotação de dados ou a fidelidade de uma tradução. A avaliação da caixa de vidro examina a concepção do sistema; Os algoritmos que são implementados, os recursos linguísticos que utiliza, como o tamanho do vocabulário ou a expressão definida de cardinalidade. Dada a complexidade dos problemas da PLN, muitas vezes é difícil prever o desempenho apenas com base na avaliação da caixa de vidro; Mas este tipo de avaliação é mais informativo no que diz respeito à análise de erros ou desenvolvimentos futuros de um sistema.\n",
            "Automática vs. avaliação manual\n",
            "Em muitos casos, procedimentos automáticos podem ser definidos para avaliar um sistema de PLN, comparando sua saída com o padrão de excelência. Embora o custo de reproduzir o padrão de excelência possa ser bastante elevado, avaliação automática de bootstrapping sobre os mesmos dados de entrada pode ser repetida quantas vezes for necessário sem custos adicionais desordenados. No entanto, para muitos problemas de PLN a definição precisa de um padrão de excelência é uma tarefa complexa e pode se revelar impossível quando o acordo inter-anotador é insuficiente. A avaliação manual é melhor realizada por juízes humanos instruídos para estimar a qualidade de um sistema, ou mais frequentemente de uma amostra de sua produção, com base em uma série de critérios. Embora, graças à sua competência linguística, os juízes humanos possam ser considerados como a referência para uma série de tarefas de processamento de linguagem, há também uma variação considerável em suas classificações. É por isso que a avaliação automática é, por vezes, referida como avaliação objetiva enquanto a avaliação humana é perspectiva.\n",
            "\n",
            "\n",
            "== Padronização ==\n",
            "Um subcomitê ISO está trabalhando para facilitar a interoperabilidade entre recursos lexicais e programas PLN. O subcomitê faz parte do ISO / TC37 e é chamado ISO / TC37 / SC4. Alguns padrões ISO já estão publicados, mas a maioria deles está em construção, principalmente na representação de léxico (ver LMF), anotação e registro de categoria de dados.\n",
            "\n",
            "\n",
            "== Ferramentas ==\n",
            "Expert System S.p.A.\n",
            "General Architecture for Text Engineering\n",
            "Modular Audio Recognition Framework\n",
            "Natural Language Toolkit (NLTK): uma biblioteca em Python\n",
            "OpenNLP\n",
            "\n",
            "\n",
            "== Veja também ==\n",
            "Mineração de texto biomédica\n",
            "Processo de processamento composto\n",
            "Revisão assistida por computador\n",
            "Linguagem natural controlada\n",
            "Processamento linguístico profundo\n",
            "Auxílio à leitura de línguas estrangeiras\n",
            "Auxílio à escrita em língua estrangeira\n",
            "Tecnologia da linguagem\n",
            "A alocação de Dirichlet Latente (LDA)\n",
            "Indexação semântica latente\n",
            "Lista de ferramentas de processamento de língua natural\n",
            "Mapa de LRE\n",
            "Programação em língua natural\n",
            "Reificação (linguística)\n",
            "Dobradura semântica\n",
            "Sistema de diálogo falado\n",
            "Vetor do Pensamento\n",
            "Pesquisa Transderivacional\n",
            "Word2vec\n",
            "\n",
            "\n",
            "== Referências ==\n",
            "\n",
            "\n",
            "== Leitura adicional ==\n",
            "Steven Bird, Ewan Klein, and Edward Loper (2009). Natural Language Processing with Python. O'Reilly Media. ISBN 978-0-596-51649-9.\n",
            "Daniel Jurafsky and James H. Martin (2008). Speech and Language Processing, 2nd edition. Pearson Prentice Hall. ISBN 978-0-13-187321-6.\n",
            "Christopher D. Manning, Prabhakar Raghavan, and Hinrich Schütze (2008). Introduction to Information Retrieval. Cambridge University Press. ISBN 978-0-521-86571-5. Official html and pdf versions available without charge.\n",
            "Christopher D. Manning and Hinrich Schütze (1999). Foundations of Statistical Natural Language Processing. The MIT Press. ISBN 978-0-262-13360-9.\n",
            "David M. W. Powers and Christopher C. R. Turk (1989). Machine Learning of Natural Language. Springer-Verlag. ISBN 978-0-387-19557-5.\n"
          ],
          "name": "stdout"
        }
      ]
    },
    {
      "cell_type": "markdown",
      "metadata": {
        "id": "Wv23KoPjE2Vr",
        "colab_type": "text"
      },
      "source": [
        "## Tokenização\n",
        "\n",
        "Existem várias formas de realizar tokenização. \n",
        "1. Split()\n",
        "2. Regex\n",
        "3. NLTK\n",
        "4. ..."
      ]
    },
    {
      "cell_type": "markdown",
      "metadata": {
        "id": "IrmQXE3jE2Vt",
        "colab_type": "text"
      },
      "source": [
        "### Split\n",
        "\n",
        "Faça utilizando o método abaixo\n",
        "<b> Não esqueça de armazenar o resultado na variável abaixo. </b>\n",
        "\n",
        "```python\n",
        "str.split()\n",
        "```"
      ]
    },
    {
      "cell_type": "code",
      "metadata": {
        "id": "Q5wYhcXRE2Vv",
        "colab_type": "code",
        "colab": {}
      },
      "source": [
        "corpus = pln.content\n",
        "tokens_split = corpus.split()"
      ],
      "execution_count": null,
      "outputs": []
    },
    {
      "cell_type": "code",
      "metadata": {
        "id": "3bdDnMyGE2Vz",
        "colab_type": "code",
        "colab": {
          "base_uri": "https://localhost:8080/",
          "height": 54
        },
        "outputId": "60288de0-d0f7-40e8-e8c7-66f7a234d2db"
      },
      "source": [
        "#problema do split é que ele não separa as pontuações.\n",
        "print(tokens_split)"
      ],
      "execution_count": null,
      "outputs": [
        {
          "output_type": "stream",
          "text": [
            "['Processamento', 'de', 'língua', 'natural', '(PLN)', 'é', 'uma', 'subárea', 'da', 'ciência', 'da', 'computação,', 'inteligência', 'artificial', 'e', 'da', 'linguística', 'que', 'estuda', 'os', 'problemas', 'da', 'geração', 'e', 'compreensão', 'automática', 'de', 'línguas', 'humanas', 'naturais.', 'Sistemas', 'de', 'geração', 'de', 'língua', 'natural', 'convertem', 'informação', 'de', 'bancos', 'de', 'dados', 'de', 'computadores', 'em', 'linguagem', 'compreensível', 'ao', 'ser', 'humano', 'e', 'sistemas', 'de', 'compreensão', 'de', 'língua', 'natural', 'convertem', 'ocorrências', 'de', 'linguagem', 'humana', 'em', 'representações', 'mais', 'formais,', 'mais', 'facilmente', 'manipuláveis', 'por', 'programas', 'de', 'computador.', 'Alguns', 'desafios', 'do', 'PLN', 'são', 'compreensão', 'de', 'língua', 'natural,', 'fazer', 'com', 'que', 'computadores', 'extraiam', 'sentido', 'de', 'linguagem', 'humana', 'ou', 'natural', 'e', 'geração', 'de', 'língua', 'natural.', '==', 'História', '==', 'A', 'história', 'do', 'PLN', 'começou', 'na', 'década', 'de', '1950,', 'quando', 'Alan', 'Turing', 'publicou', 'o', 'artigo', '\"Computing', 'Machinery', 'and', 'Intelligence\",', 'que', 'propunha', 'o', 'que', 'agora', 'é', 'chamado', 'de', 'teste', 'de', 'Turing', 'como', 'critério', 'de', 'inteligência.', 'Em', '1954,', 'a', 'experiência', 'de', 'Georgetown', 'envolveu', 'a', 'tradução', 'automática', 'de', 'mais', 'de', 'sessenta', 'frases', 'russas', 'para', 'o', 'inglês.', 'Os', 'autores', 'afirmaram', 'que', 'dentro', 'de', 'três', 'ou', 'cinco', 'anos', 'a', 'tradução', 'automática', 'seria', 'um', 'problema', 'resolvido.', 'No', 'entanto,', 'os', 'avanços', 'reais', 'foram', 'muito', 'mais', 'lentos', 'do', 'que', 'o', 'previsto', 'e,', 'após', 'o', 'relatório', 'ALPAC', 'em', '1966,', 'que', 'constatou', 'que', 'a', 'pesquisa', 'de', 'dez', 'anos', 'não', 'conseguiu', 'satisfazer', 'as', 'expectativas,', 'o', 'financiamento', 'para', 'este', 'estudo', 'em', 'tradução', 'automática', 'foi', 'reduzido', 'drasticamente.', 'Poucas', 'pesquisas', 'em', 'tradução', 'automática', 'foram', 'conduzidas', 'até', 'o', 'final', 'dos', 'anos', '80,', 'quando', 'os', 'primeiros', 'sistemas', 'estatísticos', 'de', 'tradução', 'foram', 'desenvolvidos.', 'Alguns', 'sistemas', 'de', 'PLN', 'bem', 'sucedidos', 'desenvolvidos', 'nos', 'anos', '60', 'foram', 'SHRDLU,', 'um', 'sistema', 'de', 'língua', 'natural', 'que', 'trabalhava', 'em', '\"blocks', 'worlds\"', 'com', 'vocabulário', 'restrito', 'e', 'ELIZA,', 'uma', 'simulação', 'de', 'um', 'psicoterapeuta', 'escrita', 'por', 'Joseph', 'Weizenbaum', 'entre', '1964', 'e', '1966.', 'Usando', 'pouca', 'informação', 'sobre', 'o', 'pensamento', 'ou', 'a', 'emoção', 'humana,', 'ELIZA', 'criava,', 'em', 'alguns', 'casos,', 'interações', 'surpreendentemente', 'humanas.', 'Quando', 'o', '\"paciente\"', 'excedia', 'a', 'base', 'de', 'conhecimento', 'do', 'programa,', 'ELIZA', 'fornecia', 'uma', 'resposta', 'genérica,', 'por', 'exemplo,', 'respondendo', 'a', '\"Minha', 'cabeça', 'dói\"', 'com', '\"Por', 'que', 'você', 'diz', 'que', 'sua', 'cabeça', 'dói?\".', 'Durante', 'a', 'década', 'de', '1970,', 'muitos', 'programadores', 'começaram', 'a', 'escrever', '\"ontologias', 'conceituais\",', 'que', 'estruturaram', 'a', 'informação', 'do', 'mundo', 'real', 'em', 'dados', 'compreensíveis', 'por', 'computadores.', 'Exemplos', 'são', 'MARGIE', '(SCHANK,', '1975),', 'SAM', '(CULLINGFORD,', '1978),', 'PAM', '(WILENSKY,', '1978),', 'TaleSpin', '(MEEHAN,', '1976),', 'QUALM', '(LEHNERT,', '1977),', 'Politics', '(CARBONELL,', '1979)', 'e', 'Plot', 'Units', '(LEHNERT,', '1981', ').', 'Neste', 'período,', 'muitos', 'chatterbots', 'foram', 'escritos,', 'como', 'PARRY,', 'Racter', 'e', 'Jabberwacky.', 'Até', 'a', 'década', 'de', '1980,', 'a', 'maioria', 'dos', 'sistemas', 'de', 'PLN', 'se', 'baseava', 'em', 'conjuntos', 'complexos', 'de', 'regras', 'manuscritas.', 'A', 'partir', 'do', 'final', 'dos', 'anos', '1980,', 'no', 'entanto,', 'houve', 'uma', 'revolução', 'no', 'PLN', 'com', 'a', 'introdução', 'de', 'algoritmos', 'de', 'aprendizagem', 'automática', '(aprendizado', 'de', 'máquina)', 'para', 'o', 'processamento', 'de', 'linguagem.', 'Isto', 'foi', 'devido', 'tanto', 'ao', 'aumento', 'constante', 'do', 'poder', 'computacional', '(ver', 'Lei', 'de', 'Moore)', 'quanto', 'à', 'diminuição', 'gradual', 'da', 'dominância', 'das', 'teorias', 'da', 'linguística', 'chomskyanas', '(como', 'a', 'gramática', 'gerativa),', 'cujos', 'fundamentos', 'teóricos', 'desestimularam', 'o', 'tipo', 'de', 'corpus', 'linguístico', 'que', 'está', 'subjacente', 'à', 'abordagem', 'da', 'aprendizagem', 'automática', 'ao', 'processamento', 'da', 'linguagem.', 'Alguns', 'dos', 'algoritmos', 'de', 'aprendizado', 'de', 'máquinas', 'mais', 'antigos,', 'como', 'as', 'árvores', 'de', 'decisão,', 'produziam', 'sistemas', 'de', 'regras', 'rígidas', 'então', 'semelhantes', 'às', 'regras', 'existentes', 'na', 'escritas', 'à', 'mão.', 'No', 'entanto,', 'a', 'marcação', 'de', 'partes', 'da', 'fala', '(part-of-speech', 'tagging)', 'introduziu', 'o', 'uso', 'de', 'modelos', 'ocultos', 'de', 'Markov', 'para', 'o', 'PLN', 'e,', 'cada', 'vez', 'mais,', 'a', 'pesquisa', 'se', 'concentrava', 'em', 'modelos', 'estatísticos,', 'que', 'tomam', 'decisões', 'suaves', 'e', 'probabilísticas', 'baseadas', 'na', 'atribuição', 'de', 'pesos', 'reais', 'aos', 'recursos', 'que', 'compõem', 'dados', 'de', 'entrada.', 'Os', 'modelos', 'de', 'linguagem', 'de', 'cache,', 'sobre', 'os', 'quais', 'muitos', 'sistemas', 'de', 'reconhecimento', 'de', 'fala', 'agora', 'dependem,', 'são', 'exemplos', 'de', 'tais', 'modelos', 'estatísticos.', 'Esses', 'modelos', 'são', 'geralmente', 'mais', 'robustos', 'quando', 'dados', 'informações', 'desconhecidas,', 'especialmente', 'entrada', 'que', 'contém', 'erros', '(como', 'é', 'muito', 'comum', 'para', 'dados', 'do', 'mundo', 'real)', 'e', 'produzem', 'resultados', 'mais', 'confiáveis', 'quando', 'integrados', 'em', 'sistemas', 'maiores', 'que', 'compreendem', 'múltiplas', 'tarefas.', 'Muitos', 'dos', 'sucessos', 'iniciais', 'notáveis', 'ocorreram', 'no', 'campo', 'da', 'tradução', 'automática,', 'devido', 'especialmente', 'ao', 'trabalho', 'de', 'pesquisa', 'da', 'IBM,', 'que', 'desenvolveu', 'modelos', 'estatísticos', 'mais', 'elaborados.', 'Estes', 'sistemas', 'foram', 'capazes', 'de', 'tirar', 'proveito', 'de', 'corpora', 'textuais', 'multilíngues', 'existentes', 'produzidos', 'pelo', 'Parlamento', 'do', 'Canadá', 'e', 'a', 'União', 'Europeia', 'como', 'resultado', 'de', 'leis', 'que', 'exigem', 'a', 'tradução', 'de', 'todos', 'os', 'processos', 'governamentais', 'em', 'todas', 'as', 'línguas', 'oficiais', 'dos', 'países.', 'No', 'entanto,', 'a', 'maioria', 'dos', 'sistemas', 'dependia', 'de', 'corpora', 'desenvolvido', 'especificamente', 'para', 'tarefas', 'implementadas', 'por', 'esses', 'sistemas,', 'o', 'que', 'era', '(e', 'muitas', 'vezes', 'continua', 'sendo)', 'uma', 'grande', 'limitação', 'no', 'sucesso', 'dos', 'mesmo.', 'Como', 'resultado,', 'uma', 'grande', 'quantidade', 'de', 'pesquisa', 'passou', 'de', 'quantidades', 'de', 'dados', 'limitadas', 'a', 'métodos', 'de', 'aprendizagem', 'mais', 'eficazes.', 'Pesquisas', 'recentes', 'têm', 'se', 'concentrado', 'cada', 'vez', 'mais', 'em', 'algoritmos', 'de', 'aprendizagem', 'semi-supervisionados', 'e', 'sem', 'supervisão.', 'Esses', 'algoritmos', 'são', 'capazes', 'de', 'aprender', 'com', 'dados', 'que', 'não', 'foram', 'anotados', 'manualmente', 'com', 'as', 'respostas', 'desejadas', 'ou', 'usando', 'uma', 'combinação', 'de', 'dados', 'anotados', 'e', 'não', 'anotados.', 'Geralmente,', 'esta', 'tarefa', 'é', 'muito', 'mais', 'trabalhosa', 'do', 'que', 'a', 'aprendizagem', 'supervisionada', 'e', 'normalmente', 'produz', 'resultados', 'menos', 'precisos', 'para', 'uma', 'quantidade', 'específica', 'de', 'dados', 'de', 'entrada.', 'No', 'entanto,', 'há', 'uma', 'enorme', 'quantidade', 'de', 'dados', 'não', 'anotados', 'disponíveis', '(incluindo,', 'entre', 'outras', 'coisas,', 'todo', 'o', 'conteúdo', 'da', 'World', 'Wide', 'Web),', 'que', 'muitas', 'vezes', 'pode', 'compensar', 'os', 'resultados', 'inferiores.', '==', 'Usando', 'a', 'aprendizagem', 'automática', '(aprendizado', 'de', 'máquina)', '==', 'Os', 'algoritmos', 'modernos', 'de', 'PLN', 'baseiam-se', 'na', 'aprendizagem', 'mecânica,', 'especialmente', 'na', 'aprendizagem', 'de', 'máquinas', 'estatísticas.', 'O', 'paradigma', 'da', 'aprendizagem', 'mecânica', 'é', 'diferente', 'do', 'da', 'maioria', 'das', 'tentativas', 'anteriores', 'de', 'processamento', 'da', 'linguagem.', 'Anteriormente,', 'implementações', 'de', 'tarefas', 'de', 'processamento', 'de', 'linguagem', 'envolviam', 'a', 'codificação', 'direta', 'de', 'grandes', 'conjuntos', 'de', 'regras.', 'O', 'paradigma', 'da', 'aprendizagem', 'automática', '(ou', 'aprendizagem', 'automática)', 'induz', 'a', 'aprendizagem', 'automática', 'de', 'regras', 'através', 'de', 'análises', 'de', 'corpora', 'de', 'exemplos', 'típicos', 'do', 'mundo', 'real', 'ao', 'invés', 'de', 'usar', 'algoritmos', 'gerais', 'de', 'aprendizagem', '(muitas', 'vezes,', 'embora', 'nem', 'sempre,', 'baseados', 'em', 'inferência', 'estatística).', 'Um', 'corpus', '(plural', '\"corpora\")', 'é', 'um', 'conjunto', 'de', 'documentos', '(ou', 'frases', 'individuais)', 'que', 'foram', 'anotados', 'à', 'mão', 'com', 'os', 'valores', 'corretos', 'a', 'serem', 'aprendidos.', 'Muitas', 'classes', 'diferentes', 'de', 'algoritmos', 'de', 'aprendizado', 'de', 'máquina', 'foram', 'aplicadas', 'a', 'tarefas', 'de', 'PLN.', 'Esses', 'algoritmos', 'tomam', 'como', 'entrada', 'um', 'grande', 'conjunto', 'de', '\"recursos\"', 'que', 'são', 'gerados', 'a', 'partir', 'de', 'dados', 'de', 'entrada.', 'Alguns', 'dos', 'algoritmos', 'mais', 'usados,', 'como', 'árvores', 'de', 'decisão,', 'produziam', 'sistemas', 'de', 'regras', 'rígidas', 'semelhantes', 'aos', 'sistemas', 'de', 'regras', 'manuscritas', 'mais', 'comuns.', 'No', 'entanto,', 'cada', 'vez', 'mais,', 'a', 'pesquisa', 'tem', 'se', 'concentrado', 'em', 'modelos', 'estatísticos,', 'que', 'tomam', 'decisões', 'flexíveis', 'e', 'probabilísticas', 'baseadas', 'em', 'agregar', 'pesos', 'reais', 'a', 'cada', 'característica', 'de', 'entrada.', 'Tais', 'modelos', 'têm', 'a', 'vantagem', 'de', 'poder', 'expressar', 'a', 'certeza', 'relativa', 'de', 'muitas', 'respostas', 'possíveis', 'diferentes', 'em', 'vez', 'de', 'apenas', 'uma,', 'produzindo', 'resultados', 'mais', 'confiáveis', 'quando', 'esse', 'modelo', 'é', 'incluído', 'como', 'um', 'componente', 'de', 'um', 'sistema', 'maior.', 'Os', 'sistemas', 'baseados', 'em', 'algoritmos', 'de', 'aprendizagem', 'mecânica', 'têm', 'muitas', 'vantagens', 'em', 'relação', 'às', 'regras', 'produzidas', 'manualmente:', 'Os', 'procedimentos', 'de', 'aprendizagem', 'usados', 'durante', 'a', 'aprendizagem', 'da', 'máquina', 'focam-se', 'automaticamente', 'nos', 'casos', 'mais', 'comuns,', 'ao', 'passo', 'que', 'quando', 'se', 'escrevem', 'regras', 'à', 'mão,', 'não', 'é', 'óbvio', 'em', 'que', 'sentido', 'o', 'esforço', 'deve', 'ser', 'dirigido.', 'Os', 'procedimentos', 'de', 'aprendizagem', 'automática', 'podem', 'fazer', 'uso', 'de', 'algoritmos', 'de', 'inferência', 'estatística', 'para', 'produzir', 'modelos', 'que', 'são', 'robustos', 'a', 'entradas', 'não', 'familiares', '(por', 'exemplo,', 'contendo', 'palavras', 'ou', 'estruturas', 'que', 'não', 'foram', 'vistas', 'antes)', 'e', 'a', 'entradas', 'errôneas', '(por', 'exemplo,', 'com', 'palavras', 'ou', 'palavras', 'incorretamente', 'omitidas).', 'Geralmente,', 'lidar', 'com', 'essas', 'entradas', 'de', 'forma', 'com', 'regras', 'manuscritas', 'ou', 'sistemas', 'de', 'regras', 'manuscritas', 'que', 'tomam', 'decisões', 'suaves', 'é', 'extremamente', 'trabalhoso,', 'propenso', 'a', 'erros', 'e', 'demorado.', 'Sistemas', 'baseados', 'em', 'aprender', 'automaticamente', 'as', 'regras', 'podem', 'ser', 'mais', 'precisos', 'simplesmente', 'fornecendo', 'mais', 'dados', 'de', 'entrada.', 'No', 'entanto,', 'os', 'sistemas', 'baseados', 'em', 'regras', 'escritas', 'à', 'mão', 'só', 'podem', 'ser', 'tornados', 'mais', 'precisos', 'aumentando', 'a', 'complexidade', 'das', 'regras,', 'o', 'que', 'é', 'uma', 'tarefa', 'muito', 'mais', 'difícil.', 'Em', 'particular,', 'há', 'um', 'limite', 'para', 'a', 'complexidade', 'de', 'sistemas', 'baseados', 'em', 'regras', 'artesanais,', 'para', 'além', 'dos', 'quais', 'os', 'sistemas', 'se', 'tornam', 'cada', 'vez', 'mais', 'incontroláveis.', 'No', 'entanto,', 'a', 'criação', 'de', 'mais', 'dados', 'para', 'entrada', 'em', 'sistemas', 'de', 'aprendizado', 'de', 'máquina', 'requer', 'simplesmente', 'um', 'aumento', 'correspondente', 'no', 'número', 'de', 'horas', 'trabalhadas', 'por', 'humanos,', 'geralmente', 'sem', 'aumentos', 'significativos', 'na', 'complexidade', 'do', 'processo', 'de', 'anotação.O', 'subcampo', 'de', 'PLN', 'dedicado', 'a', 'abordagens', 'de', 'aprendizagem', 'é', 'conhecido', 'como', 'aprendizagem', 'de', 'língua', 'natural', '(NLL)', 'e', 'sua', 'conferência,', 'a', 'CoNLL,', 'e', 'orgão', 'central,', 'o', 'SIGNLL,', 'são', 'patrocinados', 'pela', 'ACL,', 'reconhecendo', 'também', 'as', 'suas', 'ligações', 'com', 'linguística', 'computacional', 'e', 'aquisição', 'de', 'linguagem.', 'Quando', 'o', 'objetivo', 'da', 'pesquisa', 'de', 'aprendizagem', 'de', 'linguagem', 'computacional', 'é', 'entender', 'mais', 'sobre', 'aquisição', 'de', 'linguagem', 'humana,', 'ou', 'psicolinguística,', 'a', 'NLL', 'sobrepõe-se', 'no', 'campo', 'relacionado', 'de', 'psicolinguística', 'computacional.', '==', 'Aplicações', 'principais', '==', 'A', 'listagem', 'a', 'seguir', 'traz', 'alguns', 'dos', 'trabalhos', 'mais', 'pesquisadas', 'em', 'PLN.', 'Note', 'que', 'alguns', 'deles', 'têm', 'aplicações', 'no', 'mundo', 'real,', 'enquanto', 'outras', 'servem', 'mais', 'frequentemente', 'como', 'tarefas', 'secundárias', 'que', 'são', 'usadas', 'para', 'auxiliar', 'na', 'resolução', 'de', 'tarefas', 'maiores.', 'O', 'que', 'distingue', 'essas', 'tarefas', 'de', 'outras', 'tarefas', 'potenciais', 'e', 'reais', 'de', 'PLN', 'não', 'é', 'apenas', 'o', 'volume', 'de', 'pesquisa', 'dedicado', 'a', 'elas,', 'mas', 'o', 'fato', 'de', 'que', 'para', 'cada', 'uma', 'há', 'tipicamente', 'uma', 'definição', 'de', 'problema', 'bem', 'especificada,', 'uma', 'métrica', 'padrão', 'para', 'avaliar', 'a', 'tarefa,', 'corpora', 'padrão', 'em', 'que', 'a', 'tarefa', 'pode', 'ser', 'avaliada', 'e', 'as', 'competições', 'dedicadas', 'à', 'tarefa', 'específica.', 'Sumarização', 'automática', 'Produz', 'um', 'resumo', 'legível', 'de', 'uma', 'parte', 'do', 'texto.', 'Muitas', 'vezes', 'usado', 'para', 'fornecer', 'resumos', 'de', 'texto', 'de', 'um', 'tipo', 'conhecido,', 'como', 'artigos', 'na', 'seção', 'financeira', 'de', 'um', 'jornal.Resolução', 'de', 'correferência', 'Dada', 'uma', 'frase', 'ou', 'um', 'pedaço', 'maior', 'de', 'texto,', 'determina', 'quais', 'palavras', '(\"menções\")', 'se', 'referem', 'aos', 'mesmos', 'objetos', '(\"entidades\").', 'A', 'resolução', 'da', 'anáfora', 'é', 'um', 'exemplo', 'específico', 'dessa', 'tarefa', 'e', 'está', 'especificamente', 'preocupada', 'em', 'combinar', 'os', 'pronomes', 'com', 'os', 'substantivos', 'ou', 'nomes', 'aos', 'quais', 'eles', 'se', 'referem.', 'A', 'tarefa', 'mais', 'geral', 'da', 'resolução', 'de', 'correferência', 'também', 'inclui', 'a', 'identificação', 'dos', 'chamados', '\"relacionamentos', 'de', 'ponte\"', 'envolvendo', 'expressões', 'de', 'referência.', 'Por', 'exemplo,', 'numa', 'frase', 'como', '\"Ele', 'entrou', 'na', 'casa', 'de', 'João', 'pela', 'porta', 'da', 'frente\",', '\"a', 'porta', 'da', 'frente\"', 'é', 'uma', 'expressão', 'de', 'referência', 'e', 'a', 'relação', 'da', 'ponte', 'a', 'ser', 'identificada', 'é', 'o', 'fato', 'de', 'que', 'a', 'porta', 'a', 'ser', 'referida', 'é', 'a', 'porta', 'da', 'frente', 'de', \"John's\", '(ao', 'invés', 'de', 'alguma', 'outra', 'estrutura', 'que', 'também', 'pode', 'ser', 'referida).Análise', 'do', 'Discurso', 'Esta', 'rubrica', 'inclui', 'uma', 'série', 'de', 'tarefas', 'relacionadas.', 'Uma', 'tarefa', 'é', 'identificar', 'a', 'estrutura', 'discursiva', 'do', 'texto', 'conectado,', 'isto', 'é,', 'a', 'natureza', 'das', 'relações', 'discursivas', 'entre', 'sentenças', '(por', 'exemplo,', 'elaboração,', 'explicação,', 'contraste).', 'Outra', 'possível', 'tarefa', 'é', 'reconhecer', 'e', 'classificar', 'os', 'atos', 'de', 'fala', 'em', 'um', 'pedaço', 'de', 'texto', '(por', 'exemplo,', 'pergunta', 'sim-não,', 'pergunta', 'de', 'conteúdo,', 'frase,', 'afirmação,', 'etc).Maquina', 'de', 'tradução', 'Traduzir', 'automaticamente', 'texto', 'de', 'uma', 'linguagem', 'humana', 'para', 'outra.', 'Este', 'é', 'uma', 'das', 'tarefas', 'mais', 'difíceis', 'e', 'faz', 'parte', 'de', 'um', 'tipo', 'de', 'problemas', 'conhecidos', 'como', '\"AI-complete\",', 'ou', 'seja,', 'exigindo', 'todos', 'os', 'diferentes', 'tipos', 'de', 'conhecimento', 'que', 'os', 'humanos', 'possuem', '(gramática,', 'semântica,', 'fatos', 'sobre', 'o', 'mundo', 'real,', 'etc)', 'para', 'resolvê-lo', 'adequadamente.Segmentação', 'morfológica', 'Separa', 'palavras', 'em', 'morfemas', 'individuais', 'e', 'identifica', 'classes', 'de', 'morfemas.', 'A', 'dificuldade', 'desta', 'tarefa', 'depende', 'muito', 'da', 'complexidade', 'da', 'morfologia', '(isto', 'é,', 'da', 'estrutura', 'das', 'palavras)', 'da', 'linguagem', 'que', 'está', 'sendo', 'considerada.', 'O', 'inglês', 'possui', 'uma', 'morfologia', 'bastante', 'simples,', 'especialmente', 'a', 'morfologia', 'flexional,', 'e', 'portanto', 'é', 'possível', 'ignorar', 'esta', 'tarefa', 'inteiramente', 'e', 'simplesmente', 'modelar', 'todas', 'as', 'formas', 'possíveis', 'de', 'uma', 'palavra', '(por', 'exemplo,', '\"open,', 'opens,', 'opened,', 'opening\")', 'como', 'palavras', 'separadas.', 'Em', 'línguas', 'como', 'o', 'turco', 'ou', 'o', 'Meitei,', 'uma', 'língua', 'indiana', 'fortemente', 'aglutinada,', 'no', 'entanto,', 'tal', 'abordagem', 'não', 'é', 'possível,', 'uma', 'vez', 'que', 'cada', 'entrada', 'do', 'dicionário', 'tem', 'milhares', 'de', 'formas', 'de', 'palavras', 'possíveis.Reconhecimento', 'de', 'entidade', 'nomeada', '(NER)', 'Dado', 'um', 'fluxo', 'de', 'texto,', 'determina', 'quais', 'são', 'itens', 'no', 'mapa', 'de', 'texto', 'para', 'nomes', 'próprios,', 'como', 'pessoas', 'ou', 'locais', 'e', 'qual', 'é', 'o', 'tipo', 'de', 'cada', 'nome', '(por', 'exemplo,', 'pessoa,', 'local,', 'organização).', 'Embora', 'a', 'capitalização', 'possa', 'ajudar', 'a', 'reconhecer', 'entidades', 'nomeadas', 'em', 'idiomas', 'como', 'o', 'inglês,', 'essas', 'informações', 'podem', 'não', 'ajudar', 'a', 'determinar', 'o', 'tipo', 'de', 'entidade', 'nomeada', 'e,', 'em', 'alguns', 'casos,', 'sãos', 'imprecisas', 'ou', 'insuficientes.', 'Por', 'exemplo,', 'a', 'primeira', 'palavra', 'de', 'uma', 'frase', 'também', 'é', 'capitalizada', 'e', 'as', 'entidades', 'nomeadas', 'muitas', 'vezes', 'abrangem', 'várias', 'palavras,', 'com', 'apenas', 'algumas', 'delas', 'são', 'capitalizadas.', 'Além', 'disso,', 'muitas', 'outras', 'linguagens', 'em', 'scripts', 'não-ocidentais', '(por', 'exemplo,', 'chinês', 'ou', 'árabe)', 'não', 'têm', 'nenhuma', 'capitalização', 'e', 'mesmo', 'as', 'línguas', 'com', 'maiúsculas', 'podem', 'não', 'distinguir', 'nomes.', 'Por', 'exemplo,', 'o', 'alemão', 'capitaliza', 'todos', 'os', 'substantivos,', 'independentemente', 'de', 'se', 'referirem', 'a', 'nomes,', 'e', 'o', 'francês', 'e', 'o', 'espanhol', 'não', 'capitalizam', 'nomes', 'que', 'servem', 'como', 'adjetivos.Geração', 'de', 'língua', 'natural', 'Converte', 'informações', 'de', 'bancos', 'de', 'dados', 'de', 'computador', 'ou', 'intenções', 'semânticas', 'em', 'linguagem', 'humana', 'legível.Compreensão', 'da', 'língua', 'natural', 'Converte', 'pedaços', 'de', 'texto', 'em', 'representações', 'mais', 'formais,', 'como', 'estruturas', 'de', 'lógica', 'de', 'primeira', 'ordem,', 'que', 'são', 'mais', 'fáceis', 'de', 'manipular', 'pelos', 'programas', 'de', 'computador.', 'A', 'compreensão', 'da', 'língua', 'natural', 'envolve', 'a', 'identificação', 'da', 'semântica', 'pretendida', 'a', 'partir', 'da', 'múltipla', 'semântica', 'possível', 'que', 'pode', 'ser', 'derivada', 'de', 'uma', 'expressão', 'de', 'língua', 'natural', 'que', 'geralmente', 'toma', 'a', 'forma', 'de', 'notação', 'organizada', 'de', 'conceitos', 'de', 'linguagens', 'naturais.', 'Entretanto,', 'introdução', 'e', 'criação', 'de', 'linguagem', 'metamodelo', 'e', 'ontologia', 'são', 'eficientes', 'soluções', 'empíricas.', 'Uma', 'formalização', 'explícita', 'da', 'semântica', 'de', 'línguas', 'naturais', 'sem', 'confusões', 'com', 'suposições', 'implícitas', 'como', 'closed-world', 'assumption', '(CWA)', 'versus', 'open-world', 'assumption', 'ou', 'subjetiva', 'Sim', '/', 'Não', 'versus', 'objetivo', 'Verdadeiro', '/', 'Falso', 'é', 'esperada', 'para', 'a', 'construção', 'de', 'uma', 'base', 'de', 'formalização', 'semântica.Reconhecimento', 'óptico', 'de', 'caracteres', '(OCR)', 'Dada', 'uma', 'imagem', 'que', 'representa', 'o', 'texto', 'impresso,', 'determina', 'o', 'texto', 'correspondente.Marcação', 'de', 'classe', 'gramatical', 'Dada', 'uma', 'sentença,', 'determina', 'a', 'classe', 'gramatical', 'de', 'cada', 'palavra.', 'Muitas', 'palavras,', 'especialmente', 'as', 'comuns,', 'podem', 'servir', 'como', 'múltiplas', 'partes', 'do', 'discurso.', 'Em', 'inglês,', 'por', 'exemplo,', '\"book\"', 'pode', 'ser', 'um', 'substantivo', '(\"the', 'book', 'on', 'the', 'table\")', 'ou', 'verbo', '(\"book', 'a', 'flight\");', '\"Set\"', 'pode', 'ser', 'um', 'substantivo,', 'verbo', 'ou', 'adjetivo;', 'E', '\"out\"', 'pode', 'ser', 'qualquer', 'um', 'de', 'pelo', 'menos', 'cinco', 'diferentes', 'partes', 'da', 'fala.', 'Algumas', 'línguas', 'têm', 'mais', 'ambiguidade', 'do', 'que', 'outras.', 'As', 'línguas', 'com', 'pouca', 'morfologia', 'flexional,', 'como', 'o', 'inglês,', 'são', 'particularmente', 'propensas', 'a', 'tal', 'ambiguidade.', 'O', 'chinês', 'é', 'propenso', 'a', 'tal', 'ambiguidade', 'porque', 'é', 'uma', 'língua', 'tonal', 'durante', 'a', 'verbalização.', 'Tal', 'inflexão', 'não', 'é', 'facilmente', 'transmitida', 'através', 'das', 'entidades', 'empregadas', 'dentro', 'da', 'ortografia', 'para', 'transmitir', 'o', 'significado', 'pretendido.Análise', 'sintática', '(Parsing)', 'Determina', 'a', 'árvore', 'de', 'análise', '(análise', 'gramatical)', 'de', 'uma', 'frase.', 'A', 'gramática', 'para', 'as', 'linguagens', 'naturais', 'é', 'ambígua', 'e', 'frases', 'típicas', 'têm', 'múltiplas', 'análises', 'possíveis.', 'Na', 'verdade,', 'surpreendentemente,', 'para', 'uma', 'frase', 'típica', 'pode', 'haver', 'milhares', 'de', 'análises', 'em', 'potencial', '(a', 'maioria', 'dos', 'quais', 'parecerá', 'completamente', 'absurda', 'para', 'um', 'ser', 'humano).Respostas', 'a', 'perguntas', 'Dada', 'uma', 'questão', 'de', 'linguagem', 'humana,', 'determina', 'sua', 'resposta.', 'As', 'perguntas', 'típicas', 'têm', 'uma', 'resposta', 'correta', 'específica', '(como', '\"Qual', 'é', 'o', 'capital', 'do', 'Canadá?\"),', 'mas', 'às', 'vezes', 'perguntas', 'abertas', 'também', 'são', 'consideradas', '(como', '\"Qual', 'é', 'o', 'significado', 'da', 'vida?\").', 'Trabalhos', 'recentes', 'têm', 'analisado', 'questões', 'ainda', 'mais', 'complexas.Extração', 'de', 'relacionamento', 'Identifica', 'as', 'relações', 'entre', 'entidades', 'nomeadas', '(por', 'exemplo,', 'quem', 'é', 'casado', 'com', 'quem)', 'com', 'base', 'em', 'textos.Quebra', 'de', 'frases', '(sentence', 'boundary', 'disambiguation)', 'Encontra', 'os', 'limites', 'da', 'frase', 'em', 'um', 'pedaço', 'de', 'texto.', 'Os', 'limites', 'de', 'frases', 'são', 'normalmente', 'marcadas', 'por', 'pontos', 'ou', 'outros', 'sinais', 'de', 'pontuação,', 'mas', 'esses', 'mesmos', 'caracteres', 'podem', 'servir', 'outros', 'propósitos.Análise', 'de', 'subjetividade', '(sentiment', 'analysis', 'ou', 'opinion', 'mining)', 'Extrai', 'informações', 'subjetivas', 'geralmente', 'de', 'um', 'conjunto', 'de', 'documentos,', 'muitas', 'vezes', 'usando', 'revisões', 'online', 'para', 'determinar', 'a', '\"polaridade\"', 'sobre', 'objetos', 'específicos.', 'É', 'especialmente', 'útil', 'para', 'identificar', 'tendências', 'da', 'opinião', 'pública', 'nas', 'mídias', 'sociais,', 'para', 'fins', 'de', 'marketing.Reconhecimento', 'de', 'fala', 'Dado', 'um', 'clipe', 'de', 'som', 'de', 'uma', 'pessoa', 'ou', 'pessoas', 'falando,', 'determina', 'a', 'representação', 'textual', 'do', 'discurso.', 'É', 'o', 'oposto', 'da', 'síntese', 'de', 'fala', 'e', 'é', 'uma', 'das', 'áreas', 'mais', 'difíceis,', 'conhecida', 'como', '\"AI-complete\".', 'Na', 'fala', 'natural', 'quase', 'não', 'há', 'pausas', 'entre', 'palavras', 'sucessivas,', 'por', 'isso', 'a', 'segmentação', 'de', 'fala', 'é', 'uma', 'subtarefa', 'necessária', 'de', 'reconhecimento', 'de', 'fala.', 'Nota-se', 'também', 'que,', 'na', 'maioria', 'das', 'linguagens', 'faladas,', 'os', 'sons', 'que', 'representam', 'letras', 'sucessivas', 'se', 'misturam', 'entre', 'si', 'em', 'um', 'processo', 'denominado', 'coarticulação,', 'de', 'modo', 'que', 'a', 'conversão', 'do', 'sinal', 'analógico', 'em', 'caracteres', 'discretos', 'pode', 'ser', 'um', 'processo', 'muito', 'difícil', 'de', 'ser', 'realizado.Segmentação', 'de', 'fala', 'Dado', 'um', 'clipe', 'de', 'som', 'de', 'uma', 'pessoa', 'ou', 'pessoas', 'falando,', 'separa-o', 'em', 'palavras.', 'Uma', 'subaplicação', 'de', 'reconhecimento', 'de', 'fala', 'e', 'normalmente', 'agrupada', 'com', 'ele.Análise', 'morfológica', 'e', 'reconhecimento', 'de', 'tópicos', 'Dado', 'um', 'pedaço', 'de', 'texto,', 'separa-o', 'em', 'segmentos', 'cada', 'um', 'dos', 'quais', 'é', 'dedicado', 'a', 'um', 'tópico', 'e', 'identifica', 'o', 'tópico', 'do', 'segmento.Análise', 'morfológica', 'e', 'segmentação', 'de', 'palavras', 'Separa', 'um', 'pedaço', 'de', 'texto', 'contínuo', 'em', 'palavras', 'separadas.', 'Para', 'uma', 'língua', 'como', 'o', 'inglês,', 'isso', 'é', 'bastante', 'trivial,', 'uma', 'vez', 'que', 'as', 'palavras', 'são', 'normalmente', 'separadas', 'por', 'espaços.', 'No', 'entanto,', 'algumas', 'línguas', 'escritas', 'como', 'chinês,', 'japonês', 'e', 'tailandês', 'não', 'marcam', 'limites', 'de', 'palavras', 'de', 'tal', 'forma,', 'e', 'nessas', 'línguas', 'segmentação', 'de', 'texto', 'é', 'uma', 'tarefa', 'significativa', 'que', 'requer', 'conhecimento', 'do', 'vocabulário', 'e', 'morfologia', 'das', 'palavras', 'na', 'língua.Desambiguação', 'Muitas', 'palavras', 'têm', 'mais', 'de', 'um', 'significado,', 'assim', 'temos', 'que', 'selecionar', 'o', 'significado', 'que', 'faz', 'mais', 'sentido', 'no', 'contexto.', 'Para', 'este', 'problema,', 'em', 'geral', 'é', 'dada', 'uma', 'lista', 'de', 'palavras', 'e', 'sentidos', 'de', 'palavras', 'associadas', 'de', 'um', 'dicionário', 'ou', 'recurso', 'online,', 'como', 'o', 'WordNet.', 'Em', 'alguns', 'casos,', 'conjuntos', 'de', 'tarefas', 'relacionadas', 'são', 'agrupados', 'em', 'subcampos', 'de', 'PLN', 'que', 'são', 'frequentemente', 'considerados', 'separadamente', 'da', 'PLN', 'como', 'um', 'todo,', 'como', 'os', 'exemplos', 'à', 'seguir:Recuperação', 'de', 'informação', '(IR)', 'Trata-se', 'de', 'armazenar,', 'pesquisar', 'e', 'recuperar', 'informações.', 'É', 'um', 'campo', 'separado', 'dentro', 'da', 'ciência', 'da', 'computação', '(mais', 'perto', 'de', 'bancos', 'de', 'dados),', 'mas', 'a', 'IR', 'se', 'baseia', 'em', 'alguns', 'métodos', 'PLN', '(por', 'exemplo,', 'stemming).', 'Algumas', 'pesquisas', 'e', 'aplicações', 'atuais', 'procuram', 'preencher', 'a', 'lacuna', 'entre', 'IR', 'e', 'PLN.Extração', 'de', 'informação', '(IE)', 'Trata-se,', 'em', 'geral,', 'da', 'extração', 'de', 'informação', 'semântica', 'a', 'partir', 'do', 'texto.', 'Abrange', 'tarefas', 'como', 'reconhecimento', 'de', 'entidade', 'mencionada,', 'resolução', 'de', 'correferência', 'e', 'de', 'relacionamento', 'de', 'extração,', 'etc.', 'Processamento', 'de', 'voz', 'Abrange', 'reconhecimento', 'de', 'fala,', 'síntese', 'de', 'fala', 'e', 'tarefas', 'relacionadas.', 'Outras', 'tarefas', 'incluem:', 'Identificação', 'na', 'língua', 'materna', 'Stemização', 'Simplificação', 'do', 'texto', 'Síntese', 'de', 'fala', 'Revisão', 'de', 'texto', 'Pesquisa', 'em', 'língua', 'natural', 'Expansão', 'da', 'consulta', 'Pontuação', 'de', 'ensaio', 'automatizado', 'Truecasing', '==', 'Estatística', '==', 'Artigo', 'principal:', 'Gramática', 'estocástica', 'O', 'processamento', 'estatístico', 'em', 'língua', 'natural', 'utiliza', 'métodos', 'estocásticos,', 'probabilísticos', 'e', 'estatísticos', 'para', 'resolver', 'algumas', 'das', 'dificuldades', 'discutidas', 'acima,', 'especialmente', 'aquelas', 'que', 'surgem', 'porque', 'frases', 'mais', 'longas', 'são', 'muito', 'ambíguas', 'quando', 'processadas', 'com', 'gramáticas', 'realistas,', 'produzindo', 'milhares', 'ou', 'milhões', 'de', 'análises', 'possíveis.', 'Métodos', 'de', 'desambiguação', 'envolvem', 'muitas', 'vezes', 'o', 'uso', 'de', 'corpora', 'e', 'modelos', 'de', 'Markov.', 'O', 'projeto', 'ESPRIT', 'P26', '(1984-1988),', 'liderado', 'pelo', 'CSELT,', 'explorou', 'o', 'problema', 'do', 'reconhecimento', 'de', 'fala', 'comparando', 'abordagem', 'baseada', 'em', 'conhecimento', 'e', 'estatística:', 'o', 'resultado', 'escolhido', 'foi', 'um', 'modelo', 'completamente', 'estatístico.', 'Um', 'dos', 'primeiros', 'modelos', 'de', 'compreensão', 'estatística', 'da', 'língua', 'natural', 'foi', 'introduzido', 'em', '1991', 'por', 'Roberto', 'Pieraccini,', 'Esther', 'Levin', 'e', 'Chin-Hui', 'Lee,', 'da', 'Bell', 'Laboratories].', 'O', 'PLN', 'compreende', 'todas', 'as', 'abordagens', 'quantitativas', 'para', 'processamento', 'automatizado', 'de', 'linguagem,', 'incluindo', 'modelagem', 'probabilística,', 'teoria', 'da', 'informação', 'e', 'álgebra', 'linear.', 'A', 'tecnologia', 'para', 'o', 'PLN', 'estatístico', 'vem', 'principalmente', 'da', 'aprendizagem', 'automática', 'e', 'da', 'mineração', 'de', 'dados,', 'que', 'são', 'campos', 'de', 'inteligência', 'artificial', 'que', 'envolvem', 'o', 'aprendizado', 'a', 'partir', 'de', 'dados.', '==', 'Avaliação', '==', 'O', 'objetivo', 'da', 'avaliação', 'do', 'PLN', 'é', 'uma', 'medida', 'de', 'uma', 'ou', 'mais', 'qualidades', 'de', 'um', 'algoritmo', 'ou', 'de', 'um', 'sistema', 'a', 'fim', 'de', 'determinar', 'se', 'o', 'algoritmo', 'atende', 'às', 'metas', 'dos', 'projetistas', 'ou', 'o', 'sistema', 'de', 'atendimento', 'às', 'necessidades', 'de', 'seus', 'usuários.', 'Investigação', 'na', 'avaliação', 'PLN', 'tem', 'ganhado', 'atenção,', 'porque', 'a', 'definição', 'de', 'critérios', 'de', 'avaliação', 'é', 'uma', 'forma', 'de', 'especificar', 'precisamente', 'problemas', 'do', 'PLN.', 'Uma', 'métrica', 'de', 'avaliação', 'de', 'PLN', 'em', 'um', 'sistema', 'algorítmico', 'permite', 'a', 'integração', 'da', 'compreensão', 'de', 'linguagem', 'e', 'geração', 'de', 'linguagem.', 'Um', 'conjunto', 'preciso', 'de', 'critérios', 'de', 'avaliação,', 'que', 'pode', 'ser', 'aplicado', 'principalmente', 'a', 'avaliações', 'métricas,', 'podendo', 'permitir', 'que', 'várias', 'equipes', 'comparem', 'suas', 'soluções', 'para', 'um', 'determinado', 'problema', 'do', 'PLN.', '==', 'Cronologia', 'da', 'avaliação', '==', 'Em', '1983,', 'iniciou-se', 'o', 'Projecto', 'Esprit', 'P26,', 'que', 'avaliou', 'as', 'Tecnologias', 'da', 'Fala', '(incluindo', 'tópicos', 'gerais', 'como', 'Sintaxe', 'e', 'Semântica)', 'comparando', 'as', 'abordagens', 'baseadas', 'em', 'regras', 'com', 'as', 'estatísticas.', 'Em', '1987,', 'a', 'primeira', 'campanha', 'de', 'avaliação', 'de', 'textos', 'escritos', 'parece', 'ser', 'uma', 'campanha', 'dedicada', 'à', 'compreensão', 'da', 'mensagem', '(Pallet,', '1998).', 'O', 'projeto', 'Parseval', '/', 'GEIG', 'comparou', 'gramáticas', 'de', 'frase-estrutura', '(Black', '1991).', 'Houve', 'uma', 'série', 'de', 'campanhas', 'no', 'projeto', 'Tipster', 'sobre', 'tarefas', 'como', 'resumo,', 'tradução', 'e', 'pesquisa', '(Hirschman', '1998).', 'Em', '1994,', 'na', 'Alemanha,', 'o', 'Morpholympics', 'comparou', 'marcadores', 'morfológicos', 'alemães.', 'As', 'campanhas', 'de', 'Senseval', '&', 'Romanseval', 'foram', 'realizadas', 'com', 'os', 'objetivos', 'de', 'desambiguação', 'semântica.', 'Em', '1996,', 'a', 'campanha', 'Sparkle', 'comparou', 'os', 'analisadores', 'sintáticos', 'em', 'quatro', 'idiomas', 'diferentes', '(inglês,', 'francês,', 'alemão', 'e', 'italiano).', 'Na', 'França,', 'o', 'projeto', 'Grace', 'comparou', 'um', 'conjunto', 'de', '21', 'marcadores', 'para', 'o', 'francês', 'em', '1997', '(Adda', '1999).', 'Em', '2004,', 'durante', 'o', 'projeto', 'Technolangue', '/', 'Easy,', 'foram', 'comparados', '13', 'analisadores', 'para', 'o', 'francês.', 'A', 'avaliação', 'em', 'larga', 'escala', 'dos', 'analisadores', 'de', 'dependência', 'foi', 'realizada', 'no', 'contexto', 'das', 'tarefas', 'compartilhadas', 'do', 'CoNLL', 'em', '2006', 'e', '2007.', 'Na', 'França,', 'no', 'âmbito', 'do', 'projecto', 'ANR-Passage', '(final', 'de', '2007),', 'foram', 'comparados', '10', 'analisadores', 'para', 'o', 'francês.', 'Em', 'Itália,', 'a', 'campanha', 'EVALITA', 'foi', 'realizada', 'em', '2007,', '2009,', '2011', 'e', '2014', 'para', 'comparar', 'várias', 'ferramentas', 'de', 'PLN', 'e', 'de', 'voz', 'para', 'o', 'site', 'italiano', '-', 'EVALITA.', '==', 'Diferentes', 'tipos', 'de', 'avaliação', '==', 'Avaliação', 'intrínseca', 'vs.', 'extrínseca', 'A', 'avaliação', 'intrínseca', 'considera', 'um', 'sistema', 'PNL', 'isolado', 'e', 'caracteriza', 'seu', 'desempenho', 'em', 'relação', 'a', 'um', 'resultado', 'padrão-excelência,', 'conforme', 'definido', 'pelos', 'avaliadores.', 'A', 'avaliação', 'extrínseca,', 'também', 'chamada', 'de', 'avaliação', 'em', 'uso,', 'considera', 'o', 'sistema', 'PLN', 'em', 'um', 'cenário', 'mais', 'complexo', 'como', 'um', 'sistema', 'embutido', 'ou', 'uma', 'função', 'precisa', 'para', 'um', 'usuário', 'humano.', 'O', 'desempenho', 'extrínseco', 'do', 'sistema', 'é', 'então', 'caracterizado', 'em', 'termos', 'de', 'utilidade', 'em', 'relação', 'à', 'tarefa', 'global', 'do', 'sistema', 'estranho', 'ou', 'do', 'utilizador', 'humano.', 'Por', 'exemplo,', 'considere', 'um', 'analisador', 'sintático', 'que', 'é', 'baseado', 'na', 'saída', 'de', 'alguma', 'parte', 'do', 'tagger', 'de', 'fala', '(POS).', 'Uma', 'avaliação', 'intrínseca', 'executaria', 'o', 'marcador', 'POS', 'em', 'dados', 'estruturados', 'e', 'compararia', 'a', 'saída', 'do', 'sistema', 'do', 'marcador', 'POS', 'com', 'a', 'saída', 'padrão', 'ouro.', 'Uma', 'avaliação', 'extrínseca', 'executaria', 'o', 'analisador', 'com', 'algum', 'outro', 'marcador', 'POS', 'e,', 'em', 'seguida,', 'com', 'o', 'marcador', 'POS', 'novo', 'e', 'compara', 'a', 'precisão', 'de', 'análise.', 'Caixa', 'preta', 'vs.', 'Avaliação', 'da', 'caixa', 'de', 'vidro', 'A', 'avaliação', 'em', 'caixa', 'preta', 'requer', 'que', 'alguém', 'execute', 'um', 'sistema', 'PLN', 'em', 'um', 'conjunto', 'de', 'dados', 'de', 'amostra', 'e', 'para', 'medir', 'uma', 'série', 'de', 'parâmetros', 'relacionados', 'com', 'a', 'qualidade', 'do', 'processo,', 'como', 'velocidade,', 'confiabilidade,', 'consumo', 'de', 'recursos', 'e,', 'principalmente,', 'a', 'qualidade', 'do', 'resultado,', 'como', 'a', 'precisão', 'da', 'anotação', 'de', 'dados', 'ou', 'a', 'fidelidade', 'de', 'uma', 'tradução.', 'A', 'avaliação', 'da', 'caixa', 'de', 'vidro', 'examina', 'a', 'concepção', 'do', 'sistema;', 'Os', 'algoritmos', 'que', 'são', 'implementados,', 'os', 'recursos', 'linguísticos', 'que', 'utiliza,', 'como', 'o', 'tamanho', 'do', 'vocabulário', 'ou', 'a', 'expressão', 'definida', 'de', 'cardinalidade.', 'Dada', 'a', 'complexidade', 'dos', 'problemas', 'da', 'PLN,', 'muitas', 'vezes', 'é', 'difícil', 'prever', 'o', 'desempenho', 'apenas', 'com', 'base', 'na', 'avaliação', 'da', 'caixa', 'de', 'vidro;', 'Mas', 'este', 'tipo', 'de', 'avaliação', 'é', 'mais', 'informativo', 'no', 'que', 'diz', 'respeito', 'à', 'análise', 'de', 'erros', 'ou', 'desenvolvimentos', 'futuros', 'de', 'um', 'sistema.', 'Automática', 'vs.', 'avaliação', 'manual', 'Em', 'muitos', 'casos,', 'procedimentos', 'automáticos', 'podem', 'ser', 'definidos', 'para', 'avaliar', 'um', 'sistema', 'de', 'PLN,', 'comparando', 'sua', 'saída', 'com', 'o', 'padrão', 'de', 'excelência.', 'Embora', 'o', 'custo', 'de', 'reproduzir', 'o', 'padrão', 'de', 'excelência', 'possa', 'ser', 'bastante', 'elevado,', 'avaliação', 'automática', 'de', 'bootstrapping', 'sobre', 'os', 'mesmos', 'dados', 'de', 'entrada', 'pode', 'ser', 'repetida', 'quantas', 'vezes', 'for', 'necessário', 'sem', 'custos', 'adicionais', 'desordenados.', 'No', 'entanto,', 'para', 'muitos', 'problemas', 'de', 'PLN', 'a', 'definição', 'precisa', 'de', 'um', 'padrão', 'de', 'excelência', 'é', 'uma', 'tarefa', 'complexa', 'e', 'pode', 'se', 'revelar', 'impossível', 'quando', 'o', 'acordo', 'inter-anotador', 'é', 'insuficiente.', 'A', 'avaliação', 'manual', 'é', 'melhor', 'realizada', 'por', 'juízes', 'humanos', 'instruídos', 'para', 'estimar', 'a', 'qualidade', 'de', 'um', 'sistema,', 'ou', 'mais', 'frequentemente', 'de', 'uma', 'amostra', 'de', 'sua', 'produção,', 'com', 'base', 'em', 'uma', 'série', 'de', 'critérios.', 'Embora,', 'graças', 'à', 'sua', 'competência', 'linguística,', 'os', 'juízes', 'humanos', 'possam', 'ser', 'considerados', 'como', 'a', 'referência', 'para', 'uma', 'série', 'de', 'tarefas', 'de', 'processamento', 'de', 'linguagem,', 'há', 'também', 'uma', 'variação', 'considerável', 'em', 'suas', 'classificações.', 'É', 'por', 'isso', 'que', 'a', 'avaliação', 'automática', 'é,', 'por', 'vezes,', 'referida', 'como', 'avaliação', 'objetiva', 'enquanto', 'a', 'avaliação', 'humana', 'é', 'perspectiva.', '==', 'Padronização', '==', 'Um', 'subcomitê', 'ISO', 'está', 'trabalhando', 'para', 'facilitar', 'a', 'interoperabilidade', 'entre', 'recursos', 'lexicais', 'e', 'programas', 'PLN.', 'O', 'subcomitê', 'faz', 'parte', 'do', 'ISO', '/', 'TC37', 'e', 'é', 'chamado', 'ISO', '/', 'TC37', '/', 'SC4.', 'Alguns', 'padrões', 'ISO', 'já', 'estão', 'publicados,', 'mas', 'a', 'maioria', 'deles', 'está', 'em', 'construção,', 'principalmente', 'na', 'representação', 'de', 'léxico', '(ver', 'LMF),', 'anotação', 'e', 'registro', 'de', 'categoria', 'de', 'dados.', '==', 'Ferramentas', '==', 'Expert', 'System', 'S.p.A.', 'General', 'Architecture', 'for', 'Text', 'Engineering', 'Modular', 'Audio', 'Recognition', 'Framework', 'Natural', 'Language', 'Toolkit', '(NLTK):', 'uma', 'biblioteca', 'em', 'Python', 'OpenNLP', '==', 'Veja', 'também', '==', 'Mineração', 'de', 'texto', 'biomédica', 'Processo', 'de', 'processamento', 'composto', 'Revisão', 'assistida', 'por', 'computador', 'Linguagem', 'natural', 'controlada', 'Processamento', 'linguístico', 'profundo', 'Auxílio', 'à', 'leitura', 'de', 'línguas', 'estrangeiras', 'Auxílio', 'à', 'escrita', 'em', 'língua', 'estrangeira', 'Tecnologia', 'da', 'linguagem', 'A', 'alocação', 'de', 'Dirichlet', 'Latente', '(LDA)', 'Indexação', 'semântica', 'latente', 'Lista', 'de', 'ferramentas', 'de', 'processamento', 'de', 'língua', 'natural', 'Mapa', 'de', 'LRE', 'Programação', 'em', 'língua', 'natural', 'Reificação', '(linguística)', 'Dobradura', 'semântica', 'Sistema', 'de', 'diálogo', 'falado', 'Vetor', 'do', 'Pensamento', 'Pesquisa', 'Transderivacional', 'Word2vec', '==', 'Referências', '==', '==', 'Leitura', 'adicional', '==', 'Steven', 'Bird,', 'Ewan', 'Klein,', 'and', 'Edward', 'Loper', '(2009).', 'Natural', 'Language', 'Processing', 'with', 'Python.', \"O'Reilly\", 'Media.', 'ISBN', '978-0-596-51649-9.', 'Daniel', 'Jurafsky', 'and', 'James', 'H.', 'Martin', '(2008).', 'Speech', 'and', 'Language', 'Processing,', '2nd', 'edition.', 'Pearson', 'Prentice', 'Hall.', 'ISBN', '978-0-13-187321-6.', 'Christopher', 'D.', 'Manning,', 'Prabhakar', 'Raghavan,', 'and', 'Hinrich', 'Schütze', '(2008).', 'Introduction', 'to', 'Information', 'Retrieval.', 'Cambridge', 'University', 'Press.', 'ISBN', '978-0-521-86571-5.', 'Official', 'html', 'and', 'pdf', 'versions', 'available', 'without', 'charge.', 'Christopher', 'D.', 'Manning', 'and', 'Hinrich', 'Schütze', '(1999).', 'Foundations', 'of', 'Statistical', 'Natural', 'Language', 'Processing.', 'The', 'MIT', 'Press.', 'ISBN', '978-0-262-13360-9.', 'David', 'M.', 'W.', 'Powers', 'and', 'Christopher', 'C.', 'R.', 'Turk', '(1989).', 'Machine', 'Learning', 'of', 'Natural', 'Language.', 'Springer-Verlag.', 'ISBN', '978-0-387-19557-5.']\n"
          ],
          "name": "stdout"
        }
      ]
    },
    {
      "cell_type": "markdown",
      "metadata": {
        "id": "lQzdlozyE2V3",
        "colab_type": "text"
      },
      "source": [
        "### Regex\n",
        "\n",
        "Faça utilizando o método abaixo\n",
        "<b> Não esqueça de armazenar o resultado na variável abaixo. </b>\n",
        "\n",
        "```python\n",
        "re.findall(r\"\\w+(?:'\\w+)?|[^\\w\\s]\", corpus)\n",
        "```"
      ]
    },
    {
      "cell_type": "code",
      "metadata": {
        "id": "rdDQfjLIE2V4",
        "colab_type": "code",
        "colab": {}
      },
      "source": [
        "tokens_regex = re.findall(r\"\\w+(?:'\\w+)?|[^\\w\\s]\", corpus)"
      ],
      "execution_count": null,
      "outputs": []
    },
    {
      "cell_type": "code",
      "metadata": {
        "id": "5IYoOF3bE2V9",
        "colab_type": "code",
        "colab": {
          "base_uri": "https://localhost:8080/",
          "height": 54
        },
        "outputId": "5eb6165d-c2bf-4443-cbd8-c20e19aef87a"
      },
      "source": [
        "#Regex\n",
        "print(tokens_regex)"
      ],
      "execution_count": null,
      "outputs": [
        {
          "output_type": "stream",
          "text": [
            "['Processamento', 'de', 'língua', 'natural', '(', 'PLN', ')', 'é', 'uma', 'subárea', 'da', 'ciência', 'da', 'computação', ',', 'inteligência', 'artificial', 'e', 'da', 'linguística', 'que', 'estuda', 'os', 'problemas', 'da', 'geração', 'e', 'compreensão', 'automática', 'de', 'línguas', 'humanas', 'naturais', '.', 'Sistemas', 'de', 'geração', 'de', 'língua', 'natural', 'convertem', 'informação', 'de', 'bancos', 'de', 'dados', 'de', 'computadores', 'em', 'linguagem', 'compreensível', 'ao', 'ser', 'humano', 'e', 'sistemas', 'de', 'compreensão', 'de', 'língua', 'natural', 'convertem', 'ocorrências', 'de', 'linguagem', 'humana', 'em', 'representações', 'mais', 'formais', ',', 'mais', 'facilmente', 'manipuláveis', 'por', 'programas', 'de', 'computador', '.', 'Alguns', 'desafios', 'do', 'PLN', 'são', 'compreensão', 'de', 'língua', 'natural', ',', 'fazer', 'com', 'que', 'computadores', 'extraiam', 'sentido', 'de', 'linguagem', 'humana', 'ou', 'natural', 'e', 'geração', 'de', 'língua', 'natural', '.', '=', '=', 'História', '=', '=', 'A', 'história', 'do', 'PLN', 'começou', 'na', 'década', 'de', '1950', ',', 'quando', 'Alan', 'Turing', 'publicou', 'o', 'artigo', '\"', 'Computing', 'Machinery', 'and', 'Intelligence', '\"', ',', 'que', 'propunha', 'o', 'que', 'agora', 'é', 'chamado', 'de', 'teste', 'de', 'Turing', 'como', 'critério', 'de', 'inteligência', '.', 'Em', '1954', ',', 'a', 'experiência', 'de', 'Georgetown', 'envolveu', 'a', 'tradução', 'automática', 'de', 'mais', 'de', 'sessenta', 'frases', 'russas', 'para', 'o', 'inglês', '.', 'Os', 'autores', 'afirmaram', 'que', 'dentro', 'de', 'três', 'ou', 'cinco', 'anos', 'a', 'tradução', 'automática', 'seria', 'um', 'problema', 'resolvido', '.', 'No', 'entanto', ',', 'os', 'avanços', 'reais', 'foram', 'muito', 'mais', 'lentos', 'do', 'que', 'o', 'previsto', 'e', ',', 'após', 'o', 'relatório', 'ALPAC', 'em', '1966', ',', 'que', 'constatou', 'que', 'a', 'pesquisa', 'de', 'dez', 'anos', 'não', 'conseguiu', 'satisfazer', 'as', 'expectativas', ',', 'o', 'financiamento', 'para', 'este', 'estudo', 'em', 'tradução', 'automática', 'foi', 'reduzido', 'drasticamente', '.', 'Poucas', 'pesquisas', 'em', 'tradução', 'automática', 'foram', 'conduzidas', 'até', 'o', 'final', 'dos', 'anos', '80', ',', 'quando', 'os', 'primeiros', 'sistemas', 'estatísticos', 'de', 'tradução', 'foram', 'desenvolvidos', '.', 'Alguns', 'sistemas', 'de', 'PLN', 'bem', 'sucedidos', 'desenvolvidos', 'nos', 'anos', '60', 'foram', 'SHRDLU', ',', 'um', 'sistema', 'de', 'língua', 'natural', 'que', 'trabalhava', 'em', '\"', 'blocks', 'worlds', '\"', 'com', 'vocabulário', 'restrito', 'e', 'ELIZA', ',', 'uma', 'simulação', 'de', 'um', 'psicoterapeuta', 'escrita', 'por', 'Joseph', 'Weizenbaum', 'entre', '1964', 'e', '1966', '.', 'Usando', 'pouca', 'informação', 'sobre', 'o', 'pensamento', 'ou', 'a', 'emoção', 'humana', ',', 'ELIZA', 'criava', ',', 'em', 'alguns', 'casos', ',', 'interações', 'surpreendentemente', 'humanas', '.', 'Quando', 'o', '\"', 'paciente', '\"', 'excedia', 'a', 'base', 'de', 'conhecimento', 'do', 'programa', ',', 'ELIZA', 'fornecia', 'uma', 'resposta', 'genérica', ',', 'por', 'exemplo', ',', 'respondendo', 'a', '\"', 'Minha', 'cabeça', 'dói', '\"', 'com', '\"', 'Por', 'que', 'você', 'diz', 'que', 'sua', 'cabeça', 'dói', '?', '\"', '.', 'Durante', 'a', 'década', 'de', '1970', ',', 'muitos', 'programadores', 'começaram', 'a', 'escrever', '\"', 'ontologias', 'conceituais', '\"', ',', 'que', 'estruturaram', 'a', 'informação', 'do', 'mundo', 'real', 'em', 'dados', 'compreensíveis', 'por', 'computadores', '.', 'Exemplos', 'são', 'MARGIE', '(', 'SCHANK', ',', '1975', ')', ',', 'SAM', '(', 'CULLINGFORD', ',', '1978', ')', ',', 'PAM', '(', 'WILENSKY', ',', '1978', ')', ',', 'TaleSpin', '(', 'MEEHAN', ',', '1976', ')', ',', 'QUALM', '(', 'LEHNERT', ',', '1977', ')', ',', 'Politics', '(', 'CARBONELL', ',', '1979', ')', 'e', 'Plot', 'Units', '(', 'LEHNERT', ',', '1981', ')', '.', 'Neste', 'período', ',', 'muitos', 'chatterbots', 'foram', 'escritos', ',', 'como', 'PARRY', ',', 'Racter', 'e', 'Jabberwacky', '.', 'Até', 'a', 'década', 'de', '1980', ',', 'a', 'maioria', 'dos', 'sistemas', 'de', 'PLN', 'se', 'baseava', 'em', 'conjuntos', 'complexos', 'de', 'regras', 'manuscritas', '.', 'A', 'partir', 'do', 'final', 'dos', 'anos', '1980', ',', 'no', 'entanto', ',', 'houve', 'uma', 'revolução', 'no', 'PLN', 'com', 'a', 'introdução', 'de', 'algoritmos', 'de', 'aprendizagem', 'automática', '(', 'aprendizado', 'de', 'máquina', ')', 'para', 'o', 'processamento', 'de', 'linguagem', '.', 'Isto', 'foi', 'devido', 'tanto', 'ao', 'aumento', 'constante', 'do', 'poder', 'computacional', '(', 'ver', 'Lei', 'de', 'Moore', ')', 'quanto', 'à', 'diminuição', 'gradual', 'da', 'dominância', 'das', 'teorias', 'da', 'linguística', 'chomskyanas', '(', 'como', 'a', 'gramática', 'gerativa', ')', ',', 'cujos', 'fundamentos', 'teóricos', 'desestimularam', 'o', 'tipo', 'de', 'corpus', 'linguístico', 'que', 'está', 'subjacente', 'à', 'abordagem', 'da', 'aprendizagem', 'automática', 'ao', 'processamento', 'da', 'linguagem', '.', 'Alguns', 'dos', 'algoritmos', 'de', 'aprendizado', 'de', 'máquinas', 'mais', 'antigos', ',', 'como', 'as', 'árvores', 'de', 'decisão', ',', 'produziam', 'sistemas', 'de', 'regras', 'rígidas', 'então', 'semelhantes', 'às', 'regras', 'existentes', 'na', 'escritas', 'à', 'mão', '.', 'No', 'entanto', ',', 'a', 'marcação', 'de', 'partes', 'da', 'fala', '(', 'part', '-', 'of', '-', 'speech', 'tagging', ')', 'introduziu', 'o', 'uso', 'de', 'modelos', 'ocultos', 'de', 'Markov', 'para', 'o', 'PLN', 'e', ',', 'cada', 'vez', 'mais', ',', 'a', 'pesquisa', 'se', 'concentrava', 'em', 'modelos', 'estatísticos', ',', 'que', 'tomam', 'decisões', 'suaves', 'e', 'probabilísticas', 'baseadas', 'na', 'atribuição', 'de', 'pesos', 'reais', 'aos', 'recursos', 'que', 'compõem', 'dados', 'de', 'entrada', '.', 'Os', 'modelos', 'de', 'linguagem', 'de', 'cache', ',', 'sobre', 'os', 'quais', 'muitos', 'sistemas', 'de', 'reconhecimento', 'de', 'fala', 'agora', 'dependem', ',', 'são', 'exemplos', 'de', 'tais', 'modelos', 'estatísticos', '.', 'Esses', 'modelos', 'são', 'geralmente', 'mais', 'robustos', 'quando', 'dados', 'informações', 'desconhecidas', ',', 'especialmente', 'entrada', 'que', 'contém', 'erros', '(', 'como', 'é', 'muito', 'comum', 'para', 'dados', 'do', 'mundo', 'real', ')', 'e', 'produzem', 'resultados', 'mais', 'confiáveis', 'quando', 'integrados', 'em', 'sistemas', 'maiores', 'que', 'compreendem', 'múltiplas', 'tarefas', '.', 'Muitos', 'dos', 'sucessos', 'iniciais', 'notáveis', 'ocorreram', 'no', 'campo', 'da', 'tradução', 'automática', ',', 'devido', 'especialmente', 'ao', 'trabalho', 'de', 'pesquisa', 'da', 'IBM', ',', 'que', 'desenvolveu', 'modelos', 'estatísticos', 'mais', 'elaborados', '.', 'Estes', 'sistemas', 'foram', 'capazes', 'de', 'tirar', 'proveito', 'de', 'corpora', 'textuais', 'multilíngues', 'existentes', 'produzidos', 'pelo', 'Parlamento', 'do', 'Canadá', 'e', 'a', 'União', 'Europeia', 'como', 'resultado', 'de', 'leis', 'que', 'exigem', 'a', 'tradução', 'de', 'todos', 'os', 'processos', 'governamentais', 'em', 'todas', 'as', 'línguas', 'oficiais', 'dos', 'países', '.', 'No', 'entanto', ',', 'a', 'maioria', 'dos', 'sistemas', 'dependia', 'de', 'corpora', 'desenvolvido', 'especificamente', 'para', 'tarefas', 'implementadas', 'por', 'esses', 'sistemas', ',', 'o', 'que', 'era', '(', 'e', 'muitas', 'vezes', 'continua', 'sendo', ')', 'uma', 'grande', 'limitação', 'no', 'sucesso', 'dos', 'mesmo', '.', 'Como', 'resultado', ',', 'uma', 'grande', 'quantidade', 'de', 'pesquisa', 'passou', 'de', 'quantidades', 'de', 'dados', 'limitadas', 'a', 'métodos', 'de', 'aprendizagem', 'mais', 'eficazes', '.', 'Pesquisas', 'recentes', 'têm', 'se', 'concentrado', 'cada', 'vez', 'mais', 'em', 'algoritmos', 'de', 'aprendizagem', 'semi', '-', 'supervisionados', 'e', 'sem', 'supervisão', '.', 'Esses', 'algoritmos', 'são', 'capazes', 'de', 'aprender', 'com', 'dados', 'que', 'não', 'foram', 'anotados', 'manualmente', 'com', 'as', 'respostas', 'desejadas', 'ou', 'usando', 'uma', 'combinação', 'de', 'dados', 'anotados', 'e', 'não', 'anotados', '.', 'Geralmente', ',', 'esta', 'tarefa', 'é', 'muito', 'mais', 'trabalhosa', 'do', 'que', 'a', 'aprendizagem', 'supervisionada', 'e', 'normalmente', 'produz', 'resultados', 'menos', 'precisos', 'para', 'uma', 'quantidade', 'específica', 'de', 'dados', 'de', 'entrada', '.', 'No', 'entanto', ',', 'há', 'uma', 'enorme', 'quantidade', 'de', 'dados', 'não', 'anotados', 'disponíveis', '(', 'incluindo', ',', 'entre', 'outras', 'coisas', ',', 'todo', 'o', 'conteúdo', 'da', 'World', 'Wide', 'Web', ')', ',', 'que', 'muitas', 'vezes', 'pode', 'compensar', 'os', 'resultados', 'inferiores', '.', '=', '=', 'Usando', 'a', 'aprendizagem', 'automática', '(', 'aprendizado', 'de', 'máquina', ')', '=', '=', 'Os', 'algoritmos', 'modernos', 'de', 'PLN', 'baseiam', '-', 'se', 'na', 'aprendizagem', 'mecânica', ',', 'especialmente', 'na', 'aprendizagem', 'de', 'máquinas', 'estatísticas', '.', 'O', 'paradigma', 'da', 'aprendizagem', 'mecânica', 'é', 'diferente', 'do', 'da', 'maioria', 'das', 'tentativas', 'anteriores', 'de', 'processamento', 'da', 'linguagem', '.', 'Anteriormente', ',', 'implementações', 'de', 'tarefas', 'de', 'processamento', 'de', 'linguagem', 'envolviam', 'a', 'codificação', 'direta', 'de', 'grandes', 'conjuntos', 'de', 'regras', '.', 'O', 'paradigma', 'da', 'aprendizagem', 'automática', '(', 'ou', 'aprendizagem', 'automática', ')', 'induz', 'a', 'aprendizagem', 'automática', 'de', 'regras', 'através', 'de', 'análises', 'de', 'corpora', 'de', 'exemplos', 'típicos', 'do', 'mundo', 'real', 'ao', 'invés', 'de', 'usar', 'algoritmos', 'gerais', 'de', 'aprendizagem', '(', 'muitas', 'vezes', ',', 'embora', 'nem', 'sempre', ',', 'baseados', 'em', 'inferência', 'estatística', ')', '.', 'Um', 'corpus', '(', 'plural', '\"', 'corpora', '\"', ')', 'é', 'um', 'conjunto', 'de', 'documentos', '(', 'ou', 'frases', 'individuais', ')', 'que', 'foram', 'anotados', 'à', 'mão', 'com', 'os', 'valores', 'corretos', 'a', 'serem', 'aprendidos', '.', 'Muitas', 'classes', 'diferentes', 'de', 'algoritmos', 'de', 'aprendizado', 'de', 'máquina', 'foram', 'aplicadas', 'a', 'tarefas', 'de', 'PLN', '.', 'Esses', 'algoritmos', 'tomam', 'como', 'entrada', 'um', 'grande', 'conjunto', 'de', '\"', 'recursos', '\"', 'que', 'são', 'gerados', 'a', 'partir', 'de', 'dados', 'de', 'entrada', '.', 'Alguns', 'dos', 'algoritmos', 'mais', 'usados', ',', 'como', 'árvores', 'de', 'decisão', ',', 'produziam', 'sistemas', 'de', 'regras', 'rígidas', 'semelhantes', 'aos', 'sistemas', 'de', 'regras', 'manuscritas', 'mais', 'comuns', '.', 'No', 'entanto', ',', 'cada', 'vez', 'mais', ',', 'a', 'pesquisa', 'tem', 'se', 'concentrado', 'em', 'modelos', 'estatísticos', ',', 'que', 'tomam', 'decisões', 'flexíveis', 'e', 'probabilísticas', 'baseadas', 'em', 'agregar', 'pesos', 'reais', 'a', 'cada', 'característica', 'de', 'entrada', '.', 'Tais', 'modelos', 'têm', 'a', 'vantagem', 'de', 'poder', 'expressar', 'a', 'certeza', 'relativa', 'de', 'muitas', 'respostas', 'possíveis', 'diferentes', 'em', 'vez', 'de', 'apenas', 'uma', ',', 'produzindo', 'resultados', 'mais', 'confiáveis', 'quando', 'esse', 'modelo', 'é', 'incluído', 'como', 'um', 'componente', 'de', 'um', 'sistema', 'maior', '.', 'Os', 'sistemas', 'baseados', 'em', 'algoritmos', 'de', 'aprendizagem', 'mecânica', 'têm', 'muitas', 'vantagens', 'em', 'relação', 'às', 'regras', 'produzidas', 'manualmente', ':', 'Os', 'procedimentos', 'de', 'aprendizagem', 'usados', 'durante', 'a', 'aprendizagem', 'da', 'máquina', 'focam', '-', 'se', 'automaticamente', 'nos', 'casos', 'mais', 'comuns', ',', 'ao', 'passo', 'que', 'quando', 'se', 'escrevem', 'regras', 'à', 'mão', ',', 'não', 'é', 'óbvio', 'em', 'que', 'sentido', 'o', 'esforço', 'deve', 'ser', 'dirigido', '.', 'Os', 'procedimentos', 'de', 'aprendizagem', 'automática', 'podem', 'fazer', 'uso', 'de', 'algoritmos', 'de', 'inferência', 'estatística', 'para', 'produzir', 'modelos', 'que', 'são', 'robustos', 'a', 'entradas', 'não', 'familiares', '(', 'por', 'exemplo', ',', 'contendo', 'palavras', 'ou', 'estruturas', 'que', 'não', 'foram', 'vistas', 'antes', ')', 'e', 'a', 'entradas', 'errôneas', '(', 'por', 'exemplo', ',', 'com', 'palavras', 'ou', 'palavras', 'incorretamente', 'omitidas', ')', '.', 'Geralmente', ',', 'lidar', 'com', 'essas', 'entradas', 'de', 'forma', 'com', 'regras', 'manuscritas', 'ou', 'sistemas', 'de', 'regras', 'manuscritas', 'que', 'tomam', 'decisões', 'suaves', 'é', 'extremamente', 'trabalhoso', ',', 'propenso', 'a', 'erros', 'e', 'demorado', '.', 'Sistemas', 'baseados', 'em', 'aprender', 'automaticamente', 'as', 'regras', 'podem', 'ser', 'mais', 'precisos', 'simplesmente', 'fornecendo', 'mais', 'dados', 'de', 'entrada', '.', 'No', 'entanto', ',', 'os', 'sistemas', 'baseados', 'em', 'regras', 'escritas', 'à', 'mão', 'só', 'podem', 'ser', 'tornados', 'mais', 'precisos', 'aumentando', 'a', 'complexidade', 'das', 'regras', ',', 'o', 'que', 'é', 'uma', 'tarefa', 'muito', 'mais', 'difícil', '.', 'Em', 'particular', ',', 'há', 'um', 'limite', 'para', 'a', 'complexidade', 'de', 'sistemas', 'baseados', 'em', 'regras', 'artesanais', ',', 'para', 'além', 'dos', 'quais', 'os', 'sistemas', 'se', 'tornam', 'cada', 'vez', 'mais', 'incontroláveis', '.', 'No', 'entanto', ',', 'a', 'criação', 'de', 'mais', 'dados', 'para', 'entrada', 'em', 'sistemas', 'de', 'aprendizado', 'de', 'máquina', 'requer', 'simplesmente', 'um', 'aumento', 'correspondente', 'no', 'número', 'de', 'horas', 'trabalhadas', 'por', 'humanos', ',', 'geralmente', 'sem', 'aumentos', 'significativos', 'na', 'complexidade', 'do', 'processo', 'de', 'anotação', '.', 'O', 'subcampo', 'de', 'PLN', 'dedicado', 'a', 'abordagens', 'de', 'aprendizagem', 'é', 'conhecido', 'como', 'aprendizagem', 'de', 'língua', 'natural', '(', 'NLL', ')', 'e', 'sua', 'conferência', ',', 'a', 'CoNLL', ',', 'e', 'orgão', 'central', ',', 'o', 'SIGNLL', ',', 'são', 'patrocinados', 'pela', 'ACL', ',', 'reconhecendo', 'também', 'as', 'suas', 'ligações', 'com', 'linguística', 'computacional', 'e', 'aquisição', 'de', 'linguagem', '.', 'Quando', 'o', 'objetivo', 'da', 'pesquisa', 'de', 'aprendizagem', 'de', 'linguagem', 'computacional', 'é', 'entender', 'mais', 'sobre', 'aquisição', 'de', 'linguagem', 'humana', ',', 'ou', 'psicolinguística', ',', 'a', 'NLL', 'sobrepõe', '-', 'se', 'no', 'campo', 'relacionado', 'de', 'psicolinguística', 'computacional', '.', '=', '=', 'Aplicações', 'principais', '=', '=', 'A', 'listagem', 'a', 'seguir', 'traz', 'alguns', 'dos', 'trabalhos', 'mais', 'pesquisadas', 'em', 'PLN', '.', 'Note', 'que', 'alguns', 'deles', 'têm', 'aplicações', 'no', 'mundo', 'real', ',', 'enquanto', 'outras', 'servem', 'mais', 'frequentemente', 'como', 'tarefas', 'secundárias', 'que', 'são', 'usadas', 'para', 'auxiliar', 'na', 'resolução', 'de', 'tarefas', 'maiores', '.', 'O', 'que', 'distingue', 'essas', 'tarefas', 'de', 'outras', 'tarefas', 'potenciais', 'e', 'reais', 'de', 'PLN', 'não', 'é', 'apenas', 'o', 'volume', 'de', 'pesquisa', 'dedicado', 'a', 'elas', ',', 'mas', 'o', 'fato', 'de', 'que', 'para', 'cada', 'uma', 'há', 'tipicamente', 'uma', 'definição', 'de', 'problema', 'bem', 'especificada', ',', 'uma', 'métrica', 'padrão', 'para', 'avaliar', 'a', 'tarefa', ',', 'corpora', 'padrão', 'em', 'que', 'a', 'tarefa', 'pode', 'ser', 'avaliada', 'e', 'as', 'competições', 'dedicadas', 'à', 'tarefa', 'específica', '.', 'Sumarização', 'automática', 'Produz', 'um', 'resumo', 'legível', 'de', 'uma', 'parte', 'do', 'texto', '.', 'Muitas', 'vezes', 'usado', 'para', 'fornecer', 'resumos', 'de', 'texto', 'de', 'um', 'tipo', 'conhecido', ',', 'como', 'artigos', 'na', 'seção', 'financeira', 'de', 'um', 'jornal', '.', 'Resolução', 'de', 'correferência', 'Dada', 'uma', 'frase', 'ou', 'um', 'pedaço', 'maior', 'de', 'texto', ',', 'determina', 'quais', 'palavras', '(', '\"', 'menções', '\"', ')', 'se', 'referem', 'aos', 'mesmos', 'objetos', '(', '\"', 'entidades', '\"', ')', '.', 'A', 'resolução', 'da', 'anáfora', 'é', 'um', 'exemplo', 'específico', 'dessa', 'tarefa', 'e', 'está', 'especificamente', 'preocupada', 'em', 'combinar', 'os', 'pronomes', 'com', 'os', 'substantivos', 'ou', 'nomes', 'aos', 'quais', 'eles', 'se', 'referem', '.', 'A', 'tarefa', 'mais', 'geral', 'da', 'resolução', 'de', 'correferência', 'também', 'inclui', 'a', 'identificação', 'dos', 'chamados', '\"', 'relacionamentos', 'de', 'ponte', '\"', 'envolvendo', 'expressões', 'de', 'referência', '.', 'Por', 'exemplo', ',', 'numa', 'frase', 'como', '\"', 'Ele', 'entrou', 'na', 'casa', 'de', 'João', 'pela', 'porta', 'da', 'frente', '\"', ',', '\"', 'a', 'porta', 'da', 'frente', '\"', 'é', 'uma', 'expressão', 'de', 'referência', 'e', 'a', 'relação', 'da', 'ponte', 'a', 'ser', 'identificada', 'é', 'o', 'fato', 'de', 'que', 'a', 'porta', 'a', 'ser', 'referida', 'é', 'a', 'porta', 'da', 'frente', 'de', \"John's\", '(', 'ao', 'invés', 'de', 'alguma', 'outra', 'estrutura', 'que', 'também', 'pode', 'ser', 'referida', ')', '.', 'Análise', 'do', 'Discurso', 'Esta', 'rubrica', 'inclui', 'uma', 'série', 'de', 'tarefas', 'relacionadas', '.', 'Uma', 'tarefa', 'é', 'identificar', 'a', 'estrutura', 'discursiva', 'do', 'texto', 'conectado', ',', 'isto', 'é', ',', 'a', 'natureza', 'das', 'relações', 'discursivas', 'entre', 'sentenças', '(', 'por', 'exemplo', ',', 'elaboração', ',', 'explicação', ',', 'contraste', ')', '.', 'Outra', 'possível', 'tarefa', 'é', 'reconhecer', 'e', 'classificar', 'os', 'atos', 'de', 'fala', 'em', 'um', 'pedaço', 'de', 'texto', '(', 'por', 'exemplo', ',', 'pergunta', 'sim', '-', 'não', ',', 'pergunta', 'de', 'conteúdo', ',', 'frase', ',', 'afirmação', ',', 'etc', ')', '.', 'Maquina', 'de', 'tradução', 'Traduzir', 'automaticamente', 'texto', 'de', 'uma', 'linguagem', 'humana', 'para', 'outra', '.', 'Este', 'é', 'uma', 'das', 'tarefas', 'mais', 'difíceis', 'e', 'faz', 'parte', 'de', 'um', 'tipo', 'de', 'problemas', 'conhecidos', 'como', '\"', 'AI', '-', 'complete', '\"', ',', 'ou', 'seja', ',', 'exigindo', 'todos', 'os', 'diferentes', 'tipos', 'de', 'conhecimento', 'que', 'os', 'humanos', 'possuem', '(', 'gramática', ',', 'semântica', ',', 'fatos', 'sobre', 'o', 'mundo', 'real', ',', 'etc', ')', 'para', 'resolvê', '-', 'lo', 'adequadamente', '.', 'Segmentação', 'morfológica', 'Separa', 'palavras', 'em', 'morfemas', 'individuais', 'e', 'identifica', 'classes', 'de', 'morfemas', '.', 'A', 'dificuldade', 'desta', 'tarefa', 'depende', 'muito', 'da', 'complexidade', 'da', 'morfologia', '(', 'isto', 'é', ',', 'da', 'estrutura', 'das', 'palavras', ')', 'da', 'linguagem', 'que', 'está', 'sendo', 'considerada', '.', 'O', 'inglês', 'possui', 'uma', 'morfologia', 'bastante', 'simples', ',', 'especialmente', 'a', 'morfologia', 'flexional', ',', 'e', 'portanto', 'é', 'possível', 'ignorar', 'esta', 'tarefa', 'inteiramente', 'e', 'simplesmente', 'modelar', 'todas', 'as', 'formas', 'possíveis', 'de', 'uma', 'palavra', '(', 'por', 'exemplo', ',', '\"', 'open', ',', 'opens', ',', 'opened', ',', 'opening', '\"', ')', 'como', 'palavras', 'separadas', '.', 'Em', 'línguas', 'como', 'o', 'turco', 'ou', 'o', 'Meitei', ',', 'uma', 'língua', 'indiana', 'fortemente', 'aglutinada', ',', 'no', 'entanto', ',', 'tal', 'abordagem', 'não', 'é', 'possível', ',', 'uma', 'vez', 'que', 'cada', 'entrada', 'do', 'dicionário', 'tem', 'milhares', 'de', 'formas', 'de', 'palavras', 'possíveis', '.', 'Reconhecimento', 'de', 'entidade', 'nomeada', '(', 'NER', ')', 'Dado', 'um', 'fluxo', 'de', 'texto', ',', 'determina', 'quais', 'são', 'itens', 'no', 'mapa', 'de', 'texto', 'para', 'nomes', 'próprios', ',', 'como', 'pessoas', 'ou', 'locais', 'e', 'qual', 'é', 'o', 'tipo', 'de', 'cada', 'nome', '(', 'por', 'exemplo', ',', 'pessoa', ',', 'local', ',', 'organização', ')', '.', 'Embora', 'a', 'capitalização', 'possa', 'ajudar', 'a', 'reconhecer', 'entidades', 'nomeadas', 'em', 'idiomas', 'como', 'o', 'inglês', ',', 'essas', 'informações', 'podem', 'não', 'ajudar', 'a', 'determinar', 'o', 'tipo', 'de', 'entidade', 'nomeada', 'e', ',', 'em', 'alguns', 'casos', ',', 'sãos', 'imprecisas', 'ou', 'insuficientes', '.', 'Por', 'exemplo', ',', 'a', 'primeira', 'palavra', 'de', 'uma', 'frase', 'também', 'é', 'capitalizada', 'e', 'as', 'entidades', 'nomeadas', 'muitas', 'vezes', 'abrangem', 'várias', 'palavras', ',', 'com', 'apenas', 'algumas', 'delas', 'são', 'capitalizadas', '.', 'Além', 'disso', ',', 'muitas', 'outras', 'linguagens', 'em', 'scripts', 'não', '-', 'ocidentais', '(', 'por', 'exemplo', ',', 'chinês', 'ou', 'árabe', ')', 'não', 'têm', 'nenhuma', 'capitalização', 'e', 'mesmo', 'as', 'línguas', 'com', 'maiúsculas', 'podem', 'não', 'distinguir', 'nomes', '.', 'Por', 'exemplo', ',', 'o', 'alemão', 'capitaliza', 'todos', 'os', 'substantivos', ',', 'independentemente', 'de', 'se', 'referirem', 'a', 'nomes', ',', 'e', 'o', 'francês', 'e', 'o', 'espanhol', 'não', 'capitalizam', 'nomes', 'que', 'servem', 'como', 'adjetivos', '.', 'Geração', 'de', 'língua', 'natural', 'Converte', 'informações', 'de', 'bancos', 'de', 'dados', 'de', 'computador', 'ou', 'intenções', 'semânticas', 'em', 'linguagem', 'humana', 'legível', '.', 'Compreensão', 'da', 'língua', 'natural', 'Converte', 'pedaços', 'de', 'texto', 'em', 'representações', 'mais', 'formais', ',', 'como', 'estruturas', 'de', 'lógica', 'de', 'primeira', 'ordem', ',', 'que', 'são', 'mais', 'fáceis', 'de', 'manipular', 'pelos', 'programas', 'de', 'computador', '.', 'A', 'compreensão', 'da', 'língua', 'natural', 'envolve', 'a', 'identificação', 'da', 'semântica', 'pretendida', 'a', 'partir', 'da', 'múltipla', 'semântica', 'possível', 'que', 'pode', 'ser', 'derivada', 'de', 'uma', 'expressão', 'de', 'língua', 'natural', 'que', 'geralmente', 'toma', 'a', 'forma', 'de', 'notação', 'organizada', 'de', 'conceitos', 'de', 'linguagens', 'naturais', '.', 'Entretanto', ',', 'introdução', 'e', 'criação', 'de', 'linguagem', 'metamodelo', 'e', 'ontologia', 'são', 'eficientes', 'soluções', 'empíricas', '.', 'Uma', 'formalização', 'explícita', 'da', 'semântica', 'de', 'línguas', 'naturais', 'sem', 'confusões', 'com', 'suposições', 'implícitas', 'como', 'closed', '-', 'world', 'assumption', '(', 'CWA', ')', 'versus', 'open', '-', 'world', 'assumption', 'ou', 'subjetiva', 'Sim', '/', 'Não', 'versus', 'objetivo', 'Verdadeiro', '/', 'Falso', 'é', 'esperada', 'para', 'a', 'construção', 'de', 'uma', 'base', 'de', 'formalização', 'semântica', '.', 'Reconhecimento', 'óptico', 'de', 'caracteres', '(', 'OCR', ')', 'Dada', 'uma', 'imagem', 'que', 'representa', 'o', 'texto', 'impresso', ',', 'determina', 'o', 'texto', 'correspondente', '.', 'Marcação', 'de', 'classe', 'gramatical', 'Dada', 'uma', 'sentença', ',', 'determina', 'a', 'classe', 'gramatical', 'de', 'cada', 'palavra', '.', 'Muitas', 'palavras', ',', 'especialmente', 'as', 'comuns', ',', 'podem', 'servir', 'como', 'múltiplas', 'partes', 'do', 'discurso', '.', 'Em', 'inglês', ',', 'por', 'exemplo', ',', '\"', 'book', '\"', 'pode', 'ser', 'um', 'substantivo', '(', '\"', 'the', 'book', 'on', 'the', 'table', '\"', ')', 'ou', 'verbo', '(', '\"', 'book', 'a', 'flight', '\"', ')', ';', '\"', 'Set', '\"', 'pode', 'ser', 'um', 'substantivo', ',', 'verbo', 'ou', 'adjetivo', ';', 'E', '\"', 'out', '\"', 'pode', 'ser', 'qualquer', 'um', 'de', 'pelo', 'menos', 'cinco', 'diferentes', 'partes', 'da', 'fala', '.', 'Algumas', 'línguas', 'têm', 'mais', 'ambiguidade', 'do', 'que', 'outras', '.', 'As', 'línguas', 'com', 'pouca', 'morfologia', 'flexional', ',', 'como', 'o', 'inglês', ',', 'são', 'particularmente', 'propensas', 'a', 'tal', 'ambiguidade', '.', 'O', 'chinês', 'é', 'propenso', 'a', 'tal', 'ambiguidade', 'porque', 'é', 'uma', 'língua', 'tonal', 'durante', 'a', 'verbalização', '.', 'Tal', 'inflexão', 'não', 'é', 'facilmente', 'transmitida', 'através', 'das', 'entidades', 'empregadas', 'dentro', 'da', 'ortografia', 'para', 'transmitir', 'o', 'significado', 'pretendido', '.', 'Análise', 'sintática', '(', 'Parsing', ')', 'Determina', 'a', 'árvore', 'de', 'análise', '(', 'análise', 'gramatical', ')', 'de', 'uma', 'frase', '.', 'A', 'gramática', 'para', 'as', 'linguagens', 'naturais', 'é', 'ambígua', 'e', 'frases', 'típicas', 'têm', 'múltiplas', 'análises', 'possíveis', '.', 'Na', 'verdade', ',', 'surpreendentemente', ',', 'para', 'uma', 'frase', 'típica', 'pode', 'haver', 'milhares', 'de', 'análises', 'em', 'potencial', '(', 'a', 'maioria', 'dos', 'quais', 'parecerá', 'completamente', 'absurda', 'para', 'um', 'ser', 'humano', ')', '.', 'Respostas', 'a', 'perguntas', 'Dada', 'uma', 'questão', 'de', 'linguagem', 'humana', ',', 'determina', 'sua', 'resposta', '.', 'As', 'perguntas', 'típicas', 'têm', 'uma', 'resposta', 'correta', 'específica', '(', 'como', '\"', 'Qual', 'é', 'o', 'capital', 'do', 'Canadá', '?', '\"', ')', ',', 'mas', 'às', 'vezes', 'perguntas', 'abertas', 'também', 'são', 'consideradas', '(', 'como', '\"', 'Qual', 'é', 'o', 'significado', 'da', 'vida', '?', '\"', ')', '.', 'Trabalhos', 'recentes', 'têm', 'analisado', 'questões', 'ainda', 'mais', 'complexas', '.', 'Extração', 'de', 'relacionamento', 'Identifica', 'as', 'relações', 'entre', 'entidades', 'nomeadas', '(', 'por', 'exemplo', ',', 'quem', 'é', 'casado', 'com', 'quem', ')', 'com', 'base', 'em', 'textos', '.', 'Quebra', 'de', 'frases', '(', 'sentence', 'boundary', 'disambiguation', ')', 'Encontra', 'os', 'limites', 'da', 'frase', 'em', 'um', 'pedaço', 'de', 'texto', '.', 'Os', 'limites', 'de', 'frases', 'são', 'normalmente', 'marcadas', 'por', 'pontos', 'ou', 'outros', 'sinais', 'de', 'pontuação', ',', 'mas', 'esses', 'mesmos', 'caracteres', 'podem', 'servir', 'outros', 'propósitos', '.', 'Análise', 'de', 'subjetividade', '(', 'sentiment', 'analysis', 'ou', 'opinion', 'mining', ')', 'Extrai', 'informações', 'subjetivas', 'geralmente', 'de', 'um', 'conjunto', 'de', 'documentos', ',', 'muitas', 'vezes', 'usando', 'revisões', 'online', 'para', 'determinar', 'a', '\"', 'polaridade', '\"', 'sobre', 'objetos', 'específicos', '.', 'É', 'especialmente', 'útil', 'para', 'identificar', 'tendências', 'da', 'opinião', 'pública', 'nas', 'mídias', 'sociais', ',', 'para', 'fins', 'de', 'marketing', '.', 'Reconhecimento', 'de', 'fala', 'Dado', 'um', 'clipe', 'de', 'som', 'de', 'uma', 'pessoa', 'ou', 'pessoas', 'falando', ',', 'determina', 'a', 'representação', 'textual', 'do', 'discurso', '.', 'É', 'o', 'oposto', 'da', 'síntese', 'de', 'fala', 'e', 'é', 'uma', 'das', 'áreas', 'mais', 'difíceis', ',', 'conhecida', 'como', '\"', 'AI', '-', 'complete', '\"', '.', 'Na', 'fala', 'natural', 'quase', 'não', 'há', 'pausas', 'entre', 'palavras', 'sucessivas', ',', 'por', 'isso', 'a', 'segmentação', 'de', 'fala', 'é', 'uma', 'subtarefa', 'necessária', 'de', 'reconhecimento', 'de', 'fala', '.', 'Nota', '-', 'se', 'também', 'que', ',', 'na', 'maioria', 'das', 'linguagens', 'faladas', ',', 'os', 'sons', 'que', 'representam', 'letras', 'sucessivas', 'se', 'misturam', 'entre', 'si', 'em', 'um', 'processo', 'denominado', 'coarticulação', ',', 'de', 'modo', 'que', 'a', 'conversão', 'do', 'sinal', 'analógico', 'em', 'caracteres', 'discretos', 'pode', 'ser', 'um', 'processo', 'muito', 'difícil', 'de', 'ser', 'realizado', '.', 'Segmentação', 'de', 'fala', 'Dado', 'um', 'clipe', 'de', 'som', 'de', 'uma', 'pessoa', 'ou', 'pessoas', 'falando', ',', 'separa', '-', 'o', 'em', 'palavras', '.', 'Uma', 'subaplicação', 'de', 'reconhecimento', 'de', 'fala', 'e', 'normalmente', 'agrupada', 'com', 'ele', '.', 'Análise', 'morfológica', 'e', 'reconhecimento', 'de', 'tópicos', 'Dado', 'um', 'pedaço', 'de', 'texto', ',', 'separa', '-', 'o', 'em', 'segmentos', 'cada', 'um', 'dos', 'quais', 'é', 'dedicado', 'a', 'um', 'tópico', 'e', 'identifica', 'o', 'tópico', 'do', 'segmento', '.', 'Análise', 'morfológica', 'e', 'segmentação', 'de', 'palavras', 'Separa', 'um', 'pedaço', 'de', 'texto', 'contínuo', 'em', 'palavras', 'separadas', '.', 'Para', 'uma', 'língua', 'como', 'o', 'inglês', ',', 'isso', 'é', 'bastante', 'trivial', ',', 'uma', 'vez', 'que', 'as', 'palavras', 'são', 'normalmente', 'separadas', 'por', 'espaços', '.', 'No', 'entanto', ',', 'algumas', 'línguas', 'escritas', 'como', 'chinês', ',', 'japonês', 'e', 'tailandês', 'não', 'marcam', 'limites', 'de', 'palavras', 'de', 'tal', 'forma', ',', 'e', 'nessas', 'línguas', 'segmentação', 'de', 'texto', 'é', 'uma', 'tarefa', 'significativa', 'que', 'requer', 'conhecimento', 'do', 'vocabulário', 'e', 'morfologia', 'das', 'palavras', 'na', 'língua', '.', 'Desambiguação', 'Muitas', 'palavras', 'têm', 'mais', 'de', 'um', 'significado', ',', 'assim', 'temos', 'que', 'selecionar', 'o', 'significado', 'que', 'faz', 'mais', 'sentido', 'no', 'contexto', '.', 'Para', 'este', 'problema', ',', 'em', 'geral', 'é', 'dada', 'uma', 'lista', 'de', 'palavras', 'e', 'sentidos', 'de', 'palavras', 'associadas', 'de', 'um', 'dicionário', 'ou', 'recurso', 'online', ',', 'como', 'o', 'WordNet', '.', 'Em', 'alguns', 'casos', ',', 'conjuntos', 'de', 'tarefas', 'relacionadas', 'são', 'agrupados', 'em', 'subcampos', 'de', 'PLN', 'que', 'são', 'frequentemente', 'considerados', 'separadamente', 'da', 'PLN', 'como', 'um', 'todo', ',', 'como', 'os', 'exemplos', 'à', 'seguir', ':', 'Recuperação', 'de', 'informação', '(', 'IR', ')', 'Trata', '-', 'se', 'de', 'armazenar', ',', 'pesquisar', 'e', 'recuperar', 'informações', '.', 'É', 'um', 'campo', 'separado', 'dentro', 'da', 'ciência', 'da', 'computação', '(', 'mais', 'perto', 'de', 'bancos', 'de', 'dados', ')', ',', 'mas', 'a', 'IR', 'se', 'baseia', 'em', 'alguns', 'métodos', 'PLN', '(', 'por', 'exemplo', ',', 'stemming', ')', '.', 'Algumas', 'pesquisas', 'e', 'aplicações', 'atuais', 'procuram', 'preencher', 'a', 'lacuna', 'entre', 'IR', 'e', 'PLN', '.', 'Extração', 'de', 'informação', '(', 'IE', ')', 'Trata', '-', 'se', ',', 'em', 'geral', ',', 'da', 'extração', 'de', 'informação', 'semântica', 'a', 'partir', 'do', 'texto', '.', 'Abrange', 'tarefas', 'como', 'reconhecimento', 'de', 'entidade', 'mencionada', ',', 'resolução', 'de', 'correferência', 'e', 'de', 'relacionamento', 'de', 'extração', ',', 'etc', '.', 'Processamento', 'de', 'voz', 'Abrange', 'reconhecimento', 'de', 'fala', ',', 'síntese', 'de', 'fala', 'e', 'tarefas', 'relacionadas', '.', 'Outras', 'tarefas', 'incluem', ':', 'Identificação', 'na', 'língua', 'materna', 'Stemização', 'Simplificação', 'do', 'texto', 'Síntese', 'de', 'fala', 'Revisão', 'de', 'texto', 'Pesquisa', 'em', 'língua', 'natural', 'Expansão', 'da', 'consulta', 'Pontuação', 'de', 'ensaio', 'automatizado', 'Truecasing', '=', '=', 'Estatística', '=', '=', 'Artigo', 'principal', ':', 'Gramática', 'estocástica', 'O', 'processamento', 'estatístico', 'em', 'língua', 'natural', 'utiliza', 'métodos', 'estocásticos', ',', 'probabilísticos', 'e', 'estatísticos', 'para', 'resolver', 'algumas', 'das', 'dificuldades', 'discutidas', 'acima', ',', 'especialmente', 'aquelas', 'que', 'surgem', 'porque', 'frases', 'mais', 'longas', 'são', 'muito', 'ambíguas', 'quando', 'processadas', 'com', 'gramáticas', 'realistas', ',', 'produzindo', 'milhares', 'ou', 'milhões', 'de', 'análises', 'possíveis', '.', 'Métodos', 'de', 'desambiguação', 'envolvem', 'muitas', 'vezes', 'o', 'uso', 'de', 'corpora', 'e', 'modelos', 'de', 'Markov', '.', 'O', 'projeto', 'ESPRIT', 'P26', '(', '1984', '-', '1988', ')', ',', 'liderado', 'pelo', 'CSELT', ',', 'explorou', 'o', 'problema', 'do', 'reconhecimento', 'de', 'fala', 'comparando', 'abordagem', 'baseada', 'em', 'conhecimento', 'e', 'estatística', ':', 'o', 'resultado', 'escolhido', 'foi', 'um', 'modelo', 'completamente', 'estatístico', '.', 'Um', 'dos', 'primeiros', 'modelos', 'de', 'compreensão', 'estatística', 'da', 'língua', 'natural', 'foi', 'introduzido', 'em', '1991', 'por', 'Roberto', 'Pieraccini', ',', 'Esther', 'Levin', 'e', 'Chin', '-', 'Hui', 'Lee', ',', 'da', 'Bell', 'Laboratories', ']', '.', 'O', 'PLN', 'compreende', 'todas', 'as', 'abordagens', 'quantitativas', 'para', 'processamento', 'automatizado', 'de', 'linguagem', ',', 'incluindo', 'modelagem', 'probabilística', ',', 'teoria', 'da', 'informação', 'e', 'álgebra', 'linear', '.', 'A', 'tecnologia', 'para', 'o', 'PLN', 'estatístico', 'vem', 'principalmente', 'da', 'aprendizagem', 'automática', 'e', 'da', 'mineração', 'de', 'dados', ',', 'que', 'são', 'campos', 'de', 'inteligência', 'artificial', 'que', 'envolvem', 'o', 'aprendizado', 'a', 'partir', 'de', 'dados', '.', '=', '=', 'Avaliação', '=', '=', 'O', 'objetivo', 'da', 'avaliação', 'do', 'PLN', 'é', 'uma', 'medida', 'de', 'uma', 'ou', 'mais', 'qualidades', 'de', 'um', 'algoritmo', 'ou', 'de', 'um', 'sistema', 'a', 'fim', 'de', 'determinar', 'se', 'o', 'algoritmo', 'atende', 'às', 'metas', 'dos', 'projetistas', 'ou', 'o', 'sistema', 'de', 'atendimento', 'às', 'necessidades', 'de', 'seus', 'usuários', '.', 'Investigação', 'na', 'avaliação', 'PLN', 'tem', 'ganhado', 'atenção', ',', 'porque', 'a', 'definição', 'de', 'critérios', 'de', 'avaliação', 'é', 'uma', 'forma', 'de', 'especificar', 'precisamente', 'problemas', 'do', 'PLN', '.', 'Uma', 'métrica', 'de', 'avaliação', 'de', 'PLN', 'em', 'um', 'sistema', 'algorítmico', 'permite', 'a', 'integração', 'da', 'compreensão', 'de', 'linguagem', 'e', 'geração', 'de', 'linguagem', '.', 'Um', 'conjunto', 'preciso', 'de', 'critérios', 'de', 'avaliação', ',', 'que', 'pode', 'ser', 'aplicado', 'principalmente', 'a', 'avaliações', 'métricas', ',', 'podendo', 'permitir', 'que', 'várias', 'equipes', 'comparem', 'suas', 'soluções', 'para', 'um', 'determinado', 'problema', 'do', 'PLN', '.', '=', '=', 'Cronologia', 'da', 'avaliação', '=', '=', 'Em', '1983', ',', 'iniciou', '-', 'se', 'o', 'Projecto', 'Esprit', 'P26', ',', 'que', 'avaliou', 'as', 'Tecnologias', 'da', 'Fala', '(', 'incluindo', 'tópicos', 'gerais', 'como', 'Sintaxe', 'e', 'Semântica', ')', 'comparando', 'as', 'abordagens', 'baseadas', 'em', 'regras', 'com', 'as', 'estatísticas', '.', 'Em', '1987', ',', 'a', 'primeira', 'campanha', 'de', 'avaliação', 'de', 'textos', 'escritos', 'parece', 'ser', 'uma', 'campanha', 'dedicada', 'à', 'compreensão', 'da', 'mensagem', '(', 'Pallet', ',', '1998', ')', '.', 'O', 'projeto', 'Parseval', '/', 'GEIG', 'comparou', 'gramáticas', 'de', 'frase', '-', 'estrutura', '(', 'Black', '1991', ')', '.', 'Houve', 'uma', 'série', 'de', 'campanhas', 'no', 'projeto', 'Tipster', 'sobre', 'tarefas', 'como', 'resumo', ',', 'tradução', 'e', 'pesquisa', '(', 'Hirschman', '1998', ')', '.', 'Em', '1994', ',', 'na', 'Alemanha', ',', 'o', 'Morpholympics', 'comparou', 'marcadores', 'morfológicos', 'alemães', '.', 'As', 'campanhas', 'de', 'Senseval', '&', 'Romanseval', 'foram', 'realizadas', 'com', 'os', 'objetivos', 'de', 'desambiguação', 'semântica', '.', 'Em', '1996', ',', 'a', 'campanha', 'Sparkle', 'comparou', 'os', 'analisadores', 'sintáticos', 'em', 'quatro', 'idiomas', 'diferentes', '(', 'inglês', ',', 'francês', ',', 'alemão', 'e', 'italiano', ')', '.', 'Na', 'França', ',', 'o', 'projeto', 'Grace', 'comparou', 'um', 'conjunto', 'de', '21', 'marcadores', 'para', 'o', 'francês', 'em', '1997', '(', 'Adda', '1999', ')', '.', 'Em', '2004', ',', 'durante', 'o', 'projeto', 'Technolangue', '/', 'Easy', ',', 'foram', 'comparados', '13', 'analisadores', 'para', 'o', 'francês', '.', 'A', 'avaliação', 'em', 'larga', 'escala', 'dos', 'analisadores', 'de', 'dependência', 'foi', 'realizada', 'no', 'contexto', 'das', 'tarefas', 'compartilhadas', 'do', 'CoNLL', 'em', '2006', 'e', '2007', '.', 'Na', 'França', ',', 'no', 'âmbito', 'do', 'projecto', 'ANR', '-', 'Passage', '(', 'final', 'de', '2007', ')', ',', 'foram', 'comparados', '10', 'analisadores', 'para', 'o', 'francês', '.', 'Em', 'Itália', ',', 'a', 'campanha', 'EVALITA', 'foi', 'realizada', 'em', '2007', ',', '2009', ',', '2011', 'e', '2014', 'para', 'comparar', 'várias', 'ferramentas', 'de', 'PLN', 'e', 'de', 'voz', 'para', 'o', 'site', 'italiano', '-', 'EVALITA', '.', '=', '=', 'Diferentes', 'tipos', 'de', 'avaliação', '=', '=', 'Avaliação', 'intrínseca', 'vs', '.', 'extrínseca', 'A', 'avaliação', 'intrínseca', 'considera', 'um', 'sistema', 'PNL', 'isolado', 'e', 'caracteriza', 'seu', 'desempenho', 'em', 'relação', 'a', 'um', 'resultado', 'padrão', '-', 'excelência', ',', 'conforme', 'definido', 'pelos', 'avaliadores', '.', 'A', 'avaliação', 'extrínseca', ',', 'também', 'chamada', 'de', 'avaliação', 'em', 'uso', ',', 'considera', 'o', 'sistema', 'PLN', 'em', 'um', 'cenário', 'mais', 'complexo', 'como', 'um', 'sistema', 'embutido', 'ou', 'uma', 'função', 'precisa', 'para', 'um', 'usuário', 'humano', '.', 'O', 'desempenho', 'extrínseco', 'do', 'sistema', 'é', 'então', 'caracterizado', 'em', 'termos', 'de', 'utilidade', 'em', 'relação', 'à', 'tarefa', 'global', 'do', 'sistema', 'estranho', 'ou', 'do', 'utilizador', 'humano', '.', 'Por', 'exemplo', ',', 'considere', 'um', 'analisador', 'sintático', 'que', 'é', 'baseado', 'na', 'saída', 'de', 'alguma', 'parte', 'do', 'tagger', 'de', 'fala', '(', 'POS', ')', '.', 'Uma', 'avaliação', 'intrínseca', 'executaria', 'o', 'marcador', 'POS', 'em', 'dados', 'estruturados', 'e', 'compararia', 'a', 'saída', 'do', 'sistema', 'do', 'marcador', 'POS', 'com', 'a', 'saída', 'padrão', 'ouro', '.', 'Uma', 'avaliação', 'extrínseca', 'executaria', 'o', 'analisador', 'com', 'algum', 'outro', 'marcador', 'POS', 'e', ',', 'em', 'seguida', ',', 'com', 'o', 'marcador', 'POS', 'novo', 'e', 'compara', 'a', 'precisão', 'de', 'análise', '.', 'Caixa', 'preta', 'vs', '.', 'Avaliação', 'da', 'caixa', 'de', 'vidro', 'A', 'avaliação', 'em', 'caixa', 'preta', 'requer', 'que', 'alguém', 'execute', 'um', 'sistema', 'PLN', 'em', 'um', 'conjunto', 'de', 'dados', 'de', 'amostra', 'e', 'para', 'medir', 'uma', 'série', 'de', 'parâmetros', 'relacionados', 'com', 'a', 'qualidade', 'do', 'processo', ',', 'como', 'velocidade', ',', 'confiabilidade', ',', 'consumo', 'de', 'recursos', 'e', ',', 'principalmente', ',', 'a', 'qualidade', 'do', 'resultado', ',', 'como', 'a', 'precisão', 'da', 'anotação', 'de', 'dados', 'ou', 'a', 'fidelidade', 'de', 'uma', 'tradução', '.', 'A', 'avaliação', 'da', 'caixa', 'de', 'vidro', 'examina', 'a', 'concepção', 'do', 'sistema', ';', 'Os', 'algoritmos', 'que', 'são', 'implementados', ',', 'os', 'recursos', 'linguísticos', 'que', 'utiliza', ',', 'como', 'o', 'tamanho', 'do', 'vocabulário', 'ou', 'a', 'expressão', 'definida', 'de', 'cardinalidade', '.', 'Dada', 'a', 'complexidade', 'dos', 'problemas', 'da', 'PLN', ',', 'muitas', 'vezes', 'é', 'difícil', 'prever', 'o', 'desempenho', 'apenas', 'com', 'base', 'na', 'avaliação', 'da', 'caixa', 'de', 'vidro', ';', 'Mas', 'este', 'tipo', 'de', 'avaliação', 'é', 'mais', 'informativo', 'no', 'que', 'diz', 'respeito', 'à', 'análise', 'de', 'erros', 'ou', 'desenvolvimentos', 'futuros', 'de', 'um', 'sistema', '.', 'Automática', 'vs', '.', 'avaliação', 'manual', 'Em', 'muitos', 'casos', ',', 'procedimentos', 'automáticos', 'podem', 'ser', 'definidos', 'para', 'avaliar', 'um', 'sistema', 'de', 'PLN', ',', 'comparando', 'sua', 'saída', 'com', 'o', 'padrão', 'de', 'excelência', '.', 'Embora', 'o', 'custo', 'de', 'reproduzir', 'o', 'padrão', 'de', 'excelência', 'possa', 'ser', 'bastante', 'elevado', ',', 'avaliação', 'automática', 'de', 'bootstrapping', 'sobre', 'os', 'mesmos', 'dados', 'de', 'entrada', 'pode', 'ser', 'repetida', 'quantas', 'vezes', 'for', 'necessário', 'sem', 'custos', 'adicionais', 'desordenados', '.', 'No', 'entanto', ',', 'para', 'muitos', 'problemas', 'de', 'PLN', 'a', 'definição', 'precisa', 'de', 'um', 'padrão', 'de', 'excelência', 'é', 'uma', 'tarefa', 'complexa', 'e', 'pode', 'se', 'revelar', 'impossível', 'quando', 'o', 'acordo', 'inter', '-', 'anotador', 'é', 'insuficiente', '.', 'A', 'avaliação', 'manual', 'é', 'melhor', 'realizada', 'por', 'juízes', 'humanos', 'instruídos', 'para', 'estimar', 'a', 'qualidade', 'de', 'um', 'sistema', ',', 'ou', 'mais', 'frequentemente', 'de', 'uma', 'amostra', 'de', 'sua', 'produção', ',', 'com', 'base', 'em', 'uma', 'série', 'de', 'critérios', '.', 'Embora', ',', 'graças', 'à', 'sua', 'competência', 'linguística', ',', 'os', 'juízes', 'humanos', 'possam', 'ser', 'considerados', 'como', 'a', 'referência', 'para', 'uma', 'série', 'de', 'tarefas', 'de', 'processamento', 'de', 'linguagem', ',', 'há', 'também', 'uma', 'variação', 'considerável', 'em', 'suas', 'classificações', '.', 'É', 'por', 'isso', 'que', 'a', 'avaliação', 'automática', 'é', ',', 'por', 'vezes', ',', 'referida', 'como', 'avaliação', 'objetiva', 'enquanto', 'a', 'avaliação', 'humana', 'é', 'perspectiva', '.', '=', '=', 'Padronização', '=', '=', 'Um', 'subcomitê', 'ISO', 'está', 'trabalhando', 'para', 'facilitar', 'a', 'interoperabilidade', 'entre', 'recursos', 'lexicais', 'e', 'programas', 'PLN', '.', 'O', 'subcomitê', 'faz', 'parte', 'do', 'ISO', '/', 'TC37', 'e', 'é', 'chamado', 'ISO', '/', 'TC37', '/', 'SC4', '.', 'Alguns', 'padrões', 'ISO', 'já', 'estão', 'publicados', ',', 'mas', 'a', 'maioria', 'deles', 'está', 'em', 'construção', ',', 'principalmente', 'na', 'representação', 'de', 'léxico', '(', 'ver', 'LMF', ')', ',', 'anotação', 'e', 'registro', 'de', 'categoria', 'de', 'dados', '.', '=', '=', 'Ferramentas', '=', '=', 'Expert', 'System', 'S', '.', 'p', '.', 'A', '.', 'General', 'Architecture', 'for', 'Text', 'Engineering', 'Modular', 'Audio', 'Recognition', 'Framework', 'Natural', 'Language', 'Toolkit', '(', 'NLTK', ')', ':', 'uma', 'biblioteca', 'em', 'Python', 'OpenNLP', '=', '=', 'Veja', 'também', '=', '=', 'Mineração', 'de', 'texto', 'biomédica', 'Processo', 'de', 'processamento', 'composto', 'Revisão', 'assistida', 'por', 'computador', 'Linguagem', 'natural', 'controlada', 'Processamento', 'linguístico', 'profundo', 'Auxílio', 'à', 'leitura', 'de', 'línguas', 'estrangeiras', 'Auxílio', 'à', 'escrita', 'em', 'língua', 'estrangeira', 'Tecnologia', 'da', 'linguagem', 'A', 'alocação', 'de', 'Dirichlet', 'Latente', '(', 'LDA', ')', 'Indexação', 'semântica', 'latente', 'Lista', 'de', 'ferramentas', 'de', 'processamento', 'de', 'língua', 'natural', 'Mapa', 'de', 'LRE', 'Programação', 'em', 'língua', 'natural', 'Reificação', '(', 'linguística', ')', 'Dobradura', 'semântica', 'Sistema', 'de', 'diálogo', 'falado', 'Vetor', 'do', 'Pensamento', 'Pesquisa', 'Transderivacional', 'Word2vec', '=', '=', 'Referências', '=', '=', '=', '=', 'Leitura', 'adicional', '=', '=', 'Steven', 'Bird', ',', 'Ewan', 'Klein', ',', 'and', 'Edward', 'Loper', '(', '2009', ')', '.', 'Natural', 'Language', 'Processing', 'with', 'Python', '.', \"O'Reilly\", 'Media', '.', 'ISBN', '978', '-', '0', '-', '596', '-', '51649', '-', '9', '.', 'Daniel', 'Jurafsky', 'and', 'James', 'H', '.', 'Martin', '(', '2008', ')', '.', 'Speech', 'and', 'Language', 'Processing', ',', '2nd', 'edition', '.', 'Pearson', 'Prentice', 'Hall', '.', 'ISBN', '978', '-', '0', '-', '13', '-', '187321', '-', '6', '.', 'Christopher', 'D', '.', 'Manning', ',', 'Prabhakar', 'Raghavan', ',', 'and', 'Hinrich', 'Schütze', '(', '2008', ')', '.', 'Introduction', 'to', 'Information', 'Retrieval', '.', 'Cambridge', 'University', 'Press', '.', 'ISBN', '978', '-', '0', '-', '521', '-', '86571', '-', '5', '.', 'Official', 'html', 'and', 'pdf', 'versions', 'available', 'without', 'charge', '.', 'Christopher', 'D', '.', 'Manning', 'and', 'Hinrich', 'Schütze', '(', '1999', ')', '.', 'Foundations', 'of', 'Statistical', 'Natural', 'Language', 'Processing', '.', 'The', 'MIT', 'Press', '.', 'ISBN', '978', '-', '0', '-', '262', '-', '13360', '-', '9', '.', 'David', 'M', '.', 'W', '.', 'Powers', 'and', 'Christopher', 'C', '.', 'R', '.', 'Turk', '(', '1989', ')', '.', 'Machine', 'Learning', 'of', 'Natural', 'Language', '.', 'Springer', '-', 'Verlag', '.', 'ISBN', '978', '-', '0', '-', '387', '-', '19557', '-', '5', '.']\n"
          ],
          "name": "stdout"
        }
      ]
    },
    {
      "cell_type": "markdown",
      "metadata": {
        "id": "T7qnHatKE2WA",
        "colab_type": "text"
      },
      "source": [
        "### NLTK\n",
        "\n",
        "Faça utilizando o método abaixo.\n",
        "<b> Não esqueça de armazenar o resultado na variável abaixo. </b>\n",
        "\n",
        "```python\n",
        "nltk.word_tokenize(corpus)\n",
        "```"
      ]
    },
    {
      "cell_type": "code",
      "metadata": {
        "id": "7UNG87TUE2WA",
        "colab_type": "code",
        "colab": {}
      },
      "source": [
        "tokens_nltk = nltk.word_tokenize(corpus)"
      ],
      "execution_count": null,
      "outputs": []
    },
    {
      "cell_type": "code",
      "metadata": {
        "id": "CG26NMKvE2WC",
        "colab_type": "code",
        "colab": {
          "base_uri": "https://localhost:8080/",
          "height": 54
        },
        "outputId": "3966b07f-b41f-4f37-c932-22f23c0059c1"
      },
      "source": [
        "#NLTK\n",
        "print(tokens_nltk)"
      ],
      "execution_count": null,
      "outputs": [
        {
          "output_type": "stream",
          "text": [
            "['Processamento', 'de', 'língua', 'natural', '(', 'PLN', ')', 'é', 'uma', 'subárea', 'da', 'ciência', 'da', 'computação', ',', 'inteligência', 'artificial', 'e', 'da', 'linguística', 'que', 'estuda', 'os', 'problemas', 'da', 'geração', 'e', 'compreensão', 'automática', 'de', 'línguas', 'humanas', 'naturais', '.', 'Sistemas', 'de', 'geração', 'de', 'língua', 'natural', 'convertem', 'informação', 'de', 'bancos', 'de', 'dados', 'de', 'computadores', 'em', 'linguagem', 'compreensível', 'ao', 'ser', 'humano', 'e', 'sistemas', 'de', 'compreensão', 'de', 'língua', 'natural', 'convertem', 'ocorrências', 'de', 'linguagem', 'humana', 'em', 'representações', 'mais', 'formais', ',', 'mais', 'facilmente', 'manipuláveis', 'por', 'programas', 'de', 'computador', '.', 'Alguns', 'desafios', 'do', 'PLN', 'são', 'compreensão', 'de', 'língua', 'natural', ',', 'fazer', 'com', 'que', 'computadores', 'extraiam', 'sentido', 'de', 'linguagem', 'humana', 'ou', 'natural', 'e', 'geração', 'de', 'língua', 'natural', '.', '==', 'História', '==', 'A', 'história', 'do', 'PLN', 'começou', 'na', 'década', 'de', '1950', ',', 'quando', 'Alan', 'Turing', 'publicou', 'o', 'artigo', '``', 'Computing', 'Machinery', 'and', 'Intelligence', \"''\", ',', 'que', 'propunha', 'o', 'que', 'agora', 'é', 'chamado', 'de', 'teste', 'de', 'Turing', 'como', 'critério', 'de', 'inteligência', '.', 'Em', '1954', ',', 'a', 'experiência', 'de', 'Georgetown', 'envolveu', 'a', 'tradução', 'automática', 'de', 'mais', 'de', 'sessenta', 'frases', 'russas', 'para', 'o', 'inglês', '.', 'Os', 'autores', 'afirmaram', 'que', 'dentro', 'de', 'três', 'ou', 'cinco', 'anos', 'a', 'tradução', 'automática', 'seria', 'um', 'problema', 'resolvido', '.', 'No', 'entanto', ',', 'os', 'avanços', 'reais', 'foram', 'muito', 'mais', 'lentos', 'do', 'que', 'o', 'previsto', 'e', ',', 'após', 'o', 'relatório', 'ALPAC', 'em', '1966', ',', 'que', 'constatou', 'que', 'a', 'pesquisa', 'de', 'dez', 'anos', 'não', 'conseguiu', 'satisfazer', 'as', 'expectativas', ',', 'o', 'financiamento', 'para', 'este', 'estudo', 'em', 'tradução', 'automática', 'foi', 'reduzido', 'drasticamente', '.', 'Poucas', 'pesquisas', 'em', 'tradução', 'automática', 'foram', 'conduzidas', 'até', 'o', 'final', 'dos', 'anos', '80', ',', 'quando', 'os', 'primeiros', 'sistemas', 'estatísticos', 'de', 'tradução', 'foram', 'desenvolvidos', '.', 'Alguns', 'sistemas', 'de', 'PLN', 'bem', 'sucedidos', 'desenvolvidos', 'nos', 'anos', '60', 'foram', 'SHRDLU', ',', 'um', 'sistema', 'de', 'língua', 'natural', 'que', 'trabalhava', 'em', '``', 'blocks', 'worlds', \"''\", 'com', 'vocabulário', 'restrito', 'e', 'ELIZA', ',', 'uma', 'simulação', 'de', 'um', 'psicoterapeuta', 'escrita', 'por', 'Joseph', 'Weizenbaum', 'entre', '1964', 'e', '1966', '.', 'Usando', 'pouca', 'informação', 'sobre', 'o', 'pensamento', 'ou', 'a', 'emoção', 'humana', ',', 'ELIZA', 'criava', ',', 'em', 'alguns', 'casos', ',', 'interações', 'surpreendentemente', 'humanas', '.', 'Quando', 'o', '``', 'paciente', \"''\", 'excedia', 'a', 'base', 'de', 'conhecimento', 'do', 'programa', ',', 'ELIZA', 'fornecia', 'uma', 'resposta', 'genérica', ',', 'por', 'exemplo', ',', 'respondendo', 'a', '``', 'Minha', 'cabeça', 'dói', \"''\", 'com', '``', 'Por', 'que', 'você', 'diz', 'que', 'sua', 'cabeça', 'dói', '?', \"''\", '.', 'Durante', 'a', 'década', 'de', '1970', ',', 'muitos', 'programadores', 'começaram', 'a', 'escrever', '``', 'ontologias', 'conceituais', \"''\", ',', 'que', 'estruturaram', 'a', 'informação', 'do', 'mundo', 'real', 'em', 'dados', 'compreensíveis', 'por', 'computadores', '.', 'Exemplos', 'são', 'MARGIE', '(', 'SCHANK', ',', '1975', ')', ',', 'SAM', '(', 'CULLINGFORD', ',', '1978', ')', ',', 'PAM', '(', 'WILENSKY', ',', '1978', ')', ',', 'TaleSpin', '(', 'MEEHAN', ',', '1976', ')', ',', 'QUALM', '(', 'LEHNERT', ',', '1977', ')', ',', 'Politics', '(', 'CARBONELL', ',', '1979', ')', 'e', 'Plot', 'Units', '(', 'LEHNERT', ',', '1981', ')', '.', 'Neste', 'período', ',', 'muitos', 'chatterbots', 'foram', 'escritos', ',', 'como', 'PARRY', ',', 'Racter', 'e', 'Jabberwacky', '.', 'Até', 'a', 'década', 'de', '1980', ',', 'a', 'maioria', 'dos', 'sistemas', 'de', 'PLN', 'se', 'baseava', 'em', 'conjuntos', 'complexos', 'de', 'regras', 'manuscritas', '.', 'A', 'partir', 'do', 'final', 'dos', 'anos', '1980', ',', 'no', 'entanto', ',', 'houve', 'uma', 'revolução', 'no', 'PLN', 'com', 'a', 'introdução', 'de', 'algoritmos', 'de', 'aprendizagem', 'automática', '(', 'aprendizado', 'de', 'máquina', ')', 'para', 'o', 'processamento', 'de', 'linguagem', '.', 'Isto', 'foi', 'devido', 'tanto', 'ao', 'aumento', 'constante', 'do', 'poder', 'computacional', '(', 'ver', 'Lei', 'de', 'Moore', ')', 'quanto', 'à', 'diminuição', 'gradual', 'da', 'dominância', 'das', 'teorias', 'da', 'linguística', 'chomskyanas', '(', 'como', 'a', 'gramática', 'gerativa', ')', ',', 'cujos', 'fundamentos', 'teóricos', 'desestimularam', 'o', 'tipo', 'de', 'corpus', 'linguístico', 'que', 'está', 'subjacente', 'à', 'abordagem', 'da', 'aprendizagem', 'automática', 'ao', 'processamento', 'da', 'linguagem', '.', 'Alguns', 'dos', 'algoritmos', 'de', 'aprendizado', 'de', 'máquinas', 'mais', 'antigos', ',', 'como', 'as', 'árvores', 'de', 'decisão', ',', 'produziam', 'sistemas', 'de', 'regras', 'rígidas', 'então', 'semelhantes', 'às', 'regras', 'existentes', 'na', 'escritas', 'à', 'mão', '.', 'No', 'entanto', ',', 'a', 'marcação', 'de', 'partes', 'da', 'fala', '(', 'part-of-speech', 'tagging', ')', 'introduziu', 'o', 'uso', 'de', 'modelos', 'ocultos', 'de', 'Markov', 'para', 'o', 'PLN', 'e', ',', 'cada', 'vez', 'mais', ',', 'a', 'pesquisa', 'se', 'concentrava', 'em', 'modelos', 'estatísticos', ',', 'que', 'tomam', 'decisões', 'suaves', 'e', 'probabilísticas', 'baseadas', 'na', 'atribuição', 'de', 'pesos', 'reais', 'aos', 'recursos', 'que', 'compõem', 'dados', 'de', 'entrada', '.', 'Os', 'modelos', 'de', 'linguagem', 'de', 'cache', ',', 'sobre', 'os', 'quais', 'muitos', 'sistemas', 'de', 'reconhecimento', 'de', 'fala', 'agora', 'dependem', ',', 'são', 'exemplos', 'de', 'tais', 'modelos', 'estatísticos', '.', 'Esses', 'modelos', 'são', 'geralmente', 'mais', 'robustos', 'quando', 'dados', 'informações', 'desconhecidas', ',', 'especialmente', 'entrada', 'que', 'contém', 'erros', '(', 'como', 'é', 'muito', 'comum', 'para', 'dados', 'do', 'mundo', 'real', ')', 'e', 'produzem', 'resultados', 'mais', 'confiáveis', 'quando', 'integrados', 'em', 'sistemas', 'maiores', 'que', 'compreendem', 'múltiplas', 'tarefas', '.', 'Muitos', 'dos', 'sucessos', 'iniciais', 'notáveis', 'ocorreram', 'no', 'campo', 'da', 'tradução', 'automática', ',', 'devido', 'especialmente', 'ao', 'trabalho', 'de', 'pesquisa', 'da', 'IBM', ',', 'que', 'desenvolveu', 'modelos', 'estatísticos', 'mais', 'elaborados', '.', 'Estes', 'sistemas', 'foram', 'capazes', 'de', 'tirar', 'proveito', 'de', 'corpora', 'textuais', 'multilíngues', 'existentes', 'produzidos', 'pelo', 'Parlamento', 'do', 'Canadá', 'e', 'a', 'União', 'Europeia', 'como', 'resultado', 'de', 'leis', 'que', 'exigem', 'a', 'tradução', 'de', 'todos', 'os', 'processos', 'governamentais', 'em', 'todas', 'as', 'línguas', 'oficiais', 'dos', 'países', '.', 'No', 'entanto', ',', 'a', 'maioria', 'dos', 'sistemas', 'dependia', 'de', 'corpora', 'desenvolvido', 'especificamente', 'para', 'tarefas', 'implementadas', 'por', 'esses', 'sistemas', ',', 'o', 'que', 'era', '(', 'e', 'muitas', 'vezes', 'continua', 'sendo', ')', 'uma', 'grande', 'limitação', 'no', 'sucesso', 'dos', 'mesmo', '.', 'Como', 'resultado', ',', 'uma', 'grande', 'quantidade', 'de', 'pesquisa', 'passou', 'de', 'quantidades', 'de', 'dados', 'limitadas', 'a', 'métodos', 'de', 'aprendizagem', 'mais', 'eficazes', '.', 'Pesquisas', 'recentes', 'têm', 'se', 'concentrado', 'cada', 'vez', 'mais', 'em', 'algoritmos', 'de', 'aprendizagem', 'semi-supervisionados', 'e', 'sem', 'supervisão', '.', 'Esses', 'algoritmos', 'são', 'capazes', 'de', 'aprender', 'com', 'dados', 'que', 'não', 'foram', 'anotados', 'manualmente', 'com', 'as', 'respostas', 'desejadas', 'ou', 'usando', 'uma', 'combinação', 'de', 'dados', 'anotados', 'e', 'não', 'anotados', '.', 'Geralmente', ',', 'esta', 'tarefa', 'é', 'muito', 'mais', 'trabalhosa', 'do', 'que', 'a', 'aprendizagem', 'supervisionada', 'e', 'normalmente', 'produz', 'resultados', 'menos', 'precisos', 'para', 'uma', 'quantidade', 'específica', 'de', 'dados', 'de', 'entrada', '.', 'No', 'entanto', ',', 'há', 'uma', 'enorme', 'quantidade', 'de', 'dados', 'não', 'anotados', 'disponíveis', '(', 'incluindo', ',', 'entre', 'outras', 'coisas', ',', 'todo', 'o', 'conteúdo', 'da', 'World', 'Wide', 'Web', ')', ',', 'que', 'muitas', 'vezes', 'pode', 'compensar', 'os', 'resultados', 'inferiores', '.', '==', 'Usando', 'a', 'aprendizagem', 'automática', '(', 'aprendizado', 'de', 'máquina', ')', '==', 'Os', 'algoritmos', 'modernos', 'de', 'PLN', 'baseiam-se', 'na', 'aprendizagem', 'mecânica', ',', 'especialmente', 'na', 'aprendizagem', 'de', 'máquinas', 'estatísticas', '.', 'O', 'paradigma', 'da', 'aprendizagem', 'mecânica', 'é', 'diferente', 'do', 'da', 'maioria', 'das', 'tentativas', 'anteriores', 'de', 'processamento', 'da', 'linguagem', '.', 'Anteriormente', ',', 'implementações', 'de', 'tarefas', 'de', 'processamento', 'de', 'linguagem', 'envolviam', 'a', 'codificação', 'direta', 'de', 'grandes', 'conjuntos', 'de', 'regras', '.', 'O', 'paradigma', 'da', 'aprendizagem', 'automática', '(', 'ou', 'aprendizagem', 'automática', ')', 'induz', 'a', 'aprendizagem', 'automática', 'de', 'regras', 'através', 'de', 'análises', 'de', 'corpora', 'de', 'exemplos', 'típicos', 'do', 'mundo', 'real', 'ao', 'invés', 'de', 'usar', 'algoritmos', 'gerais', 'de', 'aprendizagem', '(', 'muitas', 'vezes', ',', 'embora', 'nem', 'sempre', ',', 'baseados', 'em', 'inferência', 'estatística', ')', '.', 'Um', 'corpus', '(', 'plural', '``', 'corpora', \"''\", ')', 'é', 'um', 'conjunto', 'de', 'documentos', '(', 'ou', 'frases', 'individuais', ')', 'que', 'foram', 'anotados', 'à', 'mão', 'com', 'os', 'valores', 'corretos', 'a', 'serem', 'aprendidos', '.', 'Muitas', 'classes', 'diferentes', 'de', 'algoritmos', 'de', 'aprendizado', 'de', 'máquina', 'foram', 'aplicadas', 'a', 'tarefas', 'de', 'PLN', '.', 'Esses', 'algoritmos', 'tomam', 'como', 'entrada', 'um', 'grande', 'conjunto', 'de', '``', 'recursos', \"''\", 'que', 'são', 'gerados', 'a', 'partir', 'de', 'dados', 'de', 'entrada', '.', 'Alguns', 'dos', 'algoritmos', 'mais', 'usados', ',', 'como', 'árvores', 'de', 'decisão', ',', 'produziam', 'sistemas', 'de', 'regras', 'rígidas', 'semelhantes', 'aos', 'sistemas', 'de', 'regras', 'manuscritas', 'mais', 'comuns', '.', 'No', 'entanto', ',', 'cada', 'vez', 'mais', ',', 'a', 'pesquisa', 'tem', 'se', 'concentrado', 'em', 'modelos', 'estatísticos', ',', 'que', 'tomam', 'decisões', 'flexíveis', 'e', 'probabilísticas', 'baseadas', 'em', 'agregar', 'pesos', 'reais', 'a', 'cada', 'característica', 'de', 'entrada', '.', 'Tais', 'modelos', 'têm', 'a', 'vantagem', 'de', 'poder', 'expressar', 'a', 'certeza', 'relativa', 'de', 'muitas', 'respostas', 'possíveis', 'diferentes', 'em', 'vez', 'de', 'apenas', 'uma', ',', 'produzindo', 'resultados', 'mais', 'confiáveis', 'quando', 'esse', 'modelo', 'é', 'incluído', 'como', 'um', 'componente', 'de', 'um', 'sistema', 'maior', '.', 'Os', 'sistemas', 'baseados', 'em', 'algoritmos', 'de', 'aprendizagem', 'mecânica', 'têm', 'muitas', 'vantagens', 'em', 'relação', 'às', 'regras', 'produzidas', 'manualmente', ':', 'Os', 'procedimentos', 'de', 'aprendizagem', 'usados', 'durante', 'a', 'aprendizagem', 'da', 'máquina', 'focam-se', 'automaticamente', 'nos', 'casos', 'mais', 'comuns', ',', 'ao', 'passo', 'que', 'quando', 'se', 'escrevem', 'regras', 'à', 'mão', ',', 'não', 'é', 'óbvio', 'em', 'que', 'sentido', 'o', 'esforço', 'deve', 'ser', 'dirigido', '.', 'Os', 'procedimentos', 'de', 'aprendizagem', 'automática', 'podem', 'fazer', 'uso', 'de', 'algoritmos', 'de', 'inferência', 'estatística', 'para', 'produzir', 'modelos', 'que', 'são', 'robustos', 'a', 'entradas', 'não', 'familiares', '(', 'por', 'exemplo', ',', 'contendo', 'palavras', 'ou', 'estruturas', 'que', 'não', 'foram', 'vistas', 'antes', ')', 'e', 'a', 'entradas', 'errôneas', '(', 'por', 'exemplo', ',', 'com', 'palavras', 'ou', 'palavras', 'incorretamente', 'omitidas', ')', '.', 'Geralmente', ',', 'lidar', 'com', 'essas', 'entradas', 'de', 'forma', 'com', 'regras', 'manuscritas', 'ou', 'sistemas', 'de', 'regras', 'manuscritas', 'que', 'tomam', 'decisões', 'suaves', 'é', 'extremamente', 'trabalhoso', ',', 'propenso', 'a', 'erros', 'e', 'demorado', '.', 'Sistemas', 'baseados', 'em', 'aprender', 'automaticamente', 'as', 'regras', 'podem', 'ser', 'mais', 'precisos', 'simplesmente', 'fornecendo', 'mais', 'dados', 'de', 'entrada', '.', 'No', 'entanto', ',', 'os', 'sistemas', 'baseados', 'em', 'regras', 'escritas', 'à', 'mão', 'só', 'podem', 'ser', 'tornados', 'mais', 'precisos', 'aumentando', 'a', 'complexidade', 'das', 'regras', ',', 'o', 'que', 'é', 'uma', 'tarefa', 'muito', 'mais', 'difícil', '.', 'Em', 'particular', ',', 'há', 'um', 'limite', 'para', 'a', 'complexidade', 'de', 'sistemas', 'baseados', 'em', 'regras', 'artesanais', ',', 'para', 'além', 'dos', 'quais', 'os', 'sistemas', 'se', 'tornam', 'cada', 'vez', 'mais', 'incontroláveis', '.', 'No', 'entanto', ',', 'a', 'criação', 'de', 'mais', 'dados', 'para', 'entrada', 'em', 'sistemas', 'de', 'aprendizado', 'de', 'máquina', 'requer', 'simplesmente', 'um', 'aumento', 'correspondente', 'no', 'número', 'de', 'horas', 'trabalhadas', 'por', 'humanos', ',', 'geralmente', 'sem', 'aumentos', 'significativos', 'na', 'complexidade', 'do', 'processo', 'de', 'anotação.O', 'subcampo', 'de', 'PLN', 'dedicado', 'a', 'abordagens', 'de', 'aprendizagem', 'é', 'conhecido', 'como', 'aprendizagem', 'de', 'língua', 'natural', '(', 'NLL', ')', 'e', 'sua', 'conferência', ',', 'a', 'CoNLL', ',', 'e', 'orgão', 'central', ',', 'o', 'SIGNLL', ',', 'são', 'patrocinados', 'pela', 'ACL', ',', 'reconhecendo', 'também', 'as', 'suas', 'ligações', 'com', 'linguística', 'computacional', 'e', 'aquisição', 'de', 'linguagem', '.', 'Quando', 'o', 'objetivo', 'da', 'pesquisa', 'de', 'aprendizagem', 'de', 'linguagem', 'computacional', 'é', 'entender', 'mais', 'sobre', 'aquisição', 'de', 'linguagem', 'humana', ',', 'ou', 'psicolinguística', ',', 'a', 'NLL', 'sobrepõe-se', 'no', 'campo', 'relacionado', 'de', 'psicolinguística', 'computacional', '.', '==', 'Aplicações', 'principais', '==', 'A', 'listagem', 'a', 'seguir', 'traz', 'alguns', 'dos', 'trabalhos', 'mais', 'pesquisadas', 'em', 'PLN', '.', 'Note', 'que', 'alguns', 'deles', 'têm', 'aplicações', 'no', 'mundo', 'real', ',', 'enquanto', 'outras', 'servem', 'mais', 'frequentemente', 'como', 'tarefas', 'secundárias', 'que', 'são', 'usadas', 'para', 'auxiliar', 'na', 'resolução', 'de', 'tarefas', 'maiores', '.', 'O', 'que', 'distingue', 'essas', 'tarefas', 'de', 'outras', 'tarefas', 'potenciais', 'e', 'reais', 'de', 'PLN', 'não', 'é', 'apenas', 'o', 'volume', 'de', 'pesquisa', 'dedicado', 'a', 'elas', ',', 'mas', 'o', 'fato', 'de', 'que', 'para', 'cada', 'uma', 'há', 'tipicamente', 'uma', 'definição', 'de', 'problema', 'bem', 'especificada', ',', 'uma', 'métrica', 'padrão', 'para', 'avaliar', 'a', 'tarefa', ',', 'corpora', 'padrão', 'em', 'que', 'a', 'tarefa', 'pode', 'ser', 'avaliada', 'e', 'as', 'competições', 'dedicadas', 'à', 'tarefa', 'específica', '.', 'Sumarização', 'automática', 'Produz', 'um', 'resumo', 'legível', 'de', 'uma', 'parte', 'do', 'texto', '.', 'Muitas', 'vezes', 'usado', 'para', 'fornecer', 'resumos', 'de', 'texto', 'de', 'um', 'tipo', 'conhecido', ',', 'como', 'artigos', 'na', 'seção', 'financeira', 'de', 'um', 'jornal.Resolução', 'de', 'correferência', 'Dada', 'uma', 'frase', 'ou', 'um', 'pedaço', 'maior', 'de', 'texto', ',', 'determina', 'quais', 'palavras', '(', '``', 'menções', \"''\", ')', 'se', 'referem', 'aos', 'mesmos', 'objetos', '(', '``', 'entidades', \"''\", ')', '.', 'A', 'resolução', 'da', 'anáfora', 'é', 'um', 'exemplo', 'específico', 'dessa', 'tarefa', 'e', 'está', 'especificamente', 'preocupada', 'em', 'combinar', 'os', 'pronomes', 'com', 'os', 'substantivos', 'ou', 'nomes', 'aos', 'quais', 'eles', 'se', 'referem', '.', 'A', 'tarefa', 'mais', 'geral', 'da', 'resolução', 'de', 'correferência', 'também', 'inclui', 'a', 'identificação', 'dos', 'chamados', '``', 'relacionamentos', 'de', 'ponte', \"''\", 'envolvendo', 'expressões', 'de', 'referência', '.', 'Por', 'exemplo', ',', 'numa', 'frase', 'como', '``', 'Ele', 'entrou', 'na', 'casa', 'de', 'João', 'pela', 'porta', 'da', 'frente', \"''\", ',', '``', 'a', 'porta', 'da', 'frente', \"''\", 'é', 'uma', 'expressão', 'de', 'referência', 'e', 'a', 'relação', 'da', 'ponte', 'a', 'ser', 'identificada', 'é', 'o', 'fato', 'de', 'que', 'a', 'porta', 'a', 'ser', 'referida', 'é', 'a', 'porta', 'da', 'frente', 'de', 'John', \"'s\", '(', 'ao', 'invés', 'de', 'alguma', 'outra', 'estrutura', 'que', 'também', 'pode', 'ser', 'referida', ')', '.Análise', 'do', 'Discurso', 'Esta', 'rubrica', 'inclui', 'uma', 'série', 'de', 'tarefas', 'relacionadas', '.', 'Uma', 'tarefa', 'é', 'identificar', 'a', 'estrutura', 'discursiva', 'do', 'texto', 'conectado', ',', 'isto', 'é', ',', 'a', 'natureza', 'das', 'relações', 'discursivas', 'entre', 'sentenças', '(', 'por', 'exemplo', ',', 'elaboração', ',', 'explicação', ',', 'contraste', ')', '.', 'Outra', 'possível', 'tarefa', 'é', 'reconhecer', 'e', 'classificar', 'os', 'atos', 'de', 'fala', 'em', 'um', 'pedaço', 'de', 'texto', '(', 'por', 'exemplo', ',', 'pergunta', 'sim-não', ',', 'pergunta', 'de', 'conteúdo', ',', 'frase', ',', 'afirmação', ',', 'etc', ')', '.Maquina', 'de', 'tradução', 'Traduzir', 'automaticamente', 'texto', 'de', 'uma', 'linguagem', 'humana', 'para', 'outra', '.', 'Este', 'é', 'uma', 'das', 'tarefas', 'mais', 'difíceis', 'e', 'faz', 'parte', 'de', 'um', 'tipo', 'de', 'problemas', 'conhecidos', 'como', '``', 'AI-complete', \"''\", ',', 'ou', 'seja', ',', 'exigindo', 'todos', 'os', 'diferentes', 'tipos', 'de', 'conhecimento', 'que', 'os', 'humanos', 'possuem', '(', 'gramática', ',', 'semântica', ',', 'fatos', 'sobre', 'o', 'mundo', 'real', ',', 'etc', ')', 'para', 'resolvê-lo', 'adequadamente.Segmentação', 'morfológica', 'Separa', 'palavras', 'em', 'morfemas', 'individuais', 'e', 'identifica', 'classes', 'de', 'morfemas', '.', 'A', 'dificuldade', 'desta', 'tarefa', 'depende', 'muito', 'da', 'complexidade', 'da', 'morfologia', '(', 'isto', 'é', ',', 'da', 'estrutura', 'das', 'palavras', ')', 'da', 'linguagem', 'que', 'está', 'sendo', 'considerada', '.', 'O', 'inglês', 'possui', 'uma', 'morfologia', 'bastante', 'simples', ',', 'especialmente', 'a', 'morfologia', 'flexional', ',', 'e', 'portanto', 'é', 'possível', 'ignorar', 'esta', 'tarefa', 'inteiramente', 'e', 'simplesmente', 'modelar', 'todas', 'as', 'formas', 'possíveis', 'de', 'uma', 'palavra', '(', 'por', 'exemplo', ',', '``', 'open', ',', 'opens', ',', 'opened', ',', 'opening', \"''\", ')', 'como', 'palavras', 'separadas', '.', 'Em', 'línguas', 'como', 'o', 'turco', 'ou', 'o', 'Meitei', ',', 'uma', 'língua', 'indiana', 'fortemente', 'aglutinada', ',', 'no', 'entanto', ',', 'tal', 'abordagem', 'não', 'é', 'possível', ',', 'uma', 'vez', 'que', 'cada', 'entrada', 'do', 'dicionário', 'tem', 'milhares', 'de', 'formas', 'de', 'palavras', 'possíveis.Reconhecimento', 'de', 'entidade', 'nomeada', '(', 'NER', ')', 'Dado', 'um', 'fluxo', 'de', 'texto', ',', 'determina', 'quais', 'são', 'itens', 'no', 'mapa', 'de', 'texto', 'para', 'nomes', 'próprios', ',', 'como', 'pessoas', 'ou', 'locais', 'e', 'qual', 'é', 'o', 'tipo', 'de', 'cada', 'nome', '(', 'por', 'exemplo', ',', 'pessoa', ',', 'local', ',', 'organização', ')', '.', 'Embora', 'a', 'capitalização', 'possa', 'ajudar', 'a', 'reconhecer', 'entidades', 'nomeadas', 'em', 'idiomas', 'como', 'o', 'inglês', ',', 'essas', 'informações', 'podem', 'não', 'ajudar', 'a', 'determinar', 'o', 'tipo', 'de', 'entidade', 'nomeada', 'e', ',', 'em', 'alguns', 'casos', ',', 'sãos', 'imprecisas', 'ou', 'insuficientes', '.', 'Por', 'exemplo', ',', 'a', 'primeira', 'palavra', 'de', 'uma', 'frase', 'também', 'é', 'capitalizada', 'e', 'as', 'entidades', 'nomeadas', 'muitas', 'vezes', 'abrangem', 'várias', 'palavras', ',', 'com', 'apenas', 'algumas', 'delas', 'são', 'capitalizadas', '.', 'Além', 'disso', ',', 'muitas', 'outras', 'linguagens', 'em', 'scripts', 'não-ocidentais', '(', 'por', 'exemplo', ',', 'chinês', 'ou', 'árabe', ')', 'não', 'têm', 'nenhuma', 'capitalização', 'e', 'mesmo', 'as', 'línguas', 'com', 'maiúsculas', 'podem', 'não', 'distinguir', 'nomes', '.', 'Por', 'exemplo', ',', 'o', 'alemão', 'capitaliza', 'todos', 'os', 'substantivos', ',', 'independentemente', 'de', 'se', 'referirem', 'a', 'nomes', ',', 'e', 'o', 'francês', 'e', 'o', 'espanhol', 'não', 'capitalizam', 'nomes', 'que', 'servem', 'como', 'adjetivos.Geração', 'de', 'língua', 'natural', 'Converte', 'informações', 'de', 'bancos', 'de', 'dados', 'de', 'computador', 'ou', 'intenções', 'semânticas', 'em', 'linguagem', 'humana', 'legível.Compreensão', 'da', 'língua', 'natural', 'Converte', 'pedaços', 'de', 'texto', 'em', 'representações', 'mais', 'formais', ',', 'como', 'estruturas', 'de', 'lógica', 'de', 'primeira', 'ordem', ',', 'que', 'são', 'mais', 'fáceis', 'de', 'manipular', 'pelos', 'programas', 'de', 'computador', '.', 'A', 'compreensão', 'da', 'língua', 'natural', 'envolve', 'a', 'identificação', 'da', 'semântica', 'pretendida', 'a', 'partir', 'da', 'múltipla', 'semântica', 'possível', 'que', 'pode', 'ser', 'derivada', 'de', 'uma', 'expressão', 'de', 'língua', 'natural', 'que', 'geralmente', 'toma', 'a', 'forma', 'de', 'notação', 'organizada', 'de', 'conceitos', 'de', 'linguagens', 'naturais', '.', 'Entretanto', ',', 'introdução', 'e', 'criação', 'de', 'linguagem', 'metamodelo', 'e', 'ontologia', 'são', 'eficientes', 'soluções', 'empíricas', '.', 'Uma', 'formalização', 'explícita', 'da', 'semântica', 'de', 'línguas', 'naturais', 'sem', 'confusões', 'com', 'suposições', 'implícitas', 'como', 'closed-world', 'assumption', '(', 'CWA', ')', 'versus', 'open-world', 'assumption', 'ou', 'subjetiva', 'Sim', '/', 'Não', 'versus', 'objetivo', 'Verdadeiro', '/', 'Falso', 'é', 'esperada', 'para', 'a', 'construção', 'de', 'uma', 'base', 'de', 'formalização', 'semântica.Reconhecimento', 'óptico', 'de', 'caracteres', '(', 'OCR', ')', 'Dada', 'uma', 'imagem', 'que', 'representa', 'o', 'texto', 'impresso', ',', 'determina', 'o', 'texto', 'correspondente.Marcação', 'de', 'classe', 'gramatical', 'Dada', 'uma', 'sentença', ',', 'determina', 'a', 'classe', 'gramatical', 'de', 'cada', 'palavra', '.', 'Muitas', 'palavras', ',', 'especialmente', 'as', 'comuns', ',', 'podem', 'servir', 'como', 'múltiplas', 'partes', 'do', 'discurso', '.', 'Em', 'inglês', ',', 'por', 'exemplo', ',', '``', 'book', \"''\", 'pode', 'ser', 'um', 'substantivo', '(', '``', 'the', 'book', 'on', 'the', 'table', \"''\", ')', 'ou', 'verbo', '(', '``', 'book', 'a', 'flight', \"''\", ')', ';', '``', 'Set', \"''\", 'pode', 'ser', 'um', 'substantivo', ',', 'verbo', 'ou', 'adjetivo', ';', 'E', '``', 'out', \"''\", 'pode', 'ser', 'qualquer', 'um', 'de', 'pelo', 'menos', 'cinco', 'diferentes', 'partes', 'da', 'fala', '.', 'Algumas', 'línguas', 'têm', 'mais', 'ambiguidade', 'do', 'que', 'outras', '.', 'As', 'línguas', 'com', 'pouca', 'morfologia', 'flexional', ',', 'como', 'o', 'inglês', ',', 'são', 'particularmente', 'propensas', 'a', 'tal', 'ambiguidade', '.', 'O', 'chinês', 'é', 'propenso', 'a', 'tal', 'ambiguidade', 'porque', 'é', 'uma', 'língua', 'tonal', 'durante', 'a', 'verbalização', '.', 'Tal', 'inflexão', 'não', 'é', 'facilmente', 'transmitida', 'através', 'das', 'entidades', 'empregadas', 'dentro', 'da', 'ortografia', 'para', 'transmitir', 'o', 'significado', 'pretendido.Análise', 'sintática', '(', 'Parsing', ')', 'Determina', 'a', 'árvore', 'de', 'análise', '(', 'análise', 'gramatical', ')', 'de', 'uma', 'frase', '.', 'A', 'gramática', 'para', 'as', 'linguagens', 'naturais', 'é', 'ambígua', 'e', 'frases', 'típicas', 'têm', 'múltiplas', 'análises', 'possíveis', '.', 'Na', 'verdade', ',', 'surpreendentemente', ',', 'para', 'uma', 'frase', 'típica', 'pode', 'haver', 'milhares', 'de', 'análises', 'em', 'potencial', '(', 'a', 'maioria', 'dos', 'quais', 'parecerá', 'completamente', 'absurda', 'para', 'um', 'ser', 'humano', ')', '.Respostas', 'a', 'perguntas', 'Dada', 'uma', 'questão', 'de', 'linguagem', 'humana', ',', 'determina', 'sua', 'resposta', '.', 'As', 'perguntas', 'típicas', 'têm', 'uma', 'resposta', 'correta', 'específica', '(', 'como', '``', 'Qual', 'é', 'o', 'capital', 'do', 'Canadá', '?', '``', ')', ',', 'mas', 'às', 'vezes', 'perguntas', 'abertas', 'também', 'são', 'consideradas', '(', 'como', '``', 'Qual', 'é', 'o', 'significado', 'da', 'vida', '?', \"''\", ')', '.', 'Trabalhos', 'recentes', 'têm', 'analisado', 'questões', 'ainda', 'mais', 'complexas.Extração', 'de', 'relacionamento', 'Identifica', 'as', 'relações', 'entre', 'entidades', 'nomeadas', '(', 'por', 'exemplo', ',', 'quem', 'é', 'casado', 'com', 'quem', ')', 'com', 'base', 'em', 'textos.Quebra', 'de', 'frases', '(', 'sentence', 'boundary', 'disambiguation', ')', 'Encontra', 'os', 'limites', 'da', 'frase', 'em', 'um', 'pedaço', 'de', 'texto', '.', 'Os', 'limites', 'de', 'frases', 'são', 'normalmente', 'marcadas', 'por', 'pontos', 'ou', 'outros', 'sinais', 'de', 'pontuação', ',', 'mas', 'esses', 'mesmos', 'caracteres', 'podem', 'servir', 'outros', 'propósitos.Análise', 'de', 'subjetividade', '(', 'sentiment', 'analysis', 'ou', 'opinion', 'mining', ')', 'Extrai', 'informações', 'subjetivas', 'geralmente', 'de', 'um', 'conjunto', 'de', 'documentos', ',', 'muitas', 'vezes', 'usando', 'revisões', 'online', 'para', 'determinar', 'a', '``', 'polaridade', \"''\", 'sobre', 'objetos', 'específicos', '.', 'É', 'especialmente', 'útil', 'para', 'identificar', 'tendências', 'da', 'opinião', 'pública', 'nas', 'mídias', 'sociais', ',', 'para', 'fins', 'de', 'marketing.Reconhecimento', 'de', 'fala', 'Dado', 'um', 'clipe', 'de', 'som', 'de', 'uma', 'pessoa', 'ou', 'pessoas', 'falando', ',', 'determina', 'a', 'representação', 'textual', 'do', 'discurso', '.', 'É', 'o', 'oposto', 'da', 'síntese', 'de', 'fala', 'e', 'é', 'uma', 'das', 'áreas', 'mais', 'difíceis', ',', 'conhecida', 'como', '``', 'AI-complete', \"''\", '.', 'Na', 'fala', 'natural', 'quase', 'não', 'há', 'pausas', 'entre', 'palavras', 'sucessivas', ',', 'por', 'isso', 'a', 'segmentação', 'de', 'fala', 'é', 'uma', 'subtarefa', 'necessária', 'de', 'reconhecimento', 'de', 'fala', '.', 'Nota-se', 'também', 'que', ',', 'na', 'maioria', 'das', 'linguagens', 'faladas', ',', 'os', 'sons', 'que', 'representam', 'letras', 'sucessivas', 'se', 'misturam', 'entre', 'si', 'em', 'um', 'processo', 'denominado', 'coarticulação', ',', 'de', 'modo', 'que', 'a', 'conversão', 'do', 'sinal', 'analógico', 'em', 'caracteres', 'discretos', 'pode', 'ser', 'um', 'processo', 'muito', 'difícil', 'de', 'ser', 'realizado.Segmentação', 'de', 'fala', 'Dado', 'um', 'clipe', 'de', 'som', 'de', 'uma', 'pessoa', 'ou', 'pessoas', 'falando', ',', 'separa-o', 'em', 'palavras', '.', 'Uma', 'subaplicação', 'de', 'reconhecimento', 'de', 'fala', 'e', 'normalmente', 'agrupada', 'com', 'ele.Análise', 'morfológica', 'e', 'reconhecimento', 'de', 'tópicos', 'Dado', 'um', 'pedaço', 'de', 'texto', ',', 'separa-o', 'em', 'segmentos', 'cada', 'um', 'dos', 'quais', 'é', 'dedicado', 'a', 'um', 'tópico', 'e', 'identifica', 'o', 'tópico', 'do', 'segmento.Análise', 'morfológica', 'e', 'segmentação', 'de', 'palavras', 'Separa', 'um', 'pedaço', 'de', 'texto', 'contínuo', 'em', 'palavras', 'separadas', '.', 'Para', 'uma', 'língua', 'como', 'o', 'inglês', ',', 'isso', 'é', 'bastante', 'trivial', ',', 'uma', 'vez', 'que', 'as', 'palavras', 'são', 'normalmente', 'separadas', 'por', 'espaços', '.', 'No', 'entanto', ',', 'algumas', 'línguas', 'escritas', 'como', 'chinês', ',', 'japonês', 'e', 'tailandês', 'não', 'marcam', 'limites', 'de', 'palavras', 'de', 'tal', 'forma', ',', 'e', 'nessas', 'línguas', 'segmentação', 'de', 'texto', 'é', 'uma', 'tarefa', 'significativa', 'que', 'requer', 'conhecimento', 'do', 'vocabulário', 'e', 'morfologia', 'das', 'palavras', 'na', 'língua.Desambiguação', 'Muitas', 'palavras', 'têm', 'mais', 'de', 'um', 'significado', ',', 'assim', 'temos', 'que', 'selecionar', 'o', 'significado', 'que', 'faz', 'mais', 'sentido', 'no', 'contexto', '.', 'Para', 'este', 'problema', ',', 'em', 'geral', 'é', 'dada', 'uma', 'lista', 'de', 'palavras', 'e', 'sentidos', 'de', 'palavras', 'associadas', 'de', 'um', 'dicionário', 'ou', 'recurso', 'online', ',', 'como', 'o', 'WordNet', '.', 'Em', 'alguns', 'casos', ',', 'conjuntos', 'de', 'tarefas', 'relacionadas', 'são', 'agrupados', 'em', 'subcampos', 'de', 'PLN', 'que', 'são', 'frequentemente', 'considerados', 'separadamente', 'da', 'PLN', 'como', 'um', 'todo', ',', 'como', 'os', 'exemplos', 'à', 'seguir', ':', 'Recuperação', 'de', 'informação', '(', 'IR', ')', 'Trata-se', 'de', 'armazenar', ',', 'pesquisar', 'e', 'recuperar', 'informações', '.', 'É', 'um', 'campo', 'separado', 'dentro', 'da', 'ciência', 'da', 'computação', '(', 'mais', 'perto', 'de', 'bancos', 'de', 'dados', ')', ',', 'mas', 'a', 'IR', 'se', 'baseia', 'em', 'alguns', 'métodos', 'PLN', '(', 'por', 'exemplo', ',', 'stemming', ')', '.', 'Algumas', 'pesquisas', 'e', 'aplicações', 'atuais', 'procuram', 'preencher', 'a', 'lacuna', 'entre', 'IR', 'e', 'PLN.Extração', 'de', 'informação', '(', 'IE', ')', 'Trata-se', ',', 'em', 'geral', ',', 'da', 'extração', 'de', 'informação', 'semântica', 'a', 'partir', 'do', 'texto', '.', 'Abrange', 'tarefas', 'como', 'reconhecimento', 'de', 'entidade', 'mencionada', ',', 'resolução', 'de', 'correferência', 'e', 'de', 'relacionamento', 'de', 'extração', ',', 'etc', '.', 'Processamento', 'de', 'voz', 'Abrange', 'reconhecimento', 'de', 'fala', ',', 'síntese', 'de', 'fala', 'e', 'tarefas', 'relacionadas', '.', 'Outras', 'tarefas', 'incluem', ':', 'Identificação', 'na', 'língua', 'materna', 'Stemização', 'Simplificação', 'do', 'texto', 'Síntese', 'de', 'fala', 'Revisão', 'de', 'texto', 'Pesquisa', 'em', 'língua', 'natural', 'Expansão', 'da', 'consulta', 'Pontuação', 'de', 'ensaio', 'automatizado', 'Truecasing', '==', 'Estatística', '==', 'Artigo', 'principal', ':', 'Gramática', 'estocástica', 'O', 'processamento', 'estatístico', 'em', 'língua', 'natural', 'utiliza', 'métodos', 'estocásticos', ',', 'probabilísticos', 'e', 'estatísticos', 'para', 'resolver', 'algumas', 'das', 'dificuldades', 'discutidas', 'acima', ',', 'especialmente', 'aquelas', 'que', 'surgem', 'porque', 'frases', 'mais', 'longas', 'são', 'muito', 'ambíguas', 'quando', 'processadas', 'com', 'gramáticas', 'realistas', ',', 'produzindo', 'milhares', 'ou', 'milhões', 'de', 'análises', 'possíveis', '.', 'Métodos', 'de', 'desambiguação', 'envolvem', 'muitas', 'vezes', 'o', 'uso', 'de', 'corpora', 'e', 'modelos', 'de', 'Markov', '.', 'O', 'projeto', 'ESPRIT', 'P26', '(', '1984-1988', ')', ',', 'liderado', 'pelo', 'CSELT', ',', 'explorou', 'o', 'problema', 'do', 'reconhecimento', 'de', 'fala', 'comparando', 'abordagem', 'baseada', 'em', 'conhecimento', 'e', 'estatística', ':', 'o', 'resultado', 'escolhido', 'foi', 'um', 'modelo', 'completamente', 'estatístico', '.', 'Um', 'dos', 'primeiros', 'modelos', 'de', 'compreensão', 'estatística', 'da', 'língua', 'natural', 'foi', 'introduzido', 'em', '1991', 'por', 'Roberto', 'Pieraccini', ',', 'Esther', 'Levin', 'e', 'Chin-Hui', 'Lee', ',', 'da', 'Bell', 'Laboratories', ']', '.', 'O', 'PLN', 'compreende', 'todas', 'as', 'abordagens', 'quantitativas', 'para', 'processamento', 'automatizado', 'de', 'linguagem', ',', 'incluindo', 'modelagem', 'probabilística', ',', 'teoria', 'da', 'informação', 'e', 'álgebra', 'linear', '.', 'A', 'tecnologia', 'para', 'o', 'PLN', 'estatístico', 'vem', 'principalmente', 'da', 'aprendizagem', 'automática', 'e', 'da', 'mineração', 'de', 'dados', ',', 'que', 'são', 'campos', 'de', 'inteligência', 'artificial', 'que', 'envolvem', 'o', 'aprendizado', 'a', 'partir', 'de', 'dados', '.', '==', 'Avaliação', '==', 'O', 'objetivo', 'da', 'avaliação', 'do', 'PLN', 'é', 'uma', 'medida', 'de', 'uma', 'ou', 'mais', 'qualidades', 'de', 'um', 'algoritmo', 'ou', 'de', 'um', 'sistema', 'a', 'fim', 'de', 'determinar', 'se', 'o', 'algoritmo', 'atende', 'às', 'metas', 'dos', 'projetistas', 'ou', 'o', 'sistema', 'de', 'atendimento', 'às', 'necessidades', 'de', 'seus', 'usuários', '.', 'Investigação', 'na', 'avaliação', 'PLN', 'tem', 'ganhado', 'atenção', ',', 'porque', 'a', 'definição', 'de', 'critérios', 'de', 'avaliação', 'é', 'uma', 'forma', 'de', 'especificar', 'precisamente', 'problemas', 'do', 'PLN', '.', 'Uma', 'métrica', 'de', 'avaliação', 'de', 'PLN', 'em', 'um', 'sistema', 'algorítmico', 'permite', 'a', 'integração', 'da', 'compreensão', 'de', 'linguagem', 'e', 'geração', 'de', 'linguagem', '.', 'Um', 'conjunto', 'preciso', 'de', 'critérios', 'de', 'avaliação', ',', 'que', 'pode', 'ser', 'aplicado', 'principalmente', 'a', 'avaliações', 'métricas', ',', 'podendo', 'permitir', 'que', 'várias', 'equipes', 'comparem', 'suas', 'soluções', 'para', 'um', 'determinado', 'problema', 'do', 'PLN', '.', '==', 'Cronologia', 'da', 'avaliação', '==', 'Em', '1983', ',', 'iniciou-se', 'o', 'Projecto', 'Esprit', 'P26', ',', 'que', 'avaliou', 'as', 'Tecnologias', 'da', 'Fala', '(', 'incluindo', 'tópicos', 'gerais', 'como', 'Sintaxe', 'e', 'Semântica', ')', 'comparando', 'as', 'abordagens', 'baseadas', 'em', 'regras', 'com', 'as', 'estatísticas', '.', 'Em', '1987', ',', 'a', 'primeira', 'campanha', 'de', 'avaliação', 'de', 'textos', 'escritos', 'parece', 'ser', 'uma', 'campanha', 'dedicada', 'à', 'compreensão', 'da', 'mensagem', '(', 'Pallet', ',', '1998', ')', '.', 'O', 'projeto', 'Parseval', '/', 'GEIG', 'comparou', 'gramáticas', 'de', 'frase-estrutura', '(', 'Black', '1991', ')', '.', 'Houve', 'uma', 'série', 'de', 'campanhas', 'no', 'projeto', 'Tipster', 'sobre', 'tarefas', 'como', 'resumo', ',', 'tradução', 'e', 'pesquisa', '(', 'Hirschman', '1998', ')', '.', 'Em', '1994', ',', 'na', 'Alemanha', ',', 'o', 'Morpholympics', 'comparou', 'marcadores', 'morfológicos', 'alemães', '.', 'As', 'campanhas', 'de', 'Senseval', '&', 'Romanseval', 'foram', 'realizadas', 'com', 'os', 'objetivos', 'de', 'desambiguação', 'semântica', '.', 'Em', '1996', ',', 'a', 'campanha', 'Sparkle', 'comparou', 'os', 'analisadores', 'sintáticos', 'em', 'quatro', 'idiomas', 'diferentes', '(', 'inglês', ',', 'francês', ',', 'alemão', 'e', 'italiano', ')', '.', 'Na', 'França', ',', 'o', 'projeto', 'Grace', 'comparou', 'um', 'conjunto', 'de', '21', 'marcadores', 'para', 'o', 'francês', 'em', '1997', '(', 'Adda', '1999', ')', '.', 'Em', '2004', ',', 'durante', 'o', 'projeto', 'Technolangue', '/', 'Easy', ',', 'foram', 'comparados', '13', 'analisadores', 'para', 'o', 'francês', '.', 'A', 'avaliação', 'em', 'larga', 'escala', 'dos', 'analisadores', 'de', 'dependência', 'foi', 'realizada', 'no', 'contexto', 'das', 'tarefas', 'compartilhadas', 'do', 'CoNLL', 'em', '2006', 'e', '2007', '.', 'Na', 'França', ',', 'no', 'âmbito', 'do', 'projecto', 'ANR-Passage', '(', 'final', 'de', '2007', ')', ',', 'foram', 'comparados', '10', 'analisadores', 'para', 'o', 'francês', '.', 'Em', 'Itália', ',', 'a', 'campanha', 'EVALITA', 'foi', 'realizada', 'em', '2007', ',', '2009', ',', '2011', 'e', '2014', 'para', 'comparar', 'várias', 'ferramentas', 'de', 'PLN', 'e', 'de', 'voz', 'para', 'o', 'site', 'italiano', '-', 'EVALITA', '.', '==', 'Diferentes', 'tipos', 'de', 'avaliação', '==', 'Avaliação', 'intrínseca', 'vs.', 'extrínseca', 'A', 'avaliação', 'intrínseca', 'considera', 'um', 'sistema', 'PNL', 'isolado', 'e', 'caracteriza', 'seu', 'desempenho', 'em', 'relação', 'a', 'um', 'resultado', 'padrão-excelência', ',', 'conforme', 'definido', 'pelos', 'avaliadores', '.', 'A', 'avaliação', 'extrínseca', ',', 'também', 'chamada', 'de', 'avaliação', 'em', 'uso', ',', 'considera', 'o', 'sistema', 'PLN', 'em', 'um', 'cenário', 'mais', 'complexo', 'como', 'um', 'sistema', 'embutido', 'ou', 'uma', 'função', 'precisa', 'para', 'um', 'usuário', 'humano', '.', 'O', 'desempenho', 'extrínseco', 'do', 'sistema', 'é', 'então', 'caracterizado', 'em', 'termos', 'de', 'utilidade', 'em', 'relação', 'à', 'tarefa', 'global', 'do', 'sistema', 'estranho', 'ou', 'do', 'utilizador', 'humano', '.', 'Por', 'exemplo', ',', 'considere', 'um', 'analisador', 'sintático', 'que', 'é', 'baseado', 'na', 'saída', 'de', 'alguma', 'parte', 'do', 'tagger', 'de', 'fala', '(', 'POS', ')', '.', 'Uma', 'avaliação', 'intrínseca', 'executaria', 'o', 'marcador', 'POS', 'em', 'dados', 'estruturados', 'e', 'compararia', 'a', 'saída', 'do', 'sistema', 'do', 'marcador', 'POS', 'com', 'a', 'saída', 'padrão', 'ouro', '.', 'Uma', 'avaliação', 'extrínseca', 'executaria', 'o', 'analisador', 'com', 'algum', 'outro', 'marcador', 'POS', 'e', ',', 'em', 'seguida', ',', 'com', 'o', 'marcador', 'POS', 'novo', 'e', 'compara', 'a', 'precisão', 'de', 'análise', '.', 'Caixa', 'preta', 'vs.', 'Avaliação', 'da', 'caixa', 'de', 'vidro', 'A', 'avaliação', 'em', 'caixa', 'preta', 'requer', 'que', 'alguém', 'execute', 'um', 'sistema', 'PLN', 'em', 'um', 'conjunto', 'de', 'dados', 'de', 'amostra', 'e', 'para', 'medir', 'uma', 'série', 'de', 'parâmetros', 'relacionados', 'com', 'a', 'qualidade', 'do', 'processo', ',', 'como', 'velocidade', ',', 'confiabilidade', ',', 'consumo', 'de', 'recursos', 'e', ',', 'principalmente', ',', 'a', 'qualidade', 'do', 'resultado', ',', 'como', 'a', 'precisão', 'da', 'anotação', 'de', 'dados', 'ou', 'a', 'fidelidade', 'de', 'uma', 'tradução', '.', 'A', 'avaliação', 'da', 'caixa', 'de', 'vidro', 'examina', 'a', 'concepção', 'do', 'sistema', ';', 'Os', 'algoritmos', 'que', 'são', 'implementados', ',', 'os', 'recursos', 'linguísticos', 'que', 'utiliza', ',', 'como', 'o', 'tamanho', 'do', 'vocabulário', 'ou', 'a', 'expressão', 'definida', 'de', 'cardinalidade', '.', 'Dada', 'a', 'complexidade', 'dos', 'problemas', 'da', 'PLN', ',', 'muitas', 'vezes', 'é', 'difícil', 'prever', 'o', 'desempenho', 'apenas', 'com', 'base', 'na', 'avaliação', 'da', 'caixa', 'de', 'vidro', ';', 'Mas', 'este', 'tipo', 'de', 'avaliação', 'é', 'mais', 'informativo', 'no', 'que', 'diz', 'respeito', 'à', 'análise', 'de', 'erros', 'ou', 'desenvolvimentos', 'futuros', 'de', 'um', 'sistema', '.', 'Automática', 'vs.', 'avaliação', 'manual', 'Em', 'muitos', 'casos', ',', 'procedimentos', 'automáticos', 'podem', 'ser', 'definidos', 'para', 'avaliar', 'um', 'sistema', 'de', 'PLN', ',', 'comparando', 'sua', 'saída', 'com', 'o', 'padrão', 'de', 'excelência', '.', 'Embora', 'o', 'custo', 'de', 'reproduzir', 'o', 'padrão', 'de', 'excelência', 'possa', 'ser', 'bastante', 'elevado', ',', 'avaliação', 'automática', 'de', 'bootstrapping', 'sobre', 'os', 'mesmos', 'dados', 'de', 'entrada', 'pode', 'ser', 'repetida', 'quantas', 'vezes', 'for', 'necessário', 'sem', 'custos', 'adicionais', 'desordenados', '.', 'No', 'entanto', ',', 'para', 'muitos', 'problemas', 'de', 'PLN', 'a', 'definição', 'precisa', 'de', 'um', 'padrão', 'de', 'excelência', 'é', 'uma', 'tarefa', 'complexa', 'e', 'pode', 'se', 'revelar', 'impossível', 'quando', 'o', 'acordo', 'inter-anotador', 'é', 'insuficiente', '.', 'A', 'avaliação', 'manual', 'é', 'melhor', 'realizada', 'por', 'juízes', 'humanos', 'instruídos', 'para', 'estimar', 'a', 'qualidade', 'de', 'um', 'sistema', ',', 'ou', 'mais', 'frequentemente', 'de', 'uma', 'amostra', 'de', 'sua', 'produção', ',', 'com', 'base', 'em', 'uma', 'série', 'de', 'critérios', '.', 'Embora', ',', 'graças', 'à', 'sua', 'competência', 'linguística', ',', 'os', 'juízes', 'humanos', 'possam', 'ser', 'considerados', 'como', 'a', 'referência', 'para', 'uma', 'série', 'de', 'tarefas', 'de', 'processamento', 'de', 'linguagem', ',', 'há', 'também', 'uma', 'variação', 'considerável', 'em', 'suas', 'classificações', '.', 'É', 'por', 'isso', 'que', 'a', 'avaliação', 'automática', 'é', ',', 'por', 'vezes', ',', 'referida', 'como', 'avaliação', 'objetiva', 'enquanto', 'a', 'avaliação', 'humana', 'é', 'perspectiva', '.', '==', 'Padronização', '==', 'Um', 'subcomitê', 'ISO', 'está', 'trabalhando', 'para', 'facilitar', 'a', 'interoperabilidade', 'entre', 'recursos', 'lexicais', 'e', 'programas', 'PLN', '.', 'O', 'subcomitê', 'faz', 'parte', 'do', 'ISO', '/', 'TC37', 'e', 'é', 'chamado', 'ISO', '/', 'TC37', '/', 'SC4', '.', 'Alguns', 'padrões', 'ISO', 'já', 'estão', 'publicados', ',', 'mas', 'a', 'maioria', 'deles', 'está', 'em', 'construção', ',', 'principalmente', 'na', 'representação', 'de', 'léxico', '(', 'ver', 'LMF', ')', ',', 'anotação', 'e', 'registro', 'de', 'categoria', 'de', 'dados', '.', '==', 'Ferramentas', '==', 'Expert', 'System', 'S.p.A.', 'General', 'Architecture', 'for', 'Text', 'Engineering', 'Modular', 'Audio', 'Recognition', 'Framework', 'Natural', 'Language', 'Toolkit', '(', 'NLTK', ')', ':', 'uma', 'biblioteca', 'em', 'Python', 'OpenNLP', '==', 'Veja', 'também', '==', 'Mineração', 'de', 'texto', 'biomédica', 'Processo', 'de', 'processamento', 'composto', 'Revisão', 'assistida', 'por', 'computador', 'Linguagem', 'natural', 'controlada', 'Processamento', 'linguístico', 'profundo', 'Auxílio', 'à', 'leitura', 'de', 'línguas', 'estrangeiras', 'Auxílio', 'à', 'escrita', 'em', 'língua', 'estrangeira', 'Tecnologia', 'da', 'linguagem', 'A', 'alocação', 'de', 'Dirichlet', 'Latente', '(', 'LDA', ')', 'Indexação', 'semântica', 'latente', 'Lista', 'de', 'ferramentas', 'de', 'processamento', 'de', 'língua', 'natural', 'Mapa', 'de', 'LRE', 'Programação', 'em', 'língua', 'natural', 'Reificação', '(', 'linguística', ')', 'Dobradura', 'semântica', 'Sistema', 'de', 'diálogo', 'falado', 'Vetor', 'do', 'Pensamento', 'Pesquisa', 'Transderivacional', 'Word2vec', '==', 'Referências', '==', '==', 'Leitura', 'adicional', '==', 'Steven', 'Bird', ',', 'Ewan', 'Klein', ',', 'and', 'Edward', 'Loper', '(', '2009', ')', '.', 'Natural', 'Language', 'Processing', 'with', 'Python', '.', \"O'Reilly\", 'Media', '.', 'ISBN', '978-0-596-51649-9', '.', 'Daniel', 'Jurafsky', 'and', 'James', 'H.', 'Martin', '(', '2008', ')', '.', 'Speech', 'and', 'Language', 'Processing', ',', '2nd', 'edition', '.', 'Pearson', 'Prentice', 'Hall', '.', 'ISBN', '978-0-13-187321-6', '.', 'Christopher', 'D.', 'Manning', ',', 'Prabhakar', 'Raghavan', ',', 'and', 'Hinrich', 'Schütze', '(', '2008', ')', '.', 'Introduction', 'to', 'Information', 'Retrieval', '.', 'Cambridge', 'University', 'Press', '.', 'ISBN', '978-0-521-86571-5', '.', 'Official', 'html', 'and', 'pdf', 'versions', 'available', 'without', 'charge', '.', 'Christopher', 'D.', 'Manning', 'and', 'Hinrich', 'Schütze', '(', '1999', ')', '.', 'Foundations', 'of', 'Statistical', 'Natural', 'Language', 'Processing', '.', 'The', 'MIT', 'Press', '.', 'ISBN', '978-0-262-13360-9', '.', 'David', 'M.', 'W.', 'Powers', 'and', 'Christopher', 'C.', 'R.', 'Turk', '(', '1989', ')', '.', 'Machine', 'Learning', 'of', 'Natural', 'Language', '.', 'Springer-Verlag', '.', 'ISBN', '978-0-387-19557-5', '.']\n"
          ],
          "name": "stdout"
        }
      ]
    },
    {
      "cell_type": "code",
      "metadata": {
        "id": "ko5hVUu8E2WE",
        "colab_type": "code",
        "colab": {}
      },
      "source": [
        "def plot_frequencia_tokens(tokens):\n",
        "    fd_words = FreqDist(tokens)\n",
        "    fd_words.plot(20)"
      ],
      "execution_count": null,
      "outputs": []
    },
    {
      "cell_type": "markdown",
      "metadata": {
        "id": "ArjkfjHhE2WG",
        "colab_type": "text"
      },
      "source": [
        "### Plot das tokenizações\n",
        "\n",
        "Plote o resultado de cada uma das tokenizações. \n",
        "Utilize o método <b> plot_frequencia_tokens() </b> para plotar o gráfico.\n",
        "Também imprima o tamanho de cada tokenização"
      ]
    },
    {
      "cell_type": "code",
      "metadata": {
        "id": "hVQAm8qEE2WG",
        "colab_type": "code",
        "colab": {
          "base_uri": "https://localhost:8080/",
          "height": 334
        },
        "outputId": "9f66e353-b27a-4204-ad87-6a40a66728e4"
      },
      "source": [
        "print(\"Tokens Split\")\n",
        "plot_frequencia_tokens(tokens_split)\n",
        "#faça aqui"
      ],
      "execution_count": null,
      "outputs": [
        {
          "output_type": "stream",
          "text": [
            "Tokens Split\n"
          ],
          "name": "stdout"
        },
        {
          "output_type": "display_data",
          "data": {
            "image/png": "[encoded data removed]",
            "text/plain": [
              "<Figure size 432x288 with 1 Axes>"
            ]
          },
          "metadata": {
            "tags": [],
            "needs_background": "light"
          }
        }
      ]
    },
    {
      "cell_type": "code",
      "metadata": {
        "id": "Eni4lQFkE2WI",
        "colab_type": "code",
        "colab": {
          "base_uri": "https://localhost:8080/",
          "height": 310
        },
        "outputId": "5345219d-f5b2-4185-d1ea-9e67eb4653bb"
      },
      "source": [
        "print(\"Tokens Regex\")\n",
        "#faça aqui\n",
        "plot_frequencia_tokens(tokens_regex)"
      ],
      "execution_count": null,
      "outputs": [
        {
          "output_type": "stream",
          "text": [
            "Tokens Regex\n"
          ],
          "name": "stdout"
        },
        {
          "output_type": "display_data",
          "data": {
            "image/png": "[encoded data removed]",
            "text/plain": [
              "<Figure size 432x288 with 1 Axes>"
            ]
          },
          "metadata": {
            "tags": [],
            "needs_background": "light"
          }
        }
      ]
    },
    {
      "cell_type": "code",
      "metadata": {
        "id": "B4xA7gAcE2WL",
        "colab_type": "code",
        "colab": {
          "base_uri": "https://localhost:8080/",
          "height": 313
        },
        "outputId": "a28e2b65-6abe-4b59-bce3-b7b316975fe9"
      },
      "source": [
        "print(\"Tokens NLTK\")\n",
        "#faça aqui\n",
        "plot_frequencia_tokens(tokens_nltk)"
      ],
      "execution_count": null,
      "outputs": [
        {
          "output_type": "stream",
          "text": [
            "Tokens NLTK\n"
          ],
          "name": "stdout"
        },
        {
          "output_type": "display_data",
          "data": {
            "image/png": "[encoded data removed]",
            "text/plain": [
              "<Figure size 432x288 with 1 Axes>"
            ]
          },
          "metadata": {
            "tags": [],
            "needs_background": "light"
          }
        }
      ]
    },
    {
      "cell_type": "markdown",
      "metadata": {
        "id": "6DfR9nAtE2WN",
        "colab_type": "text"
      },
      "source": [
        "Como foi possível observar, existem variações nas tokenizações realizadas. \n",
        "A que gerou mais tokens foi a que utilizou regex.\n",
        "Por isso iremos utilizá-la a partir deste ponto.\n",
        "Utilize o resultado de <b> tokens_regex</b>."
      ]
    },
    {
      "cell_type": "markdown",
      "metadata": {
        "id": "1bnBwV52E2WN",
        "colab_type": "text"
      },
      "source": [
        "## Capitalização\n",
        "\n",
        "traforme todos os tokens para minúsculo utilizando a função abaixo:\n",
        "\n",
        "```python\n",
        "str.lower()\n",
        "```"
      ]
    },
    {
      "cell_type": "code",
      "metadata": {
        "id": "UaO8ilaQE2WO",
        "colab_type": "code",
        "colab": {}
      },
      "source": [
        "tokens = corpus.lower()"
      ],
      "execution_count": null,
      "outputs": []
    },
    {
      "cell_type": "markdown",
      "metadata": {
        "id": "T_RynFQNE2WP",
        "colab_type": "text"
      },
      "source": [
        " <b> <span style=\"color:red\"> Lembre de utilizar a VARIÁVEL que contém o resultado da transformação anterior.\n",
        "    Se você acompanhar o nome da variável que já está na célula não tem erro! :) </span> </b>"
      ]
    },
    {
      "cell_type": "markdown",
      "metadata": {
        "id": "1Raq0rzmE2WQ",
        "colab_type": "text"
      },
      "source": [
        "## Remoção Stopwords\n",
        "\n",
        "remova todas as stopwords retornadas pelo pacote NLTK da lista de tokens.\n",
        "\n",
        "```python\n",
        "portugues_stops = stopwords.words('portuguese')\n",
        "```"
      ]
    },
    {
      "cell_type": "code",
      "metadata": {
        "id": "360Waq1HE2WQ",
        "colab_type": "code",
        "colab": {}
      },
      "source": [
        "from nltk.corpus import stopwords"
      ],
      "execution_count": null,
      "outputs": []
    },
    {
      "cell_type": "code",
      "metadata": {
        "id": "7xP3XVzhE2WU",
        "colab_type": "code",
        "colab": {}
      },
      "source": [
        "portugues_stops = stopwords.words('portuguese')"
      ],
      "execution_count": null,
      "outputs": []
    },
    {
      "cell_type": "code",
      "metadata": {
        "id": "LO6XRhYQE2WW",
        "colab_type": "code",
        "colab": {
          "base_uri": "https://localhost:8080/",
          "height": 54
        },
        "outputId": "4e37a116-435d-4efc-84b3-46b46c1ff80d"
      },
      "source": [
        "#imprima as stopwords para você conhecer\n",
        "print(portugues_stops)"
      ],
      "execution_count": null,
      "outputs": [
        {
          "output_type": "stream",
          "text": [
            "['de', 'a', 'o', 'que', 'e', 'é', 'do', 'da', 'em', 'um', 'para', 'com', 'não', 'uma', 'os', 'no', 'se', 'na', 'por', 'mais', 'as', 'dos', 'como', 'mas', 'ao', 'ele', 'das', 'à', 'seu', 'sua', 'ou', 'quando', 'muito', 'nos', 'já', 'eu', 'também', 'só', 'pelo', 'pela', 'até', 'isso', 'ela', 'entre', 'depois', 'sem', 'mesmo', 'aos', 'seus', 'quem', 'nas', 'me', 'esse', 'eles', 'você', 'essa', 'num', 'nem', 'suas', 'meu', 'às', 'minha', 'numa', 'pelos', 'elas', 'qual', 'nós', 'lhe', 'deles', 'essas', 'esses', 'pelas', 'este', 'dele', 'tu', 'te', 'vocês', 'vos', 'lhes', 'meus', 'minhas', 'teu', 'tua', 'teus', 'tuas', 'nosso', 'nossa', 'nossos', 'nossas', 'dela', 'delas', 'esta', 'estes', 'estas', 'aquele', 'aquela', 'aqueles', 'aquelas', 'isto', 'aquilo', 'estou', 'está', 'estamos', 'estão', 'estive', 'esteve', 'estivemos', 'estiveram', 'estava', 'estávamos', 'estavam', 'estivera', 'estivéramos', 'esteja', 'estejamos', 'estejam', 'estivesse', 'estivéssemos', 'estivessem', 'estiver', 'estivermos', 'estiverem', 'hei', 'há', 'havemos', 'hão', 'houve', 'houvemos', 'houveram', 'houvera', 'houvéramos', 'haja', 'hajamos', 'hajam', 'houvesse', 'houvéssemos', 'houvessem', 'houver', 'houvermos', 'houverem', 'houverei', 'houverá', 'houveremos', 'houverão', 'houveria', 'houveríamos', 'houveriam', 'sou', 'somos', 'são', 'era', 'éramos', 'eram', 'fui', 'foi', 'fomos', 'foram', 'fora', 'fôramos', 'seja', 'sejamos', 'sejam', 'fosse', 'fôssemos', 'fossem', 'for', 'formos', 'forem', 'serei', 'será', 'seremos', 'serão', 'seria', 'seríamos', 'seriam', 'tenho', 'tem', 'temos', 'tém', 'tinha', 'tínhamos', 'tinham', 'tive', 'teve', 'tivemos', 'tiveram', 'tivera', 'tivéramos', 'tenha', 'tenhamos', 'tenham', 'tivesse', 'tivéssemos', 'tivessem', 'tiver', 'tivermos', 'tiverem', 'terei', 'terá', 'teremos', 'terão', 'teria', 'teríamos', 'teriam']\n"
          ],
          "name": "stdout"
        }
      ]
    },
    {
      "cell_type": "code",
      "metadata": {
        "id": "qxkb0ECME2WZ",
        "colab_type": "code",
        "colab": {
          "base_uri": "https://localhost:8080/",
          "height": 54
        },
        "outputId": "33ef1480-9046-4815-9624-25062ab455c5"
      },
      "source": [
        "tokens_sem_stop = [w for w in tokens_nltk if not w in portugues_stops] \n",
        "print(tokens_sem_stop)"
      ],
      "execution_count": null,
      "outputs": [
        {
          "output_type": "stream",
          "text": [
            "['Processamento', 'língua', 'natural', '(', 'PLN', ')', 'subárea', 'ciência', 'computação', ',', 'inteligência', 'artificial', 'linguística', 'estuda', 'problemas', 'geração', 'compreensão', 'automática', 'línguas', 'humanas', 'naturais', '.', 'Sistemas', 'geração', 'língua', 'natural', 'convertem', 'informação', 'bancos', 'dados', 'computadores', 'linguagem', 'compreensível', 'ser', 'humano', 'sistemas', 'compreensão', 'língua', 'natural', 'convertem', 'ocorrências', 'linguagem', 'humana', 'representações', 'formais', ',', 'facilmente', 'manipuláveis', 'programas', 'computador', '.', 'Alguns', 'desafios', 'PLN', 'compreensão', 'língua', 'natural', ',', 'fazer', 'computadores', 'extraiam', 'sentido', 'linguagem', 'humana', 'natural', 'geração', 'língua', 'natural', '.', '==', 'História', '==', 'A', 'história', 'PLN', 'começou', 'década', '1950', ',', 'Alan', 'Turing', 'publicou', 'artigo', '``', 'Computing', 'Machinery', 'and', 'Intelligence', \"''\", ',', 'propunha', 'agora', 'chamado', 'teste', 'Turing', 'critério', 'inteligência', '.', 'Em', '1954', ',', 'experiência', 'Georgetown', 'envolveu', 'tradução', 'automática', 'sessenta', 'frases', 'russas', 'inglês', '.', 'Os', 'autores', 'afirmaram', 'dentro', 'três', 'cinco', 'anos', 'tradução', 'automática', 'problema', 'resolvido', '.', 'No', 'entanto', ',', 'avanços', 'reais', 'lentos', 'previsto', ',', 'após', 'relatório', 'ALPAC', '1966', ',', 'constatou', 'pesquisa', 'dez', 'anos', 'conseguiu', 'satisfazer', 'expectativas', ',', 'financiamento', 'estudo', 'tradução', 'automática', 'reduzido', 'drasticamente', '.', 'Poucas', 'pesquisas', 'tradução', 'automática', 'conduzidas', 'final', 'anos', '80', ',', 'primeiros', 'sistemas', 'estatísticos', 'tradução', 'desenvolvidos', '.', 'Alguns', 'sistemas', 'PLN', 'bem', 'sucedidos', 'desenvolvidos', 'anos', '60', 'SHRDLU', ',', 'sistema', 'língua', 'natural', 'trabalhava', '``', 'blocks', 'worlds', \"''\", 'vocabulário', 'restrito', 'ELIZA', ',', 'simulação', 'psicoterapeuta', 'escrita', 'Joseph', 'Weizenbaum', '1964', '1966', '.', 'Usando', 'pouca', 'informação', 'sobre', 'pensamento', 'emoção', 'humana', ',', 'ELIZA', 'criava', ',', 'alguns', 'casos', ',', 'interações', 'surpreendentemente', 'humanas', '.', 'Quando', '``', 'paciente', \"''\", 'excedia', 'base', 'conhecimento', 'programa', ',', 'ELIZA', 'fornecia', 'resposta', 'genérica', ',', 'exemplo', ',', 'respondendo', '``', 'Minha', 'cabeça', 'dói', \"''\", '``', 'Por', 'diz', 'cabeça', 'dói', '?', \"''\", '.', 'Durante', 'década', '1970', ',', 'muitos', 'programadores', 'começaram', 'escrever', '``', 'ontologias', 'conceituais', \"''\", ',', 'estruturaram', 'informação', 'mundo', 'real', 'dados', 'compreensíveis', 'computadores', '.', 'Exemplos', 'MARGIE', '(', 'SCHANK', ',', '1975', ')', ',', 'SAM', '(', 'CULLINGFORD', ',', '1978', ')', ',', 'PAM', '(', 'WILENSKY', ',', '1978', ')', ',', 'TaleSpin', '(', 'MEEHAN', ',', '1976', ')', ',', 'QUALM', '(', 'LEHNERT', ',', '1977', ')', ',', 'Politics', '(', 'CARBONELL', ',', '1979', ')', 'Plot', 'Units', '(', 'LEHNERT', ',', '1981', ')', '.', 'Neste', 'período', ',', 'muitos', 'chatterbots', 'escritos', ',', 'PARRY', ',', 'Racter', 'Jabberwacky', '.', 'Até', 'década', '1980', ',', 'maioria', 'sistemas', 'PLN', 'baseava', 'conjuntos', 'complexos', 'regras', 'manuscritas', '.', 'A', 'partir', 'final', 'anos', '1980', ',', 'entanto', ',', 'revolução', 'PLN', 'introdução', 'algoritmos', 'aprendizagem', 'automática', '(', 'aprendizado', 'máquina', ')', 'processamento', 'linguagem', '.', 'Isto', 'devido', 'tanto', 'aumento', 'constante', 'poder', 'computacional', '(', 'ver', 'Lei', 'Moore', ')', 'quanto', 'diminuição', 'gradual', 'dominância', 'teorias', 'linguística', 'chomskyanas', '(', 'gramática', 'gerativa', ')', ',', 'cujos', 'fundamentos', 'teóricos', 'desestimularam', 'tipo', 'corpus', 'linguístico', 'subjacente', 'abordagem', 'aprendizagem', 'automática', 'processamento', 'linguagem', '.', 'Alguns', 'algoritmos', 'aprendizado', 'máquinas', 'antigos', ',', 'árvores', 'decisão', ',', 'produziam', 'sistemas', 'regras', 'rígidas', 'então', 'semelhantes', 'regras', 'existentes', 'escritas', 'mão', '.', 'No', 'entanto', ',', 'marcação', 'partes', 'fala', '(', 'part-of-speech', 'tagging', ')', 'introduziu', 'uso', 'modelos', 'ocultos', 'Markov', 'PLN', ',', 'cada', 'vez', ',', 'pesquisa', 'concentrava', 'modelos', 'estatísticos', ',', 'tomam', 'decisões', 'suaves', 'probabilísticas', 'baseadas', 'atribuição', 'pesos', 'reais', 'recursos', 'compõem', 'dados', 'entrada', '.', 'Os', 'modelos', 'linguagem', 'cache', ',', 'sobre', 'quais', 'muitos', 'sistemas', 'reconhecimento', 'fala', 'agora', 'dependem', ',', 'exemplos', 'tais', 'modelos', 'estatísticos', '.', 'Esses', 'modelos', 'geralmente', 'robustos', 'dados', 'informações', 'desconhecidas', ',', 'especialmente', 'entrada', 'contém', 'erros', '(', 'comum', 'dados', 'mundo', 'real', ')', 'produzem', 'resultados', 'confiáveis', 'integrados', 'sistemas', 'maiores', 'compreendem', 'múltiplas', 'tarefas', '.', 'Muitos', 'sucessos', 'iniciais', 'notáveis', 'ocorreram', 'campo', 'tradução', 'automática', ',', 'devido', 'especialmente', 'trabalho', 'pesquisa', 'IBM', ',', 'desenvolveu', 'modelos', 'estatísticos', 'elaborados', '.', 'Estes', 'sistemas', 'capazes', 'tirar', 'proveito', 'corpora', 'textuais', 'multilíngues', 'existentes', 'produzidos', 'Parlamento', 'Canadá', 'União', 'Europeia', 'resultado', 'leis', 'exigem', 'tradução', 'todos', 'processos', 'governamentais', 'todas', 'línguas', 'oficiais', 'países', '.', 'No', 'entanto', ',', 'maioria', 'sistemas', 'dependia', 'corpora', 'desenvolvido', 'especificamente', 'tarefas', 'implementadas', 'sistemas', ',', '(', 'muitas', 'vezes', 'continua', 'sendo', ')', 'grande', 'limitação', 'sucesso', '.', 'Como', 'resultado', ',', 'grande', 'quantidade', 'pesquisa', 'passou', 'quantidades', 'dados', 'limitadas', 'métodos', 'aprendizagem', 'eficazes', '.', 'Pesquisas', 'recentes', 'têm', 'concentrado', 'cada', 'vez', 'algoritmos', 'aprendizagem', 'semi-supervisionados', 'supervisão', '.', 'Esses', 'algoritmos', 'capazes', 'aprender', 'dados', 'anotados', 'manualmente', 'respostas', 'desejadas', 'usando', 'combinação', 'dados', 'anotados', 'anotados', '.', 'Geralmente', ',', 'tarefa', 'trabalhosa', 'aprendizagem', 'supervisionada', 'normalmente', 'produz', 'resultados', 'menos', 'precisos', 'quantidade', 'específica', 'dados', 'entrada', '.', 'No', 'entanto', ',', 'enorme', 'quantidade', 'dados', 'anotados', 'disponíveis', '(', 'incluindo', ',', 'outras', 'coisas', ',', 'todo', 'conteúdo', 'World', 'Wide', 'Web', ')', ',', 'muitas', 'vezes', 'pode', 'compensar', 'resultados', 'inferiores', '.', '==', 'Usando', 'aprendizagem', 'automática', '(', 'aprendizado', 'máquina', ')', '==', 'Os', 'algoritmos', 'modernos', 'PLN', 'baseiam-se', 'aprendizagem', 'mecânica', ',', 'especialmente', 'aprendizagem', 'máquinas', 'estatísticas', '.', 'O', 'paradigma', 'aprendizagem', 'mecânica', 'diferente', 'maioria', 'tentativas', 'anteriores', 'processamento', 'linguagem', '.', 'Anteriormente', ',', 'implementações', 'tarefas', 'processamento', 'linguagem', 'envolviam', 'codificação', 'direta', 'grandes', 'conjuntos', 'regras', '.', 'O', 'paradigma', 'aprendizagem', 'automática', '(', 'aprendizagem', 'automática', ')', 'induz', 'aprendizagem', 'automática', 'regras', 'através', 'análises', 'corpora', 'exemplos', 'típicos', 'mundo', 'real', 'invés', 'usar', 'algoritmos', 'gerais', 'aprendizagem', '(', 'muitas', 'vezes', ',', 'embora', 'sempre', ',', 'baseados', 'inferência', 'estatística', ')', '.', 'Um', 'corpus', '(', 'plural', '``', 'corpora', \"''\", ')', 'conjunto', 'documentos', '(', 'frases', 'individuais', ')', 'anotados', 'mão', 'valores', 'corretos', 'serem', 'aprendidos', '.', 'Muitas', 'classes', 'diferentes', 'algoritmos', 'aprendizado', 'máquina', 'aplicadas', 'tarefas', 'PLN', '.', 'Esses', 'algoritmos', 'tomam', 'entrada', 'grande', 'conjunto', '``', 'recursos', \"''\", 'gerados', 'partir', 'dados', 'entrada', '.', 'Alguns', 'algoritmos', 'usados', ',', 'árvores', 'decisão', ',', 'produziam', 'sistemas', 'regras', 'rígidas', 'semelhantes', 'sistemas', 'regras', 'manuscritas', 'comuns', '.', 'No', 'entanto', ',', 'cada', 'vez', ',', 'pesquisa', 'concentrado', 'modelos', 'estatísticos', ',', 'tomam', 'decisões', 'flexíveis', 'probabilísticas', 'baseadas', 'agregar', 'pesos', 'reais', 'cada', 'característica', 'entrada', '.', 'Tais', 'modelos', 'têm', 'vantagem', 'poder', 'expressar', 'certeza', 'relativa', 'muitas', 'respostas', 'possíveis', 'diferentes', 'vez', 'apenas', ',', 'produzindo', 'resultados', 'confiáveis', 'modelo', 'incluído', 'componente', 'sistema', 'maior', '.', 'Os', 'sistemas', 'baseados', 'algoritmos', 'aprendizagem', 'mecânica', 'têm', 'muitas', 'vantagens', 'relação', 'regras', 'produzidas', 'manualmente', ':', 'Os', 'procedimentos', 'aprendizagem', 'usados', 'durante', 'aprendizagem', 'máquina', 'focam-se', 'automaticamente', 'casos', 'comuns', ',', 'passo', 'escrevem', 'regras', 'mão', ',', 'óbvio', 'sentido', 'esforço', 'deve', 'ser', 'dirigido', '.', 'Os', 'procedimentos', 'aprendizagem', 'automática', 'podem', 'fazer', 'uso', 'algoritmos', 'inferência', 'estatística', 'produzir', 'modelos', 'robustos', 'entradas', 'familiares', '(', 'exemplo', ',', 'contendo', 'palavras', 'estruturas', 'vistas', 'antes', ')', 'entradas', 'errôneas', '(', 'exemplo', ',', 'palavras', 'palavras', 'incorretamente', 'omitidas', ')', '.', 'Geralmente', ',', 'lidar', 'entradas', 'forma', 'regras', 'manuscritas', 'sistemas', 'regras', 'manuscritas', 'tomam', 'decisões', 'suaves', 'extremamente', 'trabalhoso', ',', 'propenso', 'erros', 'demorado', '.', 'Sistemas', 'baseados', 'aprender', 'automaticamente', 'regras', 'podem', 'ser', 'precisos', 'simplesmente', 'fornecendo', 'dados', 'entrada', '.', 'No', 'entanto', ',', 'sistemas', 'baseados', 'regras', 'escritas', 'mão', 'podem', 'ser', 'tornados', 'precisos', 'aumentando', 'complexidade', 'regras', ',', 'tarefa', 'difícil', '.', 'Em', 'particular', ',', 'limite', 'complexidade', 'sistemas', 'baseados', 'regras', 'artesanais', ',', 'além', 'quais', 'sistemas', 'tornam', 'cada', 'vez', 'incontroláveis', '.', 'No', 'entanto', ',', 'criação', 'dados', 'entrada', 'sistemas', 'aprendizado', 'máquina', 'requer', 'simplesmente', 'aumento', 'correspondente', 'número', 'horas', 'trabalhadas', 'humanos', ',', 'geralmente', 'aumentos', 'significativos', 'complexidade', 'processo', 'anotação.O', 'subcampo', 'PLN', 'dedicado', 'abordagens', 'aprendizagem', 'conhecido', 'aprendizagem', 'língua', 'natural', '(', 'NLL', ')', 'conferência', ',', 'CoNLL', ',', 'orgão', 'central', ',', 'SIGNLL', ',', 'patrocinados', 'ACL', ',', 'reconhecendo', 'ligações', 'linguística', 'computacional', 'aquisição', 'linguagem', '.', 'Quando', 'objetivo', 'pesquisa', 'aprendizagem', 'linguagem', 'computacional', 'entender', 'sobre', 'aquisição', 'linguagem', 'humana', ',', 'psicolinguística', ',', 'NLL', 'sobrepõe-se', 'campo', 'relacionado', 'psicolinguística', 'computacional', '.', '==', 'Aplicações', 'principais', '==', 'A', 'listagem', 'seguir', 'traz', 'alguns', 'trabalhos', 'pesquisadas', 'PLN', '.', 'Note', 'alguns', 'têm', 'aplicações', 'mundo', 'real', ',', 'enquanto', 'outras', 'servem', 'frequentemente', 'tarefas', 'secundárias', 'usadas', 'auxiliar', 'resolução', 'tarefas', 'maiores', '.', 'O', 'distingue', 'tarefas', 'outras', 'tarefas', 'potenciais', 'reais', 'PLN', 'apenas', 'volume', 'pesquisa', 'dedicado', ',', 'fato', 'cada', 'tipicamente', 'definição', 'problema', 'bem', 'especificada', ',', 'métrica', 'padrão', 'avaliar', 'tarefa', ',', 'corpora', 'padrão', 'tarefa', 'pode', 'ser', 'avaliada', 'competições', 'dedicadas', 'tarefa', 'específica', '.', 'Sumarização', 'automática', 'Produz', 'resumo', 'legível', 'parte', 'texto', '.', 'Muitas', 'vezes', 'usado', 'fornecer', 'resumos', 'texto', 'tipo', 'conhecido', ',', 'artigos', 'seção', 'financeira', 'jornal.Resolução', 'correferência', 'Dada', 'frase', 'pedaço', 'maior', 'texto', ',', 'determina', 'quais', 'palavras', '(', '``', 'menções', \"''\", ')', 'referem', 'mesmos', 'objetos', '(', '``', 'entidades', \"''\", ')', '.', 'A', 'resolução', 'anáfora', 'exemplo', 'específico', 'dessa', 'tarefa', 'especificamente', 'preocupada', 'combinar', 'pronomes', 'substantivos', 'nomes', 'quais', 'referem', '.', 'A', 'tarefa', 'geral', 'resolução', 'correferência', 'inclui', 'identificação', 'chamados', '``', 'relacionamentos', 'ponte', \"''\", 'envolvendo', 'expressões', 'referência', '.', 'Por', 'exemplo', ',', 'frase', '``', 'Ele', 'entrou', 'casa', 'João', 'porta', 'frente', \"''\", ',', '``', 'porta', 'frente', \"''\", 'expressão', 'referência', 'relação', 'ponte', 'ser', 'identificada', 'fato', 'porta', 'ser', 'referida', 'porta', 'frente', 'John', \"'s\", '(', 'invés', 'alguma', 'outra', 'estrutura', 'pode', 'ser', 'referida', ')', '.Análise', 'Discurso', 'Esta', 'rubrica', 'inclui', 'série', 'tarefas', 'relacionadas', '.', 'Uma', 'tarefa', 'identificar', 'estrutura', 'discursiva', 'texto', 'conectado', ',', ',', 'natureza', 'relações', 'discursivas', 'sentenças', '(', 'exemplo', ',', 'elaboração', ',', 'explicação', ',', 'contraste', ')', '.', 'Outra', 'possível', 'tarefa', 'reconhecer', 'classificar', 'atos', 'fala', 'pedaço', 'texto', '(', 'exemplo', ',', 'pergunta', 'sim-não', ',', 'pergunta', 'conteúdo', ',', 'frase', ',', 'afirmação', ',', 'etc', ')', '.Maquina', 'tradução', 'Traduzir', 'automaticamente', 'texto', 'linguagem', 'humana', 'outra', '.', 'Este', 'tarefas', 'difíceis', 'faz', 'parte', 'tipo', 'problemas', 'conhecidos', '``', 'AI-complete', \"''\", ',', ',', 'exigindo', 'todos', 'diferentes', 'tipos', 'conhecimento', 'humanos', 'possuem', '(', 'gramática', ',', 'semântica', ',', 'fatos', 'sobre', 'mundo', 'real', ',', 'etc', ')', 'resolvê-lo', 'adequadamente.Segmentação', 'morfológica', 'Separa', 'palavras', 'morfemas', 'individuais', 'identifica', 'classes', 'morfemas', '.', 'A', 'dificuldade', 'desta', 'tarefa', 'depende', 'complexidade', 'morfologia', '(', ',', 'estrutura', 'palavras', ')', 'linguagem', 'sendo', 'considerada', '.', 'O', 'inglês', 'possui', 'morfologia', 'bastante', 'simples', ',', 'especialmente', 'morfologia', 'flexional', ',', 'portanto', 'possível', 'ignorar', 'tarefa', 'inteiramente', 'simplesmente', 'modelar', 'todas', 'formas', 'possíveis', 'palavra', '(', 'exemplo', ',', '``', 'open', ',', 'opens', ',', 'opened', ',', 'opening', \"''\", ')', 'palavras', 'separadas', '.', 'Em', 'línguas', 'turco', 'Meitei', ',', 'língua', 'indiana', 'fortemente', 'aglutinada', ',', 'entanto', ',', 'tal', 'abordagem', 'possível', ',', 'vez', 'cada', 'entrada', 'dicionário', 'milhares', 'formas', 'palavras', 'possíveis.Reconhecimento', 'entidade', 'nomeada', '(', 'NER', ')', 'Dado', 'fluxo', 'texto', ',', 'determina', 'quais', 'itens', 'mapa', 'texto', 'nomes', 'próprios', ',', 'pessoas', 'locais', 'tipo', 'cada', 'nome', '(', 'exemplo', ',', 'pessoa', ',', 'local', ',', 'organização', ')', '.', 'Embora', 'capitalização', 'possa', 'ajudar', 'reconhecer', 'entidades', 'nomeadas', 'idiomas', 'inglês', ',', 'informações', 'podem', 'ajudar', 'determinar', 'tipo', 'entidade', 'nomeada', ',', 'alguns', 'casos', ',', 'sãos', 'imprecisas', 'insuficientes', '.', 'Por', 'exemplo', ',', 'primeira', 'palavra', 'frase', 'capitalizada', 'entidades', 'nomeadas', 'muitas', 'vezes', 'abrangem', 'várias', 'palavras', ',', 'apenas', 'algumas', 'capitalizadas', '.', 'Além', 'disso', ',', 'muitas', 'outras', 'linguagens', 'scripts', 'não-ocidentais', '(', 'exemplo', ',', 'chinês', 'árabe', ')', 'têm', 'nenhuma', 'capitalização', 'línguas', 'maiúsculas', 'podem', 'distinguir', 'nomes', '.', 'Por', 'exemplo', ',', 'alemão', 'capitaliza', 'todos', 'substantivos', ',', 'independentemente', 'referirem', 'nomes', ',', 'francês', 'espanhol', 'capitalizam', 'nomes', 'servem', 'adjetivos.Geração', 'língua', 'natural', 'Converte', 'informações', 'bancos', 'dados', 'computador', 'intenções', 'semânticas', 'linguagem', 'humana', 'legível.Compreensão', 'língua', 'natural', 'Converte', 'pedaços', 'texto', 'representações', 'formais', ',', 'estruturas', 'lógica', 'primeira', 'ordem', ',', 'fáceis', 'manipular', 'programas', 'computador', '.', 'A', 'compreensão', 'língua', 'natural', 'envolve', 'identificação', 'semântica', 'pretendida', 'partir', 'múltipla', 'semântica', 'possível', 'pode', 'ser', 'derivada', 'expressão', 'língua', 'natural', 'geralmente', 'toma', 'forma', 'notação', 'organizada', 'conceitos', 'linguagens', 'naturais', '.', 'Entretanto', ',', 'introdução', 'criação', 'linguagem', 'metamodelo', 'ontologia', 'eficientes', 'soluções', 'empíricas', '.', 'Uma', 'formalização', 'explícita', 'semântica', 'línguas', 'naturais', 'confusões', 'suposições', 'implícitas', 'closed-world', 'assumption', '(', 'CWA', ')', 'versus', 'open-world', 'assumption', 'subjetiva', 'Sim', '/', 'Não', 'versus', 'objetivo', 'Verdadeiro', '/', 'Falso', 'esperada', 'construção', 'base', 'formalização', 'semântica.Reconhecimento', 'óptico', 'caracteres', '(', 'OCR', ')', 'Dada', 'imagem', 'representa', 'texto', 'impresso', ',', 'determina', 'texto', 'correspondente.Marcação', 'classe', 'gramatical', 'Dada', 'sentença', ',', 'determina', 'classe', 'gramatical', 'cada', 'palavra', '.', 'Muitas', 'palavras', ',', 'especialmente', 'comuns', ',', 'podem', 'servir', 'múltiplas', 'partes', 'discurso', '.', 'Em', 'inglês', ',', 'exemplo', ',', '``', 'book', \"''\", 'pode', 'ser', 'substantivo', '(', '``', 'the', 'book', 'on', 'the', 'table', \"''\", ')', 'verbo', '(', '``', 'book', 'flight', \"''\", ')', ';', '``', 'Set', \"''\", 'pode', 'ser', 'substantivo', ',', 'verbo', 'adjetivo', ';', 'E', '``', 'out', \"''\", 'pode', 'ser', 'qualquer', 'menos', 'cinco', 'diferentes', 'partes', 'fala', '.', 'Algumas', 'línguas', 'têm', 'ambiguidade', 'outras', '.', 'As', 'línguas', 'pouca', 'morfologia', 'flexional', ',', 'inglês', ',', 'particularmente', 'propensas', 'tal', 'ambiguidade', '.', 'O', 'chinês', 'propenso', 'tal', 'ambiguidade', 'porque', 'língua', 'tonal', 'durante', 'verbalização', '.', 'Tal', 'inflexão', 'facilmente', 'transmitida', 'através', 'entidades', 'empregadas', 'dentro', 'ortografia', 'transmitir', 'significado', 'pretendido.Análise', 'sintática', '(', 'Parsing', ')', 'Determina', 'árvore', 'análise', '(', 'análise', 'gramatical', ')', 'frase', '.', 'A', 'gramática', 'linguagens', 'naturais', 'ambígua', 'frases', 'típicas', 'têm', 'múltiplas', 'análises', 'possíveis', '.', 'Na', 'verdade', ',', 'surpreendentemente', ',', 'frase', 'típica', 'pode', 'haver', 'milhares', 'análises', 'potencial', '(', 'maioria', 'quais', 'parecerá', 'completamente', 'absurda', 'ser', 'humano', ')', '.Respostas', 'perguntas', 'Dada', 'questão', 'linguagem', 'humana', ',', 'determina', 'resposta', '.', 'As', 'perguntas', 'típicas', 'têm', 'resposta', 'correta', 'específica', '(', '``', 'Qual', 'capital', 'Canadá', '?', '``', ')', ',', 'vezes', 'perguntas', 'abertas', 'consideradas', '(', '``', 'Qual', 'significado', 'vida', '?', \"''\", ')', '.', 'Trabalhos', 'recentes', 'têm', 'analisado', 'questões', 'ainda', 'complexas.Extração', 'relacionamento', 'Identifica', 'relações', 'entidades', 'nomeadas', '(', 'exemplo', ',', 'casado', ')', 'base', 'textos.Quebra', 'frases', '(', 'sentence', 'boundary', 'disambiguation', ')', 'Encontra', 'limites', 'frase', 'pedaço', 'texto', '.', 'Os', 'limites', 'frases', 'normalmente', 'marcadas', 'pontos', 'outros', 'sinais', 'pontuação', ',', 'mesmos', 'caracteres', 'podem', 'servir', 'outros', 'propósitos.Análise', 'subjetividade', '(', 'sentiment', 'analysis', 'opinion', 'mining', ')', 'Extrai', 'informações', 'subjetivas', 'geralmente', 'conjunto', 'documentos', ',', 'muitas', 'vezes', 'usando', 'revisões', 'online', 'determinar', '``', 'polaridade', \"''\", 'sobre', 'objetos', 'específicos', '.', 'É', 'especialmente', 'útil', 'identificar', 'tendências', 'opinião', 'pública', 'mídias', 'sociais', ',', 'fins', 'marketing.Reconhecimento', 'fala', 'Dado', 'clipe', 'som', 'pessoa', 'pessoas', 'falando', ',', 'determina', 'representação', 'textual', 'discurso', '.', 'É', 'oposto', 'síntese', 'fala', 'áreas', 'difíceis', ',', 'conhecida', '``', 'AI-complete', \"''\", '.', 'Na', 'fala', 'natural', 'quase', 'pausas', 'palavras', 'sucessivas', ',', 'segmentação', 'fala', 'subtarefa', 'necessária', 'reconhecimento', 'fala', '.', 'Nota-se', ',', 'maioria', 'linguagens', 'faladas', ',', 'sons', 'representam', 'letras', 'sucessivas', 'misturam', 'si', 'processo', 'denominado', 'coarticulação', ',', 'modo', 'conversão', 'sinal', 'analógico', 'caracteres', 'discretos', 'pode', 'ser', 'processo', 'difícil', 'ser', 'realizado.Segmentação', 'fala', 'Dado', 'clipe', 'som', 'pessoa', 'pessoas', 'falando', ',', 'separa-o', 'palavras', '.', 'Uma', 'subaplicação', 'reconhecimento', 'fala', 'normalmente', 'agrupada', 'ele.Análise', 'morfológica', 'reconhecimento', 'tópicos', 'Dado', 'pedaço', 'texto', ',', 'separa-o', 'segmentos', 'cada', 'quais', 'dedicado', 'tópico', 'identifica', 'tópico', 'segmento.Análise', 'morfológica', 'segmentação', 'palavras', 'Separa', 'pedaço', 'texto', 'contínuo', 'palavras', 'separadas', '.', 'Para', 'língua', 'inglês', ',', 'bastante', 'trivial', ',', 'vez', 'palavras', 'normalmente', 'separadas', 'espaços', '.', 'No', 'entanto', ',', 'algumas', 'línguas', 'escritas', 'chinês', ',', 'japonês', 'tailandês', 'marcam', 'limites', 'palavras', 'tal', 'forma', ',', 'nessas', 'línguas', 'segmentação', 'texto', 'tarefa', 'significativa', 'requer', 'conhecimento', 'vocabulário', 'morfologia', 'palavras', 'língua.Desambiguação', 'Muitas', 'palavras', 'têm', 'significado', ',', 'assim', 'selecionar', 'significado', 'faz', 'sentido', 'contexto', '.', 'Para', 'problema', ',', 'geral', 'dada', 'lista', 'palavras', 'sentidos', 'palavras', 'associadas', 'dicionário', 'recurso', 'online', ',', 'WordNet', '.', 'Em', 'alguns', 'casos', ',', 'conjuntos', 'tarefas', 'relacionadas', 'agrupados', 'subcampos', 'PLN', 'frequentemente', 'considerados', 'separadamente', 'PLN', 'todo', ',', 'exemplos', 'seguir', ':', 'Recuperação', 'informação', '(', 'IR', ')', 'Trata-se', 'armazenar', ',', 'pesquisar', 'recuperar', 'informações', '.', 'É', 'campo', 'separado', 'dentro', 'ciência', 'computação', '(', 'perto', 'bancos', 'dados', ')', ',', 'IR', 'baseia', 'alguns', 'métodos', 'PLN', '(', 'exemplo', ',', 'stemming', ')', '.', 'Algumas', 'pesquisas', 'aplicações', 'atuais', 'procuram', 'preencher', 'lacuna', 'IR', 'PLN.Extração', 'informação', '(', 'IE', ')', 'Trata-se', ',', 'geral', ',', 'extração', 'informação', 'semântica', 'partir', 'texto', '.', 'Abrange', 'tarefas', 'reconhecimento', 'entidade', 'mencionada', ',', 'resolução', 'correferência', 'relacionamento', 'extração', ',', 'etc', '.', 'Processamento', 'voz', 'Abrange', 'reconhecimento', 'fala', ',', 'síntese', 'fala', 'tarefas', 'relacionadas', '.', 'Outras', 'tarefas', 'incluem', ':', 'Identificação', 'língua', 'materna', 'Stemização', 'Simplificação', 'texto', 'Síntese', 'fala', 'Revisão', 'texto', 'Pesquisa', 'língua', 'natural', 'Expansão', 'consulta', 'Pontuação', 'ensaio', 'automatizado', 'Truecasing', '==', 'Estatística', '==', 'Artigo', 'principal', ':', 'Gramática', 'estocástica', 'O', 'processamento', 'estatístico', 'língua', 'natural', 'utiliza', 'métodos', 'estocásticos', ',', 'probabilísticos', 'estatísticos', 'resolver', 'algumas', 'dificuldades', 'discutidas', 'acima', ',', 'especialmente', 'surgem', 'porque', 'frases', 'longas', 'ambíguas', 'processadas', 'gramáticas', 'realistas', ',', 'produzindo', 'milhares', 'milhões', 'análises', 'possíveis', '.', 'Métodos', 'desambiguação', 'envolvem', 'muitas', 'vezes', 'uso', 'corpora', 'modelos', 'Markov', '.', 'O', 'projeto', 'ESPRIT', 'P26', '(', '1984-1988', ')', ',', 'liderado', 'CSELT', ',', 'explorou', 'problema', 'reconhecimento', 'fala', 'comparando', 'abordagem', 'baseada', 'conhecimento', 'estatística', ':', 'resultado', 'escolhido', 'modelo', 'completamente', 'estatístico', '.', 'Um', 'primeiros', 'modelos', 'compreensão', 'estatística', 'língua', 'natural', 'introduzido', '1991', 'Roberto', 'Pieraccini', ',', 'Esther', 'Levin', 'Chin-Hui', 'Lee', ',', 'Bell', 'Laboratories', ']', '.', 'O', 'PLN', 'compreende', 'todas', 'abordagens', 'quantitativas', 'processamento', 'automatizado', 'linguagem', ',', 'incluindo', 'modelagem', 'probabilística', ',', 'teoria', 'informação', 'álgebra', 'linear', '.', 'A', 'tecnologia', 'PLN', 'estatístico', 'vem', 'principalmente', 'aprendizagem', 'automática', 'mineração', 'dados', ',', 'campos', 'inteligência', 'artificial', 'envolvem', 'aprendizado', 'partir', 'dados', '.', '==', 'Avaliação', '==', 'O', 'objetivo', 'avaliação', 'PLN', 'medida', 'qualidades', 'algoritmo', 'sistema', 'fim', 'determinar', 'algoritmo', 'atende', 'metas', 'projetistas', 'sistema', 'atendimento', 'necessidades', 'usuários', '.', 'Investigação', 'avaliação', 'PLN', 'ganhado', 'atenção', ',', 'porque', 'definição', 'critérios', 'avaliação', 'forma', 'especificar', 'precisamente', 'problemas', 'PLN', '.', 'Uma', 'métrica', 'avaliação', 'PLN', 'sistema', 'algorítmico', 'permite', 'integração', 'compreensão', 'linguagem', 'geração', 'linguagem', '.', 'Um', 'conjunto', 'preciso', 'critérios', 'avaliação', ',', 'pode', 'ser', 'aplicado', 'principalmente', 'avaliações', 'métricas', ',', 'podendo', 'permitir', 'várias', 'equipes', 'comparem', 'soluções', 'determinado', 'problema', 'PLN', '.', '==', 'Cronologia', 'avaliação', '==', 'Em', '1983', ',', 'iniciou-se', 'Projecto', 'Esprit', 'P26', ',', 'avaliou', 'Tecnologias', 'Fala', '(', 'incluindo', 'tópicos', 'gerais', 'Sintaxe', 'Semântica', ')', 'comparando', 'abordagens', 'baseadas', 'regras', 'estatísticas', '.', 'Em', '1987', ',', 'primeira', 'campanha', 'avaliação', 'textos', 'escritos', 'parece', 'ser', 'campanha', 'dedicada', 'compreensão', 'mensagem', '(', 'Pallet', ',', '1998', ')', '.', 'O', 'projeto', 'Parseval', '/', 'GEIG', 'comparou', 'gramáticas', 'frase-estrutura', '(', 'Black', '1991', ')', '.', 'Houve', 'série', 'campanhas', 'projeto', 'Tipster', 'sobre', 'tarefas', 'resumo', ',', 'tradução', 'pesquisa', '(', 'Hirschman', '1998', ')', '.', 'Em', '1994', ',', 'Alemanha', ',', 'Morpholympics', 'comparou', 'marcadores', 'morfológicos', 'alemães', '.', 'As', 'campanhas', 'Senseval', '&', 'Romanseval', 'realizadas', 'objetivos', 'desambiguação', 'semântica', '.', 'Em', '1996', ',', 'campanha', 'Sparkle', 'comparou', 'analisadores', 'sintáticos', 'quatro', 'idiomas', 'diferentes', '(', 'inglês', ',', 'francês', ',', 'alemão', 'italiano', ')', '.', 'Na', 'França', ',', 'projeto', 'Grace', 'comparou', 'conjunto', '21', 'marcadores', 'francês', '1997', '(', 'Adda', '1999', ')', '.', 'Em', '2004', ',', 'durante', 'projeto', 'Technolangue', '/', 'Easy', ',', 'comparados', '13', 'analisadores', 'francês', '.', 'A', 'avaliação', 'larga', 'escala', 'analisadores', 'dependência', 'realizada', 'contexto', 'tarefas', 'compartilhadas', 'CoNLL', '2006', '2007', '.', 'Na', 'França', ',', 'âmbito', 'projecto', 'ANR-Passage', '(', 'final', '2007', ')', ',', 'comparados', '10', 'analisadores', 'francês', '.', 'Em', 'Itália', ',', 'campanha', 'EVALITA', 'realizada', '2007', ',', '2009', ',', '2011', '2014', 'comparar', 'várias', 'ferramentas', 'PLN', 'voz', 'site', 'italiano', '-', 'EVALITA', '.', '==', 'Diferentes', 'tipos', 'avaliação', '==', 'Avaliação', 'intrínseca', 'vs.', 'extrínseca', 'A', 'avaliação', 'intrínseca', 'considera', 'sistema', 'PNL', 'isolado', 'caracteriza', 'desempenho', 'relação', 'resultado', 'padrão-excelência', ',', 'conforme', 'definido', 'avaliadores', '.', 'A', 'avaliação', 'extrínseca', ',', 'chamada', 'avaliação', 'uso', ',', 'considera', 'sistema', 'PLN', 'cenário', 'complexo', 'sistema', 'embutido', 'função', 'precisa', 'usuário', 'humano', '.', 'O', 'desempenho', 'extrínseco', 'sistema', 'então', 'caracterizado', 'termos', 'utilidade', 'relação', 'tarefa', 'global', 'sistema', 'estranho', 'utilizador', 'humano', '.', 'Por', 'exemplo', ',', 'considere', 'analisador', 'sintático', 'baseado', 'saída', 'alguma', 'parte', 'tagger', 'fala', '(', 'POS', ')', '.', 'Uma', 'avaliação', 'intrínseca', 'executaria', 'marcador', 'POS', 'dados', 'estruturados', 'compararia', 'saída', 'sistema', 'marcador', 'POS', 'saída', 'padrão', 'ouro', '.', 'Uma', 'avaliação', 'extrínseca', 'executaria', 'analisador', 'algum', 'outro', 'marcador', 'POS', ',', 'seguida', ',', 'marcador', 'POS', 'novo', 'compara', 'precisão', 'análise', '.', 'Caixa', 'preta', 'vs.', 'Avaliação', 'caixa', 'vidro', 'A', 'avaliação', 'caixa', 'preta', 'requer', 'alguém', 'execute', 'sistema', 'PLN', 'conjunto', 'dados', 'amostra', 'medir', 'série', 'parâmetros', 'relacionados', 'qualidade', 'processo', ',', 'velocidade', ',', 'confiabilidade', ',', 'consumo', 'recursos', ',', 'principalmente', ',', 'qualidade', 'resultado', ',', 'precisão', 'anotação', 'dados', 'fidelidade', 'tradução', '.', 'A', 'avaliação', 'caixa', 'vidro', 'examina', 'concepção', 'sistema', ';', 'Os', 'algoritmos', 'implementados', ',', 'recursos', 'linguísticos', 'utiliza', ',', 'tamanho', 'vocabulário', 'expressão', 'definida', 'cardinalidade', '.', 'Dada', 'complexidade', 'problemas', 'PLN', ',', 'muitas', 'vezes', 'difícil', 'prever', 'desempenho', 'apenas', 'base', 'avaliação', 'caixa', 'vidro', ';', 'Mas', 'tipo', 'avaliação', 'informativo', 'diz', 'respeito', 'análise', 'erros', 'desenvolvimentos', 'futuros', 'sistema', '.', 'Automática', 'vs.', 'avaliação', 'manual', 'Em', 'muitos', 'casos', ',', 'procedimentos', 'automáticos', 'podem', 'ser', 'definidos', 'avaliar', 'sistema', 'PLN', ',', 'comparando', 'saída', 'padrão', 'excelência', '.', 'Embora', 'custo', 'reproduzir', 'padrão', 'excelência', 'possa', 'ser', 'bastante', 'elevado', ',', 'avaliação', 'automática', 'bootstrapping', 'sobre', 'mesmos', 'dados', 'entrada', 'pode', 'ser', 'repetida', 'quantas', 'vezes', 'necessário', 'custos', 'adicionais', 'desordenados', '.', 'No', 'entanto', ',', 'muitos', 'problemas', 'PLN', 'definição', 'precisa', 'padrão', 'excelência', 'tarefa', 'complexa', 'pode', 'revelar', 'impossível', 'acordo', 'inter-anotador', 'insuficiente', '.', 'A', 'avaliação', 'manual', 'melhor', 'realizada', 'juízes', 'humanos', 'instruídos', 'estimar', 'qualidade', 'sistema', ',', 'frequentemente', 'amostra', 'produção', ',', 'base', 'série', 'critérios', '.', 'Embora', ',', 'graças', 'competência', 'linguística', ',', 'juízes', 'humanos', 'possam', 'ser', 'considerados', 'referência', 'série', 'tarefas', 'processamento', 'linguagem', ',', 'variação', 'considerável', 'classificações', '.', 'É', 'avaliação', 'automática', ',', 'vezes', ',', 'referida', 'avaliação', 'objetiva', 'enquanto', 'avaliação', 'humana', 'perspectiva', '.', '==', 'Padronização', '==', 'Um', 'subcomitê', 'ISO', 'trabalhando', 'facilitar', 'interoperabilidade', 'recursos', 'lexicais', 'programas', 'PLN', '.', 'O', 'subcomitê', 'faz', 'parte', 'ISO', '/', 'TC37', 'chamado', 'ISO', '/', 'TC37', '/', 'SC4', '.', 'Alguns', 'padrões', 'ISO', 'publicados', ',', 'maioria', 'construção', ',', 'principalmente', 'representação', 'léxico', '(', 'ver', 'LMF', ')', ',', 'anotação', 'registro', 'categoria', 'dados', '.', '==', 'Ferramentas', '==', 'Expert', 'System', 'S.p.A.', 'General', 'Architecture', 'Text', 'Engineering', 'Modular', 'Audio', 'Recognition', 'Framework', 'Natural', 'Language', 'Toolkit', '(', 'NLTK', ')', ':', 'biblioteca', 'Python', 'OpenNLP', '==', 'Veja', '==', 'Mineração', 'texto', 'biomédica', 'Processo', 'processamento', 'composto', 'Revisão', 'assistida', 'computador', 'Linguagem', 'natural', 'controlada', 'Processamento', 'linguístico', 'profundo', 'Auxílio', 'leitura', 'línguas', 'estrangeiras', 'Auxílio', 'escrita', 'língua', 'estrangeira', 'Tecnologia', 'linguagem', 'A', 'alocação', 'Dirichlet', 'Latente', '(', 'LDA', ')', 'Indexação', 'semântica', 'latente', 'Lista', 'ferramentas', 'processamento', 'língua', 'natural', 'Mapa', 'LRE', 'Programação', 'língua', 'natural', 'Reificação', '(', 'linguística', ')', 'Dobradura', 'semântica', 'Sistema', 'diálogo', 'falado', 'Vetor', 'Pensamento', 'Pesquisa', 'Transderivacional', 'Word2vec', '==', 'Referências', '==', '==', 'Leitura', 'adicional', '==', 'Steven', 'Bird', ',', 'Ewan', 'Klein', ',', 'and', 'Edward', 'Loper', '(', '2009', ')', '.', 'Natural', 'Language', 'Processing', 'with', 'Python', '.', \"O'Reilly\", 'Media', '.', 'ISBN', '978-0-596-51649-9', '.', 'Daniel', 'Jurafsky', 'and', 'James', 'H.', 'Martin', '(', '2008', ')', '.', 'Speech', 'and', 'Language', 'Processing', ',', '2nd', 'edition', '.', 'Pearson', 'Prentice', 'Hall', '.', 'ISBN', '978-0-13-187321-6', '.', 'Christopher', 'D.', 'Manning', ',', 'Prabhakar', 'Raghavan', ',', 'and', 'Hinrich', 'Schütze', '(', '2008', ')', '.', 'Introduction', 'to', 'Information', 'Retrieval', '.', 'Cambridge', 'University', 'Press', '.', 'ISBN', '978-0-521-86571-5', '.', 'Official', 'html', 'and', 'pdf', 'versions', 'available', 'without', 'charge', '.', 'Christopher', 'D.', 'Manning', 'and', 'Hinrich', 'Schütze', '(', '1999', ')', '.', 'Foundations', 'of', 'Statistical', 'Natural', 'Language', 'Processing', '.', 'The', 'MIT', 'Press', '.', 'ISBN', '978-0-262-13360-9', '.', 'David', 'M.', 'W.', 'Powers', 'and', 'Christopher', 'C.', 'R.', 'Turk', '(', '1989', ')', '.', 'Machine', 'Learning', 'of', 'Natural', 'Language', '.', 'Springer-Verlag', '.', 'ISBN', '978-0-387-19557-5', '.']\n"
          ],
          "name": "stdout"
        }
      ]
    },
    {
      "cell_type": "markdown",
      "metadata": {
        "id": "tlvmmIF8E2Wb",
        "colab_type": "text"
      },
      "source": [
        "## Remoção Números\n",
        "\n",
        "remova todos os números, utilizando uma regex\n",
        "\n",
        "```python\n",
        "re.sub(__,__,__)\n",
        "```"
      ]
    },
    {
      "cell_type": "code",
      "metadata": {
        "id": "RbnRocYGE2Wb",
        "colab_type": "code",
        "colab": {
          "base_uri": "https://localhost:8080/",
          "height": 54
        },
        "outputId": "2c7436a7-fb21-4660-b34c-924e753caee2"
      },
      "source": [
        "tokens_sem_numbers = [re.sub('[0-9]+', \"\", w ) for w in tokens_sem_stop ]\n",
        "print(tokens_sem_numbers)"
      ],
      "execution_count": null,
      "outputs": [
        {
          "output_type": "stream",
          "text": [
            "['Processamento', 'língua', 'natural', '(', 'PLN', ')', 'subárea', 'ciência', 'computação', ',', 'inteligência', 'artificial', 'linguística', 'estuda', 'problemas', 'geração', 'compreensão', 'automática', 'línguas', 'humanas', 'naturais', '.', 'Sistemas', 'geração', 'língua', 'natural', 'convertem', 'informação', 'bancos', 'dados', 'computadores', 'linguagem', 'compreensível', 'ser', 'humano', 'sistemas', 'compreensão', 'língua', 'natural', 'convertem', 'ocorrências', 'linguagem', 'humana', 'representações', 'formais', ',', 'facilmente', 'manipuláveis', 'programas', 'computador', '.', 'Alguns', 'desafios', 'PLN', 'compreensão', 'língua', 'natural', ',', 'fazer', 'computadores', 'extraiam', 'sentido', 'linguagem', 'humana', 'natural', 'geração', 'língua', 'natural', '.', '==', 'História', '==', 'A', 'história', 'PLN', 'começou', 'década', '', ',', 'Alan', 'Turing', 'publicou', 'artigo', '``', 'Computing', 'Machinery', 'and', 'Intelligence', \"''\", ',', 'propunha', 'agora', 'chamado', 'teste', 'Turing', 'critério', 'inteligência', '.', 'Em', '', ',', 'experiência', 'Georgetown', 'envolveu', 'tradução', 'automática', 'sessenta', 'frases', 'russas', 'inglês', '.', 'Os', 'autores', 'afirmaram', 'dentro', 'três', 'cinco', 'anos', 'tradução', 'automática', 'problema', 'resolvido', '.', 'No', 'entanto', ',', 'avanços', 'reais', 'lentos', 'previsto', ',', 'após', 'relatório', 'ALPAC', '', ',', 'constatou', 'pesquisa', 'dez', 'anos', 'conseguiu', 'satisfazer', 'expectativas', ',', 'financiamento', 'estudo', 'tradução', 'automática', 'reduzido', 'drasticamente', '.', 'Poucas', 'pesquisas', 'tradução', 'automática', 'conduzidas', 'final', 'anos', '', ',', 'primeiros', 'sistemas', 'estatísticos', 'tradução', 'desenvolvidos', '.', 'Alguns', 'sistemas', 'PLN', 'bem', 'sucedidos', 'desenvolvidos', 'anos', '', 'SHRDLU', ',', 'sistema', 'língua', 'natural', 'trabalhava', '``', 'blocks', 'worlds', \"''\", 'vocabulário', 'restrito', 'ELIZA', ',', 'simulação', 'psicoterapeuta', 'escrita', 'Joseph', 'Weizenbaum', '', '', '.', 'Usando', 'pouca', 'informação', 'sobre', 'pensamento', 'emoção', 'humana', ',', 'ELIZA', 'criava', ',', 'alguns', 'casos', ',', 'interações', 'surpreendentemente', 'humanas', '.', 'Quando', '``', 'paciente', \"''\", 'excedia', 'base', 'conhecimento', 'programa', ',', 'ELIZA', 'fornecia', 'resposta', 'genérica', ',', 'exemplo', ',', 'respondendo', '``', 'Minha', 'cabeça', 'dói', \"''\", '``', 'Por', 'diz', 'cabeça', 'dói', '?', \"''\", '.', 'Durante', 'década', '', ',', 'muitos', 'programadores', 'começaram', 'escrever', '``', 'ontologias', 'conceituais', \"''\", ',', 'estruturaram', 'informação', 'mundo', 'real', 'dados', 'compreensíveis', 'computadores', '.', 'Exemplos', 'MARGIE', '(', 'SCHANK', ',', '', ')', ',', 'SAM', '(', 'CULLINGFORD', ',', '', ')', ',', 'PAM', '(', 'WILENSKY', ',', '', ')', ',', 'TaleSpin', '(', 'MEEHAN', ',', '', ')', ',', 'QUALM', '(', 'LEHNERT', ',', '', ')', ',', 'Politics', '(', 'CARBONELL', ',', '', ')', 'Plot', 'Units', '(', 'LEHNERT', ',', '', ')', '.', 'Neste', 'período', ',', 'muitos', 'chatterbots', 'escritos', ',', 'PARRY', ',', 'Racter', 'Jabberwacky', '.', 'Até', 'década', '', ',', 'maioria', 'sistemas', 'PLN', 'baseava', 'conjuntos', 'complexos', 'regras', 'manuscritas', '.', 'A', 'partir', 'final', 'anos', '', ',', 'entanto', ',', 'revolução', 'PLN', 'introdução', 'algoritmos', 'aprendizagem', 'automática', '(', 'aprendizado', 'máquina', ')', 'processamento', 'linguagem', '.', 'Isto', 'devido', 'tanto', 'aumento', 'constante', 'poder', 'computacional', '(', 'ver', 'Lei', 'Moore', ')', 'quanto', 'diminuição', 'gradual', 'dominância', 'teorias', 'linguística', 'chomskyanas', '(', 'gramática', 'gerativa', ')', ',', 'cujos', 'fundamentos', 'teóricos', 'desestimularam', 'tipo', 'corpus', 'linguístico', 'subjacente', 'abordagem', 'aprendizagem', 'automática', 'processamento', 'linguagem', '.', 'Alguns', 'algoritmos', 'aprendizado', 'máquinas', 'antigos', ',', 'árvores', 'decisão', ',', 'produziam', 'sistemas', 'regras', 'rígidas', 'então', 'semelhantes', 'regras', 'existentes', 'escritas', 'mão', '.', 'No', 'entanto', ',', 'marcação', 'partes', 'fala', '(', 'part-of-speech', 'tagging', ')', 'introduziu', 'uso', 'modelos', 'ocultos', 'Markov', 'PLN', ',', 'cada', 'vez', ',', 'pesquisa', 'concentrava', 'modelos', 'estatísticos', ',', 'tomam', 'decisões', 'suaves', 'probabilísticas', 'baseadas', 'atribuição', 'pesos', 'reais', 'recursos', 'compõem', 'dados', 'entrada', '.', 'Os', 'modelos', 'linguagem', 'cache', ',', 'sobre', 'quais', 'muitos', 'sistemas', 'reconhecimento', 'fala', 'agora', 'dependem', ',', 'exemplos', 'tais', 'modelos', 'estatísticos', '.', 'Esses', 'modelos', 'geralmente', 'robustos', 'dados', 'informações', 'desconhecidas', ',', 'especialmente', 'entrada', 'contém', 'erros', '(', 'comum', 'dados', 'mundo', 'real', ')', 'produzem', 'resultados', 'confiáveis', 'integrados', 'sistemas', 'maiores', 'compreendem', 'múltiplas', 'tarefas', '.', 'Muitos', 'sucessos', 'iniciais', 'notáveis', 'ocorreram', 'campo', 'tradução', 'automática', ',', 'devido', 'especialmente', 'trabalho', 'pesquisa', 'IBM', ',', 'desenvolveu', 'modelos', 'estatísticos', 'elaborados', '.', 'Estes', 'sistemas', 'capazes', 'tirar', 'proveito', 'corpora', 'textuais', 'multilíngues', 'existentes', 'produzidos', 'Parlamento', 'Canadá', 'União', 'Europeia', 'resultado', 'leis', 'exigem', 'tradução', 'todos', 'processos', 'governamentais', 'todas', 'línguas', 'oficiais', 'países', '.', 'No', 'entanto', ',', 'maioria', 'sistemas', 'dependia', 'corpora', 'desenvolvido', 'especificamente', 'tarefas', 'implementadas', 'sistemas', ',', '(', 'muitas', 'vezes', 'continua', 'sendo', ')', 'grande', 'limitação', 'sucesso', '.', 'Como', 'resultado', ',', 'grande', 'quantidade', 'pesquisa', 'passou', 'quantidades', 'dados', 'limitadas', 'métodos', 'aprendizagem', 'eficazes', '.', 'Pesquisas', 'recentes', 'têm', 'concentrado', 'cada', 'vez', 'algoritmos', 'aprendizagem', 'semi-supervisionados', 'supervisão', '.', 'Esses', 'algoritmos', 'capazes', 'aprender', 'dados', 'anotados', 'manualmente', 'respostas', 'desejadas', 'usando', 'combinação', 'dados', 'anotados', 'anotados', '.', 'Geralmente', ',', 'tarefa', 'trabalhosa', 'aprendizagem', 'supervisionada', 'normalmente', 'produz', 'resultados', 'menos', 'precisos', 'quantidade', 'específica', 'dados', 'entrada', '.', 'No', 'entanto', ',', 'enorme', 'quantidade', 'dados', 'anotados', 'disponíveis', '(', 'incluindo', ',', 'outras', 'coisas', ',', 'todo', 'conteúdo', 'World', 'Wide', 'Web', ')', ',', 'muitas', 'vezes', 'pode', 'compensar', 'resultados', 'inferiores', '.', '==', 'Usando', 'aprendizagem', 'automática', '(', 'aprendizado', 'máquina', ')', '==', 'Os', 'algoritmos', 'modernos', 'PLN', 'baseiam-se', 'aprendizagem', 'mecânica', ',', 'especialmente', 'aprendizagem', 'máquinas', 'estatísticas', '.', 'O', 'paradigma', 'aprendizagem', 'mecânica', 'diferente', 'maioria', 'tentativas', 'anteriores', 'processamento', 'linguagem', '.', 'Anteriormente', ',', 'implementações', 'tarefas', 'processamento', 'linguagem', 'envolviam', 'codificação', 'direta', 'grandes', 'conjuntos', 'regras', '.', 'O', 'paradigma', 'aprendizagem', 'automática', '(', 'aprendizagem', 'automática', ')', 'induz', 'aprendizagem', 'automática', 'regras', 'através', 'análises', 'corpora', 'exemplos', 'típicos', 'mundo', 'real', 'invés', 'usar', 'algoritmos', 'gerais', 'aprendizagem', '(', 'muitas', 'vezes', ',', 'embora', 'sempre', ',', 'baseados', 'inferência', 'estatística', ')', '.', 'Um', 'corpus', '(', 'plural', '``', 'corpora', \"''\", ')', 'conjunto', 'documentos', '(', 'frases', 'individuais', ')', 'anotados', 'mão', 'valores', 'corretos', 'serem', 'aprendidos', '.', 'Muitas', 'classes', 'diferentes', 'algoritmos', 'aprendizado', 'máquina', 'aplicadas', 'tarefas', 'PLN', '.', 'Esses', 'algoritmos', 'tomam', 'entrada', 'grande', 'conjunto', '``', 'recursos', \"''\", 'gerados', 'partir', 'dados', 'entrada', '.', 'Alguns', 'algoritmos', 'usados', ',', 'árvores', 'decisão', ',', 'produziam', 'sistemas', 'regras', 'rígidas', 'semelhantes', 'sistemas', 'regras', 'manuscritas', 'comuns', '.', 'No', 'entanto', ',', 'cada', 'vez', ',', 'pesquisa', 'concentrado', 'modelos', 'estatísticos', ',', 'tomam', 'decisões', 'flexíveis', 'probabilísticas', 'baseadas', 'agregar', 'pesos', 'reais', 'cada', 'característica', 'entrada', '.', 'Tais', 'modelos', 'têm', 'vantagem', 'poder', 'expressar', 'certeza', 'relativa', 'muitas', 'respostas', 'possíveis', 'diferentes', 'vez', 'apenas', ',', 'produzindo', 'resultados', 'confiáveis', 'modelo', 'incluído', 'componente', 'sistema', 'maior', '.', 'Os', 'sistemas', 'baseados', 'algoritmos', 'aprendizagem', 'mecânica', 'têm', 'muitas', 'vantagens', 'relação', 'regras', 'produzidas', 'manualmente', ':', 'Os', 'procedimentos', 'aprendizagem', 'usados', 'durante', 'aprendizagem', 'máquina', 'focam-se', 'automaticamente', 'casos', 'comuns', ',', 'passo', 'escrevem', 'regras', 'mão', ',', 'óbvio', 'sentido', 'esforço', 'deve', 'ser', 'dirigido', '.', 'Os', 'procedimentos', 'aprendizagem', 'automática', 'podem', 'fazer', 'uso', 'algoritmos', 'inferência', 'estatística', 'produzir', 'modelos', 'robustos', 'entradas', 'familiares', '(', 'exemplo', ',', 'contendo', 'palavras', 'estruturas', 'vistas', 'antes', ')', 'entradas', 'errôneas', '(', 'exemplo', ',', 'palavras', 'palavras', 'incorretamente', 'omitidas', ')', '.', 'Geralmente', ',', 'lidar', 'entradas', 'forma', 'regras', 'manuscritas', 'sistemas', 'regras', 'manuscritas', 'tomam', 'decisões', 'suaves', 'extremamente', 'trabalhoso', ',', 'propenso', 'erros', 'demorado', '.', 'Sistemas', 'baseados', 'aprender', 'automaticamente', 'regras', 'podem', 'ser', 'precisos', 'simplesmente', 'fornecendo', 'dados', 'entrada', '.', 'No', 'entanto', ',', 'sistemas', 'baseados', 'regras', 'escritas', 'mão', 'podem', 'ser', 'tornados', 'precisos', 'aumentando', 'complexidade', 'regras', ',', 'tarefa', 'difícil', '.', 'Em', 'particular', ',', 'limite', 'complexidade', 'sistemas', 'baseados', 'regras', 'artesanais', ',', 'além', 'quais', 'sistemas', 'tornam', 'cada', 'vez', 'incontroláveis', '.', 'No', 'entanto', ',', 'criação', 'dados', 'entrada', 'sistemas', 'aprendizado', 'máquina', 'requer', 'simplesmente', 'aumento', 'correspondente', 'número', 'horas', 'trabalhadas', 'humanos', ',', 'geralmente', 'aumentos', 'significativos', 'complexidade', 'processo', 'anotação.O', 'subcampo', 'PLN', 'dedicado', 'abordagens', 'aprendizagem', 'conhecido', 'aprendizagem', 'língua', 'natural', '(', 'NLL', ')', 'conferência', ',', 'CoNLL', ',', 'orgão', 'central', ',', 'SIGNLL', ',', 'patrocinados', 'ACL', ',', 'reconhecendo', 'ligações', 'linguística', 'computacional', 'aquisição', 'linguagem', '.', 'Quando', 'objetivo', 'pesquisa', 'aprendizagem', 'linguagem', 'computacional', 'entender', 'sobre', 'aquisição', 'linguagem', 'humana', ',', 'psicolinguística', ',', 'NLL', 'sobrepõe-se', 'campo', 'relacionado', 'psicolinguística', 'computacional', '.', '==', 'Aplicações', 'principais', '==', 'A', 'listagem', 'seguir', 'traz', 'alguns', 'trabalhos', 'pesquisadas', 'PLN', '.', 'Note', 'alguns', 'têm', 'aplicações', 'mundo', 'real', ',', 'enquanto', 'outras', 'servem', 'frequentemente', 'tarefas', 'secundárias', 'usadas', 'auxiliar', 'resolução', 'tarefas', 'maiores', '.', 'O', 'distingue', 'tarefas', 'outras', 'tarefas', 'potenciais', 'reais', 'PLN', 'apenas', 'volume', 'pesquisa', 'dedicado', ',', 'fato', 'cada', 'tipicamente', 'definição', 'problema', 'bem', 'especificada', ',', 'métrica', 'padrão', 'avaliar', 'tarefa', ',', 'corpora', 'padrão', 'tarefa', 'pode', 'ser', 'avaliada', 'competições', 'dedicadas', 'tarefa', 'específica', '.', 'Sumarização', 'automática', 'Produz', 'resumo', 'legível', 'parte', 'texto', '.', 'Muitas', 'vezes', 'usado', 'fornecer', 'resumos', 'texto', 'tipo', 'conhecido', ',', 'artigos', 'seção', 'financeira', 'jornal.Resolução', 'correferência', 'Dada', 'frase', 'pedaço', 'maior', 'texto', ',', 'determina', 'quais', 'palavras', '(', '``', 'menções', \"''\", ')', 'referem', 'mesmos', 'objetos', '(', '``', 'entidades', \"''\", ')', '.', 'A', 'resolução', 'anáfora', 'exemplo', 'específico', 'dessa', 'tarefa', 'especificamente', 'preocupada', 'combinar', 'pronomes', 'substantivos', 'nomes', 'quais', 'referem', '.', 'A', 'tarefa', 'geral', 'resolução', 'correferência', 'inclui', 'identificação', 'chamados', '``', 'relacionamentos', 'ponte', \"''\", 'envolvendo', 'expressões', 'referência', '.', 'Por', 'exemplo', ',', 'frase', '``', 'Ele', 'entrou', 'casa', 'João', 'porta', 'frente', \"''\", ',', '``', 'porta', 'frente', \"''\", 'expressão', 'referência', 'relação', 'ponte', 'ser', 'identificada', 'fato', 'porta', 'ser', 'referida', 'porta', 'frente', 'John', \"'s\", '(', 'invés', 'alguma', 'outra', 'estrutura', 'pode', 'ser', 'referida', ')', '.Análise', 'Discurso', 'Esta', 'rubrica', 'inclui', 'série', 'tarefas', 'relacionadas', '.', 'Uma', 'tarefa', 'identificar', 'estrutura', 'discursiva', 'texto', 'conectado', ',', ',', 'natureza', 'relações', 'discursivas', 'sentenças', '(', 'exemplo', ',', 'elaboração', ',', 'explicação', ',', 'contraste', ')', '.', 'Outra', 'possível', 'tarefa', 'reconhecer', 'classificar', 'atos', 'fala', 'pedaço', 'texto', '(', 'exemplo', ',', 'pergunta', 'sim-não', ',', 'pergunta', 'conteúdo', ',', 'frase', ',', 'afirmação', ',', 'etc', ')', '.Maquina', 'tradução', 'Traduzir', 'automaticamente', 'texto', 'linguagem', 'humana', 'outra', '.', 'Este', 'tarefas', 'difíceis', 'faz', 'parte', 'tipo', 'problemas', 'conhecidos', '``', 'AI-complete', \"''\", ',', ',', 'exigindo', 'todos', 'diferentes', 'tipos', 'conhecimento', 'humanos', 'possuem', '(', 'gramática', ',', 'semântica', ',', 'fatos', 'sobre', 'mundo', 'real', ',', 'etc', ')', 'resolvê-lo', 'adequadamente.Segmentação', 'morfológica', 'Separa', 'palavras', 'morfemas', 'individuais', 'identifica', 'classes', 'morfemas', '.', 'A', 'dificuldade', 'desta', 'tarefa', 'depende', 'complexidade', 'morfologia', '(', ',', 'estrutura', 'palavras', ')', 'linguagem', 'sendo', 'considerada', '.', 'O', 'inglês', 'possui', 'morfologia', 'bastante', 'simples', ',', 'especialmente', 'morfologia', 'flexional', ',', 'portanto', 'possível', 'ignorar', 'tarefa', 'inteiramente', 'simplesmente', 'modelar', 'todas', 'formas', 'possíveis', 'palavra', '(', 'exemplo', ',', '``', 'open', ',', 'opens', ',', 'opened', ',', 'opening', \"''\", ')', 'palavras', 'separadas', '.', 'Em', 'línguas', 'turco', 'Meitei', ',', 'língua', 'indiana', 'fortemente', 'aglutinada', ',', 'entanto', ',', 'tal', 'abordagem', 'possível', ',', 'vez', 'cada', 'entrada', 'dicionário', 'milhares', 'formas', 'palavras', 'possíveis.Reconhecimento', 'entidade', 'nomeada', '(', 'NER', ')', 'Dado', 'fluxo', 'texto', ',', 'determina', 'quais', 'itens', 'mapa', 'texto', 'nomes', 'próprios', ',', 'pessoas', 'locais', 'tipo', 'cada', 'nome', '(', 'exemplo', ',', 'pessoa', ',', 'local', ',', 'organização', ')', '.', 'Embora', 'capitalização', 'possa', 'ajudar', 'reconhecer', 'entidades', 'nomeadas', 'idiomas', 'inglês', ',', 'informações', 'podem', 'ajudar', 'determinar', 'tipo', 'entidade', 'nomeada', ',', 'alguns', 'casos', ',', 'sãos', 'imprecisas', 'insuficientes', '.', 'Por', 'exemplo', ',', 'primeira', 'palavra', 'frase', 'capitalizada', 'entidades', 'nomeadas', 'muitas', 'vezes', 'abrangem', 'várias', 'palavras', ',', 'apenas', 'algumas', 'capitalizadas', '.', 'Além', 'disso', ',', 'muitas', 'outras', 'linguagens', 'scripts', 'não-ocidentais', '(', 'exemplo', ',', 'chinês', 'árabe', ')', 'têm', 'nenhuma', 'capitalização', 'línguas', 'maiúsculas', 'podem', 'distinguir', 'nomes', '.', 'Por', 'exemplo', ',', 'alemão', 'capitaliza', 'todos', 'substantivos', ',', 'independentemente', 'referirem', 'nomes', ',', 'francês', 'espanhol', 'capitalizam', 'nomes', 'servem', 'adjetivos.Geração', 'língua', 'natural', 'Converte', 'informações', 'bancos', 'dados', 'computador', 'intenções', 'semânticas', 'linguagem', 'humana', 'legível.Compreensão', 'língua', 'natural', 'Converte', 'pedaços', 'texto', 'representações', 'formais', ',', 'estruturas', 'lógica', 'primeira', 'ordem', ',', 'fáceis', 'manipular', 'programas', 'computador', '.', 'A', 'compreensão', 'língua', 'natural', 'envolve', 'identificação', 'semântica', 'pretendida', 'partir', 'múltipla', 'semântica', 'possível', 'pode', 'ser', 'derivada', 'expressão', 'língua', 'natural', 'geralmente', 'toma', 'forma', 'notação', 'organizada', 'conceitos', 'linguagens', 'naturais', '.', 'Entretanto', ',', 'introdução', 'criação', 'linguagem', 'metamodelo', 'ontologia', 'eficientes', 'soluções', 'empíricas', '.', 'Uma', 'formalização', 'explícita', 'semântica', 'línguas', 'naturais', 'confusões', 'suposições', 'implícitas', 'closed-world', 'assumption', '(', 'CWA', ')', 'versus', 'open-world', 'assumption', 'subjetiva', 'Sim', '/', 'Não', 'versus', 'objetivo', 'Verdadeiro', '/', 'Falso', 'esperada', 'construção', 'base', 'formalização', 'semântica.Reconhecimento', 'óptico', 'caracteres', '(', 'OCR', ')', 'Dada', 'imagem', 'representa', 'texto', 'impresso', ',', 'determina', 'texto', 'correspondente.Marcação', 'classe', 'gramatical', 'Dada', 'sentença', ',', 'determina', 'classe', 'gramatical', 'cada', 'palavra', '.', 'Muitas', 'palavras', ',', 'especialmente', 'comuns', ',', 'podem', 'servir', 'múltiplas', 'partes', 'discurso', '.', 'Em', 'inglês', ',', 'exemplo', ',', '``', 'book', \"''\", 'pode', 'ser', 'substantivo', '(', '``', 'the', 'book', 'on', 'the', 'table', \"''\", ')', 'verbo', '(', '``', 'book', 'flight', \"''\", ')', ';', '``', 'Set', \"''\", 'pode', 'ser', 'substantivo', ',', 'verbo', 'adjetivo', ';', 'E', '``', 'out', \"''\", 'pode', 'ser', 'qualquer', 'menos', 'cinco', 'diferentes', 'partes', 'fala', '.', 'Algumas', 'línguas', 'têm', 'ambiguidade', 'outras', '.', 'As', 'línguas', 'pouca', 'morfologia', 'flexional', ',', 'inglês', ',', 'particularmente', 'propensas', 'tal', 'ambiguidade', '.', 'O', 'chinês', 'propenso', 'tal', 'ambiguidade', 'porque', 'língua', 'tonal', 'durante', 'verbalização', '.', 'Tal', 'inflexão', 'facilmente', 'transmitida', 'através', 'entidades', 'empregadas', 'dentro', 'ortografia', 'transmitir', 'significado', 'pretendido.Análise', 'sintática', '(', 'Parsing', ')', 'Determina', 'árvore', 'análise', '(', 'análise', 'gramatical', ')', 'frase', '.', 'A', 'gramática', 'linguagens', 'naturais', 'ambígua', 'frases', 'típicas', 'têm', 'múltiplas', 'análises', 'possíveis', '.', 'Na', 'verdade', ',', 'surpreendentemente', ',', 'frase', 'típica', 'pode', 'haver', 'milhares', 'análises', 'potencial', '(', 'maioria', 'quais', 'parecerá', 'completamente', 'absurda', 'ser', 'humano', ')', '.Respostas', 'perguntas', 'Dada', 'questão', 'linguagem', 'humana', ',', 'determina', 'resposta', '.', 'As', 'perguntas', 'típicas', 'têm', 'resposta', 'correta', 'específica', '(', '``', 'Qual', 'capital', 'Canadá', '?', '``', ')', ',', 'vezes', 'perguntas', 'abertas', 'consideradas', '(', '``', 'Qual', 'significado', 'vida', '?', \"''\", ')', '.', 'Trabalhos', 'recentes', 'têm', 'analisado', 'questões', 'ainda', 'complexas.Extração', 'relacionamento', 'Identifica', 'relações', 'entidades', 'nomeadas', '(', 'exemplo', ',', 'casado', ')', 'base', 'textos.Quebra', 'frases', '(', 'sentence', 'boundary', 'disambiguation', ')', 'Encontra', 'limites', 'frase', 'pedaço', 'texto', '.', 'Os', 'limites', 'frases', 'normalmente', 'marcadas', 'pontos', 'outros', 'sinais', 'pontuação', ',', 'mesmos', 'caracteres', 'podem', 'servir', 'outros', 'propósitos.Análise', 'subjetividade', '(', 'sentiment', 'analysis', 'opinion', 'mining', ')', 'Extrai', 'informações', 'subjetivas', 'geralmente', 'conjunto', 'documentos', ',', 'muitas', 'vezes', 'usando', 'revisões', 'online', 'determinar', '``', 'polaridade', \"''\", 'sobre', 'objetos', 'específicos', '.', 'É', 'especialmente', 'útil', 'identificar', 'tendências', 'opinião', 'pública', 'mídias', 'sociais', ',', 'fins', 'marketing.Reconhecimento', 'fala', 'Dado', 'clipe', 'som', 'pessoa', 'pessoas', 'falando', ',', 'determina', 'representação', 'textual', 'discurso', '.', 'É', 'oposto', 'síntese', 'fala', 'áreas', 'difíceis', ',', 'conhecida', '``', 'AI-complete', \"''\", '.', 'Na', 'fala', 'natural', 'quase', 'pausas', 'palavras', 'sucessivas', ',', 'segmentação', 'fala', 'subtarefa', 'necessária', 'reconhecimento', 'fala', '.', 'Nota-se', ',', 'maioria', 'linguagens', 'faladas', ',', 'sons', 'representam', 'letras', 'sucessivas', 'misturam', 'si', 'processo', 'denominado', 'coarticulação', ',', 'modo', 'conversão', 'sinal', 'analógico', 'caracteres', 'discretos', 'pode', 'ser', 'processo', 'difícil', 'ser', 'realizado.Segmentação', 'fala', 'Dado', 'clipe', 'som', 'pessoa', 'pessoas', 'falando', ',', 'separa-o', 'palavras', '.', 'Uma', 'subaplicação', 'reconhecimento', 'fala', 'normalmente', 'agrupada', 'ele.Análise', 'morfológica', 'reconhecimento', 'tópicos', 'Dado', 'pedaço', 'texto', ',', 'separa-o', 'segmentos', 'cada', 'quais', 'dedicado', 'tópico', 'identifica', 'tópico', 'segmento.Análise', 'morfológica', 'segmentação', 'palavras', 'Separa', 'pedaço', 'texto', 'contínuo', 'palavras', 'separadas', '.', 'Para', 'língua', 'inglês', ',', 'bastante', 'trivial', ',', 'vez', 'palavras', 'normalmente', 'separadas', 'espaços', '.', 'No', 'entanto', ',', 'algumas', 'línguas', 'escritas', 'chinês', ',', 'japonês', 'tailandês', 'marcam', 'limites', 'palavras', 'tal', 'forma', ',', 'nessas', 'línguas', 'segmentação', 'texto', 'tarefa', 'significativa', 'requer', 'conhecimento', 'vocabulário', 'morfologia', 'palavras', 'língua.Desambiguação', 'Muitas', 'palavras', 'têm', 'significado', ',', 'assim', 'selecionar', 'significado', 'faz', 'sentido', 'contexto', '.', 'Para', 'problema', ',', 'geral', 'dada', 'lista', 'palavras', 'sentidos', 'palavras', 'associadas', 'dicionário', 'recurso', 'online', ',', 'WordNet', '.', 'Em', 'alguns', 'casos', ',', 'conjuntos', 'tarefas', 'relacionadas', 'agrupados', 'subcampos', 'PLN', 'frequentemente', 'considerados', 'separadamente', 'PLN', 'todo', ',', 'exemplos', 'seguir', ':', 'Recuperação', 'informação', '(', 'IR', ')', 'Trata-se', 'armazenar', ',', 'pesquisar', 'recuperar', 'informações', '.', 'É', 'campo', 'separado', 'dentro', 'ciência', 'computação', '(', 'perto', 'bancos', 'dados', ')', ',', 'IR', 'baseia', 'alguns', 'métodos', 'PLN', '(', 'exemplo', ',', 'stemming', ')', '.', 'Algumas', 'pesquisas', 'aplicações', 'atuais', 'procuram', 'preencher', 'lacuna', 'IR', 'PLN.Extração', 'informação', '(', 'IE', ')', 'Trata-se', ',', 'geral', ',', 'extração', 'informação', 'semântica', 'partir', 'texto', '.', 'Abrange', 'tarefas', 'reconhecimento', 'entidade', 'mencionada', ',', 'resolução', 'correferência', 'relacionamento', 'extração', ',', 'etc', '.', 'Processamento', 'voz', 'Abrange', 'reconhecimento', 'fala', ',', 'síntese', 'fala', 'tarefas', 'relacionadas', '.', 'Outras', 'tarefas', 'incluem', ':', 'Identificação', 'língua', 'materna', 'Stemização', 'Simplificação', 'texto', 'Síntese', 'fala', 'Revisão', 'texto', 'Pesquisa', 'língua', 'natural', 'Expansão', 'consulta', 'Pontuação', 'ensaio', 'automatizado', 'Truecasing', '==', 'Estatística', '==', 'Artigo', 'principal', ':', 'Gramática', 'estocástica', 'O', 'processamento', 'estatístico', 'língua', 'natural', 'utiliza', 'métodos', 'estocásticos', ',', 'probabilísticos', 'estatísticos', 'resolver', 'algumas', 'dificuldades', 'discutidas', 'acima', ',', 'especialmente', 'surgem', 'porque', 'frases', 'longas', 'ambíguas', 'processadas', 'gramáticas', 'realistas', ',', 'produzindo', 'milhares', 'milhões', 'análises', 'possíveis', '.', 'Métodos', 'desambiguação', 'envolvem', 'muitas', 'vezes', 'uso', 'corpora', 'modelos', 'Markov', '.', 'O', 'projeto', 'ESPRIT', 'P', '(', '-', ')', ',', 'liderado', 'CSELT', ',', 'explorou', 'problema', 'reconhecimento', 'fala', 'comparando', 'abordagem', 'baseada', 'conhecimento', 'estatística', ':', 'resultado', 'escolhido', 'modelo', 'completamente', 'estatístico', '.', 'Um', 'primeiros', 'modelos', 'compreensão', 'estatística', 'língua', 'natural', 'introduzido', '', 'Roberto', 'Pieraccini', ',', 'Esther', 'Levin', 'Chin-Hui', 'Lee', ',', 'Bell', 'Laboratories', ']', '.', 'O', 'PLN', 'compreende', 'todas', 'abordagens', 'quantitativas', 'processamento', 'automatizado', 'linguagem', ',', 'incluindo', 'modelagem', 'probabilística', ',', 'teoria', 'informação', 'álgebra', 'linear', '.', 'A', 'tecnologia', 'PLN', 'estatístico', 'vem', 'principalmente', 'aprendizagem', 'automática', 'mineração', 'dados', ',', 'campos', 'inteligência', 'artificial', 'envolvem', 'aprendizado', 'partir', 'dados', '.', '==', 'Avaliação', '==', 'O', 'objetivo', 'avaliação', 'PLN', 'medida', 'qualidades', 'algoritmo', 'sistema', 'fim', 'determinar', 'algoritmo', 'atende', 'metas', 'projetistas', 'sistema', 'atendimento', 'necessidades', 'usuários', '.', 'Investigação', 'avaliação', 'PLN', 'ganhado', 'atenção', ',', 'porque', 'definição', 'critérios', 'avaliação', 'forma', 'especificar', 'precisamente', 'problemas', 'PLN', '.', 'Uma', 'métrica', 'avaliação', 'PLN', 'sistema', 'algorítmico', 'permite', 'integração', 'compreensão', 'linguagem', 'geração', 'linguagem', '.', 'Um', 'conjunto', 'preciso', 'critérios', 'avaliação', ',', 'pode', 'ser', 'aplicado', 'principalmente', 'avaliações', 'métricas', ',', 'podendo', 'permitir', 'várias', 'equipes', 'comparem', 'soluções', 'determinado', 'problema', 'PLN', '.', '==', 'Cronologia', 'avaliação', '==', 'Em', '', ',', 'iniciou-se', 'Projecto', 'Esprit', 'P', ',', 'avaliou', 'Tecnologias', 'Fala', '(', 'incluindo', 'tópicos', 'gerais', 'Sintaxe', 'Semântica', ')', 'comparando', 'abordagens', 'baseadas', 'regras', 'estatísticas', '.', 'Em', '', ',', 'primeira', 'campanha', 'avaliação', 'textos', 'escritos', 'parece', 'ser', 'campanha', 'dedicada', 'compreensão', 'mensagem', '(', 'Pallet', ',', '', ')', '.', 'O', 'projeto', 'Parseval', '/', 'GEIG', 'comparou', 'gramáticas', 'frase-estrutura', '(', 'Black', '', ')', '.', 'Houve', 'série', 'campanhas', 'projeto', 'Tipster', 'sobre', 'tarefas', 'resumo', ',', 'tradução', 'pesquisa', '(', 'Hirschman', '', ')', '.', 'Em', '', ',', 'Alemanha', ',', 'Morpholympics', 'comparou', 'marcadores', 'morfológicos', 'alemães', '.', 'As', 'campanhas', 'Senseval', '&', 'Romanseval', 'realizadas', 'objetivos', 'desambiguação', 'semântica', '.', 'Em', '', ',', 'campanha', 'Sparkle', 'comparou', 'analisadores', 'sintáticos', 'quatro', 'idiomas', 'diferentes', '(', 'inglês', ',', 'francês', ',', 'alemão', 'italiano', ')', '.', 'Na', 'França', ',', 'projeto', 'Grace', 'comparou', 'conjunto', '', 'marcadores', 'francês', '', '(', 'Adda', '', ')', '.', 'Em', '', ',', 'durante', 'projeto', 'Technolangue', '/', 'Easy', ',', 'comparados', '', 'analisadores', 'francês', '.', 'A', 'avaliação', 'larga', 'escala', 'analisadores', 'dependência', 'realizada', 'contexto', 'tarefas', 'compartilhadas', 'CoNLL', '', '', '.', 'Na', 'França', ',', 'âmbito', 'projecto', 'ANR-Passage', '(', 'final', '', ')', ',', 'comparados', '', 'analisadores', 'francês', '.', 'Em', 'Itália', ',', 'campanha', 'EVALITA', 'realizada', '', ',', '', ',', '', '', 'comparar', 'várias', 'ferramentas', 'PLN', 'voz', 'site', 'italiano', '-', 'EVALITA', '.', '==', 'Diferentes', 'tipos', 'avaliação', '==', 'Avaliação', 'intrínseca', 'vs.', 'extrínseca', 'A', 'avaliação', 'intrínseca', 'considera', 'sistema', 'PNL', 'isolado', 'caracteriza', 'desempenho', 'relação', 'resultado', 'padrão-excelência', ',', 'conforme', 'definido', 'avaliadores', '.', 'A', 'avaliação', 'extrínseca', ',', 'chamada', 'avaliação', 'uso', ',', 'considera', 'sistema', 'PLN', 'cenário', 'complexo', 'sistema', 'embutido', 'função', 'precisa', 'usuário', 'humano', '.', 'O', 'desempenho', 'extrínseco', 'sistema', 'então', 'caracterizado', 'termos', 'utilidade', 'relação', 'tarefa', 'global', 'sistema', 'estranho', 'utilizador', 'humano', '.', 'Por', 'exemplo', ',', 'considere', 'analisador', 'sintático', 'baseado', 'saída', 'alguma', 'parte', 'tagger', 'fala', '(', 'POS', ')', '.', 'Uma', 'avaliação', 'intrínseca', 'executaria', 'marcador', 'POS', 'dados', 'estruturados', 'compararia', 'saída', 'sistema', 'marcador', 'POS', 'saída', 'padrão', 'ouro', '.', 'Uma', 'avaliação', 'extrínseca', 'executaria', 'analisador', 'algum', 'outro', 'marcador', 'POS', ',', 'seguida', ',', 'marcador', 'POS', 'novo', 'compara', 'precisão', 'análise', '.', 'Caixa', 'preta', 'vs.', 'Avaliação', 'caixa', 'vidro', 'A', 'avaliação', 'caixa', 'preta', 'requer', 'alguém', 'execute', 'sistema', 'PLN', 'conjunto', 'dados', 'amostra', 'medir', 'série', 'parâmetros', 'relacionados', 'qualidade', 'processo', ',', 'velocidade', ',', 'confiabilidade', ',', 'consumo', 'recursos', ',', 'principalmente', ',', 'qualidade', 'resultado', ',', 'precisão', 'anotação', 'dados', 'fidelidade', 'tradução', '.', 'A', 'avaliação', 'caixa', 'vidro', 'examina', 'concepção', 'sistema', ';', 'Os', 'algoritmos', 'implementados', ',', 'recursos', 'linguísticos', 'utiliza', ',', 'tamanho', 'vocabulário', 'expressão', 'definida', 'cardinalidade', '.', 'Dada', 'complexidade', 'problemas', 'PLN', ',', 'muitas', 'vezes', 'difícil', 'prever', 'desempenho', 'apenas', 'base', 'avaliação', 'caixa', 'vidro', ';', 'Mas', 'tipo', 'avaliação', 'informativo', 'diz', 'respeito', 'análise', 'erros', 'desenvolvimentos', 'futuros', 'sistema', '.', 'Automática', 'vs.', 'avaliação', 'manual', 'Em', 'muitos', 'casos', ',', 'procedimentos', 'automáticos', 'podem', 'ser', 'definidos', 'avaliar', 'sistema', 'PLN', ',', 'comparando', 'saída', 'padrão', 'excelência', '.', 'Embora', 'custo', 'reproduzir', 'padrão', 'excelência', 'possa', 'ser', 'bastante', 'elevado', ',', 'avaliação', 'automática', 'bootstrapping', 'sobre', 'mesmos', 'dados', 'entrada', 'pode', 'ser', 'repetida', 'quantas', 'vezes', 'necessário', 'custos', 'adicionais', 'desordenados', '.', 'No', 'entanto', ',', 'muitos', 'problemas', 'PLN', 'definição', 'precisa', 'padrão', 'excelência', 'tarefa', 'complexa', 'pode', 'revelar', 'impossível', 'acordo', 'inter-anotador', 'insuficiente', '.', 'A', 'avaliação', 'manual', 'melhor', 'realizada', 'juízes', 'humanos', 'instruídos', 'estimar', 'qualidade', 'sistema', ',', 'frequentemente', 'amostra', 'produção', ',', 'base', 'série', 'critérios', '.', 'Embora', ',', 'graças', 'competência', 'linguística', ',', 'juízes', 'humanos', 'possam', 'ser', 'considerados', 'referência', 'série', 'tarefas', 'processamento', 'linguagem', ',', 'variação', 'considerável', 'classificações', '.', 'É', 'avaliação', 'automática', ',', 'vezes', ',', 'referida', 'avaliação', 'objetiva', 'enquanto', 'avaliação', 'humana', 'perspectiva', '.', '==', 'Padronização', '==', 'Um', 'subcomitê', 'ISO', 'trabalhando', 'facilitar', 'interoperabilidade', 'recursos', 'lexicais', 'programas', 'PLN', '.', 'O', 'subcomitê', 'faz', 'parte', 'ISO', '/', 'TC', 'chamado', 'ISO', '/', 'TC', '/', 'SC', '.', 'Alguns', 'padrões', 'ISO', 'publicados', ',', 'maioria', 'construção', ',', 'principalmente', 'representação', 'léxico', '(', 'ver', 'LMF', ')', ',', 'anotação', 'registro', 'categoria', 'dados', '.', '==', 'Ferramentas', '==', 'Expert', 'System', 'S.p.A.', 'General', 'Architecture', 'Text', 'Engineering', 'Modular', 'Audio', 'Recognition', 'Framework', 'Natural', 'Language', 'Toolkit', '(', 'NLTK', ')', ':', 'biblioteca', 'Python', 'OpenNLP', '==', 'Veja', '==', 'Mineração', 'texto', 'biomédica', 'Processo', 'processamento', 'composto', 'Revisão', 'assistida', 'computador', 'Linguagem', 'natural', 'controlada', 'Processamento', 'linguístico', 'profundo', 'Auxílio', 'leitura', 'línguas', 'estrangeiras', 'Auxílio', 'escrita', 'língua', 'estrangeira', 'Tecnologia', 'linguagem', 'A', 'alocação', 'Dirichlet', 'Latente', '(', 'LDA', ')', 'Indexação', 'semântica', 'latente', 'Lista', 'ferramentas', 'processamento', 'língua', 'natural', 'Mapa', 'LRE', 'Programação', 'língua', 'natural', 'Reificação', '(', 'linguística', ')', 'Dobradura', 'semântica', 'Sistema', 'diálogo', 'falado', 'Vetor', 'Pensamento', 'Pesquisa', 'Transderivacional', 'Wordvec', '==', 'Referências', '==', '==', 'Leitura', 'adicional', '==', 'Steven', 'Bird', ',', 'Ewan', 'Klein', ',', 'and', 'Edward', 'Loper', '(', '', ')', '.', 'Natural', 'Language', 'Processing', 'with', 'Python', '.', \"O'Reilly\", 'Media', '.', 'ISBN', '----', '.', 'Daniel', 'Jurafsky', 'and', 'James', 'H.', 'Martin', '(', '', ')', '.', 'Speech', 'and', 'Language', 'Processing', ',', 'nd', 'edition', '.', 'Pearson', 'Prentice', 'Hall', '.', 'ISBN', '----', '.', 'Christopher', 'D.', 'Manning', ',', 'Prabhakar', 'Raghavan', ',', 'and', 'Hinrich', 'Schütze', '(', '', ')', '.', 'Introduction', 'to', 'Information', 'Retrieval', '.', 'Cambridge', 'University', 'Press', '.', 'ISBN', '----', '.', 'Official', 'html', 'and', 'pdf', 'versions', 'available', 'without', 'charge', '.', 'Christopher', 'D.', 'Manning', 'and', 'Hinrich', 'Schütze', '(', '', ')', '.', 'Foundations', 'of', 'Statistical', 'Natural', 'Language', 'Processing', '.', 'The', 'MIT', 'Press', '.', 'ISBN', '----', '.', 'David', 'M.', 'W.', 'Powers', 'and', 'Christopher', 'C.', 'R.', 'Turk', '(', '', ')', '.', 'Machine', 'Learning', 'of', 'Natural', 'Language', '.', 'Springer-Verlag', '.', 'ISBN', '----', '.']\n"
          ],
          "name": "stdout"
        }
      ]
    },
    {
      "cell_type": "markdown",
      "metadata": {
        "id": "hoWeL_G-E2We",
        "colab_type": "text"
      },
      "source": [
        "## Remoção Pontuação\n",
        "\n",
        "remova todas as pontruações retornadas pelo pacote string da lista de tokens.\n",
        "\n",
        "```python\n",
        "string.punctuation\n",
        "```"
      ]
    },
    {
      "cell_type": "code",
      "metadata": {
        "id": "-dYZ-eB0E2Wg",
        "colab_type": "code",
        "colab": {}
      },
      "source": [
        "import string"
      ],
      "execution_count": null,
      "outputs": []
    },
    {
      "cell_type": "code",
      "metadata": {
        "id": "phDcEdjiE2Wj",
        "colab_type": "code",
        "colab": {
          "base_uri": "https://localhost:8080/",
          "height": 35
        },
        "outputId": "85255ece-0254-45fa-f1e3-c3972e939a8e"
      },
      "source": [
        "string.punctuation"
      ],
      "execution_count": null,
      "outputs": [
        {
          "output_type": "execute_result",
          "data": {
            "application/vnd.google.colaboratory.intrinsic+json": {
              "type": "string"
            },
            "text/plain": [
              "'!\"#$%&\\'()*+,-./:;<=>?@[\\\\]^_`{|}~'"
            ]
          },
          "metadata": {
            "tags": []
          },
          "execution_count": 182
        }
      ]
    },
    {
      "cell_type": "code",
      "metadata": {
        "id": "BXBcTE6HE2Wl",
        "colab_type": "code",
        "colab": {
          "base_uri": "https://localhost:8080/",
          "height": 54
        },
        "outputId": "f400c25d-fd54-4e04-9aad-4b5ce97e8c77"
      },
      "source": [
        "tokens_sem_punction = [ re.sub(r'[{}]'.format(string.punctuation), '', w) for w in tokens_sem_numbers ]\n",
        "print(tokens_sem_punction)"
      ],
      "execution_count": null,
      "outputs": [
        {
          "output_type": "stream",
          "text": [
            "['Processamento', 'língua', 'natural', '', 'PLN', '', 'subárea', 'ciência', 'computação', '', 'inteligência', 'artificial', 'linguística', 'estuda', 'problemas', 'geração', 'compreensão', 'automática', 'línguas', 'humanas', 'naturais', '', 'Sistemas', 'geração', 'língua', 'natural', 'convertem', 'informação', 'bancos', 'dados', 'computadores', 'linguagem', 'compreensível', 'ser', 'humano', 'sistemas', 'compreensão', 'língua', 'natural', 'convertem', 'ocorrências', 'linguagem', 'humana', 'representações', 'formais', '', 'facilmente', 'manipuláveis', 'programas', 'computador', '', 'Alguns', 'desafios', 'PLN', 'compreensão', 'língua', 'natural', '', 'fazer', 'computadores', 'extraiam', 'sentido', 'linguagem', 'humana', 'natural', 'geração', 'língua', 'natural', '', '', 'História', '', 'A', 'história', 'PLN', 'começou', 'década', '', '', 'Alan', 'Turing', 'publicou', 'artigo', '', 'Computing', 'Machinery', 'and', 'Intelligence', '', '', 'propunha', 'agora', 'chamado', 'teste', 'Turing', 'critério', 'inteligência', '', 'Em', '', '', 'experiência', 'Georgetown', 'envolveu', 'tradução', 'automática', 'sessenta', 'frases', 'russas', 'inglês', '', 'Os', 'autores', 'afirmaram', 'dentro', 'três', 'cinco', 'anos', 'tradução', 'automática', 'problema', 'resolvido', '', 'No', 'entanto', '', 'avanços', 'reais', 'lentos', 'previsto', '', 'após', 'relatório', 'ALPAC', '', '', 'constatou', 'pesquisa', 'dez', 'anos', 'conseguiu', 'satisfazer', 'expectativas', '', 'financiamento', 'estudo', 'tradução', 'automática', 'reduzido', 'drasticamente', '', 'Poucas', 'pesquisas', 'tradução', 'automática', 'conduzidas', 'final', 'anos', '', '', 'primeiros', 'sistemas', 'estatísticos', 'tradução', 'desenvolvidos', '', 'Alguns', 'sistemas', 'PLN', 'bem', 'sucedidos', 'desenvolvidos', 'anos', '', 'SHRDLU', '', 'sistema', 'língua', 'natural', 'trabalhava', '', 'blocks', 'worlds', '', 'vocabulário', 'restrito', 'ELIZA', '', 'simulação', 'psicoterapeuta', 'escrita', 'Joseph', 'Weizenbaum', '', '', '', 'Usando', 'pouca', 'informação', 'sobre', 'pensamento', 'emoção', 'humana', '', 'ELIZA', 'criava', '', 'alguns', 'casos', '', 'interações', 'surpreendentemente', 'humanas', '', 'Quando', '', 'paciente', '', 'excedia', 'base', 'conhecimento', 'programa', '', 'ELIZA', 'fornecia', 'resposta', 'genérica', '', 'exemplo', '', 'respondendo', '', 'Minha', 'cabeça', 'dói', '', '', 'Por', 'diz', 'cabeça', 'dói', '', '', '', 'Durante', 'década', '', '', 'muitos', 'programadores', 'começaram', 'escrever', '', 'ontologias', 'conceituais', '', '', 'estruturaram', 'informação', 'mundo', 'real', 'dados', 'compreensíveis', 'computadores', '', 'Exemplos', 'MARGIE', '', 'SCHANK', '', '', '', '', 'SAM', '', 'CULLINGFORD', '', '', '', '', 'PAM', '', 'WILENSKY', '', '', '', '', 'TaleSpin', '', 'MEEHAN', '', '', '', '', 'QUALM', '', 'LEHNERT', '', '', '', '', 'Politics', '', 'CARBONELL', '', '', '', 'Plot', 'Units', '', 'LEHNERT', '', '', '', '', 'Neste', 'período', '', 'muitos', 'chatterbots', 'escritos', '', 'PARRY', '', 'Racter', 'Jabberwacky', '', 'Até', 'década', '', '', 'maioria', 'sistemas', 'PLN', 'baseava', 'conjuntos', 'complexos', 'regras', 'manuscritas', '', 'A', 'partir', 'final', 'anos', '', '', 'entanto', '', 'revolução', 'PLN', 'introdução', 'algoritmos', 'aprendizagem', 'automática', '', 'aprendizado', 'máquina', '', 'processamento', 'linguagem', '', 'Isto', 'devido', 'tanto', 'aumento', 'constante', 'poder', 'computacional', '', 'ver', 'Lei', 'Moore', '', 'quanto', 'diminuição', 'gradual', 'dominância', 'teorias', 'linguística', 'chomskyanas', '', 'gramática', 'gerativa', '', '', 'cujos', 'fundamentos', 'teóricos', 'desestimularam', 'tipo', 'corpus', 'linguístico', 'subjacente', 'abordagem', 'aprendizagem', 'automática', 'processamento', 'linguagem', '', 'Alguns', 'algoritmos', 'aprendizado', 'máquinas', 'antigos', '', 'árvores', 'decisão', '', 'produziam', 'sistemas', 'regras', 'rígidas', 'então', 'semelhantes', 'regras', 'existentes', 'escritas', 'mão', '', 'No', 'entanto', '', 'marcação', 'partes', 'fala', '', 'partofspeech', 'tagging', '', 'introduziu', 'uso', 'modelos', 'ocultos', 'Markov', 'PLN', '', 'cada', 'vez', '', 'pesquisa', 'concentrava', 'modelos', 'estatísticos', '', 'tomam', 'decisões', 'suaves', 'probabilísticas', 'baseadas', 'atribuição', 'pesos', 'reais', 'recursos', 'compõem', 'dados', 'entrada', '', 'Os', 'modelos', 'linguagem', 'cache', '', 'sobre', 'quais', 'muitos', 'sistemas', 'reconhecimento', 'fala', 'agora', 'dependem', '', 'exemplos', 'tais', 'modelos', 'estatísticos', '', 'Esses', 'modelos', 'geralmente', 'robustos', 'dados', 'informações', 'desconhecidas', '', 'especialmente', 'entrada', 'contém', 'erros', '', 'comum', 'dados', 'mundo', 'real', '', 'produzem', 'resultados', 'confiáveis', 'integrados', 'sistemas', 'maiores', 'compreendem', 'múltiplas', 'tarefas', '', 'Muitos', 'sucessos', 'iniciais', 'notáveis', 'ocorreram', 'campo', 'tradução', 'automática', '', 'devido', 'especialmente', 'trabalho', 'pesquisa', 'IBM', '', 'desenvolveu', 'modelos', 'estatísticos', 'elaborados', '', 'Estes', 'sistemas', 'capazes', 'tirar', 'proveito', 'corpora', 'textuais', 'multilíngues', 'existentes', 'produzidos', 'Parlamento', 'Canadá', 'União', 'Europeia', 'resultado', 'leis', 'exigem', 'tradução', 'todos', 'processos', 'governamentais', 'todas', 'línguas', 'oficiais', 'países', '', 'No', 'entanto', '', 'maioria', 'sistemas', 'dependia', 'corpora', 'desenvolvido', 'especificamente', 'tarefas', 'implementadas', 'sistemas', '', '', 'muitas', 'vezes', 'continua', 'sendo', '', 'grande', 'limitação', 'sucesso', '', 'Como', 'resultado', '', 'grande', 'quantidade', 'pesquisa', 'passou', 'quantidades', 'dados', 'limitadas', 'métodos', 'aprendizagem', 'eficazes', '', 'Pesquisas', 'recentes', 'têm', 'concentrado', 'cada', 'vez', 'algoritmos', 'aprendizagem', 'semisupervisionados', 'supervisão', '', 'Esses', 'algoritmos', 'capazes', 'aprender', 'dados', 'anotados', 'manualmente', 'respostas', 'desejadas', 'usando', 'combinação', 'dados', 'anotados', 'anotados', '', 'Geralmente', '', 'tarefa', 'trabalhosa', 'aprendizagem', 'supervisionada', 'normalmente', 'produz', 'resultados', 'menos', 'precisos', 'quantidade', 'específica', 'dados', 'entrada', '', 'No', 'entanto', '', 'enorme', 'quantidade', 'dados', 'anotados', 'disponíveis', '', 'incluindo', '', 'outras', 'coisas', '', 'todo', 'conteúdo', 'World', 'Wide', 'Web', '', '', 'muitas', 'vezes', 'pode', 'compensar', 'resultados', 'inferiores', '', '', 'Usando', 'aprendizagem', 'automática', '', 'aprendizado', 'máquina', '', '', 'Os', 'algoritmos', 'modernos', 'PLN', 'baseiamse', 'aprendizagem', 'mecânica', '', 'especialmente', 'aprendizagem', 'máquinas', 'estatísticas', '', 'O', 'paradigma', 'aprendizagem', 'mecânica', 'diferente', 'maioria', 'tentativas', 'anteriores', 'processamento', 'linguagem', '', 'Anteriormente', '', 'implementações', 'tarefas', 'processamento', 'linguagem', 'envolviam', 'codificação', 'direta', 'grandes', 'conjuntos', 'regras', '', 'O', 'paradigma', 'aprendizagem', 'automática', '', 'aprendizagem', 'automática', '', 'induz', 'aprendizagem', 'automática', 'regras', 'através', 'análises', 'corpora', 'exemplos', 'típicos', 'mundo', 'real', 'invés', 'usar', 'algoritmos', 'gerais', 'aprendizagem', '', 'muitas', 'vezes', '', 'embora', 'sempre', '', 'baseados', 'inferência', 'estatística', '', '', 'Um', 'corpus', '', 'plural', '', 'corpora', '', '', 'conjunto', 'documentos', '', 'frases', 'individuais', '', 'anotados', 'mão', 'valores', 'corretos', 'serem', 'aprendidos', '', 'Muitas', 'classes', 'diferentes', 'algoritmos', 'aprendizado', 'máquina', 'aplicadas', 'tarefas', 'PLN', '', 'Esses', 'algoritmos', 'tomam', 'entrada', 'grande', 'conjunto', '', 'recursos', '', 'gerados', 'partir', 'dados', 'entrada', '', 'Alguns', 'algoritmos', 'usados', '', 'árvores', 'decisão', '', 'produziam', 'sistemas', 'regras', 'rígidas', 'semelhantes', 'sistemas', 'regras', 'manuscritas', 'comuns', '', 'No', 'entanto', '', 'cada', 'vez', '', 'pesquisa', 'concentrado', 'modelos', 'estatísticos', '', 'tomam', 'decisões', 'flexíveis', 'probabilísticas', 'baseadas', 'agregar', 'pesos', 'reais', 'cada', 'característica', 'entrada', '', 'Tais', 'modelos', 'têm', 'vantagem', 'poder', 'expressar', 'certeza', 'relativa', 'muitas', 'respostas', 'possíveis', 'diferentes', 'vez', 'apenas', '', 'produzindo', 'resultados', 'confiáveis', 'modelo', 'incluído', 'componente', 'sistema', 'maior', '', 'Os', 'sistemas', 'baseados', 'algoritmos', 'aprendizagem', 'mecânica', 'têm', 'muitas', 'vantagens', 'relação', 'regras', 'produzidas', 'manualmente', '', 'Os', 'procedimentos', 'aprendizagem', 'usados', 'durante', 'aprendizagem', 'máquina', 'focamse', 'automaticamente', 'casos', 'comuns', '', 'passo', 'escrevem', 'regras', 'mão', '', 'óbvio', 'sentido', 'esforço', 'deve', 'ser', 'dirigido', '', 'Os', 'procedimentos', 'aprendizagem', 'automática', 'podem', 'fazer', 'uso', 'algoritmos', 'inferência', 'estatística', 'produzir', 'modelos', 'robustos', 'entradas', 'familiares', '', 'exemplo', '', 'contendo', 'palavras', 'estruturas', 'vistas', 'antes', '', 'entradas', 'errôneas', '', 'exemplo', '', 'palavras', 'palavras', 'incorretamente', 'omitidas', '', '', 'Geralmente', '', 'lidar', 'entradas', 'forma', 'regras', 'manuscritas', 'sistemas', 'regras', 'manuscritas', 'tomam', 'decisões', 'suaves', 'extremamente', 'trabalhoso', '', 'propenso', 'erros', 'demorado', '', 'Sistemas', 'baseados', 'aprender', 'automaticamente', 'regras', 'podem', 'ser', 'precisos', 'simplesmente', 'fornecendo', 'dados', 'entrada', '', 'No', 'entanto', '', 'sistemas', 'baseados', 'regras', 'escritas', 'mão', 'podem', 'ser', 'tornados', 'precisos', 'aumentando', 'complexidade', 'regras', '', 'tarefa', 'difícil', '', 'Em', 'particular', '', 'limite', 'complexidade', 'sistemas', 'baseados', 'regras', 'artesanais', '', 'além', 'quais', 'sistemas', 'tornam', 'cada', 'vez', 'incontroláveis', '', 'No', 'entanto', '', 'criação', 'dados', 'entrada', 'sistemas', 'aprendizado', 'máquina', 'requer', 'simplesmente', 'aumento', 'correspondente', 'número', 'horas', 'trabalhadas', 'humanos', '', 'geralmente', 'aumentos', 'significativos', 'complexidade', 'processo', 'anotaçãoO', 'subcampo', 'PLN', 'dedicado', 'abordagens', 'aprendizagem', 'conhecido', 'aprendizagem', 'língua', 'natural', '', 'NLL', '', 'conferência', '', 'CoNLL', '', 'orgão', 'central', '', 'SIGNLL', '', 'patrocinados', 'ACL', '', 'reconhecendo', 'ligações', 'linguística', 'computacional', 'aquisição', 'linguagem', '', 'Quando', 'objetivo', 'pesquisa', 'aprendizagem', 'linguagem', 'computacional', 'entender', 'sobre', 'aquisição', 'linguagem', 'humana', '', 'psicolinguística', '', 'NLL', 'sobrepõese', 'campo', 'relacionado', 'psicolinguística', 'computacional', '', '', 'Aplicações', 'principais', '', 'A', 'listagem', 'seguir', 'traz', 'alguns', 'trabalhos', 'pesquisadas', 'PLN', '', 'Note', 'alguns', 'têm', 'aplicações', 'mundo', 'real', '', 'enquanto', 'outras', 'servem', 'frequentemente', 'tarefas', 'secundárias', 'usadas', 'auxiliar', 'resolução', 'tarefas', 'maiores', '', 'O', 'distingue', 'tarefas', 'outras', 'tarefas', 'potenciais', 'reais', 'PLN', 'apenas', 'volume', 'pesquisa', 'dedicado', '', 'fato', 'cada', 'tipicamente', 'definição', 'problema', 'bem', 'especificada', '', 'métrica', 'padrão', 'avaliar', 'tarefa', '', 'corpora', 'padrão', 'tarefa', 'pode', 'ser', 'avaliada', 'competições', 'dedicadas', 'tarefa', 'específica', '', 'Sumarização', 'automática', 'Produz', 'resumo', 'legível', 'parte', 'texto', '', 'Muitas', 'vezes', 'usado', 'fornecer', 'resumos', 'texto', 'tipo', 'conhecido', '', 'artigos', 'seção', 'financeira', 'jornalResolução', 'correferência', 'Dada', 'frase', 'pedaço', 'maior', 'texto', '', 'determina', 'quais', 'palavras', '', '', 'menções', '', '', 'referem', 'mesmos', 'objetos', '', '', 'entidades', '', '', '', 'A', 'resolução', 'anáfora', 'exemplo', 'específico', 'dessa', 'tarefa', 'especificamente', 'preocupada', 'combinar', 'pronomes', 'substantivos', 'nomes', 'quais', 'referem', '', 'A', 'tarefa', 'geral', 'resolução', 'correferência', 'inclui', 'identificação', 'chamados', '', 'relacionamentos', 'ponte', '', 'envolvendo', 'expressões', 'referência', '', 'Por', 'exemplo', '', 'frase', '', 'Ele', 'entrou', 'casa', 'João', 'porta', 'frente', '', '', '', 'porta', 'frente', '', 'expressão', 'referência', 'relação', 'ponte', 'ser', 'identificada', 'fato', 'porta', 'ser', 'referida', 'porta', 'frente', 'John', 's', '', 'invés', 'alguma', 'outra', 'estrutura', 'pode', 'ser', 'referida', '', 'Análise', 'Discurso', 'Esta', 'rubrica', 'inclui', 'série', 'tarefas', 'relacionadas', '', 'Uma', 'tarefa', 'identificar', 'estrutura', 'discursiva', 'texto', 'conectado', '', '', 'natureza', 'relações', 'discursivas', 'sentenças', '', 'exemplo', '', 'elaboração', '', 'explicação', '', 'contraste', '', '', 'Outra', 'possível', 'tarefa', 'reconhecer', 'classificar', 'atos', 'fala', 'pedaço', 'texto', '', 'exemplo', '', 'pergunta', 'simnão', '', 'pergunta', 'conteúdo', '', 'frase', '', 'afirmação', '', 'etc', '', 'Maquina', 'tradução', 'Traduzir', 'automaticamente', 'texto', 'linguagem', 'humana', 'outra', '', 'Este', 'tarefas', 'difíceis', 'faz', 'parte', 'tipo', 'problemas', 'conhecidos', '', 'AIcomplete', '', '', '', 'exigindo', 'todos', 'diferentes', 'tipos', 'conhecimento', 'humanos', 'possuem', '', 'gramática', '', 'semântica', '', 'fatos', 'sobre', 'mundo', 'real', '', 'etc', '', 'resolvêlo', 'adequadamenteSegmentação', 'morfológica', 'Separa', 'palavras', 'morfemas', 'individuais', 'identifica', 'classes', 'morfemas', '', 'A', 'dificuldade', 'desta', 'tarefa', 'depende', 'complexidade', 'morfologia', '', '', 'estrutura', 'palavras', '', 'linguagem', 'sendo', 'considerada', '', 'O', 'inglês', 'possui', 'morfologia', 'bastante', 'simples', '', 'especialmente', 'morfologia', 'flexional', '', 'portanto', 'possível', 'ignorar', 'tarefa', 'inteiramente', 'simplesmente', 'modelar', 'todas', 'formas', 'possíveis', 'palavra', '', 'exemplo', '', '', 'open', '', 'opens', '', 'opened', '', 'opening', '', '', 'palavras', 'separadas', '', 'Em', 'línguas', 'turco', 'Meitei', '', 'língua', 'indiana', 'fortemente', 'aglutinada', '', 'entanto', '', 'tal', 'abordagem', 'possível', '', 'vez', 'cada', 'entrada', 'dicionário', 'milhares', 'formas', 'palavras', 'possíveisReconhecimento', 'entidade', 'nomeada', '', 'NER', '', 'Dado', 'fluxo', 'texto', '', 'determina', 'quais', 'itens', 'mapa', 'texto', 'nomes', 'próprios', '', 'pessoas', 'locais', 'tipo', 'cada', 'nome', '', 'exemplo', '', 'pessoa', '', 'local', '', 'organização', '', '', 'Embora', 'capitalização', 'possa', 'ajudar', 'reconhecer', 'entidades', 'nomeadas', 'idiomas', 'inglês', '', 'informações', 'podem', 'ajudar', 'determinar', 'tipo', 'entidade', 'nomeada', '', 'alguns', 'casos', '', 'sãos', 'imprecisas', 'insuficientes', '', 'Por', 'exemplo', '', 'primeira', 'palavra', 'frase', 'capitalizada', 'entidades', 'nomeadas', 'muitas', 'vezes', 'abrangem', 'várias', 'palavras', '', 'apenas', 'algumas', 'capitalizadas', '', 'Além', 'disso', '', 'muitas', 'outras', 'linguagens', 'scripts', 'nãoocidentais', '', 'exemplo', '', 'chinês', 'árabe', '', 'têm', 'nenhuma', 'capitalização', 'línguas', 'maiúsculas', 'podem', 'distinguir', 'nomes', '', 'Por', 'exemplo', '', 'alemão', 'capitaliza', 'todos', 'substantivos', '', 'independentemente', 'referirem', 'nomes', '', 'francês', 'espanhol', 'capitalizam', 'nomes', 'servem', 'adjetivosGeração', 'língua', 'natural', 'Converte', 'informações', 'bancos', 'dados', 'computador', 'intenções', 'semânticas', 'linguagem', 'humana', 'legívelCompreensão', 'língua', 'natural', 'Converte', 'pedaços', 'texto', 'representações', 'formais', '', 'estruturas', 'lógica', 'primeira', 'ordem', '', 'fáceis', 'manipular', 'programas', 'computador', '', 'A', 'compreensão', 'língua', 'natural', 'envolve', 'identificação', 'semântica', 'pretendida', 'partir', 'múltipla', 'semântica', 'possível', 'pode', 'ser', 'derivada', 'expressão', 'língua', 'natural', 'geralmente', 'toma', 'forma', 'notação', 'organizada', 'conceitos', 'linguagens', 'naturais', '', 'Entretanto', '', 'introdução', 'criação', 'linguagem', 'metamodelo', 'ontologia', 'eficientes', 'soluções', 'empíricas', '', 'Uma', 'formalização', 'explícita', 'semântica', 'línguas', 'naturais', 'confusões', 'suposições', 'implícitas', 'closedworld', 'assumption', '', 'CWA', '', 'versus', 'openworld', 'assumption', 'subjetiva', 'Sim', '', 'Não', 'versus', 'objetivo', 'Verdadeiro', '', 'Falso', 'esperada', 'construção', 'base', 'formalização', 'semânticaReconhecimento', 'óptico', 'caracteres', '', 'OCR', '', 'Dada', 'imagem', 'representa', 'texto', 'impresso', '', 'determina', 'texto', 'correspondenteMarcação', 'classe', 'gramatical', 'Dada', 'sentença', '', 'determina', 'classe', 'gramatical', 'cada', 'palavra', '', 'Muitas', 'palavras', '', 'especialmente', 'comuns', '', 'podem', 'servir', 'múltiplas', 'partes', 'discurso', '', 'Em', 'inglês', '', 'exemplo', '', '', 'book', '', 'pode', 'ser', 'substantivo', '', '', 'the', 'book', 'on', 'the', 'table', '', '', 'verbo', '', '', 'book', 'flight', '', '', '', '', 'Set', '', 'pode', 'ser', 'substantivo', '', 'verbo', 'adjetivo', '', 'E', '', 'out', '', 'pode', 'ser', 'qualquer', 'menos', 'cinco', 'diferentes', 'partes', 'fala', '', 'Algumas', 'línguas', 'têm', 'ambiguidade', 'outras', '', 'As', 'línguas', 'pouca', 'morfologia', 'flexional', '', 'inglês', '', 'particularmente', 'propensas', 'tal', 'ambiguidade', '', 'O', 'chinês', 'propenso', 'tal', 'ambiguidade', 'porque', 'língua', 'tonal', 'durante', 'verbalização', '', 'Tal', 'inflexão', 'facilmente', 'transmitida', 'através', 'entidades', 'empregadas', 'dentro', 'ortografia', 'transmitir', 'significado', 'pretendidoAnálise', 'sintática', '', 'Parsing', '', 'Determina', 'árvore', 'análise', '', 'análise', 'gramatical', '', 'frase', '', 'A', 'gramática', 'linguagens', 'naturais', 'ambígua', 'frases', 'típicas', 'têm', 'múltiplas', 'análises', 'possíveis', '', 'Na', 'verdade', '', 'surpreendentemente', '', 'frase', 'típica', 'pode', 'haver', 'milhares', 'análises', 'potencial', '', 'maioria', 'quais', 'parecerá', 'completamente', 'absurda', 'ser', 'humano', '', 'Respostas', 'perguntas', 'Dada', 'questão', 'linguagem', 'humana', '', 'determina', 'resposta', '', 'As', 'perguntas', 'típicas', 'têm', 'resposta', 'correta', 'específica', '', '', 'Qual', 'capital', 'Canadá', '', '', '', '', 'vezes', 'perguntas', 'abertas', 'consideradas', '', '', 'Qual', 'significado', 'vida', '', '', '', '', 'Trabalhos', 'recentes', 'têm', 'analisado', 'questões', 'ainda', 'complexasExtração', 'relacionamento', 'Identifica', 'relações', 'entidades', 'nomeadas', '', 'exemplo', '', 'casado', '', 'base', 'textosQuebra', 'frases', '', 'sentence', 'boundary', 'disambiguation', '', 'Encontra', 'limites', 'frase', 'pedaço', 'texto', '', 'Os', 'limites', 'frases', 'normalmente', 'marcadas', 'pontos', 'outros', 'sinais', 'pontuação', '', 'mesmos', 'caracteres', 'podem', 'servir', 'outros', 'propósitosAnálise', 'subjetividade', '', 'sentiment', 'analysis', 'opinion', 'mining', '', 'Extrai', 'informações', 'subjetivas', 'geralmente', 'conjunto', 'documentos', '', 'muitas', 'vezes', 'usando', 'revisões', 'online', 'determinar', '', 'polaridade', '', 'sobre', 'objetos', 'específicos', '', 'É', 'especialmente', 'útil', 'identificar', 'tendências', 'opinião', 'pública', 'mídias', 'sociais', '', 'fins', 'marketingReconhecimento', 'fala', 'Dado', 'clipe', 'som', 'pessoa', 'pessoas', 'falando', '', 'determina', 'representação', 'textual', 'discurso', '', 'É', 'oposto', 'síntese', 'fala', 'áreas', 'difíceis', '', 'conhecida', '', 'AIcomplete', '', '', 'Na', 'fala', 'natural', 'quase', 'pausas', 'palavras', 'sucessivas', '', 'segmentação', 'fala', 'subtarefa', 'necessária', 'reconhecimento', 'fala', '', 'Notase', '', 'maioria', 'linguagens', 'faladas', '', 'sons', 'representam', 'letras', 'sucessivas', 'misturam', 'si', 'processo', 'denominado', 'coarticulação', '', 'modo', 'conversão', 'sinal', 'analógico', 'caracteres', 'discretos', 'pode', 'ser', 'processo', 'difícil', 'ser', 'realizadoSegmentação', 'fala', 'Dado', 'clipe', 'som', 'pessoa', 'pessoas', 'falando', '', 'separao', 'palavras', '', 'Uma', 'subaplicação', 'reconhecimento', 'fala', 'normalmente', 'agrupada', 'eleAnálise', 'morfológica', 'reconhecimento', 'tópicos', 'Dado', 'pedaço', 'texto', '', 'separao', 'segmentos', 'cada', 'quais', 'dedicado', 'tópico', 'identifica', 'tópico', 'segmentoAnálise', 'morfológica', 'segmentação', 'palavras', 'Separa', 'pedaço', 'texto', 'contínuo', 'palavras', 'separadas', '', 'Para', 'língua', 'inglês', '', 'bastante', 'trivial', '', 'vez', 'palavras', 'normalmente', 'separadas', 'espaços', '', 'No', 'entanto', '', 'algumas', 'línguas', 'escritas', 'chinês', '', 'japonês', 'tailandês', 'marcam', 'limites', 'palavras', 'tal', 'forma', '', 'nessas', 'línguas', 'segmentação', 'texto', 'tarefa', 'significativa', 'requer', 'conhecimento', 'vocabulário', 'morfologia', 'palavras', 'línguaDesambiguação', 'Muitas', 'palavras', 'têm', 'significado', '', 'assim', 'selecionar', 'significado', 'faz', 'sentido', 'contexto', '', 'Para', 'problema', '', 'geral', 'dada', 'lista', 'palavras', 'sentidos', 'palavras', 'associadas', 'dicionário', 'recurso', 'online', '', 'WordNet', '', 'Em', 'alguns', 'casos', '', 'conjuntos', 'tarefas', 'relacionadas', 'agrupados', 'subcampos', 'PLN', 'frequentemente', 'considerados', 'separadamente', 'PLN', 'todo', '', 'exemplos', 'seguir', '', 'Recuperação', 'informação', '', 'IR', '', 'Tratase', 'armazenar', '', 'pesquisar', 'recuperar', 'informações', '', 'É', 'campo', 'separado', 'dentro', 'ciência', 'computação', '', 'perto', 'bancos', 'dados', '', '', 'IR', 'baseia', 'alguns', 'métodos', 'PLN', '', 'exemplo', '', 'stemming', '', '', 'Algumas', 'pesquisas', 'aplicações', 'atuais', 'procuram', 'preencher', 'lacuna', 'IR', 'PLNExtração', 'informação', '', 'IE', '', 'Tratase', '', 'geral', '', 'extração', 'informação', 'semântica', 'partir', 'texto', '', 'Abrange', 'tarefas', 'reconhecimento', 'entidade', 'mencionada', '', 'resolução', 'correferência', 'relacionamento', 'extração', '', 'etc', '', 'Processamento', 'voz', 'Abrange', 'reconhecimento', 'fala', '', 'síntese', 'fala', 'tarefas', 'relacionadas', '', 'Outras', 'tarefas', 'incluem', '', 'Identificação', 'língua', 'materna', 'Stemização', 'Simplificação', 'texto', 'Síntese', 'fala', 'Revisão', 'texto', 'Pesquisa', 'língua', 'natural', 'Expansão', 'consulta', 'Pontuação', 'ensaio', 'automatizado', 'Truecasing', '', 'Estatística', '', 'Artigo', 'principal', '', 'Gramática', 'estocástica', 'O', 'processamento', 'estatístico', 'língua', 'natural', 'utiliza', 'métodos', 'estocásticos', '', 'probabilísticos', 'estatísticos', 'resolver', 'algumas', 'dificuldades', 'discutidas', 'acima', '', 'especialmente', 'surgem', 'porque', 'frases', 'longas', 'ambíguas', 'processadas', 'gramáticas', 'realistas', '', 'produzindo', 'milhares', 'milhões', 'análises', 'possíveis', '', 'Métodos', 'desambiguação', 'envolvem', 'muitas', 'vezes', 'uso', 'corpora', 'modelos', 'Markov', '', 'O', 'projeto', 'ESPRIT', 'P', '', '', '', '', 'liderado', 'CSELT', '', 'explorou', 'problema', 'reconhecimento', 'fala', 'comparando', 'abordagem', 'baseada', 'conhecimento', 'estatística', '', 'resultado', 'escolhido', 'modelo', 'completamente', 'estatístico', '', 'Um', 'primeiros', 'modelos', 'compreensão', 'estatística', 'língua', 'natural', 'introduzido', '', 'Roberto', 'Pieraccini', '', 'Esther', 'Levin', 'ChinHui', 'Lee', '', 'Bell', 'Laboratories', '', '', 'O', 'PLN', 'compreende', 'todas', 'abordagens', 'quantitativas', 'processamento', 'automatizado', 'linguagem', '', 'incluindo', 'modelagem', 'probabilística', '', 'teoria', 'informação', 'álgebra', 'linear', '', 'A', 'tecnologia', 'PLN', 'estatístico', 'vem', 'principalmente', 'aprendizagem', 'automática', 'mineração', 'dados', '', 'campos', 'inteligência', 'artificial', 'envolvem', 'aprendizado', 'partir', 'dados', '', '', 'Avaliação', '', 'O', 'objetivo', 'avaliação', 'PLN', 'medida', 'qualidades', 'algoritmo', 'sistema', 'fim', 'determinar', 'algoritmo', 'atende', 'metas', 'projetistas', 'sistema', 'atendimento', 'necessidades', 'usuários', '', 'Investigação', 'avaliação', 'PLN', 'ganhado', 'atenção', '', 'porque', 'definição', 'critérios', 'avaliação', 'forma', 'especificar', 'precisamente', 'problemas', 'PLN', '', 'Uma', 'métrica', 'avaliação', 'PLN', 'sistema', 'algorítmico', 'permite', 'integração', 'compreensão', 'linguagem', 'geração', 'linguagem', '', 'Um', 'conjunto', 'preciso', 'critérios', 'avaliação', '', 'pode', 'ser', 'aplicado', 'principalmente', 'avaliações', 'métricas', '', 'podendo', 'permitir', 'várias', 'equipes', 'comparem', 'soluções', 'determinado', 'problema', 'PLN', '', '', 'Cronologia', 'avaliação', '', 'Em', '', '', 'iniciouse', 'Projecto', 'Esprit', 'P', '', 'avaliou', 'Tecnologias', 'Fala', '', 'incluindo', 'tópicos', 'gerais', 'Sintaxe', 'Semântica', '', 'comparando', 'abordagens', 'baseadas', 'regras', 'estatísticas', '', 'Em', '', '', 'primeira', 'campanha', 'avaliação', 'textos', 'escritos', 'parece', 'ser', 'campanha', 'dedicada', 'compreensão', 'mensagem', '', 'Pallet', '', '', '', '', 'O', 'projeto', 'Parseval', '', 'GEIG', 'comparou', 'gramáticas', 'fraseestrutura', '', 'Black', '', '', '', 'Houve', 'série', 'campanhas', 'projeto', 'Tipster', 'sobre', 'tarefas', 'resumo', '', 'tradução', 'pesquisa', '', 'Hirschman', '', '', '', 'Em', '', '', 'Alemanha', '', 'Morpholympics', 'comparou', 'marcadores', 'morfológicos', 'alemães', '', 'As', 'campanhas', 'Senseval', '', 'Romanseval', 'realizadas', 'objetivos', 'desambiguação', 'semântica', '', 'Em', '', '', 'campanha', 'Sparkle', 'comparou', 'analisadores', 'sintáticos', 'quatro', 'idiomas', 'diferentes', '', 'inglês', '', 'francês', '', 'alemão', 'italiano', '', '', 'Na', 'França', '', 'projeto', 'Grace', 'comparou', 'conjunto', '', 'marcadores', 'francês', '', '', 'Adda', '', '', '', 'Em', '', '', 'durante', 'projeto', 'Technolangue', '', 'Easy', '', 'comparados', '', 'analisadores', 'francês', '', 'A', 'avaliação', 'larga', 'escala', 'analisadores', 'dependência', 'realizada', 'contexto', 'tarefas', 'compartilhadas', 'CoNLL', '', '', '', 'Na', 'França', '', 'âmbito', 'projecto', 'ANRPassage', '', 'final', '', '', '', 'comparados', '', 'analisadores', 'francês', '', 'Em', 'Itália', '', 'campanha', 'EVALITA', 'realizada', '', '', '', '', '', '', 'comparar', 'várias', 'ferramentas', 'PLN', 'voz', 'site', 'italiano', '', 'EVALITA', '', '', 'Diferentes', 'tipos', 'avaliação', '', 'Avaliação', 'intrínseca', 'vs', 'extrínseca', 'A', 'avaliação', 'intrínseca', 'considera', 'sistema', 'PNL', 'isolado', 'caracteriza', 'desempenho', 'relação', 'resultado', 'padrãoexcelência', '', 'conforme', 'definido', 'avaliadores', '', 'A', 'avaliação', 'extrínseca', '', 'chamada', 'avaliação', 'uso', '', 'considera', 'sistema', 'PLN', 'cenário', 'complexo', 'sistema', 'embutido', 'função', 'precisa', 'usuário', 'humano', '', 'O', 'desempenho', 'extrínseco', 'sistema', 'então', 'caracterizado', 'termos', 'utilidade', 'relação', 'tarefa', 'global', 'sistema', 'estranho', 'utilizador', 'humano', '', 'Por', 'exemplo', '', 'considere', 'analisador', 'sintático', 'baseado', 'saída', 'alguma', 'parte', 'tagger', 'fala', '', 'POS', '', '', 'Uma', 'avaliação', 'intrínseca', 'executaria', 'marcador', 'POS', 'dados', 'estruturados', 'compararia', 'saída', 'sistema', 'marcador', 'POS', 'saída', 'padrão', 'ouro', '', 'Uma', 'avaliação', 'extrínseca', 'executaria', 'analisador', 'algum', 'outro', 'marcador', 'POS', '', 'seguida', '', 'marcador', 'POS', 'novo', 'compara', 'precisão', 'análise', '', 'Caixa', 'preta', 'vs', 'Avaliação', 'caixa', 'vidro', 'A', 'avaliação', 'caixa', 'preta', 'requer', 'alguém', 'execute', 'sistema', 'PLN', 'conjunto', 'dados', 'amostra', 'medir', 'série', 'parâmetros', 'relacionados', 'qualidade', 'processo', '', 'velocidade', '', 'confiabilidade', '', 'consumo', 'recursos', '', 'principalmente', '', 'qualidade', 'resultado', '', 'precisão', 'anotação', 'dados', 'fidelidade', 'tradução', '', 'A', 'avaliação', 'caixa', 'vidro', 'examina', 'concepção', 'sistema', '', 'Os', 'algoritmos', 'implementados', '', 'recursos', 'linguísticos', 'utiliza', '', 'tamanho', 'vocabulário', 'expressão', 'definida', 'cardinalidade', '', 'Dada', 'complexidade', 'problemas', 'PLN', '', 'muitas', 'vezes', 'difícil', 'prever', 'desempenho', 'apenas', 'base', 'avaliação', 'caixa', 'vidro', '', 'Mas', 'tipo', 'avaliação', 'informativo', 'diz', 'respeito', 'análise', 'erros', 'desenvolvimentos', 'futuros', 'sistema', '', 'Automática', 'vs', 'avaliação', 'manual', 'Em', 'muitos', 'casos', '', 'procedimentos', 'automáticos', 'podem', 'ser', 'definidos', 'avaliar', 'sistema', 'PLN', '', 'comparando', 'saída', 'padrão', 'excelência', '', 'Embora', 'custo', 'reproduzir', 'padrão', 'excelência', 'possa', 'ser', 'bastante', 'elevado', '', 'avaliação', 'automática', 'bootstrapping', 'sobre', 'mesmos', 'dados', 'entrada', 'pode', 'ser', 'repetida', 'quantas', 'vezes', 'necessário', 'custos', 'adicionais', 'desordenados', '', 'No', 'entanto', '', 'muitos', 'problemas', 'PLN', 'definição', 'precisa', 'padrão', 'excelência', 'tarefa', 'complexa', 'pode', 'revelar', 'impossível', 'acordo', 'interanotador', 'insuficiente', '', 'A', 'avaliação', 'manual', 'melhor', 'realizada', 'juízes', 'humanos', 'instruídos', 'estimar', 'qualidade', 'sistema', '', 'frequentemente', 'amostra', 'produção', '', 'base', 'série', 'critérios', '', 'Embora', '', 'graças', 'competência', 'linguística', '', 'juízes', 'humanos', 'possam', 'ser', 'considerados', 'referência', 'série', 'tarefas', 'processamento', 'linguagem', '', 'variação', 'considerável', 'classificações', '', 'É', 'avaliação', 'automática', '', 'vezes', '', 'referida', 'avaliação', 'objetiva', 'enquanto', 'avaliação', 'humana', 'perspectiva', '', '', 'Padronização', '', 'Um', 'subcomitê', 'ISO', 'trabalhando', 'facilitar', 'interoperabilidade', 'recursos', 'lexicais', 'programas', 'PLN', '', 'O', 'subcomitê', 'faz', 'parte', 'ISO', '', 'TC', 'chamado', 'ISO', '', 'TC', '', 'SC', '', 'Alguns', 'padrões', 'ISO', 'publicados', '', 'maioria', 'construção', '', 'principalmente', 'representação', 'léxico', '', 'ver', 'LMF', '', '', 'anotação', 'registro', 'categoria', 'dados', '', '', 'Ferramentas', '', 'Expert', 'System', 'SpA', 'General', 'Architecture', 'Text', 'Engineering', 'Modular', 'Audio', 'Recognition', 'Framework', 'Natural', 'Language', 'Toolkit', '', 'NLTK', '', '', 'biblioteca', 'Python', 'OpenNLP', '', 'Veja', '', 'Mineração', 'texto', 'biomédica', 'Processo', 'processamento', 'composto', 'Revisão', 'assistida', 'computador', 'Linguagem', 'natural', 'controlada', 'Processamento', 'linguístico', 'profundo', 'Auxílio', 'leitura', 'línguas', 'estrangeiras', 'Auxílio', 'escrita', 'língua', 'estrangeira', 'Tecnologia', 'linguagem', 'A', 'alocação', 'Dirichlet', 'Latente', '', 'LDA', '', 'Indexação', 'semântica', 'latente', 'Lista', 'ferramentas', 'processamento', 'língua', 'natural', 'Mapa', 'LRE', 'Programação', 'língua', 'natural', 'Reificação', '', 'linguística', '', 'Dobradura', 'semântica', 'Sistema', 'diálogo', 'falado', 'Vetor', 'Pensamento', 'Pesquisa', 'Transderivacional', 'Wordvec', '', 'Referências', '', '', 'Leitura', 'adicional', '', 'Steven', 'Bird', '', 'Ewan', 'Klein', '', 'and', 'Edward', 'Loper', '', '', '', '', 'Natural', 'Language', 'Processing', 'with', 'Python', '', 'OReilly', 'Media', '', 'ISBN', '', '', 'Daniel', 'Jurafsky', 'and', 'James', 'H', 'Martin', '', '', '', '', 'Speech', 'and', 'Language', 'Processing', '', 'nd', 'edition', '', 'Pearson', 'Prentice', 'Hall', '', 'ISBN', '', '', 'Christopher', 'D', 'Manning', '', 'Prabhakar', 'Raghavan', '', 'and', 'Hinrich', 'Schütze', '', '', '', '', 'Introduction', 'to', 'Information', 'Retrieval', '', 'Cambridge', 'University', 'Press', '', 'ISBN', '', '', 'Official', 'html', 'and', 'pdf', 'versions', 'available', 'without', 'charge', '', 'Christopher', 'D', 'Manning', 'and', 'Hinrich', 'Schütze', '', '', '', '', 'Foundations', 'of', 'Statistical', 'Natural', 'Language', 'Processing', '', 'The', 'MIT', 'Press', '', 'ISBN', '', '', 'David', 'M', 'W', 'Powers', 'and', 'Christopher', 'C', 'R', 'Turk', '', '', '', '', 'Machine', 'Learning', 'of', 'Natural', 'Language', '', 'SpringerVerlag', '', 'ISBN', '', '']\n"
          ],
          "name": "stdout"
        }
      ]
    },
    {
      "cell_type": "code",
      "metadata": {
        "id": "EFw3RfwXE2Wp",
        "colab_type": "code",
        "colab": {
          "base_uri": "https://localhost:8080/",
          "height": 1000
        },
        "outputId": "a90e3c6f-a3ba-4279-a3a7-f09ef0e4a418"
      },
      "source": [
        "sorted(tokens_sem_punction)"
      ],
      "execution_count": null,
      "outputs": [
        {
          "output_type": "execute_result",
          "data": {
            "text/plain": [
              "['',\n",
              " '',\n",
              " '',\n",
              " '',\n",
              " '',\n",
              " '',\n",
              " '',\n",
              " '',\n",
              " '',\n",
              " '',\n",
              " '',\n",
              " '',\n",
              " '',\n",
              " '',\n",
              " '',\n",
              " '',\n",
              " '',\n",
              " '',\n",
              " '',\n",
              " '',\n",
              " '',\n",
              " '',\n",
              " '',\n",
              " '',\n",
              " '',\n",
              " '',\n",
              " '',\n",
              " '',\n",
              " '',\n",
              " '',\n",
              " '',\n",
              " '',\n",
              " '',\n",
              " '',\n",
              " '',\n",
              " '',\n",
              " '',\n",
              " '',\n",
              " '',\n",
              " '',\n",
              " '',\n",
              " '',\n",
              " '',\n",
              " '',\n",
              " '',\n",
              " '',\n",
              " '',\n",
              " '',\n",
              " '',\n",
              " '',\n",
              " '',\n",
              " '',\n",
              " '',\n",
              " '',\n",
              " '',\n",
              " '',\n",
              " '',\n",
              " '',\n",
              " '',\n",
              " '',\n",
              " '',\n",
              " '',\n",
              " '',\n",
              " '',\n",
              " '',\n",
              " '',\n",
              " '',\n",
              " '',\n",
              " '',\n",
              " '',\n",
              " '',\n",
              " '',\n",
              " '',\n",
              " '',\n",
              " '',\n",
              " '',\n",
              " '',\n",
              " '',\n",
              " '',\n",
              " '',\n",
              " '',\n",
              " '',\n",
              " '',\n",
              " '',\n",
              " '',\n",
              " '',\n",
              " '',\n",
              " '',\n",
              " '',\n",
              " '',\n",
              " '',\n",
              " '',\n",
              " '',\n",
              " '',\n",
              " '',\n",
              " '',\n",
              " '',\n",
              " '',\n",
              " '',\n",
              " '',\n",
              " '',\n",
              " '',\n",
              " '',\n",
              " '',\n",
              " '',\n",
              " '',\n",
              " '',\n",
              " '',\n",
              " '',\n",
              " '',\n",
              " '',\n",
              " '',\n",
              " '',\n",
              " '',\n",
              " '',\n",
              " '',\n",
              " '',\n",
              " '',\n",
              " '',\n",
              " '',\n",
              " '',\n",
              " '',\n",
              " '',\n",
              " '',\n",
              " '',\n",
              " '',\n",
              " '',\n",
              " '',\n",
              " '',\n",
              " '',\n",
              " '',\n",
              " '',\n",
              " '',\n",
              " '',\n",
              " '',\n",
              " '',\n",
              " '',\n",
              " '',\n",
              " '',\n",
              " '',\n",
              " '',\n",
              " '',\n",
              " '',\n",
              " '',\n",
              " '',\n",
              " '',\n",
              " '',\n",
              " '',\n",
              " '',\n",
              " '',\n",
              " '',\n",
              " '',\n",
              " '',\n",
              " '',\n",
              " '',\n",
              " '',\n",
              " '',\n",
              " '',\n",
              " '',\n",
              " '',\n",
              " '',\n",
              " '',\n",
              " '',\n",
              " '',\n",
              " '',\n",
              " '',\n",
              " '',\n",
              " '',\n",
              " '',\n",
              " '',\n",
              " '',\n",
              " '',\n",
              " '',\n",
              " '',\n",
              " '',\n",
              " '',\n",
              " '',\n",
              " '',\n",
              " '',\n",
              " '',\n",
              " '',\n",
              " '',\n",
              " '',\n",
              " '',\n",
              " '',\n",
              " '',\n",
              " '',\n",
              " '',\n",
              " '',\n",
              " '',\n",
              " '',\n",
              " '',\n",
              " '',\n",
              " '',\n",
              " '',\n",
              " '',\n",
              " '',\n",
              " '',\n",
              " '',\n",
              " '',\n",
              " '',\n",
              " '',\n",
              " '',\n",
              " '',\n",
              " '',\n",
              " '',\n",
              " '',\n",
              " '',\n",
              " '',\n",
              " '',\n",
              " '',\n",
              " '',\n",
              " '',\n",
              " '',\n",
              " '',\n",
              " '',\n",
              " '',\n",
              " '',\n",
              " '',\n",
              " '',\n",
              " '',\n",
              " '',\n",
              " '',\n",
              " '',\n",
              " '',\n",
              " '',\n",
              " '',\n",
              " '',\n",
              " '',\n",
              " '',\n",
              " '',\n",
              " '',\n",
              " '',\n",
              " '',\n",
              " '',\n",
              " '',\n",
              " '',\n",
              " '',\n",
              " '',\n",
              " '',\n",
              " '',\n",
              " '',\n",
              " '',\n",
              " '',\n",
              " '',\n",
              " '',\n",
              " '',\n",
              " '',\n",
              " '',\n",
              " '',\n",
              " '',\n",
              " '',\n",
              " '',\n",
              " '',\n",
              " '',\n",
              " '',\n",
              " '',\n",
              " '',\n",
              " '',\n",
              " '',\n",
              " '',\n",
              " '',\n",
              " '',\n",
              " '',\n",
              " '',\n",
              " '',\n",
              " '',\n",
              " '',\n",
              " '',\n",
              " '',\n",
              " '',\n",
              " '',\n",
              " '',\n",
              " '',\n",
              " '',\n",
              " '',\n",
              " '',\n",
              " '',\n",
              " '',\n",
              " '',\n",
              " '',\n",
              " '',\n",
              " '',\n",
              " '',\n",
              " '',\n",
              " '',\n",
              " '',\n",
              " '',\n",
              " '',\n",
              " '',\n",
              " '',\n",
              " '',\n",
              " '',\n",
              " '',\n",
              " '',\n",
              " '',\n",
              " '',\n",
              " '',\n",
              " '',\n",
              " '',\n",
              " '',\n",
              " '',\n",
              " '',\n",
              " '',\n",
              " '',\n",
              " '',\n",
              " '',\n",
              " '',\n",
              " '',\n",
              " '',\n",
              " '',\n",
              " '',\n",
              " '',\n",
              " '',\n",
              " '',\n",
              " '',\n",
              " '',\n",
              " '',\n",
              " '',\n",
              " '',\n",
              " '',\n",
              " '',\n",
              " '',\n",
              " '',\n",
              " '',\n",
              " '',\n",
              " '',\n",
              " '',\n",
              " '',\n",
              " '',\n",
              " '',\n",
              " '',\n",
              " '',\n",
              " '',\n",
              " '',\n",
              " '',\n",
              " '',\n",
              " '',\n",
              " '',\n",
              " '',\n",
              " '',\n",
              " '',\n",
              " '',\n",
              " '',\n",
              " '',\n",
              " '',\n",
              " '',\n",
              " '',\n",
              " '',\n",
              " '',\n",
              " '',\n",
              " '',\n",
              " '',\n",
              " '',\n",
              " '',\n",
              " '',\n",
              " '',\n",
              " '',\n",
              " '',\n",
              " '',\n",
              " '',\n",
              " '',\n",
              " '',\n",
              " '',\n",
              " '',\n",
              " '',\n",
              " '',\n",
              " '',\n",
              " '',\n",
              " '',\n",
              " '',\n",
              " '',\n",
              " '',\n",
              " '',\n",
              " '',\n",
              " '',\n",
              " '',\n",
              " '',\n",
              " '',\n",
              " '',\n",
              " '',\n",
              " '',\n",
              " '',\n",
              " '',\n",
              " '',\n",
              " '',\n",
              " '',\n",
              " '',\n",
              " '',\n",
              " '',\n",
              " '',\n",
              " '',\n",
              " '',\n",
              " '',\n",
              " '',\n",
              " '',\n",
              " '',\n",
              " '',\n",
              " '',\n",
              " '',\n",
              " '',\n",
              " '',\n",
              " '',\n",
              " '',\n",
              " '',\n",
              " '',\n",
              " '',\n",
              " '',\n",
              " '',\n",
              " '',\n",
              " '',\n",
              " '',\n",
              " '',\n",
              " '',\n",
              " '',\n",
              " '',\n",
              " '',\n",
              " '',\n",
              " '',\n",
              " '',\n",
              " '',\n",
              " '',\n",
              " '',\n",
              " '',\n",
              " '',\n",
              " '',\n",
              " '',\n",
              " '',\n",
              " '',\n",
              " '',\n",
              " '',\n",
              " '',\n",
              " '',\n",
              " '',\n",
              " '',\n",
              " '',\n",
              " '',\n",
              " '',\n",
              " '',\n",
              " '',\n",
              " '',\n",
              " '',\n",
              " '',\n",
              " '',\n",
              " '',\n",
              " '',\n",
              " '',\n",
              " '',\n",
              " '',\n",
              " '',\n",
              " '',\n",
              " '',\n",
              " '',\n",
              " '',\n",
              " '',\n",
              " '',\n",
              " '',\n",
              " '',\n",
              " '',\n",
              " '',\n",
              " '',\n",
              " '',\n",
              " '',\n",
              " '',\n",
              " '',\n",
              " '',\n",
              " '',\n",
              " '',\n",
              " '',\n",
              " '',\n",
              " '',\n",
              " '',\n",
              " '',\n",
              " '',\n",
              " '',\n",
              " '',\n",
              " '',\n",
              " '',\n",
              " '',\n",
              " '',\n",
              " '',\n",
              " '',\n",
              " '',\n",
              " '',\n",
              " '',\n",
              " '',\n",
              " '',\n",
              " '',\n",
              " '',\n",
              " '',\n",
              " '',\n",
              " '',\n",
              " '',\n",
              " '',\n",
              " '',\n",
              " '',\n",
              " '',\n",
              " '',\n",
              " '',\n",
              " '',\n",
              " '',\n",
              " '',\n",
              " '',\n",
              " '',\n",
              " '',\n",
              " '',\n",
              " '',\n",
              " '',\n",
              " '',\n",
              " '',\n",
              " '',\n",
              " '',\n",
              " '',\n",
              " '',\n",
              " '',\n",
              " '',\n",
              " '',\n",
              " '',\n",
              " '',\n",
              " '',\n",
              " '',\n",
              " '',\n",
              " '',\n",
              " '',\n",
              " '',\n",
              " '',\n",
              " '',\n",
              " '',\n",
              " '',\n",
              " '',\n",
              " '',\n",
              " '',\n",
              " '',\n",
              " '',\n",
              " '',\n",
              " '',\n",
              " '',\n",
              " '',\n",
              " '',\n",
              " '',\n",
              " '',\n",
              " '',\n",
              " '',\n",
              " '',\n",
              " '',\n",
              " '',\n",
              " '',\n",
              " '',\n",
              " '',\n",
              " '',\n",
              " '',\n",
              " '',\n",
              " '',\n",
              " '',\n",
              " '',\n",
              " '',\n",
              " '',\n",
              " '',\n",
              " '',\n",
              " '',\n",
              " '',\n",
              " '',\n",
              " '',\n",
              " '',\n",
              " '',\n",
              " '',\n",
              " '',\n",
              " '',\n",
              " '',\n",
              " '',\n",
              " '',\n",
              " '',\n",
              " '',\n",
              " '',\n",
              " '',\n",
              " '',\n",
              " '',\n",
              " '',\n",
              " '',\n",
              " '',\n",
              " '',\n",
              " '',\n",
              " '',\n",
              " '',\n",
              " '',\n",
              " '',\n",
              " '',\n",
              " '',\n",
              " '',\n",
              " '',\n",
              " '',\n",
              " '',\n",
              " '',\n",
              " '',\n",
              " '',\n",
              " '',\n",
              " '',\n",
              " '',\n",
              " '',\n",
              " '',\n",
              " '',\n",
              " '',\n",
              " '',\n",
              " '',\n",
              " '',\n",
              " '',\n",
              " '',\n",
              " '',\n",
              " '',\n",
              " '',\n",
              " '',\n",
              " '',\n",
              " '',\n",
              " '',\n",
              " '',\n",
              " '',\n",
              " '',\n",
              " '',\n",
              " '',\n",
              " '',\n",
              " '',\n",
              " '',\n",
              " '',\n",
              " '',\n",
              " '',\n",
              " '',\n",
              " '',\n",
              " '',\n",
              " '',\n",
              " '',\n",
              " '',\n",
              " '',\n",
              " '',\n",
              " '',\n",
              " '',\n",
              " '',\n",
              " '',\n",
              " '',\n",
              " '',\n",
              " '',\n",
              " '',\n",
              " '',\n",
              " '',\n",
              " '',\n",
              " '',\n",
              " '',\n",
              " '',\n",
              " '',\n",
              " '',\n",
              " '',\n",
              " '',\n",
              " '',\n",
              " '',\n",
              " '',\n",
              " '',\n",
              " '',\n",
              " '',\n",
              " '',\n",
              " '',\n",
              " '',\n",
              " '',\n",
              " '',\n",
              " '',\n",
              " '',\n",
              " '',\n",
              " '',\n",
              " '',\n",
              " '',\n",
              " '',\n",
              " '',\n",
              " '',\n",
              " '',\n",
              " '',\n",
              " '',\n",
              " '',\n",
              " '',\n",
              " '',\n",
              " '',\n",
              " '',\n",
              " '',\n",
              " '',\n",
              " 'A',\n",
              " 'A',\n",
              " 'A',\n",
              " 'A',\n",
              " 'A',\n",
              " 'A',\n",
              " 'A',\n",
              " 'A',\n",
              " 'A',\n",
              " 'A',\n",
              " 'A',\n",
              " 'A',\n",
              " 'A',\n",
              " 'A',\n",
              " 'A',\n",
              " 'A',\n",
              " 'ACL',\n",
              " 'AIcomplete',\n",
              " 'AIcomplete',\n",
              " 'ALPAC',\n",
              " 'ANRPassage',\n",
              " 'Abrange',\n",
              " 'Abrange',\n",
              " 'Adda',\n",
              " 'Alan',\n",
              " 'Alemanha',\n",
              " 'Algumas',\n",
              " 'Algumas',\n",
              " 'Alguns',\n",
              " 'Alguns',\n",
              " 'Alguns',\n",
              " 'Alguns',\n",
              " 'Alguns',\n",
              " 'Além',\n",
              " 'Anteriormente',\n",
              " 'Análise',\n",
              " 'Aplicações',\n",
              " 'Architecture',\n",
              " 'Artigo',\n",
              " 'As',\n",
              " 'As',\n",
              " 'As',\n",
              " 'Até',\n",
              " 'Audio',\n",
              " 'Automática',\n",
              " 'Auxílio',\n",
              " 'Auxílio',\n",
              " 'Avaliação',\n",
              " 'Avaliação',\n",
              " 'Avaliação',\n",
              " 'Bell',\n",
              " 'Bird',\n",
              " 'Black',\n",
              " 'C',\n",
              " 'CARBONELL',\n",
              " 'CSELT',\n",
              " 'CULLINGFORD',\n",
              " 'CWA',\n",
              " 'Caixa',\n",
              " 'Cambridge',\n",
              " 'Canadá',\n",
              " 'Canadá',\n",
              " 'ChinHui',\n",
              " 'Christopher',\n",
              " 'Christopher',\n",
              " 'Christopher',\n",
              " 'CoNLL',\n",
              " 'CoNLL',\n",
              " 'Como',\n",
              " 'Computing',\n",
              " 'Converte',\n",
              " 'Converte',\n",
              " 'Cronologia',\n",
              " 'D',\n",
              " 'D',\n",
              " 'Dada',\n",
              " 'Dada',\n",
              " 'Dada',\n",
              " 'Dada',\n",
              " 'Dada',\n",
              " 'Dado',\n",
              " 'Dado',\n",
              " 'Dado',\n",
              " 'Dado',\n",
              " 'Daniel',\n",
              " 'David',\n",
              " 'Determina',\n",
              " 'Diferentes',\n",
              " 'Dirichlet',\n",
              " 'Discurso',\n",
              " 'Dobradura',\n",
              " 'Durante',\n",
              " 'E',\n",
              " 'ELIZA',\n",
              " 'ELIZA',\n",
              " 'ELIZA',\n",
              " 'ESPRIT',\n",
              " 'EVALITA',\n",
              " 'EVALITA',\n",
              " 'Easy',\n",
              " 'Edward',\n",
              " 'Ele',\n",
              " 'Em',\n",
              " 'Em',\n",
              " 'Em',\n",
              " 'Em',\n",
              " 'Em',\n",
              " 'Em',\n",
              " 'Em',\n",
              " 'Em',\n",
              " 'Em',\n",
              " 'Em',\n",
              " 'Em',\n",
              " 'Em',\n",
              " 'Embora',\n",
              " 'Embora',\n",
              " 'Embora',\n",
              " 'Encontra',\n",
              " 'Engineering',\n",
              " 'Entretanto',\n",
              " 'Esprit',\n",
              " 'Esses',\n",
              " 'Esses',\n",
              " 'Esses',\n",
              " 'Esta',\n",
              " 'Estatística',\n",
              " 'Este',\n",
              " 'Estes',\n",
              " 'Esther',\n",
              " 'Europeia',\n",
              " 'Ewan',\n",
              " 'Exemplos',\n",
              " 'Expansão',\n",
              " 'Expert',\n",
              " 'Extrai',\n",
              " 'Fala',\n",
              " 'Falso',\n",
              " 'Ferramentas',\n",
              " 'Foundations',\n",
              " 'Framework',\n",
              " 'França',\n",
              " 'França',\n",
              " 'GEIG',\n",
              " 'General',\n",
              " 'Georgetown',\n",
              " 'Geralmente',\n",
              " 'Geralmente',\n",
              " 'Grace',\n",
              " 'Gramática',\n",
              " 'H',\n",
              " 'Hall',\n",
              " 'Hinrich',\n",
              " 'Hinrich',\n",
              " 'Hirschman',\n",
              " 'História',\n",
              " 'Houve',\n",
              " 'IBM',\n",
              " 'IE',\n",
              " 'IR',\n",
              " 'IR',\n",
              " 'IR',\n",
              " 'ISBN',\n",
              " 'ISBN',\n",
              " 'ISBN',\n",
              " 'ISBN',\n",
              " 'ISBN',\n",
              " 'ISO',\n",
              " 'ISO',\n",
              " 'ISO',\n",
              " 'ISO',\n",
              " 'Identifica',\n",
              " 'Identificação',\n",
              " 'Indexação',\n",
              " 'Information',\n",
              " 'Intelligence',\n",
              " 'Introduction',\n",
              " 'Investigação',\n",
              " 'Isto',\n",
              " 'Itália',\n",
              " 'Jabberwacky',\n",
              " 'James',\n",
              " 'John',\n",
              " 'Joseph',\n",
              " 'João',\n",
              " 'Jurafsky',\n",
              " 'Klein',\n",
              " 'LDA',\n",
              " 'LEHNERT',\n",
              " 'LEHNERT',\n",
              " 'LMF',\n",
              " 'LRE',\n",
              " 'Laboratories',\n",
              " 'Language',\n",
              " 'Language',\n",
              " 'Language',\n",
              " 'Language',\n",
              " 'Language',\n",
              " 'Latente',\n",
              " 'Learning',\n",
              " 'Lee',\n",
              " 'Lei',\n",
              " 'Leitura',\n",
              " 'Levin',\n",
              " 'Linguagem',\n",
              " 'Lista',\n",
              " 'Loper',\n",
              " 'M',\n",
              " 'MARGIE',\n",
              " 'MEEHAN',\n",
              " 'MIT',\n",
              " 'Machine',\n",
              " 'Machinery',\n",
              " 'Manning',\n",
              " 'Manning',\n",
              " 'Mapa',\n",
              " 'Maquina',\n",
              " 'Markov',\n",
              " 'Markov',\n",
              " 'Martin',\n",
              " 'Mas',\n",
              " 'Media',\n",
              " 'Meitei',\n",
              " 'Mineração',\n",
              " 'Minha',\n",
              " 'Modular',\n",
              " 'Moore',\n",
              " 'Morpholympics',\n",
              " 'Muitas',\n",
              " 'Muitas',\n",
              " 'Muitas',\n",
              " 'Muitas',\n",
              " 'Muitos',\n",
              " 'Métodos',\n",
              " 'NER',\n",
              " 'NLL',\n",
              " 'NLL',\n",
              " 'NLTK',\n",
              " 'Na',\n",
              " 'Na',\n",
              " 'Na',\n",
              " 'Na',\n",
              " 'Natural',\n",
              " 'Natural',\n",
              " 'Natural',\n",
              " 'Natural',\n",
              " 'Neste',\n",
              " 'No',\n",
              " 'No',\n",
              " 'No',\n",
              " 'No',\n",
              " 'No',\n",
              " 'No',\n",
              " 'No',\n",
              " 'No',\n",
              " 'No',\n",
              " 'Notase',\n",
              " 'Note',\n",
              " 'Não',\n",
              " 'O',\n",
              " 'O',\n",
              " 'O',\n",
              " 'O',\n",
              " 'O',\n",
              " 'O',\n",
              " 'O',\n",
              " 'O',\n",
              " 'O',\n",
              " 'O',\n",
              " 'O',\n",
              " 'O',\n",
              " 'OCR',\n",
              " 'OReilly',\n",
              " 'Official',\n",
              " 'OpenNLP',\n",
              " 'Os',\n",
              " 'Os',\n",
              " 'Os',\n",
              " 'Os',\n",
              " 'Os',\n",
              " 'Os',\n",
              " 'Os',\n",
              " 'Os',\n",
              " 'Outra',\n",
              " 'Outras',\n",
              " 'P',\n",
              " 'P',\n",
              " 'PAM',\n",
              " 'PARRY',\n",
              " 'PLN',\n",
              " 'PLN',\n",
              " 'PLN',\n",
              " 'PLN',\n",
              " 'PLN',\n",
              " 'PLN',\n",
              " 'PLN',\n",
              " 'PLN',\n",
              " 'PLN',\n",
              " 'PLN',\n",
              " 'PLN',\n",
              " 'PLN',\n",
              " 'PLN',\n",
              " 'PLN',\n",
              " 'PLN',\n",
              " 'PLN',\n",
              " 'PLN',\n",
              " 'PLN',\n",
              " 'PLN',\n",
              " 'PLN',\n",
              " 'PLN',\n",
              " 'PLN',\n",
              " 'PLN',\n",
              " 'PLN',\n",
              " 'PLN',\n",
              " 'PLN',\n",
              " 'PLN',\n",
              " 'PLN',\n",
              " 'PLN',\n",
              " 'PLNExtração',\n",
              " 'PNL',\n",
              " ...]"
            ]
          },
          "metadata": {
            "tags": []
          },
          "execution_count": 185
        }
      ]
    },
    {
      "cell_type": "markdown",
      "metadata": {
        "id": "587tz9g-E2Wr",
        "colab_type": "text"
      },
      "source": [
        "## Remoção Acentos\n",
        "\n",
        "remova todos os acentos utilizando a função abaixo:\n",
        "\n",
        "```python\n",
        "unidecode(str)\n",
        "```"
      ]
    },
    {
      "cell_type": "code",
      "metadata": {
        "id": "Yb82BTreE2Ws",
        "colab_type": "code",
        "colab": {}
      },
      "source": [
        "from unidecode import unidecode"
      ],
      "execution_count": null,
      "outputs": []
    },
    {
      "cell_type": "code",
      "metadata": {
        "id": "5cb1oMd1E2Wu",
        "colab_type": "code",
        "colab": {
          "base_uri": "https://localhost:8080/",
          "height": 54
        },
        "outputId": "cf5c5213-a451-4328-a5b6-894e8533949e"
      },
      "source": [
        "tokens_sem_acentos = [ unidecode(w) for w in tokens_sem_punction ]\n",
        "print(tokens_sem_acentos)"
      ],
      "execution_count": null,
      "outputs": [
        {
          "output_type": "stream",
          "text": [
            "['Processamento', 'lingua', 'natural', '', 'PLN', '', 'subarea', 'ciencia', 'computacao', '', 'inteligencia', 'artificial', 'linguistica', 'estuda', 'problemas', 'geracao', 'compreensao', 'automatica', 'linguas', 'humanas', 'naturais', '', 'Sistemas', 'geracao', 'lingua', 'natural', 'convertem', 'informacao', 'bancos', 'dados', 'computadores', 'linguagem', 'compreensivel', 'ser', 'humano', 'sistemas', 'compreensao', 'lingua', 'natural', 'convertem', 'ocorrencias', 'linguagem', 'humana', 'representacoes', 'formais', '', 'facilmente', 'manipulaveis', 'programas', 'computador', '', 'Alguns', 'desafios', 'PLN', 'compreensao', 'lingua', 'natural', '', 'fazer', 'computadores', 'extraiam', 'sentido', 'linguagem', 'humana', 'natural', 'geracao', 'lingua', 'natural', '', '', 'Historia', '', 'A', 'historia', 'PLN', 'comecou', 'decada', '', '', 'Alan', 'Turing', 'publicou', 'artigo', '', 'Computing', 'Machinery', 'and', 'Intelligence', '', '', 'propunha', 'agora', 'chamado', 'teste', 'Turing', 'criterio', 'inteligencia', '', 'Em', '', '', 'experiencia', 'Georgetown', 'envolveu', 'traducao', 'automatica', 'sessenta', 'frases', 'russas', 'ingles', '', 'Os', 'autores', 'afirmaram', 'dentro', 'tres', 'cinco', 'anos', 'traducao', 'automatica', 'problema', 'resolvido', '', 'No', 'entanto', '', 'avancos', 'reais', 'lentos', 'previsto', '', 'apos', 'relatorio', 'ALPAC', '', '', 'constatou', 'pesquisa', 'dez', 'anos', 'conseguiu', 'satisfazer', 'expectativas', '', 'financiamento', 'estudo', 'traducao', 'automatica', 'reduzido', 'drasticamente', '', 'Poucas', 'pesquisas', 'traducao', 'automatica', 'conduzidas', 'final', 'anos', '', '', 'primeiros', 'sistemas', 'estatisticos', 'traducao', 'desenvolvidos', '', 'Alguns', 'sistemas', 'PLN', 'bem', 'sucedidos', 'desenvolvidos', 'anos', '', 'SHRDLU', '', 'sistema', 'lingua', 'natural', 'trabalhava', '', 'blocks', 'worlds', '', 'vocabulario', 'restrito', 'ELIZA', '', 'simulacao', 'psicoterapeuta', 'escrita', 'Joseph', 'Weizenbaum', '', '', '', 'Usando', 'pouca', 'informacao', 'sobre', 'pensamento', 'emocao', 'humana', '', 'ELIZA', 'criava', '', 'alguns', 'casos', '', 'interacoes', 'surpreendentemente', 'humanas', '', 'Quando', '', 'paciente', '', 'excedia', 'base', 'conhecimento', 'programa', '', 'ELIZA', 'fornecia', 'resposta', 'generica', '', 'exemplo', '', 'respondendo', '', 'Minha', 'cabeca', 'doi', '', '', 'Por', 'diz', 'cabeca', 'doi', '', '', '', 'Durante', 'decada', '', '', 'muitos', 'programadores', 'comecaram', 'escrever', '', 'ontologias', 'conceituais', '', '', 'estruturaram', 'informacao', 'mundo', 'real', 'dados', 'compreensiveis', 'computadores', '', 'Exemplos', 'MARGIE', '', 'SCHANK', '', '', '', '', 'SAM', '', 'CULLINGFORD', '', '', '', '', 'PAM', '', 'WILENSKY', '', '', '', '', 'TaleSpin', '', 'MEEHAN', '', '', '', '', 'QUALM', '', 'LEHNERT', '', '', '', '', 'Politics', '', 'CARBONELL', '', '', '', 'Plot', 'Units', '', 'LEHNERT', '', '', '', '', 'Neste', 'periodo', '', 'muitos', 'chatterbots', 'escritos', '', 'PARRY', '', 'Racter', 'Jabberwacky', '', 'Ate', 'decada', '', '', 'maioria', 'sistemas', 'PLN', 'baseava', 'conjuntos', 'complexos', 'regras', 'manuscritas', '', 'A', 'partir', 'final', 'anos', '', '', 'entanto', '', 'revolucao', 'PLN', 'introducao', 'algoritmos', 'aprendizagem', 'automatica', '', 'aprendizado', 'maquina', '', 'processamento', 'linguagem', '', 'Isto', 'devido', 'tanto', 'aumento', 'constante', 'poder', 'computacional', '', 'ver', 'Lei', 'Moore', '', 'quanto', 'diminuicao', 'gradual', 'dominancia', 'teorias', 'linguistica', 'chomskyanas', '', 'gramatica', 'gerativa', '', '', 'cujos', 'fundamentos', 'teoricos', 'desestimularam', 'tipo', 'corpus', 'linguistico', 'subjacente', 'abordagem', 'aprendizagem', 'automatica', 'processamento', 'linguagem', '', 'Alguns', 'algoritmos', 'aprendizado', 'maquinas', 'antigos', '', 'arvores', 'decisao', '', 'produziam', 'sistemas', 'regras', 'rigidas', 'entao', 'semelhantes', 'regras', 'existentes', 'escritas', 'mao', '', 'No', 'entanto', '', 'marcacao', 'partes', 'fala', '', 'partofspeech', 'tagging', '', 'introduziu', 'uso', 'modelos', 'ocultos', 'Markov', 'PLN', '', 'cada', 'vez', '', 'pesquisa', 'concentrava', 'modelos', 'estatisticos', '', 'tomam', 'decisoes', 'suaves', 'probabilisticas', 'baseadas', 'atribuicao', 'pesos', 'reais', 'recursos', 'compoem', 'dados', 'entrada', '', 'Os', 'modelos', 'linguagem', 'cache', '', 'sobre', 'quais', 'muitos', 'sistemas', 'reconhecimento', 'fala', 'agora', 'dependem', '', 'exemplos', 'tais', 'modelos', 'estatisticos', '', 'Esses', 'modelos', 'geralmente', 'robustos', 'dados', 'informacoes', 'desconhecidas', '', 'especialmente', 'entrada', 'contem', 'erros', '', 'comum', 'dados', 'mundo', 'real', '', 'produzem', 'resultados', 'confiaveis', 'integrados', 'sistemas', 'maiores', 'compreendem', 'multiplas', 'tarefas', '', 'Muitos', 'sucessos', 'iniciais', 'notaveis', 'ocorreram', 'campo', 'traducao', 'automatica', '', 'devido', 'especialmente', 'trabalho', 'pesquisa', 'IBM', '', 'desenvolveu', 'modelos', 'estatisticos', 'elaborados', '', 'Estes', 'sistemas', 'capazes', 'tirar', 'proveito', 'corpora', 'textuais', 'multilingues', 'existentes', 'produzidos', 'Parlamento', 'Canada', 'Uniao', 'Europeia', 'resultado', 'leis', 'exigem', 'traducao', 'todos', 'processos', 'governamentais', 'todas', 'linguas', 'oficiais', 'paises', '', 'No', 'entanto', '', 'maioria', 'sistemas', 'dependia', 'corpora', 'desenvolvido', 'especificamente', 'tarefas', 'implementadas', 'sistemas', '', '', 'muitas', 'vezes', 'continua', 'sendo', '', 'grande', 'limitacao', 'sucesso', '', 'Como', 'resultado', '', 'grande', 'quantidade', 'pesquisa', 'passou', 'quantidades', 'dados', 'limitadas', 'metodos', 'aprendizagem', 'eficazes', '', 'Pesquisas', 'recentes', 'tem', 'concentrado', 'cada', 'vez', 'algoritmos', 'aprendizagem', 'semisupervisionados', 'supervisao', '', 'Esses', 'algoritmos', 'capazes', 'aprender', 'dados', 'anotados', 'manualmente', 'respostas', 'desejadas', 'usando', 'combinacao', 'dados', 'anotados', 'anotados', '', 'Geralmente', '', 'tarefa', 'trabalhosa', 'aprendizagem', 'supervisionada', 'normalmente', 'produz', 'resultados', 'menos', 'precisos', 'quantidade', 'especifica', 'dados', 'entrada', '', 'No', 'entanto', '', 'enorme', 'quantidade', 'dados', 'anotados', 'disponiveis', '', 'incluindo', '', 'outras', 'coisas', '', 'todo', 'conteudo', 'World', 'Wide', 'Web', '', '', 'muitas', 'vezes', 'pode', 'compensar', 'resultados', 'inferiores', '', '', 'Usando', 'aprendizagem', 'automatica', '', 'aprendizado', 'maquina', '', '', 'Os', 'algoritmos', 'modernos', 'PLN', 'baseiamse', 'aprendizagem', 'mecanica', '', 'especialmente', 'aprendizagem', 'maquinas', 'estatisticas', '', 'O', 'paradigma', 'aprendizagem', 'mecanica', 'diferente', 'maioria', 'tentativas', 'anteriores', 'processamento', 'linguagem', '', 'Anteriormente', '', 'implementacoes', 'tarefas', 'processamento', 'linguagem', 'envolviam', 'codificacao', 'direta', 'grandes', 'conjuntos', 'regras', '', 'O', 'paradigma', 'aprendizagem', 'automatica', '', 'aprendizagem', 'automatica', '', 'induz', 'aprendizagem', 'automatica', 'regras', 'atraves', 'analises', 'corpora', 'exemplos', 'tipicos', 'mundo', 'real', 'inves', 'usar', 'algoritmos', 'gerais', 'aprendizagem', '', 'muitas', 'vezes', '', 'embora', 'sempre', '', 'baseados', 'inferencia', 'estatistica', '', '', 'Um', 'corpus', '', 'plural', '', 'corpora', '', '', 'conjunto', 'documentos', '', 'frases', 'individuais', '', 'anotados', 'mao', 'valores', 'corretos', 'serem', 'aprendidos', '', 'Muitas', 'classes', 'diferentes', 'algoritmos', 'aprendizado', 'maquina', 'aplicadas', 'tarefas', 'PLN', '', 'Esses', 'algoritmos', 'tomam', 'entrada', 'grande', 'conjunto', '', 'recursos', '', 'gerados', 'partir', 'dados', 'entrada', '', 'Alguns', 'algoritmos', 'usados', '', 'arvores', 'decisao', '', 'produziam', 'sistemas', 'regras', 'rigidas', 'semelhantes', 'sistemas', 'regras', 'manuscritas', 'comuns', '', 'No', 'entanto', '', 'cada', 'vez', '', 'pesquisa', 'concentrado', 'modelos', 'estatisticos', '', 'tomam', 'decisoes', 'flexiveis', 'probabilisticas', 'baseadas', 'agregar', 'pesos', 'reais', 'cada', 'caracteristica', 'entrada', '', 'Tais', 'modelos', 'tem', 'vantagem', 'poder', 'expressar', 'certeza', 'relativa', 'muitas', 'respostas', 'possiveis', 'diferentes', 'vez', 'apenas', '', 'produzindo', 'resultados', 'confiaveis', 'modelo', 'incluido', 'componente', 'sistema', 'maior', '', 'Os', 'sistemas', 'baseados', 'algoritmos', 'aprendizagem', 'mecanica', 'tem', 'muitas', 'vantagens', 'relacao', 'regras', 'produzidas', 'manualmente', '', 'Os', 'procedimentos', 'aprendizagem', 'usados', 'durante', 'aprendizagem', 'maquina', 'focamse', 'automaticamente', 'casos', 'comuns', '', 'passo', 'escrevem', 'regras', 'mao', '', 'obvio', 'sentido', 'esforco', 'deve', 'ser', 'dirigido', '', 'Os', 'procedimentos', 'aprendizagem', 'automatica', 'podem', 'fazer', 'uso', 'algoritmos', 'inferencia', 'estatistica', 'produzir', 'modelos', 'robustos', 'entradas', 'familiares', '', 'exemplo', '', 'contendo', 'palavras', 'estruturas', 'vistas', 'antes', '', 'entradas', 'erroneas', '', 'exemplo', '', 'palavras', 'palavras', 'incorretamente', 'omitidas', '', '', 'Geralmente', '', 'lidar', 'entradas', 'forma', 'regras', 'manuscritas', 'sistemas', 'regras', 'manuscritas', 'tomam', 'decisoes', 'suaves', 'extremamente', 'trabalhoso', '', 'propenso', 'erros', 'demorado', '', 'Sistemas', 'baseados', 'aprender', 'automaticamente', 'regras', 'podem', 'ser', 'precisos', 'simplesmente', 'fornecendo', 'dados', 'entrada', '', 'No', 'entanto', '', 'sistemas', 'baseados', 'regras', 'escritas', 'mao', 'podem', 'ser', 'tornados', 'precisos', 'aumentando', 'complexidade', 'regras', '', 'tarefa', 'dificil', '', 'Em', 'particular', '', 'limite', 'complexidade', 'sistemas', 'baseados', 'regras', 'artesanais', '', 'alem', 'quais', 'sistemas', 'tornam', 'cada', 'vez', 'incontrolaveis', '', 'No', 'entanto', '', 'criacao', 'dados', 'entrada', 'sistemas', 'aprendizado', 'maquina', 'requer', 'simplesmente', 'aumento', 'correspondente', 'numero', 'horas', 'trabalhadas', 'humanos', '', 'geralmente', 'aumentos', 'significativos', 'complexidade', 'processo', 'anotacaoO', 'subcampo', 'PLN', 'dedicado', 'abordagens', 'aprendizagem', 'conhecido', 'aprendizagem', 'lingua', 'natural', '', 'NLL', '', 'conferencia', '', 'CoNLL', '', 'orgao', 'central', '', 'SIGNLL', '', 'patrocinados', 'ACL', '', 'reconhecendo', 'ligacoes', 'linguistica', 'computacional', 'aquisicao', 'linguagem', '', 'Quando', 'objetivo', 'pesquisa', 'aprendizagem', 'linguagem', 'computacional', 'entender', 'sobre', 'aquisicao', 'linguagem', 'humana', '', 'psicolinguistica', '', 'NLL', 'sobrepoese', 'campo', 'relacionado', 'psicolinguistica', 'computacional', '', '', 'Aplicacoes', 'principais', '', 'A', 'listagem', 'seguir', 'traz', 'alguns', 'trabalhos', 'pesquisadas', 'PLN', '', 'Note', 'alguns', 'tem', 'aplicacoes', 'mundo', 'real', '', 'enquanto', 'outras', 'servem', 'frequentemente', 'tarefas', 'secundarias', 'usadas', 'auxiliar', 'resolucao', 'tarefas', 'maiores', '', 'O', 'distingue', 'tarefas', 'outras', 'tarefas', 'potenciais', 'reais', 'PLN', 'apenas', 'volume', 'pesquisa', 'dedicado', '', 'fato', 'cada', 'tipicamente', 'definicao', 'problema', 'bem', 'especificada', '', 'metrica', 'padrao', 'avaliar', 'tarefa', '', 'corpora', 'padrao', 'tarefa', 'pode', 'ser', 'avaliada', 'competicoes', 'dedicadas', 'tarefa', 'especifica', '', 'Sumarizacao', 'automatica', 'Produz', 'resumo', 'legivel', 'parte', 'texto', '', 'Muitas', 'vezes', 'usado', 'fornecer', 'resumos', 'texto', 'tipo', 'conhecido', '', 'artigos', 'secao', 'financeira', 'jornalResolucao', 'correferencia', 'Dada', 'frase', 'pedaco', 'maior', 'texto', '', 'determina', 'quais', 'palavras', '', '', 'mencoes', '', '', 'referem', 'mesmos', 'objetos', '', '', 'entidades', '', '', '', 'A', 'resolucao', 'anafora', 'exemplo', 'especifico', 'dessa', 'tarefa', 'especificamente', 'preocupada', 'combinar', 'pronomes', 'substantivos', 'nomes', 'quais', 'referem', '', 'A', 'tarefa', 'geral', 'resolucao', 'correferencia', 'inclui', 'identificacao', 'chamados', '', 'relacionamentos', 'ponte', '', 'envolvendo', 'expressoes', 'referencia', '', 'Por', 'exemplo', '', 'frase', '', 'Ele', 'entrou', 'casa', 'Joao', 'porta', 'frente', '', '', '', 'porta', 'frente', '', 'expressao', 'referencia', 'relacao', 'ponte', 'ser', 'identificada', 'fato', 'porta', 'ser', 'referida', 'porta', 'frente', 'John', 's', '', 'inves', 'alguma', 'outra', 'estrutura', 'pode', 'ser', 'referida', '', 'Analise', 'Discurso', 'Esta', 'rubrica', 'inclui', 'serie', 'tarefas', 'relacionadas', '', 'Uma', 'tarefa', 'identificar', 'estrutura', 'discursiva', 'texto', 'conectado', '', '', 'natureza', 'relacoes', 'discursivas', 'sentencas', '', 'exemplo', '', 'elaboracao', '', 'explicacao', '', 'contraste', '', '', 'Outra', 'possivel', 'tarefa', 'reconhecer', 'classificar', 'atos', 'fala', 'pedaco', 'texto', '', 'exemplo', '', 'pergunta', 'simnao', '', 'pergunta', 'conteudo', '', 'frase', '', 'afirmacao', '', 'etc', '', 'Maquina', 'traducao', 'Traduzir', 'automaticamente', 'texto', 'linguagem', 'humana', 'outra', '', 'Este', 'tarefas', 'dificeis', 'faz', 'parte', 'tipo', 'problemas', 'conhecidos', '', 'AIcomplete', '', '', '', 'exigindo', 'todos', 'diferentes', 'tipos', 'conhecimento', 'humanos', 'possuem', '', 'gramatica', '', 'semantica', '', 'fatos', 'sobre', 'mundo', 'real', '', 'etc', '', 'resolvelo', 'adequadamenteSegmentacao', 'morfologica', 'Separa', 'palavras', 'morfemas', 'individuais', 'identifica', 'classes', 'morfemas', '', 'A', 'dificuldade', 'desta', 'tarefa', 'depende', 'complexidade', 'morfologia', '', '', 'estrutura', 'palavras', '', 'linguagem', 'sendo', 'considerada', '', 'O', 'ingles', 'possui', 'morfologia', 'bastante', 'simples', '', 'especialmente', 'morfologia', 'flexional', '', 'portanto', 'possivel', 'ignorar', 'tarefa', 'inteiramente', 'simplesmente', 'modelar', 'todas', 'formas', 'possiveis', 'palavra', '', 'exemplo', '', '', 'open', '', 'opens', '', 'opened', '', 'opening', '', '', 'palavras', 'separadas', '', 'Em', 'linguas', 'turco', 'Meitei', '', 'lingua', 'indiana', 'fortemente', 'aglutinada', '', 'entanto', '', 'tal', 'abordagem', 'possivel', '', 'vez', 'cada', 'entrada', 'dicionario', 'milhares', 'formas', 'palavras', 'possiveisReconhecimento', 'entidade', 'nomeada', '', 'NER', '', 'Dado', 'fluxo', 'texto', '', 'determina', 'quais', 'itens', 'mapa', 'texto', 'nomes', 'proprios', '', 'pessoas', 'locais', 'tipo', 'cada', 'nome', '', 'exemplo', '', 'pessoa', '', 'local', '', 'organizacao', '', '', 'Embora', 'capitalizacao', 'possa', 'ajudar', 'reconhecer', 'entidades', 'nomeadas', 'idiomas', 'ingles', '', 'informacoes', 'podem', 'ajudar', 'determinar', 'tipo', 'entidade', 'nomeada', '', 'alguns', 'casos', '', 'saos', 'imprecisas', 'insuficientes', '', 'Por', 'exemplo', '', 'primeira', 'palavra', 'frase', 'capitalizada', 'entidades', 'nomeadas', 'muitas', 'vezes', 'abrangem', 'varias', 'palavras', '', 'apenas', 'algumas', 'capitalizadas', '', 'Alem', 'disso', '', 'muitas', 'outras', 'linguagens', 'scripts', 'naoocidentais', '', 'exemplo', '', 'chines', 'arabe', '', 'tem', 'nenhuma', 'capitalizacao', 'linguas', 'maiusculas', 'podem', 'distinguir', 'nomes', '', 'Por', 'exemplo', '', 'alemao', 'capitaliza', 'todos', 'substantivos', '', 'independentemente', 'referirem', 'nomes', '', 'frances', 'espanhol', 'capitalizam', 'nomes', 'servem', 'adjetivosGeracao', 'lingua', 'natural', 'Converte', 'informacoes', 'bancos', 'dados', 'computador', 'intencoes', 'semanticas', 'linguagem', 'humana', 'legivelCompreensao', 'lingua', 'natural', 'Converte', 'pedacos', 'texto', 'representacoes', 'formais', '', 'estruturas', 'logica', 'primeira', 'ordem', '', 'faceis', 'manipular', 'programas', 'computador', '', 'A', 'compreensao', 'lingua', 'natural', 'envolve', 'identificacao', 'semantica', 'pretendida', 'partir', 'multipla', 'semantica', 'possivel', 'pode', 'ser', 'derivada', 'expressao', 'lingua', 'natural', 'geralmente', 'toma', 'forma', 'notacao', 'organizada', 'conceitos', 'linguagens', 'naturais', '', 'Entretanto', '', 'introducao', 'criacao', 'linguagem', 'metamodelo', 'ontologia', 'eficientes', 'solucoes', 'empiricas', '', 'Uma', 'formalizacao', 'explicita', 'semantica', 'linguas', 'naturais', 'confusoes', 'suposicoes', 'implicitas', 'closedworld', 'assumption', '', 'CWA', '', 'versus', 'openworld', 'assumption', 'subjetiva', 'Sim', '', 'Nao', 'versus', 'objetivo', 'Verdadeiro', '', 'Falso', 'esperada', 'construcao', 'base', 'formalizacao', 'semanticaReconhecimento', 'optico', 'caracteres', '', 'OCR', '', 'Dada', 'imagem', 'representa', 'texto', 'impresso', '', 'determina', 'texto', 'correspondenteMarcacao', 'classe', 'gramatical', 'Dada', 'sentenca', '', 'determina', 'classe', 'gramatical', 'cada', 'palavra', '', 'Muitas', 'palavras', '', 'especialmente', 'comuns', '', 'podem', 'servir', 'multiplas', 'partes', 'discurso', '', 'Em', 'ingles', '', 'exemplo', '', '', 'book', '', 'pode', 'ser', 'substantivo', '', '', 'the', 'book', 'on', 'the', 'table', '', '', 'verbo', '', '', 'book', 'flight', '', '', '', '', 'Set', '', 'pode', 'ser', 'substantivo', '', 'verbo', 'adjetivo', '', 'E', '', 'out', '', 'pode', 'ser', 'qualquer', 'menos', 'cinco', 'diferentes', 'partes', 'fala', '', 'Algumas', 'linguas', 'tem', 'ambiguidade', 'outras', '', 'As', 'linguas', 'pouca', 'morfologia', 'flexional', '', 'ingles', '', 'particularmente', 'propensas', 'tal', 'ambiguidade', '', 'O', 'chines', 'propenso', 'tal', 'ambiguidade', 'porque', 'lingua', 'tonal', 'durante', 'verbalizacao', '', 'Tal', 'inflexao', 'facilmente', 'transmitida', 'atraves', 'entidades', 'empregadas', 'dentro', 'ortografia', 'transmitir', 'significado', 'pretendidoAnalise', 'sintatica', '', 'Parsing', '', 'Determina', 'arvore', 'analise', '', 'analise', 'gramatical', '', 'frase', '', 'A', 'gramatica', 'linguagens', 'naturais', 'ambigua', 'frases', 'tipicas', 'tem', 'multiplas', 'analises', 'possiveis', '', 'Na', 'verdade', '', 'surpreendentemente', '', 'frase', 'tipica', 'pode', 'haver', 'milhares', 'analises', 'potencial', '', 'maioria', 'quais', 'parecera', 'completamente', 'absurda', 'ser', 'humano', '', 'Respostas', 'perguntas', 'Dada', 'questao', 'linguagem', 'humana', '', 'determina', 'resposta', '', 'As', 'perguntas', 'tipicas', 'tem', 'resposta', 'correta', 'especifica', '', '', 'Qual', 'capital', 'Canada', '', '', '', '', 'vezes', 'perguntas', 'abertas', 'consideradas', '', '', 'Qual', 'significado', 'vida', '', '', '', '', 'Trabalhos', 'recentes', 'tem', 'analisado', 'questoes', 'ainda', 'complexasExtracao', 'relacionamento', 'Identifica', 'relacoes', 'entidades', 'nomeadas', '', 'exemplo', '', 'casado', '', 'base', 'textosQuebra', 'frases', '', 'sentence', 'boundary', 'disambiguation', '', 'Encontra', 'limites', 'frase', 'pedaco', 'texto', '', 'Os', 'limites', 'frases', 'normalmente', 'marcadas', 'pontos', 'outros', 'sinais', 'pontuacao', '', 'mesmos', 'caracteres', 'podem', 'servir', 'outros', 'propositosAnalise', 'subjetividade', '', 'sentiment', 'analysis', 'opinion', 'mining', '', 'Extrai', 'informacoes', 'subjetivas', 'geralmente', 'conjunto', 'documentos', '', 'muitas', 'vezes', 'usando', 'revisoes', 'online', 'determinar', '', 'polaridade', '', 'sobre', 'objetos', 'especificos', '', 'E', 'especialmente', 'util', 'identificar', 'tendencias', 'opiniao', 'publica', 'midias', 'sociais', '', 'fins', 'marketingReconhecimento', 'fala', 'Dado', 'clipe', 'som', 'pessoa', 'pessoas', 'falando', '', 'determina', 'representacao', 'textual', 'discurso', '', 'E', 'oposto', 'sintese', 'fala', 'areas', 'dificeis', '', 'conhecida', '', 'AIcomplete', '', '', 'Na', 'fala', 'natural', 'quase', 'pausas', 'palavras', 'sucessivas', '', 'segmentacao', 'fala', 'subtarefa', 'necessaria', 'reconhecimento', 'fala', '', 'Notase', '', 'maioria', 'linguagens', 'faladas', '', 'sons', 'representam', 'letras', 'sucessivas', 'misturam', 'si', 'processo', 'denominado', 'coarticulacao', '', 'modo', 'conversao', 'sinal', 'analogico', 'caracteres', 'discretos', 'pode', 'ser', 'processo', 'dificil', 'ser', 'realizadoSegmentacao', 'fala', 'Dado', 'clipe', 'som', 'pessoa', 'pessoas', 'falando', '', 'separao', 'palavras', '', 'Uma', 'subaplicacao', 'reconhecimento', 'fala', 'normalmente', 'agrupada', 'eleAnalise', 'morfologica', 'reconhecimento', 'topicos', 'Dado', 'pedaco', 'texto', '', 'separao', 'segmentos', 'cada', 'quais', 'dedicado', 'topico', 'identifica', 'topico', 'segmentoAnalise', 'morfologica', 'segmentacao', 'palavras', 'Separa', 'pedaco', 'texto', 'continuo', 'palavras', 'separadas', '', 'Para', 'lingua', 'ingles', '', 'bastante', 'trivial', '', 'vez', 'palavras', 'normalmente', 'separadas', 'espacos', '', 'No', 'entanto', '', 'algumas', 'linguas', 'escritas', 'chines', '', 'japones', 'tailandes', 'marcam', 'limites', 'palavras', 'tal', 'forma', '', 'nessas', 'linguas', 'segmentacao', 'texto', 'tarefa', 'significativa', 'requer', 'conhecimento', 'vocabulario', 'morfologia', 'palavras', 'linguaDesambiguacao', 'Muitas', 'palavras', 'tem', 'significado', '', 'assim', 'selecionar', 'significado', 'faz', 'sentido', 'contexto', '', 'Para', 'problema', '', 'geral', 'dada', 'lista', 'palavras', 'sentidos', 'palavras', 'associadas', 'dicionario', 'recurso', 'online', '', 'WordNet', '', 'Em', 'alguns', 'casos', '', 'conjuntos', 'tarefas', 'relacionadas', 'agrupados', 'subcampos', 'PLN', 'frequentemente', 'considerados', 'separadamente', 'PLN', 'todo', '', 'exemplos', 'seguir', '', 'Recuperacao', 'informacao', '', 'IR', '', 'Tratase', 'armazenar', '', 'pesquisar', 'recuperar', 'informacoes', '', 'E', 'campo', 'separado', 'dentro', 'ciencia', 'computacao', '', 'perto', 'bancos', 'dados', '', '', 'IR', 'baseia', 'alguns', 'metodos', 'PLN', '', 'exemplo', '', 'stemming', '', '', 'Algumas', 'pesquisas', 'aplicacoes', 'atuais', 'procuram', 'preencher', 'lacuna', 'IR', 'PLNExtracao', 'informacao', '', 'IE', '', 'Tratase', '', 'geral', '', 'extracao', 'informacao', 'semantica', 'partir', 'texto', '', 'Abrange', 'tarefas', 'reconhecimento', 'entidade', 'mencionada', '', 'resolucao', 'correferencia', 'relacionamento', 'extracao', '', 'etc', '', 'Processamento', 'voz', 'Abrange', 'reconhecimento', 'fala', '', 'sintese', 'fala', 'tarefas', 'relacionadas', '', 'Outras', 'tarefas', 'incluem', '', 'Identificacao', 'lingua', 'materna', 'Stemizacao', 'Simplificacao', 'texto', 'Sintese', 'fala', 'Revisao', 'texto', 'Pesquisa', 'lingua', 'natural', 'Expansao', 'consulta', 'Pontuacao', 'ensaio', 'automatizado', 'Truecasing', '', 'Estatistica', '', 'Artigo', 'principal', '', 'Gramatica', 'estocastica', 'O', 'processamento', 'estatistico', 'lingua', 'natural', 'utiliza', 'metodos', 'estocasticos', '', 'probabilisticos', 'estatisticos', 'resolver', 'algumas', 'dificuldades', 'discutidas', 'acima', '', 'especialmente', 'surgem', 'porque', 'frases', 'longas', 'ambiguas', 'processadas', 'gramaticas', 'realistas', '', 'produzindo', 'milhares', 'milhoes', 'analises', 'possiveis', '', 'Metodos', 'desambiguacao', 'envolvem', 'muitas', 'vezes', 'uso', 'corpora', 'modelos', 'Markov', '', 'O', 'projeto', 'ESPRIT', 'P', '', '', '', '', 'liderado', 'CSELT', '', 'explorou', 'problema', 'reconhecimento', 'fala', 'comparando', 'abordagem', 'baseada', 'conhecimento', 'estatistica', '', 'resultado', 'escolhido', 'modelo', 'completamente', 'estatistico', '', 'Um', 'primeiros', 'modelos', 'compreensao', 'estatistica', 'lingua', 'natural', 'introduzido', '', 'Roberto', 'Pieraccini', '', 'Esther', 'Levin', 'ChinHui', 'Lee', '', 'Bell', 'Laboratories', '', '', 'O', 'PLN', 'compreende', 'todas', 'abordagens', 'quantitativas', 'processamento', 'automatizado', 'linguagem', '', 'incluindo', 'modelagem', 'probabilistica', '', 'teoria', 'informacao', 'algebra', 'linear', '', 'A', 'tecnologia', 'PLN', 'estatistico', 'vem', 'principalmente', 'aprendizagem', 'automatica', 'mineracao', 'dados', '', 'campos', 'inteligencia', 'artificial', 'envolvem', 'aprendizado', 'partir', 'dados', '', '', 'Avaliacao', '', 'O', 'objetivo', 'avaliacao', 'PLN', 'medida', 'qualidades', 'algoritmo', 'sistema', 'fim', 'determinar', 'algoritmo', 'atende', 'metas', 'projetistas', 'sistema', 'atendimento', 'necessidades', 'usuarios', '', 'Investigacao', 'avaliacao', 'PLN', 'ganhado', 'atencao', '', 'porque', 'definicao', 'criterios', 'avaliacao', 'forma', 'especificar', 'precisamente', 'problemas', 'PLN', '', 'Uma', 'metrica', 'avaliacao', 'PLN', 'sistema', 'algoritmico', 'permite', 'integracao', 'compreensao', 'linguagem', 'geracao', 'linguagem', '', 'Um', 'conjunto', 'preciso', 'criterios', 'avaliacao', '', 'pode', 'ser', 'aplicado', 'principalmente', 'avaliacoes', 'metricas', '', 'podendo', 'permitir', 'varias', 'equipes', 'comparem', 'solucoes', 'determinado', 'problema', 'PLN', '', '', 'Cronologia', 'avaliacao', '', 'Em', '', '', 'iniciouse', 'Projecto', 'Esprit', 'P', '', 'avaliou', 'Tecnologias', 'Fala', '', 'incluindo', 'topicos', 'gerais', 'Sintaxe', 'Semantica', '', 'comparando', 'abordagens', 'baseadas', 'regras', 'estatisticas', '', 'Em', '', '', 'primeira', 'campanha', 'avaliacao', 'textos', 'escritos', 'parece', 'ser', 'campanha', 'dedicada', 'compreensao', 'mensagem', '', 'Pallet', '', '', '', '', 'O', 'projeto', 'Parseval', '', 'GEIG', 'comparou', 'gramaticas', 'fraseestrutura', '', 'Black', '', '', '', 'Houve', 'serie', 'campanhas', 'projeto', 'Tipster', 'sobre', 'tarefas', 'resumo', '', 'traducao', 'pesquisa', '', 'Hirschman', '', '', '', 'Em', '', '', 'Alemanha', '', 'Morpholympics', 'comparou', 'marcadores', 'morfologicos', 'alemaes', '', 'As', 'campanhas', 'Senseval', '', 'Romanseval', 'realizadas', 'objetivos', 'desambiguacao', 'semantica', '', 'Em', '', '', 'campanha', 'Sparkle', 'comparou', 'analisadores', 'sintaticos', 'quatro', 'idiomas', 'diferentes', '', 'ingles', '', 'frances', '', 'alemao', 'italiano', '', '', 'Na', 'Franca', '', 'projeto', 'Grace', 'comparou', 'conjunto', '', 'marcadores', 'frances', '', '', 'Adda', '', '', '', 'Em', '', '', 'durante', 'projeto', 'Technolangue', '', 'Easy', '', 'comparados', '', 'analisadores', 'frances', '', 'A', 'avaliacao', 'larga', 'escala', 'analisadores', 'dependencia', 'realizada', 'contexto', 'tarefas', 'compartilhadas', 'CoNLL', '', '', '', 'Na', 'Franca', '', 'ambito', 'projecto', 'ANRPassage', '', 'final', '', '', '', 'comparados', '', 'analisadores', 'frances', '', 'Em', 'Italia', '', 'campanha', 'EVALITA', 'realizada', '', '', '', '', '', '', 'comparar', 'varias', 'ferramentas', 'PLN', 'voz', 'site', 'italiano', '', 'EVALITA', '', '', 'Diferentes', 'tipos', 'avaliacao', '', 'Avaliacao', 'intrinseca', 'vs', 'extrinseca', 'A', 'avaliacao', 'intrinseca', 'considera', 'sistema', 'PNL', 'isolado', 'caracteriza', 'desempenho', 'relacao', 'resultado', 'padraoexcelencia', '', 'conforme', 'definido', 'avaliadores', '', 'A', 'avaliacao', 'extrinseca', '', 'chamada', 'avaliacao', 'uso', '', 'considera', 'sistema', 'PLN', 'cenario', 'complexo', 'sistema', 'embutido', 'funcao', 'precisa', 'usuario', 'humano', '', 'O', 'desempenho', 'extrinseco', 'sistema', 'entao', 'caracterizado', 'termos', 'utilidade', 'relacao', 'tarefa', 'global', 'sistema', 'estranho', 'utilizador', 'humano', '', 'Por', 'exemplo', '', 'considere', 'analisador', 'sintatico', 'baseado', 'saida', 'alguma', 'parte', 'tagger', 'fala', '', 'POS', '', '', 'Uma', 'avaliacao', 'intrinseca', 'executaria', 'marcador', 'POS', 'dados', 'estruturados', 'compararia', 'saida', 'sistema', 'marcador', 'POS', 'saida', 'padrao', 'ouro', '', 'Uma', 'avaliacao', 'extrinseca', 'executaria', 'analisador', 'algum', 'outro', 'marcador', 'POS', '', 'seguida', '', 'marcador', 'POS', 'novo', 'compara', 'precisao', 'analise', '', 'Caixa', 'preta', 'vs', 'Avaliacao', 'caixa', 'vidro', 'A', 'avaliacao', 'caixa', 'preta', 'requer', 'alguem', 'execute', 'sistema', 'PLN', 'conjunto', 'dados', 'amostra', 'medir', 'serie', 'parametros', 'relacionados', 'qualidade', 'processo', '', 'velocidade', '', 'confiabilidade', '', 'consumo', 'recursos', '', 'principalmente', '', 'qualidade', 'resultado', '', 'precisao', 'anotacao', 'dados', 'fidelidade', 'traducao', '', 'A', 'avaliacao', 'caixa', 'vidro', 'examina', 'concepcao', 'sistema', '', 'Os', 'algoritmos', 'implementados', '', 'recursos', 'linguisticos', 'utiliza', '', 'tamanho', 'vocabulario', 'expressao', 'definida', 'cardinalidade', '', 'Dada', 'complexidade', 'problemas', 'PLN', '', 'muitas', 'vezes', 'dificil', 'prever', 'desempenho', 'apenas', 'base', 'avaliacao', 'caixa', 'vidro', '', 'Mas', 'tipo', 'avaliacao', 'informativo', 'diz', 'respeito', 'analise', 'erros', 'desenvolvimentos', 'futuros', 'sistema', '', 'Automatica', 'vs', 'avaliacao', 'manual', 'Em', 'muitos', 'casos', '', 'procedimentos', 'automaticos', 'podem', 'ser', 'definidos', 'avaliar', 'sistema', 'PLN', '', 'comparando', 'saida', 'padrao', 'excelencia', '', 'Embora', 'custo', 'reproduzir', 'padrao', 'excelencia', 'possa', 'ser', 'bastante', 'elevado', '', 'avaliacao', 'automatica', 'bootstrapping', 'sobre', 'mesmos', 'dados', 'entrada', 'pode', 'ser', 'repetida', 'quantas', 'vezes', 'necessario', 'custos', 'adicionais', 'desordenados', '', 'No', 'entanto', '', 'muitos', 'problemas', 'PLN', 'definicao', 'precisa', 'padrao', 'excelencia', 'tarefa', 'complexa', 'pode', 'revelar', 'impossivel', 'acordo', 'interanotador', 'insuficiente', '', 'A', 'avaliacao', 'manual', 'melhor', 'realizada', 'juizes', 'humanos', 'instruidos', 'estimar', 'qualidade', 'sistema', '', 'frequentemente', 'amostra', 'producao', '', 'base', 'serie', 'criterios', '', 'Embora', '', 'gracas', 'competencia', 'linguistica', '', 'juizes', 'humanos', 'possam', 'ser', 'considerados', 'referencia', 'serie', 'tarefas', 'processamento', 'linguagem', '', 'variacao', 'consideravel', 'classificacoes', '', 'E', 'avaliacao', 'automatica', '', 'vezes', '', 'referida', 'avaliacao', 'objetiva', 'enquanto', 'avaliacao', 'humana', 'perspectiva', '', '', 'Padronizacao', '', 'Um', 'subcomite', 'ISO', 'trabalhando', 'facilitar', 'interoperabilidade', 'recursos', 'lexicais', 'programas', 'PLN', '', 'O', 'subcomite', 'faz', 'parte', 'ISO', '', 'TC', 'chamado', 'ISO', '', 'TC', '', 'SC', '', 'Alguns', 'padroes', 'ISO', 'publicados', '', 'maioria', 'construcao', '', 'principalmente', 'representacao', 'lexico', '', 'ver', 'LMF', '', '', 'anotacao', 'registro', 'categoria', 'dados', '', '', 'Ferramentas', '', 'Expert', 'System', 'SpA', 'General', 'Architecture', 'Text', 'Engineering', 'Modular', 'Audio', 'Recognition', 'Framework', 'Natural', 'Language', 'Toolkit', '', 'NLTK', '', '', 'biblioteca', 'Python', 'OpenNLP', '', 'Veja', '', 'Mineracao', 'texto', 'biomedica', 'Processo', 'processamento', 'composto', 'Revisao', 'assistida', 'computador', 'Linguagem', 'natural', 'controlada', 'Processamento', 'linguistico', 'profundo', 'Auxilio', 'leitura', 'linguas', 'estrangeiras', 'Auxilio', 'escrita', 'lingua', 'estrangeira', 'Tecnologia', 'linguagem', 'A', 'alocacao', 'Dirichlet', 'Latente', '', 'LDA', '', 'Indexacao', 'semantica', 'latente', 'Lista', 'ferramentas', 'processamento', 'lingua', 'natural', 'Mapa', 'LRE', 'Programacao', 'lingua', 'natural', 'Reificacao', '', 'linguistica', '', 'Dobradura', 'semantica', 'Sistema', 'dialogo', 'falado', 'Vetor', 'Pensamento', 'Pesquisa', 'Transderivacional', 'Wordvec', '', 'Referencias', '', '', 'Leitura', 'adicional', '', 'Steven', 'Bird', '', 'Ewan', 'Klein', '', 'and', 'Edward', 'Loper', '', '', '', '', 'Natural', 'Language', 'Processing', 'with', 'Python', '', 'OReilly', 'Media', '', 'ISBN', '', '', 'Daniel', 'Jurafsky', 'and', 'James', 'H', 'Martin', '', '', '', '', 'Speech', 'and', 'Language', 'Processing', '', 'nd', 'edition', '', 'Pearson', 'Prentice', 'Hall', '', 'ISBN', '', '', 'Christopher', 'D', 'Manning', '', 'Prabhakar', 'Raghavan', '', 'and', 'Hinrich', 'Schutze', '', '', '', '', 'Introduction', 'to', 'Information', 'Retrieval', '', 'Cambridge', 'University', 'Press', '', 'ISBN', '', '', 'Official', 'html', 'and', 'pdf', 'versions', 'available', 'without', 'charge', '', 'Christopher', 'D', 'Manning', 'and', 'Hinrich', 'Schutze', '', '', '', '', 'Foundations', 'of', 'Statistical', 'Natural', 'Language', 'Processing', '', 'The', 'MIT', 'Press', '', 'ISBN', '', '', 'David', 'M', 'W', 'Powers', 'and', 'Christopher', 'C', 'R', 'Turk', '', '', '', '', 'Machine', 'Learning', 'of', 'Natural', 'Language', '', 'SpringerVerlag', '', 'ISBN', '', '']\n"
          ],
          "name": "stdout"
        }
      ]
    },
    {
      "cell_type": "markdown",
      "metadata": {
        "id": "6JSXgTlKE2Wx",
        "colab_type": "text"
      },
      "source": [
        "###  Plote a frequência dos tokens sem acentos. Utilize o método plot_frequencia_tokens() para plotar o gráfico. Também imprima o tamanho desta lista. "
      ]
    },
    {
      "cell_type": "code",
      "metadata": {
        "id": "owaL2wn8E2Wx",
        "colab_type": "code",
        "colab": {
          "base_uri": "https://localhost:8080/",
          "height": 341
        },
        "outputId": "0efb62ff-4719-4509-baf6-ea8c01020758"
      },
      "source": [
        "#tokens_sem_acentos\n",
        "plot_frequencia_tokens(tokens_sem_acentos)"
      ],
      "execution_count": null,
      "outputs": [
        {
          "output_type": "display_data",
          "data": {
            "image/png": "[encoded data removed]",
            "text/plain": [
              "<Figure size 432x288 with 1 Axes>"
            ]
          },
          "metadata": {
            "tags": [],
            "needs_background": "light"
          }
        }
      ]
    },
    {
      "cell_type": "markdown",
      "metadata": {
        "id": "y8uiiVyKE2W2",
        "colab_type": "text"
      },
      "source": [
        "## Stemming\n",
        "\n",
        "Iremos utilizar o stemming da biblioteca NLTK. O algoritmo disponível para este procedimento em portugês é o RSLPStemmer.\n",
        "\n",
        "```python\n",
        "stemmer = nltk.stem.RSLPStemmer()\n",
        "#para cada token:\n",
        "stemmer.stem(token)\n",
        "```\n",
        "\n",
        "Aplique o stemmet em cada elemento da lista de tokens.\n"
      ]
    },
    {
      "cell_type": "code",
      "metadata": {
        "id": "ejHKSTOhE2W2",
        "colab_type": "code",
        "colab": {}
      },
      "source": [
        "stemmer = nltk.stem.RSLPStemmer()"
      ],
      "execution_count": null,
      "outputs": []
    },
    {
      "cell_type": "code",
      "metadata": {
        "id": "J6v3wjVZE2W5",
        "colab_type": "code",
        "colab": {
          "base_uri": "https://localhost:8080/",
          "height": 54
        },
        "outputId": "bc9d8ad8-5800-4ca2-f457-799e6bd8aa2d"
      },
      "source": [
        "tokens_stemmer = [ stemmer.stem(token) for token in tokens_sem_acentos if len(token) > 0 ]\n",
        "print(tokens_stemmer)"
      ],
      "execution_count": null,
      "outputs": [
        {
          "output_type": "stream",
          "text": [
            "['process', 'lingu', 'natur', 'pln', 'subare', 'cienc', 'computaca', 'inteligenc', 'artific', 'linguis', 'estud', 'problem', 'geraca', 'compreensa', 'automa', 'lingu', 'human', 'natur', 'sistem', 'geraca', 'lingu', 'natur', 'convert', 'informaca', 'banc', 'dad', 'comput', 'lingu', 'compreensi', 'ser', 'human', 'sistem', 'compreensa', 'lingu', 'natur', 'convert', 'ocorrenc', 'lingu', 'human', 'representaco', 'formal', 'facil', 'manipula', 'program', 'comput', 'algum', 'desafi', 'pln', 'compreensa', 'lingu', 'natur', 'faz', 'comput', 'extra', 'sent', 'lingu', 'human', 'natur', 'geraca', 'lingu', 'natur', 'hist', 'a', 'hist', 'pln', 'comec', 'dec', 'alan', 'turing', 'public', 'artig', 'computing', 'machinery', 'and', 'intelligenc', 'propunh', 'agor', 'cham', 'test', 'turing', 'criteri', 'inteligenc', 'em', 'experienc', 'georgetown', 'envolv', 'traduca', 'automa', 'sessent', 'fras', 'russ', 'ingl', 'os', 'autor', 'afirm', 'dentr', 'tre', 'cinc', 'ano', 'traduca', 'automa', 'problem', 'resolv', 'no', 'entant', 'avanc', 'real', 'lent', 'previst', 'apo', 'relatori', 'alpac', 'constat', 'pesquis', 'dez', 'ano', 'consegu', 'satisfaz', 'expect', 'financ', 'estud', 'traduca', 'automa', 'reduz', 'drastic', 'pouc', 'pesquis', 'traduca', 'automa', 'conduz', 'final', 'ano', 'prim', 'sistem', 'estatis', 'traduca', 'desenvolv', 'algum', 'sistem', 'pln', 'bem', 'suced', 'desenvolv', 'ano', 'shrdlu', 'sistem', 'lingu', 'natur', 'trabalh', 'block', 'world', 'vocabulari', 'restrit', 'eliz', 'simulaca', 'psicoterapeut', 'escrit', 'joseph', 'weizenbaum', 'us', 'pouc', 'informaca', 'sobr', 'pens', 'emoca', 'human', 'eliz', 'cri', 'algum', 'cas', 'interaco', 'surpreend', 'human', 'qu', 'paci', 'exced', 'bas', 'conhec', 'program', 'eliz', 'fornec', 'respost', 'gener', 'exempl', 'respond', 'minh', 'cabec', 'doi', 'por', 'diz', 'cabec', 'doi', 'dur', 'dec', 'muit', 'program', 'comec', 'escrev', 'ontolog', 'conceit', 'estrutur', 'informaca', 'mund', 'real', 'dad', 'compreensi', 'comput', 'exempl', 'margi', 'schank', 'sam', 'cullingford', 'pam', 'wilensky', 'talespin', 'meehan', 'qualm', 'lehnert', 'politic', 'carbonell', 'plot', 'unit', 'lehnert', 'nest', 'period', 'muit', 'chatterbot', 'escrit', 'parry', 'ract', 'jabberwacky', 'ate', 'dec', 'maior', 'sistem', 'pln', 'base', 'conjunt', 'complex', 'regr', 'manuscrit', 'a', 'part', 'final', 'ano', 'entant', 'revoluca', 'pln', 'introduca', 'algoritm', 'aprendiz', 'automa', 'aprend', 'maquin', 'process', 'lingu', 'ist', 'dev', 'tant', 'aument', 'const', 'pod', 'computac', 'ver', 'lei', 'moor', 'quant', 'diminuica', 'grad', 'dominanc', 'teor', 'linguis', 'chomsky', 'grama', 'gera', 'cuj', 'fundament', 'teor', 'desestimul', 'tip', 'corpu', 'linguis', 'subjac', 'abord', 'aprendiz', 'automa', 'process', 'lingu', 'algum', 'algoritm', 'aprend', 'maquin', 'antig', 'arv', 'decisa', 'produz', 'sistem', 'regr', 'rig', 'enta', 'semelh', 'regr', 'exist', 'escrit', 'mao', 'no', 'entant', 'marcaca', 'part', 'fal', 'partofspeech', 'tagging', 'introduz', 'uso', 'model', 'ocult', 'markov', 'pln', 'cad', 'vez', 'pesquis', 'concentr', 'model', 'estatis', 'tom', 'deciso', 'suav', 'probabilis', 'base', 'atribuica', 'pes', 'real', 'recurs', 'compo', 'dad', 'entr', 'os', 'model', 'lingu', 'cach', 'sobr', 'qual', 'muit', 'sistem', 'reconhec', 'fal', 'agor', 'depend', 'exempl', 'tal', 'model', 'estatis', 'ess', 'model', 'geral', 'robust', 'dad', 'informaco', 'desconhec', 'espec', 'entr', 'cont', 'err', 'comum', 'dad', 'mund', 'real', 'produz', 'result', 'confia', 'integr', 'sistem', 'mai', 'compreend', 'multipl', 'taref', 'muit', 'sucess', 'inic', 'notavel', 'ocorr', 'camp', 'traduca', 'automa', 'dev', 'espec', 'trabalh', 'pesquis', 'ibm', 'desenvolv', 'model', 'estatis', 'elabor', 'est', 'sistem', 'capaz', 'tir', 'proveit', 'corp', 'text', 'multiling', 'exist', 'produz', 'parl', 'can', 'unia', 'europe', 'result', 'lei', 'exig', 'traduca', 'tod', 'process', 'governament', 'tod', 'lingu', 'ofic', 'pais', 'no', 'entant', 'maior', 'sistem', 'depend', 'corp', 'desenvolv', 'especific', 'taref', 'implement', 'sistem', 'muit', 'vez', 'continu', 'send', 'grand', 'limitaca', 'sucess', 'com', 'result', 'grand', 'quant', 'pesquis', 'pass', 'quant', 'dad', 'limit', 'metod', 'aprendiz', 'eficaz', 'pesquis', 'recent', 'tem', 'concentr', 'cad', 'vez', 'algoritm', 'aprendiz', 'semisupervision', 'supervisa', 'ess', 'algoritm', 'capaz', 'aprend', 'dad', 'anot', 'man', 'respost', 'desej', 'us', 'combinaca', 'dad', 'anot', 'anot', 'geral', 'taref', 'trabalh', 'aprendiz', 'supervision', 'norm', 'produz', 'result', 'menos', 'precis', 'quant', 'especif', 'dad', 'entr', 'no', 'entant', 'enorm', 'quant', 'dad', 'anot', 'disponi', 'inclu', 'outr', 'cois', 'tod', 'conteud', 'world', 'wid', 'web', 'muit', 'vez', 'pod', 'compens', 'result', 'inferi', 'us', 'aprendiz', 'automa', 'aprend', 'maquin', 'os', 'algoritm', 'modern', 'pln', 'baseiams', 'aprendiz', 'mecan', 'espec', 'aprendiz', 'maquin', 'estatis', 'o', 'paradigm', 'aprendiz', 'mecan', 'difer', 'maior', 'tent', 'anteri', 'process', 'lingu', 'anteri', 'implementaco', 'taref', 'process', 'lingu', 'envolv', 'codificaca', 'diret', 'grand', 'conjunt', 'regr', 'o', 'paradigm', 'aprendiz', 'automa', 'aprendiz', 'automa', 'induz', 'aprendiz', 'automa', 'regr', 'atrav', 'analis', 'corp', 'exempl', 'tipic', 'mund', 'real', 'inv', 'us', 'algoritm', 'geral', 'aprendiz', 'muit', 'vez', 'emb', 'sempr', 'base', 'inferenc', 'estatis', 'um', 'corpu', 'plur', 'corp', 'conjunt', 'document', 'fras', 'individ', 'anot', 'mao', 'val', 'corret', 'ser', 'aprend', 'muit', 'cl', 'difer', 'algoritm', 'aprend', 'maquin', 'aplic', 'taref', 'pln', 'ess', 'algoritm', 'tom', 'entr', 'grand', 'conjunt', 'recurs', 'ger', 'part', 'dad', 'entr', 'algum', 'algoritm', 'us', 'arv', 'decisa', 'produz', 'sistem', 'regr', 'rig', 'semelh', 'sistem', 'regr', 'manuscrit', 'comum', 'no', 'entant', 'cad', 'vez', 'pesquis', 'concentr', 'model', 'estatis', 'tom', 'deciso', 'flexi', 'probabilis', 'base', 'agreg', 'pes', 'real', 'cad', 'caracteris', 'entr', 'tal', 'model', 'tem', 'vantag', 'pod', 'express', 'cert', 'relat', 'muit', 'respost', 'possi', 'difer', 'vez', 'apen', 'produz', 'result', 'confia', 'model', 'inclu', 'compon', 'sistem', 'mai', 'os', 'sistem', 'base', 'algoritm', 'aprendiz', 'mecan', 'tem', 'muit', 'vantag', 'relaca', 'regr', 'produz', 'man', 'os', 'proced', 'aprendiz', 'us', 'dur', 'aprendiz', 'maquin', 'focams', 'automatic', 'cas', 'comum', 'pass', 'escrev', 'regr', 'mao', 'obvi', 'sent', 'esforc', 'dev', 'ser', 'dirig', 'os', 'proced', 'aprendiz', 'automa', 'pod', 'faz', 'uso', 'algoritm', 'inferenc', 'estatis', 'produz', 'model', 'robust', 'entr', 'famili', 'exempl', 'cont', 'palavr', 'estrut', 'vist', 'ant', 'entr', 'errone', 'exempl', 'palavr', 'palavr', 'incorret', 'omit', 'geral', 'lid', 'entr', 'form', 'regr', 'manuscrit', 'sistem', 'regr', 'manuscrit', 'tom', 'deciso', 'suav', 'extrem', 'trabalh', 'propens', 'err', 'demor', 'sistem', 'base', 'aprend', 'automatic', 'regr', 'pod', 'ser', 'precis', 'simples', 'fornec', 'dad', 'entr', 'no', 'entant', 'sistem', 'base', 'regr', 'escrit', 'mao', 'pod', 'ser', 'torn', 'precis', 'aument', 'complex', 'regr', 'taref', 'dificil', 'em', 'particul', 'limit', 'complex', 'sistem', 'base', 'regr', 'artesan', 'alem', 'qual', 'sistem', 'torn', 'cad', 'vez', 'incontrola', 'no', 'entant', 'criaca', 'dad', 'entr', 'sistem', 'aprend', 'maquin', 'requ', 'simples', 'aument', 'correspond', 'numer', 'hor', 'trabalh', 'human', 'geral', 'aument', 'signific', 'complex', 'process', 'anotacao', 'subcamp', 'pln', 'dedic', 'abord', 'aprendiz', 'conhec', 'aprendiz', 'lingu', 'natur', 'nll', 'conferenc', 'conll', 'orga', 'centr', 'signll', 'patrocin', 'acl', 'reconhec', 'ligaco', 'linguis', 'computac', 'aquisica', 'lingu', 'qu', 'obje', 'pesquis', 'aprendiz', 'lingu', 'computac', 'entend', 'sobr', 'aquisica', 'lingu', 'human', 'psicolinguis', 'nll', 'sobrepoes', 'camp', 'relacion', 'psicolinguis', 'computac', 'aplicaco', 'princip', 'a', 'list', 'segu', 'traz', 'algum', 'trabalh', 'pesquis', 'pln', 'not', 'algum', 'tem', 'aplicaco', 'mund', 'real', 'enquant', 'outr', 'serv', 'frequ', 'taref', 'secund', 'us', 'auxili', 'resoluca', 'taref', 'mai', 'o', 'disting', 'taref', 'outr', 'taref', 'potenc', 'real', 'pln', 'apen', 'volum', 'pesquis', 'dedic', 'fat', 'cad', 'tipic', 'definica', 'problem', 'bem', 'especific', 'metr', 'padra', 'avali', 'taref', 'corp', 'padra', 'taref', 'pod', 'ser', 'avali', 'competico', 'dedic', 'taref', 'especif', 'sumarizaca', 'automa', 'produz', 'resum', 'legivel', 'part', 'text', 'muit', 'vez', 'us', 'fornec', 'resum', 'text', 'tip', 'conhec', 'artig', 'seca', 'financ', 'jornalresoluca', 'correferenc', 'dad', 'fras', 'pedac', 'mai', 'text', 'determin', 'qual', 'palavr', 'menco', 'ref', 'mesm', 'objet', 'entidad', 'a', 'resoluca', 'anaf', 'exempl', 'especif', 'dess', 'taref', 'especific', 'preocup', 'combin', 'pronom', 'substan', 'nom', 'qual', 'ref', 'a', 'taref', 'geral', 'resoluca', 'correferenc', 'inclu', 'identificaca', 'cham', 'relacion', 'pont', 'envolv', 'expresso', 'referenc', 'por', 'exempl', 'fras', 'ele', 'entr', 'cas', 'joa', 'port', 'frent', 'port', 'frent', 'expressa', 'referenc', 'relaca', 'pont', 'ser', 'identific', 'fat', 'port', 'ser', 'refer', 'port', 'frent', 'john', 's', 'inv', 'algum', 'outr', 'estrut', 'pod', 'ser', 'refer', 'analis', 'discurs', 'est', 'rubr', 'inclu', 'seri', 'taref', 'relacion', 'uma', 'taref', 'identific', 'estrut', 'discurs', 'text', 'conect', 'natur', 'relaco', 'discurs', 'sentenc', 'exempl', 'elaboraca', 'explicaca', 'contr', 'outr', 'possi', 'taref', 'reconhec', 'classific', 'ato', 'fal', 'pedac', 'text', 'exempl', 'pergunt', 'simna', 'pergunt', 'conteud', 'fras', 'afirmaca', 'etc', 'maquin', 'traduca', 'traduz', 'automatic', 'text', 'lingu', 'human', 'outr', 'est', 'taref', 'dificel', 'faz', 'part', 'tip', 'problem', 'conhec', 'aicomplet', 'exig', 'tod', 'difer', 'tip', 'conhec', 'human', 'possu', 'grama', 'seman', 'fat', 'sobr', 'mund', 'real', 'etc', 'resolvel', 'adequadamentesegmentaca', 'morfolog', 'sep', 'palavr', 'morfem', 'individ', 'identif', 'cl', 'morfem', 'a', 'dificuldad', 'dest', 'taref', 'depend', 'complex', 'morfolog', 'estrut', 'palavr', 'lingu', 'send', 'consider', 'o', 'ingl', 'possu', 'morfolog', 'bast', 'simpl', 'espec', 'morfolog', 'flex', 'portant', 'possi', 'ignor', 'taref', 'inte', 'simples', 'model', 'tod', 'form', 'possi', 'palavr', 'exempl', 'open', 'op', 'opened', 'opening', 'palavr', 'separ', 'em', 'lingu', 'turc', 'meit', 'lingu', 'indi', 'fort', 'aglutin', 'entant', 'tal', 'abord', 'possi', 'vez', 'cad', 'entr', 'dicionari', 'milh', 'form', 'palavr', 'possiveisreconhec', 'entidad', 'nome', 'ner', 'dad', 'flux', 'text', 'determin', 'qual', 'it', 'map', 'text', 'nom', 'propri', 'pesso', 'local', 'tip', 'cad', 'nom', 'exempl', 'pesso', 'local', 'organizaca', 'emb', 'capitalizaca', 'poss', 'ajud', 'reconhec', 'entidad', 'nome', 'idiom', 'ingl', 'informaco', 'pod', 'ajud', 'determin', 'tip', 'entidad', 'nome', 'algum', 'cas', 'sao', 'imprecis', 'insufici', 'por', 'exempl', 'prim', 'palavr', 'fras', 'capit', 'entidad', 'nome', 'muit', 'vez', 'abrang', 'var', 'palavr', 'apen', 'algum', 'capit', 'alem', 'diss', 'muit', 'outr', 'lingu', 'script', 'naoocident', 'exempl', 'chin', 'arab', 'tem', 'nenhum', 'capitalizaca', 'lingu', 'maiuscul', 'pod', 'distingu', 'nom', 'por', 'exempl', 'alema', 'capitaliz', 'tod', 'substan', 'independ', 'refer', 'nom', 'franc', 'espanhol', 'capitaliz', 'nom', 'serv', 'adjetivosgeraca', 'lingu', 'natur', 'convert', 'informaco', 'banc', 'dad', 'comput', 'intenco', 'seman', 'lingu', 'human', 'legivelcompreensa', 'lingu', 'natur', 'convert', 'pedac', 'text', 'representaco', 'formal', 'estrut', 'logic', 'prim', 'ord', 'facel', 'manipul', 'program', 'comput', 'a', 'compreensa', 'lingu', 'natur', 'envolv', 'identificaca', 'seman', 'pretend', 'part', 'multipl', 'seman', 'possi', 'pod', 'ser', 'deriv', 'expressa', 'lingu', 'natur', 'geral', 'tom', 'form', 'notaca', 'organiz', 'conceit', 'lingu', 'natur', 'entretant', 'introduca', 'criaca', 'lingu', 'metamodel', 'ontolog', 'efici', 'soluco', 'empir', 'uma', 'formalizaca', 'explicit', 'seman', 'lingu', 'natur', 'confuso', 'suposico', 'implicit', 'closedworld', 'assumption', 'cwa', 'versu', 'openworld', 'assumption', 'subje', 'sim', 'nao', 'versu', 'obje', 'verd', 'fals', 'esper', 'construca', 'bas', 'formalizaca', 'semanticareconhec', 'optic', 'caract', 'ocr', 'dad', 'imag', 'represent', 'text', 'impress', 'determin', 'text', 'correspondentemarcaca', 'cl', 'gramatic', 'dad', 'sentenc', 'determin', 'cl', 'gramatic', 'cad', 'palavr', 'muit', 'palavr', 'espec', 'comum', 'pod', 'serv', 'multipl', 'part', 'discurs', 'em', 'ingl', 'exempl', 'book', 'pod', 'ser', 'substan', 'the', 'book', 'on', 'the', 'tabl', 'verb', 'book', 'flight', 'set', 'pod', 'ser', 'substan', 'verb', 'adje', 'e', 'out', 'pod', 'ser', 'qualqu', 'menos', 'cinc', 'difer', 'part', 'fal', 'algum', 'lingu', 'tem', 'ambigu', 'outr', 'as', 'lingu', 'pouc', 'morfolog', 'flex', 'ingl', 'particul', 'propens', 'tal', 'ambigu', 'o', 'chin', 'propens', 'tal', 'ambigu', 'porqu', 'lingu', 'tonal', 'dur', 'verbalizaca', 'tal', 'inflexa', 'facil', 'transmit', 'atrav', 'entidad', 'empreg', 'dentr', 'ortograf', 'transmit', 'signific', 'pretendidoanalis', 'sinta', 'parsing', 'determin', 'arvor', 'analis', 'analis', 'gramatic', 'fras', 'a', 'grama', 'lingu', 'natur', 'ambigu', 'fras', 'tipic', 'tem', 'multipl', 'analis', 'possi', 'na', 'verdad', 'surpreend', 'fras', 'tipic', 'pod', 'hav', 'milh', 'analis', 'potenc', 'maior', 'qual', 'parec', 'complet', 'absurd', 'ser', 'human', 'respost', 'pergunt', 'dad', 'questa', 'lingu', 'human', 'determin', 'respost', 'as', 'pergunt', 'tipic', 'tem', 'respost', 'corret', 'especif', 'qual', 'capit', 'can', 'vez', 'pergunt', 'abert', 'consider', 'qual', 'signific', 'vid', 'trabalh', 'recent', 'tem', 'analis', 'questo', 'aind', 'complexasextraca', 'relacion', 'identif', 'relaco', 'entidad', 'nome', 'exempl', 'cas', 'bas', 'textosquebr', 'fras', 'sentenc', 'boundary', 'disambiguation', 'encontr', 'limit', 'fras', 'pedac', 'text', 'os', 'limit', 'fras', 'norm', 'marc', 'pont', 'outr', 'sinal', 'pontuaca', 'mesm', 'caract', 'pod', 'serv', 'outr', 'propositosanalis', 'subjet', 'sentiment', 'analysil', 'opinion', 'mining', 'extr', 'informaco', 'subje', 'geral', 'conjunt', 'document', 'muit', 'vez', 'us', 'reviso', 'onlin', 'determin', 'polar', 'sobr', 'objet', 'especif', 'e', 'espec', 'util', 'identific', 'tendenc', 'opinia', 'publ', 'mid', 'soc', 'fim', 'marketingreconhec', 'fal', 'dad', 'clip', 'som', 'pesso', 'pesso', 'fal', 'determin', 'representaca', 'text', 'discurs', 'e', 'opost', 'sintes', 'fal', 'are', 'dificel', 'conhec', 'aicomplet', 'na', 'fal', 'natur', 'quas', 'paus', 'palavr', 'sucess', 'segmentaca', 'fal', 'subtaref', 'necess', 'reconhec', 'fal', 'notas', 'maior', 'lingu', 'fal', 'som', 'represent', 'letr', 'sucess', 'mistur', 'si', 'process', 'denomin', 'coarticulaca', 'mod', 'conversa', 'sinal', 'analog', 'caract', 'discret', 'pod', 'ser', 'process', 'dificil', 'ser', 'realizadosegmentaca', 'fal', 'dad', 'clip', 'som', 'pesso', 'pesso', 'fal', 'separa', 'palavr', 'uma', 'subaplicaca', 'reconhec', 'fal', 'norm', 'agrup', 'eleanalis', 'morfolog', 'reconhec', 'topic', 'dad', 'pedac', 'text', 'separa', 'segment', 'cad', 'qual', 'dedic', 'topic', 'identif', 'topic', 'segmentoanalis', 'morfolog', 'segmentaca', 'palavr', 'sep', 'pedac', 'text', 'continu', 'palavr', 'separ', 'par', 'lingu', 'ingl', 'bast', 'triv', 'vez', 'palavr', 'norm', 'separ', 'espac', 'no', 'entant', 'algum', 'lingu', 'escrit', 'chin', 'japon', 'tailand', 'marc', 'limit', 'palavr', 'tal', 'form', 'ness', 'lingu', 'segmentaca', 'text', 'taref', 'signific', 'requ', 'conhec', 'vocabulari', 'morfolog', 'palavr', 'linguadesambiguaca', 'muit', 'palavr', 'tem', 'signific', 'assim', 'selec', 'signific', 'faz', 'sent', 'context', 'par', 'problem', 'geral', 'dad', 'list', 'palavr', 'sent', 'palavr', 'associ', 'dicionari', 'recurs', 'onlin', 'wordnet', 'em', 'algum', 'cas', 'conjunt', 'taref', 'relacion', 'agrup', 'subcamp', 'pln', 'frequ', 'consider', 'separad', 'pln', 'tod', 'exempl', 'segu', 'recuperaca', 'informaca', 'ir', 'tratas', 'armazen', 'pesquis', 'recuper', 'informaco', 'e', 'camp', 'separ', 'dentr', 'cienc', 'computaca', 'pert', 'banc', 'dad', 'ir', 'base', 'algum', 'metod', 'pln', 'exempl', 'stemming', 'algum', 'pesquis', 'aplicaco', 'atual', 'procur', 'preench', 'lacun', 'ir', 'plnextraca', 'informaca', 'ie', 'tratas', 'geral', 'extraca', 'informaca', 'seman', 'part', 'text', 'abrang', 'taref', 'reconhec', 'entidad', 'mencion', 'resoluca', 'correferenc', 'relacion', 'extraca', 'etc', 'process', 'voz', 'abrang', 'reconhec', 'fal', 'sintes', 'fal', 'taref', 'relacion', 'outr', 'taref', 'inclu', 'identificaca', 'lingu', 'matern', 'stemizaca', 'simplificaca', 'text', 'sintes', 'fal', 'revisa', 'text', 'pesquis', 'lingu', 'natur', 'expansa', 'consult', 'pontuaca', 'ensai', 'autom', 'truecasing', 'estatis', 'artig', 'princip', 'grama', 'estocas', 'o', 'process', 'estatis', 'lingu', 'natur', 'utiliz', 'metod', 'estocas', 'probabilis', 'estatis', 'resolv', 'algum', 'dificuldad', 'discut', 'acim', 'espec', 'surg', 'porqu', 'fras', 'long', 'ambigu', 'process', 'grama', 'real', 'produz', 'milh', 'milho', 'analis', 'possi', 'metod', 'desambiguaca', 'envolv', 'muit', 'vez', 'uso', 'corp', 'model', 'markov', 'o', 'projet', 'esprit', 'p', 'lider', 'cselt', 'explor', 'problem', 'reconhec', 'fal', 'compar', 'abord', 'base', 'conhec', 'estatis', 'result', 'escolh', 'model', 'complet', 'estatis', 'um', 'prim', 'model', 'compreensa', 'estatis', 'lingu', 'natur', 'introduz', 'robert', 'pieraccin', 'esth', 'levin', 'chinhu', 'lee', 'bell', 'laboratori', 'o', 'pln', 'compreend', 'tod', 'abord', 'quantit', 'process', 'autom', 'lingu', 'inclu', 'model', 'probabilis', 'teor', 'informaca', 'algebr', 'line', 'a', 'tecnolog', 'pln', 'estatis', 'vem', 'princip', 'aprendiz', 'automa', 'mineraca', 'dad', 'camp', 'inteligenc', 'artific', 'envolv', 'aprend', 'part', 'dad', 'avaliaca', 'o', 'obje', 'avaliaca', 'pln', 'med', 'qual', 'algoritm', 'sistem', 'fim', 'determin', 'algoritm', 'atend', 'met', 'projet', 'sistem', 'atend', 'necess', 'usuari', 'investigaca', 'avaliaca', 'pln', 'ganh', 'atenca', 'porqu', 'definica', 'criteri', 'avaliaca', 'form', 'especific', 'precis', 'problem', 'pln', 'uma', 'metr', 'avaliaca', 'pln', 'sistem', 'algoritm', 'permit', 'integraca', 'compreensa', 'lingu', 'geraca', 'lingu', 'um', 'conjunt', 'precis', 'criteri', 'avaliaca', 'pod', 'ser', 'aplic', 'princip', 'avaliaco', 'metr', 'pod', 'permit', 'var', 'equip', 'comp', 'soluco', 'determin', 'problem', 'pln', 'cronolog', 'avaliaca', 'em', 'inicious', 'project', 'esprit', 'p', 'avali', 'tecnolog', 'fal', 'inclu', 'topic', 'geral', 'sintax', 'seman', 'compar', 'abord', 'base', 'regr', 'estatis', 'em', 'prim', 'campanh', 'avaliaca', 'text', 'escrit', 'parec', 'ser', 'campanh', 'dedic', 'compreensa', 'mens', 'pallet', 'o', 'projet', 'parsev', 'geig', 'compar', 'grama', 'fraseestrut', 'black', 'houv', 'seri', 'campanh', 'projet', 'tipst', 'sobr', 'taref', 'resum', 'traduca', 'pesquis', 'hirschman', 'em', 'alemanh', 'morpholympic', 'compar', 'marc', 'morfolog', 'alema', 'as', 'campanh', 'sensev', 'romansev', 'realiz', 'obje', 'desambiguaca', 'seman', 'em', 'campanh', 'sparkl', 'compar', 'analis', 'sinta', 'quatr', 'idiom', 'difer', 'ingl', 'franc', 'alema', 'itali', 'na', 'franc', 'projet', 'grac', 'compar', 'conjunt', 'marc', 'franc', 'add', 'em', 'dur', 'projet', 'technolang', 'easy', 'compar', 'analis', 'franc', 'a', 'avaliaca', 'larg', 'escal', 'analis', 'dependenc', 'realiz', 'context', 'taref', 'compartilh', 'conll', 'na', 'franc', 'ambit', 'project', 'anrpassag', 'final', 'compar', 'analis', 'franc', 'em', 'ital', 'campanh', 'evalit', 'realiz', 'compar', 'var', 'ferrament', 'pln', 'voz', 'sit', 'itali', 'evalit', 'difer', 'tip', 'avaliaca', 'avaliaca', 'intrinsec', 'vs', 'extrinsec', 'a', 'avaliaca', 'intrinsec', 'consid', 'sistem', 'pnl', 'isol', 'caracteriz', 'desempenh', 'relaca', 'result', 'padraoexcelenc', 'conform', 'defin', 'avali', 'a', 'avaliaca', 'extrinsec', 'cham', 'avaliaca', 'uso', 'consid', 'sistem', 'pln', 'cenari', 'complex', 'sistem', 'embut', 'funca', 'precis', 'usuari', 'human', 'o', 'desempenh', 'extrinsec', 'sistem', 'enta', 'caracter', 'term', 'util', 'relaca', 'taref', 'glob', 'sistem', 'estranh', 'utiliz', 'human', 'por', 'exempl', 'consid', 'analis', 'sinta', 'base', 'said', 'algum', 'part', 'tagg', 'fal', 'po', 'uma', 'avaliaca', 'intrinsec', 'execut', 'marc', 'po', 'dad', 'estrutur', 'compar', 'said', 'sistem', 'marc', 'po', 'said', 'padra', 'our', 'uma', 'avaliaca', 'extrinsec', 'execut', 'analis', 'algum', 'outr', 'marc', 'po', 'segu', 'marc', 'po', 'nov', 'comp', 'precisa', 'analis', 'caix', 'pret', 'vs', 'avaliaca', 'caix', 'vidr', 'a', 'avaliaca', 'caix', 'pret', 'requ', 'algu', 'execut', 'sistem', 'pln', 'conjunt', 'dad', 'amostr', 'med', 'seri', 'parametr', 'relacion', 'qual', 'process', 'veloc', 'confi', 'consum', 'recurs', 'princip', 'qual', 'result', 'precisa', 'anotaca', 'dad', 'fidel', 'traduca', 'a', 'avaliaca', 'caix', 'vidr', 'examin', 'concepca', 'sistem', 'os', 'algoritm', 'implement', 'recurs', 'linguis', 'utiliz', 'tamanh', 'vocabulari', 'expressa', 'defin', 'cardinal', 'dad', 'complex', 'problem', 'pln', 'muit', 'vez', 'dificil', 'prev', 'desempenh', 'apen', 'bas', 'avaliaca', 'caix', 'vidr', 'mas', 'tip', 'avaliaca', 'inform', 'diz', 'respeit', 'analis', 'err', 'desenvolv', 'futur', 'sistem', 'automa', 'vs', 'avaliaca', 'man', 'em', 'muit', 'cas', 'proced', 'automa', 'pod', 'ser', 'defin', 'avali', 'sistem', 'pln', 'compar', 'said', 'padra', 'excelenc', 'emb', 'cust', 'reproduz', 'padra', 'excelenc', 'poss', 'ser', 'bast', 'elev', 'avaliaca', 'automa', 'bootstrapping', 'sobr', 'mesm', 'dad', 'entr', 'pod', 'ser', 'repet', 'quant', 'vez', 'necessari', 'cust', 'adic', 'desorden', 'no', 'entant', 'muit', 'problem', 'pln', 'definica', 'precis', 'padra', 'excelenc', 'taref', 'complex', 'pod', 'revel', 'impossi', 'acord', 'interanot', 'insufici', 'a', 'avaliaca', 'man', 'melhor', 'realiz', 'juiz', 'human', 'instru', 'estim', 'qual', 'sistem', 'frequ', 'amostr', 'produca', 'bas', 'seri', 'criteri', 'emb', 'grac', 'competenc', 'linguis', 'juiz', 'human', 'poss', 'ser', 'consider', 'referenc', 'seri', 'taref', 'process', 'lingu', 'variaca', 'considera', 'classificaco', 'e', 'avaliaca', 'automa', 'vez', 'refer', 'avaliaca', 'obje', 'enquant', 'avaliaca', 'human', 'perspec', 'padronizaca', 'um', 'subcomit', 'iso', 'trabalh', 'facil', 'interoper', 'recurs', 'lexic', 'program', 'pln', 'o', 'subcomit', 'faz', 'part', 'iso', 'tc', 'cham', 'iso', 'tc', 'sc', 'algum', 'padro', 'iso', 'public', 'maior', 'construca', 'princip', 'representaca', 'lexic', 'ver', 'lmf', 'anotaca', 'registr', 'categor', 'dad', 'ferrament', 'expert', 'syst', 'spa', 'gener', 'architectur', 'text', 'engineering', 'modul', 'audi', 'recognition', 'framework', 'natur', 'languag', 'toolkit', 'nltk', 'bibliotec', 'python', 'opennlp', 'vej', 'mineraca', 'text', 'biomed', 'process', 'process', 'compost', 'revisa', 'assist', 'comput', 'lingu', 'natur', 'control', 'process', 'linguis', 'profund', 'auxili', 'leit', 'lingu', 'estrang', 'auxili', 'escrit', 'lingu', 'estrang', 'tecnolog', 'lingu', 'a', 'alocaca', 'dirichlet', 'latent', 'lda', 'indexaca', 'seman', 'latent', 'list', 'ferrament', 'process', 'lingu', 'natur', 'map', 'lre', 'programaca', 'lingu', 'natur', 'reificaca', 'linguis', 'dobrad', 'seman', 'sistem', 'dialog', 'fal', 'vet', 'pens', 'pesquis', 'transderivac', 'wordvec', 'referenc', 'leit', 'adic', 'steven', 'bird', 'ewan', 'klein', 'and', 'edward', 'lop', 'natur', 'languag', 'processing', 'with', 'python', 'oreilly', 'med', 'isbn', 'daniel', 'jurafsky', 'and', 'jam', 'h', 'martin', 'speech', 'and', 'languag', 'processing', 'nd', 'edition', 'pearson', 'prent', 'hall', 'isbn', 'christoph', 'd', 'manning', 'prabhak', 'raghavan', 'and', 'hinrich', 'schutz', 'introduction', 'to', 'information', 'retriev', 'cambridg', 'university', 'pres', 'isbn', 'offic', 'html', 'and', 'pdf', 'versiom', 'availabl', 'without', 'charg', 'christoph', 'd', 'manning', 'and', 'hinrich', 'schutz', 'foundatiom', 'of', 'statistic', 'natur', 'languag', 'processing', 'the', 'mit', 'pres', 'isbn', 'david', 'm', 'w', 'pow', 'and', 'christoph', 'c', 'r', 'turk', 'machin', 'learning', 'of', 'natur', 'languag', 'springerverlag', 'isbn']\n"
          ],
          "name": "stdout"
        }
      ]
    },
    {
      "cell_type": "markdown",
      "metadata": {
        "id": "E2uwnIZOE2W7",
        "colab_type": "text"
      },
      "source": [
        "###  Plote a frequência dos tokens após o processo de stemming. Utilize o método plot_frequencia_tokens() para plotar o gráfico. Também imprima o tamanho desta lista. "
      ]
    },
    {
      "cell_type": "code",
      "metadata": {
        "id": "Wjhx4JyXE2W8",
        "colab_type": "code",
        "colab": {
          "base_uri": "https://localhost:8080/",
          "height": 312
        },
        "outputId": "d655d9dd-461d-4b86-fcec-9c169113cdd2"
      },
      "source": [
        "#tokens_stemmer\n",
        "plot_frequencia_tokens(tokens_stemmer)"
      ],
      "execution_count": null,
      "outputs": [
        {
          "output_type": "display_data",
          "data": {
            "image/png": "[encoded data removed]",
            "text/plain": [
              "<Figure size 432x288 with 1 Axes>"
            ]
          },
          "metadata": {
            "tags": [],
            "needs_background": "light"
          }
        }
      ]
    },
    {
      "cell_type": "markdown",
      "metadata": {
        "id": "ESWvVmslE2W-",
        "colab_type": "text"
      },
      "source": [
        "## Lemmatization\n",
        "a biblitoteca NLTK não possui lematização para português.\n",
        "Mas a scpaCy possui."
      ]
    },
    {
      "cell_type": "code",
      "metadata": {
        "id": "EteSUdLWE2W-",
        "colab_type": "code",
        "colab": {}
      },
      "source": [
        "#carrega o modelo para português\n",
        "#nlp = spacy.load('pt')\n",
        "nlp = pt_core_news_sm.load()"
      ],
      "execution_count": null,
      "outputs": []
    },
    {
      "cell_type": "markdown",
      "metadata": {
        "id": "L4v6tMpXE2XE",
        "colab_type": "text"
      },
      "source": [
        "Você pode executar a <b> lematização </b> com acentos ou sem acentos. Funciona da mesma forma."
      ]
    },
    {
      "cell_type": "markdown",
      "metadata": {
        "id": "CWInspjdE2XE",
        "colab_type": "text"
      },
      "source": [
        "A primeira etapa para executar a lematização é transformar a lista de tokens para uma string. \n",
        "Utilize a variável de tokens: <b> tokens_sem_punction </b>.\n",
        "\n",
        "Dica: utilize o método join para isto:\n",
        "\n",
        "```python\n",
        "str.join(list)\n",
        "\n",
        "```"
      ]
    },
    {
      "cell_type": "code",
      "metadata": {
        "id": "FfLEPu_4E2XF",
        "colab_type": "code",
        "colab": {
          "base_uri": "https://localhost:8080/",
          "height": 54
        },
        "outputId": "b2d23df9-923e-4e41-b01b-a492d88b6fed"
      },
      "source": [
        "str_tokens = ''.join(tokens_sem_acentos)\n",
        "print(str_tokens)"
      ],
      "execution_count": null,
      "outputs": [
        {
          "output_type": "stream",
          "text": [
            "ProcessamentolinguanaturalPLNsubareacienciacomputacaointeligenciaartificiallinguisticaestudaproblemasgeracaocompreensaoautomaticalinguashumanasnaturaisSistemasgeracaolinguanaturalconverteminformacaobancosdadoscomputadoreslinguagemcompreensivelserhumanosistemascompreensaolinguanaturalconvertemocorrenciaslinguagemhumanarepresentacoesformaisfacilmentemanipulaveisprogramascomputadorAlgunsdesafiosPLNcompreensaolinguanaturalfazercomputadoresextraiamsentidolinguagemhumananaturalgeracaolinguanaturalHistoriaAhistoriaPLNcomecoudecadaAlanTuringpublicouartigoComputingMachineryandIntelligencepropunhaagorachamadotesteTuringcriteriointeligenciaEmexperienciaGeorgetownenvolveutraducaoautomaticasessentafrasesrussasinglesOsautoresafirmaramdentrotrescincoanostraducaoautomaticaproblemaresolvidoNoentantoavancosreaislentosprevistoaposrelatorioALPACconstatoupesquisadezanosconseguiusatisfazerexpectativasfinanciamentoestudotraducaoautomaticareduzidodrasticamentePoucaspesquisastraducaoautomaticaconduzidasfinalanosprimeirossistemasestatisticostraducaodesenvolvidosAlgunssistemasPLNbemsucedidosdesenvolvidosanosSHRDLUsistemalinguanaturaltrabalhavablocksworldsvocabulariorestritoELIZAsimulacaopsicoterapeutaescritaJosephWeizenbaumUsandopoucainformacaosobrepensamentoemocaohumanaELIZAcriavaalgunscasosinteracoessurpreendentementehumanasQuandopacienteexcediabaseconhecimentoprogramaELIZAforneciarespostagenericaexemplorespondendoMinhacabecadoiPordizcabecadoiDurantedecadamuitosprogramadorescomecaramescreverontologiasconceituaisestruturaraminformacaomundorealdadoscompreensiveiscomputadoresExemplosMARGIESCHANKSAMCULLINGFORDPAMWILENSKYTaleSpinMEEHANQUALMLEHNERTPoliticsCARBONELLPlotUnitsLEHNERTNesteperiodomuitoschatterbotsescritosPARRYRacterJabberwackyAtedecadamaioriasistemasPLNbaseavaconjuntoscomplexosregrasmanuscritasApartirfinalanosentantorevolucaoPLNintroducaoalgoritmosaprendizagemautomaticaaprendizadomaquinaprocessamentolinguagemIstodevidotantoaumentoconstantepodercomputacionalverLeiMoorequantodiminuicaogradualdominanciateoriaslinguisticachomskyanasgramaticagerativacujosfundamentosteoricosdesestimularamtipocorpuslinguisticosubjacenteabordagemaprendizagemautomaticaprocessamentolinguagemAlgunsalgoritmosaprendizadomaquinasantigosarvoresdecisaoproduziamsistemasregrasrigidasentaosemelhantesregrasexistentesescritasmaoNoentantomarcacaopartesfalapartofspeechtaggingintroduziuusomodelosocultosMarkovPLNcadavezpesquisaconcentravamodelosestatisticostomamdecisoessuavesprobabilisticasbaseadasatribuicaopesosreaisrecursoscompoemdadosentradaOsmodeloslinguagemcachesobrequaismuitossistemasreconhecimentofalaagoradependemexemplostaismodelosestatisticosEssesmodelosgeralmenterobustosdadosinformacoesdesconhecidasespecialmenteentradacontemerroscomumdadosmundorealproduzemresultadosconfiaveisintegradossistemasmaiorescompreendemmultiplastarefasMuitossucessosiniciaisnotaveisocorreramcampotraducaoautomaticadevidoespecialmentetrabalhopesquisaIBMdesenvolveumodelosestatisticoselaboradosEstessistemascapazestirarproveitocorporatextuaismultilinguesexistentesproduzidosParlamentoCanadaUniaoEuropeiaresultadoleisexigemtraducaotodosprocessosgovernamentaistodaslinguasoficiaispaisesNoentantomaioriasistemasdependiacorporadesenvolvidoespecificamentetarefasimplementadassistemasmuitasvezescontinuasendograndelimitacaosucessoComoresultadograndequantidadepesquisapassouquantidadesdadoslimitadasmetodosaprendizagemeficazesPesquisasrecentestemconcentradocadavezalgoritmosaprendizagemsemisupervisionadossupervisaoEssesalgoritmoscapazesaprenderdadosanotadosmanualmenterespostasdesejadasusandocombinacaodadosanotadosanotadosGeralmentetarefatrabalhosaaprendizagemsupervisionadanormalmenteproduzresultadosmenosprecisosquantidadeespecificadadosentradaNoentantoenormequantidadedadosanotadosdisponiveisincluindooutrascoisastodoconteudoWorldWideWebmuitasvezespodecompensarresultadosinferioresUsandoaprendizagemautomaticaaprendizadomaquinaOsalgoritmosmodernosPLNbaseiamseaprendizagemmecanicaespecialmenteaprendizagemmaquinasestatisticasOparadigmaaprendizagemmecanicadiferentemaioriatentativasanterioresprocessamentolinguagemAnteriormenteimplementacoestarefasprocessamentolinguagemenvolviamcodificacaodiretagrandesconjuntosregrasOparadigmaaprendizagemautomaticaaprendizagemautomaticainduzaprendizagemautomaticaregrasatravesanalisescorporaexemplostipicosmundorealinvesusaralgoritmosgeraisaprendizagemmuitasvezesemborasemprebaseadosinferenciaestatisticaUmcorpuspluralcorporaconjuntodocumentosfrasesindividuaisanotadosmaovalorescorretosseremaprendidosMuitasclassesdiferentesalgoritmosaprendizadomaquinaaplicadastarefasPLNEssesalgoritmostomamentradagrandeconjuntorecursosgeradospartirdadosentradaAlgunsalgoritmosusadosarvoresdecisaoproduziamsistemasregrasrigidassemelhantessistemasregrasmanuscritascomunsNoentantocadavezpesquisaconcentradomodelosestatisticostomamdecisoesflexiveisprobabilisticasbaseadasagregarpesosreaiscadacaracteristicaentradaTaismodelostemvantagempoderexpressarcertezarelativamuitasrespostaspossiveisdiferentesvezapenasproduzindoresultadosconfiaveismodeloincluidocomponentesistemamaiorOssistemasbaseadosalgoritmosaprendizagemmecanicatemmuitasvantagensrelacaoregrasproduzidasmanualmenteOsprocedimentosaprendizagemusadosduranteaprendizagemmaquinafocamseautomaticamentecasoscomunspassoescrevemregrasmaoobviosentidoesforcodeveserdirigidoOsprocedimentosaprendizagemautomaticapodemfazerusoalgoritmosinferenciaestatisticaproduzirmodelosrobustosentradasfamiliaresexemplocontendopalavrasestruturasvistasantesentradaserroneasexemplopalavraspalavrasincorretamenteomitidasGeralmentelidarentradasformaregrasmanuscritassistemasregrasmanuscritastomamdecisoessuavesextremamentetrabalhosopropensoerrosdemoradoSistemasbaseadosaprenderautomaticamenteregraspodemserprecisossimplesmentefornecendodadosentradaNoentantosistemasbaseadosregrasescritasmaopodemsertornadosprecisosaumentandocomplexidaderegrastarefadificilEmparticularlimitecomplexidadesistemasbaseadosregrasartesanaisalemquaissistemastornamcadavezincontrolaveisNoentantocriacaodadosentradasistemasaprendizadomaquinarequersimplesmenteaumentocorrespondentenumerohorastrabalhadashumanosgeralmenteaumentossignificativoscomplexidadeprocessoanotacaoOsubcampoPLNdedicadoabordagensaprendizagemconhecidoaprendizagemlinguanaturalNLLconferenciaCoNLLorgaocentralSIGNLLpatrocinadosACLreconhecendoligacoeslinguisticacomputacionalaquisicaolinguagemQuandoobjetivopesquisaaprendizagemlinguagemcomputacionalentendersobreaquisicaolinguagemhumanapsicolinguisticaNLLsobrepoesecamporelacionadopsicolinguisticacomputacionalAplicacoesprincipaisAlistagemseguirtrazalgunstrabalhospesquisadasPLNNotealgunstemaplicacoesmundorealenquantooutrasservemfrequentementetarefassecundariasusadasauxiliarresolucaotarefasmaioresOdistinguetarefasoutrastarefaspotenciaisreaisPLNapenasvolumepesquisadedicadofatocadatipicamentedefinicaoproblemabemespecificadametricapadraoavaliartarefacorporapadraotarefapodeseravaliadacompeticoesdedicadastarefaespecificaSumarizacaoautomaticaProduzresumolegivelpartetextoMuitasvezesusadofornecerresumostextotipoconhecidoartigossecaofinanceirajornalResolucaocorreferenciaDadafrasepedacomaiortextodeterminaquaispalavrasmencoesreferemmesmosobjetosentidadesAresolucaoanaforaexemploespecificodessatarefaespecificamentepreocupadacombinarpronomessubstantivosnomesquaisreferemAtarefageralresolucaocorreferenciaincluiidentificacaochamadosrelacionamentosponteenvolvendoexpressoesreferenciaPorexemplofraseEleentroucasaJoaoportafrenteportafrenteexpressaoreferenciarelacaoponteseridentificadafatoportaserreferidaportafrenteJohnsinvesalgumaoutraestruturapodeserreferidaAnaliseDiscursoEstarubricaincluiserietarefasrelacionadasUmatarefaidentificarestruturadiscursivatextoconectadonaturezarelacoesdiscursivassentencasexemploelaboracaoexplicacaocontrasteOutrapossiveltarefareconhecerclassificaratosfalapedacotextoexemploperguntasimnaoperguntaconteudofraseafirmacaoetcMaquinatraducaoTraduzirautomaticamentetextolinguagemhumanaoutraEstetarefasdificeisfazpartetipoproblemasconhecidosAIcompleteexigindotodosdiferentestiposconhecimentohumanospossuemgramaticasemanticafatossobremundorealetcresolveloadequadamenteSegmentacaomorfologicaSeparapalavrasmorfemasindividuaisidentificaclassesmorfemasAdificuldadedestatarefadependecomplexidademorfologiaestruturapalavraslinguagemsendoconsideradaOinglespossuimorfologiabastantesimplesespecialmentemorfologiaflexionalportantopossivelignorartarefainteiramentesimplesmentemodelartodasformaspossiveispalavraexemploopenopensopenedopeningpalavrasseparadasEmlinguasturcoMeiteilinguaindianafortementeaglutinadaentantotalabordagempossivelvezcadaentradadicionariomilharesformaspalavraspossiveisReconhecimentoentidadenomeadaNERDadofluxotextodeterminaquaisitensmapatextonomespropriospessoaslocaistipocadanomeexemplopessoalocalorganizacaoEmboracapitalizacaopossaajudarreconhecerentidadesnomeadasidiomasinglesinformacoespodemajudardeterminartipoentidadenomeadaalgunscasossaosimprecisasinsuficientesPorexemploprimeirapalavrafrasecapitalizadaentidadesnomeadasmuitasvezesabrangemvariaspalavrasapenasalgumascapitalizadasAlemdissomuitasoutraslinguagensscriptsnaoocidentaisexemplochinesarabetemnenhumacapitalizacaolinguasmaiusculaspodemdistinguirnomesPorexemploalemaocapitalizatodossubstantivosindependentementereferiremnomesfrancesespanholcapitalizamnomesservemadjetivosGeracaolinguanaturalConverteinformacoesbancosdadoscomputadorintencoessemanticaslinguagemhumanalegivelCompreensaolinguanaturalConvertepedacostextorepresentacoesformaisestruturaslogicaprimeiraordemfaceismanipularprogramascomputadorAcompreensaolinguanaturalenvolveidentificacaosemanticapretendidapartirmultiplasemanticapossivelpodeserderivadaexpressaolinguanaturalgeralmentetomaformanotacaoorganizadaconceitoslinguagensnaturaisEntretantointroducaocriacaolinguagemmetamodeloontologiaeficientessolucoesempiricasUmaformalizacaoexplicitasemanticalinguasnaturaisconfusoessuposicoesimplicitasclosedworldassumptionCWAversusopenworldassumptionsubjetivaSimNaoversusobjetivoVerdadeiroFalsoesperadaconstrucaobaseformalizacaosemanticaReconhecimentoopticocaracteresOCRDadaimagemrepresentatextoimpressodeterminatextocorrespondenteMarcacaoclassegramaticalDadasentencadeterminaclassegramaticalcadapalavraMuitaspalavrasespecialmentecomunspodemservirmultiplaspartesdiscursoEminglesexemplobookpodesersubstantivothebookonthetableverbobookflightSetpodesersubstantivoverboadjetivoEoutpodeserqualquermenoscincodiferentespartesfalaAlgumaslinguastemambiguidadeoutrasAslinguaspoucamorfologiaflexionalinglesparticularmentepropensastalambiguidadeOchinespropensotalambiguidadeporquelinguatonalduranteverbalizacaoTalinflexaofacilmentetransmitidaatravesentidadesempregadasdentroortografiatransmitirsignificadopretendidoAnalisesintaticaParsingDeterminaarvoreanaliseanalisegramaticalfraseAgramaticalinguagensnaturaisambiguafrasestipicastemmultiplasanalisespossiveisNaverdadesurpreendentementefrasetipicapodehavermilharesanalisespotencialmaioriaquaispareceracompletamenteabsurdaserhumanoRespostasperguntasDadaquestaolinguagemhumanadeterminarespostaAsperguntastipicastemrespostacorretaespecificaQualcapitalCanadavezesperguntasabertasconsideradasQualsignificadovidaTrabalhosrecentestemanalisadoquestoesaindacomplexasExtracaorelacionamentoIdentificarelacoesentidadesnomeadasexemplocasadobasetextosQuebrafrasessentenceboundarydisambiguationEncontralimitesfrasepedacotextoOslimitesfrasesnormalmentemarcadaspontosoutrossinaispontuacaomesmoscaracterespodemserviroutrospropositosAnalisesubjetividadesentimentanalysisopinionminingExtraiinformacoessubjetivasgeralmenteconjuntodocumentosmuitasvezesusandorevisoesonlinedeterminarpolaridadesobreobjetosespecificosEespecialmenteutilidentificartendenciasopiniaopublicamidiassociaisfinsmarketingReconhecimentofalaDadoclipesompessoapessoasfalandodeterminarepresentacaotextualdiscursoEopostosintesefalaareasdificeisconhecidaAIcompleteNafalanaturalquasepausaspalavrassucessivassegmentacaofalasubtarefanecessariareconhecimentofalaNotasemaiorialinguagensfaladassonsrepresentamletrassucessivasmisturamsiprocessodenominadocoarticulacaomodoconversaosinalanalogicocaracteresdiscretospodeserprocessodificilserrealizadoSegmentacaofalaDadoclipesompessoapessoasfalandoseparaopalavrasUmasubaplicacaoreconhecimentofalanormalmenteagrupadaeleAnalisemorfologicareconhecimentotopicosDadopedacotextoseparaosegmentoscadaquaisdedicadotopicoidentificatopicosegmentoAnalisemorfologicasegmentacaopalavrasSeparapedacotextocontinuopalavrasseparadasParalinguainglesbastantetrivialvezpalavrasnormalmenteseparadasespacosNoentantoalgumaslinguasescritaschinesjaponestailandesmarcamlimitespalavrastalformanessaslinguassegmentacaotextotarefasignificativarequerconhecimentovocabulariomorfologiapalavraslinguaDesambiguacaoMuitaspalavrastemsignificadoassimselecionarsignificadofazsentidocontextoParaproblemageraldadalistapalavrassentidospalavrasassociadasdicionariorecursoonlineWordNetEmalgunscasosconjuntostarefasrelacionadasagrupadossubcamposPLNfrequentementeconsideradosseparadamentePLNtodoexemplosseguirRecuperacaoinformacaoIRTratasearmazenarpesquisarrecuperarinformacoesEcamposeparadodentrocienciacomputacaopertobancosdadosIRbaseiaalgunsmetodosPLNexemplostemmingAlgumaspesquisasaplicacoesatuaisprocurampreencherlacunaIRPLNExtracaoinformacaoIETratasegeralextracaoinformacaosemanticapartirtextoAbrangetarefasreconhecimentoentidademencionadaresolucaocorreferenciarelacionamentoextracaoetcProcessamentovozAbrangereconhecimentofalasintesefalatarefasrelacionadasOutrastarefasincluemIdentificacaolinguamaternaStemizacaoSimplificacaotextoSintesefalaRevisaotextoPesquisalinguanaturalExpansaoconsultaPontuacaoensaioautomatizadoTruecasingEstatisticaArtigoprincipalGramaticaestocasticaOprocessamentoestatisticolinguanaturalutilizametodosestocasticosprobabilisticosestatisticosresolveralgumasdificuldadesdiscutidasacimaespecialmentesurgemporquefraseslongasambiguasprocessadasgramaticasrealistasproduzindomilharesmilhoesanalisespossiveisMetodosdesambiguacaoenvolvemmuitasvezesusocorporamodelosMarkovOprojetoESPRITPlideradoCSELTexplorouproblemareconhecimentofalacomparandoabordagembaseadaconhecimentoestatisticaresultadoescolhidomodelocompletamenteestatisticoUmprimeirosmodeloscompreensaoestatisticalinguanaturalintroduzidoRobertoPieracciniEstherLevinChinHuiLeeBellLaboratoriesOPLNcompreendetodasabordagensquantitativasprocessamentoautomatizadolinguagemincluindomodelagemprobabilisticateoriainformacaoalgebralinearAtecnologiaPLNestatisticovemprincipalmenteaprendizagemautomaticamineracaodadoscamposinteligenciaartificialenvolvemaprendizadopartirdadosAvaliacaoOobjetivoavaliacaoPLNmedidaqualidadesalgoritmosistemafimdeterminaralgoritmoatendemetasprojetistassistemaatendimentonecessidadesusuariosInvestigacaoavaliacaoPLNganhadoatencaoporquedefinicaocriteriosavaliacaoformaespecificarprecisamenteproblemasPLNUmametricaavaliacaoPLNsistemaalgoritmicopermiteintegracaocompreensaolinguagemgeracaolinguagemUmconjuntoprecisocriteriosavaliacaopodeseraplicadoprincipalmenteavaliacoesmetricaspodendopermitirvariasequipescomparemsolucoesdeterminadoproblemaPLNCronologiaavaliacaoEminiciouseProjectoEspritPavaliouTecnologiasFalaincluindotopicosgeraisSintaxeSemanticacomparandoabordagensbaseadasregrasestatisticasEmprimeiracampanhaavaliacaotextosescritosparecesercampanhadedicadacompreensaomensagemPalletOprojetoParsevalGEIGcomparougramaticasfraseestruturaBlackHouveseriecampanhasprojetoTipstersobretarefasresumotraducaopesquisaHirschmanEmAlemanhaMorpholympicscomparoumarcadoresmorfologicosalemaesAscampanhasSensevalRomansevalrealizadasobjetivosdesambiguacaosemanticaEmcampanhaSparklecomparouanalisadoressintaticosquatroidiomasdiferentesinglesfrancesalemaoitalianoNaFrancaprojetoGracecomparouconjuntomarcadoresfrancesAddaEmduranteprojetoTechnolangueEasycomparadosanalisadoresfrancesAavaliacaolargaescalaanalisadoresdependenciarealizadacontextotarefascompartilhadasCoNLLNaFrancaambitoprojectoANRPassagefinalcomparadosanalisadoresfrancesEmItaliacampanhaEVALITArealizadacompararvariasferramentasPLNvozsiteitalianoEVALITADiferentestiposavaliacaoAvaliacaointrinsecavsextrinsecaAavaliacaointrinsecaconsiderasistemaPNLisoladocaracterizadesempenhorelacaoresultadopadraoexcelenciaconformedefinidoavaliadoresAavaliacaoextrinsecachamadaavaliacaousoconsiderasistemaPLNcenariocomplexosistemaembutidofuncaoprecisausuariohumanoOdesempenhoextrinsecosistemaentaocaracterizadotermosutilidaderelacaotarefaglobalsistemaestranhoutilizadorhumanoPorexemploconsidereanalisadorsintaticobaseadosaidaalgumapartetaggerfalaPOSUmaavaliacaointrinsecaexecutariamarcadorPOSdadosestruturadoscomparariasaidasistemamarcadorPOSsaidapadraoouroUmaavaliacaoextrinsecaexecutariaanalisadoralgumoutromarcadorPOSseguidamarcadorPOSnovocomparaprecisaoanaliseCaixapretavsAvaliacaocaixavidroAavaliacaocaixapretarequeralguemexecutesistemaPLNconjuntodadosamostramedirserieparametrosrelacionadosqualidadeprocessovelocidadeconfiabilidadeconsumorecursosprincipalmentequalidaderesultadoprecisaoanotacaodadosfidelidadetraducaoAavaliacaocaixavidroexaminaconcepcaosistemaOsalgoritmosimplementadosrecursoslinguisticosutilizatamanhovocabularioexpressaodefinidacardinalidadeDadacomplexidadeproblemasPLNmuitasvezesdificilpreverdesempenhoapenasbaseavaliacaocaixavidroMastipoavaliacaoinformativodizrespeitoanaliseerrosdesenvolvimentosfuturossistemaAutomaticavsavaliacaomanualEmmuitoscasosprocedimentosautomaticospodemserdefinidosavaliarsistemaPLNcomparandosaidapadraoexcelenciaEmboracustoreproduzirpadraoexcelenciapossaserbastanteelevadoavaliacaoautomaticabootstrappingsobremesmosdadosentradapodeserrepetidaquantasvezesnecessariocustosadicionaisdesordenadosNoentantomuitosproblemasPLNdefinicaoprecisapadraoexcelenciatarefacomplexapoderevelarimpossivelacordointeranotadorinsuficienteAavaliacaomanualmelhorrealizadajuizeshumanosinstruidosestimarqualidadesistemafrequentementeamostraproducaobaseseriecriteriosEmboragracascompetencialinguisticajuizeshumanospossamserconsideradosreferenciaserietarefasprocessamentolinguagemvariacaoconsideravelclassificacoesEavaliacaoautomaticavezesreferidaavaliacaoobjetivaenquantoavaliacaohumanaperspectivaPadronizacaoUmsubcomiteISOtrabalhandofacilitarinteroperabilidaderecursoslexicaisprogramasPLNOsubcomitefazparteISOTCchamadoISOTCSCAlgunspadroesISOpublicadosmaioriaconstrucaoprincipalmenterepresentacaolexicoverLMFanotacaoregistrocategoriadadosFerramentasExpertSystemSpAGeneralArchitectureTextEngineeringModularAudioRecognitionFrameworkNaturalLanguageToolkitNLTKbibliotecaPythonOpenNLPVejaMineracaotextobiomedicaProcessoprocessamentocompostoRevisaoassistidacomputadorLinguagemnaturalcontroladaProcessamentolinguisticoprofundoAuxilioleituralinguasestrangeirasAuxilioescritalinguaestrangeiraTecnologialinguagemAalocacaoDirichletLatenteLDAIndexacaosemanticalatenteListaferramentasprocessamentolinguanaturalMapaLREProgramacaolinguanaturalReificacaolinguisticaDobradurasemanticaSistemadialogofaladoVetorPensamentoPesquisaTransderivacionalWordvecReferenciasLeituraadicionalStevenBirdEwanKleinandEdwardLoperNaturalLanguageProcessingwithPythonOReillyMediaISBNDanielJurafskyandJamesHMartinSpeechandLanguageProcessingndeditionPearsonPrenticeHallISBNChristopherDManningPrabhakarRaghavanandHinrichSchutzeIntroductiontoInformationRetrievalCambridgeUniversityPressISBNOfficialhtmlandpdfversionsavailablewithoutchargeChristopherDManningandHinrichSchutzeFoundationsofStatisticalNaturalLanguageProcessingTheMITPressISBNDavidMWPowersandChristopherCRTurkMachineLearningofNaturalLanguageSpringerVerlagISBN\n"
          ],
          "name": "stdout"
        }
      ]
    },
    {
      "cell_type": "markdown",
      "metadata": {
        "id": "qprZRw5rE2XH",
        "colab_type": "text"
      },
      "source": [
        "Depois carregue a string de tokens (<b>str_tokens</b>) no modelo <b> nlp </b>, carregado em um dos passos anteriores.\n",
        "\n",
        "```python\n",
        "doc = nlp(str_tokens)\n",
        "```"
      ]
    },
    {
      "cell_type": "code",
      "metadata": {
        "id": "yvkUDdatE2XI",
        "colab_type": "code",
        "colab": {}
      },
      "source": [
        "doc = nlp(str_tokens)"
      ],
      "execution_count": null,
      "outputs": []
    },
    {
      "cell_type": "markdown",
      "metadata": {
        "id": "9EryUAZ-E2XJ",
        "colab_type": "text"
      },
      "source": [
        "Verifique o tipo da variável <b> doc </b>.\n",
        "Observe que é do tipo spacy.tokens.doc.Doc"
      ]
    },
    {
      "cell_type": "code",
      "metadata": {
        "id": "0Uc-mP5uE2XK",
        "colab_type": "code",
        "colab": {
          "base_uri": "https://localhost:8080/",
          "height": 34
        },
        "outputId": "ed3912d1-7a58-4835-e8db-d15f17387b48"
      },
      "source": [
        "type(doc)"
      ],
      "execution_count": null,
      "outputs": [
        {
          "output_type": "execute_result",
          "data": {
            "text/plain": [
              "spacy.tokens.doc.Doc"
            ]
          },
          "metadata": {
            "tags": []
          },
          "execution_count": 201
        }
      ]
    },
    {
      "cell_type": "markdown",
      "metadata": {
        "id": "NNwRqjPXE2XM",
        "colab_type": "text"
      },
      "source": [
        "Como tipo da variável doc é do tipo spacy.tokens.doc.Doc.\n",
        "Apenas é preciso iterar em cada token e retornar o atributo <b> lemma_</b>"
      ]
    },
    {
      "cell_type": "code",
      "metadata": {
        "id": "ZOe5nKehE2XN",
        "colab_type": "code",
        "colab": {}
      },
      "source": [
        "token_lemm = [d.lemma_ for d in doc ]"
      ],
      "execution_count": null,
      "outputs": []
    },
    {
      "cell_type": "code",
      "metadata": {
        "id": "P78mZ_giE2XP",
        "colab_type": "code",
        "colab": {
          "base_uri": "https://localhost:8080/",
          "height": 34
        },
        "outputId": "170eb45f-7743-4e9c-fd5a-3b398668114a"
      },
      "source": [
        "len(token_lemm)"
      ],
      "execution_count": null,
      "outputs": [
        {
          "output_type": "execute_result",
          "data": {
            "text/plain": [
              "1"
            ]
          },
          "metadata": {
            "tags": []
          },
          "execution_count": 222
        }
      ]
    },
    {
      "cell_type": "markdown",
      "metadata": {
        "id": "rv5WvPOdE2XR",
        "colab_type": "text"
      },
      "source": [
        "###  Plote a frequência dos tokens após o processo de lematização. Utilize o método plot_frequencia_tokens() para plotar o gráfico. Também imprima o tamanho desta lista. "
      ]
    },
    {
      "cell_type": "code",
      "metadata": {
        "id": "u30lz0JhE2XR",
        "colab_type": "code",
        "colab": {
          "base_uri": "https://localhost:8080/",
          "height": 391
        },
        "outputId": "b6d1997e-9df4-4287-91d7-aa374b34d34a"
      },
      "source": [
        "#token_lemm\n",
        "plot_frequencia_tokens(token_lemm)"
      ],
      "execution_count": null,
      "outputs": [
        {
          "output_type": "error",
          "ename": "ValueError",
          "evalue": "ignored",
          "traceback": [
            "\u001b[0;31m---------------------------------------------------------------------------\u001b[0m",
            "\u001b[0;31mValueError\u001b[0m                                Traceback (most recent call last)",
            "\u001b[0;32m/usr/local/lib/python3.6/dist-packages/IPython/core/formatters.py\u001b[0m in \u001b[0;36m__call__\u001b[0;34m(self, obj)\u001b[0m\n\u001b[1;32m    332\u001b[0m                 \u001b[0;32mpass\u001b[0m\u001b[0;34m\u001b[0m\u001b[0;34m\u001b[0m\u001b[0m\n\u001b[1;32m    333\u001b[0m             \u001b[0;32melse\u001b[0m\u001b[0;34m:\u001b[0m\u001b[0;34m\u001b[0m\u001b[0;34m\u001b[0m\u001b[0m\n\u001b[0;32m--> 334\u001b[0;31m                 \u001b[0;32mreturn\u001b[0m \u001b[0mprinter\u001b[0m\u001b[0;34m(\u001b[0m\u001b[0mobj\u001b[0m\u001b[0;34m)\u001b[0m\u001b[0;34m\u001b[0m\u001b[0;34m\u001b[0m\u001b[0m\n\u001b[0m\u001b[1;32m    335\u001b[0m             \u001b[0;31m# Finally look for special method names\u001b[0m\u001b[0;34m\u001b[0m\u001b[0;34m\u001b[0m\u001b[0;34m\u001b[0m\u001b[0m\n\u001b[1;32m    336\u001b[0m             \u001b[0mmethod\u001b[0m \u001b[0;34m=\u001b[0m \u001b[0mget_real_method\u001b[0m\u001b[0;34m(\u001b[0m\u001b[0mobj\u001b[0m\u001b[0;34m,\u001b[0m \u001b[0mself\u001b[0m\u001b[0;34m.\u001b[0m\u001b[0mprint_method\u001b[0m\u001b[0;34m)\u001b[0m\u001b[0;34m\u001b[0m\u001b[0;34m\u001b[0m\u001b[0m\n",
            "\u001b[0;32m/usr/local/lib/python3.6/dist-packages/IPython/core/pylabtools.py\u001b[0m in \u001b[0;36m<lambda>\u001b[0;34m(fig)\u001b[0m\n\u001b[1;32m    239\u001b[0m \u001b[0;34m\u001b[0m\u001b[0m\n\u001b[1;32m    240\u001b[0m     \u001b[0;32mif\u001b[0m \u001b[0;34m'png'\u001b[0m \u001b[0;32min\u001b[0m \u001b[0mformats\u001b[0m\u001b[0;34m:\u001b[0m\u001b[0;34m\u001b[0m\u001b[0;34m\u001b[0m\u001b[0m\n\u001b[0;32m--> 241\u001b[0;31m         \u001b[0mpng_formatter\u001b[0m\u001b[0;34m.\u001b[0m\u001b[0mfor_type\u001b[0m\u001b[0;34m(\u001b[0m\u001b[0mFigure\u001b[0m\u001b[0;34m,\u001b[0m \u001b[0;32mlambda\u001b[0m \u001b[0mfig\u001b[0m\u001b[0;34m:\u001b[0m \u001b[0mprint_figure\u001b[0m\u001b[0;34m(\u001b[0m\u001b[0mfig\u001b[0m\u001b[0;34m,\u001b[0m \u001b[0;34m'png'\u001b[0m\u001b[0;34m,\u001b[0m \u001b[0;34m**\u001b[0m\u001b[0mkwargs\u001b[0m\u001b[0;34m)\u001b[0m\u001b[0;34m)\u001b[0m\u001b[0;34m\u001b[0m\u001b[0;34m\u001b[0m\u001b[0m\n\u001b[0m\u001b[1;32m    242\u001b[0m     \u001b[0;32mif\u001b[0m \u001b[0;34m'retina'\u001b[0m \u001b[0;32min\u001b[0m \u001b[0mformats\u001b[0m \u001b[0;32mor\u001b[0m \u001b[0;34m'png2x'\u001b[0m \u001b[0;32min\u001b[0m \u001b[0mformats\u001b[0m\u001b[0;34m:\u001b[0m\u001b[0;34m\u001b[0m\u001b[0;34m\u001b[0m\u001b[0m\n\u001b[1;32m    243\u001b[0m         \u001b[0mpng_formatter\u001b[0m\u001b[0;34m.\u001b[0m\u001b[0mfor_type\u001b[0m\u001b[0;34m(\u001b[0m\u001b[0mFigure\u001b[0m\u001b[0;34m,\u001b[0m \u001b[0;32mlambda\u001b[0m \u001b[0mfig\u001b[0m\u001b[0;34m:\u001b[0m \u001b[0mretina_figure\u001b[0m\u001b[0;34m(\u001b[0m\u001b[0mfig\u001b[0m\u001b[0;34m,\u001b[0m \u001b[0;34m**\u001b[0m\u001b[0mkwargs\u001b[0m\u001b[0;34m)\u001b[0m\u001b[0;34m)\u001b[0m\u001b[0;34m\u001b[0m\u001b[0;34m\u001b[0m\u001b[0m\n",
            "\u001b[0;32m/usr/local/lib/python3.6/dist-packages/IPython/core/pylabtools.py\u001b[0m in \u001b[0;36mprint_figure\u001b[0;34m(fig, fmt, bbox_inches, **kwargs)\u001b[0m\n\u001b[1;32m    123\u001b[0m \u001b[0;34m\u001b[0m\u001b[0m\n\u001b[1;32m    124\u001b[0m     \u001b[0mbytes_io\u001b[0m \u001b[0;34m=\u001b[0m \u001b[0mBytesIO\u001b[0m\u001b[0;34m(\u001b[0m\u001b[0;34m)\u001b[0m\u001b[0;34m\u001b[0m\u001b[0;34m\u001b[0m\u001b[0m\n\u001b[0;32m--> 125\u001b[0;31m     \u001b[0mfig\u001b[0m\u001b[0;34m.\u001b[0m\u001b[0mcanvas\u001b[0m\u001b[0;34m.\u001b[0m\u001b[0mprint_figure\u001b[0m\u001b[0;34m(\u001b[0m\u001b[0mbytes_io\u001b[0m\u001b[0;34m,\u001b[0m \u001b[0;34m**\u001b[0m\u001b[0mkw\u001b[0m\u001b[0;34m)\u001b[0m\u001b[0;34m\u001b[0m\u001b[0;34m\u001b[0m\u001b[0m\n\u001b[0m\u001b[1;32m    126\u001b[0m     \u001b[0mdata\u001b[0m \u001b[0;34m=\u001b[0m \u001b[0mbytes_io\u001b[0m\u001b[0;34m.\u001b[0m\u001b[0mgetvalue\u001b[0m\u001b[0;34m(\u001b[0m\u001b[0;34m)\u001b[0m\u001b[0;34m\u001b[0m\u001b[0;34m\u001b[0m\u001b[0m\n\u001b[1;32m    127\u001b[0m     \u001b[0;32mif\u001b[0m \u001b[0mfmt\u001b[0m \u001b[0;34m==\u001b[0m \u001b[0;34m'svg'\u001b[0m\u001b[0;34m:\u001b[0m\u001b[0;34m\u001b[0m\u001b[0;34m\u001b[0m\u001b[0m\n",
            "\u001b[0;32m/usr/local/lib/python3.6/dist-packages/matplotlib/backend_bases.py\u001b[0m in \u001b[0;36mprint_figure\u001b[0;34m(self, filename, dpi, facecolor, edgecolor, orientation, format, bbox_inches, **kwargs)\u001b[0m\n\u001b[1;32m   2124\u001b[0m                     \u001b[0morientation\u001b[0m\u001b[0;34m=\u001b[0m\u001b[0morientation\u001b[0m\u001b[0;34m,\u001b[0m\u001b[0;34m\u001b[0m\u001b[0;34m\u001b[0m\u001b[0m\n\u001b[1;32m   2125\u001b[0m                     \u001b[0mbbox_inches_restore\u001b[0m\u001b[0;34m=\u001b[0m\u001b[0m_bbox_inches_restore\u001b[0m\u001b[0;34m,\u001b[0m\u001b[0;34m\u001b[0m\u001b[0;34m\u001b[0m\u001b[0m\n\u001b[0;32m-> 2126\u001b[0;31m                     **kwargs)\n\u001b[0m\u001b[1;32m   2127\u001b[0m             \u001b[0;32mfinally\u001b[0m\u001b[0;34m:\u001b[0m\u001b[0;34m\u001b[0m\u001b[0;34m\u001b[0m\u001b[0m\n\u001b[1;32m   2128\u001b[0m                 \u001b[0;32mif\u001b[0m \u001b[0mbbox_inches\u001b[0m \u001b[0;32mand\u001b[0m \u001b[0mrestore_bbox\u001b[0m\u001b[0;34m:\u001b[0m\u001b[0;34m\u001b[0m\u001b[0;34m\u001b[0m\u001b[0m\n",
            "\u001b[0;32m/usr/local/lib/python3.6/dist-packages/matplotlib/backends/backend_agg.py\u001b[0m in \u001b[0;36mprint_png\u001b[0;34m(self, filename_or_obj, metadata, pil_kwargs, *args, **kwargs)\u001b[0m\n\u001b[1;32m    512\u001b[0m         }\n\u001b[1;32m    513\u001b[0m \u001b[0;34m\u001b[0m\u001b[0m\n\u001b[0;32m--> 514\u001b[0;31m         \u001b[0mFigureCanvasAgg\u001b[0m\u001b[0;34m.\u001b[0m\u001b[0mdraw\u001b[0m\u001b[0;34m(\u001b[0m\u001b[0mself\u001b[0m\u001b[0;34m)\u001b[0m\u001b[0;34m\u001b[0m\u001b[0;34m\u001b[0m\u001b[0m\n\u001b[0m\u001b[1;32m    515\u001b[0m         \u001b[0;32mif\u001b[0m \u001b[0mpil_kwargs\u001b[0m \u001b[0;32mis\u001b[0m \u001b[0;32mnot\u001b[0m \u001b[0;32mNone\u001b[0m\u001b[0;34m:\u001b[0m\u001b[0;34m\u001b[0m\u001b[0;34m\u001b[0m\u001b[0m\n\u001b[1;32m    516\u001b[0m             \u001b[0;32mfrom\u001b[0m \u001b[0mPIL\u001b[0m \u001b[0;32mimport\u001b[0m \u001b[0mImage\u001b[0m\u001b[0;34m\u001b[0m\u001b[0;34m\u001b[0m\u001b[0m\n",
            "\u001b[0;32m/usr/local/lib/python3.6/dist-packages/matplotlib/backends/backend_agg.py\u001b[0m in \u001b[0;36mdraw\u001b[0;34m(self)\u001b[0m\n\u001b[1;32m    386\u001b[0m         \u001b[0mDraw\u001b[0m \u001b[0mthe\u001b[0m \u001b[0mfigure\u001b[0m \u001b[0musing\u001b[0m \u001b[0mthe\u001b[0m \u001b[0mrenderer\u001b[0m\u001b[0;34m.\u001b[0m\u001b[0;34m\u001b[0m\u001b[0;34m\u001b[0m\u001b[0m\n\u001b[1;32m    387\u001b[0m         \"\"\"\n\u001b[0;32m--> 388\u001b[0;31m         \u001b[0mself\u001b[0m\u001b[0;34m.\u001b[0m\u001b[0mrenderer\u001b[0m \u001b[0;34m=\u001b[0m \u001b[0mself\u001b[0m\u001b[0;34m.\u001b[0m\u001b[0mget_renderer\u001b[0m\u001b[0;34m(\u001b[0m\u001b[0mcleared\u001b[0m\u001b[0;34m=\u001b[0m\u001b[0;32mTrue\u001b[0m\u001b[0;34m)\u001b[0m\u001b[0;34m\u001b[0m\u001b[0;34m\u001b[0m\u001b[0m\n\u001b[0m\u001b[1;32m    389\u001b[0m         \u001b[0;31m# Acquire a lock on the shared font cache.\u001b[0m\u001b[0;34m\u001b[0m\u001b[0;34m\u001b[0m\u001b[0;34m\u001b[0m\u001b[0m\n\u001b[1;32m    390\u001b[0m         \u001b[0;32mwith\u001b[0m \u001b[0mRendererAgg\u001b[0m\u001b[0;34m.\u001b[0m\u001b[0mlock\u001b[0m\u001b[0;34m,\u001b[0m\u001b[0;31m \u001b[0m\u001b[0;31m\\\u001b[0m\u001b[0;34m\u001b[0m\u001b[0;34m\u001b[0m\u001b[0m\n",
            "\u001b[0;32m/usr/local/lib/python3.6/dist-packages/matplotlib/backends/backend_agg.py\u001b[0m in \u001b[0;36mget_renderer\u001b[0;34m(self, cleared)\u001b[0m\n\u001b[1;32m    402\u001b[0m                           and getattr(self, \"_lastKey\", None) == key)\n\u001b[1;32m    403\u001b[0m         \u001b[0;32mif\u001b[0m \u001b[0;32mnot\u001b[0m \u001b[0mreuse_renderer\u001b[0m\u001b[0;34m:\u001b[0m\u001b[0;34m\u001b[0m\u001b[0;34m\u001b[0m\u001b[0m\n\u001b[0;32m--> 404\u001b[0;31m             \u001b[0mself\u001b[0m\u001b[0;34m.\u001b[0m\u001b[0mrenderer\u001b[0m \u001b[0;34m=\u001b[0m \u001b[0mRendererAgg\u001b[0m\u001b[0;34m(\u001b[0m\u001b[0mw\u001b[0m\u001b[0;34m,\u001b[0m \u001b[0mh\u001b[0m\u001b[0;34m,\u001b[0m \u001b[0mself\u001b[0m\u001b[0;34m.\u001b[0m\u001b[0mfigure\u001b[0m\u001b[0;34m.\u001b[0m\u001b[0mdpi\u001b[0m\u001b[0;34m)\u001b[0m\u001b[0;34m\u001b[0m\u001b[0;34m\u001b[0m\u001b[0m\n\u001b[0m\u001b[1;32m    405\u001b[0m             \u001b[0mself\u001b[0m\u001b[0;34m.\u001b[0m\u001b[0m_lastKey\u001b[0m \u001b[0;34m=\u001b[0m \u001b[0mkey\u001b[0m\u001b[0;34m\u001b[0m\u001b[0;34m\u001b[0m\u001b[0m\n\u001b[1;32m    406\u001b[0m         \u001b[0;32melif\u001b[0m \u001b[0mcleared\u001b[0m\u001b[0;34m:\u001b[0m\u001b[0;34m\u001b[0m\u001b[0;34m\u001b[0m\u001b[0m\n",
            "\u001b[0;32m/usr/local/lib/python3.6/dist-packages/matplotlib/backends/backend_agg.py\u001b[0m in \u001b[0;36m__init__\u001b[0;34m(self, width, height, dpi)\u001b[0m\n\u001b[1;32m     90\u001b[0m         \u001b[0mself\u001b[0m\u001b[0;34m.\u001b[0m\u001b[0mwidth\u001b[0m \u001b[0;34m=\u001b[0m \u001b[0mwidth\u001b[0m\u001b[0;34m\u001b[0m\u001b[0;34m\u001b[0m\u001b[0m\n\u001b[1;32m     91\u001b[0m         \u001b[0mself\u001b[0m\u001b[0;34m.\u001b[0m\u001b[0mheight\u001b[0m \u001b[0;34m=\u001b[0m \u001b[0mheight\u001b[0m\u001b[0;34m\u001b[0m\u001b[0;34m\u001b[0m\u001b[0m\n\u001b[0;32m---> 92\u001b[0;31m         \u001b[0mself\u001b[0m\u001b[0;34m.\u001b[0m\u001b[0m_renderer\u001b[0m \u001b[0;34m=\u001b[0m \u001b[0m_RendererAgg\u001b[0m\u001b[0;34m(\u001b[0m\u001b[0mint\u001b[0m\u001b[0;34m(\u001b[0m\u001b[0mwidth\u001b[0m\u001b[0;34m)\u001b[0m\u001b[0;34m,\u001b[0m \u001b[0mint\u001b[0m\u001b[0;34m(\u001b[0m\u001b[0mheight\u001b[0m\u001b[0;34m)\u001b[0m\u001b[0;34m,\u001b[0m \u001b[0mdpi\u001b[0m\u001b[0;34m)\u001b[0m\u001b[0;34m\u001b[0m\u001b[0;34m\u001b[0m\u001b[0m\n\u001b[0m\u001b[1;32m     93\u001b[0m         \u001b[0mself\u001b[0m\u001b[0;34m.\u001b[0m\u001b[0m_filter_renderers\u001b[0m \u001b[0;34m=\u001b[0m \u001b[0;34m[\u001b[0m\u001b[0;34m]\u001b[0m\u001b[0;34m\u001b[0m\u001b[0;34m\u001b[0m\u001b[0m\n\u001b[1;32m     94\u001b[0m \u001b[0;34m\u001b[0m\u001b[0m\n",
            "\u001b[0;31mValueError\u001b[0m: Image size of 392x107486 pixels is too large. It must be less than 2^16 in each direction."
          ]
        },
        {
          "output_type": "display_data",
          "data": {
            "text/plain": [
              "<Figure size 432x288 with 1 Axes>"
            ]
          },
          "metadata": {
            "tags": [],
            "needs_background": "light"
          }
        }
      ]
    },
    {
      "cell_type": "markdown",
      "metadata": {
        "id": "3QKv9pFGE2XT",
        "colab_type": "text"
      },
      "source": [
        "# Perguntas?"
      ]
    },
    {
      "cell_type": "markdown",
      "metadata": {
        "id": "LlBxPaX5E2XT",
        "colab_type": "text"
      },
      "source": [
        "## 1. Quais diferenças você entrou entre os métodos de tokenização. Cite ao menos 3 tokens com resultados diferentes."
      ]
    },
    {
      "cell_type": "markdown",
      "metadata": {
        "id": "1eZfsGAnE2XU",
        "colab_type": "text"
      },
      "source": [
        "Cada método de Tokenização possui uma frequencia diferente, seus resultados diferem por causa de seus algoritmos de execução e cada caso tem uma aplicação em termos de performance e de analise de resultados."
      ]
    },
    {
      "cell_type": "markdown",
      "metadata": {
        "id": "BOTrcV8QE2XU",
        "colab_type": "text"
      },
      "source": [
        "## 2. Qual a principal diferença que você verificou entre o processo de stemming e de lematização?"
      ]
    },
    {
      "cell_type": "code",
      "metadata": {
        "id": "IbnNTA-HE2XV",
        "colab_type": "code",
        "colab": {
          "base_uri": "https://localhost:8080/",
          "height": 69
        },
        "outputId": "6a745f71-02ef-4703-c3bf-a53d1bc56912"
      },
      "source": [
        "\"\"\"A principal diferença entre o stemming e a lematização é que, o stemming usa algoritmos para transformar as strings em radicais\n",
        "portanto aumentando a performance porém não reconhecendo a linguagem natural. Já o processo de lematização é ao contrário, consegue\n",
        "entregar uma linguagem mais próxima da linguagem natural, porem usa recursos pesados para analisar o cotexto dos tokens.\"\"\""
      ],
      "execution_count": null,
      "outputs": [
        {
          "output_type": "execute_result",
          "data": {
            "application/vnd.google.colaboratory.intrinsic+json": {
              "type": "string"
            },
            "text/plain": [
              "'A principal diferença entre o stemming e a lematização é que, o stemming usa algoritmos para transformar as strings em radicais\\nportanto aumentando a performance porém não reconhecendo a linguagem natural. Já o processo de lematização é ao contrário, consegue\\nentregar uma linguagem mais próxima da linguagem natural, porem usa recursos pesados para analisar o cotexto dos tokens.'"
            ]
          },
          "metadata": {
            "tags": []
          },
          "execution_count": 224
        }
      ]
    }
  ]
}