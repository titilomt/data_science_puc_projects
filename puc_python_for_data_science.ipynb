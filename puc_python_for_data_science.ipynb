{
  "nbformat": 4,
  "nbformat_minor": 0,
  "metadata": {
    "kernelspec": {
      "display_name": "Python 3",
      "language": "python",
      "name": "python3"
    },
    "language_info": {
      "codemirror_mode": {
        "name": "ipython",
        "version": 3
      },
      "file_extension": ".py",
      "mimetype": "text/x-python",
      "name": "python",
      "nbconvert_exporter": "python",
      "pygments_lexer": "ipython3",
      "version": "3.8.2-final"
    },
    "colab": {
      "name": "puc_python_for_data_science.ipynb",
      "provenance": [],
      "toc_visible": true,
      "include_colab_link": true
    }
  },
  "cells": [
    {
      "cell_type": "markdown",
      "metadata": {
        "id": "view-in-github",
        "colab_type": "text"
      },
      "source": [
        "<a href=\"https://colab.research.google.com/github/titilomt/data_science_puc_projects/blob/master/puc_python_for_data_science.ipynb\" target=\"_parent\"><img src=\"https://colab.research.google.com/assets/colab-badge.svg\" alt=\"Open In Colab\"/></a>"
      ]
    },
    {
      "cell_type": "markdown",
      "metadata": {
        "id": "NrrlLuzWZaiP",
        "colab_type": "text"
      },
      "source": [
        "<!--BOOK_INFORMATION-->\n",
        "<img align=\"left\" style=\"padding-right:10px;\" src=\"https://github.com/titilomt/data_science_puc_projects/blob/master/figures/dogecoin.png?raw=1\">\n",
        "\n",
        "*Notebook criado por **Tiago Henrique Pereira Fonseca** - para a diciplina de Programação para Ciência de dados - Pós Graduação PUC Minas*\n",
        "\n",
        "*O trabalho deve ser feito de maneira descritiva, apresentando a documentação do caminho trilhado para chegar as analises.*"
      ]
    },
    {
      "cell_type": "markdown",
      "metadata": {
        "id": "A7o2K239ZaiR",
        "colab_type": "text"
      },
      "source": [
        "# Ferramentas Usadas:\n",
        "- Jupyter Lab \n",
        "- Pandas\n",
        "- matplotlib"
      ]
    },
    {
      "cell_type": "markdown",
      "metadata": {
        "id": "wC3j-QMzZaiR",
        "colab_type": "text"
      },
      "source": [
        "# Base de CSV\n",
        "- https://www.kaggle.com/psparks/instacart-market-basket-analysis\n",
        "\n",
        "# Inicialização de modulos"
      ]
    },
    {
      "cell_type": "code",
      "metadata": {
        "id": "ZlvMisB6ZaiS",
        "colab_type": "code",
        "colab": {}
      },
      "source": [
        "import numpy as np\n",
        "import pandas as pd\n",
        "import matplotlib.pyplot as plt"
      ],
      "execution_count": 10,
      "outputs": []
    },
    {
      "cell_type": "markdown",
      "metadata": {
        "id": "Dcn_1VN2ZaiW",
        "colab_type": "text"
      },
      "source": [
        "## CSV\n",
        "Os arquivos CSV são compostos por:\n",
        "- aisles.csv (path='csv/aisles.csv')\n",
        "- departments.csv (path='csv/departments.csv')\n",
        "- orders.csv (path='csv/orders.csv')\n",
        "- products.csv (path='csv/products.csv')\n",
        "- order_products_prior.csv (path='csv/order_products_prior.csv')\n",
        "- order_products_train.csv (path='csv/order_products_train.csv')"
      ]
    },
    {
      "cell_type": "markdown",
      "metadata": {
        "id": "I8FllV0tZaiX",
        "colab_type": "text"
      },
      "source": [
        "# AISLES"
      ]
    },
    {
      "cell_type": "markdown",
      "metadata": {
        "id": "itXnh0XfZaiX",
        "colab_type": "text"
      },
      "source": [
        "Representa os corredores de nossa rede de supermercados\n",
        "## Campos\n",
        "- aisle_id [identificador unico de AISLES]\n",
        "- aisle [propriedade que modela seu AISLE ex: \"tea\"]"
      ]
    },
    {
      "cell_type": "code",
      "metadata": {
        "id": "opqNe5I6ZaiY",
        "colab_type": "code",
        "colab": {},
        "outputId": "3f6c3f78-6402-4a73-8655-2c51e5054b89"
      },
      "source": [
        "aisles = pd.read_csv('../content/aisles.csv')\n",
        "aisles.columns = ['id', 'corredores']\n",
        "aisles.head()"
      ],
      "execution_count": null,
      "outputs": [
        {
          "output_type": "execute_result",
          "data": {
            "text/plain": [
              "   id                  corredores\n",
              "0   1       prepared soups salads\n",
              "1   2           specialty cheeses\n",
              "2   3         energy granola bars\n",
              "3   4               instant foods\n",
              "4   5  marinades meat preparation"
            ],
            "text/html": [
              "<div>\n",
              "<style scoped>\n",
              "    .dataframe tbody tr th:only-of-type {\n",
              "        vertical-align: middle;\n",
              "    }\n",
              "\n",
              "    .dataframe tbody tr th {\n",
              "        vertical-align: top;\n",
              "    }\n",
              "\n",
              "    .dataframe thead th {\n",
              "        text-align: right;\n",
              "    }\n",
              "</style>\n",
              "<table border=\"1\" class=\"dataframe\">\n",
              "  <thead>\n",
              "    <tr style=\"text-align: right;\">\n",
              "      <th></th>\n",
              "      <th>id</th>\n",
              "      <th>corredores</th>\n",
              "    </tr>\n",
              "  </thead>\n",
              "  <tbody>\n",
              "    <tr>\n",
              "      <th>0</th>\n",
              "      <td>1</td>\n",
              "      <td>prepared soups salads</td>\n",
              "    </tr>\n",
              "    <tr>\n",
              "      <th>1</th>\n",
              "      <td>2</td>\n",
              "      <td>specialty cheeses</td>\n",
              "    </tr>\n",
              "    <tr>\n",
              "      <th>2</th>\n",
              "      <td>3</td>\n",
              "      <td>energy granola bars</td>\n",
              "    </tr>\n",
              "    <tr>\n",
              "      <th>3</th>\n",
              "      <td>4</td>\n",
              "      <td>instant foods</td>\n",
              "    </tr>\n",
              "    <tr>\n",
              "      <th>4</th>\n",
              "      <td>5</td>\n",
              "      <td>marinades meat preparation</td>\n",
              "    </tr>\n",
              "  </tbody>\n",
              "</table>\n",
              "</div>"
            ]
          },
          "metadata": {
            "tags": []
          },
          "execution_count": 2
        }
      ]
    },
    {
      "cell_type": "markdown",
      "metadata": {
        "id": "_zwZIFGWZaic",
        "colab_type": "text"
      },
      "source": [
        "Entidade Aisles não possui ligações com outras entidades, podendo ser uma entidade \"filha\" que cede a uma entidade \"pai\" seu \"id\"."
      ]
    },
    {
      "cell_type": "markdown",
      "metadata": {
        "id": "tp1UytVpZaic",
        "colab_type": "text"
      },
      "source": [
        "# DEPARTMENTS\n",
        "Entidade que representa os departamentos dentro de nosso supermercado\n",
        "## Campos\n",
        "- department_id [identificador do departamento]\n",
        "- department [nome do departamento ex: \"frozen\"]"
      ]
    },
    {
      "cell_type": "code",
      "metadata": {
        "id": "wmiE0kvKZaid",
        "colab_type": "code",
        "colab": {},
        "outputId": "b3f2b661-232f-4dea-c2c1-8b9c1a365963"
      },
      "source": [
        "departments = pd.read_csv('../content/departments.csv')\n",
        "departments.columns = ['id', 'departamento']\n",
        "departments.head()"
      ],
      "execution_count": null,
      "outputs": [
        {
          "output_type": "execute_result",
          "data": {
            "text/plain": [
              "   id departamento\n",
              "0   1       frozen\n",
              "1   2        other\n",
              "2   3       bakery\n",
              "3   4      produce\n",
              "4   5      alcohol"
            ],
            "text/html": [
              "<div>\n",
              "<style scoped>\n",
              "    .dataframe tbody tr th:only-of-type {\n",
              "        vertical-align: middle;\n",
              "    }\n",
              "\n",
              "    .dataframe tbody tr th {\n",
              "        vertical-align: top;\n",
              "    }\n",
              "\n",
              "    .dataframe thead th {\n",
              "        text-align: right;\n",
              "    }\n",
              "</style>\n",
              "<table border=\"1\" class=\"dataframe\">\n",
              "  <thead>\n",
              "    <tr style=\"text-align: right;\">\n",
              "      <th></th>\n",
              "      <th>id</th>\n",
              "      <th>departamento</th>\n",
              "    </tr>\n",
              "  </thead>\n",
              "  <tbody>\n",
              "    <tr>\n",
              "      <th>0</th>\n",
              "      <td>1</td>\n",
              "      <td>frozen</td>\n",
              "    </tr>\n",
              "    <tr>\n",
              "      <th>1</th>\n",
              "      <td>2</td>\n",
              "      <td>other</td>\n",
              "    </tr>\n",
              "    <tr>\n",
              "      <th>2</th>\n",
              "      <td>3</td>\n",
              "      <td>bakery</td>\n",
              "    </tr>\n",
              "    <tr>\n",
              "      <th>3</th>\n",
              "      <td>4</td>\n",
              "      <td>produce</td>\n",
              "    </tr>\n",
              "    <tr>\n",
              "      <th>4</th>\n",
              "      <td>5</td>\n",
              "      <td>alcohol</td>\n",
              "    </tr>\n",
              "  </tbody>\n",
              "</table>\n",
              "</div>"
            ]
          },
          "metadata": {
            "tags": []
          },
          "execution_count": 3
        }
      ]
    },
    {
      "cell_type": "markdown",
      "metadata": {
        "id": "mcZUL71AZaif",
        "colab_type": "text"
      },
      "source": [
        "Entidade DEPARTMENTS não possui ligações com outras entidades, podendo ser uma entidade \"filha\" de uma Entidade com mais propriedades. "
      ]
    },
    {
      "cell_type": "markdown",
      "metadata": {
        "id": "4HxkV4x6Zaig",
        "colab_type": "text"
      },
      "source": [
        "# ORDERS\n",
        "Entidade ORDERS representa os pedidos feitos em nosso supermercado\n",
        "## Campos\n",
        "- order_id [identificador do pedido]\n",
        "- user_id [identificador do consumidor]\n",
        "- eval_set [avaliações do pedido]\n",
        "- order_number [número do pedido]\n",
        "- order_dow\n",
        "- order_hour_of_day [hora do dia que foi feito o pedido]\n",
        "- days_since_prior_order [dias desde que o pedido previo foi feito]"
      ]
    },
    {
      "cell_type": "code",
      "metadata": {
        "id": "e66NTIFsZaih",
        "colab_type": "code",
        "colab": {
          "base_uri": "https://localhost:8080/",
          "height": 204
        },
        "outputId": "86ed6025-44be-4229-f583-90606ad4f9c5"
      },
      "source": [
        "orders = pd.read_csv('../content/orders.csv')\n",
        "orders.columns = ['id', 'user_id', 'avaliacoes', 'numero_pedido', 'order_dow', 'hora_pedido_dia', 'dias_desde_pedido_previo']\n",
        "orders.head()"
      ],
      "execution_count": 4,
      "outputs": [
        {
          "output_type": "execute_result",
          "data": {
            "text/html": [
              "<div>\n",
              "<style scoped>\n",
              "    .dataframe tbody tr th:only-of-type {\n",
              "        vertical-align: middle;\n",
              "    }\n",
              "\n",
              "    .dataframe tbody tr th {\n",
              "        vertical-align: top;\n",
              "    }\n",
              "\n",
              "    .dataframe thead th {\n",
              "        text-align: right;\n",
              "    }\n",
              "</style>\n",
              "<table border=\"1\" class=\"dataframe\">\n",
              "  <thead>\n",
              "    <tr style=\"text-align: right;\">\n",
              "      <th></th>\n",
              "      <th>id</th>\n",
              "      <th>user_id</th>\n",
              "      <th>avaliacoes</th>\n",
              "      <th>numero_pedido</th>\n",
              "      <th>order_dow</th>\n",
              "      <th>hora_pedido_dia</th>\n",
              "      <th>dias_desde_pedido_previo</th>\n",
              "    </tr>\n",
              "  </thead>\n",
              "  <tbody>\n",
              "    <tr>\n",
              "      <th>0</th>\n",
              "      <td>2539329</td>\n",
              "      <td>1</td>\n",
              "      <td>prior</td>\n",
              "      <td>1.0</td>\n",
              "      <td>2.0</td>\n",
              "      <td>8.0</td>\n",
              "      <td>NaN</td>\n",
              "    </tr>\n",
              "    <tr>\n",
              "      <th>1</th>\n",
              "      <td>2398795</td>\n",
              "      <td>1</td>\n",
              "      <td>prior</td>\n",
              "      <td>2.0</td>\n",
              "      <td>3.0</td>\n",
              "      <td>7.0</td>\n",
              "      <td>15.0</td>\n",
              "    </tr>\n",
              "    <tr>\n",
              "      <th>2</th>\n",
              "      <td>473747</td>\n",
              "      <td>1</td>\n",
              "      <td>prior</td>\n",
              "      <td>3.0</td>\n",
              "      <td>3.0</td>\n",
              "      <td>12.0</td>\n",
              "      <td>21.0</td>\n",
              "    </tr>\n",
              "    <tr>\n",
              "      <th>3</th>\n",
              "      <td>2254736</td>\n",
              "      <td>1</td>\n",
              "      <td>prior</td>\n",
              "      <td>4.0</td>\n",
              "      <td>4.0</td>\n",
              "      <td>7.0</td>\n",
              "      <td>29.0</td>\n",
              "    </tr>\n",
              "    <tr>\n",
              "      <th>4</th>\n",
              "      <td>431534</td>\n",
              "      <td>1</td>\n",
              "      <td>prior</td>\n",
              "      <td>5.0</td>\n",
              "      <td>4.0</td>\n",
              "      <td>15.0</td>\n",
              "      <td>28.0</td>\n",
              "    </tr>\n",
              "  </tbody>\n",
              "</table>\n",
              "</div>"
            ],
            "text/plain": [
              "        id  user_id  ... hora_pedido_dia  dias_desde_pedido_previo\n",
              "0  2539329        1  ...             8.0                       NaN\n",
              "1  2398795        1  ...             7.0                      15.0\n",
              "2   473747        1  ...            12.0                      21.0\n",
              "3  2254736        1  ...             7.0                      29.0\n",
              "4   431534        1  ...            15.0                      28.0\n",
              "\n",
              "[5 rows x 7 columns]"
            ]
          },
          "metadata": {
            "tags": []
          },
          "execution_count": 4
        }
      ]
    },
    {
      "cell_type": "code",
      "metadata": {
        "id": "TPlIlUzfZaij",
        "colab_type": "code",
        "colab": {},
        "outputId": "78b2e81b-c4ba-4bba-901a-117121b1f711"
      },
      "source": [
        "'''\n",
        "Aqui podemos fazer agrupamentos para extrair informações! \n",
        "Por exemplo: \n",
        "    \"Qual a média de número de pedido, \n",
        "    hora que o pedido foi feito, \n",
        "    dias desde que o pedido previo foi realizados,\n",
        "    de acordo com cada avaliação?\"\n",
        "'''\n",
        "orders.groupby('avaliacoes').mean()[['numero_pedido', 'hora_pedido_dia', 'dias_desde_pedido_previo']]"
      ],
      "execution_count": null,
      "outputs": [
        {
          "output_type": "execute_result",
          "data": {
            "text/plain": [
              "            numero_pedido  hora_pedido_dia  dias_desde_pedido_previo\n",
              "avaliacoes                                                          \n",
              "prior           17.191066        13.443466                 10.707242\n",
              "test            16.566627        13.592200                 17.082640\n",
              "train           16.603937        13.581363                 17.049859"
            ],
            "text/html": [
              "<div>\n",
              "<style scoped>\n",
              "    .dataframe tbody tr th:only-of-type {\n",
              "        vertical-align: middle;\n",
              "    }\n",
              "\n",
              "    .dataframe tbody tr th {\n",
              "        vertical-align: top;\n",
              "    }\n",
              "\n",
              "    .dataframe thead th {\n",
              "        text-align: right;\n",
              "    }\n",
              "</style>\n",
              "<table border=\"1\" class=\"dataframe\">\n",
              "  <thead>\n",
              "    <tr style=\"text-align: right;\">\n",
              "      <th></th>\n",
              "      <th>numero_pedido</th>\n",
              "      <th>hora_pedido_dia</th>\n",
              "      <th>dias_desde_pedido_previo</th>\n",
              "    </tr>\n",
              "    <tr>\n",
              "      <th>avaliacoes</th>\n",
              "      <th></th>\n",
              "      <th></th>\n",
              "      <th></th>\n",
              "    </tr>\n",
              "  </thead>\n",
              "  <tbody>\n",
              "    <tr>\n",
              "      <th>prior</th>\n",
              "      <td>17.191066</td>\n",
              "      <td>13.443466</td>\n",
              "      <td>10.707242</td>\n",
              "    </tr>\n",
              "    <tr>\n",
              "      <th>test</th>\n",
              "      <td>16.566627</td>\n",
              "      <td>13.592200</td>\n",
              "      <td>17.082640</td>\n",
              "    </tr>\n",
              "    <tr>\n",
              "      <th>train</th>\n",
              "      <td>16.603937</td>\n",
              "      <td>13.581363</td>\n",
              "      <td>17.049859</td>\n",
              "    </tr>\n",
              "  </tbody>\n",
              "</table>\n",
              "</div>"
            ]
          },
          "metadata": {
            "tags": []
          },
          "execution_count": 5
        }
      ]
    },
    {
      "cell_type": "code",
      "metadata": {
        "id": "hTQGDhPGZain",
        "colab_type": "code",
        "colab": {},
        "outputId": "320e42e9-691b-40aa-c580-56f621c63d96"
      },
      "source": [
        "'''\n",
        "Podemos também tirar a porcentagem de um valor dentro de uma coluna\n",
        "Aplicado a seguinte formula: [(qtde_value/qtde_total)*100]\n",
        "(orders['avaliacoes'].value_counts(normalize=True).mul(100)/orders['avaliacoes'].count())*100\n",
        "'''\n",
        "avaliacoes = orders['avaliacoes']\n",
        "df_avaliacoes = pd.concat([avaliacoes.value_counts(),              \n",
        "avaliacoes.value_counts(normalize=True).mul(100)],axis=1,keys=('counts','percentage'))\n",
        "df_avaliacoes['percentage'] = pd.Series([round(val, 2) for val in df_avaliacoes['percentage']], index = df_avaliacoes.index)\n",
        "df_avaliacoes.head()"
      ],
      "execution_count": null,
      "outputs": [
        {
          "output_type": "execute_result",
          "data": {
            "text/plain": [
              "        counts  percentage\n",
              "prior  3214874       93.97\n",
              "train   131209        3.84\n",
              "test     75000        2.19"
            ],
            "text/html": [
              "<div>\n",
              "<style scoped>\n",
              "    .dataframe tbody tr th:only-of-type {\n",
              "        vertical-align: middle;\n",
              "    }\n",
              "\n",
              "    .dataframe tbody tr th {\n",
              "        vertical-align: top;\n",
              "    }\n",
              "\n",
              "    .dataframe thead th {\n",
              "        text-align: right;\n",
              "    }\n",
              "</style>\n",
              "<table border=\"1\" class=\"dataframe\">\n",
              "  <thead>\n",
              "    <tr style=\"text-align: right;\">\n",
              "      <th></th>\n",
              "      <th>counts</th>\n",
              "      <th>percentage</th>\n",
              "    </tr>\n",
              "  </thead>\n",
              "  <tbody>\n",
              "    <tr>\n",
              "      <th>prior</th>\n",
              "      <td>3214874</td>\n",
              "      <td>93.97</td>\n",
              "    </tr>\n",
              "    <tr>\n",
              "      <th>train</th>\n",
              "      <td>131209</td>\n",
              "      <td>3.84</td>\n",
              "    </tr>\n",
              "    <tr>\n",
              "      <th>test</th>\n",
              "      <td>75000</td>\n",
              "      <td>2.19</td>\n",
              "    </tr>\n",
              "  </tbody>\n",
              "</table>\n",
              "</div>"
            ]
          },
          "metadata": {
            "tags": []
          },
          "execution_count": 6
        }
      ]
    },
    {
      "cell_type": "code",
      "metadata": {
        "id": "Jk3jN6GjZaiq",
        "colab_type": "code",
        "colab": {},
        "outputId": "d10acd3a-25a2-4012-a3bc-57f580d3067b"
      },
      "source": [
        "'''\n",
        "Podemos responder perguntas como: \n",
        "Qual a hora do dia que temos mais pedidos feitos?\n",
        "'''\n",
        "hora_dia_pedido = orders['hora_pedido_dia']\n",
        "df_hora_dia_pedido = pd.concat([hora_dia_pedido.value_counts(),              \n",
        "hora_dia_pedido.value_counts(normalize=True).mul(100)],axis=1,keys=('counts','percentage'))\n",
        "df_hora_dia_pedido['percentage'] = pd.Series([round(val, 2) for val in df_hora_dia_pedido['percentage']], index = df_hora_dia_pedido.index)\n",
        "df_hora_dia_pedido.head()"
      ],
      "execution_count": null,
      "outputs": [
        {
          "output_type": "execute_result",
          "data": {
            "text/plain": [
              "    counts  percentage\n",
              "10  288418        8.43\n",
              "11  284728        8.32\n",
              "15  283639        8.29\n",
              "14  283042        8.27\n",
              "13  277999        8.13"
            ],
            "text/html": [
              "<div>\n",
              "<style scoped>\n",
              "    .dataframe tbody tr th:only-of-type {\n",
              "        vertical-align: middle;\n",
              "    }\n",
              "\n",
              "    .dataframe tbody tr th {\n",
              "        vertical-align: top;\n",
              "    }\n",
              "\n",
              "    .dataframe thead th {\n",
              "        text-align: right;\n",
              "    }\n",
              "</style>\n",
              "<table border=\"1\" class=\"dataframe\">\n",
              "  <thead>\n",
              "    <tr style=\"text-align: right;\">\n",
              "      <th></th>\n",
              "      <th>counts</th>\n",
              "      <th>percentage</th>\n",
              "    </tr>\n",
              "  </thead>\n",
              "  <tbody>\n",
              "    <tr>\n",
              "      <th>10</th>\n",
              "      <td>288418</td>\n",
              "      <td>8.43</td>\n",
              "    </tr>\n",
              "    <tr>\n",
              "      <th>11</th>\n",
              "      <td>284728</td>\n",
              "      <td>8.32</td>\n",
              "    </tr>\n",
              "    <tr>\n",
              "      <th>15</th>\n",
              "      <td>283639</td>\n",
              "      <td>8.29</td>\n",
              "    </tr>\n",
              "    <tr>\n",
              "      <th>14</th>\n",
              "      <td>283042</td>\n",
              "      <td>8.27</td>\n",
              "    </tr>\n",
              "    <tr>\n",
              "      <th>13</th>\n",
              "      <td>277999</td>\n",
              "      <td>8.13</td>\n",
              "    </tr>\n",
              "  </tbody>\n",
              "</table>\n",
              "</div>"
            ]
          },
          "metadata": {
            "tags": []
          },
          "execution_count": 7
        }
      ]
    },
    {
      "cell_type": "code",
      "metadata": {
        "id": "_2ZXAJt5Zais",
        "colab_type": "code",
        "colab": {},
        "outputId": "de54bd5a-f349-46d5-852e-243536591a60"
      },
      "source": [
        "'''\n",
        "Qual foi o maior atraso que tivemos desde que o pedido foi feito\n",
        "'''\n",
        "dias_desde_pedido_previo = orders['dias_desde_pedido_previo']\n",
        "dias_desde_pedido_previo.max()"
      ],
      "execution_count": null,
      "outputs": [
        {
          "output_type": "execute_result",
          "data": {
            "text/plain": [
              "30.0"
            ]
          },
          "metadata": {
            "tags": []
          },
          "execution_count": 8
        }
      ]
    },
    {
      "cell_type": "markdown",
      "metadata": {
        "id": "FmHZU4HjZaiv",
        "colab_type": "text"
      },
      "source": [
        "Entidade ORDERS não possui propriedades que se agrupam com outras entidades. Porém tiramos algumas conclusões sobre a Entidade com relação a ela mesma."
      ]
    },
    {
      "cell_type": "markdown",
      "metadata": {
        "id": "zIJb2bkAZaiw",
        "colab_type": "text"
      },
      "source": [
        "# PRODUCTS\n",
        "Relacionamento que trata dos produtos de nosso supermercado\n",
        "## Campos\n",
        "- product_id [identificador do produto]\n",
        "- product_name [nome do produto]\n",
        "- aisle_id [identificador do corredor]\n",
        "- department_id [identificador do departamento]"
      ]
    },
    {
      "cell_type": "code",
      "metadata": {
        "id": "DIM3u5b-Zaiw",
        "colab_type": "code",
        "colab": {
          "base_uri": "https://localhost:8080/",
          "height": 204
        },
        "outputId": "bce8f628-21bb-47b3-a1d5-ebcdfb01bc6f"
      },
      "source": [
        "products = pd.read_csv('../content/products.csv')\n",
        "products.head()"
      ],
      "execution_count": 5,
      "outputs": [
        {
          "output_type": "execute_result",
          "data": {
            "text/html": [
              "<div>\n",
              "<style scoped>\n",
              "    .dataframe tbody tr th:only-of-type {\n",
              "        vertical-align: middle;\n",
              "    }\n",
              "\n",
              "    .dataframe tbody tr th {\n",
              "        vertical-align: top;\n",
              "    }\n",
              "\n",
              "    .dataframe thead th {\n",
              "        text-align: right;\n",
              "    }\n",
              "</style>\n",
              "<table border=\"1\" class=\"dataframe\">\n",
              "  <thead>\n",
              "    <tr style=\"text-align: right;\">\n",
              "      <th></th>\n",
              "      <th>product_id</th>\n",
              "      <th>product_name</th>\n",
              "      <th>aisle_id</th>\n",
              "      <th>department_id</th>\n",
              "    </tr>\n",
              "  </thead>\n",
              "  <tbody>\n",
              "    <tr>\n",
              "      <th>0</th>\n",
              "      <td>1</td>\n",
              "      <td>Chocolate Sandwich Cookies</td>\n",
              "      <td>61</td>\n",
              "      <td>19</td>\n",
              "    </tr>\n",
              "    <tr>\n",
              "      <th>1</th>\n",
              "      <td>2</td>\n",
              "      <td>All-Seasons Salt</td>\n",
              "      <td>104</td>\n",
              "      <td>13</td>\n",
              "    </tr>\n",
              "    <tr>\n",
              "      <th>2</th>\n",
              "      <td>3</td>\n",
              "      <td>Robust Golden Unsweetened Oolong Tea</td>\n",
              "      <td>94</td>\n",
              "      <td>7</td>\n",
              "    </tr>\n",
              "    <tr>\n",
              "      <th>3</th>\n",
              "      <td>4</td>\n",
              "      <td>Smart Ones Classic Favorites Mini Rigatoni Wit...</td>\n",
              "      <td>38</td>\n",
              "      <td>1</td>\n",
              "    </tr>\n",
              "    <tr>\n",
              "      <th>4</th>\n",
              "      <td>5</td>\n",
              "      <td>Green Chile Anytime Sauce</td>\n",
              "      <td>5</td>\n",
              "      <td>13</td>\n",
              "    </tr>\n",
              "  </tbody>\n",
              "</table>\n",
              "</div>"
            ],
            "text/plain": [
              "   product_id  ... department_id\n",
              "0           1  ...            19\n",
              "1           2  ...            13\n",
              "2           3  ...             7\n",
              "3           4  ...             1\n",
              "4           5  ...            13\n",
              "\n",
              "[5 rows x 4 columns]"
            ]
          },
          "metadata": {
            "tags": []
          },
          "execution_count": 5
        }
      ]
    },
    {
      "cell_type": "code",
      "metadata": {
        "id": "-chzF9vqZaiz",
        "colab_type": "code",
        "colab": {},
        "outputId": "6c27f508-f3a8-403e-e230-48945f6fce00"
      },
      "source": [
        "'''\n",
        "Entidade Products possui relacoes com AISLES e DEPARTMENTS\n",
        "podemos usar a função merge para unir as entidades com a sua \n",
        "chave de indentificação\n",
        "'''\n",
        "merged_prod = products.merge(aisles, left_on='aisle_id', right_on='id')\n",
        "merged_prod.head()"
      ],
      "execution_count": null,
      "outputs": [
        {
          "output_type": "execute_result",
          "data": {
            "text/plain": [
              "   product_id                                    product_name  aisle_id  \\\n",
              "0           1                      Chocolate Sandwich Cookies        61   \n",
              "1          78               Nutter Butter Cookie Bites Go-Pak        61   \n",
              "2         102                           Danish Butter Cookies        61   \n",
              "3         172  Gluten Free All Natural Chocolate Chip Cookies        61   \n",
              "4         285                    Mini Nilla Wafers Munch Pack        61   \n",
              "\n",
              "   department_id  id     corredores  \n",
              "0             19  61  cookies cakes  \n",
              "1             19  61  cookies cakes  \n",
              "2             19  61  cookies cakes  \n",
              "3             19  61  cookies cakes  \n",
              "4             19  61  cookies cakes  "
            ],
            "text/html": [
              "<div>\n",
              "<style scoped>\n",
              "    .dataframe tbody tr th:only-of-type {\n",
              "        vertical-align: middle;\n",
              "    }\n",
              "\n",
              "    .dataframe tbody tr th {\n",
              "        vertical-align: top;\n",
              "    }\n",
              "\n",
              "    .dataframe thead th {\n",
              "        text-align: right;\n",
              "    }\n",
              "</style>\n",
              "<table border=\"1\" class=\"dataframe\">\n",
              "  <thead>\n",
              "    <tr style=\"text-align: right;\">\n",
              "      <th></th>\n",
              "      <th>product_id</th>\n",
              "      <th>product_name</th>\n",
              "      <th>aisle_id</th>\n",
              "      <th>department_id</th>\n",
              "      <th>id</th>\n",
              "      <th>corredores</th>\n",
              "    </tr>\n",
              "  </thead>\n",
              "  <tbody>\n",
              "    <tr>\n",
              "      <th>0</th>\n",
              "      <td>1</td>\n",
              "      <td>Chocolate Sandwich Cookies</td>\n",
              "      <td>61</td>\n",
              "      <td>19</td>\n",
              "      <td>61</td>\n",
              "      <td>cookies cakes</td>\n",
              "    </tr>\n",
              "    <tr>\n",
              "      <th>1</th>\n",
              "      <td>78</td>\n",
              "      <td>Nutter Butter Cookie Bites Go-Pak</td>\n",
              "      <td>61</td>\n",
              "      <td>19</td>\n",
              "      <td>61</td>\n",
              "      <td>cookies cakes</td>\n",
              "    </tr>\n",
              "    <tr>\n",
              "      <th>2</th>\n",
              "      <td>102</td>\n",
              "      <td>Danish Butter Cookies</td>\n",
              "      <td>61</td>\n",
              "      <td>19</td>\n",
              "      <td>61</td>\n",
              "      <td>cookies cakes</td>\n",
              "    </tr>\n",
              "    <tr>\n",
              "      <th>3</th>\n",
              "      <td>172</td>\n",
              "      <td>Gluten Free All Natural Chocolate Chip Cookies</td>\n",
              "      <td>61</td>\n",
              "      <td>19</td>\n",
              "      <td>61</td>\n",
              "      <td>cookies cakes</td>\n",
              "    </tr>\n",
              "    <tr>\n",
              "      <th>4</th>\n",
              "      <td>285</td>\n",
              "      <td>Mini Nilla Wafers Munch Pack</td>\n",
              "      <td>61</td>\n",
              "      <td>19</td>\n",
              "      <td>61</td>\n",
              "      <td>cookies cakes</td>\n",
              "    </tr>\n",
              "  </tbody>\n",
              "</table>\n",
              "</div>"
            ]
          },
          "metadata": {
            "tags": []
          },
          "execution_count": 10
        }
      ]
    },
    {
      "cell_type": "code",
      "metadata": {
        "id": "21vQN109Zai2",
        "colab_type": "code",
        "colab": {},
        "outputId": "85d40012-6942-4c7e-9e87-7eb13ba01f16"
      },
      "source": [
        "'''\n",
        "Com o resultado deste merge podemos cruzar informações de uma\n",
        "Entidade com outra, ex:\n",
        "\"Quantos produtos existem por categoria(corredor)? [pegando apenas os top 5]\"\n",
        "'''\n",
        "gby = merged_prod.groupby('corredores')[['product_id']].count().rename(columns={'product_id': 'count'})\n",
        "res = gby.apply(lambda x: x.sort_values(ascending=False))\n",
        "res.head()"
      ],
      "execution_count": null,
      "outputs": [
        {
          "output_type": "execute_result",
          "data": {
            "text/plain": [
              "                      count\n",
              "corredores                 \n",
              "missing                1258\n",
              "candy chocolate        1246\n",
              "ice cream ice          1091\n",
              "vitamins supplements   1038\n",
              "yogurt                 1026"
            ],
            "text/html": [
              "<div>\n",
              "<style scoped>\n",
              "    .dataframe tbody tr th:only-of-type {\n",
              "        vertical-align: middle;\n",
              "    }\n",
              "\n",
              "    .dataframe tbody tr th {\n",
              "        vertical-align: top;\n",
              "    }\n",
              "\n",
              "    .dataframe thead th {\n",
              "        text-align: right;\n",
              "    }\n",
              "</style>\n",
              "<table border=\"1\" class=\"dataframe\">\n",
              "  <thead>\n",
              "    <tr style=\"text-align: right;\">\n",
              "      <th></th>\n",
              "      <th>count</th>\n",
              "    </tr>\n",
              "    <tr>\n",
              "      <th>corredores</th>\n",
              "      <th></th>\n",
              "    </tr>\n",
              "  </thead>\n",
              "  <tbody>\n",
              "    <tr>\n",
              "      <th>missing</th>\n",
              "      <td>1258</td>\n",
              "    </tr>\n",
              "    <tr>\n",
              "      <th>candy chocolate</th>\n",
              "      <td>1246</td>\n",
              "    </tr>\n",
              "    <tr>\n",
              "      <th>ice cream ice</th>\n",
              "      <td>1091</td>\n",
              "    </tr>\n",
              "    <tr>\n",
              "      <th>vitamins supplements</th>\n",
              "      <td>1038</td>\n",
              "    </tr>\n",
              "    <tr>\n",
              "      <th>yogurt</th>\n",
              "      <td>1026</td>\n",
              "    </tr>\n",
              "  </tbody>\n",
              "</table>\n",
              "</div>"
            ]
          },
          "metadata": {
            "tags": []
          },
          "execution_count": 11
        }
      ]
    },
    {
      "cell_type": "code",
      "metadata": {
        "id": "6h1lhU1fZai4",
        "colab_type": "code",
        "colab": {},
        "outputId": "1cd37ee7-ee63-4540-f61d-d45e59c7612c"
      },
      "source": [
        "'''\n",
        "Podemos fazer um merge com o departamento \n",
        "e assim obter um cruzamento de dados com o merge de products x corredores\n",
        "'''\n",
        "products_aisles_dep = merged_prod.merge(departments, left_on='department_id', right_on='id')\n",
        "products_aisles_dep.head()"
      ],
      "execution_count": null,
      "outputs": [
        {
          "output_type": "execute_result",
          "data": {
            "text/plain": [
              "   product_id                                    product_name  aisle_id  \\\n",
              "0           1                      Chocolate Sandwich Cookies        61   \n",
              "1          78               Nutter Butter Cookie Bites Go-Pak        61   \n",
              "2         102                           Danish Butter Cookies        61   \n",
              "3         172  Gluten Free All Natural Chocolate Chip Cookies        61   \n",
              "4         285                    Mini Nilla Wafers Munch Pack        61   \n",
              "\n",
              "   department_id  id_x     corredores  id_y departamento  \n",
              "0             19    61  cookies cakes    19       snacks  \n",
              "1             19    61  cookies cakes    19       snacks  \n",
              "2             19    61  cookies cakes    19       snacks  \n",
              "3             19    61  cookies cakes    19       snacks  \n",
              "4             19    61  cookies cakes    19       snacks  "
            ],
            "text/html": [
              "<div>\n",
              "<style scoped>\n",
              "    .dataframe tbody tr th:only-of-type {\n",
              "        vertical-align: middle;\n",
              "    }\n",
              "\n",
              "    .dataframe tbody tr th {\n",
              "        vertical-align: top;\n",
              "    }\n",
              "\n",
              "    .dataframe thead th {\n",
              "        text-align: right;\n",
              "    }\n",
              "</style>\n",
              "<table border=\"1\" class=\"dataframe\">\n",
              "  <thead>\n",
              "    <tr style=\"text-align: right;\">\n",
              "      <th></th>\n",
              "      <th>product_id</th>\n",
              "      <th>product_name</th>\n",
              "      <th>aisle_id</th>\n",
              "      <th>department_id</th>\n",
              "      <th>id_x</th>\n",
              "      <th>corredores</th>\n",
              "      <th>id_y</th>\n",
              "      <th>departamento</th>\n",
              "    </tr>\n",
              "  </thead>\n",
              "  <tbody>\n",
              "    <tr>\n",
              "      <th>0</th>\n",
              "      <td>1</td>\n",
              "      <td>Chocolate Sandwich Cookies</td>\n",
              "      <td>61</td>\n",
              "      <td>19</td>\n",
              "      <td>61</td>\n",
              "      <td>cookies cakes</td>\n",
              "      <td>19</td>\n",
              "      <td>snacks</td>\n",
              "    </tr>\n",
              "    <tr>\n",
              "      <th>1</th>\n",
              "      <td>78</td>\n",
              "      <td>Nutter Butter Cookie Bites Go-Pak</td>\n",
              "      <td>61</td>\n",
              "      <td>19</td>\n",
              "      <td>61</td>\n",
              "      <td>cookies cakes</td>\n",
              "      <td>19</td>\n",
              "      <td>snacks</td>\n",
              "    </tr>\n",
              "    <tr>\n",
              "      <th>2</th>\n",
              "      <td>102</td>\n",
              "      <td>Danish Butter Cookies</td>\n",
              "      <td>61</td>\n",
              "      <td>19</td>\n",
              "      <td>61</td>\n",
              "      <td>cookies cakes</td>\n",
              "      <td>19</td>\n",
              "      <td>snacks</td>\n",
              "    </tr>\n",
              "    <tr>\n",
              "      <th>3</th>\n",
              "      <td>172</td>\n",
              "      <td>Gluten Free All Natural Chocolate Chip Cookies</td>\n",
              "      <td>61</td>\n",
              "      <td>19</td>\n",
              "      <td>61</td>\n",
              "      <td>cookies cakes</td>\n",
              "      <td>19</td>\n",
              "      <td>snacks</td>\n",
              "    </tr>\n",
              "    <tr>\n",
              "      <th>4</th>\n",
              "      <td>285</td>\n",
              "      <td>Mini Nilla Wafers Munch Pack</td>\n",
              "      <td>61</td>\n",
              "      <td>19</td>\n",
              "      <td>61</td>\n",
              "      <td>cookies cakes</td>\n",
              "      <td>19</td>\n",
              "      <td>snacks</td>\n",
              "    </tr>\n",
              "  </tbody>\n",
              "</table>\n",
              "</div>"
            ]
          },
          "metadata": {
            "tags": []
          },
          "execution_count": 12
        }
      ]
    },
    {
      "cell_type": "code",
      "metadata": {
        "id": "SWCRke7eZai6",
        "colab_type": "code",
        "colab": {},
        "outputId": "9f0182f3-a724-4bd8-a1fe-7dbbe80bb615"
      },
      "source": [
        "'''\n",
        "Com este cruzamento podemos responder peguntas do tipo:\n",
        "\"Qual a porcentagem de itens por departamento? [top 5]\"\n",
        "'''\n",
        "gb_dep = products_aisles_dep.groupby(['department_id', 'departamento']).agg({'product_id': 'count'})\n",
        "total_prod = gb_dep['product_id'].sum()\n",
        "dep_prod_perc = gb_dep.groupby(level=0).apply(lambda x: round((x*100/total_prod), 2))\n",
        "dep_prod_srt = dep_prod_perc.sort_values(by='product_id', ascending=False).rename(columns={'product_id': 'Percent'})\n",
        "dep_prod_srt.head()"
      ],
      "execution_count": null,
      "outputs": [
        {
          "output_type": "execute_result",
          "data": {
            "text/plain": [
              "                             Percent\n",
              "department_id departamento          \n",
              "11            personal care    13.21\n",
              "19            snacks           12.61\n",
              "13            pantry           10.81\n",
              "7             beverages         8.78\n",
              "1             frozen            8.06"
            ],
            "text/html": [
              "<div>\n",
              "<style scoped>\n",
              "    .dataframe tbody tr th:only-of-type {\n",
              "        vertical-align: middle;\n",
              "    }\n",
              "\n",
              "    .dataframe tbody tr th {\n",
              "        vertical-align: top;\n",
              "    }\n",
              "\n",
              "    .dataframe thead th {\n",
              "        text-align: right;\n",
              "    }\n",
              "</style>\n",
              "<table border=\"1\" class=\"dataframe\">\n",
              "  <thead>\n",
              "    <tr style=\"text-align: right;\">\n",
              "      <th></th>\n",
              "      <th></th>\n",
              "      <th>Percent</th>\n",
              "    </tr>\n",
              "    <tr>\n",
              "      <th>department_id</th>\n",
              "      <th>departamento</th>\n",
              "      <th></th>\n",
              "    </tr>\n",
              "  </thead>\n",
              "  <tbody>\n",
              "    <tr>\n",
              "      <th>11</th>\n",
              "      <th>personal care</th>\n",
              "      <td>13.21</td>\n",
              "    </tr>\n",
              "    <tr>\n",
              "      <th>19</th>\n",
              "      <th>snacks</th>\n",
              "      <td>12.61</td>\n",
              "    </tr>\n",
              "    <tr>\n",
              "      <th>13</th>\n",
              "      <th>pantry</th>\n",
              "      <td>10.81</td>\n",
              "    </tr>\n",
              "    <tr>\n",
              "      <th>7</th>\n",
              "      <th>beverages</th>\n",
              "      <td>8.78</td>\n",
              "    </tr>\n",
              "    <tr>\n",
              "      <th>1</th>\n",
              "      <th>frozen</th>\n",
              "      <td>8.06</td>\n",
              "    </tr>\n",
              "  </tbody>\n",
              "</table>\n",
              "</div>"
            ]
          },
          "metadata": {
            "tags": []
          },
          "execution_count": 13
        }
      ]
    },
    {
      "cell_type": "code",
      "metadata": {
        "id": "Q3aJJNyUZai9",
        "colab_type": "code",
        "colab": {},
        "outputId": "32d0af81-24af-427e-ecf5-98ddac010b7c"
      },
      "source": [
        "\"\"\"\n",
        "Podemos cruzar dados das três entidades, PRODUCTS x DEPARTMENTS x AISLES\n",
        "para descobrirmos por exemplo: \n",
        "\"Quantos produtos temos por corredor e quais são seus departamentos?\" \n",
        "\"\"\"\n",
        "products_aisles_dep.groupby(['aisle_id', 'corredores', 'departamento']).agg({'product_id': 'count'}).sort_values(by='product_id', ascending=False).head(aisles.size).rename(columns={'product_id': 'Counts'})\n",
        "\n"
      ],
      "execution_count": null,
      "outputs": [
        {
          "output_type": "execute_result",
          "data": {
            "text/plain": [
              "                                                     Counts\n",
              "aisle_id corredores                   departamento         \n",
              "100      missing                      missing          1258\n",
              "45       candy chocolate              snacks           1246\n",
              "37       ice cream ice                frozen           1091\n",
              "47       vitamins supplements         personal care    1038\n",
              "120      yogurt                       dairy eggs       1026\n",
              "...                                                     ...\n",
              "113      frozen juice                 frozen             47\n",
              "82       baby accessories             babies             44\n",
              "32       packaged produce             produce            32\n",
              "68       bulk grains rice dried goods bulk               26\n",
              "18       bulk dried fruits vegetables bulk               12\n",
              "\n",
              "[134 rows x 1 columns]"
            ],
            "text/html": [
              "<div>\n",
              "<style scoped>\n",
              "    .dataframe tbody tr th:only-of-type {\n",
              "        vertical-align: middle;\n",
              "    }\n",
              "\n",
              "    .dataframe tbody tr th {\n",
              "        vertical-align: top;\n",
              "    }\n",
              "\n",
              "    .dataframe thead th {\n",
              "        text-align: right;\n",
              "    }\n",
              "</style>\n",
              "<table border=\"1\" class=\"dataframe\">\n",
              "  <thead>\n",
              "    <tr style=\"text-align: right;\">\n",
              "      <th></th>\n",
              "      <th></th>\n",
              "      <th></th>\n",
              "      <th>Counts</th>\n",
              "    </tr>\n",
              "    <tr>\n",
              "      <th>aisle_id</th>\n",
              "      <th>corredores</th>\n",
              "      <th>departamento</th>\n",
              "      <th></th>\n",
              "    </tr>\n",
              "  </thead>\n",
              "  <tbody>\n",
              "    <tr>\n",
              "      <th>100</th>\n",
              "      <th>missing</th>\n",
              "      <th>missing</th>\n",
              "      <td>1258</td>\n",
              "    </tr>\n",
              "    <tr>\n",
              "      <th>45</th>\n",
              "      <th>candy chocolate</th>\n",
              "      <th>snacks</th>\n",
              "      <td>1246</td>\n",
              "    </tr>\n",
              "    <tr>\n",
              "      <th>37</th>\n",
              "      <th>ice cream ice</th>\n",
              "      <th>frozen</th>\n",
              "      <td>1091</td>\n",
              "    </tr>\n",
              "    <tr>\n",
              "      <th>47</th>\n",
              "      <th>vitamins supplements</th>\n",
              "      <th>personal care</th>\n",
              "      <td>1038</td>\n",
              "    </tr>\n",
              "    <tr>\n",
              "      <th>120</th>\n",
              "      <th>yogurt</th>\n",
              "      <th>dairy eggs</th>\n",
              "      <td>1026</td>\n",
              "    </tr>\n",
              "    <tr>\n",
              "      <th>...</th>\n",
              "      <th>...</th>\n",
              "      <th>...</th>\n",
              "      <td>...</td>\n",
              "    </tr>\n",
              "    <tr>\n",
              "      <th>113</th>\n",
              "      <th>frozen juice</th>\n",
              "      <th>frozen</th>\n",
              "      <td>47</td>\n",
              "    </tr>\n",
              "    <tr>\n",
              "      <th>82</th>\n",
              "      <th>baby accessories</th>\n",
              "      <th>babies</th>\n",
              "      <td>44</td>\n",
              "    </tr>\n",
              "    <tr>\n",
              "      <th>32</th>\n",
              "      <th>packaged produce</th>\n",
              "      <th>produce</th>\n",
              "      <td>32</td>\n",
              "    </tr>\n",
              "    <tr>\n",
              "      <th>68</th>\n",
              "      <th>bulk grains rice dried goods</th>\n",
              "      <th>bulk</th>\n",
              "      <td>26</td>\n",
              "    </tr>\n",
              "    <tr>\n",
              "      <th>18</th>\n",
              "      <th>bulk dried fruits vegetables</th>\n",
              "      <th>bulk</th>\n",
              "      <td>12</td>\n",
              "    </tr>\n",
              "  </tbody>\n",
              "</table>\n",
              "<p>134 rows × 1 columns</p>\n",
              "</div>"
            ]
          },
          "metadata": {
            "tags": []
          },
          "execution_count": 14
        }
      ]
    },
    {
      "cell_type": "markdown",
      "metadata": {
        "id": "5wd4Q_chZajA",
        "colab_type": "text"
      },
      "source": [
        "# ORDER_PRODUCTS_PRIOR\n",
        "Entidade que representa a união entre as entidades ORDER e PRODUCTS\n",
        "## Colunas\n",
        "- order_id [identificador do pedido]\n",
        "- product_id [identificador do produto]\n",
        "- add_to_cart_order [número de fila que produto foi inserido]\n",
        "- reordered [flag se foi reordenado]"
      ]
    },
    {
      "cell_type": "code",
      "metadata": {
        "id": "1HiGOd4RZajA",
        "colab_type": "code",
        "colab": {
          "base_uri": "https://localhost:8080/",
          "height": 204
        },
        "outputId": "357bbf6c-0734-4341-a387-afb44a63a249"
      },
      "source": [
        "ord_prod_prior = pd.read_csv('../content/order_products_prior.csv')\n",
        "ord_prod_prior.head()"
      ],
      "execution_count": 3,
      "outputs": [
        {
          "output_type": "execute_result",
          "data": {
            "text/html": [
              "<div>\n",
              "<style scoped>\n",
              "    .dataframe tbody tr th:only-of-type {\n",
              "        vertical-align: middle;\n",
              "    }\n",
              "\n",
              "    .dataframe tbody tr th {\n",
              "        vertical-align: top;\n",
              "    }\n",
              "\n",
              "    .dataframe thead th {\n",
              "        text-align: right;\n",
              "    }\n",
              "</style>\n",
              "<table border=\"1\" class=\"dataframe\">\n",
              "  <thead>\n",
              "    <tr style=\"text-align: right;\">\n",
              "      <th></th>\n",
              "      <th>order_id</th>\n",
              "      <th>product_id</th>\n",
              "      <th>add_to_cart_order</th>\n",
              "      <th>reordered</th>\n",
              "    </tr>\n",
              "  </thead>\n",
              "  <tbody>\n",
              "    <tr>\n",
              "      <th>0</th>\n",
              "      <td>2</td>\n",
              "      <td>33120</td>\n",
              "      <td>1.0</td>\n",
              "      <td>1.0</td>\n",
              "    </tr>\n",
              "    <tr>\n",
              "      <th>1</th>\n",
              "      <td>2</td>\n",
              "      <td>28985</td>\n",
              "      <td>2.0</td>\n",
              "      <td>1.0</td>\n",
              "    </tr>\n",
              "    <tr>\n",
              "      <th>2</th>\n",
              "      <td>2</td>\n",
              "      <td>9327</td>\n",
              "      <td>3.0</td>\n",
              "      <td>0.0</td>\n",
              "    </tr>\n",
              "    <tr>\n",
              "      <th>3</th>\n",
              "      <td>2</td>\n",
              "      <td>45918</td>\n",
              "      <td>4.0</td>\n",
              "      <td>1.0</td>\n",
              "    </tr>\n",
              "    <tr>\n",
              "      <th>4</th>\n",
              "      <td>2</td>\n",
              "      <td>30035</td>\n",
              "      <td>5.0</td>\n",
              "      <td>0.0</td>\n",
              "    </tr>\n",
              "  </tbody>\n",
              "</table>\n",
              "</div>"
            ],
            "text/plain": [
              "   order_id  product_id  add_to_cart_order  reordered\n",
              "0         2       33120                1.0        1.0\n",
              "1         2       28985                2.0        1.0\n",
              "2         2        9327                3.0        0.0\n",
              "3         2       45918                4.0        1.0\n",
              "4         2       30035                5.0        0.0"
            ]
          },
          "metadata": {
            "tags": []
          },
          "execution_count": 3
        }
      ]
    },
    {
      "cell_type": "code",
      "metadata": {
        "id": "SSF3T2Sfbky8",
        "colab_type": "code",
        "colab": {
          "base_uri": "https://localhost:8080/",
          "height": 204
        },
        "outputId": "28653516-30ad-458a-e9ac-880b0094cadc"
      },
      "source": [
        "\"\"\"\n",
        "Merge com Entidades relacionadas (Aqui poderiamos ir mais alem pois products tem relacionamento com outras tabelas!)\n",
        "\"\"\"\n",
        "ord_prod_merge = ord_prod_prior.merge(products, left_on='product_id', right_on='product_id').merge(orders, left_on=\"order_id\", right_on=\"id\")\n",
        "ord_prod_merge.head()"
      ],
      "execution_count": 9,
      "outputs": [
        {
          "output_type": "execute_result",
          "data": {
            "text/html": [
              "<div>\n",
              "<style scoped>\n",
              "    .dataframe tbody tr th:only-of-type {\n",
              "        vertical-align: middle;\n",
              "    }\n",
              "\n",
              "    .dataframe tbody tr th {\n",
              "        vertical-align: top;\n",
              "    }\n",
              "\n",
              "    .dataframe thead th {\n",
              "        text-align: right;\n",
              "    }\n",
              "</style>\n",
              "<table border=\"1\" class=\"dataframe\">\n",
              "  <thead>\n",
              "    <tr style=\"text-align: right;\">\n",
              "      <th></th>\n",
              "      <th>order_id</th>\n",
              "      <th>product_id</th>\n",
              "      <th>add_to_cart_order</th>\n",
              "      <th>reordered</th>\n",
              "      <th>product_name</th>\n",
              "      <th>aisle_id</th>\n",
              "      <th>department_id</th>\n",
              "      <th>id</th>\n",
              "      <th>user_id</th>\n",
              "      <th>avaliacoes</th>\n",
              "      <th>numero_pedido</th>\n",
              "      <th>order_dow</th>\n",
              "      <th>hora_pedido_dia</th>\n",
              "      <th>dias_desde_pedido_previo</th>\n",
              "    </tr>\n",
              "  </thead>\n",
              "  <tbody>\n",
              "    <tr>\n",
              "      <th>0</th>\n",
              "      <td>120</td>\n",
              "      <td>33120</td>\n",
              "      <td>13.0</td>\n",
              "      <td>0.0</td>\n",
              "      <td>Organic Egg Whites</td>\n",
              "      <td>86</td>\n",
              "      <td>16</td>\n",
              "      <td>120</td>\n",
              "      <td>23750</td>\n",
              "      <td>prior</td>\n",
              "      <td>11.0</td>\n",
              "      <td>6.0</td>\n",
              "      <td>8.0</td>\n",
              "      <td>10.0</td>\n",
              "    </tr>\n",
              "    <tr>\n",
              "      <th>1</th>\n",
              "      <td>120</td>\n",
              "      <td>41273</td>\n",
              "      <td>4.0</td>\n",
              "      <td>0.0</td>\n",
              "      <td>Broccoli Florets</td>\n",
              "      <td>123</td>\n",
              "      <td>4</td>\n",
              "      <td>120</td>\n",
              "      <td>23750</td>\n",
              "      <td>prior</td>\n",
              "      <td>11.0</td>\n",
              "      <td>6.0</td>\n",
              "      <td>8.0</td>\n",
              "      <td>10.0</td>\n",
              "    </tr>\n",
              "    <tr>\n",
              "      <th>2</th>\n",
              "      <td>120</td>\n",
              "      <td>40545</td>\n",
              "      <td>1.0</td>\n",
              "      <td>0.0</td>\n",
              "      <td>Berry Medley</td>\n",
              "      <td>116</td>\n",
              "      <td>1</td>\n",
              "      <td>120</td>\n",
              "      <td>23750</td>\n",
              "      <td>prior</td>\n",
              "      <td>11.0</td>\n",
              "      <td>6.0</td>\n",
              "      <td>8.0</td>\n",
              "      <td>10.0</td>\n",
              "    </tr>\n",
              "    <tr>\n",
              "      <th>3</th>\n",
              "      <td>120</td>\n",
              "      <td>28204</td>\n",
              "      <td>3.0</td>\n",
              "      <td>0.0</td>\n",
              "      <td>Organic Fuji Apple</td>\n",
              "      <td>24</td>\n",
              "      <td>4</td>\n",
              "      <td>120</td>\n",
              "      <td>23750</td>\n",
              "      <td>prior</td>\n",
              "      <td>11.0</td>\n",
              "      <td>6.0</td>\n",
              "      <td>8.0</td>\n",
              "      <td>10.0</td>\n",
              "    </tr>\n",
              "    <tr>\n",
              "      <th>4</th>\n",
              "      <td>120</td>\n",
              "      <td>26604</td>\n",
              "      <td>2.0</td>\n",
              "      <td>0.0</td>\n",
              "      <td>Organic Blackberries</td>\n",
              "      <td>24</td>\n",
              "      <td>4</td>\n",
              "      <td>120</td>\n",
              "      <td>23750</td>\n",
              "      <td>prior</td>\n",
              "      <td>11.0</td>\n",
              "      <td>6.0</td>\n",
              "      <td>8.0</td>\n",
              "      <td>10.0</td>\n",
              "    </tr>\n",
              "  </tbody>\n",
              "</table>\n",
              "</div>"
            ],
            "text/plain": [
              "   order_id  product_id  ...  hora_pedido_dia  dias_desde_pedido_previo\n",
              "0       120       33120  ...              8.0                      10.0\n",
              "1       120       41273  ...              8.0                      10.0\n",
              "2       120       40545  ...              8.0                      10.0\n",
              "3       120       28204  ...              8.0                      10.0\n",
              "4       120       26604  ...              8.0                      10.0\n",
              "\n",
              "[5 rows x 14 columns]"
            ]
          },
          "metadata": {
            "tags": []
          },
          "execution_count": 9
        }
      ]
    }
  ]
}