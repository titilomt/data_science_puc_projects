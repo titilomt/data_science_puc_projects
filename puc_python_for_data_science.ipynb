{
 "cells": [
  {
   "cell_type": "markdown",
   "metadata": {},
   "source": [
    "<!--BOOK_INFORMATION-->\n",
    "<img align=\"left\" style=\"padding-right:10px;\" src=\"figures/dogecoin.png\">\n",
    "\n",
    "*Notebook criado por **Tiago Henrique Pereira Fonseca** - para a diciplina de Programação para Ciência de dados - Pós Graduação PUC Minas*\n",
    "\n",
    "*O trabalho deve ser feito de maneira descritiva, apresentando a documentação do caminho trilhado para chegar as analises.*"
   ]
  },
  {
   "cell_type": "markdown",
   "metadata": {},
   "source": [
    "# Ferramentas Usadas:\n",
    "- Jupyter Lab \n",
    "- Pandas"
   ]
  },
  {
   "cell_type": "markdown",
   "metadata": {},
   "source": [
    "# Base de CSV\n",
    "- https://www.kaggle.com/psparks/instacart-market-basket-analysis\n",
    "\n",
    "# Inicialização de modulos"
   ]
  },
  {
   "cell_type": "code",
   "execution_count": 1,
   "metadata": {},
   "outputs": [],
   "source": [
    "import numpy as np\n",
    "import pandas as pd"
   ]
  },
  {
   "cell_type": "markdown",
   "metadata": {},
   "source": [
    "## CSV\n",
    "Os arquivos CSV são compostos por:\n",
    "- aisles.csv (path='csv/aisles.csv')\n",
    "- departments.csv (path='csv/departments.csv')\n",
    "- orders.csv (path='csv/orders.csv')\n",
    "- products.csv (path='csv/products.csv')\n",
    "- order_products_prior.csv (path='csv/order_products_prior.csv')\n",
    "- order_products_train.csv (path='csv/order_products_train.csv')"
   ]
  },
  {
   "cell_type": "markdown",
   "metadata": {},
   "source": [
    "# AISLES"
   ]
  },
  {
   "cell_type": "markdown",
   "metadata": {},
   "source": [
    "Representa os corredores de nossa rede de supermercados\n",
    "## Campos\n",
    "- aisle_id [identificador unico de AISLES]\n",
    "- aisle [propriedade que modela seu AISLE ex: \"tea\"]"
   ]
  },
  {
   "cell_type": "code",
   "execution_count": 2,
   "metadata": {},
   "outputs": [
    {
     "output_type": "execute_result",
     "data": {
      "text/plain": "   id                  corredores\n0   1       prepared soups salads\n1   2           specialty cheeses\n2   3         energy granola bars\n3   4               instant foods\n4   5  marinades meat preparation",
      "text/html": "<div>\n<style scoped>\n    .dataframe tbody tr th:only-of-type {\n        vertical-align: middle;\n    }\n\n    .dataframe tbody tr th {\n        vertical-align: top;\n    }\n\n    .dataframe thead th {\n        text-align: right;\n    }\n</style>\n<table border=\"1\" class=\"dataframe\">\n  <thead>\n    <tr style=\"text-align: right;\">\n      <th></th>\n      <th>id</th>\n      <th>corredores</th>\n    </tr>\n  </thead>\n  <tbody>\n    <tr>\n      <th>0</th>\n      <td>1</td>\n      <td>prepared soups salads</td>\n    </tr>\n    <tr>\n      <th>1</th>\n      <td>2</td>\n      <td>specialty cheeses</td>\n    </tr>\n    <tr>\n      <th>2</th>\n      <td>3</td>\n      <td>energy granola bars</td>\n    </tr>\n    <tr>\n      <th>3</th>\n      <td>4</td>\n      <td>instant foods</td>\n    </tr>\n    <tr>\n      <th>4</th>\n      <td>5</td>\n      <td>marinades meat preparation</td>\n    </tr>\n  </tbody>\n</table>\n</div>"
     },
     "metadata": {},
     "execution_count": 2
    }
   ],
   "source": [
    "aisles = pd.read_csv('csv/aisles.csv')\n",
    "aisles.columns = ['id', 'corredores']\n",
    "aisles.head()"
   ]
  },
  {
   "cell_type": "markdown",
   "metadata": {},
   "source": [
    "Entidade Aisles não possui ligações com outras entidades, podendo ser uma entidade \"filha\" que cede a uma entidade \"pai\" seu \"id\"."
   ]
  },
  {
   "cell_type": "markdown",
   "metadata": {},
   "source": [
    "# DEPARTMENTS\n",
    "Entidade que representa os departamentos dentro de nosso supermercado\n",
    "## Campos\n",
    "- department_id [identificador do departamento]\n",
    "- department [nome do departamento ex: \"frozen\"]"
   ]
  },
  {
   "cell_type": "code",
   "execution_count": 3,
   "metadata": {},
   "outputs": [
    {
     "output_type": "execute_result",
     "data": {
      "text/plain": "   id departamento\n0   1       frozen\n1   2        other\n2   3       bakery\n3   4      produce\n4   5      alcohol",
      "text/html": "<div>\n<style scoped>\n    .dataframe tbody tr th:only-of-type {\n        vertical-align: middle;\n    }\n\n    .dataframe tbody tr th {\n        vertical-align: top;\n    }\n\n    .dataframe thead th {\n        text-align: right;\n    }\n</style>\n<table border=\"1\" class=\"dataframe\">\n  <thead>\n    <tr style=\"text-align: right;\">\n      <th></th>\n      <th>id</th>\n      <th>departamento</th>\n    </tr>\n  </thead>\n  <tbody>\n    <tr>\n      <th>0</th>\n      <td>1</td>\n      <td>frozen</td>\n    </tr>\n    <tr>\n      <th>1</th>\n      <td>2</td>\n      <td>other</td>\n    </tr>\n    <tr>\n      <th>2</th>\n      <td>3</td>\n      <td>bakery</td>\n    </tr>\n    <tr>\n      <th>3</th>\n      <td>4</td>\n      <td>produce</td>\n    </tr>\n    <tr>\n      <th>4</th>\n      <td>5</td>\n      <td>alcohol</td>\n    </tr>\n  </tbody>\n</table>\n</div>"
     },
     "metadata": {},
     "execution_count": 3
    }
   ],
   "source": [
    "departments = pd.read_csv('csv/departments.csv')\n",
    "departments.columns = ['id', 'departamento']\n",
    "departments.head()"
   ]
  },
  {
   "cell_type": "markdown",
   "metadata": {},
   "source": [
    "Entidade DEPARTMENTS não possui ligações com outras entidades, podendo ser uma entidade \"filha\" de uma Entidade com mais propriedades. "
   ]
  },
  {
   "cell_type": "markdown",
   "metadata": {},
   "source": [
    "# ORDERS\n",
    "Entidade ORDERS representa os pedidos feitos em nosso supermercado\n",
    "## Campos\n",
    "- order_id [identificador do pedido]\n",
    "- user_id [identificador do consumidor]\n",
    "- eval_set [avaliações do pedido]\n",
    "- order_number [número do pedido]\n",
    "- order_dow\n",
    "- order_hour_of_day [hora do dia que foi feito o pedido]\n",
    "- days_since_prior_order [dias desde que o pedido previo foi feito]"
   ]
  },
  {
   "cell_type": "code",
   "execution_count": 4,
   "metadata": {},
   "outputs": [
    {
     "output_type": "execute_result",
     "data": {
      "text/plain": "        id  user_id avaliacoes  numero_pedido  order_dow  hora_pedido_dia  \\\n0  2539329        1      prior              1          2                8   \n1  2398795        1      prior              2          3                7   \n2   473747        1      prior              3          3               12   \n3  2254736        1      prior              4          4                7   \n4   431534        1      prior              5          4               15   \n\n   dias_desde_pedido_previo  \n0                       NaN  \n1                      15.0  \n2                      21.0  \n3                      29.0  \n4                      28.0  ",
      "text/html": "<div>\n<style scoped>\n    .dataframe tbody tr th:only-of-type {\n        vertical-align: middle;\n    }\n\n    .dataframe tbody tr th {\n        vertical-align: top;\n    }\n\n    .dataframe thead th {\n        text-align: right;\n    }\n</style>\n<table border=\"1\" class=\"dataframe\">\n  <thead>\n    <tr style=\"text-align: right;\">\n      <th></th>\n      <th>id</th>\n      <th>user_id</th>\n      <th>avaliacoes</th>\n      <th>numero_pedido</th>\n      <th>order_dow</th>\n      <th>hora_pedido_dia</th>\n      <th>dias_desde_pedido_previo</th>\n    </tr>\n  </thead>\n  <tbody>\n    <tr>\n      <th>0</th>\n      <td>2539329</td>\n      <td>1</td>\n      <td>prior</td>\n      <td>1</td>\n      <td>2</td>\n      <td>8</td>\n      <td>NaN</td>\n    </tr>\n    <tr>\n      <th>1</th>\n      <td>2398795</td>\n      <td>1</td>\n      <td>prior</td>\n      <td>2</td>\n      <td>3</td>\n      <td>7</td>\n      <td>15.0</td>\n    </tr>\n    <tr>\n      <th>2</th>\n      <td>473747</td>\n      <td>1</td>\n      <td>prior</td>\n      <td>3</td>\n      <td>3</td>\n      <td>12</td>\n      <td>21.0</td>\n    </tr>\n    <tr>\n      <th>3</th>\n      <td>2254736</td>\n      <td>1</td>\n      <td>prior</td>\n      <td>4</td>\n      <td>4</td>\n      <td>7</td>\n      <td>29.0</td>\n    </tr>\n    <tr>\n      <th>4</th>\n      <td>431534</td>\n      <td>1</td>\n      <td>prior</td>\n      <td>5</td>\n      <td>4</td>\n      <td>15</td>\n      <td>28.0</td>\n    </tr>\n  </tbody>\n</table>\n</div>"
     },
     "metadata": {},
     "execution_count": 4
    }
   ],
   "source": [
    "orders = pd.read_csv('csv/orders.csv')\n",
    "orders.columns = ['id', 'user_id', 'avaliacoes', 'numero_pedido', 'order_dow', 'hora_pedido_dia', 'dias_desde_pedido_previo']\n",
    "orders.head()"
   ]
  },
  {
   "cell_type": "code",
   "execution_count": 5,
   "metadata": {},
   "outputs": [
    {
     "output_type": "execute_result",
     "data": {
      "text/plain": "            numero_pedido  hora_pedido_dia  dias_desde_pedido_previo\navaliacoes                                                          \nprior           17.191066        13.443466                 10.707242\ntest            16.566627        13.592200                 17.082640\ntrain           16.603937        13.581363                 17.049859",
      "text/html": "<div>\n<style scoped>\n    .dataframe tbody tr th:only-of-type {\n        vertical-align: middle;\n    }\n\n    .dataframe tbody tr th {\n        vertical-align: top;\n    }\n\n    .dataframe thead th {\n        text-align: right;\n    }\n</style>\n<table border=\"1\" class=\"dataframe\">\n  <thead>\n    <tr style=\"text-align: right;\">\n      <th></th>\n      <th>numero_pedido</th>\n      <th>hora_pedido_dia</th>\n      <th>dias_desde_pedido_previo</th>\n    </tr>\n    <tr>\n      <th>avaliacoes</th>\n      <th></th>\n      <th></th>\n      <th></th>\n    </tr>\n  </thead>\n  <tbody>\n    <tr>\n      <th>prior</th>\n      <td>17.191066</td>\n      <td>13.443466</td>\n      <td>10.707242</td>\n    </tr>\n    <tr>\n      <th>test</th>\n      <td>16.566627</td>\n      <td>13.592200</td>\n      <td>17.082640</td>\n    </tr>\n    <tr>\n      <th>train</th>\n      <td>16.603937</td>\n      <td>13.581363</td>\n      <td>17.049859</td>\n    </tr>\n  </tbody>\n</table>\n</div>"
     },
     "metadata": {},
     "execution_count": 5
    }
   ],
   "source": [
    "'''\n",
    "Aqui podemos fazer agrupamentos para extrair informações! \n",
    "Por exemplo: \n",
    "    \"Qual a média de número de pedido, \n",
    "    hora que o pedido foi feito, \n",
    "    dias desde que o pedido previo foi realizados,\n",
    "    de acordo com cada avaliação?\"\n",
    "'''\n",
    "orders.groupby('avaliacoes').mean()[['numero_pedido', 'hora_pedido_dia', 'dias_desde_pedido_previo']]"
   ]
  },
  {
   "cell_type": "code",
   "execution_count": 6,
   "metadata": {},
   "outputs": [
    {
     "output_type": "execute_result",
     "data": {
      "text/plain": "        counts  percentage\nprior  3214874       93.97\ntrain   131209        3.84\ntest     75000        2.19",
      "text/html": "<div>\n<style scoped>\n    .dataframe tbody tr th:only-of-type {\n        vertical-align: middle;\n    }\n\n    .dataframe tbody tr th {\n        vertical-align: top;\n    }\n\n    .dataframe thead th {\n        text-align: right;\n    }\n</style>\n<table border=\"1\" class=\"dataframe\">\n  <thead>\n    <tr style=\"text-align: right;\">\n      <th></th>\n      <th>counts</th>\n      <th>percentage</th>\n    </tr>\n  </thead>\n  <tbody>\n    <tr>\n      <th>prior</th>\n      <td>3214874</td>\n      <td>93.97</td>\n    </tr>\n    <tr>\n      <th>train</th>\n      <td>131209</td>\n      <td>3.84</td>\n    </tr>\n    <tr>\n      <th>test</th>\n      <td>75000</td>\n      <td>2.19</td>\n    </tr>\n  </tbody>\n</table>\n</div>"
     },
     "metadata": {},
     "execution_count": 6
    }
   ],
   "source": [
    "'''\n",
    "Podemos também tirar a porcentagem de um valor dentro de uma coluna\n",
    "Aplicado a seguinte formula: [(qtde_value/qtde_total)*100]\n",
    "(orders['avaliacoes'].value_counts(normalize=True).mul(100)/orders['avaliacoes'].count())*100\n",
    "'''\n",
    "avaliacoes = orders['avaliacoes']\n",
    "df_avaliacoes = pd.concat([avaliacoes.value_counts(),              \n",
    "avaliacoes.value_counts(normalize=True).mul(100)],axis=1,keys=('counts','percentage'))\n",
    "df_avaliacoes['percentage'] = pd.Series([round(val, 2) for val in df_avaliacoes['percentage']], index = df_avaliacoes.index)\n",
    "df_avaliacoes.head()"
   ]
  },
  {
   "cell_type": "code",
   "execution_count": 7,
   "metadata": {},
   "outputs": [
    {
     "output_type": "execute_result",
     "data": {
      "text/plain": "    counts  percentage\n10  288418        8.43\n11  284728        8.32\n15  283639        8.29\n14  283042        8.27\n13  277999        8.13",
      "text/html": "<div>\n<style scoped>\n    .dataframe tbody tr th:only-of-type {\n        vertical-align: middle;\n    }\n\n    .dataframe tbody tr th {\n        vertical-align: top;\n    }\n\n    .dataframe thead th {\n        text-align: right;\n    }\n</style>\n<table border=\"1\" class=\"dataframe\">\n  <thead>\n    <tr style=\"text-align: right;\">\n      <th></th>\n      <th>counts</th>\n      <th>percentage</th>\n    </tr>\n  </thead>\n  <tbody>\n    <tr>\n      <th>10</th>\n      <td>288418</td>\n      <td>8.43</td>\n    </tr>\n    <tr>\n      <th>11</th>\n      <td>284728</td>\n      <td>8.32</td>\n    </tr>\n    <tr>\n      <th>15</th>\n      <td>283639</td>\n      <td>8.29</td>\n    </tr>\n    <tr>\n      <th>14</th>\n      <td>283042</td>\n      <td>8.27</td>\n    </tr>\n    <tr>\n      <th>13</th>\n      <td>277999</td>\n      <td>8.13</td>\n    </tr>\n  </tbody>\n</table>\n</div>"
     },
     "metadata": {},
     "execution_count": 7
    }
   ],
   "source": [
    "'''\n",
    "Podemos responder perguntas como: \n",
    "Qual a hora do dia que temos mais pedidos feitos?\n",
    "'''\n",
    "hora_dia_pedido = orders['hora_pedido_dia']\n",
    "df_hora_dia_pedido = pd.concat([hora_dia_pedido.value_counts(),              \n",
    "hora_dia_pedido.value_counts(normalize=True).mul(100)],axis=1,keys=('counts','percentage'))\n",
    "df_hora_dia_pedido['percentage'] = pd.Series([round(val, 2) for val in df_hora_dia_pedido['percentage']], index = df_hora_dia_pedido.index)\n",
    "df_hora_dia_pedido.head()"
   ]
  },
  {
   "cell_type": "code",
   "execution_count": 8,
   "metadata": {},
   "outputs": [
    {
     "output_type": "execute_result",
     "data": {
      "text/plain": "30.0"
     },
     "metadata": {},
     "execution_count": 8
    }
   ],
   "source": [
    "'''\n",
    "Qual foi o maior atraso que tivemos desde que o pedido foi feito\n",
    "'''\n",
    "dias_desde_pedido_previo = orders['dias_desde_pedido_previo']\n",
    "dias_desde_pedido_previo.max()"
   ]
  },
  {
   "cell_type": "markdown",
   "metadata": {},
   "source": [
    "Entidade ORDERS não possui propriedades que se agrupam com outras entidades. Porém tiramos algumas conclusões sobre a Entidade com relação a ela mesma."
   ]
  },
  {
   "cell_type": "markdown",
   "metadata": {},
   "source": [
    "# PRODUCTS\n",
    "Relacionamento que trata dos produtos de nosso supermercado\n",
    "## Campos\n",
    "- product_id [identificador do produto]\n",
    "- product_name [nome do produto]\n",
    "- aisle_id [identificador do corredor]\n",
    "- department_id [identificador do departamento]"
   ]
  },
  {
   "cell_type": "code",
   "execution_count": 9,
   "metadata": {},
   "outputs": [
    {
     "output_type": "execute_result",
     "data": {
      "text/plain": "   product_id                                       product_name  aisle_id  \\\n0           1                         Chocolate Sandwich Cookies        61   \n1           2                                   All-Seasons Salt       104   \n2           3               Robust Golden Unsweetened Oolong Tea        94   \n3           4  Smart Ones Classic Favorites Mini Rigatoni Wit...        38   \n4           5                          Green Chile Anytime Sauce         5   \n\n   department_id  \n0             19  \n1             13  \n2              7  \n3              1  \n4             13  ",
      "text/html": "<div>\n<style scoped>\n    .dataframe tbody tr th:only-of-type {\n        vertical-align: middle;\n    }\n\n    .dataframe tbody tr th {\n        vertical-align: top;\n    }\n\n    .dataframe thead th {\n        text-align: right;\n    }\n</style>\n<table border=\"1\" class=\"dataframe\">\n  <thead>\n    <tr style=\"text-align: right;\">\n      <th></th>\n      <th>product_id</th>\n      <th>product_name</th>\n      <th>aisle_id</th>\n      <th>department_id</th>\n    </tr>\n  </thead>\n  <tbody>\n    <tr>\n      <th>0</th>\n      <td>1</td>\n      <td>Chocolate Sandwich Cookies</td>\n      <td>61</td>\n      <td>19</td>\n    </tr>\n    <tr>\n      <th>1</th>\n      <td>2</td>\n      <td>All-Seasons Salt</td>\n      <td>104</td>\n      <td>13</td>\n    </tr>\n    <tr>\n      <th>2</th>\n      <td>3</td>\n      <td>Robust Golden Unsweetened Oolong Tea</td>\n      <td>94</td>\n      <td>7</td>\n    </tr>\n    <tr>\n      <th>3</th>\n      <td>4</td>\n      <td>Smart Ones Classic Favorites Mini Rigatoni Wit...</td>\n      <td>38</td>\n      <td>1</td>\n    </tr>\n    <tr>\n      <th>4</th>\n      <td>5</td>\n      <td>Green Chile Anytime Sauce</td>\n      <td>5</td>\n      <td>13</td>\n    </tr>\n  </tbody>\n</table>\n</div>"
     },
     "metadata": {},
     "execution_count": 9
    }
   ],
   "source": [
    "products = pd.read_csv('csv/products.csv')\n",
    "products.head()"
   ]
  },
  {
   "cell_type": "code",
   "execution_count": 10,
   "metadata": {},
   "outputs": [
    {
     "output_type": "execute_result",
     "data": {
      "text/plain": "   product_id                                    product_name  aisle_id  \\\n0           1                      Chocolate Sandwich Cookies        61   \n1          78               Nutter Butter Cookie Bites Go-Pak        61   \n2         102                           Danish Butter Cookies        61   \n3         172  Gluten Free All Natural Chocolate Chip Cookies        61   \n4         285                    Mini Nilla Wafers Munch Pack        61   \n\n   department_id  id     corredores  \n0             19  61  cookies cakes  \n1             19  61  cookies cakes  \n2             19  61  cookies cakes  \n3             19  61  cookies cakes  \n4             19  61  cookies cakes  ",
      "text/html": "<div>\n<style scoped>\n    .dataframe tbody tr th:only-of-type {\n        vertical-align: middle;\n    }\n\n    .dataframe tbody tr th {\n        vertical-align: top;\n    }\n\n    .dataframe thead th {\n        text-align: right;\n    }\n</style>\n<table border=\"1\" class=\"dataframe\">\n  <thead>\n    <tr style=\"text-align: right;\">\n      <th></th>\n      <th>product_id</th>\n      <th>product_name</th>\n      <th>aisle_id</th>\n      <th>department_id</th>\n      <th>id</th>\n      <th>corredores</th>\n    </tr>\n  </thead>\n  <tbody>\n    <tr>\n      <th>0</th>\n      <td>1</td>\n      <td>Chocolate Sandwich Cookies</td>\n      <td>61</td>\n      <td>19</td>\n      <td>61</td>\n      <td>cookies cakes</td>\n    </tr>\n    <tr>\n      <th>1</th>\n      <td>78</td>\n      <td>Nutter Butter Cookie Bites Go-Pak</td>\n      <td>61</td>\n      <td>19</td>\n      <td>61</td>\n      <td>cookies cakes</td>\n    </tr>\n    <tr>\n      <th>2</th>\n      <td>102</td>\n      <td>Danish Butter Cookies</td>\n      <td>61</td>\n      <td>19</td>\n      <td>61</td>\n      <td>cookies cakes</td>\n    </tr>\n    <tr>\n      <th>3</th>\n      <td>172</td>\n      <td>Gluten Free All Natural Chocolate Chip Cookies</td>\n      <td>61</td>\n      <td>19</td>\n      <td>61</td>\n      <td>cookies cakes</td>\n    </tr>\n    <tr>\n      <th>4</th>\n      <td>285</td>\n      <td>Mini Nilla Wafers Munch Pack</td>\n      <td>61</td>\n      <td>19</td>\n      <td>61</td>\n      <td>cookies cakes</td>\n    </tr>\n  </tbody>\n</table>\n</div>"
     },
     "metadata": {},
     "execution_count": 10
    }
   ],
   "source": [
    "'''\n",
    "Entidade Products possui relacoes com AISLES e DEPARTMENTS\n",
    "podemos usar a função merge para unir as entidades com a sua \n",
    "chave de indentificação\n",
    "'''\n",
    "merged_prod = products.merge(aisles, left_on='aisle_id', right_on='id')\n",
    "merged_prod.head()"
   ]
  },
  {
   "cell_type": "code",
   "execution_count": 11,
   "metadata": {},
   "outputs": [
    {
     "output_type": "execute_result",
     "data": {
      "text/plain": "                      count\ncorredores                 \nmissing                1258\ncandy chocolate        1246\nice cream ice          1091\nvitamins supplements   1038\nyogurt                 1026",
      "text/html": "<div>\n<style scoped>\n    .dataframe tbody tr th:only-of-type {\n        vertical-align: middle;\n    }\n\n    .dataframe tbody tr th {\n        vertical-align: top;\n    }\n\n    .dataframe thead th {\n        text-align: right;\n    }\n</style>\n<table border=\"1\" class=\"dataframe\">\n  <thead>\n    <tr style=\"text-align: right;\">\n      <th></th>\n      <th>count</th>\n    </tr>\n    <tr>\n      <th>corredores</th>\n      <th></th>\n    </tr>\n  </thead>\n  <tbody>\n    <tr>\n      <th>missing</th>\n      <td>1258</td>\n    </tr>\n    <tr>\n      <th>candy chocolate</th>\n      <td>1246</td>\n    </tr>\n    <tr>\n      <th>ice cream ice</th>\n      <td>1091</td>\n    </tr>\n    <tr>\n      <th>vitamins supplements</th>\n      <td>1038</td>\n    </tr>\n    <tr>\n      <th>yogurt</th>\n      <td>1026</td>\n    </tr>\n  </tbody>\n</table>\n</div>"
     },
     "metadata": {},
     "execution_count": 11
    }
   ],
   "source": [
    "'''\n",
    "Com o resultado deste merge podemos cruzar informações de uma\n",
    "Entidade com outra, ex:\n",
    "\"Quantos produtos existem por categoria(corredor)? [pegando apenas os top 5]\"\n",
    "'''\n",
    "gby = merged_prod.groupby('corredores')[['product_id']].count().rename(columns={'product_id': 'count'})\n",
    "res = gby.apply(lambda x: x.sort_values(ascending=False))\n",
    "res.head()"
   ]
  },
  {
   "cell_type": "code",
   "execution_count": 12,
   "metadata": {},
   "outputs": [
    {
     "output_type": "execute_result",
     "data": {
      "text/plain": "   product_id                                    product_name  aisle_id  \\\n0           1                      Chocolate Sandwich Cookies        61   \n1          78               Nutter Butter Cookie Bites Go-Pak        61   \n2         102                           Danish Butter Cookies        61   \n3         172  Gluten Free All Natural Chocolate Chip Cookies        61   \n4         285                    Mini Nilla Wafers Munch Pack        61   \n\n   department_id  id_x     corredores  id_y departamento  \n0             19    61  cookies cakes    19       snacks  \n1             19    61  cookies cakes    19       snacks  \n2             19    61  cookies cakes    19       snacks  \n3             19    61  cookies cakes    19       snacks  \n4             19    61  cookies cakes    19       snacks  ",
      "text/html": "<div>\n<style scoped>\n    .dataframe tbody tr th:only-of-type {\n        vertical-align: middle;\n    }\n\n    .dataframe tbody tr th {\n        vertical-align: top;\n    }\n\n    .dataframe thead th {\n        text-align: right;\n    }\n</style>\n<table border=\"1\" class=\"dataframe\">\n  <thead>\n    <tr style=\"text-align: right;\">\n      <th></th>\n      <th>product_id</th>\n      <th>product_name</th>\n      <th>aisle_id</th>\n      <th>department_id</th>\n      <th>id_x</th>\n      <th>corredores</th>\n      <th>id_y</th>\n      <th>departamento</th>\n    </tr>\n  </thead>\n  <tbody>\n    <tr>\n      <th>0</th>\n      <td>1</td>\n      <td>Chocolate Sandwich Cookies</td>\n      <td>61</td>\n      <td>19</td>\n      <td>61</td>\n      <td>cookies cakes</td>\n      <td>19</td>\n      <td>snacks</td>\n    </tr>\n    <tr>\n      <th>1</th>\n      <td>78</td>\n      <td>Nutter Butter Cookie Bites Go-Pak</td>\n      <td>61</td>\n      <td>19</td>\n      <td>61</td>\n      <td>cookies cakes</td>\n      <td>19</td>\n      <td>snacks</td>\n    </tr>\n    <tr>\n      <th>2</th>\n      <td>102</td>\n      <td>Danish Butter Cookies</td>\n      <td>61</td>\n      <td>19</td>\n      <td>61</td>\n      <td>cookies cakes</td>\n      <td>19</td>\n      <td>snacks</td>\n    </tr>\n    <tr>\n      <th>3</th>\n      <td>172</td>\n      <td>Gluten Free All Natural Chocolate Chip Cookies</td>\n      <td>61</td>\n      <td>19</td>\n      <td>61</td>\n      <td>cookies cakes</td>\n      <td>19</td>\n      <td>snacks</td>\n    </tr>\n    <tr>\n      <th>4</th>\n      <td>285</td>\n      <td>Mini Nilla Wafers Munch Pack</td>\n      <td>61</td>\n      <td>19</td>\n      <td>61</td>\n      <td>cookies cakes</td>\n      <td>19</td>\n      <td>snacks</td>\n    </tr>\n  </tbody>\n</table>\n</div>"
     },
     "metadata": {},
     "execution_count": 12
    }
   ],
   "source": [
    "'''\n",
    "Podemos fazer um merge com o departamento \n",
    "e assim obter um cruzamento de dados com o merge de products x corredores\n",
    "'''\n",
    "products_aisles_dep = merged_prod.merge(departments, left_on='department_id', right_on='id')\n",
    "products_aisles_dep.head()"
   ]
  },
  {
   "cell_type": "code",
   "execution_count": 13,
   "metadata": {},
   "outputs": [
    {
     "output_type": "execute_result",
     "data": {
      "text/plain": "                             Percent\ndepartment_id departamento          \n11            personal care    13.21\n19            snacks           12.61\n13            pantry           10.81\n7             beverages         8.78\n1             frozen            8.06",
      "text/html": "<div>\n<style scoped>\n    .dataframe tbody tr th:only-of-type {\n        vertical-align: middle;\n    }\n\n    .dataframe tbody tr th {\n        vertical-align: top;\n    }\n\n    .dataframe thead th {\n        text-align: right;\n    }\n</style>\n<table border=\"1\" class=\"dataframe\">\n  <thead>\n    <tr style=\"text-align: right;\">\n      <th></th>\n      <th></th>\n      <th>Percent</th>\n    </tr>\n    <tr>\n      <th>department_id</th>\n      <th>departamento</th>\n      <th></th>\n    </tr>\n  </thead>\n  <tbody>\n    <tr>\n      <th>11</th>\n      <th>personal care</th>\n      <td>13.21</td>\n    </tr>\n    <tr>\n      <th>19</th>\n      <th>snacks</th>\n      <td>12.61</td>\n    </tr>\n    <tr>\n      <th>13</th>\n      <th>pantry</th>\n      <td>10.81</td>\n    </tr>\n    <tr>\n      <th>7</th>\n      <th>beverages</th>\n      <td>8.78</td>\n    </tr>\n    <tr>\n      <th>1</th>\n      <th>frozen</th>\n      <td>8.06</td>\n    </tr>\n  </tbody>\n</table>\n</div>"
     },
     "metadata": {},
     "execution_count": 13
    }
   ],
   "source": [
    "'''\n",
    "Com este cruzamento podemos responder peguntas do tipo:\n",
    "\"Qual a porcentagem de itens por departamento? [top 5]\"\n",
    "'''\n",
    "gb_dep = products_aisles_dep.groupby(['department_id', 'departamento']).agg({'product_id': 'count'})\n",
    "total_prod = gb_dep['product_id'].sum()\n",
    "dep_prod_perc = gb_dep.groupby(level=0).apply(lambda x: round((x*100/total_prod), 2))\n",
    "dep_prod_srt = dep_prod_perc.sort_values(by='product_id', ascending=False).rename(columns={'product_id': 'Percent'})\n",
    "dep_prod_srt.head()"
   ]
  },
  {
   "cell_type": "code",
   "execution_count": 14,
   "metadata": {},
   "outputs": [
    {
     "output_type": "execute_result",
     "data": {
      "text/plain": "                                                     Counts\naisle_id corredores                   departamento         \n100      missing                      missing          1258\n45       candy chocolate              snacks           1246\n37       ice cream ice                frozen           1091\n47       vitamins supplements         personal care    1038\n120      yogurt                       dairy eggs       1026\n...                                                     ...\n113      frozen juice                 frozen             47\n82       baby accessories             babies             44\n32       packaged produce             produce            32\n68       bulk grains rice dried goods bulk               26\n18       bulk dried fruits vegetables bulk               12\n\n[134 rows x 1 columns]",
      "text/html": "<div>\n<style scoped>\n    .dataframe tbody tr th:only-of-type {\n        vertical-align: middle;\n    }\n\n    .dataframe tbody tr th {\n        vertical-align: top;\n    }\n\n    .dataframe thead th {\n        text-align: right;\n    }\n</style>\n<table border=\"1\" class=\"dataframe\">\n  <thead>\n    <tr style=\"text-align: right;\">\n      <th></th>\n      <th></th>\n      <th></th>\n      <th>Counts</th>\n    </tr>\n    <tr>\n      <th>aisle_id</th>\n      <th>corredores</th>\n      <th>departamento</th>\n      <th></th>\n    </tr>\n  </thead>\n  <tbody>\n    <tr>\n      <th>100</th>\n      <th>missing</th>\n      <th>missing</th>\n      <td>1258</td>\n    </tr>\n    <tr>\n      <th>45</th>\n      <th>candy chocolate</th>\n      <th>snacks</th>\n      <td>1246</td>\n    </tr>\n    <tr>\n      <th>37</th>\n      <th>ice cream ice</th>\n      <th>frozen</th>\n      <td>1091</td>\n    </tr>\n    <tr>\n      <th>47</th>\n      <th>vitamins supplements</th>\n      <th>personal care</th>\n      <td>1038</td>\n    </tr>\n    <tr>\n      <th>120</th>\n      <th>yogurt</th>\n      <th>dairy eggs</th>\n      <td>1026</td>\n    </tr>\n    <tr>\n      <th>...</th>\n      <th>...</th>\n      <th>...</th>\n      <td>...</td>\n    </tr>\n    <tr>\n      <th>113</th>\n      <th>frozen juice</th>\n      <th>frozen</th>\n      <td>47</td>\n    </tr>\n    <tr>\n      <th>82</th>\n      <th>baby accessories</th>\n      <th>babies</th>\n      <td>44</td>\n    </tr>\n    <tr>\n      <th>32</th>\n      <th>packaged produce</th>\n      <th>produce</th>\n      <td>32</td>\n    </tr>\n    <tr>\n      <th>68</th>\n      <th>bulk grains rice dried goods</th>\n      <th>bulk</th>\n      <td>26</td>\n    </tr>\n    <tr>\n      <th>18</th>\n      <th>bulk dried fruits vegetables</th>\n      <th>bulk</th>\n      <td>12</td>\n    </tr>\n  </tbody>\n</table>\n<p>134 rows × 1 columns</p>\n</div>"
     },
     "metadata": {},
     "execution_count": 14
    }
   ],
   "source": [
    "\"\"\"\n",
    "Podemos cruzar dados das três entidades, PRODUCTS x DEPARTMENTS x AISLES\n",
    "para descobrirmos por exemplo: \n",
    "\"Quantos produtos temos por corredor e quais são seus departamentos?\" \n",
    "\"\"\"\n",
    "products_aisles_dep.groupby(['aisle_id', 'corredores', 'departamento']).agg({'product_id': 'count'}).sort_values(by='product_id', ascending=False).head(aisles.size).rename(columns={'product_id': 'Counts'})\n",
    "\n"
   ]
  },
  {
   "cell_type": "markdown",
   "metadata": {},
   "source": [
    "# ORDER_PRODUCTS_PRIOR\n",
    "Entidade que representa a união entre as entidades ORDER e PRODUCTS\n",
    "## Colunas\n",
    "- order_id [identificador do pedido]\n",
    "- product_id [identificador do produto]\n",
    "- add_to_cart_order [número de fila que produto foi inserido]\n",
    "- reordered [flag se foi reordenado]"
   ]
  },
  {
   "cell_type": "code",
   "execution_count": 15,
   "metadata": {},
   "outputs": [
    {
     "output_type": "error",
     "ename": "MemoryError",
     "evalue": "Unable to allocate 247. MiB for an array with shape (32434489,) and data type int64",
     "traceback": [
      "\u001b[1;31m---------------------------------------------------------------------------\u001b[0m",
      "\u001b[1;31mMemoryError\u001b[0m                               Traceback (most recent call last)",
      "\u001b[1;32m<ipython-input-15-96e3be5774e8>\u001b[0m in \u001b[0;36m<module>\u001b[1;34m\u001b[0m\n\u001b[1;32m----> 1\u001b[1;33m \u001b[0mord_prod_prior\u001b[0m \u001b[1;33m=\u001b[0m \u001b[0mpd\u001b[0m\u001b[1;33m.\u001b[0m\u001b[0mread_csv\u001b[0m\u001b[1;33m(\u001b[0m\u001b[1;34m'csv/order_products_prior.csv'\u001b[0m\u001b[1;33m)\u001b[0m\u001b[1;33m\u001b[0m\u001b[1;33m\u001b[0m\u001b[0m\n\u001b[0m\u001b[0;32m      2\u001b[0m \u001b[0mord_prod_prior\u001b[0m\u001b[1;33m.\u001b[0m\u001b[0mhead\u001b[0m\u001b[1;33m(\u001b[0m\u001b[1;33m)\u001b[0m\u001b[1;33m\u001b[0m\u001b[1;33m\u001b[0m\u001b[0m\n",
      "\u001b[1;32m~\\AppData\\Local\\Programs\\Python\\Python38-32\\lib\\site-packages\\pandas\\io\\parsers.py\u001b[0m in \u001b[0;36mparser_f\u001b[1;34m(filepath_or_buffer, sep, delimiter, header, names, index_col, usecols, squeeze, prefix, mangle_dupe_cols, dtype, engine, converters, true_values, false_values, skipinitialspace, skiprows, skipfooter, nrows, na_values, keep_default_na, na_filter, verbose, skip_blank_lines, parse_dates, infer_datetime_format, keep_date_col, date_parser, dayfirst, cache_dates, iterator, chunksize, compression, thousands, decimal, lineterminator, quotechar, quoting, doublequote, escapechar, comment, encoding, dialect, error_bad_lines, warn_bad_lines, delim_whitespace, low_memory, memory_map, float_precision)\u001b[0m\n\u001b[0;32m    674\u001b[0m         )\n\u001b[0;32m    675\u001b[0m \u001b[1;33m\u001b[0m\u001b[0m\n\u001b[1;32m--> 676\u001b[1;33m         \u001b[1;32mreturn\u001b[0m \u001b[0m_read\u001b[0m\u001b[1;33m(\u001b[0m\u001b[0mfilepath_or_buffer\u001b[0m\u001b[1;33m,\u001b[0m \u001b[0mkwds\u001b[0m\u001b[1;33m)\u001b[0m\u001b[1;33m\u001b[0m\u001b[1;33m\u001b[0m\u001b[0m\n\u001b[0m\u001b[0;32m    677\u001b[0m \u001b[1;33m\u001b[0m\u001b[0m\n\u001b[0;32m    678\u001b[0m     \u001b[0mparser_f\u001b[0m\u001b[1;33m.\u001b[0m\u001b[0m__name__\u001b[0m \u001b[1;33m=\u001b[0m \u001b[0mname\u001b[0m\u001b[1;33m\u001b[0m\u001b[1;33m\u001b[0m\u001b[0m\n",
      "\u001b[1;32m~\\AppData\\Local\\Programs\\Python\\Python38-32\\lib\\site-packages\\pandas\\io\\parsers.py\u001b[0m in \u001b[0;36m_read\u001b[1;34m(filepath_or_buffer, kwds)\u001b[0m\n\u001b[0;32m    452\u001b[0m \u001b[1;33m\u001b[0m\u001b[0m\n\u001b[0;32m    453\u001b[0m     \u001b[1;32mtry\u001b[0m\u001b[1;33m:\u001b[0m\u001b[1;33m\u001b[0m\u001b[1;33m\u001b[0m\u001b[0m\n\u001b[1;32m--> 454\u001b[1;33m         \u001b[0mdata\u001b[0m \u001b[1;33m=\u001b[0m \u001b[0mparser\u001b[0m\u001b[1;33m.\u001b[0m\u001b[0mread\u001b[0m\u001b[1;33m(\u001b[0m\u001b[0mnrows\u001b[0m\u001b[1;33m)\u001b[0m\u001b[1;33m\u001b[0m\u001b[1;33m\u001b[0m\u001b[0m\n\u001b[0m\u001b[0;32m    455\u001b[0m     \u001b[1;32mfinally\u001b[0m\u001b[1;33m:\u001b[0m\u001b[1;33m\u001b[0m\u001b[1;33m\u001b[0m\u001b[0m\n\u001b[0;32m    456\u001b[0m         \u001b[0mparser\u001b[0m\u001b[1;33m.\u001b[0m\u001b[0mclose\u001b[0m\u001b[1;33m(\u001b[0m\u001b[1;33m)\u001b[0m\u001b[1;33m\u001b[0m\u001b[1;33m\u001b[0m\u001b[0m\n",
      "\u001b[1;32m~\\AppData\\Local\\Programs\\Python\\Python38-32\\lib\\site-packages\\pandas\\io\\parsers.py\u001b[0m in \u001b[0;36mread\u001b[1;34m(self, nrows)\u001b[0m\n\u001b[0;32m   1131\u001b[0m     \u001b[1;32mdef\u001b[0m \u001b[0mread\u001b[0m\u001b[1;33m(\u001b[0m\u001b[0mself\u001b[0m\u001b[1;33m,\u001b[0m \u001b[0mnrows\u001b[0m\u001b[1;33m=\u001b[0m\u001b[1;32mNone\u001b[0m\u001b[1;33m)\u001b[0m\u001b[1;33m:\u001b[0m\u001b[1;33m\u001b[0m\u001b[1;33m\u001b[0m\u001b[0m\n\u001b[0;32m   1132\u001b[0m         \u001b[0mnrows\u001b[0m \u001b[1;33m=\u001b[0m \u001b[0m_validate_integer\u001b[0m\u001b[1;33m(\u001b[0m\u001b[1;34m\"nrows\"\u001b[0m\u001b[1;33m,\u001b[0m \u001b[0mnrows\u001b[0m\u001b[1;33m)\u001b[0m\u001b[1;33m\u001b[0m\u001b[1;33m\u001b[0m\u001b[0m\n\u001b[1;32m-> 1133\u001b[1;33m         \u001b[0mret\u001b[0m \u001b[1;33m=\u001b[0m \u001b[0mself\u001b[0m\u001b[1;33m.\u001b[0m\u001b[0m_engine\u001b[0m\u001b[1;33m.\u001b[0m\u001b[0mread\u001b[0m\u001b[1;33m(\u001b[0m\u001b[0mnrows\u001b[0m\u001b[1;33m)\u001b[0m\u001b[1;33m\u001b[0m\u001b[1;33m\u001b[0m\u001b[0m\n\u001b[0m\u001b[0;32m   1134\u001b[0m \u001b[1;33m\u001b[0m\u001b[0m\n\u001b[0;32m   1135\u001b[0m         \u001b[1;31m# May alter columns / col_dict\u001b[0m\u001b[1;33m\u001b[0m\u001b[1;33m\u001b[0m\u001b[1;33m\u001b[0m\u001b[0m\n",
      "\u001b[1;32m~\\AppData\\Local\\Programs\\Python\\Python38-32\\lib\\site-packages\\pandas\\io\\parsers.py\u001b[0m in \u001b[0;36mread\u001b[1;34m(self, nrows)\u001b[0m\n\u001b[0;32m   2035\u001b[0m     \u001b[1;32mdef\u001b[0m \u001b[0mread\u001b[0m\u001b[1;33m(\u001b[0m\u001b[0mself\u001b[0m\u001b[1;33m,\u001b[0m \u001b[0mnrows\u001b[0m\u001b[1;33m=\u001b[0m\u001b[1;32mNone\u001b[0m\u001b[1;33m)\u001b[0m\u001b[1;33m:\u001b[0m\u001b[1;33m\u001b[0m\u001b[1;33m\u001b[0m\u001b[0m\n\u001b[0;32m   2036\u001b[0m         \u001b[1;32mtry\u001b[0m\u001b[1;33m:\u001b[0m\u001b[1;33m\u001b[0m\u001b[1;33m\u001b[0m\u001b[0m\n\u001b[1;32m-> 2037\u001b[1;33m             \u001b[0mdata\u001b[0m \u001b[1;33m=\u001b[0m \u001b[0mself\u001b[0m\u001b[1;33m.\u001b[0m\u001b[0m_reader\u001b[0m\u001b[1;33m.\u001b[0m\u001b[0mread\u001b[0m\u001b[1;33m(\u001b[0m\u001b[0mnrows\u001b[0m\u001b[1;33m)\u001b[0m\u001b[1;33m\u001b[0m\u001b[1;33m\u001b[0m\u001b[0m\n\u001b[0m\u001b[0;32m   2038\u001b[0m         \u001b[1;32mexcept\u001b[0m \u001b[0mStopIteration\u001b[0m\u001b[1;33m:\u001b[0m\u001b[1;33m\u001b[0m\u001b[1;33m\u001b[0m\u001b[0m\n\u001b[0;32m   2039\u001b[0m             \u001b[1;32mif\u001b[0m \u001b[0mself\u001b[0m\u001b[1;33m.\u001b[0m\u001b[0m_first_chunk\u001b[0m\u001b[1;33m:\u001b[0m\u001b[1;33m\u001b[0m\u001b[1;33m\u001b[0m\u001b[0m\n",
      "\u001b[1;32mpandas\\_libs\\parsers.pyx\u001b[0m in \u001b[0;36mpandas._libs.parsers.TextReader.read\u001b[1;34m()\u001b[0m\n",
      "\u001b[1;32mpandas\\_libs\\parsers.pyx\u001b[0m in \u001b[0;36mpandas._libs.parsers.TextReader._read_low_memory\u001b[1;34m()\u001b[0m\n",
      "\u001b[1;32mpandas\\_libs\\parsers.pyx\u001b[0m in \u001b[0;36mpandas._libs.parsers._concatenate_chunks\u001b[1;34m()\u001b[0m\n",
      "\u001b[1;32m<__array_function__ internals>\u001b[0m in \u001b[0;36mconcatenate\u001b[1;34m(*args, **kwargs)\u001b[0m\n",
      "\u001b[1;31mMemoryError\u001b[0m: Unable to allocate 247. MiB for an array with shape (32434489,) and data type int64"
     ]
    }
   ],
   "source": [
    "ord_prod_prior = pd.read_csv('csv/order_products_prior.csv')\n",
    "ord_prod_prior.head()"
   ]
  }
 ],
 "metadata": {
  "kernelspec": {
   "display_name": "Python 3",
   "language": "python",
   "name": "python3"
  },
  "language_info": {
   "codemirror_mode": {
    "name": "ipython",
    "version": 3
   },
   "file_extension": ".py",
   "mimetype": "text/x-python",
   "name": "python",
   "nbconvert_exporter": "python",
   "pygments_lexer": "ipython3",
   "version": "3.8.2-final"
  }
 },
 "nbformat": 4,
 "nbformat_minor": 4
}