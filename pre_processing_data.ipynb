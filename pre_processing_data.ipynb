{
  "nbformat": 4,
  "nbformat_minor": 0,
  "metadata": {
    "colab": {
      "name": "pre_processing_data.ipynb",
      "provenance": [],
      "collapsed_sections": [],
      "authorship_tag": "ABX9TyOaUus4/1mDrqiH5YNH3Osj"
    },
    "kernelspec": {
      "name": "python3",
      "display_name": "Python 3"
    }
  },
  "cells": [
    {
      "cell_type": "markdown",
      "metadata": {
        "id": "SpDeolRzKKLo"
      },
      "source": [
        "\n",
        "\n",
        "```\n",
        "# Trabalho Prático ML - 01 Data Preparation\n",
        "```\n",
        "\n",
        "# Puc Minas - ML (Machine Learn)\n",
        "# Pós Graduação - Big Data e Data Science\n",
        "## Trabalho Prático 01 \n",
        "Preparação de Dados\n",
        "\n",
        "### Professor: \n",
        "Hugo Bastos de Paula\n",
        "\n",
        "### Alunos: \n",
        "Tiago Henrique Pereira Fonseca\n",
        "\n",
        "---\n"
      ]
    },
    {
      "cell_type": "code",
      "metadata": {
        "id": "fKovOcATtn50"
      },
      "source": [
        "import numpy as np\n",
        "import pandas as pd\n",
        "import matplotlib.pyplot as plt\n",
        "import seaborn as sns\n",
        "\n",
        "from sklearn.model_selection import train_test_split\n",
        "from sklearn import preprocessing\n",
        "from sklearn.linear_model import LinearRegression\n",
        "\n",
        "np.set_printoptions(threshold=None, precision=2)\n",
        "pd.set_option('display.max_columns', 500)\n",
        "pd.set_option('display.max_rows', 500)\n",
        "pd.set_option('precision', 2)"
      ],
      "execution_count": 2,
      "outputs": []
    },
    {
      "cell_type": "code",
      "metadata": {
        "colab": {
          "base_uri": "https://localhost:8080/",
          "height": 258
        },
        "id": "169pSnMPKItP",
        "outputId": "dc202c35-1290-4f94-a54c-9258047dadac"
      },
      "source": [
        "# \n",
        "# Init DataFrame\n",
        "# \n",
        "\n",
        "automoveis_df = pd.read_excel('https://github.com/titilomt/data_science_puc_projects/raw/master/csv/automoveis.xlsx')\n",
        "\n",
        "# Load Excel from URL and check head\n",
        "\n",
        "automoveis_df.head()"
      ],
      "execution_count": 3,
      "outputs": [
        {
          "output_type": "execute_result",
          "data": {
            "text/html": [
              "<div>\n",
              "<style scoped>\n",
              "    .dataframe tbody tr th:only-of-type {\n",
              "        vertical-align: middle;\n",
              "    }\n",
              "\n",
              "    .dataframe tbody tr th {\n",
              "        vertical-align: top;\n",
              "    }\n",
              "\n",
              "    .dataframe thead th {\n",
              "        text-align: right;\n",
              "    }\n",
              "</style>\n",
              "<table border=\"1\" class=\"dataframe\">\n",
              "  <thead>\n",
              "    <tr style=\"text-align: right;\">\n",
              "      <th></th>\n",
              "      <th>Fabricante</th>\n",
              "      <th>Combustível</th>\n",
              "      <th>Portas</th>\n",
              "      <th>Estilo Chassis</th>\n",
              "      <th>Tração</th>\n",
              "      <th>Comprimento</th>\n",
              "      <th>Largura</th>\n",
              "      <th>Altura</th>\n",
              "      <th>Tipo de motor</th>\n",
              "      <th>Número de cilindros</th>\n",
              "      <th>Tamanho do motor</th>\n",
              "      <th>Tipo de injeção</th>\n",
              "      <th>Potência (HP)</th>\n",
              "      <th>Pico RPM</th>\n",
              "      <th>Preço</th>\n",
              "    </tr>\n",
              "  </thead>\n",
              "  <tbody>\n",
              "    <tr>\n",
              "      <th>0</th>\n",
              "      <td>alfa-romeo</td>\n",
              "      <td>gas</td>\n",
              "      <td>2.0</td>\n",
              "      <td>conversível</td>\n",
              "      <td>traseira</td>\n",
              "      <td>168,80</td>\n",
              "      <td>64,10</td>\n",
              "      <td>48,80</td>\n",
              "      <td>dohc</td>\n",
              "      <td>4</td>\n",
              "      <td>130,00</td>\n",
              "      <td>mpfi</td>\n",
              "      <td>111,00</td>\n",
              "      <td>5000,00</td>\n",
              "      <td>13495,00</td>\n",
              "    </tr>\n",
              "    <tr>\n",
              "      <th>1</th>\n",
              "      <td>alfa-romeo</td>\n",
              "      <td>gas</td>\n",
              "      <td>2.0</td>\n",
              "      <td>conversível</td>\n",
              "      <td>traseira</td>\n",
              "      <td>168,80</td>\n",
              "      <td>64,10</td>\n",
              "      <td>48,80</td>\n",
              "      <td>dohc</td>\n",
              "      <td>4</td>\n",
              "      <td>130,00</td>\n",
              "      <td>mpfi</td>\n",
              "      <td>111,00</td>\n",
              "      <td>5000,00</td>\n",
              "      <td>16500,00</td>\n",
              "    </tr>\n",
              "    <tr>\n",
              "      <th>2</th>\n",
              "      <td>alfa-romeo</td>\n",
              "      <td>gas</td>\n",
              "      <td>2.0</td>\n",
              "      <td>hatch</td>\n",
              "      <td>traseira</td>\n",
              "      <td>171,20</td>\n",
              "      <td>65,50</td>\n",
              "      <td>52,40</td>\n",
              "      <td>ohcv</td>\n",
              "      <td>6</td>\n",
              "      <td>152,00</td>\n",
              "      <td>mpfi</td>\n",
              "      <td>154,00</td>\n",
              "      <td>5000,00</td>\n",
              "      <td>16500,00</td>\n",
              "    </tr>\n",
              "    <tr>\n",
              "      <th>3</th>\n",
              "      <td>audi</td>\n",
              "      <td>gas</td>\n",
              "      <td>4.0</td>\n",
              "      <td>sedan</td>\n",
              "      <td>dianteira</td>\n",
              "      <td>176,60</td>\n",
              "      <td>66,20</td>\n",
              "      <td>54,30</td>\n",
              "      <td>ohc</td>\n",
              "      <td>4</td>\n",
              "      <td>109,00</td>\n",
              "      <td>mpfi</td>\n",
              "      <td>102,00</td>\n",
              "      <td>5500,00</td>\n",
              "      <td>13950,00</td>\n",
              "    </tr>\n",
              "    <tr>\n",
              "      <th>4</th>\n",
              "      <td>audi</td>\n",
              "      <td>gas</td>\n",
              "      <td>4.0</td>\n",
              "      <td>sedan</td>\n",
              "      <td>4x4</td>\n",
              "      <td>176,60</td>\n",
              "      <td>66,40</td>\n",
              "      <td>54,30</td>\n",
              "      <td>ohc</td>\n",
              "      <td>5</td>\n",
              "      <td>136,00</td>\n",
              "      <td>mpfi</td>\n",
              "      <td>115,00</td>\n",
              "      <td>5500,00</td>\n",
              "      <td>17450,00</td>\n",
              "    </tr>\n",
              "  </tbody>\n",
              "</table>\n",
              "</div>"
            ],
            "text/plain": [
              "   Fabricante Combustível  Portas Estilo Chassis     Tração Comprimento  \\\n",
              "0  alfa-romeo         gas     2.0    conversível   traseira      168,80   \n",
              "1  alfa-romeo         gas     2.0    conversível   traseira      168,80   \n",
              "2  alfa-romeo         gas     2.0          hatch   traseira      171,20   \n",
              "3        audi         gas     4.0          sedan  dianteira      176,60   \n",
              "4        audi         gas     4.0          sedan        4x4      176,60   \n",
              "\n",
              "  Largura Altura Tipo de motor Número de cilindros Tamanho do motor  \\\n",
              "0   64,10  48,80          dohc                   4           130,00   \n",
              "1   64,10  48,80          dohc                   4           130,00   \n",
              "2   65,50  52,40          ohcv                   6           152,00   \n",
              "3   66,20  54,30           ohc                   4           109,00   \n",
              "4   66,40  54,30           ohc                   5           136,00   \n",
              "\n",
              "  Tipo de injeção Potência (HP) Pico RPM     Preço  \n",
              "0            mpfi        111,00  5000,00  13495,00  \n",
              "1            mpfi        111,00  5000,00  16500,00  \n",
              "2            mpfi        154,00  5000,00  16500,00  \n",
              "3            mpfi        102,00  5500,00  13950,00  \n",
              "4            mpfi        115,00  5500,00  17450,00  "
            ]
          },
          "metadata": {
            "tags": []
          },
          "execution_count": 3
        }
      ]
    },
    {
      "cell_type": "code",
      "metadata": {
        "colab": {
          "base_uri": "https://localhost:8080/"
        },
        "id": "xQVhDadEOpj9",
        "outputId": "8f6b95b1-441a-4686-fa2d-6ef9f6c26a40"
      },
      "source": [
        "# Display dataframe Info\n",
        "# This allow us to decide which transformation our DataFrame will undergo\n",
        "# \n",
        "\n",
        "automoveis_df.info()"
      ],
      "execution_count": 4,
      "outputs": [
        {
          "output_type": "stream",
          "text": [
            "<class 'pandas.core.frame.DataFrame'>\n",
            "RangeIndex: 205 entries, 0 to 204\n",
            "Data columns (total 15 columns):\n",
            " #   Column               Non-Null Count  Dtype  \n",
            "---  ------               --------------  -----  \n",
            " 0   Fabricante           203 non-null    object \n",
            " 1   Combustível          200 non-null    object \n",
            " 2   Portas               203 non-null    float64\n",
            " 3   Estilo Chassis       205 non-null    object \n",
            " 4   Tração               205 non-null    object \n",
            " 5   Comprimento          205 non-null    object \n",
            " 6   Largura              205 non-null    object \n",
            " 7   Altura               205 non-null    object \n",
            " 8   Tipo de motor        205 non-null    object \n",
            " 9   Número de cilindros  205 non-null    object \n",
            " 10  Tamanho do motor     205 non-null    object \n",
            " 11  Tipo de injeção      205 non-null    object \n",
            " 12  Potência (HP)        205 non-null    object \n",
            " 13  Pico RPM             205 non-null    object \n",
            " 14  Preço                205 non-null    object \n",
            "dtypes: float64(1), object(14)\n",
            "memory usage: 24.1+ KB\n"
          ],
          "name": "stdout"
        }
      ]
    },
    {
      "cell_type": "markdown",
      "metadata": {
        "id": "j7ZWBWzvP0uL"
      },
      "source": [
        "### DataType\n",
        "Como podemos ver acima, nosso padrão de dados está pouco ilustrativo e teremos que transformar alguns atributos para que alguma lógica possa ser aplicada neste DataFrame.\n",
        "\n",
        "### Atributos x Transformação x Tipo de Variável\n",
        "| Coluna | Contagem de não nulos | Tipo de Dado | Transformação | Tipo de Variável |\n",
        "| --- | --- | --- | --- | --- |\n",
        "| Fabricante | 203 | Object | String | Categorical | \n",
        "| Combustível | 200 | Object | String | Categorical  |\n",
        "| Portas | 203 | Float64 | N/A | Categorical |\n",
        "| Estilo Chassis | 205 | Object | String | Categorical |\n",
        "| Tração | 205 | Object | String | Categorical |\n",
        "| Comprimento | 205 | Object | Float | Continuos Quantitative |\n",
        "| Largura | 205 | Object | Float | Continuos Quantitative |\n",
        "| Altura | 205 | Object | Float | Continuos Quantitative |\n",
        "| Tipo de Motor | 205 | Object | String | Categorical |\n",
        "| Número de Cilindros | 205 | Object | Float | Categorical |\n",
        "| Tamanho do Motor | 205 | Object | Float | Continuos Quantitative |\n",
        "| Tipo de Injeção | 205 | Object | String | Categorical |\n",
        "| Potência (HP) | 205 | Object | Float | Continuos Quantitative |\n",
        "| Pico RPM | 205 | Object | Float | Continuos Quantitative |\n",
        "| Preço | 205 | Object | Float | Continuos Quantitative |\n",
        "\n",
        "--- "
      ]
    },
    {
      "cell_type": "code",
      "metadata": {
        "colab": {
          "base_uri": "https://localhost:8080/"
        },
        "id": "oN7bxWrmDN7v",
        "outputId": "9bacf185-202b-46a0-ef76-30994137b39e"
      },
      "source": [
        "#\n",
        "# Convert data to specified data type\n",
        "#\n",
        "\n",
        "automoveis_transform_df = automoveis_df.copy()\n",
        "\n",
        "## \n",
        "# Function to convert possible case of number written as a word \n",
        "# \n",
        "def convert_numwrd(textnum):\n",
        "  try: \n",
        "    return int(textnum)\n",
        "  except (ValueError, TypeError):\n",
        "    units = [\n",
        "        \"zero\", \"um\", \"dois\", \"tres\", \"quatro\", \"cinco\", \"seis\", \"sete\", \"oito\",\n",
        "        \"nove\", \"dez\", \"onze\", \"doze\", \"treze\", \"quatorze\", \"quinze\",\n",
        "        \"dezesseis\", \"dezessete\", \"dezoito\", \"dezenove\"\n",
        "    ]\n",
        "    return units.index(textnum)\n",
        "\n",
        "# Change the doors number to a more approachable way\n",
        "portas = automoveis_transform_df['Portas']\n",
        "\n",
        "doors_map = { 2: 'two', 4: 'four' }\n",
        "\n",
        "new_portas = pd.Categorical([doors_map.get(p, None) for p in portas])\n",
        "\n",
        "automoveis_transform_df['Fabricante'] = automoveis_transform_df['Fabricante'].astype('category')\n",
        "automoveis_transform_df['Combustível'] = automoveis_transform_df['Combustível'].astype('category')\n",
        "automoveis_transform_df['Portas'] = new_portas\n",
        "automoveis_transform_df['Estilo Chassis'] = automoveis_transform_df['Estilo Chassis'].astype('category')\n",
        "automoveis_transform_df['Tração'] = automoveis_transform_df['Tração'].astype('category')\n",
        "automoveis_transform_df['Comprimento'] = automoveis_transform_df['Comprimento'].apply(lambda x: x.replace(',', '.') if type(x) is str else x).astype('float')\n",
        "automoveis_transform_df['Largura'] = automoveis_transform_df['Largura'].apply(lambda x: x.replace(',', '.') if type(x) is str else x).astype('float')\n",
        "automoveis_transform_df['Altura'] = automoveis_transform_df['Altura'].apply(lambda x: x.replace(',', '.') if type(x) is str else x).astype('float')\n",
        "automoveis_transform_df['Tipo de motor'] = automoveis_transform_df['Tipo de motor'].astype('category')\n",
        "automoveis_transform_df['Número de cilindros'] = automoveis_transform_df['Número de cilindros'].apply(lambda x: convert_numwrd(x))\n",
        "automoveis_transform_df['Tamanho do motor'] = automoveis_transform_df['Tamanho do motor'].apply(lambda x: x.replace(',', '.') if type(x) is str else x).astype('float')\n",
        "automoveis_transform_df['Tipo de injeção'] = automoveis_transform_df['Tipo de injeção'].astype('category')\n",
        "automoveis_transform_df['Potência (HP)'] = automoveis_transform_df['Potência (HP)'].apply(lambda x: x.replace(',', '.') if type(x) is str else x).astype('float')\n",
        "automoveis_transform_df['Pico RPM'] = automoveis_transform_df['Pico RPM'].apply(lambda x: x if type(x) is not str else x.replace(',', '.')).astype('float')\n",
        "automoveis_transform_df['Preço'] = automoveis_transform_df['Preço'].apply(lambda x: x.replace(',', '.') if type(x) is str else x).astype('float')\n",
        "\n",
        "automoveis_transform_df.info()"
      ],
      "execution_count": 5,
      "outputs": [
        {
          "output_type": "stream",
          "text": [
            "<class 'pandas.core.frame.DataFrame'>\n",
            "RangeIndex: 205 entries, 0 to 204\n",
            "Data columns (total 15 columns):\n",
            " #   Column               Non-Null Count  Dtype   \n",
            "---  ------               --------------  -----   \n",
            " 0   Fabricante           203 non-null    category\n",
            " 1   Combustível          200 non-null    category\n",
            " 2   Portas               203 non-null    category\n",
            " 3   Estilo Chassis       205 non-null    category\n",
            " 4   Tração               205 non-null    category\n",
            " 5   Comprimento          205 non-null    float64 \n",
            " 6   Largura              205 non-null    float64 \n",
            " 7   Altura               205 non-null    float64 \n",
            " 8   Tipo de motor        205 non-null    category\n",
            " 9   Número de cilindros  205 non-null    int64   \n",
            " 10  Tamanho do motor     205 non-null    float64 \n",
            " 11  Tipo de injeção      205 non-null    category\n",
            " 12  Potência (HP)        205 non-null    float64 \n",
            " 13  Pico RPM             205 non-null    float64 \n",
            " 14  Preço                205 non-null    float64 \n",
            "dtypes: category(7), float64(7), int64(1)\n",
            "memory usage: 16.4 KB\n"
          ],
          "name": "stdout"
        }
      ]
    },
    {
      "cell_type": "code",
      "metadata": {
        "id": "TzGZ-H2LQXzV",
        "colab": {
          "base_uri": "https://localhost:8080/",
          "height": 258
        },
        "outputId": "3e15653b-65f2-44c6-f5ad-9e371548febc"
      },
      "source": [
        "#\n",
        "# Nothing has change just the cells data type\n",
        "# \n",
        "automoveis_transform_df.tail()"
      ],
      "execution_count": 6,
      "outputs": [
        {
          "output_type": "execute_result",
          "data": {
            "text/html": [
              "<div>\n",
              "<style scoped>\n",
              "    .dataframe tbody tr th:only-of-type {\n",
              "        vertical-align: middle;\n",
              "    }\n",
              "\n",
              "    .dataframe tbody tr th {\n",
              "        vertical-align: top;\n",
              "    }\n",
              "\n",
              "    .dataframe thead th {\n",
              "        text-align: right;\n",
              "    }\n",
              "</style>\n",
              "<table border=\"1\" class=\"dataframe\">\n",
              "  <thead>\n",
              "    <tr style=\"text-align: right;\">\n",
              "      <th></th>\n",
              "      <th>Fabricante</th>\n",
              "      <th>Combustível</th>\n",
              "      <th>Portas</th>\n",
              "      <th>Estilo Chassis</th>\n",
              "      <th>Tração</th>\n",
              "      <th>Comprimento</th>\n",
              "      <th>Largura</th>\n",
              "      <th>Altura</th>\n",
              "      <th>Tipo de motor</th>\n",
              "      <th>Número de cilindros</th>\n",
              "      <th>Tamanho do motor</th>\n",
              "      <th>Tipo de injeção</th>\n",
              "      <th>Potência (HP)</th>\n",
              "      <th>Pico RPM</th>\n",
              "      <th>Preço</th>\n",
              "    </tr>\n",
              "  </thead>\n",
              "  <tbody>\n",
              "    <tr>\n",
              "      <th>200</th>\n",
              "      <td>volvo</td>\n",
              "      <td>gas</td>\n",
              "      <td>four</td>\n",
              "      <td>sedan</td>\n",
              "      <td>traseira</td>\n",
              "      <td>188.8</td>\n",
              "      <td>68.9</td>\n",
              "      <td>55.5</td>\n",
              "      <td>ohcv</td>\n",
              "      <td>6</td>\n",
              "      <td>173.0</td>\n",
              "      <td>mpfi</td>\n",
              "      <td>134.0</td>\n",
              "      <td>5500.0</td>\n",
              "      <td>21485.0</td>\n",
              "    </tr>\n",
              "    <tr>\n",
              "      <th>201</th>\n",
              "      <td>volvo</td>\n",
              "      <td>diesel</td>\n",
              "      <td>four</td>\n",
              "      <td>sedan</td>\n",
              "      <td>traseira</td>\n",
              "      <td>188.8</td>\n",
              "      <td>68.9</td>\n",
              "      <td>55.5</td>\n",
              "      <td>ohc</td>\n",
              "      <td>6</td>\n",
              "      <td>145.0</td>\n",
              "      <td>idi</td>\n",
              "      <td>106.0</td>\n",
              "      <td>4800.0</td>\n",
              "      <td>22470.0</td>\n",
              "    </tr>\n",
              "    <tr>\n",
              "      <th>202</th>\n",
              "      <td>volvo</td>\n",
              "      <td>gas</td>\n",
              "      <td>four</td>\n",
              "      <td>sedan</td>\n",
              "      <td>traseira</td>\n",
              "      <td>188.8</td>\n",
              "      <td>68.9</td>\n",
              "      <td>55.5</td>\n",
              "      <td>ohc</td>\n",
              "      <td>4</td>\n",
              "      <td>141.0</td>\n",
              "      <td>mpfi</td>\n",
              "      <td>114.0</td>\n",
              "      <td>5400.0</td>\n",
              "      <td>22625.0</td>\n",
              "    </tr>\n",
              "    <tr>\n",
              "      <th>203</th>\n",
              "      <td>NaN</td>\n",
              "      <td>gas</td>\n",
              "      <td>four</td>\n",
              "      <td>sedan</td>\n",
              "      <td>traseira</td>\n",
              "      <td>176.8</td>\n",
              "      <td>64.8</td>\n",
              "      <td>54.3</td>\n",
              "      <td>ohc</td>\n",
              "      <td>6</td>\n",
              "      <td>164.0</td>\n",
              "      <td>mpfi</td>\n",
              "      <td>121.0</td>\n",
              "      <td>4250.0</td>\n",
              "      <td>21105.0</td>\n",
              "    </tr>\n",
              "    <tr>\n",
              "      <th>204</th>\n",
              "      <td>NaN</td>\n",
              "      <td>gas</td>\n",
              "      <td>two</td>\n",
              "      <td>hatch</td>\n",
              "      <td>traseira</td>\n",
              "      <td>169.0</td>\n",
              "      <td>65.7</td>\n",
              "      <td>49.6</td>\n",
              "      <td>rotor</td>\n",
              "      <td>2</td>\n",
              "      <td>70.0</td>\n",
              "      <td>4bbl</td>\n",
              "      <td>101.0</td>\n",
              "      <td>6000.0</td>\n",
              "      <td>10945.0</td>\n",
              "    </tr>\n",
              "  </tbody>\n",
              "</table>\n",
              "</div>"
            ],
            "text/plain": [
              "    Fabricante Combustível Portas Estilo Chassis    Tração  Comprimento  \\\n",
              "200      volvo         gas   four          sedan  traseira        188.8   \n",
              "201      volvo      diesel   four          sedan  traseira        188.8   \n",
              "202      volvo         gas   four          sedan  traseira        188.8   \n",
              "203        NaN         gas   four          sedan  traseira        176.8   \n",
              "204        NaN         gas    two          hatch  traseira        169.0   \n",
              "\n",
              "     Largura  Altura Tipo de motor  Número de cilindros  Tamanho do motor  \\\n",
              "200     68.9    55.5          ohcv                    6             173.0   \n",
              "201     68.9    55.5           ohc                    6             145.0   \n",
              "202     68.9    55.5           ohc                    4             141.0   \n",
              "203     64.8    54.3           ohc                    6             164.0   \n",
              "204     65.7    49.6         rotor                    2              70.0   \n",
              "\n",
              "    Tipo de injeção  Potência (HP)  Pico RPM    Preço  \n",
              "200            mpfi          134.0    5500.0  21485.0  \n",
              "201             idi          106.0    4800.0  22470.0  \n",
              "202            mpfi          114.0    5400.0  22625.0  \n",
              "203            mpfi          121.0    4250.0  21105.0  \n",
              "204            4bbl          101.0    6000.0  10945.0  "
            ]
          },
          "metadata": {
            "tags": []
          },
          "execution_count": 6
        }
      ]
    },
    {
      "cell_type": "markdown",
      "metadata": {
        "id": "P-lfUiJZYs_w"
      },
      "source": [
        "## Valores Omissos ou Inconsistentes\n",
        "Agora vamos entender um pouco nossos dados, para saber qual a melhor maneira de tratar estes \"buracos\".\n",
        "\n",
        "Temos valores faltantes em 'Fabricantes', 'Combustível' e 'Portas'. \n",
        "Todas estas colunas são valores Categoricos, precisamos de levantar alguma premissa para preencher as lacunas faltantes. "
      ]
    },
    {
      "cell_type": "code",
      "metadata": {
        "colab": {
          "base_uri": "https://localhost:8080/"
        },
        "id": "_ds3vA-zZL9X",
        "outputId": "0a0d53f0-e649-4df8-a5a6-6f56a9d1e9f7"
      },
      "source": [
        "# Verify all columns with null values\n",
        "\n",
        "automoveis_transform_df.isnull().sum()"
      ],
      "execution_count": 7,
      "outputs": [
        {
          "output_type": "execute_result",
          "data": {
            "text/plain": [
              "Fabricante             2\n",
              "Combustível            5\n",
              "Portas                 2\n",
              "Estilo Chassis         0\n",
              "Tração                 0\n",
              "Comprimento            0\n",
              "Largura                0\n",
              "Altura                 0\n",
              "Tipo de motor          0\n",
              "Número de cilindros    0\n",
              "Tamanho do motor       0\n",
              "Tipo de injeção        0\n",
              "Potência (HP)          0\n",
              "Pico RPM               0\n",
              "Preço                  0\n",
              "dtype: int64"
            ]
          },
          "metadata": {
            "tags": []
          },
          "execution_count": 7
        }
      ]
    },
    {
      "cell_type": "code",
      "metadata": {
        "colab": {
          "base_uri": "https://localhost:8080/"
        },
        "id": "bxnqQRHJrygv",
        "outputId": "0adf7bd1-3091-41bb-8022-c6a84eab9552"
      },
      "source": [
        "# As we got 3 columns with a low rate nullable entrys \n",
        "# lets go for 'the most frequent term' approach\n",
        "# in each column\n",
        "\n",
        "automoveis_transform_df['Fabricante'].fillna(automoveis_transform_df['Fabricante'].value_counts().index[0], inplace =True)\n",
        "automoveis_transform_df['Combustível'].fillna(automoveis_transform_df['Combustível'].value_counts().index[0], inplace =True)\n",
        "automoveis_transform_df['Portas'].fillna(automoveis_transform_df['Portas'].value_counts().index[0], inplace =True)\n",
        "\n",
        "automoveis_transform_df.isnull().sum()"
      ],
      "execution_count": 8,
      "outputs": [
        {
          "output_type": "execute_result",
          "data": {
            "text/plain": [
              "Fabricante             0\n",
              "Combustível            0\n",
              "Portas                 0\n",
              "Estilo Chassis         0\n",
              "Tração                 0\n",
              "Comprimento            0\n",
              "Largura                0\n",
              "Altura                 0\n",
              "Tipo de motor          0\n",
              "Número de cilindros    0\n",
              "Tamanho do motor       0\n",
              "Tipo de injeção        0\n",
              "Potência (HP)          0\n",
              "Pico RPM               0\n",
              "Preço                  0\n",
              "dtype: int64"
            ]
          },
          "metadata": {
            "tags": []
          },
          "execution_count": 8
        }
      ]
    },
    {
      "cell_type": "code",
      "metadata": {
        "colab": {
          "base_uri": "https://localhost:8080/"
        },
        "id": "Ev5CfMkXY-rD",
        "outputId": "1cdbda17-e34f-4e71-981b-f07a4e5ef4f6"
      },
      "source": [
        "# Now that we got ride off missing values it's time to check our dataframe\n",
        "print(automoveis_transform_df.describe())\n",
        "print(automoveis_transform_df.info())\n",
        "\n",
        "## we are good to go!"
      ],
      "execution_count": 9,
      "outputs": [
        {
          "output_type": "stream",
          "text": [
            "       Comprimento  Largura  Altura  Número de cilindros  Tamanho do motor  \\\n",
            "count       205.00   205.00  205.00               205.00            205.00   \n",
            "mean        174.05    65.91   53.72                 4.38            126.91   \n",
            "std          12.34     2.15    2.44                 1.08             41.64   \n",
            "min         141.10    60.30   47.80                 2.00             61.00   \n",
            "25%         166.30    64.10   52.00                 4.00             97.00   \n",
            "50%         173.20    65.50   54.10                 4.00            120.00   \n",
            "75%         183.10    66.90   55.50                 4.00            141.00   \n",
            "max         208.10    72.30   59.80                12.00            326.00   \n",
            "\n",
            "       Potência (HP)   Pico RPM     Preço  \n",
            "count         205.00     205.00    205.00  \n",
            "mean          104.26   10727.32  13207.13  \n",
            "std            39.52   56645.35   7868.77  \n",
            "min            48.00    4150.00   5118.00  \n",
            "25%            70.00    4800.00   7788.00  \n",
            "50%            95.00    5200.00  10595.00  \n",
            "75%           116.00    5500.00  16500.00  \n",
            "max           288.00  580000.00  45400.00  \n",
            "<class 'pandas.core.frame.DataFrame'>\n",
            "RangeIndex: 205 entries, 0 to 204\n",
            "Data columns (total 15 columns):\n",
            " #   Column               Non-Null Count  Dtype   \n",
            "---  ------               --------------  -----   \n",
            " 0   Fabricante           205 non-null    category\n",
            " 1   Combustível          205 non-null    category\n",
            " 2   Portas               205 non-null    category\n",
            " 3   Estilo Chassis       205 non-null    category\n",
            " 4   Tração               205 non-null    category\n",
            " 5   Comprimento          205 non-null    float64 \n",
            " 6   Largura              205 non-null    float64 \n",
            " 7   Altura               205 non-null    float64 \n",
            " 8   Tipo de motor        205 non-null    category\n",
            " 9   Número de cilindros  205 non-null    int64   \n",
            " 10  Tamanho do motor     205 non-null    float64 \n",
            " 11  Tipo de injeção      205 non-null    category\n",
            " 12  Potência (HP)        205 non-null    float64 \n",
            " 13  Pico RPM             205 non-null    float64 \n",
            " 14  Preço                205 non-null    float64 \n",
            "dtypes: category(7), float64(7), int64(1)\n",
            "memory usage: 16.4 KB\n",
            "None\n"
          ],
          "name": "stdout"
        }
      ]
    },
    {
      "cell_type": "markdown",
      "metadata": {
        "id": "xIlzrd4cZe9e"
      },
      "source": [
        "### Deteccção de Outliers\n",
        "Vamos passar por nossos dados numéricos para analisar como está a \"saúde\" de nossa coleção dentro do dataFrame\n",
        "\n",
        "- Comprimento\n",
        "- Largura\n",
        "- Altura\n",
        "- Núm. de cilindros\n",
        "- Tam. do Motor"
      ]
    },
    {
      "cell_type": "code",
      "metadata": {
        "colab": {
          "base_uri": "https://localhost:8080/",
          "height": 690
        },
        "id": "_KIeeaQraLIs",
        "outputId": "36250e42-56a0-4db7-97d9-0ff7cab4d332"
      },
      "source": [
        "# Length \n",
        "automoveis_transform_df['Comprimento'].plot(kind=\"box\", figsize=(9,9))\n",
        "\n",
        "index = np.where(automoveis_transform_df['Comprimento'] == min(automoveis_transform_df['Comprimento']))\n",
        "\n",
        "print('Registros com valores extremos:', automoveis_transform_df.loc[index], sep='\\n')"
      ],
      "execution_count": 10,
      "outputs": [
        {
          "output_type": "stream",
          "text": [
            "Registros com valores extremos:\n",
            "   Fabricante Combustível Portas Estilo Chassis     Tração  Comprimento  \\\n",
            "17  chevrolet         gas    two          hatch  dianteira        141.1   \n",
            "\n",
            "    Largura  Altura Tipo de motor  Número de cilindros  Tamanho do motor  \\\n",
            "17     60.3    53.2             l                    3              61.0   \n",
            "\n",
            "   Tipo de injeção  Potência (HP)  Pico RPM   Preço  \n",
            "17            2bbl           48.0    5100.0  5151.0  \n"
          ],
          "name": "stdout"
        },
        {
          "output_type": "display_data",
          "data": {
            "image/png": "[encoded data removed]",
            "text/plain": [
              "<Figure size 648x648 with 1 Axes>"
            ]
          },
          "metadata": {
            "tags": [],
            "needs_background": "light"
          }
        }
      ]
    },
    {
      "cell_type": "code",
      "metadata": {
        "colab": {
          "base_uri": "https://localhost:8080/",
          "height": 690
        },
        "id": "6NcfUT8IcI-U",
        "outputId": "806c7842-9339-42f5-939d-efd6a536b03e"
      },
      "source": [
        "# Width \n",
        "automoveis_transform_df['Largura'].plot(kind=\"box\", figsize=(9,9))\n",
        "\n",
        "index = np.where(automoveis_transform_df['Largura'] == max(automoveis_transform_df['Largura']))\n",
        "\n",
        "print('Registros com valores extremos:', automoveis_transform_df.loc[index], sep='\\n')"
      ],
      "execution_count": 11,
      "outputs": [
        {
          "output_type": "stream",
          "text": [
            "Registros com valores extremos:\n",
            "    Fabricante Combustível Portas Estilo Chassis    Tração  Comprimento  \\\n",
            "127    porsche         gas    two          hatch  traseira        175.7   \n",
            "\n",
            "     Largura  Altura Tipo de motor  Número de cilindros  Tamanho do motor  \\\n",
            "127     72.3    50.5         dohcv                    8             203.0   \n",
            "\n",
            "    Tipo de injeção  Potência (HP)  Pico RPM     Preço  \n",
            "127            mpfi          288.0    5750.0  13207.13  \n"
          ],
          "name": "stdout"
        },
        {
          "output_type": "display_data",
          "data": {
            "image/png": "[encoded data removed]",
            "text/plain": [
              "<Figure size 648x648 with 1 Axes>"
            ]
          },
          "metadata": {
            "tags": [],
            "needs_background": "light"
          }
        }
      ]
    },
    {
      "cell_type": "code",
      "metadata": {
        "colab": {
          "base_uri": "https://localhost:8080/",
          "height": 741
        },
        "id": "qF0mayQKRSXR",
        "outputId": "a14043ec-036d-47da-86ff-ec35e0d9b6a2"
      },
      "source": [
        "# Height\n",
        "automoveis_transform_df['Altura'].plot(kind=\"box\", figsize=(9,9))\n",
        "\n",
        "index = np.where(automoveis_transform_df['Altura'] == max(automoveis_transform_df['Altura']))\n",
        "\n",
        "print('Registros com valores extremos:', automoveis_transform_df.loc[index], sep='\\n')"
      ],
      "execution_count": 12,
      "outputs": [
        {
          "output_type": "stream",
          "text": [
            "Registros com valores extremos:\n",
            "    Fabricante Combustível Portas Estilo Chassis     Tração  Comprimento  \\\n",
            "27       dodge         gas   four            suv  dianteira        174.6   \n",
            "121   plymouth         gas   four            suv  dianteira        174.6   \n",
            "\n",
            "     Largura  Altura Tipo de motor  Número de cilindros  Tamanho do motor  \\\n",
            "27      64.6    59.8           ohc                    4             122.0   \n",
            "121     64.6    59.8           ohc                    4             122.0   \n",
            "\n",
            "    Tipo de injeção  Potência (HP)  Pico RPM   Preço  \n",
            "27             2bbl           88.0    5000.0  8921.0  \n",
            "121            2bbl           88.0    5000.0  8921.0  \n"
          ],
          "name": "stdout"
        },
        {
          "output_type": "display_data",
          "data": {
            "image/png": "[encoded data removed]",
            "text/plain": [
              "<Figure size 648x648 with 1 Axes>"
            ]
          },
          "metadata": {
            "tags": [],
            "needs_background": "light"
          }
        }
      ]
    },
    {
      "cell_type": "code",
      "metadata": {
        "colab": {
          "base_uri": "https://localhost:8080/",
          "height": 690
        },
        "id": "rZivRlQMRu4J",
        "outputId": "cc926005-9b0b-42b5-976a-1638e585bc39"
      },
      "source": [
        "# Number of Cylinders\n",
        "automoveis_transform_df['Número de cilindros'].plot(kind=\"box\", figsize=(9,9))\n",
        "\n",
        "index = np.where(automoveis_transform_df['Número de cilindros'] == max(automoveis_transform_df['Número de cilindros']))\n",
        "\n",
        "print('Registros com valores extremos:', automoveis_transform_df.loc[index], sep='\\n')"
      ],
      "execution_count": 13,
      "outputs": [
        {
          "output_type": "stream",
          "text": [
            "Registros com valores extremos:\n",
            "   Fabricante Combustível Portas Estilo Chassis    Tração  Comprimento  \\\n",
            "48     jaguar         gas    two          sedan  traseira        191.7   \n",
            "\n",
            "    Largura  Altura Tipo de motor  Número de cilindros  Tamanho do motor  \\\n",
            "48     70.6    47.8          ohcv                   12             326.0   \n",
            "\n",
            "   Tipo de injeção  Potência (HP)  Pico RPM    Preço  \n",
            "48            mpfi          262.0    5000.0  36000.0  \n"
          ],
          "name": "stdout"
        },
        {
          "output_type": "display_data",
          "data": {
            "image/png": "[encoded data removed]",
            "text/plain": [
              "<Figure size 648x648 with 1 Axes>"
            ]
          },
          "metadata": {
            "tags": [],
            "needs_background": "light"
          }
        }
      ]
    },
    {
      "cell_type": "markdown",
      "metadata": {
        "id": "N0Oz80iWTFB5"
      },
      "source": [
        "#### Cilindros de um veículo\n",
        "Como podemos notar pelo gráfico de outliers, não foi uma boa escolha adotar esta variável como valor contínuo uma vez que temos um número finito de cilindros vale a pena considerá-lo como uma variável Categórica."
      ]
    },
    {
      "cell_type": "code",
      "metadata": {
        "id": "lsBcspVCUzVu"
      },
      "source": [
        "automoveis_transform_df['Número de cilindros'] = automoveis_transform_df['Número de cilindros'].astype('category')"
      ],
      "execution_count": 14,
      "outputs": []
    },
    {
      "cell_type": "code",
      "metadata": {
        "colab": {
          "base_uri": "https://localhost:8080/"
        },
        "id": "9eZAM3vmVvwO",
        "outputId": "9a52fdad-2442-4a4d-d70d-888779649a9a"
      },
      "source": [
        "automoveis_transform_df.info()"
      ],
      "execution_count": 15,
      "outputs": [
        {
          "output_type": "stream",
          "text": [
            "<class 'pandas.core.frame.DataFrame'>\n",
            "RangeIndex: 205 entries, 0 to 204\n",
            "Data columns (total 15 columns):\n",
            " #   Column               Non-Null Count  Dtype   \n",
            "---  ------               --------------  -----   \n",
            " 0   Fabricante           205 non-null    category\n",
            " 1   Combustível          205 non-null    category\n",
            " 2   Portas               205 non-null    category\n",
            " 3   Estilo Chassis       205 non-null    category\n",
            " 4   Tração               205 non-null    category\n",
            " 5   Comprimento          205 non-null    float64 \n",
            " 6   Largura              205 non-null    float64 \n",
            " 7   Altura               205 non-null    float64 \n",
            " 8   Tipo de motor        205 non-null    category\n",
            " 9   Número de cilindros  205 non-null    category\n",
            " 10  Tamanho do motor     205 non-null    float64 \n",
            " 11  Tipo de injeção      205 non-null    category\n",
            " 12  Potência (HP)        205 non-null    float64 \n",
            " 13  Pico RPM             205 non-null    float64 \n",
            " 14  Preço                205 non-null    float64 \n",
            "dtypes: category(8), float64(7)\n",
            "memory usage: 15.3 KB\n"
          ],
          "name": "stdout"
        }
      ]
    },
    {
      "cell_type": "code",
      "metadata": {
        "colab": {
          "base_uri": "https://localhost:8080/",
          "height": 690
        },
        "id": "dkNtCzCgV-vs",
        "outputId": "3dcff33e-7ff8-4c24-96ff-26beace3d170"
      },
      "source": [
        "# Engine Size\n",
        "automoveis_transform_df['Tamanho do motor'].plot(kind=\"box\", figsize=(9,9))\n",
        "\n",
        "index = np.where(automoveis_transform_df['Tamanho do motor'] == max(automoveis_transform_df['Tamanho do motor']))\n",
        "\n",
        "print('Registros com valores extremos:', automoveis_transform_df.loc[index], sep='\\n')"
      ],
      "execution_count": 16,
      "outputs": [
        {
          "output_type": "stream",
          "text": [
            "Registros com valores extremos:\n",
            "   Fabricante Combustível Portas Estilo Chassis    Tração  Comprimento  \\\n",
            "48     jaguar         gas    two          sedan  traseira        191.7   \n",
            "\n",
            "    Largura  Altura Tipo de motor Número de cilindros  Tamanho do motor  \\\n",
            "48     70.6    47.8          ohcv                  12             326.0   \n",
            "\n",
            "   Tipo de injeção  Potência (HP)  Pico RPM    Preço  \n",
            "48            mpfi          262.0    5000.0  36000.0  \n"
          ],
          "name": "stdout"
        },
        {
          "output_type": "display_data",
          "data": {
            "image/png": "[encoded data removed]",
            "text/plain": [
              "<Figure size 648x648 with 1 Axes>"
            ]
          },
          "metadata": {
            "tags": [],
            "needs_background": "light"
          }
        }
      ]
    },
    {
      "cell_type": "code",
      "metadata": {
        "colab": {
          "base_uri": "https://localhost:8080/"
        },
        "id": "ybtNqZ_ZWX3l",
        "outputId": "825477e4-efe4-4da6-8775-90c91cc6813d"
      },
      "source": [
        "float_fields = automoveis_transform_df.dtypes[automoveis_transform_df.dtypes == 'float64'].index\n",
        "corr = np.corrcoef(automoveis_transform_df[float_fields].transpose())\n",
        "correlation = pd.DataFrame(data=corr, index=float_fields, columns=float_fields)\n",
        "\n",
        "print(\"\\Matriz de correlação dos atributos float:\\n{}\".format(correlation))"
      ],
      "execution_count": 17,
      "outputs": [
        {
          "output_type": "stream",
          "text": [
            "\\Matriz de correlação dos atributos float:\n",
            "                  Comprimento  Largura  Altura  Tamanho do motor  \\\n",
            "Comprimento              1.00     0.84    0.49              0.68   \n",
            "Largura                  0.84     1.00    0.28              0.74   \n",
            "Altura                   0.49     0.28    1.00              0.07   \n",
            "Tamanho do motor         0.68     0.74    0.07              1.00   \n",
            "Potência (HP)            0.55     0.64   -0.11              0.81   \n",
            "Pico RPM                 0.02    -0.05    0.02             -0.05   \n",
            "Preço                    0.68     0.73    0.13              0.86   \n",
            "\n",
            "                  Potência (HP)  Pico RPM  Preço  \n",
            "Comprimento            5.54e-01  1.97e-02   0.68  \n",
            "Largura                6.42e-01 -5.32e-02   0.73  \n",
            "Altura                -1.10e-01  2.07e-02   0.13  \n",
            "Tamanho do motor       8.11e-01 -4.72e-02   0.86  \n",
            "Potência (HP)          1.00e+00 -7.09e-03   0.76  \n",
            "Pico RPM              -7.09e-03  1.00e+00   0.04  \n",
            "Preço                  7.58e-01  4.30e-02   1.00  \n"
          ],
          "name": "stdout"
        }
      ]
    },
    {
      "cell_type": "markdown",
      "metadata": {
        "id": "BRXwJ2o9Yj2H"
      },
      "source": [
        "### Conclusões\n",
        "Podemos identificar certos padrões em cima de nossos atributos, se considerar que uma forte correlação entre atributos de ser acima de 0.75. \n",
        "\n",
        "Temos uma ligação interessante entre o Tamanho do Motor com o Preço do veículo, índice de 0.86: \n",
        "- Carros com motores maiores tendem a ter um custo de fabricação maior\n",
        "\n",
        "Podemos tirar como conclusão, também baseando no Preço, a relação com a Potência (HP) cujo índice é de 0.76:\n",
        "- A potência do veículo depende das peças que seu motor é fabricado, normalmente carros com maior potência tem um peso maior em suas peças que compõem o motor, gerando assim preço maior"
      ]
    },
    {
      "cell_type": "code",
      "metadata": {
        "colab": {
          "base_uri": "https://localhost:8080/"
        },
        "id": "WVXWwbT7zdvz",
        "outputId": "285cfa86-c085-48d7-f07c-3bba80e9b8a5"
      },
      "source": [
        "print(\"\\nDimensões:\\n{0}\\n\".format(automoveis_transform_df.shape))\n",
        "print(\"\\nCampos:\\n{0}\\n\".format(list(automoveis_transform_df.keys())))\n",
        "print(\"\\nTipos dos dados:\\n{0}\\n\".format(automoveis_transform_df.dtypes))\n",
        "print(automoveis_transform_df.describe(percentiles=[]))"
      ],
      "execution_count": 18,
      "outputs": [
        {
          "output_type": "stream",
          "text": [
            "\n",
            "Dimensões:\n",
            "(205, 15)\n",
            "\n",
            "\n",
            "Campos:\n",
            "['Fabricante', 'Combustível', 'Portas', 'Estilo Chassis', 'Tração', 'Comprimento', 'Largura', 'Altura', 'Tipo de motor', 'Número de cilindros', 'Tamanho do motor', 'Tipo de injeção', 'Potência (HP)', 'Pico RPM', 'Preço']\n",
            "\n",
            "\n",
            "Tipos dos dados:\n",
            "Fabricante             category\n",
            "Combustível            category\n",
            "Portas                 category\n",
            "Estilo Chassis         category\n",
            "Tração                 category\n",
            "Comprimento             float64\n",
            "Largura                 float64\n",
            "Altura                  float64\n",
            "Tipo de motor          category\n",
            "Número de cilindros    category\n",
            "Tamanho do motor        float64\n",
            "Tipo de injeção        category\n",
            "Potência (HP)           float64\n",
            "Pico RPM                float64\n",
            "Preço                   float64\n",
            "dtype: object\n",
            "\n",
            "       Comprimento  Largura  Altura  Tamanho do motor  Potência (HP)  \\\n",
            "count       205.00   205.00  205.00            205.00         205.00   \n",
            "mean        174.05    65.91   53.72            126.91         104.26   \n",
            "std          12.34     2.15    2.44             41.64          39.52   \n",
            "min         141.10    60.30   47.80             61.00          48.00   \n",
            "50%         173.20    65.50   54.10            120.00          95.00   \n",
            "max         208.10    72.30   59.80            326.00         288.00   \n",
            "\n",
            "        Pico RPM     Preço  \n",
            "count     205.00    205.00  \n",
            "mean    10727.32  13207.13  \n",
            "std     56645.35   7868.77  \n",
            "min      4150.00   5118.00  \n",
            "50%      5200.00  10595.00  \n",
            "max    580000.00  45400.00  \n"
          ],
          "name": "stdout"
        }
      ]
    },
    {
      "cell_type": "markdown",
      "metadata": {
        "id": "l4vDF7hH0ztU"
      },
      "source": [
        "### Preparando a BASE para o Treinamento"
      ]
    },
    {
      "cell_type": "code",
      "metadata": {
        "colab": {
          "base_uri": "https://localhost:8080/",
          "height": 851
        },
        "id": "JQAH7pFq0xXp",
        "outputId": "8357d78a-0a2c-445c-d925-9e6888c97fb2"
      },
      "source": [
        "train_auto_df = pd.DataFrame({ \n",
        "    'Comprimento': automoveis_transform_df['Comprimento'],\n",
        "    'Largura': automoveis_transform_df['Largura'],\n",
        "    'Altura': automoveis_transform_df['Altura'],\n",
        "    'Tamanho do motor': automoveis_transform_df['Tamanho do motor'],\n",
        "    'Potência (HP)': automoveis_transform_df['Potência (HP)'],\n",
        "    'Pico RPM': automoveis_transform_df['Pico RPM'],\n",
        "    'Preço': automoveis_transform_df['Preço']\n",
        "})\n",
        "\n",
        "X = train_auto_df.iloc[:, 0:(train_auto_df.shape[1] - 1)]\n",
        "\n",
        "y = train_auto_df.iloc[:,(train_auto_df.shape[1] - 1)]\n",
        "\n",
        "# Recupera os nomes dos atributos\n",
        "\n",
        "atributos = list(train_auto_df)[0:(train_auto_df.shape[1] - 1)]\n",
        "rotulo = list(train_auto_df)[(train_auto_df.shape[1] - 1)]\n",
        "\n",
        "# Exibe o histograma dos atributos.\n",
        "fig, ax = plt.subplots(2, 3, figsize=(12, 6))\n",
        "plt.suptitle(\"Histograma dos atributos\")\n",
        "\n",
        "for i in range(0, 2):\n",
        "    for j in range(0, 3):\n",
        "        ax[i, j].hist(X.iloc[:,(i*3 + j)], label=atributos[i*3+j], bins=30)\n",
        "        ax[i, j].legend()\n",
        "\n",
        "fig, ax = plt.subplots(1, 1, figsize=(10, 6))\n",
        "plt.suptitle(\"Histograma dos Rotulos\")\n",
        "ax.hist(y.iloc[:],label=rotulo,bins=30)            \n",
        "ax.legend()\n",
        "\n",
        "\n",
        "# Amostragem de dados\n",
        "\n",
        "X_train, X_test, y_train, y_test = train_test_split(X, y, test_size=0.2, random_state=0)\n",
        "\n",
        "print(\"Base de treinamento:{0}\".format(X_train.shape))\n",
        "print(\"Base de teste:{0}\".format(X_test.shape))\n"
      ],
      "execution_count": 63,
      "outputs": [
        {
          "output_type": "stream",
          "text": [
            "Base de treinamento:(164, 6)\n",
            "Base de teste:(41, 6)\n"
          ],
          "name": "stdout"
        },
        {
          "output_type": "display_data",
          "data": {
            "image/png": "[encoded data removed]",
            "text/plain": [
              "<Figure size 864x432 with 6 Axes>"
            ]
          },
          "metadata": {
            "tags": [],
            "needs_background": "light"
          }
        },
        {
          "output_type": "display_data",
          "data": {
            "image/png": "[encoded data removed]",
            "text/plain": [
              "<Figure size 720x432 with 1 Axes>"
            ]
          },
          "metadata": {
            "tags": [],
            "needs_background": "light"
          }
        }
      ]
    },
    {
      "cell_type": "markdown",
      "metadata": {
        "id": "RPXg8zRb2MuU"
      },
      "source": [
        "### Treinamento por REGRESSÃO LINEAR"
      ]
    },
    {
      "cell_type": "code",
      "metadata": {
        "colab": {
          "base_uri": "https://localhost:8080/"
        },
        "id": "ZrAzxqLd2HVD",
        "outputId": "b87034f2-3b8b-4788-ad11-eae41d740685"
      },
      "source": [
        "lnr = LinearRegression()\n",
        "\n",
        "lnr.fit(X_train, y_train)\n",
        "\n",
        "y_prev = lnr.predict(X_test)\n",
        "\n",
        "print(\"Acurácia da base de treinamento: {:.2f}\".format(lnr.score(X_train, y_train)))\n",
        "print(\"Acurácia da base de testes: {:.2f}\".format(lnr.score(X_test, y_test)))\n",
        "\n",
        "print(\"Descrição do modelo: \")\n",
        "s = [\"{0}: {1:0.2f}\".format(a, v) for a, v in zip(atributos, lnr.coef_)]\n",
        "print(\"w: {}  b: {:.2f}\".format(s, lnr.intercept_))\n",
        "print(\"Número de atributos usados: {}\".format(np.sum(lnr.coef_ != 0)))"
      ],
      "execution_count": 64,
      "outputs": [
        {
          "output_type": "stream",
          "text": [
            "Acurácia da base de treinamento: 0.78\n",
            "Acurácia da base de testes: 0.75\n",
            "Descrição do modelo: \n",
            "w: ['Comprimento: 46.89', 'Largura: 451.99', 'Altura: 117.15', 'Tamanho do motor: 113.84', 'Potência (HP): 26.19', 'Pico RPM: 0.01']  b: -48375.90\n",
            "Número de atributos usados: 6\n"
          ],
          "name": "stdout"
        }
      ]
    },
    {
      "cell_type": "code",
      "metadata": {
        "colab": {
          "base_uri": "https://localhost:8080/",
          "height": 606
        },
        "id": "hHkQ1Bl1ATjx",
        "outputId": "0e33d2aa-9064-4f86-8755-16188b83e3da"
      },
      "source": [
        "# Calcula o erro absoluto e o erro percentual da regressao linear\n",
        "errolnr = np.abs(y_test - y_prev)\n",
        "erroperc = errolnr / list(y_test)\n",
        "\n",
        "print('Erro percentual:\\n Média: {0:.2f}  Max: {1:.2f}   Min: {2:.2f}'\n",
        "      .format(np.mean(erroperc), np.max(erroperc), np.min(erroperc)))\n",
        "\n",
        "plt.figure(figsize=(6, 4))\n",
        "plt.errorbar(np.arange(y_test.size), list(y_test), yerr=errolnr,\n",
        "             fmt='.', ecolor='r', capsize=3)\n",
        "plt.title(\"Valores reais (barras de erro de predição)\")\n",
        "plt.grid()\n",
        "\n",
        "fig, ax = plt.subplots(1, 2, figsize=(7, 4))\n",
        "plt.suptitle(\"Erros de previsão\")\n",
        "ax[0].plot(errolnr,'.')\n",
        "ax[0].set_xlabel(\"Erro absoluto\")\n",
        "ax[0].grid()\n",
        "ax[1].plot(erroperc,'.')\n",
        "ax[1].set_xlabel(\"Erro percentual\")\n",
        "ax[1].grid()"
      ],
      "execution_count": 65,
      "outputs": [
        {
          "output_type": "stream",
          "text": [
            "Erro percentual:\n",
            " Média: 0.19  Max: 0.58   Min: 0.01\n"
          ],
          "name": "stdout"
        },
        {
          "output_type": "display_data",
          "data": {
            "image/png": "[encoded data removed]",
            "text/plain": [
              "<Figure size 432x288 with 1 Axes>"
            ]
          },
          "metadata": {
            "tags": [],
            "needs_background": "light"
          }
        },
        {
          "output_type": "display_data",
          "data": {
            "image/png": "[encoded data removed]",
            "text/plain": [
              "<Figure size 504x288 with 2 Axes>"
            ]
          },
          "metadata": {
            "tags": [],
            "needs_background": "light"
          }
        }
      ]
    },
    {
      "cell_type": "markdown",
      "metadata": {
        "id": "7bWxjPjwDUj9"
      },
      "source": [
        "### TRANSFORMAÇÃO DE DADOS NUMÉRICOS\n",
        "\n",
        "Transformação dos atributos numérico passando por normalização logarítmica"
      ]
    },
    {
      "cell_type": "code",
      "metadata": {
        "colab": {
          "base_uri": "https://localhost:8080/",
          "height": 298
        },
        "id": "0PcpbScuBHJZ",
        "outputId": "52282dc0-6a71-400a-cd82-9d57e19d3aea"
      },
      "source": [
        "# Os atributos possuem faixas de valores diferentes, que influencia os pesos \n",
        "# dos coeficientes da regressão. Vamos trabalhar melhor os atributos.\n",
        "\n",
        "X_scale = X.copy()\n",
        "\n",
        "# Iremos aplicar o logaritmo em \"Potência (HP)\", \"Tamanho do motor\" e \"Preço\".\n",
        "\n",
        "X_scale['Potência (HP)'] = np.log10(X['Potência (HP)'])\n",
        "X_scale['Tamanho do motor'] = np.log10(X['Tamanho do motor'])\n",
        "y_scale = np.log10(y)\n",
        "\n",
        "# Normalização Min-Max dos dados.\n",
        "\n",
        "min_max_scaler = preprocessing.MinMaxScaler()\n",
        "min_max_scaler.fit(X_scale)\n",
        "X_scale = min_max_scaler.transform(X_scale)\n",
        "\n",
        "fig, ax = plt.subplots(1, 2, figsize=(6, 4))\n",
        "ax[0].hist(y,bins=30, label='Preço')\n",
        "ax[0].set_title('Preço')\n",
        "ax[1].hist(y_scale,bins=30, label='log10(Preço)')\n",
        "ax[1].set_title('log_10(Preço)')"
      ],
      "execution_count": 69,
      "outputs": [
        {
          "output_type": "execute_result",
          "data": {
            "text/plain": [
              "Text(0.5, 1.0, 'log_10(Preço)')"
            ]
          },
          "metadata": {
            "tags": []
          },
          "execution_count": 69
        },
        {
          "output_type": "display_data",
          "data": {
            "image/png": "[encoded data removed]",
            "text/plain": [
              "<Figure size 432x288 with 2 Axes>"
            ]
          },
          "metadata": {
            "tags": [],
            "needs_background": "light"
          }
        }
      ]
    },
    {
      "cell_type": "code",
      "metadata": {
        "colab": {
          "base_uri": "https://localhost:8080/",
          "height": 505
        },
        "id": "uknZDYicCs3_",
        "outputId": "9e805c6c-97c9-4327-b2cf-5a25b47e5f92"
      },
      "source": [
        "X_train2, X_test2, y_train2, y_test2 = train_test_split(X_scale, y_scale, test_size=0.1, random_state=0)\n",
        "\n",
        "lnr2 = LinearRegression().fit(X_train2, y_train2)\n",
        "\n",
        "y_prev2 = lnr2.predict(X_test2)\n",
        "\n",
        "errolnr2 = np.abs(y_test2 - y_prev2)\n",
        "errolnr2perc = np.abs(y_test2 - y_prev2)/y_test2\n",
        "plt.figure(figsize=(6, 4))\n",
        "plt.plot(erroperc,'o', label='Regressão com atrib. originais')\n",
        "plt.plot(errolnr2perc,'o', label='Regressão com atrib. normalizados')\n",
        "plt.title(\"Erro de previsão (em %)\")\n",
        "plt.legend()\n",
        "\n",
        "print(\"\\n--------------- Regressão Linear Normalizada ---------------\")\n",
        "print(\"Acurácia da base de treinamento: {:.2f}\".format(lnr2.score(X_train2, y_train2)))\n",
        "print(\"Acurácia da base de testes: {:.2f}\".format(lnr2.score(X_test2, y_test2)))\n",
        "print(\"Descrição do modelo: \")\n",
        "s = [\"{0}: {1:0.2f}\".format(a, v) for a, v in zip(atributos, lnr2.coef_)]\n",
        "print(\"w: {}  b: {:.2f}\".format(s, lnr2.intercept_))\n",
        "\n",
        "\n",
        "print(\"\\n------------------  Comparação de pesos   ------------------\")\n",
        "s = [\"{0}: {1:0.2f}\".format(a, v) for a, v in zip(atributos, lnr.coef_)]\n",
        "print(\"Original:\\n w: {}  b: {:.2f}\".format(s, lnr.intercept_))\n",
        "s = [\"{0}: {1:0.2f}\".format(a, v) for a, v in zip(atributos, lnr2.coef_)]\n",
        "print(\"Normalizado:\\n w: {}  b: {:.2f}\".format(s, lnr2.intercept_))"
      ],
      "execution_count": 72,
      "outputs": [
        {
          "output_type": "stream",
          "text": [
            "\n",
            "--------------- Regressão Linear Normalizada ---------------\n",
            "Acurácia da base de treinamento: 0.80\n",
            "Acurácia da base de testes: 0.78\n",
            "Descrição do modelo: \n",
            "w: ['Comprimento: 0.19', 'Largura: 0.22', 'Altura: 0.02', 'Tamanho do motor: 0.38', 'Potência (HP): 0.39', 'Pico RPM: 0.19']  b: 3.51\n",
            "\n",
            "------------------  Comparação de pesos   ------------------\n",
            "Original:\n",
            " w: ['Comprimento: 46.89', 'Largura: 451.99', 'Altura: 117.15', 'Tamanho do motor: 113.84', 'Potência (HP): 26.19', 'Pico RPM: 0.01']  b: -48375.90\n",
            "Normalizado:\n",
            " w: ['Comprimento: 0.19', 'Largura: 0.22', 'Altura: 0.02', 'Tamanho do motor: 0.38', 'Potência (HP): 0.39', 'Pico RPM: 0.19']  b: 3.51\n"
          ],
          "name": "stdout"
        },
        {
          "output_type": "display_data",
          "data": {
            "image/png": "[encoded data removed]",
            "text/plain": [
              "<Figure size 432x288 with 1 Axes>"
            ]
          },
          "metadata": {
            "tags": [],
            "needs_background": "light"
          }
        }
      ]
    },
    {
      "cell_type": "markdown",
      "metadata": {
        "id": "BZD497dIEwXl"
      },
      "source": [
        "# Conclusão Final\n",
        "\n",
        "Preparamos nossa base para usar o algoritmo de Regressão Linear, usamos como variável pivor o Preço dos carros que apresenta correlações com outros atributos, entretanto identificamos que nosso resultado da performance do modelo estava bem baixo. \n",
        "\n",
        "Ao analisar os gráficos de Histograma, podemos identificar que os atributos que mais se corelacionam estavam apresentando os dados assímetricos, que é considerado um ajuste ruim.\n",
        "\n",
        "Para tentar corrigir este erro, usamos um algoritmo, do tipo logaritmo, para 'consertar' estas curvas. Com isto nosso histograma ficou normalizado e por consequência melhorou a performance de nosso modelo de predição."
      ]
    }
  ]
}